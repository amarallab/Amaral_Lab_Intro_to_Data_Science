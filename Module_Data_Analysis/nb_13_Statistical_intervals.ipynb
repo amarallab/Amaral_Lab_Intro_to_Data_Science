{
 "cells": [
  {
   "cell_type": "markdown",
   "metadata": {},
   "source": [
    "# Synopsis\n",
    "\n",
    "With this notebook, we are getting to the practical side of statistics: inference.\n",
    "\n",
    "The big realization to have at this point is that samples are stochastic objects themselves. This fact takes away our ability to achieve certainty about the processes under study.\n",
    "\n",
    "##  Words to remember\n",
    "\n",
    "**statistical intervals**\n",
    "\n",
    "**confidence interval**\n",
    "\n",
    "**significance level**\n",
    "\n",
    "**confidence level**\n"
   ]
  },
  {
   "cell_type": "markdown",
   "metadata": {},
   "source": [
    "# Read libraries"
   ]
  },
  {
   "cell_type": "code",
   "execution_count": null,
   "metadata": {
    "ExecuteTime": {
     "end_time": "2023-02-07T19:53:12.670883Z",
     "start_time": "2023-02-07T19:53:11.957272Z"
    }
   },
   "outputs": [],
   "source": [
    "%load_ext autoreload\n",
    "%autoreload 2\n",
    "%matplotlib inline\n",
    "\n",
    "from colorama import Back, Fore, Style\n",
    "from copy import copy, deepcopy\n",
    "from pathlib import Path\n",
    "from sys import path\n",
    "\n",
    "path.append( str(Path.cwd().parent) )"
   ]
  },
  {
   "cell_type": "code",
   "execution_count": null,
   "metadata": {
    "ExecuteTime": {
     "end_time": "2023-02-07T19:53:14.623852Z",
     "start_time": "2023-02-07T19:53:13.582858Z"
    }
   },
   "outputs": [],
   "source": [
    "import matplotlib.pyplot as plt\n",
    "import numpy as np\n",
    "import scipy.stats as stats\n",
    "\n",
    "from matplotlib import gridspec\n",
    "from random import sample, choice, choices\n",
    "\n",
    "from Amaral_libraries.my_stats import half_frame\n"
   ]
  },
  {
   "cell_type": "code",
   "execution_count": null,
   "metadata": {
    "ExecuteTime": {
     "end_time": "2023-02-07T19:53:14.693239Z",
     "start_time": "2023-02-07T19:53:14.672571Z"
    }
   },
   "outputs": [],
   "source": [
    "my_fontsize = 15"
   ]
  },
  {
   "cell_type": "markdown",
   "metadata": {},
   "source": [
    "# Statistical intervals\n",
    "\n",
    "One can obtain a point estimate for a statistic from sample data.  The point estimate, however, does not tell us what the range of plausible values for the estimate is.  For that, we need a confidence interval.  Typically, the **confidence interval** is calculated from the same sample data used to obtain the point estimate.\n",
    "\n",
    "## Confidence Interval\n",
    "\n",
    "The width of a confidence interval conveys information about the precision of the estimation.  Short intervals indicate a precise estimate.  \n",
    "\n",
    "Note that **one cannot ever be certain that the confidence interval contains the true value of the parameter one is trying to estimate**.  \n",
    "\n",
    "Confidence interval are built for a certain degree of confidence, for example, 95%, and for a given sample size.  \n",
    "\n",
    "The confidence interval for the parameter $\\mu$ of a normal distribution obeys the relationship\n",
    "\n",
    "> $~~~~~~~~~~~ P( \\mu_L \\le \\mu \\le \\mu_U ) = 1 - \\alpha$\n",
    "\n",
    "where $0 \\le \\alpha \\le 1$, and $\\mu_L$ and $\\mu_U$ are the lower and upper bounds of the interval, respectively.  \n",
    "\n",
    "What this means is that **a random sample of the same size has a $1 - \\alpha$ probability of yielding a confidence interval that contains the true value of $\\mu$**.\n",
    "\n",
    "That is why we **do not** say that the confidence interval has a $1-\\alpha$ probability of containing $\\mu$.  We say that **we have $100(1-\\alpha)$% confidence that the interval contains $\\mu$**.\n",
    "\n",
    "<br><br><br><br>\n",
    "\n",
    "## Tolerance interval\n",
    "\n",
    "An important type of interval estimate is the tolerance interval.  The tolerance interval takes into consideration the fact that nearly always we do not know the true values of the mean or standard deviation. For that reason, if we want to be provide a more realistic estimate of the uncertainty in our point estimate, because, for example, the consequences of an error in the estimate can be catastrophic, then we must consider wider bounds on the range of plausible values for our estimate.\n",
    "\n",
    "## Prediction interval\n",
    "\n",
    "A prediction interval bounds future observations from a population or distribution. Recall that the tolerance and confidence interval bounds plausible values for a point estimate of a statistic such as the sample mean.  \n",
    "\n",
    "**The prediction interval bounds the plausible value for a single data point!**\n",
    "\n",
    "A prediction interval is typically (much) wider than a confidence interval, especially if the confidence interval is obtained from a large sample.\n",
    "\n",
    "<br><br><br><br>\n"
   ]
  },
  {
   "cell_type": "markdown",
   "metadata": {},
   "source": [
    "# Confidence intervals of the sample mean of a normal distribution\n",
    "\n",
    "## Variance is known\n",
    "\n",
    "For a random sample of size $n$ drawn from a normal distribution with mean $\\mu$ and variance $\\sigma^2$, we know that the sample mean obeys the condition:\n",
    "\n",
    "> $\\bar x \\to N\\left(\\mu, \\frac{\\sigma}{\\sqrt n} \\right)$\n",
    "\n",
    "thus, we can define a new random variable $Z$ that follows a *standard* normal distribution\n",
    "\n",
    "> $Z = \\frac{\\bar X - \\mu}{\\frac{\\sigma}{\\sqrt{n}}} \\to N(0, 1)$\n",
    "\n",
    "If we denote by $z_{\\alpha / 2}$ the **upper** $100\\alpha / 2$ percentile of the standard normal distribution, then the confidence interval for $\\mu - \\bar x$ is\n",
    "\n",
    "> $z_{\\alpha / 2} \\frac{\\sigma}{\\sqrt n} ~~\\le ~~\\mu - \\bar x  ~~\\le ~~z_{\\alpha / 2} \\frac{\\sigma}{\\sqrt n}$\n",
    "\n",
    "and it follows that \n",
    "\n",
    "> $\\bar x - z_{\\alpha / 2} \\frac{\\sigma}{\\sqrt n} ~~\\le ~~\\mu ~~\\le ~~\\bar x + z_{\\alpha / 2} \\frac{\\sigma}{\\sqrt n}$\n",
    "\n",
    "Two common values for $\\alpha$ are 0.05 and 0.01. The corresponding percentile values are 1.96 and 2.58.\n"
   ]
  },
  {
   "cell_type": "code",
   "execution_count": null,
   "metadata": {
    "ExecuteTime": {
     "end_time": "2023-02-07T21:02:33.369882Z",
     "start_time": "2023-02-07T21:02:33.092538Z"
    }
   },
   "outputs": [],
   "source": [
    "x1 = np.linspace(-4, 4, 800)\n",
    "f_x = stats.norm()\n",
    "\n",
    "x_u5 = f_x.ppf(1 - 0.05/2)\n",
    "x_u1 = f_x.ppf(1 - 0.01/2)\n",
    "\n",
    "fig = plt.figure( figsize = (8, 4.5) )\n",
    "ax = fig.add_subplot(1,1,1)\n",
    "half_frame(ax, \"x\", \"Probability density\", font_size = my_fontsize)\n",
    "\n",
    "# Calculate and plot histogram\n",
    "ax.plot(x1, f_x.pdf(x1), color = \"orange\", linewidth = 4)\n",
    "ax.set_xlim(-4, 4)\n",
    "ax.set_ylim(0, 0.5)\n",
    "\n",
    "# lines and text\n",
    "#\n",
    "ax.vlines([-x_u5, x_u5], 0.001, 0.42, colors = 'r')\n",
    "ax.hlines(0.42, -x_u5, x_u5, color = 'r')\n",
    "ax.text(0., 0.43, '95% confidence interval', ha = 'center', \n",
    "        fontsize = 0.8*my_fontsize )\n",
    "\n",
    "ax.vlines([-x_u1, x_u1], 0.001, 0.48, colors = 'b')\n",
    "ax.hlines(0.48, -x_u1, x_u1, color = 'b')\n",
    "ax.text(0., 0.49, '99% confidence interval', ha = 'center', \n",
    "        fontsize = 0.8*my_fontsize )\n",
    "\n",
    "\n",
    "plt.show()"
   ]
  },
  {
   "cell_type": "markdown",
   "metadata": {},
   "source": [
    "It follows that the width of the confidence interval grows with the confidence level. \n",
    "\n",
    "**So, how can one obtain a narrow confidence interval with high confidence?**\n",
    "\n",
    "Yes, you are correct (I hope!!)\n",
    "\n",
    "\n",
    "<br>\n",
    "\n",
    "<br>\n",
    "\n",
    "<br>\n",
    "\n",
    "\n",
    "## Variance is unknown\n",
    "\n",
    "Consider the sample mean for a normal distribution with unknown mean and unknown variance. Then, the random variable\n",
    "\n",
    "> $T = \\frac{\\bar X - \\mu}{\\frac{S}{\\sqrt n}}~~\\to ~~t(n-1)$  ,\n",
    "\n",
    "that is, it follows a **$t$ distribution** with $n-1$ degrees of freedom.\n",
    "\n",
    "If we denote by $t_{\\alpha / 2, n-1}$ the upper $100\\alpha / 2$ percentile of the $t$ distribution, then the confidence interval for $\\mu$ is\n",
    "\n",
    "> $\\bar x - t_{\\alpha / 2, n-1} \\frac{s}{\\sqrt n} ~~ \\le ~~\\mu ~~\\le ~~\\bar x + t_{\\alpha / 2, n-1} \\frac{s}{\\sqrt n}$\n"
   ]
  },
  {
   "cell_type": "code",
   "execution_count": null,
   "metadata": {
    "ExecuteTime": {
     "end_time": "2023-02-07T21:04:03.073232Z",
     "start_time": "2023-02-07T21:04:02.710783Z"
    }
   },
   "outputs": [],
   "source": [
    "x1 = np.linspace(-6, 6, 800)\n",
    "alpha = 0.05\n",
    "\n",
    "fig = plt.figure( figsize = (8, 4.5) )\n",
    "ax = fig.add_subplot(1,1,1)\n",
    "\n",
    "half_frame(ax, \"x\", \"Probability density\", font_size = my_fontsize)\n",
    "ax.set_xlim(-6, 6)\n",
    "ax.set_ylim(0.001, 1)\n",
    "\n",
    "# For standard normal\n",
    "#\n",
    "f_x = stats.norm()\n",
    "ax.plot(x1, f_x.pdf(x1), 'r--', linewidth = 3, alpha = 1, label = \"N(0, 1)\")\n",
    "\n",
    "z = f_x.ppf(1 - alpha/2)\n",
    "ax.vlines([-z, z], 0.001, 0.4, linestyle = '--', color = 'r')\n",
    "\n",
    "# For t-distributions with different N-1 degrees of freedom\n",
    "#\n",
    "for my_color, N in zip(['b', 'cyan', 'purple', 'orange'], [4, 8, 16, 32]):\n",
    "    f_x1 = stats.t(N-1)\n",
    "    ax.semilogy( x1, f_x1.pdf(x1), linewidth = 2, alpha = 0.8, color = my_color, \n",
    "                 label = f'N = {N}' )\n",
    "\n",
    "    t_n = f_x1.ppf(1 - alpha/2)\n",
    "    ax.vlines([-t_n, t_n], 0.001, 0.4, colors = my_color)\n",
    "\n",
    "\n",
    "ax.legend(loc = (1.0, 0.6), frameon = False, markerscale = 1.8, \n",
    "          fontsize = my_fontsize)\n",
    "\n",
    "plt.show()"
   ]
  },
  {
   "cell_type": "markdown",
   "metadata": {},
   "source": [
    "As you can see in the graph, for $n = 4$, the interval is about twice as wide as for the case of a known variance, but for $n > 10$, the increase in interval width is already getting quite small.\n",
    "\n",
    "<br><br>\n",
    "\n",
    "# Confidence intervals of the sample variance of a normal distribution\n",
    "\n",
    "Consider the sample standard deviation for a normal distribution with unknown mean and unknown variance. Then, the random variable\n",
    "\n",
    "$X^2 = \\frac{(n-1)}{\\sigma^2}~ S^2 ~~ \\to ~~ \\chi^2(n-1)$  ,\n",
    "\n",
    "that is, it follows a $\\chi^2$ distribution with $n-1$ degrees of freedom.\n",
    "\n",
    "If we denote by $\\chi^2_{\\alpha / 2, n-1}$ the upper $100\\alpha / 2$ percentile of the $\\chi^2$ distribution, then the confidence interval for $\\sigma^2$ is\n",
    "\n",
    "$\\frac{(n-1)}{\\chi^2_{\\alpha / 2, n-1}}~s^2 ~~\\le~~ \\sigma^2 ~~\\le ~~\\frac{(n-1)}{\\chi^2_{1-\\alpha / 2, n-1}}~s^2$\n",
    "\n",
    "Notice the the term $\\chi^2_{\\alpha / 2, n-1}$ appears in the denominator, so the closer it gets to $n-1$ the tighter the confidence intervals for $\\sigma^2$ are around the observed value of $s^2$.\n",
    "\n",
    "We can use this expression to obtain the confidence intervals for the standard deviation:\n",
    "\n",
    "> $\\sqrt \\frac{(n-1)}{\\chi^2_{\\alpha / 2, n-1}}~s ~~\\le~~ \\sigma ~~\\le ~~\\sqrt \\frac{(n-1)}{\\chi^2_{1-\\alpha / 2, n-1}}~s$"
   ]
  },
  {
   "cell_type": "code",
   "execution_count": null,
   "metadata": {
    "ExecuteTime": {
     "end_time": "2023-02-07T21:04:45.383808Z",
     "start_time": "2023-02-07T21:04:45.237074Z"
    }
   },
   "outputs": [],
   "source": [
    "fig = plt.figure( figsize = (8, 4.5) )\n",
    "ax = fig.add_subplot(1,1,1)\n",
    "\n",
    "half_frame(ax, \"$(N-1) / \\chi^2$\", \"Probability density\", font_size = my_fontsize)\n",
    "\n",
    "i = 0\n",
    "for my_color, N in zip(['cyan', 'purple', 'orange'], [8, 16, 32]):\n",
    "    i += 1\n",
    "    rv = stats.chi2(N-1)\n",
    "    x1 = np.linspace(rv.ppf(0.0001), rv.ppf(0.9999), num = 500)\n",
    "\n",
    "    # Calculate and plot histogram\n",
    "    ax.plot((N-1)/x1, rv.pdf(x1)*x1*x1/(N-1), linewidth = 2, color = my_color, \n",
    "            label = f\"N = {N}\")\n",
    "\n",
    "    x2_n_plus = stats.chi2.ppf(1-0.05/2, N-1)\n",
    "    x2_n_minus = stats.chi2.ppf(0.05/2, N-1)\n",
    "    ax.vlines([(N-1)/x2_n_minus, (N-1)/x2_n_plus], 0.001, 0.5*i, \n",
    "              colors = my_color)\n",
    "\n",
    "    \n",
    "ax.set_xlim(0, 5)\n",
    "ax.set_ylim(0, 1.75)\n",
    "ax.legend(loc = 'best', frameon = False, markerscale = 1.8, \n",
    "          fontsize = my_fontsize)\n",
    "\n",
    "plt.show()"
   ]
  },
  {
   "cell_type": "markdown",
   "metadata": {},
   "source": [
    "<br><br>\n",
    "\n",
    "# Confidence intervals of the sample proportion for large $n$\n",
    "\n",
    "\n",
    "Consider the random variable\n",
    "\n",
    "> $~~~~~~~~~~Z = \\frac{X - np}{\\sqrt{np(1-p)}}$\n",
    "\n",
    "where $n$ and $p$ are the parameters of a binomial process.  Then, $Z$ is approximately distributed as a standard normal (as long a $np \\gg 1$). \n",
    "\n",
    "If we denote by $z_{\\alpha / 2}$ the upper $100\\alpha / 2$ percentile of the standard normal  distribution, then the confidence interval for $p$ is\n",
    "\n",
    "> $~~~~~~~~\\hat p - z_{\\alpha / 2} \\sqrt{\\frac{\\hat p ~(1 - \\hat p)}{n}}~~ \\le ~~p ~~\\le ~~\\hat p + z_{\\alpha / 2} \\sqrt{\\frac{\\hat p ~(1 - \\hat p)}{n}}$\n",
    "\n",
    "\n"
   ]
  },
  {
   "cell_type": "markdown",
   "metadata": {},
   "source": [
    "# Confidence intervals for random variables not normally-distributed\n",
    "\n",
    "\n",
    "## When we know the distribution\n",
    "\n",
    "If we know the distribution from which our sample was drawn, then we can use **Monte Carlo methods** to simulate the process of generating samples and efficiently determine the confidence intervals (in fact, any statistical intervals).\n",
    "\n",
    "In the cell below, we will write example code for the case were a sample was drawn from an exponential distribution.\n",
    "\n",
    "Let's assume for concreteness, that we have a sample of size $n = 20$ and sample mean $\\bar x = \\sqrt 2$.\n",
    "\n",
    "> Generate a large number of **synthetic samples** drawn from an exponential distribution and with parameter $\\tau = {\\bar x}$.\n",
    ">\n",
    "> > Note that the number of synthetic samples will depend on the desired significance level $\\alpha$.  For example, if $\\alpha = 0.05$, then the desired confidence interval is the 95% one.  That means that you will need at least 20 synthetic samples to be able to define a **CI95**.  In fact, having at least several fold that number would be better.\n",
    ">\n",
    "> Calculate the sample mean of each of the synthetic samples.\n",
    ">\n",
    "> Calculate the 2.5 percentile, and the 97.5 percentile of the set of sample means of the synthetic samples. \n",
    "\n",
    "These values provide the bounds of the **CI95**.\n",
    "\n",
    "**For fun**, plot also the distribution of samples means of the synthetic samples, and mark on the graph the CI95 and the mean of the distribution from which you drew the samples.\n"
   ]
  },
  {
   "cell_type": "code",
   "execution_count": null,
   "metadata": {
    "ExecuteTime": {
     "end_time": "2021-02-27T16:58:13.159026Z",
     "start_time": "2021-02-27T16:58:13.095960Z"
    }
   },
   "outputs": [],
   "source": []
  },
  {
   "cell_type": "markdown",
   "metadata": {},
   "source": [
    "## When we do not know the distribution\n",
    "\n",
    "If we do not really have any idea from which distribution our sample was drawn, then we have to use **bootstrap**.\n",
    "\n",
    "The distribution of GPAs is not exactly a Gaussian (see [previous notebook](nb_12_Estimation.ipynb)).  How could we use the data and bootstrapping to estimate a confidence interval for the sample mean of the data?\n",
    "\n",
    "We would do pretty much the same procedure described above.  However, the first step above would be replaced with\n",
    "\n",
    "> Generate a large number of synthetic samples with the same size as the original sample but using bootstrapping.\n",
    "\n",
    "Try it!\n"
   ]
  },
  {
   "cell_type": "code",
   "execution_count": null,
   "metadata": {},
   "outputs": [],
   "source": []
  },
  {
   "cell_type": "code",
   "execution_count": null,
   "metadata": {},
   "outputs": [],
   "source": []
  }
 ],
 "metadata": {
  "kernelspec": {
   "display_name": "Python [conda env:new_base] *",
   "language": "python",
   "name": "conda-env-new_base-py"
  },
  "language_info": {
   "codemirror_mode": {
    "name": "ipython",
    "version": 3
   },
   "file_extension": ".py",
   "mimetype": "text/x-python",
   "name": "python",
   "nbconvert_exporter": "python",
   "pygments_lexer": "ipython3",
   "version": "3.11.4"
  },
  "latex_envs": {
   "LaTeX_envs_menu_present": true,
   "autoclose": false,
   "autocomplete": true,
   "bibliofile": "biblio.bib",
   "cite_by": "apalike",
   "current_citInitial": 1,
   "eqLabelWithNumbers": true,
   "eqNumInitial": 1,
   "hotkeys": {
    "equation": "Ctrl-E",
    "itemize": "Ctrl-I"
   },
   "labels_anchors": false,
   "latex_user_defs": false,
   "report_style_numbering": false,
   "user_envs_cfg": false
  },
  "toc": {
   "base_numbering": 1,
   "nav_menu": {},
   "number_sections": true,
   "sideBar": true,
   "skip_h1_title": false,
   "title_cell": "Table of Contents",
   "title_sidebar": "Contents",
   "toc_cell": false,
   "toc_position": {
    "height": "calc(100% - 180px)",
    "left": "10px",
    "top": "150px",
    "width": "167.8px"
   },
   "toc_section_display": true,
   "toc_window_display": true
  },
  "varInspector": {
   "cols": {
    "lenName": 16,
    "lenType": 16,
    "lenVar": 40
   },
   "kernels_config": {
    "python": {
     "delete_cmd_postfix": "",
     "delete_cmd_prefix": "del ",
     "library": "var_list.py",
     "varRefreshCmd": "print(var_dic_list())"
    },
    "r": {
     "delete_cmd_postfix": ") ",
     "delete_cmd_prefix": "rm(",
     "library": "var_list.r",
     "varRefreshCmd": "cat(var_dic_list()) "
    }
   },
   "types_to_exclude": [
    "module",
    "function",
    "builtin_function_or_method",
    "instance",
    "_Feature"
   ],
   "window_display": false
  }
 },
 "nbformat": 4,
 "nbformat_minor": 2
}
