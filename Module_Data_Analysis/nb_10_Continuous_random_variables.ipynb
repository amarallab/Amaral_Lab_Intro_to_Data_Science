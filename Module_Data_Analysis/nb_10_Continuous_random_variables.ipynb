{
 "cells": [
  {
   "cell_type": "markdown",
   "metadata": {},
   "source": [
    "# Synopsis\n",
    "\n",
    "This notebook reviews some of the most frequently used continuous random variables.\n",
    "\n",
    "* uniform\n",
    "* exponential\n",
    "* Gaussian\n",
    "* log-normal\n",
    "* beta\n",
    "* power-law\n",
    "* gamma\n",
    "\n"
   ]
  },
  {
   "cell_type": "markdown",
   "metadata": {},
   "source": [
    "# Read libraries"
   ]
  },
  {
   "cell_type": "code",
   "execution_count": null,
   "metadata": {
    "ExecuteTime": {
     "end_time": "2023-01-05T20:03:28.475876Z",
     "start_time": "2023-01-05T20:03:27.961726Z"
    }
   },
   "outputs": [],
   "source": [
    "%load_ext autoreload\n",
    "%autoreload 2\n",
    "%matplotlib inline\n",
    "\n",
    "from colorama import Back, Fore, Style\n",
    "from pathlib import Path\n",
    "from sys import path\n",
    "\n",
    "path.append( str(Path.cwd().parent) )\n",
    "path"
   ]
  },
  {
   "cell_type": "code",
   "execution_count": null,
   "metadata": {
    "ExecuteTime": {
     "end_time": "2023-01-05T20:03:29.047288Z",
     "start_time": "2023-01-05T20:03:29.012966Z"
    }
   },
   "outputs": [],
   "source": [
    "my_fontsize = 15"
   ]
  },
  {
   "cell_type": "code",
   "execution_count": null,
   "metadata": {
    "ExecuteTime": {
     "end_time": "2023-01-05T20:03:34.400850Z",
     "start_time": "2023-01-05T20:03:34.055985Z"
    }
   },
   "outputs": [],
   "source": [
    "import matplotlib.pyplot as plt\n",
    "import numpy as np\n",
    "import scipy.stats as stats\n",
    "\n",
    "from copy import copy\n",
    "\n",
    "from Amaral_libraries.my_stats import half_frame\n"
   ]
  },
  {
   "cell_type": "markdown",
   "metadata": {
    "ExecuteTime": {
     "end_time": "2019-02-11T15:09:33.048170Z",
     "start_time": "2019-02-11T15:09:33.042329Z"
    }
   },
   "source": [
    "# Continuous random variables\n",
    "\n",
    "In this notebook, I give an overview of some commonly found distributions of continuous random variables.  This overview has two goals.  The first and most important reason is to provide a vocabulary with which to describe or model random processes.  Just as when trying to communicative in a new language, you need to memorize words in order to be able to express yourself effectively, when describing the properties of a random process you will find it useful to make reference to these distributions.\n",
    "\n",
    "The second reason is that it provides, in some cases, the justification for the type of random processes that may give rise to a specified distribution.\n",
    "\n",
    "\n",
    "## Uniform distribution \n",
    "\n",
    "Occurs for equi-probable random events.  The probability of an event is the inverse of length of the support interval, thus, the support must be finite. \n",
    "\n",
    "The probability density function is:\n",
    "\n",
    "> $f(x; a, b) = \\frac{1}{b-a}    ~~~~~~$ for      $~~~ a \\le x \\le b$."
   ]
  },
  {
   "cell_type": "code",
   "execution_count": null,
   "metadata": {
    "ExecuteTime": {
     "end_time": "2022-12-26T20:59:42.953640Z",
     "start_time": "2022-12-26T20:59:42.685792Z"
    }
   },
   "outputs": [],
   "source": [
    "a = 0\n",
    "b = 5\n",
    "x = np.linspace(a, b)\n",
    "f_x = stats.uniform(a, b)  # Generates asymptotic (frozen in scipy lingo) \n",
    "                           # distribution .rvs( size)\n",
    "\n",
    "fig = plt.figure( figsize = (6, 4.5) )\n",
    "fig.text(0, 1, 'Uniform', fontsize = 1.5*my_fontsize)\n",
    "ax = fig.add_subplot(1,1,1)\n",
    "\n",
    "half_frame(ax, \"$x$\", \"\", font_size = my_fontsize)\n",
    "\n",
    "# Calculate and plot histogram\n",
    "ax.plot(x, f_x.pdf(x), color = \"g\", linewidth = 2, \n",
    "        label = \"Density\")\n",
    "ax.plot(x, f_x.cdf(x), color = \"b\", linewidth = 2,  \n",
    "        label = \"Cumulative\")\n",
    "ax.plot(x, f_x.sf(x), color = \"r\", linewidth = 2, \n",
    "        label = \"Survival\")\n",
    "\n",
    "ax.set_ylim(0, 1)\n",
    "\n",
    "# Format legend\n",
    "ax.legend(loc = (1.0, 0.6), frameon = False, markerscale = 1.8, \n",
    "          fontsize = my_fontsize)\n",
    "\n",
    "plt.show()"
   ]
  },
  {
   "cell_type": "markdown",
   "metadata": {},
   "source": [
    "## Exponential distribution \n",
    "\n",
    "Occurs for failure events. The probability density function is:\n",
    "\n",
    "> $f(x; \\lambda) = \\lambda ~e^{- \\lambda x}~~~~~$     for       $ x, \\lambda \\ge 0$.\n",
    "\n",
    "Another formulation is:\n",
    "\n",
    "> $f(x; \\tau) = \\frac{1}{\\tau} ~e^{- x / \\tau}~~~~~$     for       $ x, \\tau \\ge 0$.\n",
    "\n",
    "The mean and the standard deviation of the exponential equal $\\tau$, the mode is at 0, and the median equals $\\tau\\ln 2$. \n",
    "\n",
    "The `scipy` package use the $\\tau$ formulation, and allows for shifting the location of the random variable: \n",
    "\n",
    "> $Y = X + \\mu$ .\n",
    "\n",
    "We can then use the approach introduced in the section about functions of random variables to obtain the corresponding probability density.\n",
    "\n",
    "> $f(y; \\tau)~dy = f(x; \\tau)~dx ~~~ \\Rightarrow ~~~ f(y; \\tau) = f(x; \\tau)~ \\frac{dx}{dy} = \n",
    "f(y-\\mu; \\tau) \\times 1 =  \\frac{1}{\\tau}~e^{-(y - \\mu)/\\tau} $.\n",
    "\n",
    "Renaming $y$ as $x$, we obtain\n",
    "\n",
    "> $f(x; \\mu, \\tau) = \\frac{1}{\\tau}~e^{-(x - \\mu)/\\tau} ~~~~~$     for       $ x \\ge \\mu$."
   ]
  },
  {
   "cell_type": "code",
   "execution_count": null,
   "metadata": {
    "ExecuteTime": {
     "end_time": "2022-12-26T21:04:45.866831Z",
     "start_time": "2022-12-26T21:04:45.726623Z"
    }
   },
   "outputs": [],
   "source": [
    "x = np.linspace(0, 10, 1000)\n",
    "\n",
    "mu_0 = 0\n",
    "tau_0 = 1.\n",
    "f_x0 = stats.expon(mu_0, tau_0)\n",
    "\n",
    "mu_1 = 4\n",
    "tau_1 = 2.\n",
    "f_x1= stats.expon(mu_1, tau_1)\n",
    "\n",
    "mu_2 = 1.\n",
    "tau_2 = 1.\n",
    "f_x2 = stats.expon(mu_2, tau_2)\n",
    "\n",
    "# Plot\n",
    "#\n",
    "fig = plt.figure( figsize = (8, 4.5) )\n",
    "fig.text(0, 1.0, 'Exponential', fontsize = 1.5*my_fontsize)\n",
    "ax = fig.add_subplot(1,1,1)\n",
    "\n",
    "half_frame(ax, \"x\", \"Probability density\", \n",
    "           font_size = my_fontsize)\n",
    "\n",
    "ax.plot(x, f_x0.pdf(x), color = \"orange\", linewidth = 2,  \n",
    "        label = f\"$\\mu = ${mu_0:.1f}, $~ \\\\tau = ${tau_0:.1f}\")\n",
    "ax.plot(x, f_x2.pdf(x), color = \"k\", linewidth = 2,  \n",
    "        label = f\"$\\mu = ${mu_2:.1f}, $~ \\\\tau = ${tau_2:.1f}\")\n",
    "ax.plot(x, f_x1.pdf(x), color = \"blue\", linewidth = 2,  \n",
    "        label = f\"$\\mu = ${mu_1:.1f}, $~ \\\\tau = ${tau_1:.1f}\")\n",
    "\n",
    "# ax.semilogy(x, f_x0.pdf(x), color = \"orange\", linewidth = 2, alpha = 0.9, \n",
    "#             label = \"Probability density\")\n",
    "\n",
    "ax.set_ylim(0, 1)\n",
    "ax.set_xlim(0, 10)\n",
    "\n",
    "# Format legend\n",
    "ax.legend(loc = 'best', frameon = False, markerscale = 1.8, \n",
    "          fontsize = my_fontsize)\n",
    "\n",
    "\n",
    "plt.show()"
   ]
  },
  {
   "cell_type": "markdown",
   "metadata": {},
   "source": [
    "The exponential distribution can be seen as **the continuous limit** of the geometric distribution.\n"
   ]
  },
  {
   "cell_type": "code",
   "execution_count": null,
   "metadata": {
    "ExecuteTime": {
     "end_time": "2022-12-26T21:05:05.979082Z",
     "start_time": "2022-12-26T21:05:05.831948Z"
    }
   },
   "outputs": [],
   "source": [
    "# Geometric\n",
    "#\n",
    "p = 0.2\n",
    "k = np.arange(0, int(0.5 + stats.geom.ppf(0.999, p)))\n",
    "f_k = stats.geom(p)\n",
    "\n",
    "# Exponential \n",
    "#\n",
    "tau = 1. / p\n",
    "x = np.linspace(0, 6 * tau, 1000)\n",
    "mu = 0\n",
    "f_x = stats.expon(mu, tau)\n",
    "\n",
    "\n",
    "# Plot\n",
    "#\n",
    "fig = plt.figure( figsize = (8, 4.5) )\n",
    "fig.text(0, 1.0, 'Geometric vs. Exponential', fontsize = 1.5*my_fontsize)\n",
    "ax = fig.add_subplot(1,1,1)\n",
    "\n",
    "half_frame(ax, \"k, x\", \"\", \n",
    "           font_size = my_fontsize)\n",
    "\n",
    "ax.vlines(k-1, 0, f_k.pmf(k), color = \"g\", linewidth = 2, alpha = 0.6, \n",
    "          label = \"$p = 0.2$\")\n",
    "ax.plot(x, f_x.pdf(x), color = \"orange\", linewidth = 2,  \n",
    "        label = \"$\\mu = 0, ~\\\\tau = 5$\")\n",
    "# ax.semilogy(x, f_x0.pdf(x), color = \"orange\", linewidth = 2, alpha = 0.9, \n",
    "#             label = \"Probability density\")\n",
    "\n",
    "ax.set_ylim(0, 0.2)\n",
    "ax.set_xlim(0, 30)\n",
    "\n",
    "# Format legend\n",
    "ax.legend(loc = 'best', frameon = False, markerscale = 1.8, \n",
    "          fontsize = my_fontsize)\n",
    "\n",
    "\n",
    "plt.show()"
   ]
  },
  {
   "cell_type": "markdown",
   "metadata": {},
   "source": [
    "## Gaussian distribution \n",
    "\n",
    "The **central limit theorem** states that the sum of $N$ independent, identically-distributed (i.i.d.) and with finite standard deviation random variables converge to a Gaussian distribution as $N \\to \\infty$.\n",
    "\n",
    "This distribution is also called normal and bell-shaped. The probability density for the **standard normal** is\n",
    "\n",
    "> $\\phi(z) = \\frac{1}{\\sqrt{2\\pi}} ~e^{- z^2 / 2}$.\n",
    "\n",
    "The mean, median, and mode are $0$; the standard deviation is 1. \n"
   ]
  },
  {
   "cell_type": "code",
   "execution_count": null,
   "metadata": {
    "ExecuteTime": {
     "end_time": "2022-12-26T21:05:18.871357Z",
     "start_time": "2022-12-26T21:05:18.741307Z"
    }
   },
   "outputs": [],
   "source": [
    "z = np.linspace(-6, 6, 1000) \n",
    "f_z = stats.norm()\n",
    "\n",
    "fig = plt.figure( figsize = (8, 4.5) )\n",
    "fig.text(0, 1.0, 'Standard normal', fontsize = 1.5*my_fontsize)\n",
    "ax = fig.add_subplot(1,1,1)\n",
    "\n",
    "half_frame(ax, \"z\", \"\", font_size = my_fontsize)\n",
    "\n",
    "# Calculate and plot histogram\n",
    "ax.plot(z, f_z.sf(z), color = \"r\", linewidth = 2, \n",
    "        label = \"Survival\")\n",
    "ax.plot(z, f_z.pdf(z), color = \"g\", linewidth = 2,  \n",
    "        label = \"Density\")\n",
    "# ax.semilogy(z, f.pdf(z), color = \"g\", linewidth = 2, alpha = 0.5, \n",
    "#             label = \"Probability density\")\n",
    "ax.plot(z, f_z.cdf(z), color = \"b\", linewidth = 2, \n",
    "        label = \"Cumulative\")\n",
    "\n",
    "ax.set_ylim(0, 1)\n",
    "ax.set_xlim(-6, 6)\n",
    "\n",
    "# Format legend\n",
    "ax.legend(loc = 'best', frameon = False, markerscale = 1.8, \n",
    "          fontsize = my_fontsize)\n",
    "\n",
    "\n",
    "plt.show()"
   ]
  },
  {
   "cell_type": "markdown",
   "metadata": {},
   "source": [
    "Both the location $\\mu$ and spread $\\sigma$ can take values different from the standard ones:\n",
    "\n",
    "> $X = \\sigma Z + \\mu$\n",
    "\n",
    "and the probability density becomes:\n",
    "\n",
    "> $f(x; \\mu, \\sigma) = \\frac{1}{\\sqrt{2\\pi\\sigma}}~ e^{- (x - \\mu)^2 / 2\\sigma^2}$ .\n",
    "\n",
    "**Can you see where the name `z-score` comes from?**\n",
    "\n"
   ]
  },
  {
   "cell_type": "code",
   "execution_count": null,
   "metadata": {
    "ExecuteTime": {
     "end_time": "2022-12-26T21:05:27.191260Z",
     "start_time": "2022-12-26T21:05:27.040668Z"
    }
   },
   "outputs": [],
   "source": [
    "x = np.linspace(-6, 6, 1000) \n",
    "\n",
    "f_z = stats.norm()\n",
    "\n",
    "mu, sigma = 0.5, 0.5\n",
    "f_x = stats.norm(mu, sigma)\n",
    "\n",
    "fig = plt.figure( figsize = (8, 4.5) )\n",
    "fig.text(0, 1.0, 'Standard vs non-standard normal', \n",
    "        fontsize = 1.5*my_fontsize)\n",
    "ax = fig.add_subplot(1,1,1)\n",
    "\n",
    "half_frame(ax, \"x\", \"Probability density\", font_size = my_fontsize)\n",
    "\n",
    "# Calculate and plot histogram\n",
    "ax.plot(x, f_z.pdf(x), color = \"blue\", linewidth = 2,  \n",
    "        label = \"Standard\")\n",
    "ax.plot(x, f_x.pdf(x), color = \"orange\", linewidth = 2,  \n",
    "        label = f\"$\\\\mu = ${mu:.1f}, $\\\\sigma = ${sigma:.1f}\")\n",
    "\n",
    "ax.set_ylim(0, 1)\n",
    "ax.set_xlim(-6, 6)\n",
    "\n",
    "# Format legend\n",
    "ax.legend(loc = (0.7, 0.7), frameon = False, markerscale = 1.8, \n",
    "          fontsize = my_fontsize)\n",
    "\n",
    "\n",
    "plt.show()"
   ]
  },
  {
   "cell_type": "markdown",
   "metadata": {},
   "source": [
    "### Testing the central limit theorem computationally"
   ]
  },
  {
   "cell_type": "code",
   "execution_count": null,
   "metadata": {
    "ExecuteTime": {
     "end_time": "2022-12-26T21:05:36.203996Z",
     "start_time": "2022-12-26T21:05:36.041209Z"
    }
   },
   "outputs": [],
   "source": [
    "# Number and type of random variables being summed\n",
    "#\n",
    "n = 30    # Try other values\n",
    "my_random = stats.uniform # Notice that we are storing a function in a variable\n",
    "                          # Try other distributions\n",
    "\n",
    "a, b = 0, 1\n",
    "my_mean = 0.5\n",
    "my_var = (b - a) / 12.\n",
    "\n",
    "# Corresponding Gaussian model\n",
    "#\n",
    "mu = n * my_mean\n",
    "sigma = np.sqrt(n * my_var)\n",
    "x = np.linspace(stats.norm.ppf(0.0001, mu, sigma), \n",
    "                stats.norm.ppf(0.9999, mu, sigma))\n",
    "f_x = stats.norm(mu, sigma)\n",
    "\n",
    "\n",
    "many_times = 500\n",
    "sample_of_sums = []\n",
    "for i in range(many_times):\n",
    "    sample  = my_random.rvs(a, b, size = n)\n",
    "    sample_of_sums.append(sum(sample))\n",
    "\n",
    "    \n",
    "fig = plt.figure( figsize = (8, 4.5))\n",
    "ax = fig.add_subplot(111)\n",
    "\n",
    "half_frame(ax, f\"x, Sum of {n} variables\", \"Probability density\", \n",
    "           font_size = my_fontsize)\n",
    "\n",
    "ax.hist(sample_of_sums, bins = 30, density = True)\n",
    "ax.plot(x, f_x.pdf(x), color = \"r\", linewidth = 4, alpha = 0.9)\n",
    "\n",
    "\n",
    "plt.show()"
   ]
  },
  {
   "cell_type": "markdown",
   "metadata": {},
   "source": [
    "## Log-normal distribution \n",
    "\n",
    "Consider a random variable $X$ that is the product of other random variables with finite variance.  If we obtain the logarithm of $X$, then it is expressed as the sum of the logarithms of the other random variables.  Thus, the logarithm of $X$ will obey the central limit theorem and its distribution will converge to the Gaussian distribution.  $X$, in turn, will be distributed as a log-normal.\n",
    "\n",
    "The probability density function is:\n",
    "\n",
    "> $f(x; \\mu, \\sigma) = \\frac{1}{x~\\sigma~\\sqrt{2\\pi}} ~ \\exp\\left(-\\frac{[(\\ln x) - \\mu]^2}{2s^2}\\right)$\n",
    "\n",
    "for $x > 0$, and $\\sigma > 0$.\n",
    "\n",
    "The median of the lognormal is $e^{\\mu}$ and the mode is $e^{\\mu - \\sigma^2}$.\n"
   ]
  },
  {
   "cell_type": "code",
   "execution_count": null,
   "metadata": {
    "ExecuteTime": {
     "end_time": "2022-12-26T21:05:42.149058Z",
     "start_time": "2022-12-26T21:05:41.690799Z"
    }
   },
   "outputs": [],
   "source": [
    "sigma, mu =  1., 1.\n",
    "\n",
    "x = np.linspace( stats.lognorm.ppf(0.001, sigma, scale = np.exp(mu)), \n",
    "                 stats.lognorm.ppf(0.99, sigma, scale = np.exp(mu)), 5000)\n",
    "f_x1 = stats.lognorm(sigma, scale = np.exp(mu))\n",
    "f_x2 = stats.lognorm(sigma, scale = np.exp(2*mu))\n",
    "\n",
    "fig = plt.figure( figsize = (15, 4.5) )\n",
    "fig.text(0, 1.05, 'Lognormal', fontsize = 1.5*my_fontsize)\n",
    "ax = []\n",
    "\n",
    "# Left panel\n",
    "#\n",
    "ax.append( fig.add_subplot(1,2,1) )\n",
    "half_frame(ax[-1], \"x\", \"Probability density\", font_size = my_fontsize)\n",
    "\n",
    "ax[-1].plot(x, f_x1.pdf(x), color = \"blue\", linewidth = 2, \n",
    "          label = \"$\\mu = 1, \\sigma = 1.$\")\n",
    "ax[-1].plot(x, f_x2.pdf(x), color = \"orange\", linewidth = 2, \n",
    "          label = \"$\\mu = 2, \\sigma = 1.$\")\n",
    "\n",
    "ax[-1].set_ylim(0, 0.25 )\n",
    "\n",
    "# Figure annotations\n",
    "#\n",
    "ax[-1].vlines(np.exp(mu - sigma**2), 0, 0.25, color = '0.4')\n",
    "ax[-1].text(np.exp(mu - sigma**2)+0.5, 0.24, 'Mode',  color = 'blue',\n",
    "            fontsize = 1.2*my_fontsize)\n",
    "\n",
    "ax[-1].vlines(np.exp(mu), 0, 0.20, color = '0.2')\n",
    "ax[-1].text(np.exp(mu)+0.5, 0.20, 'Mean', color = 'blue',\n",
    "            fontsize = 1.2*my_fontsize)\n",
    "\n",
    "ax[-1].vlines(np.exp(2*mu), 0, 0.10, color = '0.2')\n",
    "ax[-1].text(np.exp(2*mu)+0.5, 0.10, 'Mean', color = 'orange',\n",
    "            fontsize = 1.2*my_fontsize)\n",
    "\n",
    "# Legend\n",
    "ax[-1].legend(loc = 'best', frameon = False, markerscale = 1.8, \n",
    "          fontsize = my_fontsize)\n",
    "\n",
    "# Right panel\n",
    "#\n",
    "ax.append( fig.add_subplot(1,2,2) )\n",
    "half_frame(ax[-1], \"x\", \"\", font_size = my_fontsize)\n",
    "\n",
    "ax[-1].loglog(x, f_x1.pdf(x), color = \"b\", linewidth = 3, alpha = 0.5, \n",
    "          label = \"\")\n",
    "\n",
    "ax[-1].vlines(np.exp(mu - sigma**2), 0, 0.3, color = '0.4')\n",
    "ax[-1].vlines(np.exp(mu), 0, 0.3, color = '0.2')\n",
    "\n",
    "\n",
    "plt.tight_layout()"
   ]
  },
  {
   "cell_type": "markdown",
   "metadata": {},
   "source": [
    "## Beta distribution \n",
    "\n",
    "The beta distribution is a family of continuous probability distributions defined on the interval [0, 1] parametrized by two positive shape parameters, denoted by $\\alpha$ and $\\beta$, that appear as exponents of the random variable and control the shape of the distribution. It is a special case of the **Dirichlet distribution**.\n",
    "\n",
    "**The beta distribution is a suitable model for the random behavior of percentages and proportions**. The beta distribution has been applied to model the behavior of random variables limited to intervals of finite length in a wide variety of disciplines.\n",
    "\n",
    "In Bayesian inference, the beta distribution is the conjugate prior probability distribution for the Bernoulli, binomial, negative binomial and geometric distributions. For example, the beta distribution can be used in Bayesian analysis to describe initial knowledge concerning probability of success such as the probability that a space vehicle will successfully complete a specified mission.  \n",
    "\n",
    "The probability density function is:\n",
    "\n",
    "> $f(x; \\alpha, \\beta) = \\frac{\\Gamma(\\alpha + \\beta)}{\\Gamma(\\alpha) \\Gamma(\\beta)} ~ x^{\\alpha - 1} ~ (1-x)^{\\beta -1}~~~~~$ for $0 \\le x \\le 1$ \n",
    "\n",
    "\n",
    "where $\\Gamma$ is the gamma function.\n",
    "\n",
    "The shape of the distribution (single-peak versus bimodal) is determined by whether $\\alpha = \\beta$ and whether they are smaller or greater than 1.\n",
    "\n",
    "The mean of the distribution is $\\frac{\\alpha}{\\alpha + \\beta}$.\n",
    "\n",
    "The mode is:\n",
    "\n",
    "> $\\frac{\\alpha -1 }{\\alpha + \\beta - 2}$ for $\\alpha, \\beta > 1$, \n",
    ">\n",
    "> $0$ and $1$ for $\\alpha, \\beta < 1$ (bimodal)\n",
    ">\n",
    "> $0$ for $\\alpha \\le 1$ and $\\beta > 1$, \n",
    ">\n",
    "> $1$ for $\\alpha > 1$ and $\\beta \\le 1$.\n",
    "\n",
    "For $\\alpha, \\beta = 1$, the distribution is uniform, so there is no mode (or all points are the mode)."
   ]
  },
  {
   "cell_type": "code",
   "execution_count": null,
   "metadata": {
    "ExecuteTime": {
     "end_time": "2022-12-26T21:06:06.522370Z",
     "start_time": "2022-12-26T21:06:06.374674Z"
    }
   },
   "outputs": [],
   "source": [
    "# Try other parameter values\n",
    "#\n",
    "alpha1, beta1 = 3., 2.\n",
    "f_x1 = stats.beta(alpha1, beta1)\n",
    "\n",
    "alpha2, beta2 = 0.5, 0.4\n",
    "f_x2 = stats.beta(alpha2, beta2)\n",
    "\n",
    "x = np.linspace(0, 1, num = 100)\n",
    "\n",
    "fig = plt.figure( figsize = (8, 4.5) )\n",
    "fig.text(0, 1.0, 'Beta', fontsize = 1.5*my_fontsize)\n",
    "ax = fig.add_subplot(1,1,1)\n",
    "\n",
    "half_frame(ax, \"x\", \"Probability density\", font_size = my_fontsize)\n",
    "\n",
    "my_label1 = \"$\\\\alpha =$\" + f\"{alpha1:0.1f}, \" + \"$\\\\beta =$\" + f\"{beta1:0.1f}\"\n",
    "ax.plot(x, f_x1.pdf(x), color = \"b\", linewidth = 2, \n",
    "        label = my_label1 )\n",
    "\n",
    "my_label2 = \"$\\\\alpha =$\" + f\"{alpha2:0.1f}, \" + \"$\\\\beta =$\" + f\"{beta2:0.1f}\"\n",
    "ax.plot(x, f_x2.pdf(x), color = \"orange\", linewidth = 2,  \n",
    "        label = my_label2 )\n",
    "\n",
    "ax.set_xlim(0, 1)\n",
    "ax.set_ylim(0, 4)\n",
    "\n",
    "# Legend\n",
    "ax.legend(loc = 'best', frameon = False, markerscale = 1.8, \n",
    "          fontsize = my_fontsize)\n",
    "\n",
    "\n",
    "plt.show()"
   ]
  },
  {
   "cell_type": "markdown",
   "metadata": {},
   "source": [
    "## Gamma distribution \n",
    "\n",
    "The gamma distribution is a two-parameter family of continuous probability distributions. The probability density function is:\n",
    "\n",
    "> $f(x; \\alpha, \\beta) = \\frac{\\beta^\\alpha}{\\Gamma(\\alpha)} ~ x^{\\alpha - 1} ~ e^{-\\beta x}~~~~~$  for $x \\ge 0$ \n",
    "\n",
    "where $\\Gamma$ is the gamma function, and $\\alpha, \\beta > 0$. The mean of the gamma distribution is $\\frac{\\alpha}{\\beta}$ and the standard deviation is $\\frac{\\sqrt{\\alpha}}{\\beta}$.\n",
    "\n",
    "The mode is\n",
    "\n",
    "> $\\frac{\\alpha - 1}{\\beta}~~~$ for $\\alpha \\ge 1$, \n",
    ">\n",
    "> $0~~~~~~$ for $\\alpha < 1$.\n",
    "\n",
    "\n",
    "There are three special cases of the gamma distribution:\n",
    "\n",
    "> $\\alpha = 1 \\rightarrow$  the exponential distribution,\n",
    ">\n",
    "> $\\alpha \\in \\mathbb{N} \\rightarrow$ the Erlang distribution,\n",
    ">\n",
    "> $\\beta = k/2, ~~~~ k \\in \\mathbb{N} \\rightarrow$ the $\\chi ^2$ distribution with $k$ degrees of freedom.  \n",
    "\n",
    "For $\\alpha \\gg 1$, the Gamma distribution converges to normal distribution with mean $\\frac{\\alpha}{\\beta}$ and variance $\\frac{\\alpha}{\\beta ^2}$.\n"
   ]
  },
  {
   "cell_type": "code",
   "execution_count": null,
   "metadata": {
    "ExecuteTime": {
     "end_time": "2022-12-19T17:37:23.976483Z",
     "start_time": "2022-12-19T17:37:23.645681Z"
    }
   },
   "outputs": [],
   "source": [
    "alpha, location, beta = 0.4, 0., 5\n",
    "x = np.linspace(stats.gamma.ppf(0.00001, alpha, location, beta), \n",
    "                stats.gamma.ppf(0.9999, alpha, location, beta), 500)\n",
    "f_x = stats.gamma(alpha, location, beta)\n",
    "\n",
    "\n",
    "\n",
    "fig = plt.figure( figsize = (6, 4.5) )\n",
    "fig.text(0, 1.0, 'Gamma', fontsize = 1.5*my_fontsize)\n",
    "ax = fig.add_subplot(1,1,1)\n",
    "\n",
    "half_frame(ax, \"x\", \"Probability density\", font_size = my_fontsize)\n",
    "\n",
    "# Calculate and plot histogram\n",
    "ax.loglog(x, f_x.pdf(x), color = \"g\", linewidth = 2, \n",
    "          label = f\"$\\\\alpha = ${alpha}\\n$\\\\beta = ${beta}\")\n",
    "\n",
    "# Format legend\n",
    "ax.legend(loc = 'best', frameon = False, markerscale = 1.8, \n",
    "          fontsize = my_fontsize)\n",
    "\n",
    "plt.show()"
   ]
  },
  {
   "cell_type": "markdown",
   "metadata": {},
   "source": [
    "## Power-law distribution\n",
    "\n",
    "Consider a random variable $Y$ that follows an exponential distribution with parameter $\\tau = (\\alpha - 1)^{-1}$. Then, the random variable $X = e^Y$ will have the probability density:\n",
    "\n",
    "> $f(x; \\alpha) = (\\alpha - 1) ~x^{-\\alpha}~~~~~~$ for $x > 1$.\n"
   ]
  },
  {
   "cell_type": "code",
   "execution_count": null,
   "metadata": {
    "ExecuteTime": {
     "end_time": "2022-12-26T21:07:17.325660Z",
     "start_time": "2022-12-26T21:07:17.009543Z"
    }
   },
   "outputs": [],
   "source": [
    "x = np.linspace(1, 10, 500) \n",
    "\n",
    "alpha1 = 2\n",
    "tau1 = 1/ (alpha1 - 1)\n",
    "f_x1 = stats.expon(0, tau1)\n",
    "\n",
    "alpha2 = 3\n",
    "tau2 = 1/ (alpha2 - 1)\n",
    "f_x2 = stats.expon(0, tau2)\n",
    "\n",
    "\n",
    "fig = plt.figure( figsize = (8, 4.5) )\n",
    "fig.text(0, 1.0, 'Power law', fontsize = 1.5*my_fontsize)\n",
    "ax = fig.add_subplot(1,1,1)\n",
    "\n",
    "half_frame(ax, \"x\", \"Probability density\", font_size = my_fontsize)\n",
    "\n",
    "ax.loglog(np.exp(x), f_x1.pdf(x) / np.exp(x) , color = \"b\", \n",
    "          linewidth = 2, label = f\"$\\\\alpha =${alpha1:.1f}\")\n",
    "ax.loglog(np.exp(x), f_x2.pdf(x) / np.exp(x) , color = \"orange\", \n",
    "          linewidth = 2, label = f\"$\\\\alpha =${alpha2:.1f}\")\n",
    "ax.loglog(np.exp(x), (alpha1 - 1) / np.exp(x*(alpha1)) , '--', color = \"k\", \n",
    "          linewidth = 1, label = \"$x^{-2}$\")\n",
    "ax.loglog(np.exp(x), (alpha2 - 1) / np.exp(x*(alpha2)), '-.', color = \"k\", \n",
    "          linewidth = 1, label = \"$2~x^{-3}$\")\n",
    "\n",
    "# Format legend\n",
    "ax.legend(loc = 'best', frameon = False, markerscale = 1.8, \n",
    "          fontsize = my_fontsize)\n",
    "\n",
    "plt.show()"
   ]
  },
  {
   "cell_type": "markdown",
   "metadata": {},
   "source": [
    "# Lévy stable distribution \n",
    "\n",
    "In probability theory, a distribution is said to be stable if a linear combination of two independent random variables with this distribution has the same distribution, up to location and scale parameters. A random variable is said to be stable if its distribution is stable. The importance of stable probability distributions is that they are **attractors** for properly normed sums of independent and identically distributed (iid) random variables.\n",
    "\n",
    "The stable distribution family is also sometimes referred to as the Lévy $\\alpha$-stable distribution, after Paul Lévy, the first mathematician to have studied it.\n",
    "\n",
    "The probability density function does not have a closed mathematical form except for some parameter values. Of the four parameters defining the family, most attention has been focused on the stability parameter, $\\alpha$.\n",
    "The distributions have undefined variance for $\\alpha <2$, and undefined mean for $\\alpha \\leq 1$. \n",
    "\n",
    "Stable distributions have $0< \\alpha \\leq 2$, with the upper bound corresponding to the **normal distribution**,  $\\alpha = 1$ to the **Cauchy distribution**, and $\\alpha = 1/2$ to the **Lévy distribution** (for $\\beta = 1$) and the **Lévy-l distribution** (for $\\beta = -1$).\n",
    "\n",
    "\n",
    "## Cauchy distribution\n",
    "\n",
    "The probability density function of the standard Cauchy distribution is: \n",
    "\n",
    "> $f(x) = \\frac{1}{\\pi ~(x^2 + 1)}$.\n",
    "\n",
    "With location $\\mu$ and scale $s$, the probability density becomes:\n",
    "\n",
    "> $f(x; \\mu, s) = \\frac{s^2}{\\pi ~\\left[ (x - \\mu)^2  + s^2 ~\\right]}$.\n",
    "\n",
    "**Both the mean and the standard deviation of the Cauchy distribution are undefined**.\n"
   ]
  },
  {
   "cell_type": "code",
   "execution_count": null,
   "metadata": {
    "ExecuteTime": {
     "end_time": "2022-12-26T21:07:36.997788Z",
     "start_time": "2022-12-26T21:07:36.739364Z"
    }
   },
   "outputs": [],
   "source": [
    "x = np.linspace(-100, 100, 500)\n",
    "\n",
    "mu1, s1 = 0., 3.\n",
    "f_x1 = stats.cauchy(mu1, s1)\n",
    "\n",
    "mu2, s2 = 0., 5.\n",
    "f_x2 = stats.cauchy(mu2, s2)\n",
    "\n",
    "fig = plt.figure( figsize = (6, 4.5) )\n",
    "fig.text(0, 1.0, 'Cauchy', fontsize = 1.5*my_fontsize)\n",
    "ax = fig.add_subplot(1,1,1)\n",
    "\n",
    "half_frame(ax, \"x\", \"Probability density\", font_size = my_fontsize)\n",
    "\n",
    "ax.semilogy(x, f_x1.pdf(x), color = \"b\", linewidth = 2,  \n",
    "          label = f\"$\\\\mu = ${mu1:.1f}\\n$s = ${s1:.1f}\")\n",
    "ax.plot(x, f_x2.pdf(x), color = \"orange\", linewidth = 2,  \n",
    "          label = f\"$\\\\mu = ${mu2:.1f}\\n$s = ${s2:.1f}\")\n",
    "\n",
    "# Format legend\n",
    "ax.legend(loc = 'best', frameon = False, markerscale = 1.8, \n",
    "          fontsize = my_fontsize)\n",
    "\n",
    "plt.show()"
   ]
  },
  {
   "cell_type": "markdown",
   "metadata": {},
   "source": [
    "## Lévy distribution\n",
    "The probability density function of the standard Lévy distribution is: \n",
    "\n",
    "> $f(x) = \\sqrt{\\frac{1}{2\\pi}} ~ x^{-3/2} ~ e^{-\\frac{1}{2x}} ~~~~~~$ for $x \\ge 0$ .\n",
    "\n",
    "With location $\\mu$ and scale $s$, the probability density becomes:\n",
    "\n",
    "> $f(x; \\mu, s) = \\sqrt{\\frac{s}{2\\pi}} ~ (x - \\mu)^{-3/2} ~ e^{-\\frac{s}{2(x - \\mu)}} ~~~~~~$ for $x \\ge \\mu$ .\n",
    "\n",
    "Both the mean and the standard deviation of the Lévy distribution are undefined. The mode is $\\mu + \\frac{s}{3}$\n",
    "\n",
    "The probability density function of the **Lévy-l distribution** is: \n",
    "\n",
    "> $f(x; \\mu, s) = \\sqrt{\\frac{s}{2\\pi}} ~ |x - \\mu|^{-3/2} ~ e^{-\\frac{s}{2|x - \\mu|}} ~~~~~~$ for $x \\le 0$ .\n",
    "\n",
    "where, again, $\\mu$ is the location parameter and $s$ is the scale parameter.\n",
    "\n"
   ]
  },
  {
   "cell_type": "code",
   "execution_count": null,
   "metadata": {
    "ExecuteTime": {
     "end_time": "2022-12-26T21:07:47.835450Z",
     "start_time": "2022-12-26T21:07:47.383262Z"
    }
   },
   "outputs": [],
   "source": [
    "x = np.linspace(0, 1000, 50000)\n",
    "\n",
    "mu1, s1 = 0., 1.\n",
    "f_x1 = stats.levy(mu1, s1)\n",
    "\n",
    "mu2, s2 = 0., 3.\n",
    "f_x2 = stats.levy(mu2, s2)\n",
    "\n",
    "mu3, s3 = 1., 3.\n",
    "f_x3 = stats.levy(mu3, s3)\n",
    "\n",
    "fig = plt.figure( figsize = (6, 4.5) )\n",
    "fig.text(0, 1.0, 'Lévy', fontsize = 1.5*my_fontsize)\n",
    "ax = fig.add_subplot(1,1,1)\n",
    "\n",
    "half_frame(ax, \"x\", \"Probability density\", font_size = my_fontsize)\n",
    "\n",
    "ax.loglog(x, f_x1.pdf(x), color = \"k\", linewidth = 2,  \n",
    "          label = f\"$\\\\mu = ${mu1:.1f}, $s = ${s1:.1f}\")\n",
    "ax.plot(x, f_x2.pdf(x), color = \"b\", linewidth = 2,  \n",
    "          label = f\"$\\\\mu = ${mu2:.1f}, $s = ${s2:.1f}\")\n",
    "ax.plot(x, f_x3.pdf(x), color = \"orange\", linewidth = 2,  \n",
    "          label = f\"$\\\\mu = ${mu3:.1f}, $s = ${s3:.1f}\")\n",
    "\n",
    "ax.set_xlim(0.01, 100)\n",
    "ax.set_ylim(0.00001, 1)\n",
    "\n",
    "# Format legend\n",
    "ax.legend(loc = (1, 0.7), frameon = False, markerscale = 1.8, \n",
    "          fontsize = my_fontsize)\n",
    "\n",
    "plt.show()"
   ]
  },
  {
   "cell_type": "code",
   "execution_count": null,
   "metadata": {},
   "outputs": [],
   "source": []
  },
  {
   "cell_type": "code",
   "execution_count": null,
   "metadata": {},
   "outputs": [],
   "source": []
  },
  {
   "cell_type": "code",
   "execution_count": null,
   "metadata": {},
   "outputs": [],
   "source": []
  }
 ],
 "metadata": {
  "kernelspec": {
   "display_name": "base",
   "language": "python",
   "name": "base"
  },
  "language_info": {
   "codemirror_mode": {
    "name": "ipython",
    "version": 3
   },
   "file_extension": ".py",
   "mimetype": "text/x-python",
   "name": "python",
   "nbconvert_exporter": "python",
   "pygments_lexer": "ipython3",
   "version": "3.9.12"
  },
  "latex_envs": {
   "LaTeX_envs_menu_present": true,
   "autoclose": false,
   "autocomplete": true,
   "bibliofile": "biblio.bib",
   "cite_by": "apalike",
   "current_citInitial": 1,
   "eqLabelWithNumbers": true,
   "eqNumInitial": 1,
   "hotkeys": {
    "equation": "Ctrl-E",
    "itemize": "Ctrl-I"
   },
   "labels_anchors": false,
   "latex_user_defs": false,
   "report_style_numbering": false,
   "user_envs_cfg": false
  },
  "toc": {
   "base_numbering": 1,
   "nav_menu": {},
   "number_sections": true,
   "sideBar": true,
   "skip_h1_title": false,
   "title_cell": "Table of Contents",
   "title_sidebar": "Contents",
   "toc_cell": false,
   "toc_position": {
    "height": "calc(100% - 180px)",
    "left": "10px",
    "top": "150px",
    "width": "187px"
   },
   "toc_section_display": true,
   "toc_window_display": true
  },
  "varInspector": {
   "cols": {
    "lenName": 16,
    "lenType": 16,
    "lenVar": 40
   },
   "kernels_config": {
    "python": {
     "delete_cmd_postfix": "",
     "delete_cmd_prefix": "del ",
     "library": "var_list.py",
     "varRefreshCmd": "print(var_dic_list())"
    },
    "r": {
     "delete_cmd_postfix": ") ",
     "delete_cmd_prefix": "rm(",
     "library": "var_list.r",
     "varRefreshCmd": "cat(var_dic_list()) "
    }
   },
   "types_to_exclude": [
    "module",
    "function",
    "builtin_function_or_method",
    "instance",
    "_Feature"
   ],
   "window_display": false
  }
 },
 "nbformat": 4,
 "nbformat_minor": 2
}
