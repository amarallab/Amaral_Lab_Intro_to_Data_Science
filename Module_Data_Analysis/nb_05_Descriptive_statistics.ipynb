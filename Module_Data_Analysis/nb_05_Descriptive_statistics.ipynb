{
 "cells": [
  {
   "cell_type": "markdown",
   "metadata": {},
   "source": [
    "# Synopsis\n",
    "\n",
    "\n",
    "In this session we will get an overview of descriptive statistics.  \n",
    "\n",
    "We also discuss how to calculate frequency plots, box plots, and violin plots."
   ]
  },
  {
   "cell_type": "markdown",
   "metadata": {},
   "source": [
    "# Read libraries"
   ]
  },
  {
   "cell_type": "code",
   "execution_count": null,
   "metadata": {
    "ExecuteTime": {
     "end_time": "2023-02-05T21:42:14.162925Z",
     "start_time": "2023-02-05T21:42:14.120832Z"
    }
   },
   "outputs": [],
   "source": [
    "%load_ext autoreload\n",
    "%autoreload 2\n",
    "%matplotlib inline\n",
    "\n",
    "from colorama import Back, Fore, Style\n",
    "from copy import copy, deepcopy\n",
    "from pathlib import Path\n",
    "from sys import path\n",
    "\n",
    "path.append( str(Path.cwd().parent) )\n"
   ]
  },
  {
   "cell_type": "code",
   "execution_count": null,
   "metadata": {
    "ExecuteTime": {
     "end_time": "2023-02-05T21:42:15.444356Z",
     "start_time": "2023-02-05T21:42:15.107444Z"
    }
   },
   "outputs": [],
   "source": [
    "import matplotlib.pyplot as plt\n",
    "import matplotlib.cm as cm\n",
    "import scipy.stats as stats\n"
   ]
  },
  {
   "cell_type": "code",
   "execution_count": null,
   "metadata": {
    "ExecuteTime": {
     "end_time": "2023-02-05T21:42:16.359986Z",
     "start_time": "2023-02-05T21:42:16.303695Z"
    }
   },
   "outputs": [],
   "source": [
    "my_fontsize = 15"
   ]
  },
  {
   "cell_type": "markdown",
   "metadata": {},
   "source": []
  },
  {
   "cell_type": "markdown",
   "metadata": {},
   "source": [
    "# Descriptive statistics\n",
    "\n",
    "The first step in the analysis of data is to to obtain a description that summarizes its statistical properties. There are a number of **statistics** (that is, measures that can be calculated for that data) that are particularly useful.\n",
    "\n",
    "> **Number of observations** is the number of data in the data set. In this case, the number of applicants for which we have GPA values.\n",
    ">\n",
    "> **Minimum** is the smallest value in the data set.\n",
    ">\n",
    "> **Maximum** is the largest value in the data set. For the GPA data, this is presumably 4.0.\n",
    ">\n",
    "> **Support** (also called **range**) is the interval over which the values of the data set spread. Since GAPs are positive and must be no larger that 4, we know that the range must be a subset of the interval [0, 4]. Presumably, students will GPAs lower than 2 will not apply to a graduate program, so the support of our GPA data will likely be a subset of the interval [2, 4].\n",
    ">\n",
    "> **Mode** is the most common value in the data set.  \n",
    ">\n",
    "> **Median** is the value that is larger than half of all values and smaller than half of all values in the data set. The median is an example of a **percentile**.  Two other common percentiles are the **first quartile** and the **third quartile**.\n",
    ">\n",
    "> **Interquartile range** is the difference between the third and first quartile. It provides an estimation of the dispersion of the data.\n",
    ">\n",
    "> **Sample Mean** (also called sample average) is the sum of all values divided by the number of observations.  The sample mean has the smallest distance to the set of all values in the sample.\n",
    ">\n",
    "> **Standard deviation** is a measure of the spread around the sample mean for the values in the data set.\n",
    ">\n",
    "> **Skewness** is a measure of the asymmetry of the values in the data set. If you divide the support of the data at the sample mean, and if one of the interval is longer than the other, than the data is skewed.\n",
    "\n",
    "These quantities can all be easily obtained using methods already coded in `Scipy` and `Numpy`.\n",
    "\n",
    "Let's work through an example:"
   ]
  },
  {
   "cell_type": "code",
   "execution_count": null,
   "metadata": {
    "ExecuteTime": {
     "end_time": "2023-02-05T21:43:28.384329Z",
     "start_time": "2023-02-05T21:43:28.325068Z"
    }
   },
   "outputs": [],
   "source": [
    "seed = 42  # So hopefully we are all getting the same numbers"
   ]
  },
  {
   "cell_type": "code",
   "execution_count": null,
   "metadata": {
    "ExecuteTime": {
     "end_time": "2023-02-05T21:43:28.910782Z",
     "start_time": "2023-02-05T21:43:28.859062Z"
    }
   },
   "outputs": [],
   "source": [
    "a = 1\n",
    "b = 100\n",
    "\n",
    "data_20 = stats.randint.rvs(a, b, size = 20, random_state = seed)\n",
    "data_20.sort()\n",
    "\n",
    "data_100 = stats.randint.rvs(a, b, size = 100, random_state = seed)\n",
    "data_100.sort()\n",
    "\n",
    "data_1000 = stats.randint.rvs(a, b, size = 1000, random_state = seed)\n",
    "data_1000.sort()\n",
    "\n",
    "print(data_20)\n",
    "data_20"
   ]
  },
  {
   "cell_type": "code",
   "execution_count": null,
   "metadata": {
    "ExecuteTime": {
     "end_time": "2023-02-05T21:43:29.515724Z",
     "start_time": "2023-02-05T21:43:29.465707Z"
    }
   },
   "outputs": [],
   "source": [
    "print(f\"There are {len(data_20)} observations in the sample.\\n\")\n",
    "\n",
    "print(f\"The minimum value in the sample is {min(data_20)}.\\n\")\n",
    "\n",
    "print(f\"The maximum value in the sample is {max(data_20)}.\\n\")\n",
    "\n",
    "print(f\"The theoretical support for this process is integers between {a} and {b}.\\n\")\n",
    "\n",
    "print(f\"The median of the sample is {np.median(data_20)}.\\n\")\n",
    "\n",
    "# You write the rest\n"
   ]
  },
  {
   "cell_type": "code",
   "execution_count": null,
   "metadata": {
    "ExecuteTime": {
     "end_time": "2023-02-05T21:44:26.174567Z",
     "start_time": "2023-02-05T21:44:26.133611Z"
    }
   },
   "outputs": [],
   "source": [
    "print(f\"The mode of the sample is {stats.mode(data_20)}.\\n\")"
   ]
  },
  {
   "cell_type": "markdown",
   "metadata": {},
   "source": [
    "Not exactly what we wanted...  `.mode` returns an object with 2 attributes: `mode` and `count`."
   ]
  },
  {
   "cell_type": "code",
   "execution_count": null,
   "metadata": {
    "ExecuteTime": {
     "end_time": "2023-02-05T21:44:51.723050Z",
     "start_time": "2023-02-05T21:44:51.676038Z"
    }
   },
   "outputs": [],
   "source": [
    "print(f\"The mode of the sample is {stats.mode(data_20).mode}.\\n\")\n"
   ]
  },
  {
   "cell_type": "markdown",
   "metadata": {
    "ExecuteTime": {
     "end_time": "2023-02-05T21:44:57.233290Z",
     "start_time": "2023-02-05T21:44:57.180145Z"
    }
   },
   "source": [
    "Better... But still an issue because `.mode` could handle arrays of arrays so it returns something that could handle multiple values."
   ]
  },
  {
   "cell_type": "code",
   "execution_count": null,
   "metadata": {
    "ExecuteTime": {
     "end_time": "2023-02-05T21:47:44.166288Z",
     "start_time": "2023-02-05T21:47:44.130078Z"
    }
   },
   "outputs": [],
   "source": [
    "print(f\"The mode of the sample is {stats.mode(data_20).mode[0]}; it \"\n",
    "      f\"occurs {stats.mode(data_20).count[0]} times.\\n\")"
   ]
  },
  {
   "cell_type": "code",
   "execution_count": null,
   "metadata": {
    "ExecuteTime": {
     "end_time": "2023-02-05T21:53:17.805195Z",
     "start_time": "2023-02-05T21:53:17.755334Z"
    }
   },
   "outputs": [],
   "source": [
    "my_array = np.ones(shape=(20,2))\n",
    "my_array[:,0] = data_20\n",
    "print(my_array)\n",
    "\n",
    "\n",
    "for i in range(2):\n",
    "    print(f\"\\nThe mode of column {i} of the sample is \"\n",
    "          f\"{stats.mode(my_array).mode[0,i]}; it occurs \"\n",
    "          f\"{stats.mode(my_array).count[0,i]} times.\\n\")"
   ]
  },
  {
   "cell_type": "markdown",
   "metadata": {},
   "source": [
    "\n",
    "# Frequency plots\n",
    "\n",
    "While descriptive statistics are very useful, their calculation involves the loss of a lot of information on the data.  Creating a frequency plot provides a much more accurate picture of the statistical properties of the data *as long as it is calculated properly*. \n",
    "\n",
    "\n",
    "Consider our data from above. How many times $-$ i.e., how frequently $-$ does each value in the sample space occurs in our small sample?\n",
    "\n"
   ]
  },
  {
   "cell_type": "code",
   "execution_count": null,
   "metadata": {
    "ExecuteTime": {
     "end_time": "2023-02-05T21:57:36.793080Z",
     "start_time": "2023-02-05T21:57:36.743209Z"
    },
    "code_folding": [
     0,
     19
    ]
   },
   "outputs": [],
   "source": [
    "def hist_plot(y_max, step):\n",
    "    fig = plt.figure( figsize = (12, 4) )\n",
    "    ax = fig.add_subplot(111)\n",
    "\n",
    "    ax.set_xlim(0, 100)\n",
    "    ax.set_xlabel('Value', fontsize = 1.4* my_fontsize)\n",
    "\n",
    "    ax.set_xticks(range(0, 101, 10))\n",
    "    ax.set_xticklabels(range(0, 101, 10), fontsize = my_fontsize)\n",
    "    \n",
    "    ax.set_ylim(0, y_max)\n",
    "    ax.set_ylabel('Frequency', fontsize = 1.4* my_fontsize)\n",
    "\n",
    "    ax.set_yticks(range(0, y_max, step))\n",
    "    ax.set_yticklabels(range(0, y_max, step), fontsize = my_fontsize)\n",
    "    \n",
    "    return ax\n",
    "\n",
    "\n",
    "def box_plot(sizes):\n",
    "    n = len(sizes)\n",
    "    xticks = np.arange(0, 101, 10)\n",
    "    labels = [f\"n = {n}\" for n in sizes]\n",
    "    \n",
    "    fig = plt.figure( figsize = (12, 2*n+1) )\n",
    "    ax = fig.add_subplot(111)\n",
    "    \n",
    "    for axis in ['top','right', 'left']:\n",
    "        ax.spines[axis].set_visible(False)\n",
    "\n",
    "    ax.set_xlim(0, 100)\n",
    "    ax.set_xlabel('Value', fontsize = 1.4* my_fontsize)\n",
    "    \n",
    "    ax.set_xticks(xticks)\n",
    "    ax.set_xticklabels(xticks, fontsize = my_fontsize)\n",
    "    ax.vlines( xticks, 0, 1+len(sizes), colors = '0.7', \n",
    "               zorder = -10 )\n",
    "    \n",
    "    ax.set_ylim(0.5, 0.5+n)\n",
    "    ax.set_yticks(np.arange(1, 1+n))\n",
    "    ax.set_yticklabels(labels, fontsize = my_fontsize)\n",
    "        \n",
    "    return ax\n",
    "\n"
   ]
  },
  {
   "cell_type": "code",
   "execution_count": null,
   "metadata": {
    "ExecuteTime": {
     "end_time": "2023-02-05T21:57:44.851074Z",
     "start_time": "2023-02-05T21:57:44.526024Z"
    }
   },
   "outputs": [],
   "source": [
    "ax = hist_plot(3, 1)\n",
    "ax.hist(data_20, bins = range(101), width = 0.8, align = 'mid'); \n",
    "\n",
    "ax = hist_plot(20, 5)\n",
    "ax.hist(data_1000, bins = range(101), width = 0.8, align = 'mid'); \n"
   ]
  },
  {
   "cell_type": "markdown",
   "metadata": {},
   "source": [
    "What do we learn from these plots about **the process that generated the data**?\n",
    "\n",
    "If we read the **top panel** in a naive manner, we would think that values between 40 and 50 never occur, and that 2 is one of the three most likely values to occur. \n",
    "\n",
    "**But that is not how we truly read them!**\n",
    "\n",
    "We read them as suggesting that any value between 1 and 100 has pretty much the same chance of occurring.\n",
    "\n",
    "This means that the representation we chose for the frequency plot is not ideal.  We have too few data points in our samples to allow for the fine grain creation of the frequency plot.\n",
    "\n",
    "## Binning\n",
    "\n",
    "One way to address lack of data is to **bin** our results.  Instead of considering every value between 0 and 100, we can instead create boxes $-$ bins $-$ where we will place our values. One bin would be 1-20, another 21-40, and so on.\n",
    "\n",
    "We would then count how many of the data points in our sample fall within each bin\n"
   ]
  },
  {
   "cell_type": "code",
   "execution_count": null,
   "metadata": {
    "ExecuteTime": {
     "end_time": "2023-02-05T21:57:51.145432Z",
     "start_time": "2023-02-05T21:57:51.028849Z"
    }
   },
   "outputs": [],
   "source": [
    "ax = hist_plot(30, 5)\n",
    "ax.hist(data_100, bins = range(0, 101, 20), width = 19.5, align = 'mid'); \n"
   ]
  },
  {
   "cell_type": "markdown",
   "metadata": {},
   "source": [
    "Now it is much clearer to see that the data is pretty much uniformly distributed over the entire sample space, which is the kind of information you would try to glean from a frequency plot. As the sample size increases, the pattern $-$ uniformity of probability $-$ becomes more and more apparent.\n"
   ]
  },
  {
   "cell_type": "code",
   "execution_count": null,
   "metadata": {
    "ExecuteTime": {
     "end_time": "2023-02-05T21:58:07.339524Z",
     "start_time": "2023-02-05T21:58:07.162556Z"
    }
   },
   "outputs": [],
   "source": [
    "ax = hist_plot(25, 5)\n",
    "ax.hist(data_100, bins = range(0, 101, 20), width = 19.5, align = 'mid'); \n",
    "\n",
    "ax = hist_plot(220, 50)\n",
    "ax.hist(data_1000, bins = range(0, 101, 20), width = 19.5, align = 'mid'); \n"
   ]
  },
  {
   "cell_type": "markdown",
   "metadata": {},
   "source": [
    "# Box plots\n",
    "\n",
    "While frequency plots are wonderful because the enable the human eye and brain to make a quick evaluation of patterns in the data, they are not particularly useful when sample sizes are too small.\n",
    "\n",
    "**Note that when the sample size is *really small*, the most transparent representation is showing all the data!**\n",
    "\n",
    "A box plot provides a way to graphically summarize properties of data when one has samples with sizes in the range 10 to 20."
   ]
  },
  {
   "cell_type": "code",
   "execution_count": null,
   "metadata": {
    "ExecuteTime": {
     "end_time": "2023-02-05T21:58:16.275241Z",
     "start_time": "2023-02-05T21:58:16.133889Z"
    }
   },
   "outputs": [],
   "source": [
    "sizes = [20]\n",
    "data = np.array(data_20)\n",
    "\n",
    "ax = box_plot(sizes)\n",
    "bplot = ax.boxplot( data_20, vert = False, patch_artist = True )\n",
    "\n",
    "ax.text( 74, 1.1, 'Third quartile\\nQ3', ha = 'left', rotation = 45,\n",
    "         fontsize = my_fontsize )\n",
    "ax.text( 19, 1.1, 'First quartile\\nQ1', ha = 'left', rotation = 45,\n",
    "         fontsize = my_fontsize )\n",
    "ax.text( 51.5, 1.1, 'Median', ha = 'left', color = 'orange', rotation = 45,\n",
    "         fontsize = my_fontsize )\n",
    "\n",
    "ax.hlines(0.84, 22, 35)\n",
    "ax.hlines(0.84, 65, 77)\n",
    "ax.text( 50, 0.8, 'Inter-quartile range (IQR)', ha = 'center', \n",
    "         color = 'blue', fontsize = my_fontsize )\n",
    "\n",
    "ax.text( 93, 0.55, 'Right whisker:\\nmaximum value\\nsmaller than\\nQ3 + 1.5 IQR', \n",
    "         ha = 'left', color = 'darkred', fontsize = my_fontsize )\n",
    "\n",
    "\n",
    "ax.text( 2, 0.55, 'Left whisker:\\nminimum value\\ngreater than\\nQ1 - 1.5 IQR', \n",
    "         ha = 'left', color = 'darkred', fontsize = my_fontsize );"
   ]
  },
  {
   "cell_type": "markdown",
   "metadata": {},
   "source": [
    "Note that if the data does not extend beyond the first and/or third quartiles by more than `1.5 IQR`, then the whiskers simple show the minimum and/or maximum of the data.\n",
    "\n",
    "If there are data points with values beyond these limits, they are shown individually in the plot with a `marker` of your choice and are, usually, interpreted as **outliers**."
   ]
  },
  {
   "cell_type": "code",
   "execution_count": null,
   "metadata": {
    "ExecuteTime": {
     "end_time": "2023-02-05T22:01:24.953194Z",
     "start_time": "2023-02-05T22:01:24.735442Z"
    }
   },
   "outputs": [],
   "source": [
    "ax = box_plot([20, 100, 1000])\n",
    "bplot = ax.boxplot( [data_20, data_100, data_1000], vert = False, \n",
    "                    patch_artist = True )\n",
    "\n",
    "colors = ['0.5', '0.6', '0.7']\n",
    "for patch, color in zip(bplot['boxes'], colors):\n",
    "    patch.set_facecolor(color);\n",
    "\n",
    "    \n",
    "for i, txt in enumerate( [20, 100, 1000] ):\n",
    "    ax.text(82, i+1.2, f\"N = {txt}\", fontsize = 1.3* my_fontsize)"
   ]
  },
  {
   "cell_type": "markdown",
   "metadata": {},
   "source": [
    "Note that as sample sizes increase, the box plot starts to provide a more and more accurate picture of the stochastic process. Specifically, \n",
    "\n",
    "> the median approaches 50, \n",
    ">\n",
    "> the first quartile approaches 25, \n",
    ">\n",
    "> the third quartile approaches 75, \n",
    ">\n",
    "> the whiskers approach 1 and 100. "
   ]
  },
  {
   "cell_type": "markdown",
   "metadata": {},
   "source": [
    "# Violin plots\n",
    "\n",
    "Violin plots are becoming a popular alternative to box plots. The algorithm for creating violin plots uses kernel density estimation to obtain a smooth profile of the variation in local density of the data.\n",
    "\n",
    "For the sample with 20 data points, we can see that KDE reproduces the low, high, low, high,low variation of the frequency plot.  If we had fewer points, the violin plot would not really have access to enough information to generate more than a guess of what the true frequency is locally."
   ]
  },
  {
   "cell_type": "code",
   "execution_count": null,
   "metadata": {
    "ExecuteTime": {
     "end_time": "2023-01-25T21:16:36.430595Z",
     "start_time": "2023-01-25T21:16:36.134781Z"
    }
   },
   "outputs": [],
   "source": [
    "sizes = [20, 20]\n",
    "data = np.array([data_20, data_20])\n",
    "\n",
    "ax = box_plot(sizes)\n",
    "bplot = ax.boxplot( data_1000, vert = False, positions = [2], \n",
    "                    patch_artist = True )\n",
    "\n",
    "parts = ax.violinplot( data_1000, vert = False, showmeans = False, \n",
    "                       showmedians = False, showextrema=False )\n",
    "\n",
    "\n",
    "for pc in parts['bodies']:\n",
    "    pc.set_facecolor('#D43F3A')\n",
    "    pc.set_edgecolor('black')\n",
    "    pc.set_alpha(1)\n",
    "\n",
    "quartile1, median, quartile3 = np.percentile( data_20, [25, 50, 75])\n",
    "iqr = quartile3 - quartile1\n",
    "whiskers_min = np.clip(quartile1 - 1.5*iqr, quartile1, data_20[0])\n",
    "whiskers_max = np.clip(quartile3 + 1.5*iqr, quartile3, data_20[-1])\n",
    "\n",
    "ax.scatter(median, 1, marker='o', color='white', s = 300, zorder=3)\n",
    "ax.hlines(1, quartile1, quartile3, color = 'k', lw = 10)\n",
    "ax.hlines(1, whiskers_min, whiskers_max, color = 'k', lw = 2);\n"
   ]
  },
  {
   "cell_type": "code",
   "execution_count": null,
   "metadata": {},
   "outputs": [],
   "source": []
  },
  {
   "cell_type": "code",
   "execution_count": null,
   "metadata": {},
   "outputs": [],
   "source": []
  },
  {
   "cell_type": "code",
   "execution_count": null,
   "metadata": {},
   "outputs": [],
   "source": []
  }
 ],
 "metadata": {
  "kernelspec": {
   "display_name": "base",
   "language": "python",
   "name": "base"
  },
  "language_info": {
   "codemirror_mode": {
    "name": "ipython",
    "version": 3
   },
   "file_extension": ".py",
   "mimetype": "text/x-python",
   "name": "python",
   "nbconvert_exporter": "python",
   "pygments_lexer": "ipython3",
   "version": "3.9.12"
  },
  "latex_envs": {
   "LaTeX_envs_menu_present": true,
   "autoclose": false,
   "autocomplete": true,
   "bibliofile": "biblio.bib",
   "cite_by": "apalike",
   "current_citInitial": 1,
   "eqLabelWithNumbers": true,
   "eqNumInitial": 1,
   "hotkeys": {
    "equation": "Ctrl-E",
    "itemize": "Ctrl-I"
   },
   "labels_anchors": false,
   "latex_user_defs": false,
   "report_style_numbering": false,
   "user_envs_cfg": false
  },
  "toc": {
   "base_numbering": 1,
   "nav_menu": {},
   "number_sections": true,
   "sideBar": true,
   "skip_h1_title": false,
   "title_cell": "Table of Contents",
   "title_sidebar": "Contents",
   "toc_cell": false,
   "toc_position": {
    "height": "calc(100% - 180px)",
    "left": "10px",
    "top": "150px",
    "width": "165px"
   },
   "toc_section_display": true,
   "toc_window_display": true
  },
  "varInspector": {
   "cols": {
    "lenName": 16,
    "lenType": 16,
    "lenVar": 40
   },
   "kernels_config": {
    "python": {
     "delete_cmd_postfix": "",
     "delete_cmd_prefix": "del ",
     "library": "var_list.py",
     "varRefreshCmd": "print(var_dic_list())"
    },
    "r": {
     "delete_cmd_postfix": ") ",
     "delete_cmd_prefix": "rm(",
     "library": "var_list.r",
     "varRefreshCmd": "cat(var_dic_list()) "
    }
   },
   "types_to_exclude": [
    "module",
    "function",
    "builtin_function_or_method",
    "instance",
    "_Feature"
   ],
   "window_display": false
  }
 },
 "nbformat": 4,
 "nbformat_minor": 2
}
