{
 "cells": [
  {
   "cell_type": "markdown",
   "metadata": {},
   "source": [
    "# Synopsis\n",
    "\n",
    "This notebook reviews some of the most frequently used discrete random variables.\n",
    "\n",
    "* uniform\n",
    "* binomial\n",
    "* Poisson\n",
    "* geometric\n",
    "* negative binomial\n"
   ]
  },
  {
   "cell_type": "markdown",
   "metadata": {},
   "source": [
    "# Read libraries"
   ]
  },
  {
   "cell_type": "code",
   "execution_count": null,
   "metadata": {
    "ExecuteTime": {
     "end_time": "2023-02-05T23:05:28.249174Z",
     "start_time": "2023-02-05T23:05:27.709507Z"
    }
   },
   "outputs": [],
   "source": [
    "%load_ext autoreload\n",
    "%autoreload 2\n",
    "%matplotlib inline\n",
    "\n",
    "from colorama import Back, Fore, Style\n",
    "from copy import copy, deepcopy\n",
    "from pathlib import Path\n",
    "from sys import path\n",
    "\n",
    "path.append( str(Path.cwd().parent) )\n"
   ]
  },
  {
   "cell_type": "code",
   "execution_count": null,
   "metadata": {
    "ExecuteTime": {
     "end_time": "2023-02-05T23:05:37.263054Z",
     "start_time": "2023-02-05T23:05:36.926743Z"
    }
   },
   "outputs": [],
   "source": [
    "import matplotlib.pyplot as plt\n",
    "import numpy as np\n",
    "import scipy.stats as stats\n",
    "\n",
    "from Amaral_libraries.my_stats import half_frame\n"
   ]
  },
  {
   "cell_type": "code",
   "execution_count": null,
   "metadata": {
    "ExecuteTime": {
     "end_time": "2023-02-05T23:05:37.956760Z",
     "start_time": "2023-02-05T23:05:37.911389Z"
    }
   },
   "outputs": [],
   "source": [
    "my_fontsize = 15"
   ]
  },
  {
   "cell_type": "markdown",
   "metadata": {},
   "source": [
    "# Discrete random variables\n",
    "\n",
    "In this notebook, I give an overview of some commonly found distributions of discrete random variables.  This overview has two goals.  The first and most important reason is to provide a vocabulary with which to describe or model random processes.  Just as when trying to communicative in a new language, you need to memorize words in order to be able to express yourself effectively, when describing the properties of a random process you will find it useful to make reference to these distributions.\n",
    "\n",
    "The second reason is that it provides, in some cases, the justification for the type of random processes that may give rise to a specified distribution.\n",
    "\n",
    "\n",
    "## Uniform distribution \n",
    "\n",
    "The default assumption in the absence of additional information is that all possible outcomes of a random variable $X$ are equi-probable. In the case of discrete outcomes $-$ rolling a die, tossing a coin, drawing a raffle $-$ this means that the probability of every outcome is equal to the inverse of the number $n$ of possible outcomes.\n",
    "\n",
    "The probability mass function is:\n",
    "\n",
    "> $Pr(X=k) = \\frac{1}{n}$"
   ]
  },
  {
   "cell_type": "code",
   "execution_count": null,
   "metadata": {
    "ExecuteTime": {
     "end_time": "2023-02-05T23:08:26.687471Z",
     "start_time": "2023-02-05T23:08:26.551453Z"
    }
   },
   "outputs": [],
   "source": [
    "n = 6\n",
    "x = np.arange(1, n + 1)\n",
    "rv = stats.randint(1, n + 1)\n",
    "\n",
    "fig = plt.figure( figsize = (6, 4.5) )\n",
    "fig.text(0, 1, 'Uniform', fontsize = 1.5*my_fontsize)\n",
    "ax = fig.add_subplot(1,1,1)\n",
    "\n",
    "half_frame(ax, \"k\", \"\", font_size = my_fontsize)\n",
    "\n",
    "# Calculate and plot histogram\n",
    "ax.vlines(x-0.2, 0, rv.sf(x), color = \"r\", linewidth = 5, alpha = 0.5, \n",
    "          label = \"Survival - Pr(X > k)\")\n",
    "ax.vlines(x, 0, rv.pmf(x), color = \"g\", linewidth = 5, alpha = 0.5, \n",
    "          label = \"Probability mass  - Pr(X > k)\")\n",
    "ax.vlines(x+0.2, 0, rv.cdf(x), color = \"b\", linewidth = 5, alpha = 0.5, \n",
    "          label = \"Cumulative - Pr(X <= k)\")\n",
    "\n",
    "# Format legend\n",
    "ax.legend(loc = (1.0, 0.6), frameon = False, markerscale = 1.8, \n",
    "          fontsize = my_fontsize)\n",
    "\n",
    "ax.set_xlim(0.5, n+0.5)\n",
    "ax.set_ylim(0, 1)\n",
    "\n",
    "plt.show()"
   ]
  },
  {
   "cell_type": "markdown",
   "metadata": {},
   "source": [
    "## Binomial distribution \n",
    "\n",
    "Consider a Bernoulli process of length $n$.  Translation:  You repeat some random process $n$ times and the probabilities of the different outcomes do not change during the entire process.  Examples include tossing the same coin $n$ times; rolling the same die $n$ times; draw a single card from $n$ well shuffled decks. \n",
    "\n",
    "A fair coin has 50% chance of landing on heads and a 50% chance of landing on tails. The binomial distribution with p = 0.5 and n = 20 specifies the probability of tossing $k$ heads when flipping a coin $20$ times. \n",
    "\n",
    "The probability mass function is:\n",
    "\n",
    "> $Pr(X=k) = C^n_k ~ p^{k} ~ (1-p)^{n-k}$\n"
   ]
  },
  {
   "cell_type": "code",
   "execution_count": null,
   "metadata": {
    "ExecuteTime": {
     "end_time": "2023-02-05T23:09:03.764000Z",
     "start_time": "2023-02-05T23:09:03.644187Z"
    }
   },
   "outputs": [],
   "source": [
    "p = .5\n",
    "n = 20\n",
    "x = np.arange(0, n+1, 1)\n",
    "rv = stats.binom(n, p)\n",
    "\n",
    "fig = plt.figure( figsize = (6, 4.5) )\n",
    "fig.text(0, 1, 'Binomial', fontsize = 1.5*my_fontsize)\n",
    "ax = fig.add_subplot(1,1,1)\n",
    "\n",
    "half_frame(ax, \"k\", \"\", font_size = my_fontsize)\n",
    "\n",
    "# Calculate and plot histogram\n",
    "ax.vlines(x-0.2, 0, rv.sf(x), color = \"r\", linewidth = 3, alpha = 0.5, \n",
    "          label = \"Survival\")\n",
    "ax.vlines(x, 0, rv.pmf(x), color = \"g\", linewidth = 4, alpha = 0.5, \n",
    "          label = \"Probability mass\")\n",
    "# ax.vlines(x+0.2, 0, rv.cdf(x), color = \"b\", linewidth = 3, alpha = 0.5, \n",
    "#           label = \"Cumulative\")\n",
    "\n",
    "# Format legend\n",
    "ax.legend(loc = (1.0, 0.6), frameon = False, markerscale = 1.8, \n",
    "          fontsize = my_fontsize)\n",
    "ax.set_ylim(0, 1)\n",
    "ax.set_xlim(0, n + .1)\n",
    "\n",
    "plt.show()"
   ]
  },
  {
   "cell_type": "markdown",
   "metadata": {},
   "source": [
    "## Poisson distribution \n",
    "\n",
    "A Poisson process is a random process in which the density of events is constant over some space, such as length or time, and events are independent.  The process was discovered independently and repeatedly in several settings, including experiments on radioactive decay, failure of components such as light bulbs, telephone call arrivals, costumer arrivals at a store, natural catastrophes, accidents, and so on.\n",
    "\n",
    "The Poisson distribution describes the number of events that one can expect to observe within some bounded region.  The distribution is characterized by a single parameter, $\\lambda$, which can be interpreted as the average number of points per some unit of extent such as length, area, volume, or time, depending on the underlying mathematical space, and it is also called the mean density or mean rate.\n",
    "\n",
    "The probability mass function is:\n",
    "\n",
    "> $Pr(X=k) =  \\frac{\\lambda^k e^{-\\lambda}}{k!}$"
   ]
  },
  {
   "cell_type": "code",
   "execution_count": null,
   "metadata": {
    "ExecuteTime": {
     "end_time": "2022-12-26T20:53:18.944140Z",
     "start_time": "2022-12-26T20:53:18.805827Z"
    }
   },
   "outputs": [],
   "source": [
    "mu = 15\n",
    "x = np.arange(stats.poisson.ppf(0.0001, mu), stats.poisson.ppf(0.9999, mu))\n",
    "rv = stats.poisson(mu)\n",
    "\n",
    "fig = plt.figure( figsize = (6, 4.5) )\n",
    "fig.text(0, 1, 'Poisson', fontsize = 1.5*my_fontsize)\n",
    "ax = fig.add_subplot(1,1,1)\n",
    "\n",
    "half_frame(ax, \"k\", \"Probability mass\", font_size = my_fontsize)\n",
    "\n",
    "# Calculate and plot histogram\n",
    "ax.vlines(x, 0, rv.pmf(x), color = \"g\", linewidth = 5, alpha = 0.5, \n",
    "          label = \"Poisson\")\n",
    "\n",
    "# Format legend\n",
    "ax.legend(loc = \"best\", frameon = False, markerscale = 1.8, \n",
    "          fontsize = my_fontsize)\n",
    "ax.set_ylim(0, .15)\n",
    "\n",
    "plt.show()"
   ]
  },
  {
   "cell_type": "markdown",
   "metadata": {},
   "source": [
    "**An interesting property of the binomial distribution is that for $n \\gg 1$ and $\\lambda = np$, it converges to a Poisson distribution**.\n",
    "\n"
   ]
  },
  {
   "cell_type": "code",
   "execution_count": null,
   "metadata": {
    "ExecuteTime": {
     "end_time": "2022-12-26T20:53:29.407465Z",
     "start_time": "2022-12-26T20:53:29.268531Z"
    }
   },
   "outputs": [],
   "source": [
    "p = 0.1\n",
    "n = 40\n",
    "x = np.arange(stats.binom.ppf(0.0001, n, p), stats.binom.ppf(0.9999, n, p))\n",
    "rv1 = stats.binom(n, p)\n",
    "\n",
    "mu = n * p\n",
    "rv2 = stats.poisson(mu)\n",
    "\n",
    "\n",
    "fig = plt.figure( figsize = (10, 4.5) )\n",
    "fig.text(0, 1, 'Binomial vs Poisson', fontsize = 1.5*my_fontsize)\n",
    "ax =  fig.add_subplot(1,1,1) \n",
    "\n",
    "half_frame(ax, \"k\", \"Probability mass\", font_size = my_fontsize)\n",
    "\n",
    "# Calculate and plot histogram\n",
    "ax.vlines(x-0.2, 0, rv1.pmf(x), color = \"b\", linewidth = 4, alpha = 0.7, \n",
    "          label = \"Binomial\")\n",
    "ax.vlines(x+0.2, 0, rv2.pmf(x), color = \"r\", linewidth = 4, alpha = 0.7, \n",
    "          label = \"Poisson\")\n",
    "\n",
    "ax.set_ylim(0, 0.3)\n",
    "ax.set_xlim(-0.50, 40)\n",
    "\n",
    "\n",
    "# Format legend\n",
    "ax.legend(loc = \"best\", frameon = False, markerscale = 1.8, \n",
    "          fontsize = my_fontsize)\n",
    "\n",
    "\n",
    "plt.show()"
   ]
  },
  {
   "cell_type": "markdown",
   "metadata": {},
   "source": [
    "## Geometric distribution \n",
    "\n",
    "How long will you have to wait until you roll a 6? or until you flip heads? \n",
    "\n",
    "If you assume that every time your turn on a light bulb, there is a constant probability that it will fail, how many times can you expect to use the bulb before you have to replace it? \n",
    "\n",
    "If you have a Bernoulli process and you ask how many events you need to observe until you get a desired outcome, then you are looking at a geometric distribution.  This can be seen as a special case of the thinking that yields the binomial distribution.\n",
    "\n",
    "The probability mass function is:\n",
    "\n",
    "> $Pr(X=k) = (1-p)^{k-1}p$"
   ]
  },
  {
   "cell_type": "code",
   "execution_count": null,
   "metadata": {
    "ExecuteTime": {
     "end_time": "2023-02-05T23:09:27.016331Z",
     "start_time": "2023-02-05T23:09:26.892725Z"
    }
   },
   "outputs": [],
   "source": [
    "p = 0.5\n",
    "x = np.arange(1, stats.geom.ppf(0.999, p))\n",
    "rv1 = stats.geom(p)\n",
    "\n",
    "\n",
    "fig = plt.figure( figsize = (6, 4.5) )\n",
    "fig.text(0, 1, 'Geometric', fontsize = 1.5*my_fontsize)\n",
    "ax = fig.add_subplot(1,1,1)\n",
    "\n",
    "half_frame(ax, \"k\", \"\", font_size = my_fontsize)\n",
    "\n",
    "# Calculate and plot histogram\n",
    "# ax.vlines(x-0.2, 0, rv1.sf(x), color = \"r\", linewidth = 5, alpha = 0.5, \n",
    "#           label = \"Survival\")\n",
    "ax.vlines(x, 0, rv1.pmf(x), color = \"g\", linewidth = 5, alpha = 0.5, \n",
    "          label = \"Probability mass\")\n",
    "ax.vlines(x+0.2, 0, rv1.cdf(x), color = \"b\", linewidth = 5, alpha = 0.5, \n",
    "          label = \"Cumulative\")\n",
    "\n",
    "ax.set_ylim(0, 1)\n",
    "ax.set_xlim(0, 10)\n",
    "\n",
    "# Format legend\n",
    "ax.legend(loc = (1.0, 0.6), frameon = False, markerscale = 1.8, \n",
    "          fontsize = my_fontsize)\n",
    "\n",
    "plt.show()"
   ]
  },
  {
   "cell_type": "markdown",
   "metadata": {},
   "source": [
    "## Negative binomial distribution \n",
    "\n",
    "Imagine that instead of the switch turning on a single bulb, it turns on a very very large number of bulbs.  How many times $n$ can you expect to be able to turn the lights on until $k$ of then fail? \n",
    "\n",
    "Returning to the flipping of coins, how many times $n$ must you flip a coin until you get $k$ tails?\n",
    "\n",
    "This process is described by the negative binomial distribution. have Is the result of counting the number of events until a specific number of desired ones occur. \n",
    "\n",
    "The probability mass function is:\n",
    "\n",
    "> $Pr(X=(k, n)) = C^{k+n-1}_{n-1} ~ p^n ~ (1-p)^k$"
   ]
  },
  {
   "cell_type": "code",
   "execution_count": null,
   "metadata": {
    "ExecuteTime": {
     "end_time": "2023-02-05T23:09:42.604548Z",
     "start_time": "2023-02-05T23:09:42.476970Z"
    }
   },
   "outputs": [],
   "source": [
    "p = 0.5\n",
    "n = 10\n",
    "x = np.arange(stats.nbinom.ppf(0.0001, n, p), stats.nbinom.ppf(0.9999, n, p))\n",
    "rv1 = stats.nbinom(n, p)\n",
    "\n",
    "# print(f\"The type of the variable rv1 is {type(rv1)}\\n\")\n",
    "# print(f\"The type of the variable rv1.pmf is {type(rv1.pmf(x))}\\n\")\n",
    "\n",
    "fig = plt.figure( figsize = (8, 4.5) )\n",
    "fig.text(0, 1, 'Negative binomial', fontsize = 1.5*my_fontsize)\n",
    "ax = fig.add_subplot(1,1,1)\n",
    "\n",
    "half_frame(ax, \"k\", \"\", \n",
    "           font_size = my_fontsize)\n",
    "\n",
    "# Calculate and plot histogram\n",
    "ax.vlines(x-0.2, 0, rv1.sf(x), color = \"r\", linewidth = 2, alpha = 0.5, \n",
    "          label = \"Survival\")\n",
    "ax.vlines(x, 0, rv1.pmf(x), color = \"g\", linewidth = 4, alpha = 0.5, \n",
    "          label = \"Probability mass\")\n",
    "# ax.vlines(x+0.2, 0, rv1.cdf(x), color = \"b\", linewidth = 2, alpha = 0.5, \n",
    "#           label = \"Cumulative\")\n",
    "\n",
    "ax.set_xlim(0, 30)\n",
    "\n",
    "# Format legend\n",
    "ax.legend(loc = (1.0, 0.6), frameon = False, markerscale = 1.8, \n",
    "          fontsize = my_fontsize)\n",
    "plt.show()"
   ]
  },
  {
   "cell_type": "markdown",
   "metadata": {},
   "source": [
    "# Calculating (some of the) moments of these distributions\n",
    "\n",
    "\n",
    "The $n^{th}$ moment of a discrete variable drawn from a distribution $p(k)$ is given by\n",
    "\n",
    "> $m_n = \\sum_{k \\in S} k^n~p(k)$\n",
    "\n",
    "where $S$ is the sample space of the random variable.\n",
    "\n",
    "\n",
    "## Zero-th order moment\n",
    "\n",
    "For n = 0, we have simply:\n",
    "\n",
    "> $m_0 = \\sum_{k \\in S} k^0 ~p(k) = \\sum_{k \\in S} ~p(k) = 1$\n",
    "\n",
    "\n",
    "## First moments\n",
    "\n",
    "The first moment is also called the **mean** and the **expected value**:\n",
    "\n",
    "> $m_1 = \\sum_{k \\in S} k^1 ~p(k) = \\mu$\n",
    "\n",
    "It is relatively straightforward to calculate for several of the distributions discussed above.\n",
    "\n",
    "**Uniform:**\n",
    "\n",
    ">$m_1 = \\sum_{k = ki}^{k_f} \\frac{k}{k_f - k_i + 1} = (k_f - k_i + 1)~\\frac{k_f + k_i}{2~(k_f - k_i + 1)} = \\frac{k_f + k_i}{2}$\n",
    "\n",
    "**Poisson:**\n",
    "\n",
    "> $m_1 = \\sum_{k =  0}^{\\infty} k~\\frac{\\lambda^k e^{-\\lambda}}{k!}$ \n",
    ">\n",
    "> $~~~~ = e^{-\\lambda} ~\\sum_{k =  1}^{\\infty} \\lambda ~\\frac{\\lambda^{k-1}}{(k-1)!}$\n",
    ">\n",
    "> $~~~~ = \\lambda~ e^{-\\lambda} ~\\sum_{j =  0}^{\\infty} \\frac{\\lambda^{j}}{j!}$ \n",
    ">\n",
    "> $~~~~ = \\lambda ~e^{-\\lambda}~ e^{ \\lambda}$\n",
    ">\n",
    "> $~~~~ = \\lambda$\n",
    "\n",
    "**Binomial:**\n",
    "\n",
    "> $m_1 = \\sum_{k =  0}^{n} k~C_k^n ~p^k~(1-p)^{n-k}$\n",
    ">\n",
    "> $~~~~ = \\sum_{k =  1}^{n} \\frac{k ~ n!}{k!~ (n-k)!} ~ p^k ~ (1-p)^{n-k}$\n",
    ">\n",
    "> $~~~~ = \\sum_{j =  0}^{n-1} \\frac{n!}{j!~(n-1 -j)!} ~p^{j+1}~ (1-p)^{n-1 -j}$\n",
    "> \n",
    "> $~~~~ = \\sum_{j =  0}^{m} \\frac{n ~m!}{j!~(m-j)!} ~p ~p^j ~(1-p)^{m-j}$\n",
    "> \n",
    "> $~~~~ = np ~\\sum_{j =  0}^{m} \\frac{m!}{j!~(m-j)!}~p^j ~(1-p)^{m-j}$\n",
    ">\n",
    "> $~~~~ = np$\n",
    "\n"
   ]
  },
  {
   "cell_type": "markdown",
   "metadata": {},
   "source": [
    "## Second moments\n",
    "\n",
    "The second moment is defined as:\n",
    "\n",
    "> $m_2 = \\sum_{k \\in S} k^2~p(k)$\n",
    "\n",
    "More useful in practical terms then the second moment is actually the **centered second moment**, which is also called **Variance**:\n",
    "\n",
    "> $V = \\sum_{k \\in S} (k - \\mu)^2~p(k) = m_2 - \\mu^2$\n",
    "\n",
    "The Variance is also relatively straightforward to calculate for several of the distributions discussed above.\n",
    "\n",
    "**Uniform:**\n",
    "\n",
    "> $V = \\frac{(k_f - k_i + 1)^2 - 1}{12}$ \n",
    "\n",
    "\n",
    "**Binomial:**\n",
    "\n",
    "> $V = np(1-p)$ \n",
    "\n",
    "**Poisson:**\n",
    "\n",
    "> $V = \\lambda$\n",
    "\n",
    "\n",
    "\n"
   ]
  },
  {
   "cell_type": "markdown",
   "metadata": {},
   "source": [
    "# Generating pseudo-random variables according to a specified distribution"
   ]
  },
  {
   "cell_type": "code",
   "execution_count": null,
   "metadata": {
    "ExecuteTime": {
     "end_time": "2023-02-05T23:09:52.665859Z",
     "start_time": "2023-02-05T23:09:52.527605Z"
    }
   },
   "outputs": [],
   "source": [
    "n = 10\n",
    "p = 0.8\n",
    "L = 100\n",
    "\n",
    "# This generates np.array of random variables \n",
    "random_distribution = stats.nbinom.rvs(n, p, size = L)\n",
    "\n",
    "# print(random_distribution)\n",
    "# print(len(random_distribution))\n",
    "\n",
    "# Create histogram\n",
    "plt.hist(random_distribution, bins = 10, density = True, cumulative= True)\n",
    "\n",
    "# Plot it\n",
    "plt.savefig( Path.cwd() / f'figure_dist_nbinom_n{n}_p{p}_size{L}.png' )\n",
    "\n"
   ]
  },
  {
   "cell_type": "markdown",
   "metadata": {},
   "source": [
    "## Dependence of sample mean on sample size\n",
    "\n",
    "I want you to study how the mean of a sample drawn from a **distribution of your choice** changes with sample size `L`. You can use and modify the code two cells above to create a function that returns the sample mean of `L` binomial random variables and then plots the sample mean versus `L`."
   ]
  },
  {
   "cell_type": "code",
   "execution_count": null,
   "metadata": {
    "ExecuteTime": {
     "end_time": "2022-10-19T21:54:33.027134Z",
     "start_time": "2022-10-19T21:54:32.984928Z"
    }
   },
   "outputs": [],
   "source": [
    "# Choose a distribution from those given above and select the parameters values\n",
    "\n",
    "# Select a sampple size\n",
    "\n",
    "# Generate sample with specific size and calculate its mean\n",
    "\n",
    "# Repeat many time, and plot all the means\n",
    "\n"
   ]
  },
  {
   "cell_type": "markdown",
   "metadata": {},
   "source": [
    "## Dependence of sample standard deviation on sample size\n",
    "\n",
    "Repeat the analysis above but for the standard deviation of a sample drawn from a **binomial distribution**.\n"
   ]
  },
  {
   "cell_type": "code",
   "execution_count": null,
   "metadata": {
    "ExecuteTime": {
     "end_time": "2020-01-31T23:15:33.245777Z",
     "start_time": "2020-01-31T23:15:32.888537Z"
    }
   },
   "outputs": [],
   "source": [
    "\n"
   ]
  }
 ],
 "metadata": {
  "kernelspec": {
   "display_name": "Python [conda env:new_base] *",
   "language": "python",
   "name": "conda-env-new_base-py"
  },
  "language_info": {
   "codemirror_mode": {
    "name": "ipython",
    "version": 3
   },
   "file_extension": ".py",
   "mimetype": "text/x-python",
   "name": "python",
   "nbconvert_exporter": "python",
   "pygments_lexer": "ipython3",
   "version": "3.11.4"
  },
  "latex_envs": {
   "LaTeX_envs_menu_present": true,
   "autoclose": false,
   "autocomplete": true,
   "bibliofile": "biblio.bib",
   "cite_by": "apalike",
   "current_citInitial": 1,
   "eqLabelWithNumbers": true,
   "eqNumInitial": 1,
   "hotkeys": {
    "equation": "Ctrl-E",
    "itemize": "Ctrl-I"
   },
   "labels_anchors": false,
   "latex_user_defs": false,
   "report_style_numbering": false,
   "user_envs_cfg": false
  },
  "toc": {
   "base_numbering": 1,
   "nav_menu": {},
   "number_sections": true,
   "sideBar": true,
   "skip_h1_title": false,
   "title_cell": "Table of Contents",
   "title_sidebar": "Contents",
   "toc_cell": false,
   "toc_position": {
    "height": "calc(100% - 180px)",
    "left": "10px",
    "top": "150px",
    "width": "210px"
   },
   "toc_section_display": true,
   "toc_window_display": true
  },
  "varInspector": {
   "cols": {
    "lenName": 16,
    "lenType": 16,
    "lenVar": 40
   },
   "kernels_config": {
    "python": {
     "delete_cmd_postfix": "",
     "delete_cmd_prefix": "del ",
     "library": "var_list.py",
     "varRefreshCmd": "print(var_dic_list())"
    },
    "r": {
     "delete_cmd_postfix": ") ",
     "delete_cmd_prefix": "rm(",
     "library": "var_list.r",
     "varRefreshCmd": "cat(var_dic_list()) "
    }
   },
   "types_to_exclude": [
    "module",
    "function",
    "builtin_function_or_method",
    "instance",
    "_Feature"
   ],
   "window_display": false
  }
 },
 "nbformat": 4,
 "nbformat_minor": 2
}
