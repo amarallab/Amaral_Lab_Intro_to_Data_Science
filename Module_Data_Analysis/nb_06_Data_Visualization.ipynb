{
 "cells": [
  {
   "cell_type": "markdown",
   "metadata": {},
   "source": [
    "# Synopsis\n",
    "\n",
    "Visualizing your data is key to both understanding its basic properties and effectively communicating its results to an outside audience. In particular, we will cover some basic principles for creating clean and informative visualizations.\n",
    "\n",
    "\n",
    "In order to learn how to present your data visually you need to have a language for it and to develop a taste. The sites listed below have glossaries and examples of how to choose the best visualization strategy:\n",
    "\n",
    "[chartio](https://chartio.com/learn/charts/how-to-choose-data-visualization/)\n",
    "\n",
    "[data viz catalogue](https://datavizcatalogue.com/)\n",
    "\n",
    "[observable hq](https://observablehq.com/@a10k/data-visualization-glossary)\n",
    "\n",
    "[towards data science](https://towardsdatascience.com/data-visualization-101-7-steps-for-effective-visualizations-491a17d974de)\n",
    " \n",
    "\n",
    "This [site](https://datavizproject.com/) has visualizations on many topics, and discussions of whether they are appropriate or not, and this one Links to an external site. will help you select good color schema for your visualizations.\n",
    "\n"
   ]
  },
  {
   "cell_type": "markdown",
   "metadata": {},
   "source": [
    "# Read libraries"
   ]
  },
  {
   "cell_type": "code",
   "execution_count": null,
   "metadata": {
    "ExecuteTime": {
     "end_time": "2023-08-04T19:12:36.840131Z",
     "start_time": "2023-08-04T19:12:36.278348Z"
    }
   },
   "outputs": [],
   "source": [
    "%load_ext autoreload\n",
    "%autoreload 2\n",
    "%matplotlib inline\n",
    "\n",
    "from colorama import Back, Fore, Style\n",
    "from copy import copy, deepcopy\n",
    "from pathlib import Path\n",
    "from sys import path\n",
    "\n",
    "path.append( str(Path.cwd().parent) )\n"
   ]
  },
  {
   "cell_type": "code",
   "execution_count": null,
   "metadata": {
    "ExecuteTime": {
     "end_time": "2023-08-04T19:25:15.452091Z",
     "start_time": "2023-08-04T19:25:15.402725Z"
    }
   },
   "outputs": [],
   "source": [
    "import matplotlib.pyplot as plt\n",
    "import matplotlib.cm as cm\n",
    "import scipy.stats as stats\n",
    "\n",
    "from Amaral_libraries.my_stats import half_frame, bottom_frame"
   ]
  },
  {
   "cell_type": "code",
   "execution_count": null,
   "metadata": {
    "ExecuteTime": {
     "end_time": "2023-08-04T19:30:13.570489Z",
     "start_time": "2023-08-04T19:30:13.527465Z"
    }
   },
   "outputs": [],
   "source": [
    "my_fontsize = 15"
   ]
  },
  {
   "cell_type": "markdown",
   "metadata": {},
   "source": [
    "# Data visualization\n",
    "\n",
    "Visualizing your data is a **key** component of data analysis, no matter how big or small your data is.  Our minds are hardwired to process visual information, in fact **one-third** of our brain is dedicated to image processing and **40% of all** nerve fibers connected to the brain come from the retina. Visualization is essentially a high-speed link to your cognitive systems.\n",
    "\n",
    "Let me show you a quick example.\n",
    "\n",
    "## Traffic accidents\n",
    "\n",
    "Let's look at this image together. **It plots the number of accidents per month against the time of day**. \n",
    "\n",
    "Can you tell me when accidents are most likely to occur?\n",
    "\n",
    "<img src='Images/visualization_raw_chart.png' width = '600px'>"
   ]
  },
  {
   "cell_type": "markdown",
   "metadata": {},
   "source": [
    "Now let's try something different. This is the same chart, but now I've added a color scale. The individual numbers have a more saturated shade of green-blue (cyan?) the more accidents that occur during that time period.\n",
    "\n",
    "Now tell me, when are accidents most likely to occur? How long did it take you to figure it out?\n",
    "\n",
    "<img src = 'Images/visualization_heatmap.png' width = '600px'>"
   ]
  },
  {
   "cell_type": "markdown",
   "metadata": {},
   "source": [
    "## Effective visualizations make a difference\n",
    "\n",
    "Effective visualizations allow us to make accurate decisions quicker. More importantly they help us make **correct** decisions. When you make a visualization, you're actually trying to make a point. The entire point is to persuade your audience of some fact that you believe to be true. \n",
    "\n",
    "Whether you accept this statement or not, it is what happens. If you don't construct your visualization in a way that informs your audience and allows them to make a correct decision, then they can easily reach a different conclusion. \n",
    "\n",
    "### Creating a poor visualization can be disastrous.\n",
    "\n",
    "You might remember or have read about the 1986 Challenger accident. The Challenger was a NASA Space Shuttle that exploded upon take-off killing the entire crew because the O-rings in the rockets cracked and allowed jet fuel to leak into the combustion chamber."
   ]
  },
  {
   "cell_type": "markdown",
   "metadata": {},
   "source": [
    "**Why did the O-rings crack?**\n",
    "\n",
    "There were rumblings at NASA prior to the Challenger launch that defects in the O-rings occurred at cold temperatures. This data was looked at by a large number of people, but this is how it was presented to senior management (the people actually tasked with making the decision of **whether it was safe or not** to launch the rocket).\n",
    "\n",
    "<img src = 'Images/challenger_original.png' width = '600px'>"
   ]
  },
  {
   "cell_type": "markdown",
   "metadata": {},
   "source": [
    "The predicted temperature for the launch time of the Challenger was 26-29$^o$F.  Do you think that was safe based on the data above?\n",
    "\n",
    "**Would you have cancelled the launch based on these data?**\n",
    "\n",
    "\n",
    "\n",
    "\n",
    "Really hard to say, no?\n"
   ]
  },
  {
   "cell_type": "markdown",
   "metadata": {},
   "source": [
    "Let's use a graph to present the data as a function of launch temperature instead of launch number.\n",
    "\n",
    "<img src='Images/challenger_remade.png' width = '600px'>\n",
    "\n",
    "Would you have cancelled the launch based on these data?"
   ]
  },
  {
   "cell_type": "markdown",
   "metadata": {},
   "source": [
    "## Visualizations are about making patterns visible!\n",
    "\n",
    "However, by using deceiving methods, they can make non-existent patterns appear real. The book \"How to Lie with Statistics\" provides many examples of deceiving techniques. You should learn about them so that you can recognize them and avoid being duped by them.\n",
    "\n",
    "**Dishonest axes**\n",
    "\n",
    "Courtesy of the Biden White House.\n",
    "\n",
    "<img src = 'Images/wh_economic_growth.png' width = '600px'>\n",
    "\n"
   ]
  },
  {
   "cell_type": "markdown",
   "metadata": {},
   "source": [
    "**Fake scale**\n",
    "\n",
    "Courtesy of National Law Enforcement Memorial and Museum's *2021 End-of-Year Preliminary Law Enforcement Officers Fatalities Report*.\n",
    "\n",
    "<img src = 'Images/police-fatalities.png' width = '400px'>\n",
    "\n"
   ]
  },
  {
   "cell_type": "code",
   "execution_count": null,
   "metadata": {
    "ExecuteTime": {
     "end_time": "2023-08-04T19:26:28.991167Z",
     "start_time": "2023-08-04T19:26:28.908963Z"
    }
   },
   "outputs": [],
   "source": [
    "x = np.array([62, 58, 37, 301])\n",
    "x = x.reshape(4, 1)\n",
    "\n",
    "fig = plt.figure( figsize= (5, 1) )\n",
    "ax = fig.add_subplot(111)\n",
    "bottom_frame( ax, '2021 Fatalities' )\n",
    "\n",
    "bottom = 0\n",
    "ax.barh([1], x[0], left = bottom, color = 'darkblue')\n",
    "bottom += x[0]\n",
    "ax.barh([1], x[1], left = bottom, color = 'steelblue')\n",
    "bottom += x[1]\n",
    "ax.barh([1], x[2], left = bottom, color = '0.7')\n",
    "bottom += x[2]\n",
    "ax.barh([1], x[3], left = bottom, color = '0.0');\n"
   ]
  },
  {
   "cell_type": "markdown",
   "metadata": {},
   "source": [
    "**Cropped bar plots**\n",
    "\n",
    "Courtesy of Fox News\n",
    "\n",
    "<center>\n",
    "<table>\n",
    "    <tr>\n",
    "        <td><img src = 'Images/aca_enrollment_fox.webp' width = '300px'></td>\n",
    "        <td><img src = 'Images/aca_enrollment_corrected.jpg' width = '300px'></td>\n",
    "    </tr>\n",
    "</table>\n",
    "</center>\n",
    "\n",
    "\n"
   ]
  },
  {
   "cell_type": "markdown",
   "metadata": {},
   "source": [
    "## Making a good graph is not trivial. \n",
    "\n",
    "**It requires thinking and the ability to summarize information.** \n",
    "\n",
    "In fact, **it is no different from writing a good essay or writing good code.**  \n",
    "\n",
    "You need to know enough to have a point of view.  You need to choose the right argument that is solid and valid. You need to know how to present that point of view clearly. "
   ]
  },
  {
   "cell_type": "markdown",
   "metadata": {},
   "source": [
    "Consider this example, courtesy of *Americans United for Life* and *The Washington Post*.\n",
    "\n",
    "<img src = 'Images/abortion.png' width = '600px'>\n",
    "\n",
    "*Americans United for Life* wants to argue that the number of abortions performed by *Planned Parenthood* is going up enormously, while other medical procedures (such as screening for cancer) have been going down dramatically.\n",
    "\n",
    "*The Washington Post* shows that, when placed on the same scale, *Planned Parenthood* performs nearly three times as many cancer screens as abortions. That is, while the trends presented by *Americans United for Life* are correct, that *Planned Parenthood* provides many other medical services besides abortions.\n",
    "\n"
   ]
  },
  {
   "cell_type": "markdown",
   "metadata": {
    "ExecuteTime": {
     "end_time": "2023-08-04T19:15:23.366487Z",
     "start_time": "2023-08-04T19:15:23.326506Z"
    }
   },
   "source": [
    "Unfortunately, both representations lack context.  As the following plot shows, the number of abortions in the US has decreased by more than half from the late 1970s peak. \n",
    "\n",
    "<img src = 'Images/us_abortions.png' width = '600px'>\n",
    "\n"
   ]
  },
  {
   "cell_type": "markdown",
   "metadata": {},
   "source": [
    "But even these data do not tell the all story.  First, the number of people that could conceivably get an abortion has not remained constant.  So, more important than the total number is the rate.  The following graphs shows that the abortion rate has since 2012 been below even the 1973 levels.\n",
    "\n",
    "<img src = 'Images/us_abortion_rate.png' width = '600px'>\n"
   ]
  },
  {
   "cell_type": "markdown",
   "metadata": {},
   "source": [
    "Second, because of intimidation and state and local legislation, the number of hospitals performing abortions has decreased significantly.  This change has pushed procedures to clinics such as those run by *Planned Parenthood*.\n",
    "\n",
    "<img src = 'Images/us_abortion_providers.webp' width = '600px'>"
   ]
  },
  {
   "cell_type": "markdown",
   "metadata": {},
   "source": [
    "\n",
    "From here on we will focus on the actual nuts and bolts of crafting a graph in Python, but you should keep these principles in mind. \n"
   ]
  },
  {
   "cell_type": "markdown",
   "metadata": {},
   "source": [
    "# The free `Matlab`\n",
    "\n",
    "\n",
    "**`numpy` - Numerical Python**\n",
    "[Package documentation](http://docs.scipy.org/doc/numpy/)\n",
    "\n",
    "\n",
    "**`scipy` - Scientific Python**\n",
    "[Package documentation](http://docs.scipy.org/doc/scipy/reference/)\n",
    "\n",
    "These two packages enable us to reproduce much of the capabilities of software such as *Matlab*.  they contain functions enabling one to do linear algebra, solve differential equations, generate pseudorandom numbers, and conduct statistical analysis.\n",
    "\n"
   ]
  },
  {
   "cell_type": "markdown",
   "metadata": {},
   "source": [
    "# Plotting with `matplotlib`\n",
    "\n",
    "[Package documentation]()\n",
    "\n",
    "A number of plotting packages for Python have been released in the last few years. Currently, we like and recommend `matplotlib`. `Matplotlib` was created in 2003 and is the oldest Python plotting library that has remained under active development.\n",
    "\n",
    "However, that doesn't mean that it's always the best for all purposes or that it will remain our recommendation for ever. Among biologists, the `seaborn` library has become popular. If you are able to make your data publicly available, there is a service called `plot.ly` with a Python library.\n",
    "\n",
    "A problem with `matplotlib` is that its documentation is not particularly good. Typically, programmers copy the source code of visualizations they like and modify them. There are also lots and lots of **stackoverflow** answers concerning `matplotlib`. \n",
    "\n",
    "**`matplotlib` is completely costumizable.** \n",
    "\n",
    "\n",
    "**To learn more, browse the docummentation.**\n"
   ]
  },
  {
   "cell_type": "markdown",
   "metadata": {},
   "source": [
    "## Create a figure object\n",
    "\n",
    "We start by createing a `figure` object.\n",
    "\n",
    "We can pass arguments to the figure object when we create it. For example, we can change its size."
   ]
  },
  {
   "cell_type": "code",
   "execution_count": null,
   "metadata": {
    "ExecuteTime": {
     "end_time": "2023-01-27T20:42:50.200789Z",
     "start_time": "2023-01-27T20:42:50.135951Z"
    }
   },
   "outputs": [],
   "source": [
    "fig = plt.figure(figsize = (4, 4.5))\n",
    "print(type(fig))"
   ]
  },
  {
   "cell_type": "markdown",
   "metadata": {
    "ExecuteTime": {
     "end_time": "2018-12-18T21:01:02.197460Z",
     "start_time": "2018-12-18T21:01:02.187645Z"
    }
   },
   "source": [
    "Those dimensions are actually in inches, the first one is the width and the other is the height.\n",
    "\n",
    "## Creating `axis` within a figure\n",
    "\n",
    "Now we have to create something to plot, that something is a set of `axes` inside a `subplot`. Subplots let us have multiple graphs inside a single plot."
   ]
  },
  {
   "cell_type": "code",
   "execution_count": null,
   "metadata": {
    "ExecuteTime": {
     "end_time": "2023-02-05T22:05:14.660983Z",
     "start_time": "2023-02-05T22:05:14.497951Z"
    }
   },
   "outputs": [],
   "source": [
    "fig = plt.figure(figsize = (4, 3))\n",
    "\n",
    "ax = fig.add_subplot(2, 1, 1)\n",
    "\n",
    "ax.plot([1, 2, 3, 4], [1, 2, 3, 4], color = 'steelblue', \n",
    "        marker = 'o', lw = 2)\n",
    "ax.plot([7, 8 , 9], [7, 8 , 9], color= 'orange', marker='^')\n",
    "\n",
    "ax = fig.add_subplot(2, 1, 2)\n",
    "ax.plot([11, 12, 13], [11, 12, 13], color ='red')\n",
    "\n",
    "plt.tight_layout()"
   ]
  },
  {
   "cell_type": "markdown",
   "metadata": {},
   "source": [
    "When we specify subplots the first number is the number of rows of plots. The second number is the number of columns of plots. The third number is the specific plot that you wish to populate. This number goes from 1 to the maximum plot number (num_columns * num_rows). Hopefully this image will make it more clear\n",
    "\n",
    "<img src='Images/matplotlib_subplots.png' width = '400px'></img>\n"
   ]
  },
  {
   "cell_type": "markdown",
   "metadata": {},
   "source": [
    "## Create some data\n",
    "\n",
    "Let's create some fake data that we can use to understand how to costumize plots."
   ]
  },
  {
   "cell_type": "code",
   "execution_count": null,
   "metadata": {
    "ExecuteTime": {
     "end_time": "2023-08-04T19:29:52.851735Z",
     "start_time": "2023-08-04T19:29:52.812994Z"
    }
   },
   "outputs": [],
   "source": [
    "x = range(5,100,5)"
   ]
  },
  {
   "cell_type": "code",
   "execution_count": null,
   "metadata": {
    "ExecuteTime": {
     "end_time": "2023-08-04T19:29:55.732955Z",
     "start_time": "2023-08-04T19:29:55.695193Z"
    }
   },
   "outputs": [],
   "source": [
    "# This is a LIST COMPREHENSION\n",
    "#\n",
    "y = [i**2 for i in x]\n",
    "\n",
    "# which is equivalent to the code below\n",
    "#\n",
    "y1 = []\n",
    "for i in x:\n",
    "    y1.append(i**2)\n",
    "    \n",
    "print(y)\n",
    "print(y1)"
   ]
  },
  {
   "cell_type": "markdown",
   "metadata": {},
   "source": [
    "Let's create a simple plot using the variables `x` and `y` from above."
   ]
  },
  {
   "cell_type": "code",
   "execution_count": null,
   "metadata": {
    "ExecuteTime": {
     "end_time": "2023-08-04T19:30:01.225396Z",
     "start_time": "2023-08-04T19:30:01.142550Z"
    }
   },
   "outputs": [],
   "source": [
    "fig = plt.figure( figsize = (5, 5/1.6) )\n",
    "ax = fig.add_subplot(1, 1, 1)\n",
    "\n",
    "ax.plot(x, y)\n",
    "\n",
    "plt.show()"
   ]
  },
  {
   "cell_type": "markdown",
   "metadata": {},
   "source": [
    "## Fixing the x and y axes\n",
    "\n",
    "Of course, the graph above is shit.  \n",
    "\n",
    "If you showed it to me, I would be rather disappointed.\n",
    "\n",
    "First of all, you have no axis labels! \n",
    "\n",
    "**How am I to know what you are plotting?**\n"
   ]
  },
  {
   "cell_type": "code",
   "execution_count": null,
   "metadata": {
    "ExecuteTime": {
     "end_time": "2023-02-05T22:06:18.281842Z",
     "start_time": "2023-02-05T22:06:18.168479Z"
    }
   },
   "outputs": [],
   "source": [
    "fig = plt.figure( figsize = (5, 5/1.6) )\n",
    "ax = fig.add_subplot(1,1,1)\n",
    "\n",
    "# We should add a label to our dataset that will go into a legend\n",
    "ax.plot(x, y, label = \"Parabola\")\n",
    "\n",
    "# Now we can label the axes. \n",
    "# Always label your axes! Who knows what is in the graph otherwise\n",
    "ax.set_xlabel(\"x\")\n",
    "ax.set_ylabel(\"f(x)\")\n",
    "\n",
    "# Display legend\n",
    "ax.legend()\n",
    "\n",
    "plt.tight_layout()\n",
    "plt.show()\n",
    "\n",
    "# plt.savefig()"
   ]
  },
  {
   "cell_type": "markdown",
   "metadata": {},
   "source": [
    "The fonts used in a graph should be easy to read. We can change readability by playing with font style and font size.  \n",
    "\n",
    "**Sans-serif fonts (such as Helvetica and Arial) are better for screen and poster reading.**\n",
    "\n",
    "**Font size can help us see what is important.**  The font for the axis label should be larger than the size of the one used for the tick labels.\n",
    "\n",
    "I like to define a default size and then adjust other sizes in relation to that one."
   ]
  },
  {
   "cell_type": "markdown",
   "metadata": {},
   "source": [
    "## Changing font sizes and adding text to an `axis`"
   ]
  },
  {
   "cell_type": "code",
   "execution_count": null,
   "metadata": {
    "ExecuteTime": {
     "end_time": "2023-02-05T22:06:29.236821Z",
     "start_time": "2023-02-05T22:06:28.972072Z"
    }
   },
   "outputs": [],
   "source": [
    "# Create the figure\n",
    "fig = plt.figure( figsize = (5, 5/1.6) )\n",
    "ax = fig.add_subplot(1,1,1)\n",
    "\n",
    "# We should add a label to our dataset that will go into a legend\n",
    "ax.plot(x, y, label = \"Parabola\", color = 'steelblue', linewidth = 3, \n",
    "        marker = 'o', markersize = 5)\n",
    "\n",
    "# Now we can label the axes. \n",
    "# Always label your axes! Who knows what is in the graph otherwise\n",
    "#\n",
    "# ax.set_xlabel(\"$\\mu$\", loc = 'right', fontsize = 1.6*my_fontsize)\n",
    "# ax.set_ylabel(\"$f(\\mu)$\", loc = 'top', fontsize = 1.6*my_fontsize)\n",
    "\n",
    "ax.set_xlabel(\"$\\mu$\", fontsize = 1.6*my_fontsize)\n",
    "ax.set_ylabel(\"$f(\\mu)$\", fontsize = 1.6*my_fontsize)\n",
    "\n",
    "# Display legend\n",
    "ax.legend(loc='best', fontsize = my_fontsize, \n",
    "          markerscale = 1.2)\n",
    "\n",
    "#Adding a panel label\n",
    "ax.text(90, 500, \"(a)\", fontsize = 1.2 * my_fontsize)\n",
    "\n",
    "plt.tight_layout()\n",
    "plt.show()"
   ]
  },
  {
   "cell_type": "markdown",
   "metadata": {},
   "source": [
    "## Changing background color and customizing the frame of the figure\n",
    "\n",
    "You can also change the background of your image.  This is useful when preparing presentation or images for the web. However, notice that for printing a non-white background is not great because it will lead to a waste of ink. \n"
   ]
  },
  {
   "cell_type": "code",
   "execution_count": null,
   "metadata": {
    "ExecuteTime": {
     "end_time": "2023-02-05T22:06:36.002750Z",
     "start_time": "2023-02-05T22:06:35.876532Z"
    }
   },
   "outputs": [],
   "source": [
    "# Create the figure\n",
    "fig = plt.figure( figsize = (5, 5/1.6) )\n",
    "ax = fig.add_subplot(1,1,1, facecolor = '0.9')\n",
    "\n",
    "# We should add a label to our dataset that will go into a legend\n",
    "ax.plot(x, y, label = \"Parabola\", color = 'steelblue', linewidth = 3, \n",
    "        marker = 'o', markersize = 5)\n",
    "\n",
    "# Now we can label the axes. \n",
    "ax.set_xlabel(\"$\\mu$\", fontsize = 1.6*my_fontsize)\n",
    "ax.set_ylabel(\"$f(\\mu)$\", fontsize = 1.6*my_fontsize)\n",
    "\n",
    "# Display legend (I don't like box around legend)\n",
    "ax.legend(loc='best', frameon=False, fontsize = my_fontsize, \n",
    "          markerscale = 1.2)\n",
    "\n",
    "#Adding a panel label \n",
    "ax.text(85, 500, \"(a)\", fontsize = 1.2 * my_fontsize)\n",
    "\n",
    "# Turn off the spines for two of the 4 axes\n",
    "for axis in ['bottom','left']:\n",
    "    ax.spines[axis].set_linewidth(1.5)\n",
    "    ax.spines[axis].set_position((\"axes\", -0.02))\n",
    "for axis in ['top','right']:\n",
    "    ax.spines[axis].set_visible(False)\n",
    "\n",
    "# We'll also need to turn off the ticks on the axes that we turned off\n",
    "# and adjust the length and tickness\n",
    "ax.tick_params(width = 1.5, length = 6)\n",
    "ax.yaxis.set_ticks_position('left')\n",
    "ax.xaxis.set_ticks_position('bottom')\n",
    "\n",
    "# Set axes limits\n",
    "ax.set_xlim(0, 100)\n",
    "ax.set_ylim(0, 10000)\n",
    "\n",
    "plt.tight_layout()\n",
    "plt.show()\n",
    "# plt.savefig('quadratic_half_frame.png')"
   ]
  },
  {
   "cell_type": "markdown",
   "metadata": {},
   "source": [
    "You see now that the number of options that you can possibly configure to make a graph look like **how you want** is **enormous!** \n",
    "\n",
    "There's way too much to go over in this course, so we're going to stop going over more and more options now. \n",
    "\n",
    "If you want to learn more about the intricacies of `matplotlib` I think that this is a good [tutorial](http://www.labri.fr/perso/nrougier/teaching/matplotlib/).\n",
    "\n"
   ]
  },
  {
   "cell_type": "markdown",
   "metadata": {
    "ExecuteTime": {
     "end_time": "2022-07-07T21:59:49.750214Z",
     "start_time": "2022-07-07T21:59:49.736681Z"
    }
   },
   "source": [
    "# Taking advantage of pre-defined styles\n",
    "\n",
    "A way to get around the default style of `matplotlib` is by using a relatively new addition to `matplotlib`: `styles`. There are a few (but should be more soon) pre-canned styles that look pretty okay. These by no means generate *publishable* figures, but they look decent enough to show a colleague.\n",
    "\n",
    "You can actually change the default style in the entire notebook if you execute\n",
    "\n",
    "    plt.style.use('style_name')\n",
    "    \n",
    "But I don't want to change the style of every plot in the notebook. When you don't want to change the style globally, you can just write a graph like this:\n",
    "\n",
    "    with plt.style.context('style_name'):\n",
    "        #Your graph code here\n",
    "        \n",
    "That `with` statement basically says that all of the code inside that block should use that setting. Once we leave the `with` block the `with` statement is no longer applied.\n"
   ]
  },
  {
   "cell_type": "markdown",
   "metadata": {},
   "source": [
    "## The `ggplot` style"
   ]
  },
  {
   "cell_type": "code",
   "execution_count": null,
   "metadata": {
    "ExecuteTime": {
     "end_time": "2023-08-04T19:30:17.392611Z",
     "start_time": "2023-08-04T19:30:17.226096Z"
    }
   },
   "outputs": [],
   "source": [
    "with plt.style.context('ggplot'):\n",
    "    fig = plt.figure( figsize = (5, 5/1.6) )\n",
    "    ax = fig.add_subplot(1,1,1)\n",
    "    \n",
    "    # We should add a label to our dataset that will go into a legend\n",
    "    ax.plot(x, y, label = \"Parabola\")\n",
    "    \n",
    "    # Label the axes.\n",
    "    ax.set_xlabel(\"$x$\", fontsize = 1.6*my_fontsize)\n",
    "    ax.set_ylabel(\"f(x)\", fontsize = 1.6*my_fontsize)\n",
    "    \n",
    "    # Set axes limits\n",
    "    ax.set_xlim(0, 100)\n",
    "    ax.set_ylim(0, 10000)\n",
    "  \n",
    "    # Display legend\n",
    "    ax.legend(loc='best', frameon=False, fontsize = my_fontsize)"
   ]
  },
  {
   "cell_type": "markdown",
   "metadata": {},
   "source": [
    "## The `bmh` style"
   ]
  },
  {
   "cell_type": "code",
   "execution_count": null,
   "metadata": {
    "ExecuteTime": {
     "end_time": "2023-08-04T19:30:20.699782Z",
     "start_time": "2023-08-04T19:30:20.584202Z"
    }
   },
   "outputs": [],
   "source": [
    "with plt.style.context('bmh'):\n",
    "    fig = plt.figure( figsize = (5, 5/1.6) )\n",
    "    ax = fig.add_subplot(1,1,1)\n",
    "    \n",
    "    # We should add a label to our dataset that will go into a legend\n",
    "    ax.plot(x, y, label = \"Parabola\")\n",
    "    \n",
    "    # Label the axes. \n",
    "    ax.set_xlabel(\"$x$\", fontsize = 1.6*my_fontsize)\n",
    "    ax.set_ylabel(\"$f(x)$\", fontsize = 1.6*my_fontsize)\n",
    "    \n",
    "    # Set axes limits\n",
    "    ax.set_xlim(0, 100)\n",
    "    ax.set_ylim(0, 10000)\n",
    "\n",
    "    # Display legend\n",
    "    ax.legend(loc='best', frameon=False, fontsize = my_fontsize)"
   ]
  },
  {
   "cell_type": "markdown",
   "metadata": {},
   "source": [
    "## The `xkcd` style"
   ]
  },
  {
   "cell_type": "code",
   "execution_count": null,
   "metadata": {
    "ExecuteTime": {
     "end_time": "2023-08-04T19:44:38.622572Z",
     "start_time": "2023-08-04T19:44:38.273026Z"
    }
   },
   "outputs": [],
   "source": [
    "with plt.xkcd():\n",
    "    fig = plt.figure( figsize = (5, 5/1.6) )\n",
    "    ax = fig.add_subplot(1,1,1)\n",
    "\n",
    "    # We should add a label to our dataset that will go into a legend\n",
    "    ax.plot(x, y, label = \"Parabola\", linewidth = 3)\n",
    "    \n",
    "    # Now we can label the axes. \n",
    "    ax.set_xlabel(\"x\", fontsize = 1.6*my_fontsize)\n",
    "    ax.set_ylabel(\"f(x)\", fontsize = 1.6*my_fontsize)\n",
    "    \n",
    "    # Set axes limits\n",
    "    ax.set_xlim(0, 100)\n",
    "    ax.set_ylim(0, 10000)\n",
    "\n",
    "    # Display legend\n",
    "    ax.legend(loc = 'best', frameon=False, fontsize = my_fontsize)"
   ]
  },
  {
   "cell_type": "markdown",
   "metadata": {},
   "source": [
    "# Seaborn\n",
    "\n",
    "[`Seaborn`](https://seaborn.pydata.org/index.html) has become extremely popular among plotting packages built on `matplotlib`. The reason is that it has templates for many times of plots that look quite good without much tweaking.\n",
    "\n",
    "<img src = \"Images/seaborn.png\" >\n",
    "\n",
    "Additionally, `seaborn` also includes datasets that can be used to explore and test the templates."
   ]
  },
  {
   "cell_type": "code",
   "execution_count": null,
   "metadata": {
    "ExecuteTime": {
     "end_time": "2023-08-04T19:50:35.050886Z",
     "start_time": "2023-08-04T19:50:33.338829Z"
    }
   },
   "outputs": [],
   "source": [
    "import seaborn as sns"
   ]
  },
  {
   "cell_type": "code",
   "execution_count": null,
   "metadata": {
    "ExecuteTime": {
     "end_time": "2023-01-27T20:59:21.215093Z",
     "start_time": "2023-01-27T20:59:20.061768Z"
    }
   },
   "outputs": [],
   "source": [
    "# Load the example planets dataset\n",
    "planets = sns.load_dataset(\"planets\")\n",
    "planets\n"
   ]
  },
  {
   "cell_type": "code",
   "execution_count": null,
   "metadata": {
    "ExecuteTime": {
     "end_time": "2023-01-27T20:59:52.240112Z",
     "start_time": "2023-01-27T20:59:51.635543Z"
    }
   },
   "outputs": [],
   "source": [
    "sns.set_theme(style=\"ticks\")\n",
    "\n",
    "# Initialize the figure with a logarithmic x axis\n",
    "f, ax = plt.subplots(figsize=(7, 6))\n",
    "ax.set_xscale(\"log\")\n",
    "\n",
    "# Plot the orbital period with horizontal boxes\n",
    "sns.boxplot(x=\"distance\", y=\"method\", data=planets,\n",
    "            whis=[5, 95], width=.6, palette=\"vlag\")\n",
    "\n",
    "# Add in points to show each observation\n",
    "sns.stripplot(x = \"distance\", y = \"method\", data = planets,\n",
    "              size = 4, color = \".3\", alpha = 0.5, linewidth = 0)\n",
    "\n",
    "# Tweak the visual presentation\n",
    "ax.xaxis.grid(True)\n",
    "ax.set(ylabel=\"\")\n",
    "sns.despine(trim=True, left=True)"
   ]
  },
  {
   "cell_type": "code",
   "execution_count": null,
   "metadata": {
    "ExecuteTime": {
     "end_time": "2023-01-27T21:01:36.921740Z",
     "start_time": "2023-01-27T21:01:36.480392Z"
    }
   },
   "outputs": [],
   "source": [
    "tips = sns.load_dataset(\"tips\")\n",
    "tips\n"
   ]
  },
  {
   "cell_type": "code",
   "execution_count": null,
   "metadata": {
    "ExecuteTime": {
     "end_time": "2023-01-27T21:01:51.902536Z",
     "start_time": "2023-01-27T21:01:51.343487Z"
    }
   },
   "outputs": [],
   "source": [
    "sns.set_theme(style=\"darkgrid\")\n",
    "\n",
    "g = sns.jointplot(x=\"total_bill\", y=\"tip\", data=tips,\n",
    "                  kind=\"reg\", truncate=False,\n",
    "                  xlim=(0, 60), ylim=(0, 12),\n",
    "                  color=\"m\", height=7)"
   ]
  },
  {
   "cell_type": "markdown",
   "metadata": {},
   "source": [
    "You can read more about the different seaborn styles [here](https://seaborn.pydata.org/tutorial/aesthetics.html)."
   ]
  },
  {
   "cell_type": "markdown",
   "metadata": {},
   "source": [
    "# This is just a taste of what `matplotlib` offers\n",
    "\n",
    "You can see some simple examples of all of these types at the Matplotlib Gallery [page](http://matplotlib.org/gallery.html).\n",
    "\n",
    "**Find time to explore!!**"
   ]
  },
  {
   "cell_type": "code",
   "execution_count": null,
   "metadata": {},
   "outputs": [],
   "source": []
  },
  {
   "cell_type": "markdown",
   "metadata": {},
   "source": [
    "# Let's keep going...\n",
    "\n",
    "[Next lesson](nb_07_Calculating_histograms.ipynb)"
   ]
  },
  {
   "cell_type": "code",
   "execution_count": null,
   "metadata": {},
   "outputs": [],
   "source": []
  }
 ],
 "metadata": {
  "kernelspec": {
   "display_name": "Python [conda env:base]",
   "language": "python",
   "name": "conda-base-py"
  },
  "language_info": {
   "codemirror_mode": {
    "name": "ipython",
    "version": 3
   },
   "file_extension": ".py",
   "mimetype": "text/x-python",
   "name": "python",
   "nbconvert_exporter": "python",
   "pygments_lexer": "ipython3",
   "version": "3.12.4"
  },
  "latex_envs": {
   "LaTeX_envs_menu_present": true,
   "autoclose": false,
   "autocomplete": true,
   "bibliofile": "biblio.bib",
   "cite_by": "apalike",
   "current_citInitial": 1,
   "eqLabelWithNumbers": true,
   "eqNumInitial": 1,
   "hotkeys": {
    "equation": "Ctrl-E",
    "itemize": "Ctrl-I"
   },
   "labels_anchors": false,
   "latex_user_defs": false,
   "report_style_numbering": false,
   "user_envs_cfg": false
  },
  "toc": {
   "base_numbering": 1,
   "nav_menu": {},
   "number_sections": true,
   "sideBar": true,
   "skip_h1_title": false,
   "title_cell": "Table of Contents",
   "title_sidebar": "Contents",
   "toc_cell": false,
   "toc_position": {
    "height": "calc(100% - 180px)",
    "left": "10px",
    "top": "150px",
    "width": "218.733px"
   },
   "toc_section_display": true,
   "toc_window_display": true
  },
  "varInspector": {
   "cols": {
    "lenName": 16,
    "lenType": 16,
    "lenVar": 40
   },
   "kernels_config": {
    "python": {
     "delete_cmd_postfix": "",
     "delete_cmd_prefix": "del ",
     "library": "var_list.py",
     "varRefreshCmd": "print(var_dic_list())"
    },
    "r": {
     "delete_cmd_postfix": ") ",
     "delete_cmd_prefix": "rm(",
     "library": "var_list.r",
     "varRefreshCmd": "cat(var_dic_list()) "
    }
   },
   "types_to_exclude": [
    "module",
    "function",
    "builtin_function_or_method",
    "instance",
    "_Feature"
   ],
   "window_display": false
  }
 },
 "nbformat": 4,
 "nbformat_minor": 4
}
