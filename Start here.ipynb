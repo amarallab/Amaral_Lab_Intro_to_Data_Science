{
 "cells": [
  {
   "cell_type": "markdown",
   "id": "fdc686b8",
   "metadata": {},
   "source": [
    "# Pimping your notebook environment\n",
    "\n",
    "`Jupyter Lab` has lots of cool extensions that make it easier to work efficiently. You can add a table of contents, spell checking, code prettifying, change font size, etc."
   ]
  },
  {
   "cell_type": "code",
   "execution_count": null,
   "id": "0e86809a",
   "metadata": {
    "ExecuteTime": {
     "end_time": "2023-08-04T15:09:29.505828Z",
     "start_time": "2023-08-04T15:09:15.470028Z"
    }
   },
   "outputs": [],
   "source": [
    "!jupyter --version"
   ]
  },
  {
   "cell_type": "markdown",
   "id": "149ba6aa",
   "metadata": {
    "ExecuteTime": {
     "end_time": "2022-08-16T18:48:25.515982Z",
     "start_time": "2022-08-16T18:46:52.537591Z"
    }
   },
   "source": [
    "## Installing extensions\n",
    "\n",
    "In order to set up everything nicely, you can access the puzzle piece on the left most column.\n",
    "\n",
    "<img src = 'Media/jupyter_nbextensions.png' width = 700>\n",
    "\n",
    "<!--- **In Windows, likely it could be that your system does not know where `conda` or `jupyter` are located.**\n",
    "\n",
    "Assuming that you did an installation just for your account, they will likely be located at:\n",
    "\n",
    "> C:\\\\\\\\Users\\{your_username}\\opt\\anaconda3\\condabins\\conda  \n",
    ">\n",
    "> C:\\\\\\\\Users\\{your_username}\\opt\\anaconda3\\condabins\\jupyter \n",
    "--->\n",
    "\n",
    "<br>\n",
    "\n",
    "<br>\n",
    "\n",
    "<br>\n",
    "\n"
   ]
  },
  {
   "cell_type": "markdown",
   "id": "acc95484",
   "metadata": {
    "editable": true,
    "slideshow": {
     "slide_type": ""
    },
    "tags": []
   },
   "source": [
    "## Selecting your extensions\n",
    "\n",
    "**The first time you do this, you will be asked to accept the risk of installing extensions that have not been verified by the `Jupyter Lab` developers.**\n",
    "\n",
    "Selecting the extensions options, will then show you something like the image below.\n",
    "\n",
    "<br>\n",
    "\n",
    "<img src = 'Media/jupyter_nbextensions_selected.png' width = 400>\n",
    "\n",
    "<br>\n",
    "\n",
    "You can then use the `Search extensions` box to type some words relating to extensions that may be of interest to you but may not be already instally.\n",
    "\n",
    "**After installing each extension -- which you can do by clicking `Install` -- you have to reload the page.** \n",
    "\n",
    "\n"
   ]
  },
  {
   "cell_type": "code",
   "execution_count": null,
   "id": "7110d28b",
   "metadata": {},
   "outputs": [],
   "source": []
  },
  {
   "cell_type": "markdown",
   "id": "b02759b5",
   "metadata": {},
   "source": [
    "# OK!  You are ready to start the course...\n",
    "\n",
    "Open [this notebook](Module_An_Intro_to_Python/nb_01_Introduction.ipynb)!"
   ]
  }
 ],
 "metadata": {
  "kernelspec": {
   "display_name": "Python [conda env:amarallab] *",
   "language": "python",
   "name": "conda-env-amarallab-py"
  },
  "language_info": {
   "codemirror_mode": {
    "name": "ipython",
    "version": 3
   },
   "file_extension": ".py",
   "mimetype": "text/x-python",
   "name": "python",
   "nbconvert_exporter": "python",
   "pygments_lexer": "ipython3",
   "version": "3.11.9"
  },
  "toc": {
   "base_numbering": 1,
   "nav_menu": {},
   "number_sections": true,
   "sideBar": true,
   "skip_h1_title": false,
   "title_cell": "Table of Contents",
   "title_sidebar": "Contents",
   "toc_cell": false,
   "toc_position": {
    "height": "calc(100% - 180px)",
    "left": "10px",
    "top": "150px",
    "width": "165px"
   },
   "toc_section_display": true,
   "toc_window_display": true
  },
  "varInspector": {
   "cols": {
    "lenName": 16,
    "lenType": 16,
    "lenVar": 40
   },
   "kernels_config": {
    "python": {
     "delete_cmd_postfix": "",
     "delete_cmd_prefix": "del ",
     "library": "var_list.py",
     "varRefreshCmd": "print(var_dic_list())"
    },
    "r": {
     "delete_cmd_postfix": ") ",
     "delete_cmd_prefix": "rm(",
     "library": "var_list.r",
     "varRefreshCmd": "cat(var_dic_list()) "
    }
   },
   "types_to_exclude": [
    "module",
    "function",
    "builtin_function_or_method",
    "instance",
    "_Feature"
   ],
   "window_display": false
  }
 },
 "nbformat": 4,
 "nbformat_minor": 5
}
