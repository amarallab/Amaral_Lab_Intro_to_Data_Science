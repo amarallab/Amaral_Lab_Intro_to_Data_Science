{
 "cells": [
  {
   "cell_type": "markdown",
   "id": "443b4aaf-33bb-40db-bc24-5e9b8823d57f",
   "metadata": {},
   "source": [
    "# Anaconda reinstall\n",
    "\n",
    "Sometimes you need to reinstall the entirety of Anaconda in order to upgrade.  \n",
    "\n",
    "I know, I hate it too.\n",
    "\n",
    "This is not as simple as it should be, but here are the steps. Start by opening a terminal, then:\n",
    "\n",
    "> 1. **Type and run `conda install anaconda-clean`** to install the Anaconda-Clean package\n",
    ">\n",
    "> 2. When that is done, **type and run `anaconda-clean –yes`** (you might have to do it without the `-yes` part)\n",
    ">\n",
    "> 3. To remove the entire Anaconda directory in our home folder, **type and run `rm -rf ~/anaconda3`** \n",
    ">\n",
    "> 4. To remove Anaconda-Clean backups, **type and run `rm -rf ~/.anaconda_backup`** \n",
    ">\n",
    "> 5. **Type and run `rm -rf ~/anaconda3`** to remove the entire Anaconda directory (you may have to do it with `sudo`). \n"
   ]
  },
  {
   "cell_type": "markdown",
   "id": "1c5dfce1-d643-4ab7-aed1-5531ac4a9fca",
   "metadata": {},
   "source": [
    "# Jupyter specific environment\n",
    "\n",
    "If you have not done anything, your current channel configuration is only *defaults*.  However, some configurations for Jupyter work better if one uses the  *conda forge* channel, which was built for Python 3.9. \n",
    "\n",
    "However, mixing *defaults* and *conda forge* makes your environments unstable. As discussed in this [post to stackoverflow](https://stackoverflow.com/questions/67202874/what-is-nb-conda-kernels-equivalent-for-python-3-9), an alternative is to create a **new env** dedicated to Jupyter infrastructure, which enables you to to automatically access the different kernels you are using with the *nb_conda_kernels* package. \n",
    "\n",
    "To set up a dedicated Jupyter environment follow these steps:\n",
    "\n",
    "1. **Create environment only from conda forge**\n",
    "   \n",
    "> conda create -n jupyter --override-channels -c conda-forge jupyter nb_conda_kernels python=3.9\n",
    "\n",
    "2. **Activate env**\n",
    "   \n",
    "> conda activate -n jupyter\n",
    "\n",
    "3. **Set env-specific channel options**\n",
    "   \n",
    "> conda config --env --set channel_priority strict\n",
    ">\n",
    "> conda config --env --add channels conda-forge\n"
   ]
  },
  {
   "cell_type": "markdown",
   "id": "e5b5ccc9-432b-4bd7-b5ce-ae6d72c89de5",
   "metadata": {},
   "source": [
    "# Using conda enviroments\n",
    "\n",
    "For most of these modules, you will be using the `base` environment.  In `Anaconda`, the base environment is not supposed to be changed, so as not to degrade as packages are added.\n",
    "\n",
    "When you need to use special packages and libraries, you should create a separate environment.  You should use the command \n",
    "\n",
    "> conda --override-channels -c defaults create -n ENV_NAME python\n",
    "\n",
    "This will create an environment named `NEW_ENV` that you can then activate.\n",
    "\n",
    "> conda activate NEW_ENV\n",
    "\n",
    "If then you install `ipython` and `ipykernel` in your new environment, then it will be accessible in the notebooks because your `jupyter` environment has `nb_conda_kernels` installed.\n",
    "\n",
    "> conda --override-channels -c defaults install ipython ipykernel\n",
    "\n",
    "When you are done adding all your packages, just exit the environment.\n",
    "\n",
    "> conda deactivate"
   ]
  },
  {
   "cell_type": "markdown",
   "id": "fdc686b8",
   "metadata": {},
   "source": [
    "# Configuring your notebook environment\n",
    "\n",
    "`Jupyter Lab` has lots of cool extensions that make it easier to work efficiently. You can add a table of contents, spell checking, code prettifying, change font size, etc.\n",
    "\n",
    "First, let us check that everything is working as it should."
   ]
  },
  {
   "cell_type": "code",
   "execution_count": null,
   "id": "ec03b208-21b1-404f-8bf2-c391b4f38a1f",
   "metadata": {},
   "outputs": [],
   "source": [
    "!jupyter server extension list"
   ]
  },
  {
   "cell_type": "code",
   "execution_count": null,
   "id": "0e86809a",
   "metadata": {
    "ExecuteTime": {
     "end_time": "2023-08-04T15:09:29.505828Z",
     "start_time": "2023-08-04T15:09:15.470028Z"
    },
    "tags": []
   },
   "outputs": [],
   "source": [
    "!jupyter --version"
   ]
  },
  {
   "attachments": {},
   "cell_type": "markdown",
   "id": "0c154a3f-d62b-48bf-ab44-ad4d6fbccc1d",
   "metadata": {},
   "source": [
    "## Settings editor\n",
    "\n",
    "If you click on the `Settings` on top left toolbar, and then select the bottom option `Settings Editor`, you will gain access to a new tab where you can change some important configurations for your notebook.\n",
    "\n",
    "Some of the ones I recommend (under `Notebook`) include: code folding, closing brackets.\n",
    "\n",
    "<center>\n",
    "    <img src = 'Media/settings_editor.png' width = 700>\n",
    "</center>\n"
   ]
  },
  {
   "cell_type": "markdown",
   "id": "149ba6aa",
   "metadata": {
    "ExecuteTime": {
     "end_time": "2022-08-16T18:48:25.515982Z",
     "start_time": "2022-08-16T18:46:52.537591Z"
    }
   },
   "source": [
    "## Installing extensions\n",
    "\n",
    "You can also add extensions by clicking on the puzzle piece on the left most column.\n",
    "\n",
    "<img src = 'Media/jupyter_nbextensions.png' width = 700>\n",
    "\n",
    "<!--- **In Windows, likely it could be that your system does not know where `conda` or `jupyter` are located.**\n",
    "\n",
    "Assuming that you did an installation just for your account, they will likely be located at:\n",
    "\n",
    "> C:\\\\\\\\Users\\{your_username}\\opt\\anaconda3\\condabins\\conda  \n",
    ">\n",
    "> C:\\\\\\\\Users\\{your_username}\\opt\\anaconda3\\condabins\\jupyter \n",
    "--->\n",
    "\n",
    "<br>\n",
    "\n",
    "<br>\n",
    "\n",
    "<br>\n",
    "\n"
   ]
  },
  {
   "cell_type": "markdown",
   "id": "acc95484",
   "metadata": {
    "editable": true,
    "slideshow": {
     "slide_type": ""
    },
    "tags": []
   },
   "source": [
    "### Selecting your extensions\n",
    "\n",
    "**The first time you do this, you will be asked to accept the risk of installing extensions that have not been verified by the `Jupyter Lab` developers.**\n",
    "\n",
    "Selecting the extensions options, will then show you something like the image below.\n",
    "\n",
    "<br>\n",
    "\n",
    "<img src = 'Media/jupyter_nbextensions_selected.png' width = 400>\n",
    "\n",
    "<br>\n",
    "\n",
    "You can then use the `Search extensions` box to type some words relating to extensions that may be of interest to you but may not be already instally.\n",
    "\n",
    "**After installing each extension -- which you can do by clicking `Install` -- you have to reload the page.** \n",
    "\n",
    "\n"
   ]
  },
  {
   "cell_type": "markdown",
   "id": "b02759b5",
   "metadata": {},
   "source": [
    "# OK!  You are ready to start the course...\n",
    "\n",
    "Open [this notebook](Module_An_Intro_to_Python/nb_01_Introduction.ipynb)!"
   ]
  },
  {
   "cell_type": "code",
   "execution_count": null,
   "id": "0cef851f-3b8b-4fe3-b45f-13d644d9987b",
   "metadata": {},
   "outputs": [],
   "source": []
  }
 ],
 "metadata": {
  "kernelspec": {
   "display_name": "Python [conda env:base]",
   "language": "python",
   "name": "conda-base-py"
  },
  "language_info": {
   "codemirror_mode": {
    "name": "ipython",
    "version": 3
   },
   "file_extension": ".py",
   "mimetype": "text/x-python",
   "name": "python",
   "nbconvert_exporter": "python",
   "pygments_lexer": "ipython3",
   "version": "3.12.4"
  },
  "toc": {
   "base_numbering": 1,
   "nav_menu": {},
   "number_sections": true,
   "sideBar": true,
   "skip_h1_title": false,
   "title_cell": "Table of Contents",
   "title_sidebar": "Contents",
   "toc_cell": false,
   "toc_position": {
    "height": "calc(100% - 180px)",
    "left": "10px",
    "top": "150px",
    "width": "165px"
   },
   "toc_section_display": true,
   "toc_window_display": true
  },
  "varInspector": {
   "cols": {
    "lenName": 16,
    "lenType": 16,
    "lenVar": 40
   },
   "kernels_config": {
    "python": {
     "delete_cmd_postfix": "",
     "delete_cmd_prefix": "del ",
     "library": "var_list.py",
     "varRefreshCmd": "print(var_dic_list())"
    },
    "r": {
     "delete_cmd_postfix": ") ",
     "delete_cmd_prefix": "rm(",
     "library": "var_list.r",
     "varRefreshCmd": "cat(var_dic_list()) "
    }
   },
   "types_to_exclude": [
    "module",
    "function",
    "builtin_function_or_method",
    "instance",
    "_Feature"
   ],
   "window_display": false
  }
 },
 "nbformat": 4,
 "nbformat_minor": 5
}
