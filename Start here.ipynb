{
 "cells": [
  {
   "cell_type": "markdown",
   "id": "fdc686b8",
   "metadata": {},
   "source": [
    "# Pimping your notebook environment\n",
    "\n",
    "`Jupyter Notebook` has lots of cool extensions that make it easier to work efficiently. You can add a table of contents, spell checking, code prettifying, change font size, etc."
   ]
  },
  {
   "cell_type": "code",
   "execution_count": 1,
   "id": "0e86809a",
   "metadata": {
    "ExecuteTime": {
     "end_time": "2023-08-04T15:09:29.505828Z",
     "start_time": "2023-08-04T15:09:15.470028Z"
    }
   },
   "outputs": [
    {
     "name": "stdout",
     "output_type": "stream",
     "text": [
      "Selected Jupyter core packages...\n",
      "IPython          : 8.12.0\n",
      "ipykernel        : 6.19.2\n",
      "ipywidgets       : 8.0.4\n",
      "jupyter_client   : 8.1.0\n",
      "jupyter_core     : 5.3.0\n",
      "jupyter_server   : 2.5.0\n",
      "jupyterlab       : 3.6.3\n",
      "nbclient         : 0.5.13\n",
      "nbconvert        : 6.5.4\n",
      "nbformat         : 5.7.0\n",
      "notebook         : 6.5.4\n",
      "qtconsole        : 5.4.2\n",
      "traitlets        : 5.7.1\n"
     ]
    }
   ],
   "source": [
    "!jupyter --version"
   ]
  },
  {
   "cell_type": "markdown",
   "id": "149ba6aa",
   "metadata": {
    "ExecuteTime": {
     "end_time": "2022-08-16T18:48:25.515982Z",
     "start_time": "2022-08-16T18:46:52.537591Z"
    }
   },
   "source": [
    "## Installing extensions\n",
    "\n",
    "In order to get everything setup nicely, you need to run a few commands in the `Terminal`:\n",
    "\n",
    "> `conda install -c conda-forge jupyter_contrib_nbextensions`\n",
    ">\n",
    "> `jupyter contrib nbextension install --user`\n",
    ">\n",
    "> `jupyter nbextension enable varInspector/main`\n",
    "\n",
    "\n",
    "<!--- **In Windows, likely it could be that your system does not know where `conda` or `jupyter` are located.**\n",
    "\n",
    "Assuming that you did an installation just for your account, they will likely be located at:\n",
    "\n",
    "> C:\\\\\\\\Users\\{your_username}\\opt\\anaconda3\\condabins\\conda  \n",
    ">\n",
    "> C:\\\\\\\\Users\\{your_username}\\opt\\anaconda3\\condabins\\jupyter \n",
    "--->"
   ]
  },
  {
   "cell_type": "markdown",
   "id": "acc95484",
   "metadata": {},
   "source": [
    "## Selecting your extensions\n",
    "\n",
    "**After successfully running these commands, you should quit the `Jupyter` server.**\n",
    "\n",
    "To accomplish this, you click on the `Quit` button to stop the server (see image below), and then close the browser tab (or window). \n",
    "\n",
    "Then restart the `Notebook` and you should see `Nbextensions` there as shown in the image:\n",
    "\n",
    "<img src = 'Media/jupyter_nbextensions.png' width = 600>"
   ]
  },
  {
   "cell_type": "markdown",
   "id": "b91f18fe",
   "metadata": {},
   "source": [
    "Below, you can see the extensions I selected. But you do you!\n",
    "\n",
    "<img src = 'Media/jupyter_nbextensions_selected.png' width = 600>"
   ]
  },
  {
   "cell_type": "code",
   "execution_count": null,
   "id": "7110d28b",
   "metadata": {},
   "outputs": [],
   "source": []
  },
  {
   "cell_type": "markdown",
   "id": "b02759b5",
   "metadata": {},
   "source": [
    "# OK!  You are ready to start the course...\n",
    "\n",
    "Open [this notebook](Module_An_Intro_to_Python/nb_01_Introduction.ipynb)!"
   ]
  }
 ],
 "metadata": {
  "kernelspec": {
   "display_name": "Python [conda env:new_base] *",
   "language": "python",
   "name": "conda-env-new_base-py"
  },
  "language_info": {
   "codemirror_mode": {
    "name": "ipython",
    "version": 3
   },
   "file_extension": ".py",
   "mimetype": "text/x-python",
   "name": "python",
   "nbconvert_exporter": "python",
   "pygments_lexer": "ipython3",
   "version": "3.11.4"
  },
  "toc": {
   "base_numbering": 1,
   "nav_menu": {},
   "number_sections": true,
   "sideBar": true,
   "skip_h1_title": false,
   "title_cell": "Table of Contents",
   "title_sidebar": "Contents",
   "toc_cell": false,
   "toc_position": {
    "height": "calc(100% - 180px)",
    "left": "10px",
    "top": "150px",
    "width": "165px"
   },
   "toc_section_display": true,
   "toc_window_display": true
  },
  "varInspector": {
   "cols": {
    "lenName": 16,
    "lenType": 16,
    "lenVar": 40
   },
   "kernels_config": {
    "python": {
     "delete_cmd_postfix": "",
     "delete_cmd_prefix": "del ",
     "library": "var_list.py",
     "varRefreshCmd": "print(var_dic_list())"
    },
    "r": {
     "delete_cmd_postfix": ") ",
     "delete_cmd_prefix": "rm(",
     "library": "var_list.r",
     "varRefreshCmd": "cat(var_dic_list()) "
    }
   },
   "types_to_exclude": [
    "module",
    "function",
    "builtin_function_or_method",
    "instance",
    "_Feature"
   ],
   "window_display": false
  }
 },
 "nbformat": 4,
 "nbformat_minor": 5
}
