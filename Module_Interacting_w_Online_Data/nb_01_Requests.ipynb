{
 "cells": [
  {
   "cell_type": "markdown",
   "metadata": {
    "ExecuteTime": {
     "end_time": "2021-01-05T21:46:30.733444Z",
     "start_time": "2021-01-05T21:46:30.709574Z"
    }
   },
   "source": [
    "# Synopsis\n",
    "\n",
    "In this unit we will learn the basics of retrieving data drom the Web using APIs.\n",
    "\n",
    "* What is an API\n",
    "* How to make a request from an URL\n",
    "* How to identify the status of the request (was it successful? if not, why?)\n",
    "* How to read the contents of the response\n",
    "* How to pass parameters within a request\n",
    "* How to authenticate requests"
   ]
  },
  {
   "cell_type": "markdown",
   "metadata": {},
   "source": [
    "# Read libraries"
   ]
  },
  {
   "cell_type": "code",
   "execution_count": null,
   "metadata": {
    "ExecuteTime": {
     "end_time": "2022-10-17T20:32:47.747437Z",
     "start_time": "2022-10-17T20:32:47.269393Z"
    }
   },
   "outputs": [],
   "source": [
    "%load_ext autoreload\n",
    "%autoreload 2\n",
    "%matplotlib inline\n",
    "\n",
    "from colorama import Back, Fore, Style\n",
    "from pathlib import Path\n",
    "from sys import path\n",
    "\n",
    "path.append('../My_libraries')\n",
    "path"
   ]
  },
  {
   "cell_type": "code",
   "execution_count": null,
   "metadata": {
    "ExecuteTime": {
     "end_time": "2022-10-17T20:38:48.456463Z",
     "start_time": "2022-10-17T20:38:48.419709Z"
    }
   },
   "outputs": [],
   "source": [
    "import datetime\n",
    "import json\n",
    "import sys\n",
    "import random\n",
    "import requests\n",
    "import scipy\n",
    "\n",
    "import matplotlib.pyplot as plt\n",
    "import matplotlib.cm as cm\n",
    "import numpy as np\n",
    "import pandas as pd\n",
    "\n",
    "from bs4 import BeautifulSoup\n",
    "from IPython.display import HTML, display, Image\n",
    "from IPython.lib.display import YouTubeVideo\n"
   ]
  },
  {
   "cell_type": "markdown",
   "metadata": {},
   "source": [
    "# Videos"
   ]
  },
  {
   "cell_type": "code",
   "execution_count": null,
   "metadata": {
    "ExecuteTime": {
     "end_time": "2022-09-14T14:32:31.755839Z",
     "start_time": "2022-09-14T14:32:31.645449Z"
    }
   },
   "outputs": [],
   "source": [
    "vid = YouTubeVideo('LosIGgon_KM', width = 600)\n",
    "display(vid)"
   ]
  },
  {
   "cell_type": "markdown",
   "metadata": {},
   "source": [
    "# Interacting with the Web\n",
    "\n",
    "The Internet is a gigantic data dump. There is all the social networking data from Facebook, Twitter, and so on. There is the news from all the traditional media sources plus Quartz, Vox, and so on. Then there is the data from organizations such as the World Bank, the Bureau of Labor Statistics, the US Census, or Chicago's Data Portal.  Finally, you have all your scientific data sources: the National Cancer Institute, the ProteinBank, or the Kyoto Gene and Genomes Encyclopedia.\n",
    "\n",
    "How can you use Python to access those sites and retrieve data for your research, your business, or your hobby?\n",
    "\n",
    "There are two main approaches to retrieve data from websources. The preferred approach is using **Application Program Interfaces** or APIs.  If an organization has decided to share its data, and they have the forethought and resources to do it, they will develop an API that will let you interact with their data.\n",
    "\n",
    "If the organization does not have the forethought or resources to create an API (or if they do not want to share their data), then you have to **crawl** their website and **scrape** their data.\n"
   ]
  },
  {
   "cell_type": "markdown",
   "metadata": {},
   "source": [
    "# Application Program Interfaces\n",
    "\n",
    "**We relied heavily for these materials on https://www.dataquest.io/blog/python-api-tutorial/**\n",
    "\n",
    "APIs simplify the process of obtaining specific information from a data source.  You do not have to worry about figuring out the **format** in which the information is stored, or **where** the information is stored.  All of those matter are handled seamlessly by the API. \n",
    "\n",
    "But convenience is not the only advantage of an API. APIs are also particular useful when:\n",
    "\n",
    "* You want a small piece of a much larger set of data. Reddit comments are one example. What if you want to just pull your own comments on Reddit? It doesn’t make much sense to download the entire Reddit database, then filter just your own comments.\n",
    "    \n",
    "* There is repeated computation involved. Spotify has an API that can tell you the genre of a piece of music. You could theoretically create your own classifier, and use it to categorize music, but you’ll never have as much data as Spotify does.\n",
    "    \n",
    "* The data is changing quickly. An example of this is stock price data. It doesn’t really make sense to regenerate a dataset and download it every minute – this will take a lot of bandwidth, and be pretty slow.\n",
    "    \n",
    "    \n",
    "    \n",
    "## Making a request\n",
    "\n",
    "In order to learn how APIs work, we will first use the APIs developed to retrieve data on the **International Space Station (ISS)**.  The relevant APIs can be found at http://open-notify.org/.  We will first consider the API for retrieving the location (latitude and longitude) of the ISS (http://open-notify.org/Open-Notify-API/ISS-Location-Now/). The API is hosted at http://api.open-notify.org/iss-now.json. \n",
    "\n",
    "So, how do we make requests for information with this API?\n",
    "\n",
    "Like standard webpages, APIs are also hosted on web servers. When you type http://www.google.com in your browser’s address bar, your computer is actually asking the http://www.google.com server for a webpage, which it then returns it to your browser for display. That action is called a `request`. APIs work much the same way, except instead of your web browser asking for a webpage, your program asks for **data**. This data is usually returned in JSON format.\n",
    "\n",
    "There are many possible types of requests. The most common, and the one we will be using throughout this unit, is the `GET` request. A `GET` request simply accesses and downloads the webpage found at the URL you specified as an input. \n",
    "\n",
    "We will use the package [`requests`](http://docs.python-requests.org/en/latest/user/quickstart/) package to crawl (load) webpages and scrape (download) their contents."
   ]
  },
  {
   "cell_type": "code",
   "execution_count": null,
   "metadata": {
    "ExecuteTime": {
     "end_time": "2022-09-14T14:45:48.697658Z",
     "start_time": "2022-09-14T14:45:48.388091Z"
    }
   },
   "outputs": [],
   "source": [
    "response = requests.get(\"http://api.open-notify.org/iss-now.json\")\n",
    "\n",
    "print( response )\n",
    "print( response.status_code )\n"
   ]
  },
  {
   "cell_type": "code",
   "execution_count": null,
   "metadata": {
    "ExecuteTime": {
     "end_time": "2022-09-14T14:47:04.135940Z",
     "start_time": "2022-09-14T14:47:04.101992Z"
    }
   },
   "outputs": [],
   "source": [
    "print(dir(response))\n",
    "print()\n",
    "\n",
    "help(response)"
   ]
  },
  {
   "cell_type": "markdown",
   "metadata": {},
   "source": [
    "Methods from the `requests` package return `Response` objects. One of the most important properties of the response is its `status code`, which is printed by default but which we can also get explicitly.\n",
    "\n",
    "Here are some of the most common status codes you might encounter:\n",
    "* 200, **OK**. Standard response for successful HTTP requests. The actual response will depend on the request method used.\n",
    "* 301, **Moved Permanently**. The server is redirecting you to a different endpoint. This and all future requests should be directed to the given URL. This can happen when a company switches domain names, or an endpoint name is changed.\n",
    "* 303, **See Other**. The response to the request can be found under another URI using a GET method. When received in response to a POST (or PUT/DELETE), the client should presume that the server has received the data and should issue a redirect with a separate GET message. Your web browser automatically fetches the new URL but web crawlers do not usually do this unless you specify it.\n",
    "* 400, **Bad Request**. The server cannot or will not process the request due to an apparent client error (e.g., malformed request syntax, invalid request message framing, or deceptive request routing).\n",
    "* 401, **Unauthorized**. Similar to `403 Forbidden`, but specifically for use when authentication is required and has failed or has not yet been provided. The response must include a WWW-Authenticate header field containing a challenge applicable to the requested resource.\n",
    "* 403, **Forbidden**. The request was a valid request, but the server is refusing to respond to it. `403` error semantically means \"unauthorized\", i.e. the user does not have the necessary permissions for the resource.\n",
    "* 404, **Not Found**. The requested resource could not be found but may be available in the future. Subsequent requests by the client are permissible.\n",
    "* 500, **Internal Server Error**. A generic error message, given when an `unexpected` condition was encountered and no more specific message is suitable.\n",
    "* 503, **Service Unavailable**. The server is currently unavailable (because it is overloaded or down for maintenance). Generally, this is a temporary state.\n",
    "* 504, **Gateway Timeout**. The server was acting as a gateway or proxy and did not receive a timely response from the upstream server.[\n",
    "\n",
    "\n",
    "\n",
    "More codes: http://en.wikipedia.org/wiki/List_of_HTTP_status_codes"
   ]
  },
  {
   "cell_type": "markdown",
   "metadata": {},
   "source": [
    "The status code of our request was **200**. It means that all went well -- we successfully connected to the web address we wanted and downloaded its contents.\n",
    "\n",
    "But `status codes` are not the only methods available:"
   ]
  },
  {
   "cell_type": "code",
   "execution_count": null,
   "metadata": {
    "ExecuteTime": {
     "end_time": "2022-09-14T14:49:24.218261Z",
     "start_time": "2022-09-14T14:49:24.191218Z"
    }
   },
   "outputs": [],
   "source": [
    "print( response.url )"
   ]
  },
  {
   "cell_type": "code",
   "execution_count": null,
   "metadata": {
    "ExecuteTime": {
     "end_time": "2022-09-14T14:52:10.196977Z",
     "start_time": "2022-09-14T14:52:10.177672Z"
    }
   },
   "outputs": [],
   "source": [
    "print( response.text )\n",
    "print()\n",
    "\n",
    "print(type(response.text))"
   ]
  },
  {
   "cell_type": "markdown",
   "metadata": {},
   "source": [
    "This is the content format specified http://open-notify.org/Open-Notify-API/ISS-Location-Now/. It is in `json` format which means that we can easily parse it using the `json` module."
   ]
  },
  {
   "cell_type": "code",
   "execution_count": null,
   "metadata": {
    "ExecuteTime": {
     "end_time": "2022-09-14T14:53:48.626378Z",
     "start_time": "2022-09-14T14:53:48.596231Z"
    }
   },
   "outputs": [],
   "source": [
    "data = json.loads(response.text)\n",
    "print(type(data))\n",
    "print()\n",
    "\n",
    "print( data )\n"
   ]
  },
  {
   "cell_type": "markdown",
   "metadata": {},
   "source": [
    "**YES**. \n",
    "\n",
    "The method `loads()` returns json formatted data as a dictionary. We can print whatever information we need from the dictionary using the appropriate `keys`."
   ]
  },
  {
   "cell_type": "code",
   "execution_count": null,
   "metadata": {
    "ExecuteTime": {
     "end_time": "2022-09-14T14:56:40.780742Z",
     "start_time": "2022-09-14T14:56:40.745798Z"
    }
   },
   "outputs": [],
   "source": [
    "print(datetime.datetime(1970, 1, 1, 0, 0, 0) + datetime.timedelta(seconds = data['timestamp']))"
   ]
  },
  {
   "cell_type": "code",
   "execution_count": null,
   "metadata": {
    "ExecuteTime": {
     "end_time": "2022-09-14T14:57:46.359586Z",
     "start_time": "2022-09-14T14:57:46.203519Z"
    }
   },
   "outputs": [],
   "source": [
    "response = requests.get(\"http://api.open-notify.org/iss-now.json\")\n",
    "data = json.loads(response.text)\n",
    "\n",
    "print( f\"The ISS\\'s current position is \"\n",
    "       f\"{float(data['iss_position']['latitude']):.3f} degrees of latitude\"\n",
    "       f\" and {float(data['iss_position']['longitude']):.3f} \"\n",
    "       f\"degrees of longitude.\")"
   ]
  },
  {
   "cell_type": "markdown",
   "metadata": {},
   "source": [
    ".\n",
    "\n",
    "\n",
    ".\n",
    "\n",
    "\n",
    "**Contrast the niceness above with what you get back when you do a request \n",
    "on a typical webpage...**"
   ]
  },
  {
   "cell_type": "code",
   "execution_count": null,
   "metadata": {
    "ExecuteTime": {
     "end_time": "2022-09-14T15:00:25.737198Z",
     "start_time": "2022-09-14T15:00:25.488536Z"
    }
   },
   "outputs": [],
   "source": [
    "my_url= 'http://www.google.com'\n",
    "response = requests.get(my_url)\n",
    "print(response.status_code)\n",
    "print()\n",
    "\n",
    "print(response.text)\n",
    "print()"
   ]
  },
  {
   "cell_type": "markdown",
   "metadata": {},
   "source": [
    "## Exercise: \n",
    "\n",
    "It is now time for you to try to use an API on your own. The last API available at [`Open Notify`](http://open-notify.org/) returns the number of astronauts in the ISS. Write the code to access that information."
   ]
  },
  {
   "cell_type": "code",
   "execution_count": null,
   "metadata": {
    "ExecuteTime": {
     "end_time": "2021-02-19T20:58:26.507422Z",
     "start_time": "2021-02-19T20:58:25.858771Z"
    }
   },
   "outputs": [],
   "source": []
  },
  {
   "cell_type": "markdown",
   "metadata": {},
   "source": [
    ".\n",
    "\n",
    ".\n",
    "\n",
    ".\n",
    "\n",
    "# The US Census' APIs\n",
    "\n",
    "The United States Census is a decennial census mandated by the United States Constitution. The United States Census Bureau (officially the Bureau of the Census) is responsible for the United States Census.\n",
    "\n",
    "The first census after the American Revolution was taken in 1790, under Secretary of State Thomas Jefferson; there have been 22 federal censuses since that time. The current national census was held in 2010; the next census is scheduled for 2020 and will be largely conducted using the Internet. For years between the decennial censuses, the Census Bureau issues estimates made using surveys and statistical models.\n",
    "\n",
    "The Census Bureau has begun rolling out their datasets via [APIs](http://www.census.gov/developers/). You can find a full list of APIs [here](http://www.census.gov/data/developers/data-sets.html).  In this unit, we will focus on the [decennial census](http://www.census.gov/data/developers/data-sets/decennial-census-data.html).\n",
    "\n",
    "Because we are dealing with US data, we will start by loading some helpful data: US city names, their states, and their geographic codes.  The relevant data is stored in `json` format `Data`.\n",
    "\n"
   ]
  },
  {
   "cell_type": "code",
   "execution_count": null,
   "metadata": {
    "ExecuteTime": {
     "end_time": "2022-09-14T15:16:19.086959Z",
     "start_time": "2022-09-14T15:16:18.957195Z"
    }
   },
   "outputs": [],
   "source": [
    "data_folder = Path.cwd() / 'Data' \n",
    "\n",
    "with open(data_folder / 'us_state_names.json') as file_in:\n",
    "    state_codes = json.load( file_in )\n",
    "    \n",
    "with open(data_folder / 'us_places_by_state.json') as file_in:\n",
    "    places_by_state = json.load( file_in )\n",
    "\n",
    "print(state_codes.keys())"
   ]
  },
  {
   "cell_type": "code",
   "execution_count": null,
   "metadata": {
    "ExecuteTime": {
     "end_time": "2022-09-14T15:17:42.835761Z",
     "start_time": "2022-09-14T15:17:42.803387Z"
    }
   },
   "outputs": [],
   "source": [
    "print(state_codes['MA']['Name'])"
   ]
  },
  {
   "cell_type": "markdown",
   "metadata": {},
   "source": [
    "**FIPS state codes** are numeric and two-letter alphabetic codes defined in U.S. Federal Information Processing Standard Publication (\"FIPS PUB\") 5-2 to identify U.S. states and certain other associated areas. The codes are used in Geographic Names Information System, overseen by the U.S. Board on Geographic Names. "
   ]
  },
  {
   "cell_type": "code",
   "execution_count": null,
   "metadata": {
    "ExecuteTime": {
     "end_time": "2022-09-14T15:17:48.868688Z",
     "start_time": "2022-09-14T15:17:48.834762Z"
    }
   },
   "outputs": [],
   "source": [
    "print(places_by_state.keys())"
   ]
  },
  {
   "cell_type": "code",
   "execution_count": null,
   "metadata": {
    "ExecuteTime": {
     "end_time": "2022-09-14T15:18:05.537060Z",
     "start_time": "2022-09-14T15:18:05.505062Z"
    }
   },
   "outputs": [],
   "source": [
    "print(state_codes['MT'])\n",
    "print()\n",
    "\n",
    "for i in range(2):\n",
    "    print(places_by_state['MT'][i])\n",
    "    print()"
   ]
  },
  {
   "cell_type": "markdown",
   "metadata": {},
   "source": [
    "Now that we have the basic information, we can start using the API to retrieve data. The Census Bureau has a number of helpful resources.  The [decennial census page](http://www.census.gov/data/developers/data-sets/decennial-census-data.html) constains basic instructions on how to contruct queries. There is a also a [page with examples](http://api.census.gov/data/2010/sf1/examples.html), and a page with a list of all (and I *really* mean **all**) [variable codes](http://api.census.gov/data/2010/sf1/variables.html).\n",
    "\n",
    "**But, before we can do anything, you need to obtain a `key` that will identify you as the person doing the queries.**"
   ]
  },
  {
   "cell_type": "code",
   "execution_count": null,
   "metadata": {
    "ExecuteTime": {
     "end_time": "2022-09-14T15:22:07.868732Z",
     "start_time": "2022-09-14T15:22:07.836715Z"
    }
   },
   "outputs": [],
   "source": [
    "with open(Path.cwd().parent.parent.parent / 'My_libraries' / 'amaral_auth.json', 'r') as file_in: \n",
    "    auth = json.load( file_in )\n",
    "    \n",
    "print(auth.keys())\n",
    "print()\n",
    "\n",
    "print(auth['census']['my_key'][3:13])\n",
    "print()\n",
    "\n",
    "my_key = auth['census']['my_key']"
   ]
  },
  {
   "cell_type": "code",
   "execution_count": null,
   "metadata": {
    "ExecuteTime": {
     "end_time": "2022-09-14T15:34:15.506474Z",
     "start_time": "2022-09-14T15:34:13.973805Z"
    }
   },
   "outputs": [],
   "source": [
    "census_url = 'http://api.census.gov/data/2010/dec/sf1?'\n",
    "\n",
    "# P012 is the set of code for population by age and ethnicity\n",
    "# P012A is white population\n",
    "# P012A001 is total white population\n",
    "# P012A002 is total white male population\n",
    "# P012A003 is total white male population younger than 5 \n",
    "# P012A026 is total white female population\n",
    "\n",
    "response = requests.get( census_url, params = {'key': my_key, \n",
    "                                               'get': 'P012A001,NAME', \n",
    "                                               'for': 'state: *'} )\n",
    "\n",
    "print(response.status_code)\n",
    "HTML(response.text)"
   ]
  },
  {
   "cell_type": "code",
   "execution_count": null,
   "metadata": {
    "ExecuteTime": {
     "end_time": "2022-09-14T15:35:21.670364Z",
     "start_time": "2022-09-14T15:35:21.633323Z"
    }
   },
   "outputs": [],
   "source": [
    "ordered_codes = sorted( list(state_codes.keys()) )\n",
    "\n",
    "for key in ordered_codes:\n",
    "    print(key, state_codes[key]['fips_state'])"
   ]
  },
  {
   "cell_type": "markdown",
   "metadata": {},
   "source": [
    "We can also write queries that obtain several data sets all at once. For example, we can obtain population by age and ethnicity using the codes:\n",
    "\n",
    "* P012A018 -- Sex By Age (White Alone) MALE 15 yrs old\n",
    "* P012A038 -- Sex By Age (White Alone) MALE 35 yrs old\n",
    "* P012B018 -- Sex By Age (Black Or African American Alone) MALE 15 yrs old\n",
    "\n",
    "And we can also restrict the query to a single state."
   ]
  },
  {
   "cell_type": "code",
   "execution_count": null,
   "metadata": {
    "ExecuteTime": {
     "end_time": "2022-09-14T15:36:19.136015Z",
     "start_time": "2022-09-14T15:36:18.105857Z"
    }
   },
   "outputs": [],
   "source": [
    "data_codes = ''\n",
    "for code in ['P012A018', 'P012A038', 'P012B018']:\n",
    "    data_codes += code + ','\n",
    "data_codes += 'NAME'\n",
    "print(data_codes)\n",
    "print()\n",
    "\n",
    "state_fips = ( f\"state:{state_codes['AK']['fips_state']},\"\n",
    "               f\"{state_codes['IL']['fips_state']}\" )\n",
    "\n",
    "response = requests.get( census_url, params = {'key': my_key, \n",
    "                                               'get': data_codes, \n",
    "                                               'for': state_fips})\n",
    "\n",
    "print(response.status_code)\n",
    "data = json.loads(response.text)\n",
    "df = pd.DataFrame(data[1:], columns = data[0])\n",
    "df"
   ]
  },
  {
   "cell_type": "markdown",
   "metadata": {},
   "source": [
    "We can also retrieve the population for specific cities."
   ]
  },
  {
   "cell_type": "code",
   "execution_count": null,
   "metadata": {
    "ExecuteTime": {
     "end_time": "2022-07-11T20:43:51.880332Z",
     "start_time": "2022-07-11T20:43:51.081034Z"
    }
   },
   "outputs": [],
   "source": [
    "my_cities = []\n",
    "for city in ['Chicago', 'Evanston', 'Wilmette', 'Aurora']:\n",
    "    for i, data in enumerate(places_by_state['IL']):\n",
    "        if city in data['Name']:\n",
    "            print(i, data['Name'], data['GEOID'])\n",
    "            my_cities.append(i)\n",
    "            break\n",
    "\n",
    "print(my_cities)\n",
    "print()\n",
    "     \n",
    "state_fips = 'state:' + state_codes['IL']['fips_state']\n",
    "location_codes = 'place:'\n",
    "for i in my_cities:\n",
    "    location_codes += places_by_state['IL'][i]['GEOID'][2:] + ','\n",
    "location_codes = location_codes[:-1]\n",
    "\n",
    "print(location_codes)\n",
    "print()\n",
    "\n",
    "response = requests.get( census_url, params = {'key': my_key, \n",
    "                                               'get': 'P012A001,NAME', \n",
    "                                               'for': location_codes, \n",
    "                                               'in': state_fips})\n",
    "\n",
    "\n",
    "\n",
    "print(response.status_code)\n",
    "print('---')\n",
    "data = json.loads(response.text)\n",
    "print(data)\n",
    "print('---')\n",
    "\n",
    "df = pd.DataFrame(data[1:], columns = data[0])\n",
    "df"
   ]
  },
  {
   "cell_type": "markdown",
   "metadata": {},
   "source": [
    "## Refactor our code \n",
    "\n",
    "We have written code that can retrieve specific decennial census information, however, that code is not modular or generalizable. In order to write better code it is useful to refactor our code so it is modular and generalizable.\n"
   ]
  },
  {
   "cell_type": "code",
   "execution_count": null,
   "metadata": {},
   "outputs": [],
   "source": [
    "def create_query_for_census_API( ages, cities, state_code, census_key, \n",
    "                                 ethnicity_code = 'A' ):\n",
    "    \"\"\"\n",
    "    Creates a query for retrieving male populations of given ethnicity \n",
    "    for a given set of cities\n",
    "    \n",
    "    input:\n",
    "        ages - list : ages of male population to query\n",
    "        cities - list : fips codes of cities to query \n",
    "        state_code - str : fips code of state for cities\n",
    "        census_key - str : user personal key for census API\n",
    "        ethnicity_code - str : ethnicity census code (A, B, C, D, H)\n",
    "        \n",
    "    output:\n",
    "        query - dict : params for API query\n",
    "    \"\"\"\n",
    "    # You code here\n",
    "    \n",
    "    return query\n",
    "\n",
    "reponse = requests.get( census_url, params = create_query_for_census_API() )"
   ]
  },
  {
   "cell_type": "code",
   "execution_count": null,
   "metadata": {},
   "outputs": [],
   "source": []
  },
  {
   "cell_type": "code",
   "execution_count": null,
   "metadata": {},
   "outputs": [],
   "source": []
  }
 ],
 "metadata": {
  "anaconda-cloud": {},
  "kernelspec": {
   "display_name": "base",
   "language": "python",
   "name": "base"
  },
  "language_info": {
   "codemirror_mode": {
    "name": "ipython",
    "version": 3
   },
   "file_extension": ".py",
   "mimetype": "text/x-python",
   "name": "python",
   "nbconvert_exporter": "python",
   "pygments_lexer": "ipython3",
   "version": "3.9.12"
  },
  "latex_envs": {
   "LaTeX_envs_menu_present": true,
   "autoclose": false,
   "autocomplete": true,
   "bibliofile": "biblio.bib",
   "cite_by": "apalike",
   "current_citInitial": 1,
   "eqLabelWithNumbers": true,
   "eqNumInitial": 1,
   "hotkeys": {
    "equation": "Ctrl-E",
    "itemize": "Ctrl-I"
   },
   "labels_anchors": false,
   "latex_user_defs": false,
   "report_style_numbering": false,
   "user_envs_cfg": false
  },
  "toc": {
   "base_numbering": 1,
   "nav_menu": {},
   "number_sections": true,
   "sideBar": true,
   "skip_h1_title": false,
   "title_cell": "Table of Contents",
   "title_sidebar": "Contents",
   "toc_cell": false,
   "toc_position": {
    "height": "calc(100% - 180px)",
    "left": "10px",
    "top": "150px",
    "width": "180.8px"
   },
   "toc_section_display": true,
   "toc_window_display": true
  },
  "varInspector": {
   "cols": {
    "lenName": 16,
    "lenType": 16,
    "lenVar": 40
   },
   "kernels_config": {
    "python": {
     "delete_cmd_postfix": "",
     "delete_cmd_prefix": "del ",
     "library": "var_list.py",
     "varRefreshCmd": "print(var_dic_list())"
    },
    "r": {
     "delete_cmd_postfix": ") ",
     "delete_cmd_prefix": "rm(",
     "library": "var_list.r",
     "varRefreshCmd": "cat(var_dic_list()) "
    }
   },
   "types_to_exclude": [
    "module",
    "function",
    "builtin_function_or_method",
    "instance",
    "_Feature"
   ],
   "window_display": false
  }
 },
 "nbformat": 4,
 "nbformat_minor": 1
}
