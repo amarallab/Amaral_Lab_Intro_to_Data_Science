{
 "cells": [
  {
   "cell_type": "markdown",
   "metadata": {},
   "source": [
    "# Synopsis\n",
    "\n",
    "Extracting information from scanned files.\n",
    "\n",
    "# Words to remember\n",
    "\n",
    "**warping**\n",
    "\n",
    "**OCR**\n",
    "\n",
    "**denoising**\n",
    "\n",
    "**blurring**"
   ]
  },
  {
   "cell_type": "markdown",
   "metadata": {},
   "source": [
    "# Read libraries"
   ]
  },
  {
   "cell_type": "code",
   "execution_count": null,
   "metadata": {
    "ExecuteTime": {
     "end_time": "2023-02-13T15:34:19.058786Z",
     "start_time": "2023-02-13T15:34:18.273728Z"
    }
   },
   "outputs": [],
   "source": [
    "%load_ext autoreload\n",
    "%autoreload 2\n",
    "%matplotlib inline\n",
    "\n",
    "from colorama import Back, Fore, Style\n",
    "from copy import copy, deepcopy\n",
    "from pathlib import Path\n",
    "from sys import path\n",
    "\n",
    "path.append( str(Path.cwd().parent) )"
   ]
  },
  {
   "cell_type": "code",
   "execution_count": null,
   "metadata": {
    "ExecuteTime": {
     "end_time": "2023-02-13T22:49:09.573356Z",
     "start_time": "2023-02-13T22:49:09.512989Z"
    }
   },
   "outputs": [],
   "source": [
    "import matplotlib as mpl\n",
    "import matplotlib.pyplot as plt\n",
    "import matplotlib.cm as cm\n",
    "import numpy as np\n",
    "import pytesseract\n",
    "\n",
    "from matplotlib.gridspec import GridSpec\n",
    "from matplotlib.patches import Circle\n",
    "from pylab import imread, imshow\n",
    "from scipy.stats import linregress, mode, pearsonr\n",
    "from skimage import img_as_float, img_as_ubyte\n",
    "from skimage.color import rgb2gray\n",
    "from skimage.feature import match_template\n",
    "from skimage.filters import rank, threshold_otsu, gaussian\n",
    "from skimage.measure import find_contours\n",
    "from skimage.morphology import ( disk, binary_dilation, binary_erosion, \n",
    "                                 binary_closing, binary_opening, \n",
    "                                 remove_small_holes, remove_small_objects,\n",
    "                                 flood_fill, )\n",
    "\n",
    "from skimage.transform import estimate_transform, warp\n",
    "\n",
    "# from skimage import ( transform, color, \n",
    "#                       restoration )\n",
    "\n",
    "\n",
    "from Amaral_libraries.my_stats import half_frame\n",
    "from Amaral_libraries.my_image_library import ( grayscale_zoom, \n",
    "                                                visualize_tesseract_results,\n",
    "                                                rescaling_from_OCR_results, \n",
    "                                                threshold_for_data_extraction,\n",
    "                                                cluster_infered_lines,\n",
    "                                                correct_column_heights,\n",
    "                                                rescaling_from_scan_results,\n",
    "                                              )"
   ]
  },
  {
   "cell_type": "code",
   "execution_count": null,
   "metadata": {
    "ExecuteTime": {
     "end_time": "2023-02-13T15:34:22.846625Z",
     "start_time": "2023-02-13T15:34:22.787380Z"
    }
   },
   "outputs": [],
   "source": [
    "my_fontsize = 15\n",
    "data_folder = Path.cwd() / 'Generated_data'"
   ]
  },
  {
   "cell_type": "markdown",
   "metadata": {},
   "source": [
    "# Load images\n",
    "\n",
    "We load all images but select a single one for further analysis.\n"
   ]
  },
  {
   "cell_type": "code",
   "execution_count": null,
   "metadata": {
    "ExecuteTime": {
     "end_time": "2023-02-13T15:34:33.335790Z",
     "start_time": "2023-02-13T15:34:33.285378Z"
    }
   },
   "outputs": [],
   "source": [
    "loaded_images = list( data_folder.glob('*') )\n",
    "print(f\"There are {len(loaded_images)} images in the folder.\")\n",
    "print()\n",
    "for i in range(len(loaded_images)):\n",
    "    print(f\"{i} - ...{str(loaded_images[i])[103:]}\")\n"
   ]
  },
  {
   "cell_type": "markdown",
   "metadata": {},
   "source": [
    "We will start by considering the image from the Mueller 2012 paper. The reason is that this is a clean image that is well aligned and in which the fonts are common and clear."
   ]
  },
  {
   "cell_type": "code",
   "execution_count": null,
   "metadata": {
    "ExecuteTime": {
     "end_time": "2023-02-13T15:35:15.215062Z",
     "start_time": "2023-02-13T15:35:15.151271Z"
    }
   },
   "outputs": [],
   "source": [
    "mueller_plate = imread(loaded_images[0])\n",
    "print(f\"Mueller 2012 image has shape {mueller_plate.shape}.\\n\")"
   ]
  },
  {
   "cell_type": "markdown",
   "metadata": {},
   "source": [
    "# Mueller 2012 \n",
    "\n",
    "## Selecting the channel\n",
    "\n",
    "We will also want to work with a grayscale version of the image. Since this is already a grayscale image, any channel will work. "
   ]
  },
  {
   "cell_type": "code",
   "execution_count": null,
   "metadata": {
    "ExecuteTime": {
     "end_time": "2023-02-13T15:35:21.882937Z",
     "start_time": "2023-02-13T15:35:21.679995Z"
    }
   },
   "outputs": [],
   "source": [
    "fig = plt.figure( figsize = (8, 8) )\n",
    "plt.imshow( mueller_plate[:,:,1], cmap = 'gray' );\n"
   ]
  },
  {
   "cell_type": "markdown",
   "metadata": {},
   "source": [
    "And the image is already in a good format."
   ]
  },
  {
   "cell_type": "code",
   "execution_count": null,
   "metadata": {
    "ExecuteTime": {
     "end_time": "2023-02-13T15:35:41.908587Z",
     "start_time": "2023-02-13T15:35:41.855378Z"
    }
   },
   "outputs": [],
   "source": [
    "mueller_plate = copy( mueller_plate[:,:,1] )\n",
    "\n",
    "mueller_plate"
   ]
  },
  {
   "cell_type": "markdown",
   "metadata": {},
   "source": [
    "## Extracting the text\n",
    "\n",
    "We will use Tessaract to extract the text."
   ]
  },
  {
   "cell_type": "code",
   "execution_count": null,
   "metadata": {
    "ExecuteTime": {
     "end_time": "2023-02-13T15:35:50.433898Z",
     "start_time": "2023-02-13T15:35:49.602626Z"
    }
   },
   "outputs": [],
   "source": [
    "results = pytesseract.image_to_data( mueller_plate, \n",
    "                                     output_type = pytesseract.Output.DICT )\n",
    "\n",
    "fig = plt.figure( figsize = (15, 10))\n",
    "\n",
    "visualize_tesseract_results(mueller_plate, results, fig)"
   ]
  },
  {
   "cell_type": "markdown",
   "metadata": {},
   "source": [
    "As expected, **most of the text is extracted perfectly!**\n",
    "\n",
    "Let's check how the elements are stored in results so that we can encode them adequately digitally."
   ]
  },
  {
   "cell_type": "code",
   "execution_count": null,
   "metadata": {
    "ExecuteTime": {
     "end_time": "2023-02-13T15:36:03.286191Z",
     "start_time": "2023-02-13T15:36:03.235706Z"
    }
   },
   "outputs": [],
   "source": [
    "print( f\"Index\\t X \\t Y \\t W \\t H \\t Test\" )\n",
    "print('-'*50)      \n",
    "      \n",
    "for i in range(len(results['text'])):\n",
    "    x = results['left'][i]\n",
    "    y = results['top'][i]\n",
    "    w = results['width'][i]\n",
    "    h = results['height'][i]\n",
    "    text = results['text'][i]\n",
    "    \n",
    "    if len(text) > 1:\n",
    "        print(f\"{i:>3}  \\t{x:>3}\\t{y:>3}\\t{w:>3}\\t{h:>3}\\t- {text} -\")"
   ]
  },
  {
   "cell_type": "markdown",
   "metadata": {},
   "source": [
    "## Identifying fixed points for value calculation\n",
    "\n",
    "Below, we will try to locate the `x` and `y` coordinates of the data points.  However, we are not really after those coordinates, what we want is the values of the data.\n",
    "\n",
    "To this end, we will locate the coordinates of a couple of `x` (or `y`) values for  which we can determine the actual value. Then is just a matter of linear re-scaling.\n",
    "\n",
    "For the **left `y` axis**, the good values are where the text equals **100** and **600**. "
   ]
  },
  {
   "cell_type": "code",
   "execution_count": null,
   "metadata": {
    "ExecuteTime": {
     "end_time": "2023-02-13T15:36:33.943547Z",
     "start_time": "2023-02-13T15:36:33.880438Z"
    }
   },
   "outputs": [],
   "source": [
    "i1 = results['text'].index('100')\n",
    "i2 = results['text'].index('600')\n",
    "\n",
    "y1 = int( results['top'][i1] + results['height'][i1] / 2 )\n",
    "y2 = int( results['top'][i2] + results['height'][i2] / 2 )\n",
    "\n",
    "print(i1, y1)\n",
    "print(i2, y2)"
   ]
  },
  {
   "cell_type": "markdown",
   "metadata": {},
   "source": [
    "Good! Those values seem correct.\n",
    "\n",
    "For the **`x` axis**, the good values are where the text equals **1880** and **1950**. "
   ]
  },
  {
   "cell_type": "code",
   "execution_count": null,
   "metadata": {
    "ExecuteTime": {
     "end_time": "2023-02-13T15:36:46.393553Z",
     "start_time": "2023-02-13T15:36:46.347291Z"
    }
   },
   "outputs": [],
   "source": [
    "i1 = results['text'].index('1880')\n",
    "i2 = results['text'].index('1950')\n",
    "\n",
    "x1 = int( results['left'][i1] + results['width'][i1] / 2 )\n",
    "x2 = int( results['left'][i2] + results['width'][i2] / 2 )\n",
    "\n",
    "print(i1, x1)\n",
    "print(i2, x2)"
   ]
  },
  {
   "cell_type": "markdown",
   "metadata": {},
   "source": [
    "Good, those seem correct again!\n",
    "\n",
    "We can integrate this code into a simple re-scaling function for getting data values given `x` and `y` coordinates."
   ]
  },
  {
   "cell_type": "code",
   "execution_count": null,
   "metadata": {
    "ExecuteTime": {
     "end_time": "2023-02-13T15:37:36.501173Z",
     "start_time": "2023-02-13T15:37:36.453691Z"
    },
    "code_folding": [
     0
    ]
   },
   "outputs": [],
   "source": [
    "def rescaling_from_OCR_results( x, y, x_values, y_values, results):\n",
    "    \"\"\"\n",
    "    Calculate data values corresponding to coordinates x (or y) using\n",
    "    the coordinates in image of a pair of x values (or y values) and the \n",
    "    OCR box results returned by Tesseract.\n",
    "    \n",
    "    inputs:\n",
    "        x - int or np.array for x coordinate in image of data point(s)\n",
    "        y - int or np.array for x coordinate in image of data point(s)\n",
    "        x_values - values of two x-axis positions ( must have been found by\n",
    "                                                    Tesseract )\n",
    "        y_values - values of two y-axis positions ( must have been found by\n",
    "                                                    Tesseract )\n",
    "        results - Tesseract image_to_data output results\n",
    "        \n",
    "    returns:\n",
    "       tuple of int or np.array for x value of data point(s) and \n",
    "                int or np.array for y value of data point(s)\n",
    "    \"\"\"\n",
    "    # Values need to be sorted for the transformation to work \n",
    "    # in this form\n",
    "    #\n",
    "    x_values.sort()\n",
    "    y_values.sort()\n",
    "    \n",
    "    # Get x and y fixed points\n",
    "    #\n",
    "    i1 = results['text'].index(x_values[0])\n",
    "    i2 = results['text'].index(x_values[1])\n",
    "\n",
    "    x1 = int( results['left'][i1] + results['width'][i1] / 2 )\n",
    "    x2 = int( results['left'][i2] + results['width'][i2] / 2 )\n",
    "    \n",
    "    i1 = results['text'].index(y_values[0])\n",
    "    i2 = results['text'].index(y_values[1])\n",
    "\n",
    "    y1 = int( results['top'][i1] + results['height'][i1] / 2 )\n",
    "    y2 = int( results['top'][i2] + results['height'][i2] / 2 )\n",
    "    \n",
    "    # Define transformation\n",
    "    #\n",
    "    x_scale = (int(x_values[1]) - int(x_values[0])) / (x2 - x1)\n",
    "    y_scale = (int(y_values[1]) - int(y_values[0])) / (y2 - y1)\n",
    "    \n",
    "    x_base = int( x_values[1] )\n",
    "    y_base = int( y_values[1] )\n",
    "        \n",
    "    return ( x_base + (x - x2) * x_scale, \n",
    "             y_base + (y - y2) * y_scale )\n",
    "\n",
    "\n",
    "x_values = ['1880', '1950']\n",
    "y_values = ['100', '600']\n",
    "\n",
    "# These are just test values\n",
    "#\n",
    "x, y = 200, 590\n",
    "\n",
    "print( rescaling_from_OCR_results( x, y, x_values, y_values, results ) )"
   ]
  },
  {
   "cell_type": "markdown",
   "metadata": {},
   "source": [
    "## Matching data points\n",
    "\n",
    "### Using templates\n",
    "\n",
    "A possible approach involves matching every point in the image to a template.\n",
    "\n",
    "We must first extract the template by finding a array slice that contains the desired symbol. As an example, we will address the data shown using the empty circles.\n"
   ]
  },
  {
   "cell_type": "code",
   "execution_count": null,
   "metadata": {
    "ExecuteTime": {
     "end_time": "2023-02-13T15:39:53.785982Z",
     "start_time": "2023-02-13T15:39:53.651399Z"
    }
   },
   "outputs": [],
   "source": [
    "template = copy( mueller_plate[590:608,113:130] )\n",
    "\n",
    "imshow(template, cmap = 'gray');\n"
   ]
  },
  {
   "cell_type": "markdown",
   "metadata": {},
   "source": [
    "<br>\n",
    "\n",
    "**You can change the slice coordinates above for obtaining a template for the other symbols.**"
   ]
  },
  {
   "cell_type": "code",
   "execution_count": null,
   "metadata": {
    "ExecuteTime": {
     "end_time": "2023-02-13T15:42:14.514042Z",
     "start_time": "2023-02-13T15:42:14.286664Z"
    }
   },
   "outputs": [],
   "source": [
    "match_result = match_template(mueller_plate, template)\n",
    "print(f\"The best match has a coefficient of {match_result.max():.3f} \"\n",
    "      f\"(the maximum possible value is 1).\" )\n",
    "\n",
    "match_threshold = 0.81\n",
    "\n",
    "fig = plt.figure( figsize = (8, 8))\n",
    "binary_result = match_result > match_threshold \n",
    "plt.imshow(binary_dilation(binary_result, disk(5)), cmap = 'gray');\n"
   ]
  },
  {
   "cell_type": "code",
   "execution_count": null,
   "metadata": {
    "ExecuteTime": {
     "end_time": "2023-02-13T15:46:05.755574Z",
     "start_time": "2023-02-13T15:46:05.585743Z"
    }
   },
   "outputs": [],
   "source": [
    "print(f\"The array with the matching coefficients has shape \"\n",
    "      f\"{match_result.shape}.\\n\")\n",
    "circles_x = []\n",
    "circles_y = []\n",
    "circles_match = []\n",
    "for i in range(match_result.shape[1]):\n",
    "    for j in range(match_result.shape[0]):\n",
    "        if match_result[j,i] > match_threshold:\n",
    "            circles_x.append(i)\n",
    "            circles_y.append(j)\n",
    "            circles_match.append(match_result[j,i])\n",
    "\n",
    "print(\"The coordinates of the points with matching coefficients greater \"\n",
    "      f\"than {match_threshold} are:\\n\")\n",
    "print(circles_x)\n",
    "print(circles_y)\n",
    "\n",
    "print(\"\\nThe matching coefficients are:\\n\")\n",
    "print(circles_match)"
   ]
  },
  {
   "cell_type": "markdown",
   "metadata": {},
   "source": [
    "<br>\n",
    "\n",
    "**With these coordinates in hand, we can now calculate all their actual values.**"
   ]
  },
  {
   "cell_type": "code",
   "execution_count": null,
   "metadata": {
    "ExecuteTime": {
     "end_time": "2023-02-13T15:46:25.441500Z",
     "start_time": "2023-02-13T15:46:25.388213Z"
    }
   },
   "outputs": [],
   "source": [
    "rescaling_from_OCR_results( np.array(circles_x), np.array(circles_y), \n",
    "                            x_values, y_values, results )"
   ]
  },
  {
   "cell_type": "markdown",
   "metadata": {},
   "source": [
    "### Using contours\n",
    "\n",
    "We will focus on the inside of the graph $-$ we will set appropriate conditions $-$ and look for contours that have the appropriate size. "
   ]
  },
  {
   "cell_type": "code",
   "execution_count": null,
   "metadata": {
    "ExecuteTime": {
     "end_time": "2023-02-13T15:50:06.373649Z",
     "start_time": "2023-02-13T15:50:06.123539Z"
    }
   },
   "outputs": [],
   "source": [
    "y_low, y_high = 10, 620\n",
    "x_low, x_high = 100, 720\n",
    "contour_min, contour_max = 25, 40\n",
    "\n",
    "contours = find_contours( mueller_plate )\n",
    "\n",
    "fig = plt.figure( figsize = (10, 10) )\n",
    "plt.imshow(mueller_plate, cmap = 'gray')\n",
    "\n",
    "\n",
    "good_contours = []\n",
    "for n, contour in enumerate(contours):\n",
    "    if len(contour) > contour_min and len(contour) < contour_max:\n",
    "        if ( contour[0,1] > x_low and contour[0,1] < x_high and\n",
    "             contour[0,0] > y_low and contour[0,0] < y_high ):\n",
    "            plt.plot(contour[:, 1], contour[:, 0], linewidth = 2)\n",
    "            good_contours.append( contour )"
   ]
  },
  {
   "cell_type": "markdown",
   "metadata": {},
   "source": [
    "<br>\n",
    "\n",
    "**The center of mass of a contour provides a good estimate of the location of a symbol in the graph.** \n",
    "\n",
    "Coupling it with a measure of similarity of the region of the image enclosed by the contour would then enable us to assign data points to data sets by template matching.\n"
   ]
  },
  {
   "cell_type": "code",
   "execution_count": null,
   "metadata": {
    "ExecuteTime": {
     "end_time": "2023-02-13T15:54:56.792925Z",
     "start_time": "2023-02-13T15:54:56.668136Z"
    }
   },
   "outputs": [],
   "source": [
    "k = 0 \n",
    "\n",
    "x_c = np.mean(good_contours[k][:,1])\n",
    "y_c = np.mean(good_contours[k][:,0])\n",
    "print(x_c, y_c)\n",
    "\n",
    "xr = int( max(good_contours[k][:,1]) ) + 2\n",
    "xl = int( min(good_contours[k][:,1]) ) - 1\n",
    "yt = int( max(good_contours[k][:,0]) ) + 2\n",
    "yb = int( min(good_contours[k][:,0]) ) - 1\n",
    "\n",
    "print(xr, xl, yt, yb)\n",
    "\n",
    "symbol_plate = mueller_plate[yb:yt, xl:xr]\n",
    "\n",
    "imshow(symbol_plate, cmap = 'gray');"
   ]
  },
  {
   "cell_type": "code",
   "execution_count": null,
   "metadata": {
    "ExecuteTime": {
     "end_time": "2023-02-13T15:54:57.494742Z",
     "start_time": "2023-02-13T15:54:57.364400Z"
    }
   },
   "outputs": [],
   "source": [
    "# Because of the x and y limits, this cell works only for k = 0 and k = 1\n",
    "\n",
    "fig = plt.figure( figsize = (10, 10) )\n",
    "plt.imshow(mueller_plate, cmap = 'gray')\n",
    "\n",
    "plt.plot(x_c, y_c, 'ro', markersize = 5, zorder = 10)\n",
    "plt.plot(good_contours[k][:, 1], good_contours[k][:, 0], 'r', linewidth = 2)\n",
    "\n",
    "plt.xlim(600,800)\n",
    "plt.ylim(100, 0);"
   ]
  },
  {
   "cell_type": "markdown",
   "metadata": {},
   "source": [
    "# Screen photograph\n",
    "\n",
    "Let's now address a rather more challenging case: one of the graph boxes extracted from the screen photograph.\n",
    "\n",
    "We will focus for now on the middle graph box.  Each vertical grid line correspond to the middle point of a one minute block.  Each horizontal grid line correspond to an increment of 5 miles/h. \n",
    "\n",
    "We could, in principle, get this information from the OCR of the relevant text box (see previous [notebook](http://localhost:8888/notebooks/Module_Image_Processing/nb_04_Text_and_data_in_images.ipynb)).\n",
    "\n",
    "We can use that information later for calculating data values from the image coordinates."
   ]
  },
  {
   "cell_type": "code",
   "execution_count": null,
   "metadata": {
    "ExecuteTime": {
     "end_time": "2023-02-13T22:51:30.904936Z",
     "start_time": "2023-02-13T22:51:30.647018Z"
    }
   },
   "outputs": [],
   "source": [
    "screen_plate = imread(loaded_images[1])\n",
    "print(f\"Selected image has shape {screen_plate.shape}.\\n\")\n",
    "\n",
    "imshow(screen_plate);\n",
    "\n",
    "print(f\"That fourth channel is just ones:\\n{screen_plate[:10, :10, 3]}\")"
   ]
  },
  {
   "cell_type": "markdown",
   "metadata": {},
   "source": [
    "We do not need the fourth channel, so we will get rid of it.\n",
    "\n",
    "We will also want to work with a grayscale version of the image.  The question is: \n",
    "\n",
    "> **Which grayscale version should we use?**\n",
    "\n",
    "Let's look at each channel separately besides a conversion to grayscale of the color image..."
   ]
  },
  {
   "cell_type": "code",
   "execution_count": null,
   "metadata": {
    "ExecuteTime": {
     "end_time": "2023-02-13T22:51:32.676909Z",
     "start_time": "2023-02-13T22:51:32.233948Z"
    }
   },
   "outputs": [],
   "source": [
    "fig = plt.figure( figsize = (10, 5) )\n",
    "ax = []\n",
    "rgb = ['red', 'green', 'blue']\n",
    "\n",
    "\n",
    "for i in range(3):\n",
    "    ax.append( fig.add_subplot(2, 2, i+1) )\n",
    "    ax[-1].text(2000, -100, rgb[i], fontsize = my_fontsize )\n",
    "    ax[-1].imshow( screen_plate[:,:,i], cmap = 'gray' )\n",
    "\n",
    "    \n",
    "ax.append( fig.add_subplot(2, 2, 4) )\n",
    "ax[-1].text(2000, -100, 'gray', fontsize = my_fontsize )\n",
    "ax[-1].imshow( rgb2gray(screen_plate[:,:,:3]) , cmap = 'gray' )\n",
    "\n",
    "plt.tight_layout()\n"
   ]
  },
  {
   "cell_type": "markdown",
   "metadata": {},
   "source": [
    "Since the bars are green, the **green channel** is the one where the bars are more clearly visible.\n",
    "\n",
    "From now on, we will focus on this channel."
   ]
  },
  {
   "cell_type": "code",
   "execution_count": null,
   "metadata": {
    "ExecuteTime": {
     "end_time": "2023-02-13T22:51:34.005713Z",
     "start_time": "2023-02-13T22:51:33.944988Z"
    }
   },
   "outputs": [],
   "source": [
    "screen_plate[:,:,1]"
   ]
  },
  {
   "cell_type": "markdown",
   "metadata": {
    "ExecuteTime": {
     "end_time": "2023-01-18T19:12:16.487404Z",
     "start_time": "2023-01-18T19:12:16.428394Z"
    }
   },
   "source": [
    "As before, we will transform to ubytes in order to save resources."
   ]
  },
  {
   "cell_type": "code",
   "execution_count": null,
   "metadata": {
    "ExecuteTime": {
     "end_time": "2023-02-13T22:51:35.552418Z",
     "start_time": "2023-02-13T22:51:35.337726Z"
    }
   },
   "outputs": [],
   "source": [
    "print( f\"Maximum of green channel is {screen_plate[:,:,1].max():.3f}, \"\n",
    "       f\" minimum is {screen_plate[:,:,1].min():.3f}\\n\")\n",
    "\n",
    "plate_g = (256 * screen_plate[:,:,1]).astype( np.uint8 )\n",
    "\n",
    "fig = plt.figure( figsize = (12, 10) )\n",
    "plt.imshow( plate_g, cmap = 'gray', vmin = 0, vmax = 255 );"
   ]
  },
  {
   "cell_type": "markdown",
   "metadata": {},
   "source": [
    "## Find outline of bars and coordinates of grid lines\n",
    "\n",
    "For simplicity, we first binarize the image. "
   ]
  },
  {
   "cell_type": "code",
   "execution_count": null,
   "metadata": {
    "ExecuteTime": {
     "end_time": "2023-02-13T22:51:37.005380Z",
     "start_time": "2023-02-13T22:51:36.865453Z"
    }
   },
   "outputs": [],
   "source": [
    "x, y, zoom_factor = 100, 450, 2\n",
    "threshold_for_white = 100\n",
    "\n",
    "plate_for_data = plate_g > threshold_for_white\n",
    "\n",
    "fig = plt.figure( figsize = (6, 6) )\n",
    "zoomed_image, x0, y0 = grayscale_zoom(plate_for_data, x, y, zoom_factor)\n",
    "plt.imshow( zoomed_image, cmap = 'gray')\n",
    "plt.plot([zoom_factor * (x-x0)], [zoom_factor * (y-y0)], 'ro');\n"
   ]
  },
  {
   "cell_type": "markdown",
   "metadata": {},
   "source": [
    "We can place the relevant code in a function and automate the plotting."
   ]
  },
  {
   "cell_type": "code",
   "execution_count": null,
   "metadata": {
    "ExecuteTime": {
     "end_time": "2023-02-13T22:51:38.365987Z",
     "start_time": "2023-02-13T22:51:38.096589Z"
    }
   },
   "outputs": [],
   "source": [
    "fig = plt.figure( figsize = (10, 8) )\n",
    "ax1 = fig.add_subplot(211)\n",
    "ax2 = fig.add_subplot(212)\n",
    "\n",
    "plate_for_data = threshold_for_data_extraction( screen_plate[:,:,1], ax1, ax2, \n",
    "                                                (100, 450), 2, )\n",
    "\n",
    "plt.tight_layout()\n",
    "    \n"
   ]
  },
  {
   "cell_type": "markdown",
   "metadata": {},
   "source": [
    "<br>\n",
    "\n",
    "The image above suggest a strategy for finding the coordinates of the data. For each column (i.e., `x` value), we can start from the bottom and keep moving up until we find a `0` (i.e., a black pixel). \n",
    "\n",
    "Note that starting from the bottom in a column means starting from a `y` coordinate of `y_max`, which can be extracted from the array's shape.\n",
    "\n",
    "We have, however, to remember that the grid lines will extend all the way to the top.\n"
   ]
  },
  {
   "cell_type": "code",
   "execution_count": null,
   "metadata": {
    "ExecuteTime": {
     "end_time": "2023-02-13T22:51:40.202549Z",
     "start_time": "2023-02-13T22:51:40.146313Z"
    }
   },
   "outputs": [],
   "source": [
    "y_max, x_max = plate_for_data.shape\n",
    "x_min = 0\n",
    "y_min = 0"
   ]
  },
  {
   "cell_type": "markdown",
   "metadata": {},
   "source": [
    "Get coordinates of horizontal grid lines."
   ]
  },
  {
   "cell_type": "code",
   "execution_count": null,
   "metadata": {
    "ExecuteTime": {
     "end_time": "2023-02-13T22:51:41.937730Z",
     "start_time": "2023-02-13T22:51:41.885327Z"
    }
   },
   "outputs": [],
   "source": [
    "level_lines = []\n",
    "levels = []\n",
    "level_line_threshold = 10\n",
    "\n",
    "print(y_min, y_max)\n",
    "for i in range(y_min, y_max):\n",
    "    j = 0\n",
    "    while plate_for_data[i,j] and j < x_max:\n",
    "        j += 1\n",
    "\n",
    "    # Check if this is grid line\n",
    "    #\n",
    "    if j > level_line_threshold:\n",
    "        level_lines.append(i)\n",
    "\n",
    "    levels.append(j)\n",
    "        \n",
    "print(level_lines)"
   ]
  },
  {
   "cell_type": "markdown",
   "metadata": {
    "ExecuteTime": {
     "end_time": "2023-01-27T18:51:51.664664Z",
     "start_time": "2023-01-27T18:51:51.615454Z"
    }
   },
   "source": [
    "<br>\n",
    "\n",
    "We can generalize the code to handle vertical and horizontal grid lines.  \n"
   ]
  },
  {
   "cell_type": "code",
   "execution_count": null,
   "metadata": {
    "ExecuteTime": {
     "end_time": "2023-02-13T22:51:43.753948Z",
     "start_time": "2023-02-13T22:51:43.628924Z"
    }
   },
   "outputs": [],
   "source": [
    "# Use these two lines to adjust how much of the image you visualize\n",
    "#\n",
    "# y_max = 600\n",
    "# y_min = 2000\n",
    "\n",
    "level_lines, levels = infer_grid_lines( 0, y_min, y_max, x_max, 10, \n",
    "                                       plate_for_data )\n",
    "\n",
    "plt.plot(range(y_min, y_max), levels, 'b-')\n",
    "plt.plot(level_lines, [500]*len(level_lines), 'ro');"
   ]
  },
  {
   "cell_type": "markdown",
   "metadata": {},
   "source": [
    "Get heights of bars and placement of vertical grid lines."
   ]
  },
  {
   "cell_type": "code",
   "execution_count": null,
   "metadata": {
    "ExecuteTime": {
     "end_time": "2023-02-13T22:51:45.785406Z",
     "start_time": "2023-02-13T22:51:45.629543Z"
    }
   },
   "outputs": [],
   "source": [
    "# Use these two lines to adjust how much of the image you visualize\n",
    "#\n",
    "# x_max = 600\n",
    "# x_min = 2000\n",
    "\n",
    "time_lines, heights = infer_grid_lines( 1, x_min, x_max, y_max, 450, \n",
    "                                        plate_for_data )\n",
    "\n",
    "plt.plot(range(x_min, x_max), heights, 'b-')\n",
    "plt.plot(time_lines, [500]*len(time_lines), 'ro');"
   ]
  },
  {
   "cell_type": "markdown",
   "metadata": {},
   "source": [
    "## Cluster coordinates for determining position of grid lines\n",
    "\n",
    "We cluster coordinates for level and time grid lines and estimate the factor for mapping `y` coordinate to actual values and `x` coordinate to time."
   ]
  },
  {
   "cell_type": "markdown",
   "metadata": {},
   "source": [
    "We first use the function for time grid lines."
   ]
  },
  {
   "cell_type": "code",
   "execution_count": null,
   "metadata": {
    "ExecuteTime": {
     "end_time": "2023-02-13T22:51:48.691369Z",
     "start_time": "2023-02-13T22:51:48.566698Z"
    }
   },
   "outputs": [],
   "source": [
    "block_delta_t, t_deltas, t_mapping = cluster_infered_lines( time_lines ) \n",
    "\n",
    "plt.plot(t_deltas, 'bo')\n",
    "plt.hlines(block_delta_t, 0, len(t_mapping), 'r');"
   ]
  },
  {
   "cell_type": "markdown",
   "metadata": {},
   "source": [
    "Next, we use them function for speed grid lines."
   ]
  },
  {
   "cell_type": "code",
   "execution_count": null,
   "metadata": {
    "ExecuteTime": {
     "end_time": "2023-02-13T22:51:50.352731Z",
     "start_time": "2023-02-13T22:51:50.228086Z"
    }
   },
   "outputs": [],
   "source": [
    "block_delta_y, y_deltas, y_mapping = cluster_infered_lines( level_lines ) \n",
    "\n",
    "plt.plot(y_deltas, 'bo')\n",
    "plt.hlines(block_delta_y, 0, len(y_mapping), 'r');"
   ]
  },
  {
   "cell_type": "markdown",
   "metadata": {},
   "source": [
    "When you zoom in on the value bars, you will notice that at the edges of the bars there are intermediate values, even though the signal is supposed to be constant during the one minute block.  Additionally, the vertical grid lines prevent us from extracting the correct value at those positions.\n",
    "\n",
    "We next correct for that."
   ]
  },
  {
   "cell_type": "code",
   "execution_count": null,
   "metadata": {
    "ExecuteTime": {
     "end_time": "2023-02-13T22:51:52.045357Z",
     "start_time": "2023-02-13T22:51:51.865524Z"
    }
   },
   "outputs": [],
   "source": [
    "y_values, new_heights = correct_column_heights( heights, block_delta_t, \n",
    "                                                t_mapping, x_min )\n",
    "\n",
    "fig = plt.figure( figsize = (20, 4) )\n",
    "plt.plot(range(x_min, x_max), heights, 'b-')\n",
    "plt.plot(range(x_min, x_max), new_heights, 'r');\n",
    "plt.ylim(0, 250)"
   ]
  },
  {
   "cell_type": "code",
   "execution_count": null,
   "metadata": {
    "ExecuteTime": {
     "end_time": "2023-02-13T22:51:52.801115Z",
     "start_time": "2023-02-13T22:51:52.748316Z"
    }
   },
   "outputs": [],
   "source": [
    "print(t_mapping)\n",
    "print(y_values)"
   ]
  },
  {
   "cell_type": "markdown",
   "metadata": {},
   "source": [
    "## Rescale coordinates"
   ]
  },
  {
   "cell_type": "code",
   "execution_count": null,
   "metadata": {
    "ExecuteTime": {
     "end_time": "2023-02-13T22:53:32.762366Z",
     "start_time": "2023-02-13T22:53:32.694254Z"
    }
   },
   "outputs": [],
   "source": [
    "y_scale = [10, 5, 0]\n",
    "t_scale = list(range(1, 21))\n",
    "\n",
    "data_values = rescaling_from_scan_results( 0, y_values, y_scale, y_mapping, \n",
    "                                           y_max )"
   ]
  },
  {
   "cell_type": "markdown",
   "metadata": {},
   "source": [
    "## Plot data and compare to image"
   ]
  },
  {
   "cell_type": "code",
   "execution_count": null,
   "metadata": {
    "ExecuteTime": {
     "end_time": "2023-02-13T22:58:12.540270Z",
     "start_time": "2023-02-13T22:58:12.235527Z"
    }
   },
   "outputs": [],
   "source": [
    "fig = plt.figure( figsize = (9, 5))\n",
    "fig.set_facecolor('0.8')\n",
    "ax = []\n",
    "\n",
    "\n",
    "ax.append( fig.add_subplot(211) )\n",
    "half_frame(ax[-1], 'Time [min]', 'Speed [miles/h]', font_size = my_fontsize)\n",
    "ax[-1].set_facecolor('0')\n",
    "\n",
    "ax[-1].set_ylim(0, 15)\n",
    "ax[-1].set_yticks(range(0, 16, 5))\n",
    "ax[-1].set_xlim(0.5, 22)\n",
    "ax[-1].set_xticks(range(2, 22, 2))\n",
    "\n",
    "ax[-1].vlines(range(0, 21), 0, 15,  lw = 2, color = '0.6', )\n",
    "ax[-1].hlines([5, 10, 15], 0, 22,  lw = 2, color = '0.6', )\n",
    "\n",
    "ax[-1].bar(t_scale, data_values, color = 'g', zorder = 10)\n",
    "\n",
    "ax.append( fig.add_subplot(212) )\n",
    "ax[-1].imshow(screen_plate)\n",
    "\n",
    "plt.tight_layout()"
   ]
  },
  {
   "cell_type": "markdown",
   "metadata": {},
   "source": [
    "## Check accuracy of extracted data"
   ]
  },
  {
   "cell_type": "code",
   "execution_count": null,
   "metadata": {
    "ExecuteTime": {
     "end_time": "2023-02-13T22:56:36.216389Z",
     "start_time": "2023-02-13T22:56:36.093089Z"
    }
   },
   "outputs": [],
   "source": [
    "actual_values = [2.7, 3.6, 4.8, 6, 7.2, 6, 4.8, 3.3, 4.8, 6, 7.2, 4.8,\n",
    "                 3.3, 4.8, 6, 7.2, 6, 4.8, 3.6, 2.7]\n",
    "\n",
    "fig = plt.figure( figsize = (6, 4))\n",
    "fig.set_facecolor('0.8')\n",
    "ax = fig.add_subplot(111)\n",
    "\n",
    "half_frame(ax, 'Actual values', 'Estimated values', font_size = my_fontsize)\n",
    "\n",
    "ax.plot(actual_values, data_values, 'ro')\n",
    "ax.plot([2, 8], [5, 5])\n",
    "ax.plot([2, 8], [2, 8])\n",
    "\n",
    "plt.show()\n",
    "\n",
    "result = pearsonr(actual_values, data_values)\n",
    "print(result)"
   ]
  },
  {
   "cell_type": "markdown",
   "metadata": {},
   "source": [
    "We can see that all estimated values are quite accurate, except for those bars corresponding to  4.8 miles/h.  The value is estimated is over 5 (see crossing of identity line and horizontal line).\n",
    "\n",
    "We can conclude that this is due at the proximity to the grid line corresponding to 5 miles/h. The bar and the line get merged and the algorithm estimates a higher coordinate of the end of the bar.\n",
    "In this case, we know the true value and can make corrections. In general, this would not be true and we would only be able to assume that values close to a grid value would have larger estimation errors.\n"
   ]
  },
  {
   "cell_type": "markdown",
   "metadata": {},
   "source": [
    "## Other  `loaded_images`\n",
    "\n",
    "The one with index 2 is pretty straightforward..."
   ]
  },
  {
   "cell_type": "code",
   "execution_count": null,
   "metadata": {},
   "outputs": [],
   "source": []
  },
  {
   "cell_type": "code",
   "execution_count": null,
   "metadata": {},
   "outputs": [],
   "source": []
  },
  {
   "cell_type": "markdown",
   "metadata": {
    "ExecuteTime": {
     "end_time": "2023-01-08T22:35:05.611100Z",
     "start_time": "2023-01-08T22:35:05.256054Z"
    }
   },
   "source": [
    "<br>\n",
    "\n",
    "<br>\n",
    "\n",
    "Actual data for top box (index 2 in `loaded_images`). "
   ]
  },
  {
   "cell_type": "code",
   "execution_count": null,
   "metadata": {
    "ExecuteTime": {
     "end_time": "2023-01-08T22:50:32.711368Z",
     "start_time": "2023-01-08T22:50:32.606693Z"
    }
   },
   "outputs": [],
   "source": [
    "actual_values = [0, 0, 1, 1, 1, 1, 2, 2, 2, 1, 1, 2, 2, 2, 1, 1, 1, 1, 0, 0]\n",
    "\n",
    "fig = plt.figure( figsize = (6, 4))\n",
    "fig.set_facecolor('0.8')\n",
    "ax = fig.add_subplot(111)\n",
    "\n",
    "half_frame(ax, 'Actual values', 'Estimated values', font_size = my_fontsize)\n",
    "\n",
    "ax.plot(actual_values, data_values, 'ro', alpha = 0.5)\n",
    "ax.plot([0, 3], [0, 3])\n",
    "\n",
    "plt.show()\n",
    "\n",
    "result = pearsonr(actual_values, data_values)\n",
    "print(result)"
   ]
  },
  {
   "cell_type": "code",
   "execution_count": null,
   "metadata": {},
   "outputs": [],
   "source": []
  }
 ],
 "metadata": {
  "anaconda-cloud": {},
  "kernelspec": {
   "display_name": "Python 3 (ipykernel)",
   "language": "python",
   "name": "python3"
  },
  "language_info": {
   "codemirror_mode": {
    "name": "ipython",
    "version": 3
   },
   "file_extension": ".py",
   "mimetype": "text/x-python",
   "name": "python",
   "nbconvert_exporter": "python",
   "pygments_lexer": "ipython3",
   "version": "3.9.12"
  },
  "toc": {
   "base_numbering": 1,
   "nav_menu": {},
   "number_sections": true,
   "sideBar": true,
   "skip_h1_title": false,
   "title_cell": "Table of Contents",
   "title_sidebar": "Contents",
   "toc_cell": false,
   "toc_position": {
    "height": "calc(100% - 180px)",
    "left": "10px",
    "top": "150px",
    "width": "204.567px"
   },
   "toc_section_display": true,
   "toc_window_display": true
  },
  "varInspector": {
   "cols": {
    "lenName": 16,
    "lenType": 16,
    "lenVar": 40
   },
   "kernels_config": {
    "python": {
     "delete_cmd_postfix": "",
     "delete_cmd_prefix": "del ",
     "library": "var_list.py",
     "varRefreshCmd": "print(var_dic_list())"
    },
    "r": {
     "delete_cmd_postfix": ") ",
     "delete_cmd_prefix": "rm(",
     "library": "var_list.r",
     "varRefreshCmd": "cat(var_dic_list()) "
    }
   },
   "types_to_exclude": [
    "module",
    "function",
    "builtin_function_or_method",
    "instance",
    "_Feature"
   ],
   "window_display": false
  }
 },
 "nbformat": 4,
 "nbformat_minor": 1
}
