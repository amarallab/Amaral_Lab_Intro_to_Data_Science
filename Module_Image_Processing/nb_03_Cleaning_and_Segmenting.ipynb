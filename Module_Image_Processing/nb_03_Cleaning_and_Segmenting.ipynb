{
 "cells": [
  {
   "cell_type": "markdown",
   "id": "5cbd28ad",
   "metadata": {},
   "source": [
    "# Sinopsis\n",
    "\n",
    "In the previous notebooks, we learnt how to use images as a numpy arrays and do some\n",
    "analysis. Also, we found some coins, isn't it cool?\n",
    "\n",
    "Now, it is time to do some preprocessing on the images before running our algorithms."
   ]
  },
  {
   "cell_type": "markdown",
   "id": "c5759d7d",
   "metadata": {},
   "source": [
    "# Read libraries"
   ]
  },
  {
   "cell_type": "code",
   "execution_count": null,
   "id": "48d240a5",
   "metadata": {},
   "outputs": [],
   "source": [
    "%load_ext autoreload\n",
    "%autoreload 2\n",
    "%matplotlib inline\n",
    "\n",
    "from colorama import Back, Fore, Style\n",
    "from pathlib import Path"
   ]
  },
  {
   "cell_type": "code",
   "execution_count": null,
   "id": "dc208220",
   "metadata": {},
   "outputs": [],
   "source": [
    "import os\n",
    "import sys\n",
    "\n",
    "import matplotlib as mpl\n",
    "import matplotlib.pyplot as plt\n",
    "import matplotlib.cm as cm\n",
    "import numpy as np\n",
    "\n",
    "from pylab import imread, imshow\n",
    "from skimage import data, img_as_float, img_as_ubyte, measure\n",
    "from skimage.filters import rank, threshold_otsu\n",
    "from skimage.morphology import (\n",
    "    disk, \n",
    "    binary_dilation, binary_erosion, binary_closing, binary_opening,\n",
    "    remove_small_holes, remove_small_objects,\n",
    "    flood_fill,\n",
    "    skeletonize\n",
    ")"
   ]
  },
  {
   "cell_type": "markdown",
   "id": "c3529657",
   "metadata": {},
   "source": [
    "# Thresholding"
   ]
  },
  {
   "cell_type": "markdown",
   "id": "4919d625",
   "metadata": {},
   "source": [
    "Sometimes, when we want to find blobs, we just need to differenciate the background from\n",
    "them. In other words, we just want to preprocess the image from a RGB (or grayscale)\n",
    "color spaces to a binary. For example, zero means background, one means it is something\n",
    "we want to find.\n",
    "\n",
    "Let's take the coins again and try to do something:"
   ]
  },
  {
   "cell_type": "code",
   "execution_count": null,
   "id": "6b6f7cae",
   "metadata": {},
   "outputs": [],
   "source": [
    "coins_original = img_as_float( data.coins() )"
   ]
  },
  {
   "cell_type": "code",
   "execution_count": null,
   "id": "c7c53c10",
   "metadata": {},
   "outputs": [],
   "source": [
    "plt.imshow(coins_original, cmap = 'gray', vmin = 0, vmax = 1)\n",
    "pass"
   ]
  },
  {
   "cell_type": "markdown",
   "id": "8aca8a60",
   "metadata": {},
   "source": [
    "We discussed previously that we need to remove the background. In fact, we already\n",
    "used thresholding algorithms on it. The simplest one is using the mean of the values:"
   ]
  },
  {
   "cell_type": "code",
   "execution_count": null,
   "id": "bf8860ce",
   "metadata": {},
   "outputs": [],
   "source": [
    "median = np.median(coins_original)\n",
    "binarized_im = coins_original > median\n",
    "plt.imshow(binarized_im, cmap=\"gray\")\n",
    "pass"
   ]
  },
  {
   "cell_type": "markdown",
   "id": "a73a3a94",
   "metadata": {},
   "source": [
    "Well, in this case, `binarized_im` is an array of boolean values, but we can transform\n",
    "it easily to a integer values of 0 and 1:"
   ]
  },
  {
   "cell_type": "code",
   "execution_count": null,
   "id": "fa9045e8",
   "metadata": {},
   "outputs": [],
   "source": [
    "binarized_im.astype(np.uint8)"
   ]
  },
  {
   "cell_type": "markdown",
   "id": "b9600385",
   "metadata": {},
   "source": [
    "**Note:** We are using `uint8` to use just a byte to store the number.\n",
    "\n",
    "Check the next cell:"
   ]
  },
  {
   "cell_type": "code",
   "execution_count": null,
   "id": "82dca726",
   "metadata": {},
   "outputs": [],
   "source": [
    "a1 = sys.getsizeof(binarized_im.astype(int))\n",
    "a2 = sys.getsizeof(binarized_im.astype(np.uint8))\n",
    "print(f\"The size of using `int` is {a1}\")\n",
    "print(f\"The size of using `np.uint8` is {a2}\")\n",
    "print(f\"Yes, it is almost {np.round(a1/a2)} more expensive!\")"
   ]
  },
  {
   "cell_type": "markdown",
   "id": "0b07144f",
   "metadata": {},
   "source": [
    "Don't need to mention that using a big image (2048 x 2048) it makes a difference:\n",
    "\n",
    "- Using bytes is 4 MB\n",
    "- Using ints is 32 MB\n",
    "\n",
    "If you have a stack of images from a confocal microscope (let's say 32 images):\n",
    "\n",
    "- Using bytes is 128 MB\n",
    "- Using ints is 1 GB\n",
    "\n",
    "Now, imagine that you are treating a C. Elegans recorded video that contains thousands of frames.\n",
    "\n",
    ">**IMPORTANT NOTE:** Take the memory usage serious!"
   ]
  },
  {
   "cell_type": "markdown",
   "id": "b5667d8b",
   "metadata": {},
   "source": [
    "# Thresholding, again\n",
    "\n",
    "Ok, sorry for this interruption, let's continue with the thresholding. Using the coins image, this global threshold is not working properly, but there are cases where we can control the light that this could work.\n",
    "\n",
    ">**Note:** If the mean or the median is working, let's go ahead and avoid adding complexity to \n",
    "your code.\n",
    "\n",
    "We will introduce another algorithm to do the thresholding. It was proposed by Nobuyuki Otsu\n",
    "and the algorithm is called after him: otsu.\n",
    "\n",
    "More info: https://en.wikipedia.org/wiki/Otsu%27s_method"
   ]
  },
  {
   "cell_type": "code",
   "execution_count": null,
   "id": "693f6320",
   "metadata": {},
   "outputs": [],
   "source": [
    "otsu_value = threshold_otsu(coins_original)\n",
    "otsu_binarized_im = coins_original > otsu_value\n",
    "plt.imshow(otsu_binarized_im, cmap=\"gray\")\n",
    "pass"
   ]
  },
  {
   "cell_type": "markdown",
   "id": "8a13c0ee",
   "metadata": {},
   "source": [
    "Not sure if this algorithm improves the previous. Maybe we can try to find the way\n",
    "to select the coins after this thresholding, but we can introduce more advanced thresholding\n",
    "algorithms to improve the image before finding the contours.\n",
    "\n",
    "In the previous notebook, we use a local threshold, looking for the value of each\n",
    "segment of the image (it was cut in 4x4 rectangles).\n",
    "\n",
    "We will do something similar, create a disk (circle) of some pixel radius and find the\n",
    "local thresold of the pixel that are inside this disk. This will be applied to all the\n",
    "values of the image, as a convolution.\n",
    "\n",
    "Let's do it simple first. We will create an images 10x10 pixel size and do it using a disk\n",
    "of 3 pixel radius:"
   ]
  },
  {
   "cell_type": "code",
   "execution_count": null,
   "id": "13f0453d",
   "metadata": {},
   "outputs": [],
   "source": [
    "im = img_as_ubyte(coins_original[25:80, 10:80])\n",
    "radius = 10   # Play changing this value to understand how this works!\n",
    "d = disk(radius)\n",
    "\n",
    "fig = plt.figure( figsize = (8, 8))\n",
    "\n",
    "plt.subplot(131)\n",
    "plt.imshow(im, cmap=\"gray\")\n",
    "\n",
    "plt.subplot(132)\n",
    "w, h = im.shape\n",
    "pretty_d_im = np.zeros(im.shape)\n",
    "pretty_d_im[(w//2-radius):(w//2+radius+1), (h//2-radius):(h//2+radius+1)] = d\n",
    "plt.imshow(pretty_d_im, cmap=\"gray\")\n",
    "\n",
    "plt.subplot(133)\n",
    "local_threshold = rank.otsu(im, d)\n",
    "local_binarized_im = im > local_threshold\n",
    "plt.imshow(local_binarized_im, cmap=\"gray\")\n",
    "pass"
   ]
  },
  {
   "cell_type": "code",
   "execution_count": null,
   "id": "97135a5e",
   "metadata": {},
   "outputs": [],
   "source": [
    "im = img_as_ubyte(coins_original)\n",
    "d = disk(50)  # This 50 is cherry picked, could you imagine an algorithm to pick it?\n",
    "\n",
    "local_threshold = rank.otsu(im, d)\n",
    "local_binarized_im = im > local_threshold\n",
    "\n",
    "fig = plt.figure( figsize = (8, 8))\n",
    "plt.subplot(131)\n",
    "plt.imshow(im, cmap=\"gray\")\n",
    "plt.subplot(132)\n",
    "plt.imshow(local_threshold, cmap=\"gray\")\n",
    "plt.subplot(133)\n",
    "plt.imshow(local_binarized_im, cmap=\"gray\")\n",
    "pass"
   ]
  },
  {
   "cell_type": "markdown",
   "id": "f5202715",
   "metadata": {},
   "source": [
    "Hey, I think this is working much better! I will keep this thresholding algorithm\n",
    "for this example and do some stuff, like cleaning the little black dots inside the\n",
    "coins."
   ]
  },
  {
   "cell_type": "markdown",
   "id": "1810bfb4",
   "metadata": {},
   "source": [
    "# Morphology operations"
   ]
  },
  {
   "cell_type": "markdown",
   "id": "c638bc5c",
   "metadata": {},
   "source": [
    "There are some important morphology operations that you should know before start\n",
    "working on imaging.\n",
    "\n",
    "The first two are `dilation` and `erosion`:\n",
    "\n",
    "- `dilation` applies a structuring element (like the disk of the previous example) for\n",
    "  expanding the shape contained in the image. It is setting the structuring element on\n",
    "  top of the all pixels that are `1` in the original image (convolution). This will\n",
    "  generate a resulting image expanding all the edges of the elements inside the image.\n",
    "  \n",
    "- `erosion` applies a structuring element for reducing the shape contained in the\n",
    "  image. It is doing the same as `dilation`, but using the background (`0` values).\n",
    "  \n",
    "We will start with the first coin of the image and do a simple threshold using the mean:"
   ]
  },
  {
   "cell_type": "code",
   "execution_count": null,
   "id": "ebf4a785",
   "metadata": {},
   "outputs": [],
   "source": [
    "im = img_as_ubyte(coins_original[25:80, 10:80])\n",
    "threshold = np.mean(im)\n",
    "\n",
    "plt.subplot(121)\n",
    "plt.imshow(im, cmap=\"gray\")\n",
    "\n",
    "plt.subplot(122)\n",
    "thresholded_im = im > threshold\n",
    "plt.imshow(thresholded_im, cmap=\"gray\")\n",
    "pass"
   ]
  },
  {
   "cell_type": "markdown",
   "id": "3476443e",
   "metadata": {},
   "source": [
    "We can observe that some pixels are not the same as its neighbors. We used to call this\n",
    "`Salt & Pepper noise` and we can reduce it using `dilation` and `erosion`.\n",
    "\n",
    "Let's apply first `dilation`:"
   ]
  },
  {
   "cell_type": "code",
   "execution_count": null,
   "id": "d894ec83",
   "metadata": {},
   "outputs": [],
   "source": [
    "d = disk(3)\n",
    "dilated_im = binary_dilation(thresholded_im, d)\n",
    "\n",
    "plt.subplot(121)\n",
    "plt.imshow(thresholded_im, cmap=\"gray\")\n",
    "plt.subplot(122)\n",
    "plt.imshow(dilated_im, cmap=\"gray\")\n",
    "pass"
   ]
  },
  {
   "cell_type": "markdown",
   "id": "769e4d9c",
   "metadata": {},
   "source": [
    "Cool! It seems that the black pixels inside the coin were removed, but.... oh ooohhhh,\n",
    "the top right corner pixel just get expanded.\n",
    "\n",
    "Also, it seems that the original coins just grows when the `dilation` is applied.\n",
    "\n",
    "Let's try the `erosion` instead the `dilation`:"
   ]
  },
  {
   "cell_type": "code",
   "execution_count": null,
   "id": "c6e865a5",
   "metadata": {},
   "outputs": [],
   "source": [
    "d = disk(3)\n",
    "eroded_im = binary_erosion(thresholded_im, d)\n",
    "\n",
    "plt.subplot(121)\n",
    "plt.imshow(thresholded_im, cmap=\"gray\")\n",
    "plt.subplot(122)\n",
    "plt.imshow(eroded_im, cmap=\"gray\")"
   ]
  },
  {
   "cell_type": "markdown",
   "id": "dfda3aa3",
   "metadata": {},
   "source": [
    "Ok, now we solved the top right corner pixel problem, but the others... got worst!\n",
    "\n",
    "Also, the coin reduced its area.\n",
    "\n",
    "Well, it seems that we solved one problem when one algorithm is applied... could\n",
    "the second problem be solved if we applying the other algorithm? It seems both are\n",
    "a kind of complementary, isn't it?"
   ]
  },
  {
   "cell_type": "code",
   "execution_count": null,
   "id": "7c27eeb6",
   "metadata": {},
   "outputs": [],
   "source": [
    "d = disk(3)\n",
    "first_dilated_im = binary_dilation(thresholded_im, d)\n",
    "first_eroded_im = binary_erosion(thresholded_im, d)\n",
    "\n",
    "then_eroded_im = binary_erosion(first_dilated_im, d)\n",
    "then_dilated_im = binary_dilation(first_eroded_im, d)\n",
    "\n",
    "plt.subplot(221)\n",
    "plt.imshow(first_dilated_im, cmap=\"gray\")\n",
    "plt.subplot(222)\n",
    "plt.imshow(then_eroded_im, cmap=\"gray\")\n",
    "plt.subplot(223)\n",
    "plt.imshow(first_eroded_im, cmap=\"gray\")\n",
    "plt.subplot(224)\n",
    "plt.imshow(then_dilated_im, cmap=\"gray\")\n",
    "pass"
   ]
  },
  {
   "cell_type": "markdown",
   "id": "f8464c2b",
   "metadata": {},
   "source": [
    "We are moving closer to the solution, isn't it?\n",
    "\n",
    "It seems that, if we first dilate and then erode, we are solving the black pixels inside\n",
    "the coin. If we first erode and then dilate, we are deleting the top right corner pixel.\n",
    "\n",
    "In both cases, the coin is almost the same size and, probably, we can deal with the\n",
    "new approximated size.\n",
    "\n",
    "Crazy idea, what if we first dilate, then erode, then erode, and then dilate?"
   ]
  },
  {
   "cell_type": "code",
   "execution_count": null,
   "id": "d7497f97",
   "metadata": {},
   "outputs": [],
   "source": [
    "d = disk(3)\n",
    "first_dilated_im = binary_dilation(thresholded_im, d)\n",
    "then_eroded_im = binary_erosion(first_dilated_im, d)\n",
    "then_first_eroded_im = binary_erosion(then_eroded_im, d)\n",
    "then_then_dilated_im = binary_dilation(then_first_eroded_im, d)\n",
    "\n",
    "plt.subplot(121)\n",
    "plt.imshow(thresholded_im, cmap=\"gray\")\n",
    "plt.subplot(122)\n",
    "plt.imshow(then_then_dilated_im, cmap=\"gray\")\n",
    "pass"
   ]
  },
  {
   "cell_type": "markdown",
   "id": "d0f6b3b8",
   "metadata": {},
   "source": [
    "Now, it seems it works!\n",
    "\n",
    "In fact, the first two operations are commonly named `closing` (the `erosion` of the `dilation`), and the second two operations are commonly named `opening` (the `dilation` of the `erosion`).\n",
    "\n",
    "And this naming works: `closing` is removing the black points inside a blob (the coin)\n",
    "and the `opening` is removing the white points at the background.\n",
    "\n",
    "We can simplify this using the propper functions:"
   ]
  },
  {
   "cell_type": "code",
   "execution_count": null,
   "id": "7ffbfd0a",
   "metadata": {},
   "outputs": [],
   "source": [
    "d = disk(3)\n",
    "closing_im = binary_closing(thresholded_im, d)\n",
    "opening_im = binary_opening(thresholded_im, d)\n",
    "\n",
    "closing_then_opening_im = binary_opening(closing_im)\n",
    "opening_then_closing_im = binary_closing(opening_im)\n",
    "\n",
    "plt.subplot(221)\n",
    "plt.imshow(closing_im, cmap=\"gray\")\n",
    "plt.subplot(222)\n",
    "plt.imshow(opening_im, cmap=\"gray\")\n",
    "plt.subplot(223)\n",
    "plt.imshow(closing_then_opening_im, cmap=\"gray\")\n",
    "plt.subplot(224)\n",
    "plt.imshow(opening_then_closing_im, cmap=\"gray\")\n",
    "pass"
   ]
  },
  {
   "cell_type": "markdown",
   "id": "29901bc1",
   "metadata": {},
   "source": [
    "Why are the results different? It seems these two operations are not commutative.\n",
    "Wanna discuss this?\n",
    "\n",
    ">**Note:** did you try to subtract the eroded image to the original one? What do you think\n",
    "           it will happen? and the dilated imaged? and between them?"
   ]
  },
  {
   "cell_type": "markdown",
   "id": "7fc0bfad",
   "metadata": {},
   "source": [
    "# More morphology operations"
   ]
  },
  {
   "cell_type": "markdown",
   "id": "05bdd154",
   "metadata": {},
   "source": [
    "There are other morphology operations to remove local holes or removing local items. These \n",
    "operations are more flexible than `opening` and `closing` because removing the hole or item\n",
    "depends of its area, not the structural element. Also, it will not change the shape of the \n",
    "objects."
   ]
  },
  {
   "cell_type": "code",
   "execution_count": null,
   "id": "78d3383b",
   "metadata": {},
   "outputs": [],
   "source": [
    "without_holes_im = remove_small_holes(thresholded_im)\n",
    "without_objects_im = remove_small_objects(thresholded_im)\n",
    "without_them_im = remove_small_objects(without_holes_im)\n",
    "\n",
    "plt.subplot(221)\n",
    "plt.imshow(thresholded_im, cmap=\"gray\")\n",
    "plt.subplot(222)\n",
    "plt.imshow(without_holes_im, cmap=\"gray\")\n",
    "plt.subplot(223)\n",
    "plt.imshow(without_objects_im, cmap=\"gray\")\n",
    "plt.subplot(224)\n",
    "plt.imshow(without_them_im, cmap=\"gray\")\n",
    "pass"
   ]
  },
  {
   "cell_type": "markdown",
   "id": "6c232c84",
   "metadata": {},
   "source": [
    "# Extra operations\n",
    "\n",
    "Another operation that could be useful (and sometimes dangerous) is the `floodfill`. Calling\n",
    "this operation with a `seed point`, it will fill the image from that point until it arrives\n",
    "to the borders. In order to use this operation, you must check that you don't have holes in your perimeter, so the paint leaks and fill all the image!\n",
    "\n",
    "This is an example:"
   ]
  },
  {
   "cell_type": "code",
   "execution_count": null,
   "id": "409f89c1",
   "metadata": {},
   "outputs": [],
   "source": [
    "simple_im = np.zeros((100, 100), dtype=np.uint8)\n",
    "simple_im[:, 50] = 1\n",
    "simple_im[50, :] = 1\n",
    "simple_im[50, 75] = 0\n",
    "\n",
    "plt.subplot(131)\n",
    "plt.imshow(simple_im, cmap=\"gray\", vmin=0, vmax=2)\n",
    "\n",
    "plt.subplot(132)\n",
    "filled_im = flood_fill(simple_im, (5, 5), 2)\n",
    "plt.imshow(filled_im, cmap=\"gray\", vmin=0, vmax=2)\n",
    "\n",
    "\n",
    "plt.subplot(133)\n",
    "bad_filled_im = flood_fill(simple_im, (5, 55), 2)\n",
    "plt.imshow(bad_filled_im, cmap=\"gray\", vmin=0, vmax=2)\n",
    "pass"
   ]
  },
  {
   "cell_type": "markdown",
   "id": "4601228e",
   "metadata": {},
   "source": [
    "Before segmenting the image into different blobs, or contours, let's talk a bit about the last operation: `skeletonization`. This operation will reduce the blobs to a single pixel wide.\n",
    "\n",
    "To do this example, we will use another image, since the coins are round and the skeleton \n",
    "make no sense in that kind of blobs. We will try with something more related to science:\n",
    "C. Elegans!\n",
    "\n",
    "First, read the image:"
   ]
  },
  {
   "cell_type": "code",
   "execution_count": null,
   "id": "8315544d",
   "metadata": {},
   "outputs": [],
   "source": [
    "celegans_frame_filename = Path.cwd() / 'Data' / 'celegans-frame.png'\n",
    "celegans_frame = imread(celegans_frame_filename)\n",
    "plt.imshow(celegans_frame, cmap=\"gray\")\n",
    "pass"
   ]
  },
  {
   "cell_type": "markdown",
   "id": "0a64c9ea",
   "metadata": {},
   "source": [
    "We can remove the bottom and right white part of the image. In this case, we will just\n",
    "remove it using the coordinates (we can use other algorithms to fins the frame, wanna\n",
    "try it?)"
   ]
  },
  {
   "cell_type": "code",
   "execution_count": null,
   "id": "32998de7",
   "metadata": {},
   "outputs": [],
   "source": [
    "celegans_frame_cut = celegans_frame[150:1350, 200:1825]\n",
    "plt.imshow(celegans_frame_cut, cmap=\"gray\")\n",
    "pass"
   ]
  },
  {
   "cell_type": "markdown",
   "id": "b911a8fc",
   "metadata": {},
   "source": [
    "Also, we can inverse the image, since the worms are black and the background is white. We\n",
    "will transform it also to an array of bytes:"
   ]
  },
  {
   "cell_type": "code",
   "execution_count": null,
   "id": "3827c21b",
   "metadata": {},
   "outputs": [],
   "source": [
    "celegans_frame_cut_inv = 1 - celegans_frame_cut\n",
    "im = img_as_ubyte(celegans_frame_cut_inv)  # Yes, just play with `im`"
   ]
  },
  {
   "cell_type": "markdown",
   "id": "52ad926c",
   "metadata": {},
   "source": [
    "Now, let's binarize using a local thresholding algorithm. Note that the otsu value is not detecting properly\n",
    "all the worms, so we decided to subtract 10 to the threshold. Doing this, we will detect all the worms, as well as\n",
    "some noise that we will need to remove:"
   ]
  },
  {
   "cell_type": "code",
   "execution_count": null,
   "id": "e688854b",
   "metadata": {},
   "outputs": [],
   "source": [
    "otsu_value = threshold_otsu(im)\n",
    "celegans_binarized = im > otsu_value - 10\n",
    "plt.imshow(celegans_binarized, cmap=\"gray\")\n",
    "pass"
   ]
  },
  {
   "cell_type": "markdown",
   "id": "74225eca",
   "metadata": {},
   "source": [
    "We will remove the small objects using `remove_small_objects`. We will remove the border as well, using one of the \n",
    "simples solutions: using the `floodfill` operation on the top left corner."
   ]
  },
  {
   "cell_type": "code",
   "execution_count": null,
   "id": "a94fc84b",
   "metadata": {},
   "outputs": [],
   "source": [
    "celegans_binarized = im > otsu_value - 10\n",
    "celegans_binarized_no_small = remove_small_objects(celegans_binarized)\n",
    "filled = flood_fill(celegans_binarized_no_small, (0, 0), 0)\n",
    "plt.imshow(filled, cmap=\"gray\")\n",
    "pass"
   ]
  },
  {
   "cell_type": "markdown",
   "id": "d20ee3d6",
   "metadata": {},
   "source": [
    "And do the `skeletonization`:"
   ]
  },
  {
   "cell_type": "code",
   "execution_count": null,
   "id": "a35b6eff",
   "metadata": {},
   "outputs": [],
   "source": [
    "skel = skeletonize(filled)\n",
    "\n",
    "# Prepare a RGB image to show the skel over the object\n",
    "w, h = filled.shape\n",
    "final_image = np.zeros((w, h, 3), dtype=np.uint8)\n",
    "final_image[filled, :] = [64, 64, 64]\n",
    "final_image[skel, :] = [255, 64, 64]\n",
    "\n",
    "plt.figure(figsize=(12, 9))\n",
    "plt.imshow(final_image[500:800, 100:500])\n",
    "pass"
   ]
  },
  {
   "cell_type": "markdown",
   "id": "f995efe3",
   "metadata": {},
   "source": [
    "# Segmentation\n",
    "\n",
    "Finally, let's do the segmentation and label all the worms we find, like we did in the previous notebooks:"
   ]
  },
  {
   "cell_type": "code",
   "execution_count": null,
   "id": "fe3bc7e2",
   "metadata": {},
   "outputs": [],
   "source": [
    "fig = plt.figure(figsize=(12, 9))\n",
    "ax = fig.add_subplot(111)\n",
    "ax.imshow(filled, cmap=\"gray\", vmin=0, vmax=1)\n",
    "\n",
    "contours = measure.find_contours(filled)\n",
    "for n, contour in enumerate(contours):\n",
    "    ax.plot(contour[:, 1], contour[:, 0], linewidth=1)"
   ]
  },
  {
   "cell_type": "markdown",
   "id": "15a286e8",
   "metadata": {},
   "source": [
    "Test the different functions on module `skimage.measure` to find some useful measurements: area, perimeter, \n",
    "center of mass...\n",
    "\n",
    "In the example, we have some objects that are not worms. Implement some algorithm to filter the objects and keep\n",
    "only the objects that look like worms."
   ]
  },
  {
   "cell_type": "code",
   "execution_count": null,
   "id": "cbf82483",
   "metadata": {},
   "outputs": [],
   "source": []
  }
 ],
 "metadata": {
  "kernelspec": {
   "display_name": "Python 3 (ipykernel)",
   "language": "python",
   "name": "python3"
  },
  "language_info": {
   "codemirror_mode": {
    "name": "ipython",
    "version": 3
   },
   "file_extension": ".py",
   "mimetype": "text/x-python",
   "name": "python",
   "nbconvert_exporter": "python",
   "pygments_lexer": "ipython3",
   "version": "3.9.15"
  },
  "varInspector": {
   "cols": {
    "lenName": 16,
    "lenType": 16,
    "lenVar": 40
   },
   "kernels_config": {
    "python": {
     "delete_cmd_postfix": "",
     "delete_cmd_prefix": "del ",
     "library": "var_list.py",
     "varRefreshCmd": "print(var_dic_list())"
    },
    "r": {
     "delete_cmd_postfix": ") ",
     "delete_cmd_prefix": "rm(",
     "library": "var_list.r",
     "varRefreshCmd": "cat(var_dic_list()) "
    }
   },
   "types_to_exclude": [
    "module",
    "function",
    "builtin_function_or_method",
    "instance",
    "_Feature"
   ],
   "window_display": false
  }
 },
 "nbformat": 4,
 "nbformat_minor": 5
}
