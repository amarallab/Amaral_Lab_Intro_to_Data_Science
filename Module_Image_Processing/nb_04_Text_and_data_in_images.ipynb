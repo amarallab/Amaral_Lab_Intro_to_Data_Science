{
 "cells": [
  {
   "cell_type": "markdown",
   "metadata": {},
   "source": [
    "# Synopsis\n",
    "\n",
    "Extracting information from scanned files.\n",
    "\n",
    "# Words to remember\n",
    "\n",
    "**warping**\n",
    "\n",
    "**OCR**\n",
    "\n",
    "**denoising**\n",
    "\n",
    "**blurring**"
   ]
  },
  {
   "cell_type": "markdown",
   "metadata": {},
   "source": [
    "# Read libraries"
   ]
  },
  {
   "cell_type": "code",
   "execution_count": null,
   "metadata": {
    "ExecuteTime": {
     "end_time": "2023-08-11T16:32:55.288837Z",
     "start_time": "2023-08-11T16:32:52.878182Z"
    }
   },
   "outputs": [],
   "source": [
    "%load_ext autoreload\n",
    "%autoreload 2\n",
    "%matplotlib inline\n",
    "\n",
    "from colorama import Back, Fore, Style\n",
    "from copy import copy, deepcopy\n",
    "from pathlib import Path\n",
    "from sys import path\n",
    "\n",
    "path.append( str(Path.cwd().parent) )"
   ]
  },
  {
   "cell_type": "code",
   "execution_count": null,
   "metadata": {
    "ExecuteTime": {
     "end_time": "2023-08-11T16:33:07.200483Z",
     "start_time": "2023-08-11T16:32:56.942824Z"
    }
   },
   "outputs": [],
   "source": [
    "import matplotlib as mpl\n",
    "import matplotlib.pyplot as plt\n",
    "import matplotlib.cm as cm\n",
    "import numpy as np\n",
    "\n",
    "import pytesseract\n",
    "\n",
    "from matplotlib.gridspec import GridSpec\n",
    "from matplotlib.patches import Circle\n",
    "from pylab import imread, imshow, imsave\n",
    "from scipy.stats import pearsonr\n",
    "from skimage import img_as_float, img_as_ubyte\n",
    "from skimage.color import rgb2gray\n",
    "from skimage.filters import rank, threshold_otsu, gaussian\n",
    "from skimage.measure import find_contours\n",
    "from skimage.morphology import ( disk, binary_dilation, binary_erosion, \n",
    "                                 binary_closing, binary_opening, \n",
    "                                 remove_small_holes, remove_small_objects,\n",
    "                                 flood_fill, )\n",
    "from skimage.util import random_noise\n",
    "\n",
    "from skimage.transform import estimate_transform, warp\n",
    "\n",
    "from Amaral_libraries.my_stats import half_frame\n",
    "from Amaral_libraries.my_image_library import grayscale_zoom"
   ]
  },
  {
   "cell_type": "code",
   "execution_count": null,
   "metadata": {
    "ExecuteTime": {
     "end_time": "2023-08-11T16:33:15.738297Z",
     "start_time": "2023-08-11T16:33:15.691598Z"
    }
   },
   "outputs": [],
   "source": [
    "my_fontsize = 15\n",
    "data_folder = Path.cwd() / 'Data' / 'Scanned_Images'\n",
    "results_folder = Path.cwd() / 'Generated_data'"
   ]
  },
  {
   "cell_type": "markdown",
   "metadata": {},
   "source": [
    "# Load images\n",
    "\n",
    "We load all images but select a single one for further analysis.\n"
   ]
  },
  {
   "cell_type": "code",
   "execution_count": null,
   "metadata": {
    "ExecuteTime": {
     "end_time": "2023-08-11T16:36:15.570150Z",
     "start_time": "2023-08-11T16:36:15.529530Z"
    }
   },
   "outputs": [],
   "source": [
    "my_images = list( data_folder.glob('*.png') )\n",
    "print(f\"There are {len(my_images)} images in the folder.\\n\\n\")\n",
    "\n",
    "for i in range(len(my_images)):\n",
    "    print(str(my_images[i])[124:])\n"
   ]
  },
  {
   "cell_type": "code",
   "execution_count": null,
   "metadata": {
    "ExecuteTime": {
     "end_time": "2023-08-11T16:40:30.511330Z",
     "start_time": "2023-08-11T16:40:30.363677Z"
    }
   },
   "outputs": [],
   "source": [
    "i = 1\n",
    "plate = imread(my_images[i])\n",
    "print(f\"Image '{i}' has shape {plate.shape}.\\n\")\n",
    "\n",
    "imshow(plate);\n",
    "\n",
    "print(f\"That fourth channel is just ones:\\n{plate[:10, :10, 3]}\")"
   ]
  },
  {
   "cell_type": "markdown",
   "metadata": {},
   "source": [
    "We do not need the fourth channel, so we will get rid of it.\n",
    "\n",
    "We will also want to work with a grayscale version of the image.  The question is: \n",
    "\n",
    "> **Which grayscale version should we use?**\n",
    "\n",
    "Let's look at each channel separately besides a conversion to grayscale of the color image..."
   ]
  },
  {
   "cell_type": "code",
   "execution_count": null,
   "metadata": {
    "ExecuteTime": {
     "end_time": "2023-08-11T16:42:11.210034Z",
     "start_time": "2023-08-11T16:42:10.891479Z"
    }
   },
   "outputs": [],
   "source": [
    "fig = plt.figure( figsize = (10, 5) )\n",
    "ax = []\n",
    "rgb = ['red', 'green', 'blue']\n",
    "\n",
    "\n",
    "for i in range(3):\n",
    "    ax.append( fig.add_subplot(2, 2, i+1) )\n",
    "    ax[-1].text(600, -20, rgb[i], color = rgb[i], fontsize = my_fontsize )\n",
    "    ax[-1].imshow( plate[:,:,i], cmap = 'gray' )\n",
    "\n",
    "    \n",
    "ax.append( fig.add_subplot(2, 2, 4) )\n",
    "ax[-1].text(600, -20, 'gray', fontsize = my_fontsize )\n",
    "ax[-1].imshow( rgb2gray(plate[:,:,:3]) , cmap = 'gray' )\n",
    "\n",
    "plt.tight_layout()\n"
   ]
  },
  {
   "cell_type": "markdown",
   "metadata": {},
   "source": [
    "Not surprisingly, as the bars are green, the **green channel** seems to be the one where the text information and the boxes with data we want to extract is more clearly visible.\n",
    "\n",
    "From now on, we will focus on this channel."
   ]
  },
  {
   "cell_type": "code",
   "execution_count": null,
   "metadata": {
    "ExecuteTime": {
     "end_time": "2023-08-11T16:44:01.019115Z",
     "start_time": "2023-08-11T16:44:00.898703Z"
    }
   },
   "outputs": [],
   "source": [
    "imshow(plate[:,:,1], cmap = 'gray' );\n",
    "plate[:,:,1]"
   ]
  },
  {
   "cell_type": "markdown",
   "metadata": {
    "ExecuteTime": {
     "end_time": "2023-01-18T19:12:16.487404Z",
     "start_time": "2023-01-18T19:12:16.428394Z"
    }
   },
   "source": [
    "As before, we will transform to ubytes in order to save resources."
   ]
  },
  {
   "cell_type": "code",
   "execution_count": null,
   "metadata": {
    "ExecuteTime": {
     "end_time": "2023-08-11T16:47:35.049798Z",
     "start_time": "2023-08-11T16:47:34.900811Z"
    }
   },
   "outputs": [],
   "source": [
    "print( f\"Maximum of green channel is {plate[:,:,1].max():.3f}, \"\n",
    "       f\" minimum is {plate[:,:,1].min():.3f}\\n\")\n",
    "\n",
    "# Will call it plate_b for best\n",
    "#\n",
    "plate_b = (255 * plate[:,:,1]).astype( np.uint8 )\n",
    "\n",
    "print( f\"Maximum of green channel is {plate_b.max()}, \"\n",
    "       f\" minimum is {plate_b.min()}\\n\")\n",
    "\n",
    "fig = plt.figure( figsize = (12, 10) )\n",
    "plt.imshow( plate_b, cmap = 'gray' );"
   ]
  },
  {
   "cell_type": "markdown",
   "metadata": {},
   "source": [
    "# Correct image perspective\n",
    "\n",
    "This involves two steps.  First, we will get the coordinates of the 4 corners of the blue screen as accurately as possible.  To this end, we will magnify the region around each corner one at a time, and adjust the center of the zoomed in region until the red dot is located precisely at the corner.\n",
    "\n",
    "Next, we use the `transform` package to correct the perspective of the image.  To this end, we need to provide new coordinates for the corners of the blue screen.\n",
    "\n",
    "## Specify coordinates of corners of blue screen\n",
    "\n",
    "We will use a gray scale version of the image since the zoom in function only operates with gray scale images.  \n",
    " "
   ]
  },
  {
   "cell_type": "code",
   "execution_count": null,
   "metadata": {
    "ExecuteTime": {
     "end_time": "2023-08-11T16:55:27.226410Z",
     "start_time": "2023-08-11T16:55:27.181127Z"
    }
   },
   "outputs": [],
   "source": [
    "# For distorted image, I know that corners are at: \n",
    "#    [[0,0], [900, 30], [950, 460], [40, 400]]\n",
    "\n",
    "points_interest = [[0,0], [900, 30], [950, 460], [40, 400]]\n",
    "\n",
    "#If we did not know, then we would start with empty list\n",
    "#points_interest = [[], [], [], []]\n",
    "\n",
    "print(points_interest)"
   ]
  },
  {
   "cell_type": "markdown",
   "metadata": {},
   "source": [
    "**If we do not know the location of the points of interest (corners)**, then you can uncomment the code in next cell and run it until you get all sets of coordinates.\n",
    "\n",
    "**Change the value of `k` when determining the coordinates of the points of interest with index `k`.** "
   ]
  },
  {
   "cell_type": "code",
   "execution_count": null,
   "metadata": {
    "ExecuteTime": {
     "end_time": "2023-08-04T21:15:57.699358Z",
     "start_time": "2023-08-04T21:15:57.648260Z"
    }
   },
   "outputs": [],
   "source": [
    "# fig = plt.figure( figsize = (10, 6))\n",
    "# ax = fig.add_subplot(111)\n",
    "\n",
    "# zoom_factor = 8\n",
    "# k = 2\n",
    "# x = 3546\n",
    "# y = 2788\n",
    "# zoomed_image, x0, y0 = grayscale_zoom(plate_b, x, y, zoom_factor)\n",
    "\n",
    "\n",
    "# ax.imshow( zoomed_image, cmap = 'gray', vmin = 0, vmax = 255 )\n",
    "# ax.plot([zoom_factor*(x-x0)], [lzoom_factor*(y-y0)], 'ro');\n",
    "\n",
    "# # Update coordinates of corner k\n",
    "# #\n",
    "# points_interest[k] = [x, y]\n",
    "# print(points_interest)"
   ]
  },
  {
   "cell_type": "markdown",
   "metadata": {},
   "source": [
    "## Correct perspective\n",
    "\n",
    "We specify the desired coordinates for the corners of the blue screen in such a way that its size and location are approximately preserved.\n",
    "\n",
    "In order to accomplish this, we **maintain the coordinates of the first corner** and pick the **coordinates of the opposite corner using the largest values of the coordinates from the other corners**.\n",
    "\n",
    "We then use the original and desired corner coordinates to define a matrix transformation using `transform.estimate_transform`.\n",
    "\n",
    "Finally, use apply `transform.warp` to correct the perspective of the image. \n"
   ]
  },
  {
   "cell_type": "code",
   "execution_count": null,
   "metadata": {
    "ExecuteTime": {
     "end_time": "2023-08-11T16:55:36.815179Z",
     "start_time": "2023-08-11T16:55:36.719132Z"
    }
   },
   "outputs": [],
   "source": [
    "print(points_interest)\n",
    "transformed_points = [[0,0], [1000, 0], [1000, 450], [0, 450]]\n",
    "print(transformed_points)\n",
    "\n",
    "tform = estimate_transform( 'projective', np.array(points_interest), \n",
    "                            np.array(transformed_points) )\n",
    "\n",
    "\n",
    "plate_warp = (255 * warp(plate_b, tform.inverse)).astype( np.uint8 )\n",
    "color_plate_warp = warp(plate[:,:,:3], tform.inverse)"
   ]
  },
  {
   "cell_type": "code",
   "execution_count": null,
   "metadata": {
    "ExecuteTime": {
     "end_time": "2023-08-11T16:55:40.273601Z",
     "start_time": "2023-08-11T16:55:40.073586Z"
    }
   },
   "outputs": [],
   "source": [
    "fig = plt.figure(figsize = (12, 12))\n",
    "\n",
    "ax1 = fig.add_subplot(121)\n",
    "ax1.imshow(plate)\n",
    "\n",
    "for point in points_interest:\n",
    "    ax1.add_patch(Circle(point, 10, facecolor = 'r'))\n",
    "\n",
    "ax2 = fig.add_subplot(122)\n",
    "ax2.imshow( plate_warp, cmap = 'gray', vmin = 0, vmax = 255 )\n",
    "for point in transformed_points:\n",
    "    ax2.add_patch(Circle(point, 10, facecolor = 'r'));"
   ]
  },
  {
   "cell_type": "markdown",
   "metadata": {},
   "source": [
    "**Looking good!!!**"
   ]
  },
  {
   "cell_type": "code",
   "execution_count": null,
   "metadata": {
    "ExecuteTime": {
     "end_time": "2023-08-11T16:56:54.295230Z",
     "start_time": "2023-08-11T16:56:54.118829Z"
    }
   },
   "outputs": [],
   "source": [
    "plate_corrected = plate_warp\n",
    "color_plate_corrected = color_plate_warp\n",
    "\n",
    "fig = plt.figure( figsize = (12, 10) )\n",
    "# plt.imshow( plate_corrected, cmap = 'gray', vmin = 0, vmax = 255 );\n",
    "plt.imshow( color_plate_corrected );"
   ]
  },
  {
   "cell_type": "markdown",
   "metadata": {},
   "source": [
    "## Clean up"
   ]
  },
  {
   "cell_type": "code",
   "execution_count": null,
   "metadata": {
    "ExecuteTime": {
     "end_time": "2023-08-11T16:57:24.793994Z",
     "start_time": "2023-08-11T16:57:24.745767Z"
    }
   },
   "outputs": [],
   "source": [
    "del plate\n",
    "del color_plate_warp"
   ]
  },
  {
   "cell_type": "code",
   "execution_count": null,
   "metadata": {
    "ExecuteTime": {
     "end_time": "2023-08-11T16:57:26.408322Z",
     "start_time": "2023-08-11T16:57:26.366650Z"
    }
   },
   "outputs": [],
   "source": [
    "print( color_plate_corrected.dtype, plate_corrected.dtype )\n",
    "\n",
    "color_plate_corrected = (255 * color_plate_corrected).astype( np.uint8 )\n",
    "\n",
    "print( color_plate_corrected.dtype, plate_corrected.dtype )"
   ]
  },
  {
   "cell_type": "markdown",
   "metadata": {},
   "source": [
    "# Extract boxes with data\n",
    "\n",
    "The figure we processing has one graph box. \n",
    "\n",
    "The graph has a grid, but we will use Gaussian filters to remove it so that the graph box and then identify its contour.\n"
   ]
  },
  {
   "cell_type": "markdown",
   "metadata": {},
   "source": [
    "## Remove grid lines from graph boxes\n"
   ]
  },
  {
   "cell_type": "code",
   "execution_count": null,
   "metadata": {
    "ExecuteTime": {
     "end_time": "2023-08-11T17:01:17.541658Z",
     "start_time": "2023-08-11T17:01:17.258983Z"
    }
   },
   "outputs": [],
   "source": [
    "zoom_factor = 2\n",
    "x = 450\n",
    "y = 650\n",
    "\n",
    "fig = plt.figure(figsize = (12, 8))\n",
    "ax1 = fig.add_subplot(121)\n",
    "\n",
    "zoomed_image, x0, y0 = grayscale_zoom( plate_corrected, x, y, zoom_factor )\n",
    "ax1.imshow( zoomed_image, cmap = 'gray')\n",
    "\n",
    "ax2 = fig.add_subplot(122)\n",
    "\n",
    "sigma = 3\n",
    "img2 = gaussian( plate_corrected, sigma = (sigma, sigma), \n",
    "                 truncate = 3.5, preserve_range = True )\n",
    "\n",
    "plate_for_boxes = img2 > threshold_otsu(img2)\n",
    "print(f\"The array plate_for_boxes is of type {plate_for_boxes.dtype}.\\n\")\n",
    "\n",
    "zoomed_image, x0, y0 = grayscale_zoom( plate_for_boxes, x, y, zoom_factor )\n",
    "ax2.imshow( zoomed_image, cmap = 'gray' );\n",
    "\n",
    "plt.tight_layout()\n",
    "\n",
    "del zoomed_image"
   ]
  },
  {
   "cell_type": "code",
   "execution_count": null,
   "metadata": {
    "ExecuteTime": {
     "end_time": "2023-08-11T17:02:46.280018Z",
     "start_time": "2023-08-11T17:02:46.137047Z"
    }
   },
   "outputs": [],
   "source": [
    "fig = plt.figure( figsize = (12, 10) )\n",
    "plt.imshow(plate_for_boxes, cmap = 'gray');"
   ]
  },
  {
   "cell_type": "markdown",
   "metadata": {},
   "source": [
    "Pretty cool, don't you think?\n",
    "\n",
    "## Contours\n",
    "\n",
    "We can now identify contours and eliminate all that are small.\n"
   ]
  },
  {
   "cell_type": "code",
   "execution_count": null,
   "metadata": {
    "ExecuteTime": {
     "end_time": "2023-08-11T17:03:00.651264Z",
     "start_time": "2023-08-11T17:03:00.598440Z"
    }
   },
   "outputs": [],
   "source": [
    "contours = find_contours(plate_for_boxes)\n",
    "print(f\"The algorithm found {len(contours)} contours.\\n\")\n",
    "\n",
    "for j in range(len(contours)-1, -1, -1):\n",
    "    if len(contours[j]) < 3000:\n",
    "        contours.pop(j)\n",
    "\n",
    "print(f\"There are {len(contours)} good contours.\\n\" )\n"
   ]
  },
  {
   "cell_type": "code",
   "execution_count": null,
   "metadata": {
    "ExecuteTime": {
     "end_time": "2023-08-11T17:03:07.406047Z",
     "start_time": "2023-08-11T17:03:07.263191Z"
    }
   },
   "outputs": [],
   "source": [
    "fig = plt.figure( figsize = (12, 10) )\n",
    "ax = fig.add_subplot(111)\n",
    "\n",
    "ax.imshow(plate_for_boxes, cmap = 'gray')\n",
    "\n",
    "# Find coordinates of corners of boxes\n",
    "#\n",
    "box_max = []\n",
    "box_min = []\n",
    "for n, contour in enumerate(contours):\n",
    "    ax.plot(contour[:, 1], contour[:, 0], linewidth = 2)\n",
    "    box_max.append( np.max(contour, axis = 0) )\n",
    "    box_min.append( np.min(contour, axis = 0) )\n",
    "    \n",
    "del contours"
   ]
  },
  {
   "cell_type": "markdown",
   "metadata": {},
   "source": [
    "We now store the sections of the image with the graph box and with the corresponding text."
   ]
  },
  {
   "cell_type": "code",
   "execution_count": null,
   "metadata": {
    "ExecuteTime": {
     "end_time": "2023-08-11T17:06:17.975922Z",
     "start_time": "2023-08-11T17:06:17.935416Z"
    }
   },
   "outputs": [],
   "source": [
    "\n",
    "graph_box = color_plate_corrected[int(box_min[0][0]):int(box_max[0][0]), \n",
    "                                  int(box_min[0][1]):int(box_max[0][1]), :]\n",
    "\n",
    "text_box = plate_corrected[int(box_min[0][0]):int(box_max[0][0])+50, \n",
    "                           :int(box_min[0][1])]\n",
    "\n",
    "print(f\"The array in graph_box is of type {graph_box.dtype}.\\n\")\n",
    "print(f\"The array in text_box is of type {text_box.dtype}.\\n\")"
   ]
  },
  {
   "cell_type": "code",
   "execution_count": null,
   "metadata": {
    "ExecuteTime": {
     "end_time": "2023-08-11T17:06:34.084772Z",
     "start_time": "2023-08-11T17:06:34.040330Z"
    }
   },
   "outputs": [],
   "source": [
    "del plate_for_boxes\n",
    "del plate_corrected\n",
    "del color_plate_corrected"
   ]
  },
  {
   "cell_type": "code",
   "execution_count": null,
   "metadata": {
    "ExecuteTime": {
     "end_time": "2023-08-11T17:08:24.979180Z",
     "start_time": "2023-08-11T17:08:24.784630Z"
    }
   },
   "outputs": [],
   "source": [
    "fig = plt.figure( figsize = (10, 10) )\n",
    "gs = fig.add_gridspec(1, 5)\n",
    "ax = []\n",
    "\n",
    "ax.append( fig.add_subplot( gs[0, 0] ) )\n",
    "ax[-1].imshow( text_box, cmap = 'gray', vmin = 0, vmax = 255 )\n",
    "    \n",
    "ax.append( fig.add_subplot( gs[0, 1:] ) )\n",
    "ax[-1].imshow( graph_box )\n",
    "\n",
    "plt.tight_layout()\n"
   ]
  },
  {
   "cell_type": "markdown",
   "metadata": {},
   "source": [
    "## Save graph box"
   ]
  },
  {
   "cell_type": "code",
   "execution_count": null,
   "metadata": {
    "ExecuteTime": {
     "end_time": "2023-08-11T17:09:07.842300Z",
     "start_time": "2023-08-11T17:09:07.771374Z"
    }
   },
   "outputs": [],
   "source": [
    "imsave( results_folder / 'graph_box.png', graph_box )\n",
    "    "
   ]
  },
  {
   "cell_type": "markdown",
   "metadata": {},
   "source": [
    "# OCR\n",
    "\n",
    "`Tesseract` is  a great package for OCR. We will first use it on a sample image distributed with it.\n"
   ]
  },
  {
   "cell_type": "code",
   "execution_count": null,
   "metadata": {
    "ExecuteTime": {
     "end_time": "2023-08-11T17:15:57.282328Z",
     "start_time": "2023-08-11T17:15:57.150550Z"
    }
   },
   "outputs": [],
   "source": [
    "plate_for_ocr = imread( data_folder / '1_python-ocr.jpg')\n",
    "\n",
    "imshow(plate_for_ocr)"
   ]
  },
  {
   "cell_type": "code",
   "execution_count": null,
   "metadata": {
    "ExecuteTime": {
     "end_time": "2023-08-11T17:17:23.132514Z",
     "start_time": "2023-08-11T17:17:22.383300Z"
    }
   },
   "outputs": [],
   "source": [
    "plate_for_ocr = plate_for_ocr.astype( np.uint8 )\n",
    "\n",
    "results = pytesseract.image_to_data( plate_for_ocr, \n",
    "                                     output_type = pytesseract.Output.DICT )\n"
   ]
  },
  {
   "cell_type": "code",
   "execution_count": null,
   "metadata": {
    "ExecuteTime": {
     "end_time": "2023-08-11T17:19:16.938388Z",
     "start_time": "2023-08-11T17:19:16.702976Z"
    }
   },
   "outputs": [],
   "source": [
    "fig = plt.figure( figsize = (15, 10))\n",
    "ax = fig.add_subplot(111)\n",
    "\n",
    "ax.imshow(plate_for_ocr, cmap = 'gray')\n",
    "for i in range(len(results['text'])):\n",
    "    x = results['left'][i]\n",
    "    y = results['top'][i]\n",
    "\n",
    "    w = results['width'][i]\n",
    "    h = results['height'][i]\n",
    "\n",
    "    text = results['text'][i]\n",
    "    conf = int(results['conf'][i])\n",
    "    \n",
    "    if conf > 0: \n",
    "        ax.hlines([y, y+h], x, x+w, color = 'g')\n",
    "        ax.vlines([x, x+w], y, y+h, color = 'g')\n",
    "        ax.text(x, y-10, f\"text: {text} ({conf}%)\" )\n",
    "    "
   ]
  },
  {
   "cell_type": "markdown",
   "metadata": {},
   "source": [
    "**So cool!**\n",
    "\n",
    "Let is now check if it works as well for our image..."
   ]
  },
  {
   "cell_type": "code",
   "execution_count": null,
   "metadata": {
    "ExecuteTime": {
     "end_time": "2023-08-14T18:23:50.362754Z",
     "start_time": "2023-08-14T18:23:50.115118Z"
    }
   },
   "outputs": [],
   "source": [
    "results = pytesseract.image_to_data( text_box, \n",
    "                                     output_type = pytesseract.Output.DICT )\n",
    "\n",
    "\n",
    "# Confidence level <0 means that it is likely trash\n",
    "#\n",
    "print(results['conf'])\n",
    "print(results['left'])\n",
    "print(results['top'])\n",
    "print(results['text'])\n",
    "\n",
    "fig = plt.figure()\n",
    "ax = fig.add_subplot(111)\n",
    "\n",
    "ax.imshow(text_box[:,:], cmap = 'gray')\n",
    "for i in range(len(results['text'])):\n",
    "    x = results['left'][i]\n",
    "    y = results['top'][i]\n",
    "    \n",
    "    ax.plot(x, y, 'o', markersize = '10', alpha = 0.5)\n",
    "\n",
    "    w = results['width'][i]\n",
    "    h = results['height'][i]\n",
    "\n",
    "    text = results['text'][i]\n",
    "    conf = int(results['conf'][i])\n",
    "\n",
    "    ax.hlines([y, y+h], x, x+w, color = 'g')\n",
    "    ax.vlines([x, x+w], y, y+h, color = 'g')\n",
    "    if conf > 0: \n",
    "        ax.text(x, y-10, f\"text: {text} ({conf}%)\" )\n",
    "    "
   ]
  },
  {
   "cell_type": "markdown",
   "metadata": {
    "ExecuteTime": {
     "end_time": "2023-01-19T19:34:54.047473Z",
     "start_time": "2023-01-19T19:34:53.985396Z"
    },
    "code_folding": []
   },
   "source": [
    "So, we can only get one match, and even that one is not great because of being rotated.\n",
    "\n",
    "Let's see if removing high-confidence text and replacing with white pixels and repeating analysis changes anything with regard to rest of text..."
   ]
  },
  {
   "cell_type": "code",
   "execution_count": null,
   "metadata": {
    "ExecuteTime": {
     "end_time": "2023-08-14T18:32:36.063455Z",
     "start_time": "2023-08-14T18:32:35.974604Z"
    }
   },
   "outputs": [],
   "source": [
    "i = 4\n",
    "x = results['left'][i]\n",
    "y = results['top'][i]\n",
    "w = results['width'][i]\n",
    "h = results['height'][i]\n",
    "print(w, h)\n",
    "\n",
    "text_box_1 = copy(text_box)\n",
    "print(text_box.max())\n",
    "print(text_box_1.shape)\n",
    "print(text_box_1[y:y+h, x:x+w].shape)\n",
    "text_box_1[y:y+h, x:x+w] = 255*np.ones((h, w))\n",
    "\n",
    "imshow(text_box_1, cmap = 'gray')"
   ]
  },
  {
   "cell_type": "code",
   "execution_count": null,
   "metadata": {
    "ExecuteTime": {
     "end_time": "2023-08-14T18:33:24.039054Z",
     "start_time": "2023-08-14T18:33:23.591294Z"
    }
   },
   "outputs": [],
   "source": [
    "results = pytesseract.image_to_data( text_box_1, \n",
    "                                     output_type = pytesseract.Output.DICT )\n",
    "\n",
    "\n",
    "# Confidence level <0 means that it is likely trash\n",
    "#\n",
    "print(results['conf'])\n",
    "print(results['left'])\n",
    "print(results['top'])\n",
    "print(results['text'])\n",
    "\n",
    "fig = plt.figure()\n",
    "ax = fig.add_subplot(111)\n",
    "\n",
    "ax.imshow(text_box, cmap = 'gray')\n",
    "for i in range(len(results['text'])):\n",
    "    x = results['left'][i]\n",
    "    y = results['top'][i]\n",
    "    \n",
    "    ax.plot(x, y, 'o', markersize = '10', alpha = 0.5)\n",
    "\n",
    "    w = results['width'][i]\n",
    "    h = results['height'][i]\n",
    "\n",
    "    text = results['text'][i]\n",
    "    conf = int(results['conf'][i])\n",
    "\n",
    "    ax.hlines([y, y+h], x, x+w, color = 'g')\n",
    "    ax.vlines([x, x+w], y, y+h, color = 'g')\n",
    "    if conf > 0: \n",
    "        ax.text(x, y-10, f\"text: {text} ({conf}%)\" )\n",
    "    "
   ]
  },
  {
   "cell_type": "markdown",
   "metadata": {},
   "source": [
    "## Refactoring code for extracting all text from 'noiseless' image "
   ]
  },
  {
   "cell_type": "code",
   "execution_count": null,
   "metadata": {},
   "outputs": [],
   "source": []
  },
  {
   "cell_type": "code",
   "execution_count": null,
   "metadata": {},
   "outputs": [],
   "source": []
  },
  {
   "cell_type": "code",
   "execution_count": null,
   "metadata": {},
   "outputs": [],
   "source": []
  },
  {
   "cell_type": "code",
   "execution_count": null,
   "metadata": {},
   "outputs": [],
   "source": []
  },
  {
   "cell_type": "code",
   "execution_count": null,
   "metadata": {},
   "outputs": [],
   "source": []
  },
  {
   "cell_type": "code",
   "execution_count": null,
   "metadata": {},
   "outputs": [],
   "source": []
  },
  {
   "cell_type": "markdown",
   "metadata": {},
   "source": [
    "# What if there is noise in the image?\n",
    "\n",
    "If there is noise in the image, than `Tesseract` will not work as well.  \n",
    "\n",
    "To learn how to address this, we will load below a version of our image with some noise added. \n",
    "\n",
    "\n",
    "## Useful plotting function"
   ]
  },
  {
   "cell_type": "code",
   "execution_count": null,
   "metadata": {
    "ExecuteTime": {
     "end_time": "2023-08-15T20:57:41.512724Z",
     "start_time": "2023-08-15T20:57:41.470828Z"
    },
    "code_folding": [
     7
    ]
   },
   "outputs": [],
   "source": [
    "zoom_factor = 2\n",
    "x_c = 300\n",
    "y_c = 300\n",
    "\n",
    "y_lim = 600\n",
    "x_lim = 500\n",
    "\n",
    "def plot_sections(my_image, zoom_factor, x_c, y_c, x_lim, y_lim):\n",
    "    \n",
    "    fig = plt.figure( figsize = (10, 8) )\n",
    "    gs = fig.add_gridspec(1, 3)\n",
    "    ax = []\n",
    "\n",
    "    ax.append( fig.add_subplot( gs[0, 0]) )\n",
    "    ax[-1].imshow( my_image[:y_lim,:x_lim], cmap = 'gray');\n",
    "\n",
    "    ax.append( fig.add_subplot(gs[0, 1:]) )\n",
    "    zoomed_image, x0, y0 = grayscale_zoom( my_image, x_c, y_c, zoom_factor )\n",
    "    ax[-1].imshow( zoomed_image, cmap = 'gray')\n",
    "\n",
    "    plt.tight_layout()\n",
    "    \n"
   ]
  },
  {
   "cell_type": "code",
   "execution_count": null,
   "metadata": {
    "ExecuteTime": {
     "end_time": "2023-08-15T20:40:43.032626Z",
     "start_time": "2023-08-15T20:40:42.712726Z"
    }
   },
   "outputs": [],
   "source": [
    "i = 2\n",
    "plate = imread(my_images[i])\n",
    "print(f\"Image '{i}' has shape {plate.shape}.\\n\")\n",
    "\n",
    "imshow(plate);"
   ]
  },
  {
   "cell_type": "markdown",
   "metadata": {},
   "source": [
    "We will quickly repeat all steps up to getting a text box."
   ]
  },
  {
   "cell_type": "code",
   "execution_count": null,
   "metadata": {
    "ExecuteTime": {
     "end_time": "2023-08-15T20:53:58.252657Z",
     "start_time": "2023-08-15T20:53:58.133910Z"
    }
   },
   "outputs": [],
   "source": [
    "plate_b = (255 * plate[:,:,1]).astype( np.uint8 )\n",
    "sigma = 3\n",
    "img2 = gaussian( plate_b, sigma = (sigma, sigma), \n",
    "                 truncate = 3.5, preserve_range = True )\n",
    "\n",
    "plate_for_boxes = img2 > threshold_otsu(img2)\n",
    "contours = find_contours(plate_for_boxes)\n",
    "print(f\"The algorithm found {len(contours)} contours.\\n\")\n",
    "\n",
    "for j in range(len(contours)-1, -1, -1):\n",
    "    if len(contours[j]) < 3000:\n",
    "        contours.pop(j)\n",
    "\n",
    "print(f\"There are {len(contours)} good contours.\\n\" )\n",
    "\n",
    "# Find coordinates of corners of boxes\n",
    "#\n",
    "box_max = []\n",
    "box_min = []\n",
    "for n, contour in enumerate(contours):\n",
    "    box_max.append( np.max(contour, axis = 0) )\n",
    "    box_min.append( np.min(contour, axis = 0) )\n",
    "    \n",
    "del img2\n",
    "del contours\n",
    "del plate_for_boxes\n",
    "# del plate_corrected\n",
    "# del color_plate_corrected\n",
    "\n",
    "text_box = plate_b[int(box_min[0][0]):int(box_max[0][0])+50, \n",
    "                   :int(box_min[0][1])]\n",
    "\n",
    "print(f\"The array in text_box is of type {text_box.dtype}.\\n\")\n",
    "\n",
    "imshow( text_box, cmap = 'gray');"
   ]
  },
  {
   "cell_type": "markdown",
   "metadata": {},
   "source": [
    "## Try OCR on noisy image"
   ]
  },
  {
   "cell_type": "code",
   "execution_count": null,
   "metadata": {
    "ExecuteTime": {
     "end_time": "2023-08-15T20:54:46.848828Z",
     "start_time": "2023-08-15T20:54:46.286120Z"
    }
   },
   "outputs": [],
   "source": [
    "results = pytesseract.image_to_data( text_box, \n",
    "                                     output_type = pytesseract.Output.DICT )\n",
    "\n",
    "\n",
    "# Confidence level <0 means that it is likely trash\n",
    "#\n",
    "print(results['conf'])\n",
    "print(results['left'])\n",
    "print(results['top'])\n",
    "print(results['text'])\n",
    "\n",
    "fig = plt.figure()\n",
    "ax = fig.add_subplot(111)\n",
    "\n",
    "ax.imshow(text_box[:,:], cmap = 'gray')\n",
    "for i in range(len(results['text'])):\n",
    "    x = results['left'][i]\n",
    "    y = results['top'][i]\n",
    "    \n",
    "    ax.plot(x, y, 'o', markersize = '10', alpha = 0.5)\n",
    "\n",
    "    w = results['width'][i]\n",
    "    h = results['height'][i]\n",
    "\n",
    "    text = results['text'][i]\n",
    "    conf = int(results['conf'][i])\n",
    "\n",
    "    ax.hlines([y, y+h], x, x+w, color = 'g')\n",
    "    ax.vlines([x, x+w], y, y+h, color = 'g')\n",
    "    if conf > 0: \n",
    "        ax.text(x, y-10, f\"text: {text} ({conf}%)\" )\n",
    "    "
   ]
  },
  {
   "cell_type": "markdown",
   "metadata": {},
   "source": [
    "## Denoising\n"
   ]
  },
  {
   "cell_type": "code",
   "execution_count": null,
   "metadata": {
    "ExecuteTime": {
     "end_time": "2023-08-15T21:00:05.770777Z",
     "start_time": "2023-08-15T21:00:05.544574Z"
    }
   },
   "outputs": [],
   "source": [
    "plot_sections(text_box, zoom_factor, x_c, y_c, x_lim, y_lim)"
   ]
  },
  {
   "cell_type": "markdown",
   "metadata": {},
   "source": [
    "We first binarize the image with a high threshold so we don't loose any foreground..."
   ]
  },
  {
   "cell_type": "code",
   "execution_count": null,
   "metadata": {
    "ExecuteTime": {
     "end_time": "2023-08-15T21:04:09.628597Z",
     "start_time": "2023-08-15T21:04:09.407518Z"
    }
   },
   "outputs": [],
   "source": [
    "h, w = text_box.shape\n",
    "\n",
    "threshold = 250\n",
    "binary_mask = text_box > threshold\n",
    "\n",
    "plot_sections(binary_mask, zoom_factor, x_c, y_c, x_lim, y_lim)"
   ]
  },
  {
   "cell_type": "markdown",
   "metadata": {},
   "source": [
    "It seems that the way to go is to remove small dots (which because they have low pixel values are holes)...\n",
    "\n",
    "**We can use `remove_small_holes` and check what we get.**\n"
   ]
  },
  {
   "cell_type": "code",
   "execution_count": null,
   "metadata": {
    "ExecuteTime": {
     "end_time": "2023-08-15T21:10:57.317849Z",
     "start_time": "2023-08-15T21:10:57.115466Z"
    }
   },
   "outputs": [],
   "source": [
    "binary_wo_small_holes = remove_small_holes( binary_mask, 15 )\n",
    "\n",
    "plot_sections(binary_wo_small_holes, zoom_factor, x_c, y_c, x_lim, y_lim)"
   ]
  },
  {
   "cell_type": "markdown",
   "metadata": {},
   "source": [
    "Note bad.  Now we just need to plug those holes in the characters (which, because they have high pixel values are objects)...\n",
    "\n",
    "**We can use `remove_small_objects`**\n"
   ]
  },
  {
   "cell_type": "code",
   "execution_count": null,
   "metadata": {
    "ExecuteTime": {
     "end_time": "2023-08-15T21:14:21.755899Z",
     "start_time": "2023-08-15T21:14:21.551426Z"
    }
   },
   "outputs": [],
   "source": [
    "binary_clean = remove_small_objects( binary_wo_small_holes, 40 )\n",
    "\n",
    "plot_sections(binary_clean, zoom_factor, x_c, y_c, x_lim, y_lim)"
   ]
  },
  {
   "cell_type": "markdown",
   "metadata": {},
   "source": [
    "**Not bad!!!**\n",
    "\n",
    "We can now use `gaussian` filtering to smooth the characters."
   ]
  },
  {
   "cell_type": "code",
   "execution_count": null,
   "metadata": {
    "ExecuteTime": {
     "end_time": "2023-08-15T21:17:42.162302Z",
     "start_time": "2023-08-15T21:17:42.115929Z"
    }
   },
   "outputs": [],
   "source": [
    "help(gaussian)"
   ]
  },
  {
   "cell_type": "code",
   "execution_count": null,
   "metadata": {
    "ExecuteTime": {
     "end_time": "2023-08-15T21:19:27.183473Z",
     "start_time": "2023-08-15T21:19:26.971441Z"
    }
   },
   "outputs": [],
   "source": [
    "vicinity = disk(1)\n",
    "clean_box = gaussian( binary_clean, 1.53 )\n",
    "\n",
    "plot_sections( clean_box, zoom_factor, x_c, y_c, x_lim, y_lim)"
   ]
  },
  {
   "cell_type": "code",
   "execution_count": null,
   "metadata": {
    "ExecuteTime": {
     "end_time": "2023-08-15T21:22:33.456652Z",
     "start_time": "2023-08-15T21:22:33.407923Z"
    }
   },
   "outputs": [],
   "source": [
    "clean_text = (255 * clean_box).astype( np.uint8 )\n",
    "print(f\"The array in clean_text is of type {clean_text.dtype}.\\n\")\n"
   ]
  },
  {
   "cell_type": "code",
   "execution_count": null,
   "metadata": {
    "ExecuteTime": {
     "end_time": "2023-08-15T21:23:39.361758Z",
     "start_time": "2023-08-15T21:23:39.065987Z"
    }
   },
   "outputs": [],
   "source": [
    "results = pytesseract.image_to_data( clean_text, \n",
    "                                     output_type = pytesseract.Output.DICT )\n",
    "\n",
    "\n",
    "# Confidence level <0 means that it is likely trash\n",
    "#\n",
    "print(results['conf'])\n",
    "print(results['left'])\n",
    "print(results['top'])\n",
    "print(results['text'])\n",
    "\n",
    "fig = plt.figure()\n",
    "ax = fig.add_subplot(111)\n",
    "\n",
    "ax.imshow(clean_text[:,:], cmap = 'gray')\n",
    "for i in range(len(results['text'])):\n",
    "    x = results['left'][i]\n",
    "    y = results['top'][i]\n",
    "    \n",
    "    ax.plot(x, y, 'o', markersize = '10', alpha = 0.5)\n",
    "\n",
    "    w = results['width'][i]\n",
    "    h = results['height'][i]\n",
    "\n",
    "    text = results['text'][i]\n",
    "    conf = int(results['conf'][i])\n",
    "\n",
    "    ax.hlines([y, y+h], x, x+w, color = 'g')\n",
    "    ax.vlines([x, x+w], y, y+h, color = 'g')\n",
    "    if conf >= 0: \n",
    "        ax.text(x, y-10, f\"text: {text} ({conf}%)\" )\n",
    "    "
   ]
  },
  {
   "cell_type": "markdown",
   "metadata": {
    "ExecuteTime": {
     "end_time": "2023-01-19T22:19:33.864029Z",
     "start_time": "2023-01-19T22:19:33.788736Z"
    }
   },
   "source": [
    "# Re-factoring code for denoising text_boxes\n",
    "\n"
   ]
  },
  {
   "cell_type": "code",
   "execution_count": null,
   "metadata": {
    "ExecuteTime": {
     "end_time": "2023-08-04T21:55:09.525869Z",
     "start_time": "2023-08-04T21:55:09.488857Z"
    }
   },
   "outputs": [],
   "source": []
  },
  {
   "cell_type": "code",
   "execution_count": null,
   "metadata": {
    "ExecuteTime": {
     "end_time": "2023-08-04T21:55:10.575325Z",
     "start_time": "2023-08-04T21:55:10.311639Z"
    }
   },
   "outputs": [],
   "source": []
  },
  {
   "cell_type": "code",
   "execution_count": null,
   "metadata": {},
   "outputs": [],
   "source": []
  },
  {
   "cell_type": "code",
   "execution_count": null,
   "metadata": {},
   "outputs": [],
   "source": []
  },
  {
   "cell_type": "code",
   "execution_count": null,
   "metadata": {},
   "outputs": [],
   "source": []
  },
  {
   "cell_type": "code",
   "execution_count": null,
   "metadata": {},
   "outputs": [],
   "source": []
  }
 ],
 "metadata": {
  "anaconda-cloud": {},
  "kernelspec": {
   "display_name": "Python [conda env:new_base] *",
   "language": "python",
   "name": "conda-env-new_base-py"
  },
  "language_info": {
   "codemirror_mode": {
    "name": "ipython",
    "version": 3
   },
   "file_extension": ".py",
   "mimetype": "text/x-python",
   "name": "python",
   "nbconvert_exporter": "python",
   "pygments_lexer": "ipython3",
   "version": "3.11.4"
  },
  "toc": {
   "base_numbering": 1,
   "nav_menu": {},
   "number_sections": true,
   "sideBar": true,
   "skip_h1_title": false,
   "title_cell": "Table of Contents",
   "title_sidebar": "Contents",
   "toc_cell": false,
   "toc_position": {
    "height": "calc(100% - 180px)",
    "left": "10px",
    "top": "150px",
    "width": "204.567px"
   },
   "toc_section_display": true,
   "toc_window_display": true
  },
  "varInspector": {
   "cols": {
    "lenName": 16,
    "lenType": 16,
    "lenVar": 40
   },
   "kernels_config": {
    "python": {
     "delete_cmd_postfix": "",
     "delete_cmd_prefix": "del ",
     "library": "var_list.py",
     "varRefreshCmd": "print(var_dic_list())"
    },
    "r": {
     "delete_cmd_postfix": ") ",
     "delete_cmd_prefix": "rm(",
     "library": "var_list.r",
     "varRefreshCmd": "cat(var_dic_list()) "
    }
   },
   "types_to_exclude": [
    "module",
    "function",
    "builtin_function_or_method",
    "instance",
    "_Feature"
   ],
   "window_display": false
  }
 },
 "nbformat": 4,
 "nbformat_minor": 1
}
