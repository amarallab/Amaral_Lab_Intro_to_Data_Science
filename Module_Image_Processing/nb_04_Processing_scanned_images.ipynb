{
 "cells": [
  {
   "cell_type": "markdown",
   "metadata": {},
   "source": [
    "# Synopsis\n",
    "\n",
    "Extracting information from scanned files.\n",
    "\n",
    "# Words to remember\n",
    "\n",
    "**warping**\n",
    "\n",
    "**denoising**\n"
   ]
  },
  {
   "cell_type": "markdown",
   "metadata": {},
   "source": [
    "# Read libraries"
   ]
  },
  {
   "cell_type": "code",
   "execution_count": null,
   "metadata": {
    "ExecuteTime": {
     "end_time": "2023-08-11T16:32:55.288837Z",
     "start_time": "2023-08-11T16:32:52.878182Z"
    }
   },
   "outputs": [],
   "source": [
    "%load_ext autoreload\n",
    "%autoreload 2\n",
    "%matplotlib inline\n",
    "\n",
    "from colorama import Back, Fore, Style\n",
    "from copy import copy, deepcopy\n",
    "from pathlib import Path\n"
   ]
  },
  {
   "cell_type": "code",
   "execution_count": null,
   "metadata": {
    "ExecuteTime": {
     "end_time": "2023-08-11T16:33:07.200483Z",
     "start_time": "2023-08-11T16:32:56.942824Z"
    }
   },
   "outputs": [],
   "source": [
    "import matplotlib as mpl\n",
    "import matplotlib.pyplot as plt\n",
    "import matplotlib.cm as cm\n",
    "import numpy as np\n",
    "\n",
    "from matplotlib.gridspec import GridSpec\n",
    "from matplotlib.patches import Circle\n",
    "from pylab import imread, imshow, imsave\n",
    "from scipy.stats import pearsonr\n",
    "from skimage import img_as_float, img_as_ubyte\n",
    "from skimage.color import rgb2gray\n",
    "from skimage.filters import rank, threshold_otsu, gaussian\n",
    "from skimage.measure import find_contours\n",
    "from skimage.morphology import ( disk, binary_dilation, binary_erosion, \n",
    "                                 binary_closing, binary_opening, \n",
    "                                 remove_small_holes, remove_small_objects,\n",
    "                                 flood_fill, )\n",
    "from skimage.util import random_noise\n",
    "\n",
    "from skimage.transform import estimate_transform, warp\n",
    "\n",
    "from module_libraries.my_stats import half_frame\n",
    "from module_libraries.image_lib import display_all_channels, grayscale_zoom\n",
    "\n",
    "my_fontsize = 15\n",
    "data_folder = Path.cwd() / 'Data' / 'Scanned_Images'\n",
    "results_folder = Path.cwd() / 'Results'\n"
   ]
  },
  {
   "cell_type": "markdown",
   "metadata": {},
   "source": [
    "# Load images\n",
    "\n",
    "We load all images but select a single one for further analysis.\n"
   ]
  },
  {
   "cell_type": "code",
   "execution_count": null,
   "metadata": {
    "ExecuteTime": {
     "end_time": "2023-08-11T16:36:15.570150Z",
     "start_time": "2023-08-11T16:36:15.529530Z"
    }
   },
   "outputs": [],
   "source": [
    "my_images = list( data_folder.glob('*.png') )\n",
    "print( Style.BRIGHT, f\"There are {len(my_images)} images in the folder.\\n\",\n",
    "       Style.RESET_ALL )\n",
    "\n",
    "for i in range(len(my_images)):\n",
    "    print('\\t', my_images[i].parts[-1])\n"
   ]
  },
  {
   "cell_type": "code",
   "execution_count": null,
   "metadata": {
    "ExecuteTime": {
     "end_time": "2023-08-11T16:40:30.511330Z",
     "start_time": "2023-08-11T16:40:30.363677Z"
    }
   },
   "outputs": [],
   "source": [
    "i = 3\n",
    "plate = imread( my_images[i] )\n",
    "print(f\"That fourth channel is mostly ones:\\n{plate[:10, :10, 3]}\")\n",
    "\n",
    "plate = np.uint8( 255 * plate )\n",
    "print(f\"Image '{i}' has shape {plate.shape}.\\n\")\n",
    "\n",
    "imshow(plate);"
   ]
  },
  {
   "cell_type": "markdown",
   "metadata": {},
   "source": [
    "We do not need the fourth channel, so we will get rid of it.\n",
    "\n",
    "We will also want to work with a grayscale version of the image.  The question is: \n",
    "\n",
    "> **Which grayscale version should we use?**\n",
    "\n",
    "Let's look at each channel separately besides a conversion to grayscale of the color image..."
   ]
  },
  {
   "cell_type": "code",
   "execution_count": null,
   "metadata": {},
   "outputs": [],
   "source": [
    "display_all_channels( plate )"
   ]
  },
  {
   "cell_type": "markdown",
   "metadata": {},
   "source": [
    "Not surprisingly, as the bars are green, the **green channel** seems to be the one where the text information and the boxes with data we want to extract is more clearly visible.\n",
    "\n",
    "From now on, we will focus on this channel."
   ]
  },
  {
   "cell_type": "code",
   "execution_count": null,
   "metadata": {
    "ExecuteTime": {
     "end_time": "2023-08-11T16:44:01.019115Z",
     "start_time": "2023-08-11T16:44:00.898703Z"
    }
   },
   "outputs": [],
   "source": [
    "imshow(plate[:,:,1], cmap = 'gray' );\n",
    "plate[:,:,1]"
   ]
  },
  {
   "cell_type": "code",
   "execution_count": null,
   "metadata": {
    "ExecuteTime": {
     "end_time": "2023-08-11T16:47:35.049798Z",
     "start_time": "2023-08-11T16:47:34.900811Z"
    }
   },
   "outputs": [],
   "source": [
    "# Will call it plate_b for best\n",
    "#\n",
    "plate_b = plate[:,:,1]\n",
    "\n",
    "print( f\"Maximum of green channel is {plate_b.max()}, \"\n",
    "       f\" minimum is {plate_b.min()}\\n\")\n",
    "\n",
    "fig = plt.figure( figsize = (12, 10) )\n",
    "plt.imshow( plate_b, cmap = 'gray' );"
   ]
  },
  {
   "cell_type": "markdown",
   "metadata": {},
   "source": [
    "# Correct image perspective\n",
    "\n",
    "This involves two steps.  First, we will get the coordinates of the 4 corners of the blue screen as accurately as possible.  To this end, we will magnify the region around each corner one at a time, and adjust the center of the zoomed in region until the red dot is located precisely at the corner.\n",
    "\n",
    "Next, we use the `transform` package to correct the perspective of the image.  To this end, we need to provide new coordinates for the corners of the blue screen.\n",
    "\n",
    "## Specify coordinates of corners of blue screen\n",
    "\n",
    "We will use a gray scale version of the image since the zoom in function only operates with gray scale images.  \n",
    " "
   ]
  },
  {
   "cell_type": "code",
   "execution_count": null,
   "metadata": {
    "ExecuteTime": {
     "end_time": "2023-08-11T16:55:27.226410Z",
     "start_time": "2023-08-11T16:55:27.181127Z"
    }
   },
   "outputs": [],
   "source": [
    "# For distorted image, I know that corners are at: \n",
    "#    [[0,0], [900, 30], [950, 460], [40, 400]]\n",
    "\n",
    "points_interest = [[0,0], [900, 30], [950, 460], [40, 400]]\n",
    "\n",
    "#If we did not know, then we would start with empty list\n",
    "#points_interest = [[], [], [], []]\n",
    "\n",
    "print(points_interest)"
   ]
  },
  {
   "cell_type": "markdown",
   "metadata": {},
   "source": [
    "**If we do not know the location of the points of interest (corners)**, then you can uncomment the code in next cell and run it until you get all sets of coordinates.\n",
    "\n",
    "**Change the value of `k` when determining the coordinates of the points of interest with index `k`.** "
   ]
  },
  {
   "cell_type": "code",
   "execution_count": null,
   "metadata": {
    "ExecuteTime": {
     "end_time": "2023-08-04T21:15:57.699358Z",
     "start_time": "2023-08-04T21:15:57.648260Z"
    }
   },
   "outputs": [],
   "source": [
    "# fig = plt.figure( figsize = (10, 6))\n",
    "# ax = fig.add_subplot(111)\n",
    "\n",
    "# zoom_factor = 8\n",
    "# k = 2\n",
    "# x = 3546\n",
    "# y = 2788\n",
    "# zoomed_image, x0, y0 = grayscale_zoom(plate_b, x, y, zoom_factor)\n",
    "\n",
    "\n",
    "# ax.imshow( zoomed_image, cmap = 'gray', vmin = 0, vmax = 255 )\n",
    "# ax.plot([zoom_factor*(x-x0)], [lzoom_factor*(y-y0)], 'ro');\n",
    "\n",
    "# # Update coordinates of corner k\n",
    "# #\n",
    "# points_interest[k] = [x, y]\n",
    "# print(points_interest)"
   ]
  },
  {
   "cell_type": "markdown",
   "metadata": {},
   "source": [
    "## Correct perspective\n",
    "\n",
    "We specify the desired coordinates for the corners of the blue screen in such a way that its size and location are approximately preserved.\n",
    "\n",
    "In order to accomplish this, we **maintain the coordinates of the first corner** and pick the **coordinates of the opposite corner using the largest values of the coordinates from the other corners**.\n",
    "\n",
    "We then use the original and desired corner coordinates to define a matrix transformation using `transform.estimate_transform`.\n",
    "\n",
    "Finally, use apply `transform.warp` to correct the perspective of the image. \n"
   ]
  },
  {
   "cell_type": "code",
   "execution_count": null,
   "metadata": {},
   "outputs": [],
   "source": [
    "need_for_warp_correction = False\n",
    "\n",
    "if not need_for_warp_correction:\n",
    "    plate_warp = plate_b\n",
    "    color_plate_warp = plate[:,:,:3]\n",
    "\n",
    "else:\n",
    "    print(points_interest)\n",
    "    transformed_points = [[0,0], [1000, 0], [1000, 450], [0, 450]]\n",
    "    print(transformed_points)\n",
    "    \n",
    "    tform = estimate_transform( 'projective', np.array(points_interest), \n",
    "                                np.array(transformed_points) )\n",
    "    \n",
    "    \n",
    "    plate_warp = (255 * warp(plate_b, tform.inverse)).astype( np.uint8 )\n",
    "    color_plate_warp = warp(plate[:,:,:3], tform.inverse)    "
   ]
  },
  {
   "cell_type": "code",
   "execution_count": null,
   "metadata": {
    "ExecuteTime": {
     "end_time": "2023-08-11T16:55:40.273601Z",
     "start_time": "2023-08-11T16:55:40.073586Z"
    }
   },
   "outputs": [],
   "source": [
    "fig = plt.figure(figsize = (12, 12))\n",
    "\n",
    "ax1 = fig.add_subplot(121)\n",
    "ax1.imshow(plate)\n",
    "\n",
    "for point in points_interest:\n",
    "    ax1.add_patch(Circle(point, 10, facecolor = 'r'))\n",
    "\n",
    "ax2 = fig.add_subplot(122)\n",
    "ax2.imshow( plate_warp, cmap = 'gray', vmin = 0, vmax = 255 )\n",
    "for point in transformed_points:\n",
    "    ax2.add_patch(Circle(point, 10, facecolor = 'r'));"
   ]
  },
  {
   "cell_type": "markdown",
   "metadata": {},
   "source": [
    "**Looking good!!!**"
   ]
  },
  {
   "cell_type": "code",
   "execution_count": null,
   "metadata": {
    "ExecuteTime": {
     "end_time": "2023-08-11T16:56:54.295230Z",
     "start_time": "2023-08-11T16:56:54.118829Z"
    }
   },
   "outputs": [],
   "source": [
    "plate_corrected = plate_warp\n",
    "color_plate_corrected = color_plate_warp\n",
    "\n",
    "fig = plt.figure( figsize = (12, 10) )\n",
    "plt.imshow( plate_corrected, cmap = 'gray', vmin = 0, vmax = 255 );"
   ]
  },
  {
   "cell_type": "markdown",
   "metadata": {},
   "source": [
    "## Clean up"
   ]
  },
  {
   "cell_type": "code",
   "execution_count": null,
   "metadata": {
    "ExecuteTime": {
     "end_time": "2023-08-11T16:57:24.793994Z",
     "start_time": "2023-08-11T16:57:24.745767Z"
    }
   },
   "outputs": [],
   "source": [
    "del plate_warp\n",
    "del color_plate_warp"
   ]
  },
  {
   "cell_type": "code",
   "execution_count": null,
   "metadata": {
    "ExecuteTime": {
     "end_time": "2023-08-11T16:57:26.408322Z",
     "start_time": "2023-08-11T16:57:26.366650Z"
    }
   },
   "outputs": [],
   "source": [
    "print( color_plate_corrected.dtype, plate_corrected.dtype )\n",
    "\n",
    "color_plate_corrected = (255 * color_plate_corrected).astype( np.uint8 )\n",
    "\n",
    "print( color_plate_corrected.dtype, plate_corrected.dtype )"
   ]
  },
  {
   "cell_type": "markdown",
   "metadata": {},
   "source": [
    "# Extract boxes with data\n",
    "\n",
    "The figure we processing has one graph box. \n",
    "\n",
    "The graph has a grid, but we will use Gaussian filters to remove it so that we are left with the graph box. \n",
    "\n",
    "We then identify its contour based on side.\n"
   ]
  },
  {
   "cell_type": "markdown",
   "metadata": {},
   "source": [
    "## Remove grid lines from graph boxes\n"
   ]
  },
  {
   "cell_type": "code",
   "execution_count": null,
   "metadata": {
    "ExecuteTime": {
     "end_time": "2023-08-11T17:01:17.541658Z",
     "start_time": "2023-08-11T17:01:17.258983Z"
    }
   },
   "outputs": [],
   "source": [
    "zoom_factor = 2\n",
    "x = 200\n",
    "y = 400\n",
    "\n",
    "fig = plt.figure(figsize = (10, 4))\n",
    "ax1 = fig.add_subplot(121)\n",
    "\n",
    "grayscale_zoom( ax1, plate_corrected, x, y, zoom_factor )\n",
    "\n",
    "ax2 = fig.add_subplot(122)\n",
    "\n",
    "sigma = 3\n",
    "img2 = gaussian( plate_corrected, sigma = (sigma, sigma), \n",
    "                 truncate = 3.5, preserve_range = True )\n",
    "\n",
    "plate_for_boxes = img2 > threshold_otsu(img2)\n",
    "print(f\"The array plate_for_boxes is of type {plate_for_boxes.dtype}.\\n\")\n",
    "\n",
    "grayscale_zoom( ax2, plate_for_boxes, x, y, zoom_factor )\n",
    "\n",
    "plt.tight_layout()\n"
   ]
  },
  {
   "cell_type": "code",
   "execution_count": null,
   "metadata": {
    "ExecuteTime": {
     "end_time": "2023-08-11T17:02:46.280018Z",
     "start_time": "2023-08-11T17:02:46.137047Z"
    }
   },
   "outputs": [],
   "source": [
    "fig = plt.figure( figsize = (12, 10) )\n",
    "plt.imshow(plate_for_boxes, cmap = 'gray');"
   ]
  },
  {
   "cell_type": "markdown",
   "metadata": {},
   "source": [
    "Pretty cool, don't you think?\n",
    "\n",
    "## Contours\n",
    "\n",
    "We can now identify contours and eliminate all that are small.\n"
   ]
  },
  {
   "cell_type": "code",
   "execution_count": null,
   "metadata": {
    "ExecuteTime": {
     "end_time": "2023-08-11T17:03:00.651264Z",
     "start_time": "2023-08-11T17:03:00.598440Z"
    }
   },
   "outputs": [],
   "source": [
    "contours = find_contours(plate_for_boxes)\n",
    "print(f\"The algorithm found {len(contours)} contours.\\n\")\n",
    "\n",
    "for j in range(len(contours)-1, -1, -1):\n",
    "    if len(contours[j]) < 3000:\n",
    "        contours.pop(j)\n",
    "\n",
    "print(f\"There are {len(contours)} good contours.\\n\" )\n"
   ]
  },
  {
   "cell_type": "code",
   "execution_count": null,
   "metadata": {
    "ExecuteTime": {
     "end_time": "2023-08-11T17:03:07.406047Z",
     "start_time": "2023-08-11T17:03:07.263191Z"
    }
   },
   "outputs": [],
   "source": [
    "fig = plt.figure( figsize = (12, 10) )\n",
    "ax = fig.add_subplot(111)\n",
    "\n",
    "ax.imshow(plate_for_boxes, cmap = 'gray')\n",
    "\n",
    "# Find coordinates of corners of boxes\n",
    "#\n",
    "box_max = []\n",
    "box_min = []\n",
    "for n, contour in enumerate(contours):\n",
    "    ax.plot(contour[:, 1], contour[:, 0], linewidth = 2)\n",
    "    box_max.append( np.max(contour, axis = 0) )\n",
    "    box_min.append( np.min(contour, axis = 0) )\n",
    "    \n",
    "del contours"
   ]
  },
  {
   "cell_type": "markdown",
   "metadata": {},
   "source": [
    "We now store the sections of the image with the graph box and with the corresponding text."
   ]
  },
  {
   "cell_type": "code",
   "execution_count": null,
   "metadata": {
    "ExecuteTime": {
     "end_time": "2023-08-11T17:06:17.975922Z",
     "start_time": "2023-08-11T17:06:17.935416Z"
    }
   },
   "outputs": [],
   "source": [
    "graph_box = color_plate_corrected[int(box_min[0][0]):int(box_max[0][0]), \n",
    "                                  int(box_min[0][1]):int(box_max[0][1]), :]\n",
    "\n",
    "text_box = plate_corrected[int(box_min[0][0]):int(box_max[0][0])+50, \n",
    "                           :int(box_min[0][1])]\n",
    "\n",
    "print(f\"The array in graph_box is of type {graph_box.dtype}.\\n\")\n",
    "print(f\"The array in text_box is of type {text_box.dtype}.\\n\")"
   ]
  },
  {
   "cell_type": "code",
   "execution_count": null,
   "metadata": {
    "ExecuteTime": {
     "end_time": "2023-08-11T17:06:34.084772Z",
     "start_time": "2023-08-11T17:06:34.040330Z"
    }
   },
   "outputs": [],
   "source": [
    "del plate_for_boxes\n",
    "del plate_corrected\n",
    "del color_plate_corrected"
   ]
  },
  {
   "cell_type": "code",
   "execution_count": null,
   "metadata": {
    "ExecuteTime": {
     "end_time": "2023-08-11T17:08:24.979180Z",
     "start_time": "2023-08-11T17:08:24.784630Z"
    }
   },
   "outputs": [],
   "source": [
    "fig = plt.figure( figsize = (10, 10) )\n",
    "gs = fig.add_gridspec(1, 5)\n",
    "ax = []\n",
    "\n",
    "ax.append( fig.add_subplot( gs[0, 0] ) )\n",
    "ax[-1].imshow( text_box, cmap = 'gray', vmin = 0, vmax = 255 )\n",
    "    \n",
    "ax.append( fig.add_subplot( gs[0, 1:] ) )\n",
    "ax[-1].imshow( graph_box )\n",
    "\n",
    "plt.tight_layout()\n"
   ]
  },
  {
   "cell_type": "markdown",
   "metadata": {},
   "source": [
    "## Save graph box"
   ]
  },
  {
   "cell_type": "code",
   "execution_count": null,
   "metadata": {},
   "outputs": [],
   "source": [
    "display_all_channels(graph_box)"
   ]
  },
  {
   "cell_type": "code",
   "execution_count": null,
   "metadata": {},
   "outputs": [],
   "source": [
    "imshow(text_box, cmap = 'gray');"
   ]
  },
  {
   "cell_type": "code",
   "execution_count": null,
   "metadata": {
    "ExecuteTime": {
     "end_time": "2023-08-11T17:09:07.842300Z",
     "start_time": "2023-08-11T17:09:07.771374Z"
    }
   },
   "outputs": [],
   "source": [
    "imsave( results_folder / 'graph_box_very_noisy.png', graph_box )\n",
    "imsave( results_folder / 'text_box_very_noisy.png', text_box )"
   ]
  },
  {
   "cell_type": "markdown",
   "metadata": {},
   "source": [
    "# Next lesson\n",
    "\n",
    "[click here](nb_05_Text_and_data_in_images.ipynb)"
   ]
  }
 ],
 "metadata": {
  "anaconda-cloud": {},
  "kernelspec": {
   "display_name": "Python [conda env:base]",
   "language": "python",
   "name": "conda-base-py"
  },
  "language_info": {
   "codemirror_mode": {
    "name": "ipython",
    "version": 3
   },
   "file_extension": ".py",
   "mimetype": "text/x-python",
   "name": "python",
   "nbconvert_exporter": "python",
   "pygments_lexer": "ipython3",
   "version": "3.12.4"
  },
  "toc": {
   "base_numbering": 1,
   "nav_menu": {},
   "number_sections": true,
   "sideBar": true,
   "skip_h1_title": false,
   "title_cell": "Table of Contents",
   "title_sidebar": "Contents",
   "toc_cell": false,
   "toc_position": {
    "height": "calc(100% - 180px)",
    "left": "10px",
    "top": "150px",
    "width": "204.567px"
   },
   "toc_section_display": true,
   "toc_window_display": true
  },
  "varInspector": {
   "cols": {
    "lenName": 16,
    "lenType": 16,
    "lenVar": 40
   },
   "kernels_config": {
    "python": {
     "delete_cmd_postfix": "",
     "delete_cmd_prefix": "del ",
     "library": "var_list.py",
     "varRefreshCmd": "print(var_dic_list())"
    },
    "r": {
     "delete_cmd_postfix": ") ",
     "delete_cmd_prefix": "rm(",
     "library": "var_list.r",
     "varRefreshCmd": "cat(var_dic_list()) "
    }
   },
   "types_to_exclude": [
    "module",
    "function",
    "builtin_function_or_method",
    "instance",
    "_Feature"
   ],
   "window_display": false
  }
 },
 "nbformat": 4,
 "nbformat_minor": 4
}
