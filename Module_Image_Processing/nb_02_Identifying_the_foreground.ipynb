{
 "cells": [
  {
   "cell_type": "markdown",
   "metadata": {},
   "source": [
    "# Synopsis\n",
    "\n",
    "So far we've covered the basics of what constitutes an image, color is encoded, and how we can manipulate it. However, when you conduct research the tasks you need to perform are typically more complex (although they always seem easy to do before you start coding!). Some examples of common tasks are:\n",
    "\n",
    "* Automatically identify regions\n",
    "* Identify the borders of said regions\n",
    "* Find bright spots/blobs\n",
    "* Skeletonize shapes (i.e. find the backbone)\n",
    "\n",
    "We'll go over some basic methods to do some of these methods using [`scikit-image`](https://scikit-image.org/). The  package is a sister to the `scikit-learn` package, both of these packages are focused on implementing machine-learning methods in Python but `scikit-image`, as you probably guessed, is geared towards algorithms that can be applied to images. \n",
    "\n",
    "`scikit-image` functions are stored in the library `skimage`.\n",
    "\n",
    "## Authors\n",
    "\n",
    "> Helio Tejedor \n",
    ">\n",
    "> Luis Amaral\n",
    "\n",
    "\n",
    "## Words to remember\n",
    "\n",
    "**Background**\n",
    "\n",
    "**Foreground**\n",
    "\n",
    "**Contours**\n",
    "\n",
    "**Otsu's algorithm**"
   ]
  },
  {
   "cell_type": "markdown",
   "metadata": {},
   "source": [
    "# Read libraries"
   ]
  },
  {
   "cell_type": "code",
   "execution_count": null,
   "metadata": {
    "ExecuteTime": {
     "end_time": "2023-08-04T20:56:27.285584Z",
     "start_time": "2023-08-04T20:56:26.612891Z"
    }
   },
   "outputs": [],
   "source": [
    "%load_ext autoreload\n",
    "%autoreload 2\n",
    "%matplotlib inline\n",
    "\n",
    "from colorama import Back, Fore, Style\n",
    "from copy import copy, deepcopy\n",
    "from pathlib import Path\n",
    "from sys import path\n",
    "\n",
    "path.append( str(Path.cwd().parent) )"
   ]
  },
  {
   "cell_type": "code",
   "execution_count": null,
   "metadata": {
    "ExecuteTime": {
     "end_time": "2023-08-04T20:56:34.072362Z",
     "start_time": "2023-08-04T20:56:27.314870Z"
    }
   },
   "outputs": [],
   "source": [
    "import os\n",
    "\n",
    "import matplotlib as mpl\n",
    "import matplotlib.pyplot as plt\n",
    "import matplotlib.cm as cm\n",
    "import numpy as np\n",
    "\n",
    "from pylab import imread, imshow\n",
    "from skimage import data, img_as_ubyte, measure, transform\n",
    "from skimage.filters import rank, threshold_otsu\n",
    "from skimage.morphology import disk \n",
    "\n",
    "from Amaral_libraries.my_stats import half_frame, place_commas\n",
    "from Amaral_libraries.my_image_library import grayscale_zoom"
   ]
  },
  {
   "cell_type": "code",
   "execution_count": null,
   "metadata": {
    "ExecuteTime": {
     "end_time": "2023-08-04T20:56:35.798739Z",
     "start_time": "2023-08-04T20:56:35.762478Z"
    }
   },
   "outputs": [],
   "source": [
    "my_fontsize = 15"
   ]
  },
  {
   "cell_type": "markdown",
   "metadata": {},
   "source": [
    "# Foreground and background\n",
    "\n",
    "In many situations we want to identify some specific regions in an image:  \n",
    "\n",
    "* Identifying the borders of cells in a microscope image\n",
    "* Finding animals, or faces, or  some other 'thing' in an photograph\n",
    "\n",
    "In those contexts, we are trying to separate foreground from background, and the boundaries between the two. This can be achieved by identifying the background (if uninteresting) or finding the contours of objects in the image. \n",
    "\n",
    "We will work through some of those tasks in this notebook using some algorithms implemented in `scikit-image`.\n",
    "\n",
    "We will make use of some data examples provided with `scikit-image`.  We first will consider a photograph of some Greek coins found at Pompeii."
   ]
  },
  {
   "cell_type": "code",
   "execution_count": null,
   "metadata": {
    "ExecuteTime": {
     "end_time": "2023-02-12T22:03:03.801682Z",
     "start_time": "2023-02-12T22:03:02.676422Z"
    }
   },
   "outputs": [],
   "source": [
    "coins_original = img_as_ubyte( data.coins() )\n",
    "\n",
    "print(Style.BRIGHT, 'Shape:', Style.RESET_ALL, coins_original.shape)\n",
    "print()\n",
    "\n",
    "intens_max = coins_original.max()\n",
    "intens_min = coins_original.min()\n",
    "print(f\" Maximum in image is {intens_max}, minimum is \"\n",
    "      f\"{intens_min}.\\n\")\n",
    "\n",
    "\n",
    "imshow(coins_original, cmap = 'gray', vmin = intens_min, vmax = intens_max);\n"
   ]
  },
  {
   "cell_type": "markdown",
   "metadata": {},
   "source": [
    "## Zooming in\n",
    "\n",
    "To help us with image processing it is often useful to be able to magnify parts of an image.  The function `grayscale_zoom` in `image_library` does exactly that.\n",
    "\n",
    "**As an exercise, create a similar function for magnifying portions of `RGB` images.**"
   ]
  },
  {
   "cell_type": "code",
   "execution_count": null,
   "metadata": {
    "ExecuteTime": {
     "end_time": "2023-02-12T22:03:08.177100Z",
     "start_time": "2023-02-12T22:03:08.135351Z"
    },
    "code_folding": [
     0
    ]
   },
   "outputs": [],
   "source": [
    "help(grayscale_zoom)"
   ]
  },
  {
   "cell_type": "code",
   "execution_count": null,
   "metadata": {
    "ExecuteTime": {
     "end_time": "2023-02-12T22:03:14.470021Z",
     "start_time": "2023-02-12T22:03:14.231697Z"
    }
   },
   "outputs": [],
   "source": [
    "# You can chance the values of these three parameters\n",
    "zoom_factor = 4\n",
    "x = 43\n",
    "y = 51\n",
    "\n",
    "zoomed_image, x0, y0 = grayscale_zoom(coins_original, x, y, zoom_factor)\n",
    "\n",
    "fig = plt.figure( figsize = (10, 6))\n",
    "ax = []\n",
    "\n",
    "ax.append(fig.add_subplot(121))\n",
    "ax[-1].imshow( coins_original[:150, :150], cmap = 'gray', \n",
    "               vmin = intens_min, vmax = intens_max )\n",
    "ax[-1].plot([x], [y], 'ro');\n",
    "\n",
    "ax.append(fig.add_subplot(122))\n",
    "\n",
    "ax[-1].imshow( zoomed_image, cmap = 'gray', \n",
    "              vmin = intens_min, vmax = intens_max )\n",
    "ax[-1].plot([zoom_factor * (x-x0)], [zoom_factor * (y-y0)], 'ro');\n",
    "\n",
    "plt.tight_layout()\n"
   ]
  },
  {
   "cell_type": "markdown",
   "metadata": {},
   "source": [
    "## Why it is important to set limits of intensity consistently\n",
    "\n",
    "If you do not set the limits of intensity in grayscale images, then the function `imshow` will automatically  use the maximum and minimum values in the image to scale intensities.  This means that a section of a larger image will look different from what it looks like in the actual image.\n",
    "\n",
    "As shown below..."
   ]
  },
  {
   "cell_type": "code",
   "execution_count": null,
   "metadata": {
    "ExecuteTime": {
     "end_time": "2023-02-12T22:03:19.097788Z",
     "start_time": "2023-02-12T22:03:18.865093Z"
    }
   },
   "outputs": [],
   "source": [
    "fig = plt.figure( figsize = (10, 6))\n",
    "ax = []\n",
    "\n",
    "ax.append(fig.add_subplot(121))\n",
    "ax[-1].imshow( zoomed_image, cmap = 'gray', \n",
    "               vmin = intens_min, vmax = intens_max )\n",
    "ax[-1].plot([zoom_factor * (x-x0)], [zoom_factor * (y-y0)], 'ro');\n",
    "ax[-1].text(100, -10, 'Original', fontsize = 1.3 * my_fontsize)\n",
    "\n",
    "ax.append(fig.add_subplot(122))\n",
    "ax[-1].imshow( zoomed_image, cmap = 'gray' )\n",
    "ax[-1].plot([zoom_factor * (x-x0)], [zoom_factor * (y-y0)], 'ro');\n",
    "ax[-1].text(100, -10, 'Re-scaled', fontsize = 1.3 * my_fontsize)\n",
    "\n",
    "plt.tight_layout()"
   ]
  },
  {
   "cell_type": "markdown",
   "metadata": {},
   "source": [
    "# Contours\n",
    "\n",
    "The `scikit-image` library includes a method, `find_contours`, that implements [marching squares algorithm](http://users.polytech.unice.fr/~lingrand/MarchingCubes/algo.html). The `find_countours()` function took two arguments from us: image array and a `level` parameter value. \n",
    "\n",
    "> Parameters\n",
    ">\n",
    "> ----------\n",
    ">\n",
    "> image : 2D ndarray of double\n",
    ">\n",
    ">    Input image in which to find contours.\n",
    ">\n",
    "> level : float, optional\n",
    " \n",
    "\n",
    "The `level` controls the pixel intensity around which the algorithm should attempt to find the contours $-$ it is our free parameter.  \n",
    "\n",
    "The default value for the threshold is \n",
    "\n",
    "> $ \\frac{ {\\rm max} ~{\\bf A} + {\\rm min}~{\\bf A}}{2} $,\n",
    "\n",
    "where **A** is the image array. \n",
    "\n",
    "The algorithm looks for pixels in the image array whose values transition from above to below the predefined `level`. In this manner, the image gets segmented between foreground (inside the contours) and background (outside the contours).  \n",
    "\n",
    "Contour pixels get organized into connected sets and the algorithm returns a list of arrays with the pixel coordinates of connected contour pixels.\n"
   ]
  },
  {
   "cell_type": "code",
   "execution_count": null,
   "metadata": {
    "ExecuteTime": {
     "end_time": "2023-02-12T22:03:30.236594Z",
     "start_time": "2023-02-12T22:03:30.161922Z"
    }
   },
   "outputs": [],
   "source": [
    "contours = measure.find_contours(coins_original)\n",
    "print(f\"The method .find_contours returns a {type(contours)}.\\n\"\n",
    "      f\"\\nEach contour is an array.\\n\")\n",
    "\n",
    "print(contours[0])\n",
    "\n",
    "\n",
    "print(f\"\\n\\n--> The algorithm found {len(contours)} contours. \"\n",
    "      f\"There are only 24 coins in the image.\\n\" )\n",
    "\n",
    "\n"
   ]
  },
  {
   "cell_type": "markdown",
   "metadata": {
    "ExecuteTime": {
     "end_time": "2022-07-25T15:43:23.666970Z",
     "start_time": "2022-07-25T15:43:23.631304Z"
    }
   },
   "source": [
    "That seems a bit much...  So let us see what this did... "
   ]
  },
  {
   "cell_type": "code",
   "execution_count": null,
   "metadata": {
    "ExecuteTime": {
     "end_time": "2023-02-12T22:03:34.690114Z",
     "start_time": "2023-02-12T22:03:34.072128Z"
    }
   },
   "outputs": [],
   "source": [
    "fig = plt.figure( figsize = (11, 10) )\n",
    "ax = fig.add_subplot(111)\n",
    "\n",
    "ax.imshow( coins_original, cmap = 'gray', \n",
    "           vmin = intens_min, vmax = intens_max )\n",
    "\n",
    "for n, contour in enumerate(contours):\n",
    "    ax.plot(contour[:, 1], contour[:, 0], linewidth=2)\n"
   ]
  },
  {
   "cell_type": "markdown",
   "metadata": {},
   "source": [
    "**Holy &%(^&!!!!**\n",
    "\n",
    "Yes, there are some good contours there but...\n",
    "\n",
    "If you look at the image attentively, it becomes clear that the background in the top left corner is brighter than in the bottom right corner.\n",
    "\n",
    "Moreover, no contours are found in the top left corner, whereas many absurd looking contours are found in the transition region between dark and light background. \n",
    "\n",
    "We accepted the default value for `level`. **Is there a better value?**\n",
    "\n",
    "**Let's explore!**"
   ]
  },
  {
   "cell_type": "code",
   "execution_count": null,
   "metadata": {
    "ExecuteTime": {
     "end_time": "2023-02-12T22:03:39.648219Z",
     "start_time": "2023-02-12T22:03:39.386002Z"
    }
   },
   "outputs": [],
   "source": [
    "#Try level from 50 to 200\n",
    "#\n",
    "level = 120\n",
    "minimum_contour_len = 40 \n",
    "\n",
    "fig = plt.figure( figsize = (11, 10) )\n",
    "ax = fig.add_subplot(111)\n",
    "\n",
    "ax.imshow( coins_original, cmap = 'gray', \n",
    "           vmin = intens_min, vmax = intens_max )\n",
    "\n",
    "contours = measure.find_contours(coins_original, level)\n",
    "for n, contour in enumerate(contours):\n",
    "    \n",
    "    # We exclude very short contours, which likely are just noise\n",
    "    #\n",
    "    if len(contour) > minimum_contour_len:\n",
    "        ax.plot(contour[:, 1], contour[:, 0], linewidth=2)"
   ]
  },
  {
   "cell_type": "markdown",
   "metadata": {},
   "source": [
    "\n",
    "Clearly, there is no good single value. The problem is that the background has different properties in different regions of the image $-$ compare background inside and outside the **very long contour**. \n",
    "\n",
    "So maybe the solution is to try to make the background uniform...\n",
    "\n",
    "But first we need to find out what the background properties are...\n",
    "\n",
    "\n",
    "# Identifying the background\n"
   ]
  },
  {
   "cell_type": "code",
   "execution_count": null,
   "metadata": {
    "ExecuteTime": {
     "end_time": "2023-02-12T22:03:44.313056Z",
     "start_time": "2023-02-12T22:03:44.132263Z"
    }
   },
   "outputs": [],
   "source": [
    "w, h = coins_original.shape\n",
    "intensities = coins_original.reshape((w*h, 1)) # Make it 1D for plotting\n",
    "\n",
    "print(f\"There are {place_commas(len(intensities[:,0]))} pixels in the image.\")\n",
    "print(f\"\\nTheir average intensity is {int(np.median(intensities))} \"\n",
    "      f\"(theoretical maximum is {intens_max}).\\n\")\n",
    "\n",
    "fig = plt.figure(figsize = (10, 4))\n",
    "ax = fig.add_subplot(111)\n",
    "\n",
    "half_frame(ax, 'Intensity', 'Frequency', font_size = my_fontsize)\n",
    "ax.hist(intensities, bins = np.arange(0, 255, 5), rwidth = 0.9)\n",
    "\n",
    "ax.vlines(np.median(intensities), 0, 6000, color = 'black', lw = 4)\n",
    "\n",
    "plt.tight_layout()"
   ]
  },
  {
   "cell_type": "markdown",
   "metadata": {},
   "source": [
    "**About 50% of image is background, so we could set all values below the median intensity to zero and see what that does to the image...**\n"
   ]
  },
  {
   "cell_type": "code",
   "execution_count": null,
   "metadata": {
    "ExecuteTime": {
     "end_time": "2023-02-12T22:03:48.150926Z",
     "start_time": "2023-02-12T22:03:47.911321Z"
    }
   },
   "outputs": [],
   "source": [
    "image_mask = coins_original > np.median(intensities)\n",
    "\n",
    "fig = plt.figure(figsize = (10, 4))\n",
    "ax = []\n",
    "\n",
    "ax.append( fig.add_subplot(121) )\n",
    "ax[-1].imshow( image_mask, cmap = 'gray' )\n",
    "\n",
    "ax.append( fig.add_subplot(122) )\n",
    "ax[-1].imshow( coins_original, cmap = 'gray', \n",
    "               vmin = intens_min, vmax = intens_max )\n",
    "\n",
    "plt.tight_layout()"
   ]
  },
  {
   "cell_type": "markdown",
   "metadata": {},
   "source": [
    "It is visually apparent that some of the background is brighter than the median intensity and that some pixels within the coins are darker."
   ]
  },
  {
   "cell_type": "code",
   "execution_count": null,
   "metadata": {
    "ExecuteTime": {
     "end_time": "2023-02-12T22:03:53.148825Z",
     "start_time": "2023-02-12T22:03:52.802129Z"
    }
   },
   "outputs": [],
   "source": [
    "print(Style.BRIGHT, f\"{'Original':>20} {'With mask':>35}\", Style.RESET_ALL)\n",
    "\n",
    "fig = plt.figure( figsize = (8, 8))\n",
    "ax = []\n",
    "\n",
    "ax.append(fig.add_subplot(221))\n",
    "zoomed_image, x0, y0 = grayscale_zoom(coins_original, 50, 50, 4)\n",
    "ax[-1].imshow( zoomed_image, cmap = 'gray', \n",
    "               vmin = intens_min, vmax = intens_max )\n",
    "\n",
    "ax.append(fig.add_subplot(222))\n",
    "zoomed_image, x0, y0 = grayscale_zoom(coins_original * image_mask, 50, 50, 4)\n",
    "ax[-1].imshow( zoomed_image, cmap = 'gray', \n",
    "               vmin = intens_min, vmax = intens_max )\n",
    "\n",
    "ax.append(fig.add_subplot(223))\n",
    "zoomed_image, x0, y0 = grayscale_zoom(coins_original, 200, 275, 4)\n",
    "ax[-1].imshow( zoomed_image, cmap = 'gray', \n",
    "               vmin = intens_min, vmax = intens_max )\n",
    "\n",
    "ax.append(fig.add_subplot(224))\n",
    "zoomed_image, x0, y0 = grayscale_zoom(coins_original * image_mask, 200, 275, 4)\n",
    "ax[-1].imshow( zoomed_image, cmap = 'gray', \n",
    "               vmin = intens_min, vmax = intens_max )\n",
    "\n",
    "plt.tight_layout()"
   ]
  },
  {
   "cell_type": "markdown",
   "metadata": {},
   "source": [
    "## Adaptive level for background selection.\n",
    "\n",
    "So, it is not great that some regions insider the foreground were set to zero or that the background in the top left corner remained unchanged.\n",
    "\n",
    "A solution to this issue is to set a threshold for the background that depends on the specific region of the image.\n",
    "\n",
    "[**Nobuyuki Otsu**](https://en.wikipedia.org/wiki/Nobuyuki_Otsu) proposed a more sophisticated algorithm for thresholding. His algorithm, [Otsu's methods](https://en.wikipedia.org/wiki/Otsu%27s_method), performs and optimization by exhaustively searching for the threshold $-$ a value between 0 and 1 $-$ that minimizes the intra-class variance, defined as a weighted sum of variances of foreground and background. You can see the nice animation of the algorithm in action on the *Wikipedia* page.\n"
   ]
  },
  {
   "cell_type": "code",
   "execution_count": null,
   "metadata": {
    "ExecuteTime": {
     "end_time": "2023-02-12T22:03:59.307641Z",
     "start_time": "2023-02-12T22:03:59.070703Z"
    }
   },
   "outputs": [],
   "source": [
    "otsu_value = threshold_otsu(coins_original)\n",
    "change = (otsu_value / np.median(intensities) - 1) * 100\n",
    "\n",
    "print(f\"Otsu's threshold is {otsu_value}. \"\n",
    "      f\"This is a {int(change)}% difference to the median.\\n\")\n",
    "\n",
    "\n",
    "otsu_binarized_im = coins_original > otsu_value\n",
    "\n",
    "fig = plt.figure( figsize = (10, 8))\n",
    "ax = []\n",
    "\n",
    "ax.append(fig.add_subplot(121))\n",
    "ax[-1].imshow( otsu_binarized_im, cmap = \"gray\" )\n",
    "\n",
    "ax.append(fig.add_subplot(122))\n",
    "ax[-1].imshow( coins_original, cmap = \"gray\", \n",
    "               vmin = intens_min, vmax = intens_max )\n",
    "\n",
    "plt.tight_layout()\n"
   ]
  },
  {
   "cell_type": "markdown",
   "metadata": {},
   "source": [
    "Clearly this approach improves the output, but cannot fully handle the lighting issues with our image.\n",
    "In the previous notebook, we used a local threshold, looking for the value of each\n",
    "segment of the image (it was cut in 4x4 rectangles).\n",
    "\n",
    "Now, we will do something more sophisticated and systematic.  We will define a circle around every pixel with some pre-determined radius, and find the local threshold within that circle. \n",
    "\n",
    "If we apply this procedure to every pixel, we will be using an local threshold which will be able to handle image lighting issues. Specifically, we will be convoluting the disk procedure with every pixel position in the image.\n",
    "\n",
    "For learning purposes, we will select a 70 x 70 image and set the circle radius to a number of different values.\n"
   ]
  },
  {
   "cell_type": "code",
   "execution_count": null,
   "metadata": {
    "ExecuteTime": {
     "end_time": "2023-02-12T22:04:08.254320Z",
     "start_time": "2023-02-12T22:04:07.509281Z"
    }
   },
   "outputs": [],
   "source": [
    "im_selection = coins_original[20:90, 10:80]\n",
    "\n",
    "fig = plt.figure( figsize = (10, 8))\n",
    "fig.text(0.12, 1., 'Original', fontsize = 1.3* my_fontsize)\n",
    "fig.text(0.36, 1., 'Vicinity', fontsize = 1.3* my_fontsize)\n",
    "fig.text(0.56, 1., 'Threshold', fontsize = 1.3* my_fontsize)\n",
    "fig.text(0.82, 1., 'Binarized', fontsize = 1.3* my_fontsize)\n",
    "\n",
    "# We explore the impact of changing the radius to understand how \n",
    "# things work!\n",
    "#\n",
    "for i, radius in enumerate( [8, 16, 32] ):\n",
    "    vicinity = disk(radius)\n",
    "\n",
    "    plt.subplot(3, 4, i*4 + 1)\n",
    "    plt.imshow( im_selection, cmap = \"gray\", \n",
    "                vmin = intens_min, vmax = intens_max )\n",
    "\n",
    "    plt.subplot(3, 4, i*4 + 2)\n",
    "    w, h = im_selection.shape\n",
    "    pretty_d_im = np.zeros(im_selection.shape)\n",
    "    pretty_d_im[(w//2 - radius):(w//2 + radius+1), \n",
    "                (h//2 - radius):(h//2 + radius+1)] = vicinity\n",
    "    plt.imshow( pretty_d_im, cmap=\"gray\" )\n",
    "    \n",
    "    # We do not set intensity limits in order to exagerate differences\n",
    "    # so they are more visible\n",
    "    #\n",
    "    plt.subplot(3, 4, i*4 + 3)\n",
    "    plt.imshow( rank.otsu(im_selection, vicinity), cmap = \"gray\", )\n",
    "#                 vmin = intens_min, vmax = intens_max )\n",
    "    \n",
    "    plt.subplot(3, 4, i*4 + 4)\n",
    "    local_threshold = rank.otsu(im_selection, vicinity)\n",
    "    local_binarized_im = im_selection > local_threshold\n",
    "    plt.imshow( local_binarized_im, cmap = \"gray\" )\n",
    "    \n",
    "plt.tight_layout()\n"
   ]
  },
  {
   "cell_type": "markdown",
   "metadata": {},
   "source": [
    "<br>\n",
    "\n",
    "It is visually apparent that this is working quite well for what appear to be scales that are on the order of the size of the features in the foreground.\n",
    "\n",
    "Let us look at what the contours can do for us now that we know how identify the background.\n",
    "\n",
    "\n",
    "\n",
    "# Contour length as a clue to relevance\n",
    "\n",
    "Considering the contours identified earlier, it is clearly that not all of them are similar. Some are very small and likely are identifying similar regions within the background or regions of the foreground. Others are very long and may be related to a background with changing properties."
   ]
  },
  {
   "cell_type": "code",
   "execution_count": null,
   "metadata": {
    "ExecuteTime": {
     "end_time": "2023-02-12T22:04:21.185417Z",
     "start_time": "2023-02-12T22:04:20.890420Z"
    }
   },
   "outputs": [],
   "source": [
    "radius = 32\n",
    "vicinity = disk(radius)\n",
    "\n",
    "local_threshold = rank.otsu( coins_original, vicinity )\n",
    "binarized_im = coins_original > local_threshold\n",
    "\n",
    "fig = plt.figure( figsize = (10, 8))\n",
    "ax = []\n",
    "\n",
    "ax.append(fig.add_subplot(121))\n",
    "ax[-1].imshow(binarized_im, cmap=\"gray\")\n",
    "\n",
    "ax.append(fig.add_subplot(122))\n",
    "ax[-1].imshow( coins_original, cmap=\"gray\", \n",
    "               vmin = intens_min, vmax = intens_max )\n",
    "\n",
    "plt.tight_layout()\n",
    "\n"
   ]
  },
  {
   "cell_type": "code",
   "execution_count": null,
   "metadata": {
    "ExecuteTime": {
     "end_time": "2023-02-12T22:04:28.592455Z",
     "start_time": "2023-02-12T22:04:28.341934Z"
    }
   },
   "outputs": [],
   "source": [
    "fig = plt.figure( figsize = (11, 10) )\n",
    "ax = fig.add_subplot(111)\n",
    "\n",
    "ax.imshow( coins_original, cmap = 'gray', \n",
    "           vmin = intens_min, vmax = intens_max )\n",
    "\n",
    "contours = measure.find_contours(binarized_im)\n",
    "\n",
    "clean_contours = []\n",
    "for n, contour in enumerate(contours):\n",
    "    \n",
    "    # We exclude very short contours, which likely are just noise\n",
    "    #\n",
    "    if len(contour) > 150 and len(contour) < 300:\n",
    "        ax.plot(contour[:, 1], contour[:, 0], linewidth=2)\n",
    "        clean_contours.append( contour )\n",
    "        \n",
    "print(f\"There are {len(clean_contours)} good contours in image.\")"
   ]
  },
  {
   "cell_type": "markdown",
   "metadata": {},
   "source": [
    "<br> \n",
    "\n",
    "Well, not fully. The second coin from the right on the top row is not great."
   ]
  },
  {
   "cell_type": "markdown",
   "metadata": {},
   "source": [
    "# Properties of foreground features\n",
    "\n",
    "Now that we have our contours, if we could retrieve the pixels inside each of the contours we could calculate some properties of the objects inside.\n",
    "\n",
    "Fortunately, there is a function that returns a mask array for points inside a polygon (or a contour):\n",
    "\n",
    "> `measure.grid_points_in_poly`( shape, verts )\n",
    "\n",
    "The documentation let us know that \n",
    "\n",
    "> Test whether points on a specified grid are inside a polygon.\n",
    ">\n",
    "> For each ``(r, c)`` coordinate on a grid, i.e. ``(0, 0)``, ``(0, 1)`` etc.,\n",
    "test whether that point lies inside a polygon.\n",
    ">\n",
    "> **Parameters**\n",
    ">\n",
    "> ----------\n",
    "> shape : tuple (M, N)\n",
    "> >\n",
    "> > Shape of the grid.\n",
    ">\n",
    "> verts : (V, 2) array\n",
    "> >\n",
    "> > Specify the V vertices of the polygon, sorted either clockwise\n",
    "    or anti-clockwise. The first point may (but does not need to be)\n",
    "    duplicated.\n",
    "\n"
   ]
  },
  {
   "cell_type": "code",
   "execution_count": null,
   "metadata": {
    "ExecuteTime": {
     "end_time": "2023-02-12T22:04:46.639726Z",
     "start_time": "2023-02-12T22:04:46.368578Z"
    }
   },
   "outputs": [],
   "source": [
    "# Choose a coin\n",
    "#\n",
    "#k, x, y = 0, 330, 45\n",
    "k, x, y = 1, 150, 50\n",
    " \n",
    "\n",
    "contour_mask = measure.grid_points_in_poly( coins_original.shape, \n",
    "                                            clean_contours[k] )\n",
    "\n",
    "masked_coin = coins_original * contour_mask\n",
    "zoomed_image, x0, y0 = grayscale_zoom( masked_coin, x, y, 4 )\n",
    "\n",
    "fig = plt.figure( figsize = (12, 6))\n",
    "ax = []\n",
    "\n",
    "ax.append( fig.add_subplot(121) )\n",
    "ax[-1].imshow( masked_coin, cmap = 'gray', \n",
    "               vmin = intens_min, vmax = intens_max )\n",
    "\n",
    "ax.append( fig.add_subplot(122) )\n",
    "ax[-1].imshow( zoomed_image, cmap = 'gray', \n",
    "               vmin = intens_min, vmax = intens_max )\n",
    "\n",
    "plt.tight_layout()"
   ]
  },
  {
   "cell_type": "markdown",
   "metadata": {},
   "source": [
    "By counting the number of values that are `True` in the mask, we can determine the area of our object.\n",
    "\n",
    "We can also extract the intensities of the image inside the contour and find their distribution.\n"
   ]
  },
  {
   "cell_type": "code",
   "execution_count": null,
   "metadata": {
    "ExecuteTime": {
     "end_time": "2023-02-12T22:04:53.664832Z",
     "start_time": "2023-02-12T22:04:53.356072Z"
    }
   },
   "outputs": [],
   "source": [
    "print(f\"The area inside contour {k} contains {contour_mask.sum()} pixels.\\n\" )\n",
    "\n",
    "w, h = masked_coin.shape\n",
    "intensities = masked_coin.reshape((w*h, 1))\n",
    "intensities = np.array( [x for x in intensities if x > 0] )\n",
    "\n",
    "fig = plt.figure(figsize = (12, 4))\n",
    "ax = fig.add_subplot(111)\n",
    "\n",
    "half_frame(ax, 'Intensity', 'Frequency', font_size = my_fontsize)\n",
    "ax.hist(intensities, bins = np.arange(0, 255, 5), rwidth = 0.9)\n",
    "ax.set_xlim(0, 255)\n",
    "\n",
    "ax.vlines(np.median(intensities), 0, 300, color = 'black', lw = 4)\n",
    "\n",
    "plt.tight_layout()"
   ]
  },
  {
   "cell_type": "markdown",
   "metadata": {},
   "source": [
    "## Properties of all the coins \n",
    "\n",
    "Now, you can go create a mask that covers all the coins at the same time.  Then repeat the analysis for the intensities of the coins in the image."
   ]
  },
  {
   "cell_type": "code",
   "execution_count": null,
   "metadata": {},
   "outputs": [],
   "source": []
  },
  {
   "cell_type": "code",
   "execution_count": null,
   "metadata": {},
   "outputs": [],
   "source": []
  },
  {
   "cell_type": "markdown",
   "metadata": {},
   "source": [
    "# Identifying cells in microscopy images\n",
    "\n",
    "\n",
    "Microscopy offers incredible windows into biological systems at the cellular and molecular level.  To experience this wonderful world, we will look at images of cells on plates from Cell Image Library.\n",
    "\n",
    "We will write code to identify the contour of the cells, and then measure how well our code performs."
   ]
  },
  {
   "cell_type": "code",
   "execution_count": null,
   "metadata": {
    "ExecuteTime": {
     "end_time": "2023-02-12T22:05:02.658229Z",
     "start_time": "2023-02-12T22:05:02.612196Z"
    }
   },
   "outputs": [],
   "source": [
    "cells_folder = Path.cwd() / 'Data' / 'Cell_images' / 'BBBC022_v1_images_20585w1'\n",
    "cell_images = list( cells_folder.glob('*') )\n",
    "print(f\"There are {len(cell_images)} images in folder.\")\n",
    "print()\n",
    "\n",
    "for i, file_path in enumerate( cell_images ):\n",
    "    print(f\"{i:>2} - ...{str(file_path)[146:]}\")"
   ]
  },
  {
   "cell_type": "code",
   "execution_count": null,
   "metadata": {
    "ExecuteTime": {
     "end_time": "2023-02-12T22:05:06.950481Z",
     "start_time": "2023-02-12T22:05:06.747922Z"
    }
   },
   "outputs": [],
   "source": [
    "k = 1\n",
    "plate = imread(cell_images[k])\n",
    "\n",
    "print(f\"Image with index {k} has shape {plate.shape}.\\n\\n\"\n",
    "      f\"Its maximum and minimum intensities are {plate.max()} \"\n",
    "      f\"and {plate.min()}, respectively.\\n\")\n",
    "\n",
    "plate_min = plate.min()\n",
    "delta = plate.max() - plate_min\n",
    "\n",
    "# Have to be very careful with operations with np arrays \n",
    "# involving several steps. Important to use parenthesis exhaustively. \n",
    "# \n",
    "plate_u = ( 255 * ((plate - plate_min) / delta) ).astype(np.uint8)\n",
    "\n",
    "print(f\"After re-scaling, maximum and minimum intensities are \"\n",
    "      f\"{plate_u.max()} and {plate_u.min()}, respectively.\")\n",
    "\n",
    "\n",
    "fig = plt.figure( figsize = (10, 10) )\n",
    "ax = []\n",
    "\n",
    "ax.append( fig.add_subplot(121) )\n",
    "ax[-1].imshow( plate[200:300,200:300], cmap = 'gray', \n",
    "               vmin = plate.min(), vmax = plate.max() )\n",
    "\n",
    "ax.append( fig.add_subplot(122) )\n",
    "ax[-1].imshow( plate_u[200:300,200:300], cmap = 'gray', \n",
    "               vmin = 0, vmax = 255 )\n",
    "\n",
    "plt.tight_layout()"
   ]
  },
  {
   "cell_type": "markdown",
   "metadata": {},
   "source": [
    "This image is actually nicer than the one with the coins.  The background appears to be much more uniform and more distinct from the foreground.\n",
    "\n",
    "## Function for calculating histogram of intensities\n",
    "\n",
    "Let's put the code that calculates the distribution of intensities in a picture into a function and use it to generate histograms for all cell plates.\n"
   ]
  },
  {
   "cell_type": "code",
   "execution_count": null,
   "metadata": {
    "ExecuteTime": {
     "end_time": "2023-01-16T23:40:35.058822Z",
     "start_time": "2023-01-16T23:40:34.921446Z"
    }
   },
   "outputs": [],
   "source": []
  },
  {
   "cell_type": "markdown",
   "metadata": {},
   "source": [
    "## Functions for identifying relevant contours\n",
    "\n",
    "Re-write some of the code above in order to identify the contours of the cells in the plates.  Does the code need to be different based on whether the background is uniform or not?"
   ]
  },
  {
   "cell_type": "code",
   "execution_count": null,
   "metadata": {},
   "outputs": [],
   "source": []
  },
  {
   "cell_type": "markdown",
   "metadata": {},
   "source": [
    "## Functions for calculating properties of the cells\n",
    "\n",
    "Write functions that generate a mask for the pixels within a contour.\n",
    "\n",
    "Write a function that calculates the total number of pixels within a contour.\n",
    "\n",
    "Write a function that calculates an histogram of the intensities within a contour and descriptive statistics of those values. \n"
   ]
  },
  {
   "cell_type": "code",
   "execution_count": null,
   "metadata": {},
   "outputs": [],
   "source": []
  },
  {
   "cell_type": "code",
   "execution_count": null,
   "metadata": {},
   "outputs": [],
   "source": []
  },
  {
   "cell_type": "code",
   "execution_count": null,
   "metadata": {},
   "outputs": [],
   "source": []
  },
  {
   "cell_type": "code",
   "execution_count": null,
   "metadata": {},
   "outputs": [],
   "source": []
  }
 ],
 "metadata": {
  "anaconda-cloud": {},
  "kernelspec": {
   "display_name": "Python [conda env:amarallab] *",
   "language": "python",
   "name": "conda-env-amarallab-py"
  },
  "language_info": {
   "codemirror_mode": {
    "name": "ipython",
    "version": 3
   },
   "file_extension": ".py",
   "mimetype": "text/x-python",
   "name": "python",
   "nbconvert_exporter": "python",
   "pygments_lexer": "ipython3",
   "version": "3.11.9"
  },
  "toc": {
   "base_numbering": 1,
   "nav_menu": {},
   "number_sections": true,
   "sideBar": true,
   "skip_h1_title": false,
   "title_cell": "Table of Contents",
   "title_sidebar": "Contents",
   "toc_cell": false,
   "toc_position": {
    "height": "calc(100% - 180px)",
    "left": "10px",
    "top": "150px",
    "width": "204.567px"
   },
   "toc_section_display": true,
   "toc_window_display": true
  },
  "varInspector": {
   "cols": {
    "lenName": 16,
    "lenType": 16,
    "lenVar": 40
   },
   "kernels_config": {
    "python": {
     "delete_cmd_postfix": "",
     "delete_cmd_prefix": "del ",
     "library": "var_list.py",
     "varRefreshCmd": "print(var_dic_list())"
    },
    "r": {
     "delete_cmd_postfix": ") ",
     "delete_cmd_prefix": "rm(",
     "library": "var_list.r",
     "varRefreshCmd": "cat(var_dic_list()) "
    }
   },
   "types_to_exclude": [
    "module",
    "function",
    "builtin_function_or_method",
    "instance",
    "_Feature"
   ],
   "window_display": false
  }
 },
 "nbformat": 4,
 "nbformat_minor": 4
}
