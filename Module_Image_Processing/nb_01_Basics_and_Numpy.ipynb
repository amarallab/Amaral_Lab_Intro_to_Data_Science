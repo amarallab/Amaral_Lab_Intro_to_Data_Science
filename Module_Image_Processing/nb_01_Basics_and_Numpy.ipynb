{
 "cells": [
  {
   "cell_type": "markdown",
   "metadata": {},
   "source": [
    "# Synopsis\n",
    "\n",
    "There is an extensive amount of data that is stored in images and is available for analysis. On the web, images are everywhere and being able to algorithmically filter them (say for a search engine or to identify infringement) is an essential task. Scientifically, many studies rely on visual images to ascertain the presence or absence of some behavior (remember, a video is really just a series of images in time!).\n",
    "\n",
    "To start we're going to work on:\n",
    "* The basics of what an image is\n",
    "* How to read an image into code\n",
    "* How to manipulate an image in Python\n",
    "\n"
   ]
  },
  {
   "cell_type": "markdown",
   "metadata": {},
   "source": [
    "# Read libraries"
   ]
  },
  {
   "cell_type": "code",
   "execution_count": null,
   "metadata": {
    "ExecuteTime": {
     "end_time": "2023-02-08T22:45:04.883574Z",
     "start_time": "2023-02-08T22:45:04.838185Z"
    }
   },
   "outputs": [],
   "source": [
    "%load_ext autoreload\n",
    "%autoreload 2\n",
    "%matplotlib inline\n",
    "\n",
    "from colorama import Back, Fore, Style\n",
    "from copy import copy, deepcopy\n",
    "from pathlib import Path\n",
    "from sys import path\n",
    "\n",
    "path.append( str(Path.cwd().parent) )\n"
   ]
  },
  {
   "cell_type": "code",
   "execution_count": null,
   "metadata": {
    "ExecuteTime": {
     "end_time": "2023-02-08T22:45:24.803308Z",
     "start_time": "2023-02-08T22:45:23.939526Z"
    }
   },
   "outputs": [],
   "source": [
    "import matplotlib as mpl\n",
    "import matplotlib.pyplot as plt\n",
    "import matplotlib.cm as cm\n",
    "import numpy as np\n",
    "\n",
    "from pylab import imread\n",
    "\n",
    "from Amaral_libraries.my_stats import half_frame"
   ]
  },
  {
   "cell_type": "code",
   "execution_count": null,
   "metadata": {
    "ExecuteTime": {
     "end_time": "2023-02-08T22:45:20.772701Z",
     "start_time": "2023-02-08T22:45:20.731425Z"
    }
   },
   "outputs": [],
   "source": [
    "my_fontsize = 15\n"
   ]
  },
  {
   "cell_type": "markdown",
   "metadata": {},
   "source": [
    "# Working with images\n",
    "\n",
    "Images are what made the Web.  Cats, dogs, porn.\n",
    "\n",
    "Naturally, programmers wanted to work with images. But images come in all sort of formats. Considering the strain of misogyny amongst many male programmers, you will not be surprised that a [classic image of a woman](https://en.wikipedia.org/wiki/Lenna) used in explaining image compression approaches is actually of an 'adult entertainment' model.\n",
    "\n",
    "The kind of inside joke that helped create a hostile environment for women in CS.\n",
    "\n",
    "Moving on, the package `pylab` has a function -- `imread()` -- that enables us to easily and reliably import images from a multitude of formats.\n",
    "\n",
    "We downloaded a bunch of Picasso paintings for you:\n"
   ]
  },
  {
   "cell_type": "code",
   "execution_count": null,
   "metadata": {
    "ExecuteTime": {
     "end_time": "2023-02-08T22:45:29.315258Z",
     "start_time": "2023-02-08T22:45:29.272220Z"
    }
   },
   "outputs": [],
   "source": [
    "picasso_folder = Path.cwd() / 'Data' / 'Picasso'\n",
    "\n",
    "for i, file in enumerate( picasso_folder.glob('*') ):\n",
    "    print(f\"{i:>3}--{str(file)[80:]}\")\n"
   ]
  },
  {
   "cell_type": "markdown",
   "metadata": {},
   "source": [
    "Let's select an example to play with"
   ]
  },
  {
   "cell_type": "code",
   "execution_count": null,
   "metadata": {
    "ExecuteTime": {
     "end_time": "2023-02-08T22:45:34.281930Z",
     "start_time": "2023-02-08T22:45:34.185849Z"
    }
   },
   "outputs": [],
   "source": [
    "self_portrait_07 = imread( picasso_folder / '1907-Self-Portrait.-13.jpg' )\n",
    "self_portrait_07"
   ]
  },
  {
   "cell_type": "markdown",
   "metadata": {},
   "source": [
    "## Images are ingested as `numpy` arrays !\n",
    "\n",
    "Cool, ha? \n",
    "\n",
    "An image is ingested as a multi-dimensional array.\n",
    "\n",
    "Can you see a lot of `numpy` in the near future?\n",
    "\n",
    "The `numpy` arrays have stereotypical shapes \n"
   ]
  },
  {
   "cell_type": "code",
   "execution_count": null,
   "metadata": {
    "ExecuteTime": {
     "end_time": "2023-02-08T22:45:39.518419Z",
     "start_time": "2023-02-08T22:45:39.467432Z"
    }
   },
   "outputs": [],
   "source": [
    "self_portrait_07.shape"
   ]
  },
  {
   "cell_type": "markdown",
   "metadata": {},
   "source": [
    "Two big numbers and a little one.\n",
    "\n",
    "The image is actually a rectangle of $n_x$ by $n_y$ pixels.  Because the image is in color, we then need three numbers -- does `RGB` right a bell? -- to define the pixel's color.\n",
    "\n",
    "\n",
    "Each pixel has three values: the Red value, the Green value, and the Blue value. \n",
    "\n",
    "You should be aware that there are several [color encoding schemes](https://en.wikipedia.org/wiki/List_of_color_spaces_and_their_uses) besides `RGB`. \n",
    "\n",
    "\n",
    "It is nice and reassuring to see that an image gets encoded in a manner comprehensible to us. However, it would definitely be nice to **see it** too.\n",
    "\n",
    "`Matplotlib` to the rescue"
   ]
  },
  {
   "cell_type": "code",
   "execution_count": null,
   "metadata": {
    "ExecuteTime": {
     "end_time": "2023-02-08T22:45:43.176581Z",
     "start_time": "2023-02-08T22:45:42.991518Z"
    }
   },
   "outputs": [],
   "source": [
    "plt.imshow(self_portrait_07);\n"
   ]
  },
  {
   "cell_type": "markdown",
   "metadata": {},
   "source": [
    "We wrote that the image is actually a rectangle of $n_x$ by $n_y$ pixels.\n",
    "\n",
    "And `self_portrait_07.shape` returned:\n",
    "\n",
    "> (766, 597, 3)\n",
    "\n",
    "So we can see that there are 766 rows and 597 columns.\n",
    "\n",
    "An interesting point to notice is that **the origin of the picture is in the top-left of the image and the y axis grows in the downward direction**. When the first cathode ray tubes were being developed, it was decided  $-$ arbitrarily? because of European writing convention? $-$ to start the rastering of the rows at the top and moving down, instead of starting from the bottom and moving up, as was the style in mathematical notation. Somehow that convention is petrified is image processing even though we no longer user electromagnetic fields to control electrons hitting a screen. \n"
   ]
  },
  {
   "cell_type": "markdown",
   "metadata": {},
   "source": [
    "## RGB\n",
    "\n",
    "[Wikipedia](https://en.wikipedia.org/wiki/RGB_color_model) tells us that:\n",
    "\n",
    ">The RGB color model is an additive color model in which red, green and blue light are added together in various ways to reproduce a broad array of colors. The name of the model comes from the initials of the three additive primary colors, red, green and blue.\n",
    "    \n",
    "So the question is, what scale is used for each color value? With `numpy` we can find that out easily"
   ]
  },
  {
   "cell_type": "code",
   "execution_count": null,
   "metadata": {
    "ExecuteTime": {
     "end_time": "2023-02-08T22:45:45.470679Z",
     "start_time": "2023-02-08T22:45:45.435547Z"
    }
   },
   "outputs": [],
   "source": [
    "self_portrait_07.max()"
   ]
  },
  {
   "cell_type": "code",
   "execution_count": null,
   "metadata": {
    "ExecuteTime": {
     "end_time": "2023-02-08T22:45:46.282534Z",
     "start_time": "2023-02-08T22:45:46.243307Z"
    }
   },
   "outputs": [],
   "source": [
    "self_portrait_07.min()"
   ]
  },
  {
   "cell_type": "markdown",
   "metadata": {},
   "source": [
    "So each of the color elements has a value from `0` to `255`, and the mixture of the R, G, and B values produces the final color.\n",
    "\n",
    "The color values are actually stored in that order in the matrix and we can easily check that by plotting."
   ]
  },
  {
   "cell_type": "code",
   "execution_count": null,
   "metadata": {
    "ExecuteTime": {
     "end_time": "2023-02-08T22:45:48.418220Z",
     "start_time": "2023-02-08T22:45:47.919818Z"
    },
    "scrolled": false
   },
   "outputs": [],
   "source": [
    "# Create figure and subplots\n",
    "fig = plt.figure( figsize = (15, 6)) \n",
    "ax = []\n",
    "\n",
    "# Select the color maps\n",
    "cmaps = [cm.Reds, cm.Greens, cm.Blues]\n",
    "labels = ['red', 'green', 'blue']\n",
    "\n",
    "# Print each color component separately\n",
    "for i in range(3):\n",
    "    ax.append(fig.add_subplot(1, 4, i+1))\n",
    "    ax[i].imshow(self_portrait_07[:,:,i], cmap=cmaps[i])\n",
    "\n",
    "# Print actual image\n",
    "ax.append( fig.add_subplot(1, 4, 4) )\n",
    "ax[3].imshow(self_portrait_07)\n",
    "\n",
    "plt.tight_layout()\n"
   ]
  },
  {
   "cell_type": "markdown",
   "metadata": {},
   "source": [
    "Some information that will help you make sense of the `RGB` color scheme.\n",
    "\n",
    "It is an **additive** scheme.  Adding the maximum value of every channel (i.e., primary color) yields **white**.  Conversely, adding the minimum value of every channel yields **black**.\n",
    "\n",
    "You can see this property at play in the shirt collar, which has very saturated (i.e., large) values in every channel. \n",
    "\n",
    "In contrast, the background has almost no blue in it, but has a saturated red in many parts."
   ]
  },
  {
   "cell_type": "markdown",
   "metadata": {},
   "source": [
    "## Creating our own images.\n",
    "\n",
    "Since you now understand `RGB` and how images are encoded, you can create your own `RGB` images. \n",
    "\n",
    "**Yes, it is AI again!**\n"
   ]
  },
  {
   "cell_type": "code",
   "execution_count": null,
   "metadata": {
    "ExecuteTime": {
     "end_time": "2023-02-08T22:46:18.394330Z",
     "start_time": "2023-02-08T22:46:18.288765Z"
    }
   },
   "outputs": [],
   "source": [
    "# Select your color by specifying rgb values\n",
    "#\n",
    "r, g, b = 122, 0, 0\n",
    "\n",
    "# Create a numpy array filled with INTEGER ones and the desired shape\n",
    "#\n",
    "color_patch = np.ones( dtype= 'int64',  shape = (20, 20, 3) ) \n",
    "\n",
    "# Set the desired values in each of the channels by \n",
    "# multiplying by rgb values\n",
    "#\n",
    "color_patch[:,:,0] *= r   # red\n",
    "color_patch[:,:,1] *= g   # green\n",
    "color_patch[:,:,2] *= b   # blue\n",
    "\n",
    "plt.imshow(color_patch);\n"
   ]
  },
  {
   "cell_type": "markdown",
   "metadata": {},
   "source": [
    "The best way to understand how these colors mix is to play a bit with it. \n",
    "\n",
    "You could use a [tool](http://www.colortools.net/color_mixer.html) online to get a basic sense or just play with the code above. "
   ]
  },
  {
   "cell_type": "markdown",
   "metadata": {},
   "source": [
    "## Slicing images\n",
    "\n",
    "You will notice as we work through the examples below that slicing, and indexing of `numpy` arrays looks very similar to how the `.iloc` approach works in `dataframes`.\n",
    "\n",
    "Indeed, we can slice an array on any dimension that we want. For example, if we wanted just 20 columns of data we could do that with one slice like so:"
   ]
  },
  {
   "cell_type": "code",
   "execution_count": null,
   "metadata": {
    "ExecuteTime": {
     "end_time": "2023-02-08T22:46:30.757608Z",
     "start_time": "2023-02-08T22:46:30.664035Z"
    }
   },
   "outputs": [],
   "source": [
    "print( self_portrait_07[:, :20, :].shape )\n",
    "\n",
    "plt.imshow(self_portrait_07[:, :20, :]);"
   ]
  },
  {
   "cell_type": "markdown",
   "metadata": {},
   "source": [
    "So we could easily plot only a portion of the image using the built-in slicing"
   ]
  },
  {
   "cell_type": "code",
   "execution_count": null,
   "metadata": {
    "ExecuteTime": {
     "end_time": "2023-02-08T22:46:32.103122Z",
     "start_time": "2023-02-08T22:46:31.988028Z"
    }
   },
   "outputs": [],
   "source": [
    "plt.imshow(self_portrait_07[500:, :200, :]);\n"
   ]
  },
  {
   "cell_type": "markdown",
   "metadata": {},
   "source": [
    "And we can change an entire channel easily. For example, imagine I want to remove the red channel from the image.\n",
    "\n",
    "**ALERT: To avoid overwriting the array, we must truly copy it!**\n",
    "\n",
    "`np.copy` is similar to `copy.deepcopy`"
   ]
  },
  {
   "cell_type": "code",
   "execution_count": null,
   "metadata": {
    "ExecuteTime": {
     "end_time": "2023-02-08T22:46:34.092294Z",
     "start_time": "2023-02-08T22:46:33.920291Z"
    }
   },
   "outputs": [],
   "source": [
    "# ALERT:\n",
    "# To avoid overwriting the array, we must truly copy it\n",
    "#\n",
    "self_portrait_wo_red = np.copy(self_portrait_07)\n",
    "\n",
    "self_portrait_wo_red[:, :, 0] = 0\n",
    "\n",
    "plt.imshow(self_portrait_wo_red);"
   ]
  },
  {
   "cell_type": "markdown",
   "metadata": {},
   "source": [
    "## Playing with slicing\n",
    "\n",
    "**Choose a painting and reverse the x axis on the image.**\n",
    "\n",
    "(Clue: Negative step)"
   ]
  },
  {
   "cell_type": "code",
   "execution_count": null,
   "metadata": {
    "ExecuteTime": {
     "end_time": "2022-07-25T19:13:12.467083Z",
     "start_time": "2022-07-25T19:13:12.443259Z"
    }
   },
   "outputs": [],
   "source": []
  },
  {
   "cell_type": "markdown",
   "metadata": {},
   "source": [
    "**Load the three musicians painting and cut out just the rightmost musician.**\n",
    "\n",
    "(Clue: A-slicing we go)"
   ]
  },
  {
   "cell_type": "code",
   "execution_count": null,
   "metadata": {
    "ExecuteTime": {
     "end_time": "2022-07-25T19:13:12.910632Z",
     "start_time": "2022-07-25T19:13:12.884525Z"
    }
   },
   "outputs": [],
   "source": [
    "\n"
   ]
  },
  {
   "cell_type": "markdown",
   "metadata": {},
   "source": [
    "**Choose a painting and switch the red and blue channels.**\n",
    "\n",
    "(Clue:  You need to make a real copy)"
   ]
  },
  {
   "cell_type": "code",
   "execution_count": null,
   "metadata": {
    "ExecuteTime": {
     "end_time": "2022-07-25T19:13:13.257549Z",
     "start_time": "2022-07-25T19:13:13.229218Z"
    }
   },
   "outputs": [],
   "source": []
  },
  {
   "cell_type": "markdown",
   "metadata": {},
   "source": [
    "**Choose an image and reduce its resolution by a factor of 4 (2 along each dimension).**\n",
    "\n",
    "(Clue: step in slice)"
   ]
  },
  {
   "cell_type": "code",
   "execution_count": null,
   "metadata": {
    "ExecuteTime": {
     "end_time": "2022-07-25T19:13:13.582426Z",
     "start_time": "2022-07-25T19:13:13.556773Z"
    }
   },
   "outputs": [],
   "source": []
  },
  {
   "cell_type": "markdown",
   "metadata": {},
   "source": [
    "# Array Methods"
   ]
  },
  {
   "cell_type": "markdown",
   "metadata": {},
   "source": [
    "## Column and row operations\n",
    "\n",
    "Many `numpy` functions -- especially those involving summary statistics -- allow you to specify if the operation should be performed on the rows or columns with the `axis` keyword.\n",
    "\n",
    "> axis = 0 <-- columns\n",
    "\n",
    "> axis = 1 <-- rows\n",
    "\n",
    "> axis = 2 <-- depth\n",
    "\n",
    "> ...\n",
    "\n",
    "You can name the other dimensions.\n"
   ]
  },
  {
   "cell_type": "code",
   "execution_count": null,
   "metadata": {
    "ExecuteTime": {
     "end_time": "2023-02-08T22:46:50.167955Z",
     "start_time": "2023-02-08T22:46:50.138526Z"
    }
   },
   "outputs": [],
   "source": [
    "my_array = np.array([[10., 10.], \n",
    "                     [20., 30.]])\n"
   ]
  },
  {
   "cell_type": "code",
   "execution_count": null,
   "metadata": {
    "ExecuteTime": {
     "end_time": "2023-02-08T22:46:50.686284Z",
     "start_time": "2023-02-08T22:46:50.653448Z"
    }
   },
   "outputs": [],
   "source": [
    "print(my_array)\n",
    "print()\n",
    "\n",
    "print(my_array.shape)\n",
    "print()\n"
   ]
  },
  {
   "cell_type": "code",
   "execution_count": null,
   "metadata": {
    "ExecuteTime": {
     "end_time": "2023-02-08T22:46:51.678351Z",
     "start_time": "2023-02-08T22:46:51.639144Z"
    }
   },
   "outputs": [],
   "source": [
    "print(my_array)\n",
    "print()\n",
    "\n",
    "print(f\"The mean of my_array with no axis specified is {my_array.mean()}\\n\")\n",
    "\n",
    "i = 1\n",
    "print(f\"The mean of my_array with axis {i} specified is {my_array.mean(axis = i)}\\n\")\n"
   ]
  },
  {
   "cell_type": "markdown",
   "metadata": {},
   "source": [
    "## Scanning the rows of an image\n",
    "\n",
    "Using these functions we can profile the usage of color throughout an image. \n",
    "\n",
    "One example would be, how does the color usage change as we scan through the rows of an image? This can be useful for numerically identifying different portions of an image that may be of interest. \n",
    "\n",
    "Let's use a painting from Picasso's blue period to see if there is any blue signal..."
   ]
  },
  {
   "cell_type": "code",
   "execution_count": null,
   "metadata": {
    "ExecuteTime": {
     "end_time": "2023-02-08T22:46:54.942768Z",
     "start_time": "2023-02-08T22:46:54.772531Z"
    }
   },
   "outputs": [],
   "source": [
    "old_guitarist_03 = imread(picasso_folder / '1903-The_Old_Guitarist.-7.jpg')\n",
    "print(old_guitarist_03.shape)\n",
    "\n",
    "plt.imshow(old_guitarist_03);"
   ]
  },
  {
   "cell_type": "markdown",
   "metadata": {},
   "source": [
    "And now let's plot the row average (or said another way, what is color usage as a function of the row)"
   ]
  },
  {
   "cell_type": "code",
   "execution_count": null,
   "metadata": {
    "ExecuteTime": {
     "end_time": "2023-02-08T22:46:57.063699Z",
     "start_time": "2023-02-08T22:46:56.901460Z"
    }
   },
   "outputs": [],
   "source": [
    "# Select color maps\n",
    "cmaps = [cm.Reds, cm.Greens, cm.Blues]\n",
    "labels = ['red', 'green', 'blue']\n",
    "\n",
    "# Create figure and subplots\n",
    "fig = plt.figure( figsize = (10, 4)) \n",
    "ax = fig.add_subplot(111)\n",
    "\n",
    "half_frame(ax, 'Row index', 'Mean intensity in row', font_size= my_fontsize)\n",
    "\n",
    "# Calculate means by row\n",
    "for i in range(len(labels)):\n",
    "    ax.plot( old_guitarist_03.mean(axis=1)[:, i], \n",
    "             color = labels[i], linewidth = 1.5 , \n",
    "             label = labels[i])\n",
    "    \n",
    "ax.legend(loc = 'best', frameon = False, fontsize = my_fontsize)    \n",
    "ax.set_ylim(0, 100)\n",
    "\n",
    "plt.tight_layout()\n",
    "\n"
   ]
  },
  {
   "cell_type": "markdown",
   "metadata": {},
   "source": [
    "Isn't that special? as the [Church Lady](https://www.youtube.com/watch?v=puwoUKhZQbg) would say. \n",
    "\n",
    "We have some data but it is difficult to match it to the image.  So let's work a little bit more on the visualization.\n",
    "\n",
    "Add the actual image, rotate the plot so it aligns with the rows, show the full possible range of the channel intensities, that sort of thing... \n"
   ]
  },
  {
   "cell_type": "code",
   "execution_count": null,
   "metadata": {
    "ExecuteTime": {
     "end_time": "2023-02-08T22:46:58.857144Z",
     "start_time": "2023-02-08T22:46:58.606848Z"
    }
   },
   "outputs": [],
   "source": [
    "# Create figure and subplots\n",
    "fig = plt.figure( figsize = (10, 4)) \n",
    "ax = []\n",
    "\n",
    "ax.append( fig.add_subplot(121) )\n",
    "ax[0].imshow(old_guitarist_03)\n",
    "\n",
    "ax.append( fig.add_subplot(122) )\n",
    "half_frame(ax[1], 'Mean intensity in row', '', font_size= 10)\n",
    "\n",
    "# Calculate means by row\n",
    "for i in range(len(labels)):\n",
    "    ax[1].plot( old_guitarist_03.mean(axis=1)[:, i], \n",
    "                range(0, -old_guitarist_03.shape[0], -1),\n",
    "                color = labels[i], linewidth = 1.5 , \n",
    "                label = labels[i])\n",
    "    \n",
    "ax[1].legend(loc = 'best', frameon = False, fontsize = my_fontsize)    \n",
    "ax[1].set_xlim(0, 255)\n",
    "ax[1].set_ylim(-702,0)\n",
    "ax[1].set_yticks(range(-700, 1, 100))\n",
    "ax[1].set_yticklabels(range(700, -1, -100))\n",
    "\n",
    "plt.tight_layout()\n"
   ]
  },
  {
   "cell_type": "markdown",
   "metadata": {},
   "source": [
    "Ok.\n",
    "\n",
    "So, we can confirm that the figure is quite dark -- notice how the maximum for every channel is below 100.\n",
    "\n",
    "Blue is the most intense channel in the top segment above the head. That may be a window or the view of the darkening sky.  \n",
    "\n",
    "Skin is painted in a greenish tone. So, green is the most intense channel in the rows showing the head and the right arm.\n",
    "\n",
    "On the other hand, the eye is attracted to the brightest regions of the image, and those do have blue overtones.  \n",
    "\n",
    "\n",
    "We could repeat this analysis but for axis 0 (i.e., columns instead of rows). And I recommend that you try it in order to figure out how to modify the visualization to best effect.\n",
    "\n",
    "However, the issue is that we do not look at paintings by rows or by columns, we look at them by **patches**.\n",
    "\n"
   ]
  },
  {
   "cell_type": "markdown",
   "metadata": {},
   "source": [
    "# Filtering image regions\n",
    "\n",
    "In order to move us toward the ability to analyze patches in an image, let's start by considering how to filter regions of the image that fulfill some criteria.\n",
    "\n",
    "For example, what if we are only interest in parts of an image where the blue channel's intensity exceeds 50?\n",
    "\n",
    "In order to do this, we will introduce the concept of masks.  Are you having `pandas` *deja vu*?"
   ]
  },
  {
   "cell_type": "code",
   "execution_count": null,
   "metadata": {
    "ExecuteTime": {
     "end_time": "2023-02-08T22:47:01.109109Z",
     "start_time": "2023-02-08T22:47:00.956746Z"
    }
   },
   "outputs": [],
   "source": [
    "woman_w_crow_04 = imread(picasso_folder / '1904-Woman_with_a_Crow.-4.jpg')\n",
    "\n",
    "plt.imshow(woman_w_crow_04);\n"
   ]
  },
  {
   "cell_type": "code",
   "execution_count": null,
   "metadata": {
    "ExecuteTime": {
     "end_time": "2023-02-08T22:47:02.198040Z",
     "start_time": "2023-02-08T22:47:01.916711Z"
    }
   },
   "outputs": [],
   "source": [
    "woman_w_crow_reds = woman_w_crow_04[:,:, 0]\n",
    "\n",
    "print(Fore.RED + Style.BRIGHT)\n",
    "print(\"--- Notice that this creates an actual copy of the slice! \" + \n",
    "      Style.RESET_ALL +\n",
    "      \"We can see this\\nbecause they have different memory addresses.\\n\")\n",
    "\n",
    "print(hex(id(woman_w_crow_reds)))\n",
    "print(hex(id(woman_w_crow_04[:,:, 0])))\n",
    "print(hex(id(woman_w_crow_04)))\n",
    "\n",
    "print(Fore.RED + Style.BRIGHT)\n",
    "print(\"--- Notice that, in the gray scale, low intensities \" +\n",
    "      \"(unsaturated red) are shown\\nas black and high intensities \" +\n",
    "      \"(saturated red) as white.\")\n",
    "print(Style.RESET_ALL)\n",
    "\n",
    "fig = plt.figure( figsize = (10, 6)) \n",
    "ax = []\n",
    "ax.append(fig.add_subplot(1, 2, 1))\n",
    "ax[0].imshow(woman_w_crow_reds, cmap = cm.Reds)\n",
    "\n",
    "ax.append(fig.add_subplot(1, 2, 2))\n",
    "ax[1].imshow(woman_w_crow_reds, cmap = 'gray')\n",
    "\n",
    "plt.tight_layout()"
   ]
  },
  {
   "cell_type": "markdown",
   "metadata": {},
   "source": [
    "\n",
    "\n",
    "Notice also, that slicing off the first layer has created an array with a different shape."
   ]
  },
  {
   "cell_type": "code",
   "execution_count": null,
   "metadata": {
    "ExecuteTime": {
     "end_time": "2023-02-08T22:47:06.882644Z",
     "start_time": "2023-02-08T22:47:06.835250Z"
    }
   },
   "outputs": [],
   "source": [
    "print(f\"{'Original shape:':>15} {woman_w_crow_04.shape}\")\n",
    "print(f\"{'New shape:':>15} {woman_w_crow_reds.shape}\")"
   ]
  },
  {
   "cell_type": "markdown",
   "metadata": {},
   "source": [
    "## Creating simple masks\n",
    "\n",
    "This new two dimensional array consists of many numbers between 0 and 255 (because the values in the original array were integers)."
   ]
  },
  {
   "cell_type": "code",
   "execution_count": null,
   "metadata": {
    "ExecuteTime": {
     "end_time": "2023-02-08T22:47:08.608956Z",
     "start_time": "2023-02-08T22:47:08.562866Z"
    }
   },
   "outputs": [],
   "source": [
    "woman_w_crow_reds"
   ]
  },
  {
   "cell_type": "markdown",
   "metadata": {},
   "source": [
    "To create a Boolean mask array, we just can just write down a logical expression as we did with `pandas`"
   ]
  },
  {
   "cell_type": "code",
   "execution_count": null,
   "metadata": {
    "ExecuteTime": {
     "end_time": "2023-02-08T22:47:10.011738Z",
     "start_time": "2023-02-08T22:47:09.972763Z"
    }
   },
   "outputs": [],
   "source": [
    "red_mask = woman_w_crow_reds > 100\n",
    "red_mask"
   ]
  },
  {
   "cell_type": "markdown",
   "metadata": {},
   "source": [
    "When plotting the mask, `False` will be seen as 0 (black in gray scale) and `True` as 1 (white in gray scale) ."
   ]
  },
  {
   "cell_type": "code",
   "execution_count": null,
   "metadata": {
    "ExecuteTime": {
     "end_time": "2023-02-08T22:47:11.597457Z",
     "start_time": "2023-02-08T22:47:11.257434Z"
    }
   },
   "outputs": [],
   "source": [
    "print('Type :', type(red_mask))\n",
    "print('dtype:', red_mask.dtype)\n",
    "print('Shape:', red_mask.shape)\n",
    "\n",
    "fig = plt.figure( figsize = (12, 6)) \n",
    "ax = []\n",
    "ax.append(fig.add_subplot(1, 3, 1))\n",
    "ax[-1].imshow(woman_w_crow_reds, cmap='gray')\n",
    "ax[-1].vlines([200, 400], 500, 600, color = 'red')\n",
    "ax[-1].hlines([500, 600], 200, 400, color = 'red')\n",
    "\n",
    "ax.append(fig.add_subplot(1, 3, 2))\n",
    "ax[-1].imshow(red_mask, cmap='gray')\n",
    "ax[-1].vlines([200, 400], 500, 600, color = 'red')\n",
    "ax[-1].hlines([500, 600], 200, 400, color = 'red')\n",
    "\n",
    "ax.append(fig.add_subplot(1, 3, 3))\n",
    "ax[-1].imshow(red_mask[500:600, 200:400], cmap='gray')\n",
    "\n",
    "plt.tight_layout()\n"
   ]
  },
  {
   "cell_type": "markdown",
   "metadata": {},
   "source": [
    ".\n",
    "\n",
    "\n",
    ".\n",
    "\n",
    "\n",
    "If we multiple the original image by the mask array, we can blackout anything that we want to ignore. \n",
    "\n"
   ]
  },
  {
   "cell_type": "code",
   "execution_count": null,
   "metadata": {
    "ExecuteTime": {
     "end_time": "2023-02-08T22:47:13.181916Z",
     "start_time": "2023-02-08T22:47:13.049975Z"
    }
   },
   "outputs": [],
   "source": [
    "plt.imshow(woman_w_crow_reds * red_mask, cmap = 'gray');"
   ]
  },
  {
   "cell_type": "code",
   "execution_count": null,
   "metadata": {
    "ExecuteTime": {
     "end_time": "2023-02-08T22:47:13.915574Z",
     "start_time": "2023-02-08T22:47:13.873558Z"
    }
   },
   "outputs": [],
   "source": [
    "image_red_mask = np.ones( shape = woman_w_crow_04.shape, dtype = 'int8' )\n",
    "\n",
    "image_red_mask[:,:,0] = red_mask\n",
    "image_red_mask[:,:,1] = red_mask\n",
    "image_red_mask[:,:,2] = red_mask"
   ]
  },
  {
   "cell_type": "code",
   "execution_count": null,
   "metadata": {
    "ExecuteTime": {
     "end_time": "2023-02-08T22:47:14.895098Z",
     "start_time": "2023-02-08T22:47:14.588848Z"
    }
   },
   "outputs": [],
   "source": [
    "fig = plt.figure( figsize = (9, 6)) \n",
    "ax = []\n",
    "\n",
    "ax.append(fig.add_subplot(1, 2, 1))\n",
    "ax[-1].imshow(woman_w_crow_04)\n",
    "\n",
    "ax.append(fig.add_subplot(1, 2, 2))\n",
    "ax[-1].imshow(woman_w_crow_04 * image_red_mask)\n",
    "\n",
    "plt.tight_layout()"
   ]
  },
  {
   "cell_type": "markdown",
   "metadata": {},
   "source": [
    "With these operations, **we set to black every single pixel for which the red channel's intensity is below 100.** \n",
    "\n"
   ]
  },
  {
   "cell_type": "markdown",
   "metadata": {},
   "source": [
    "## Creating complex masks\n",
    "\n",
    "We can string together multiple Boolean operations as we did with `Pandas` thus creating more complex masks. \n",
    "\n"
   ]
  },
  {
   "cell_type": "code",
   "execution_count": null,
   "metadata": {
    "ExecuteTime": {
     "end_time": "2023-02-08T22:47:17.065820Z",
     "start_time": "2023-02-08T22:47:16.903127Z"
    }
   },
   "outputs": [],
   "source": [
    "first_communion_1895 = imread(picasso_folder / '1895-First_Communion.-11.jpg')\n",
    "plt.imshow(first_communion_1895);\n"
   ]
  },
  {
   "cell_type": "markdown",
   "metadata": {},
   "source": [
    "Imagine we want focus on  all the white or nearly-white stuff in this painting.\n",
    "\n",
    "**A reasonable hypothesis is that the intensity in every channel must be greater than 200...**"
   ]
  },
  {
   "cell_type": "code",
   "execution_count": null,
   "metadata": {
    "ExecuteTime": {
     "end_time": "2023-02-08T22:47:18.790249Z",
     "start_time": "2023-02-08T22:47:18.457220Z"
    }
   },
   "outputs": [],
   "source": [
    "red_mask = first_communion_1895[:,:,0] > 200\n",
    "green_mask = first_communion_1895[:,:,1] > 200\n",
    "blue_mask = first_communion_1895[:,:,2] > 200\n",
    "\n",
    "combination_mask = red_mask & green_mask & blue_mask\n",
    "\n",
    "fig = plt.figure( figsize = (9, 6)) \n",
    "ax = []\n",
    "\n",
    "ax.append(fig.add_subplot(1, 3, 1))\n",
    "ax[-1].imshow( first_communion_1895 )\n",
    "\n",
    "ax.append(fig.add_subplot(1, 3, 2))\n",
    "ax[-1].imshow(combination_mask, cmap = 'gray')\n",
    "\n",
    "\n",
    "image_mask = np.ones( shape = first_communion_1895.shape, dtype = 'int8' )\n",
    "image_mask[:,:,0] = combination_mask\n",
    "image_mask[:,:,1] = combination_mask\n",
    "image_mask[:,:,2] = combination_mask\n",
    "\n",
    "ax.append(fig.add_subplot(1, 3, 3))\n",
    "ax[-1].imshow( first_communion_1895 * image_mask )\n",
    "\n",
    "plt.tight_layout()"
   ]
  },
  {
   "cell_type": "markdown",
   "metadata": {},
   "source": [
    "If you wanted to highlight anything with pure red, what would you?"
   ]
  },
  {
   "cell_type": "code",
   "execution_count": null,
   "metadata": {},
   "outputs": [],
   "source": []
  },
  {
   "cell_type": "code",
   "execution_count": null,
   "metadata": {},
   "outputs": [],
   "source": []
  },
  {
   "cell_type": "code",
   "execution_count": null,
   "metadata": {},
   "outputs": [],
   "source": []
  }
 ],
 "metadata": {
  "anaconda-cloud": {},
  "kernelspec": {
   "display_name": "base",
   "language": "python",
   "name": "base"
  },
  "language_info": {
   "codemirror_mode": {
    "name": "ipython",
    "version": 3
   },
   "file_extension": ".py",
   "mimetype": "text/x-python",
   "name": "python",
   "nbconvert_exporter": "python",
   "pygments_lexer": "ipython3",
   "version": "3.9.12"
  },
  "toc": {
   "base_numbering": 1,
   "nav_menu": {},
   "number_sections": true,
   "sideBar": true,
   "skip_h1_title": false,
   "title_cell": "Table of Contents",
   "title_sidebar": "Contents",
   "toc_cell": false,
   "toc_position": {
    "height": "calc(100% - 180px)",
    "left": "10px",
    "top": "150px",
    "width": "182.867px"
   },
   "toc_section_display": true,
   "toc_window_display": true
  },
  "varInspector": {
   "cols": {
    "lenName": 16,
    "lenType": 16,
    "lenVar": 40
   },
   "kernels_config": {
    "python": {
     "delete_cmd_postfix": "",
     "delete_cmd_prefix": "del ",
     "library": "var_list.py",
     "varRefreshCmd": "print(var_dic_list())"
    },
    "r": {
     "delete_cmd_postfix": ") ",
     "delete_cmd_prefix": "rm(",
     "library": "var_list.r",
     "varRefreshCmd": "cat(var_dic_list()) "
    }
   },
   "types_to_exclude": [
    "module",
    "function",
    "builtin_function_or_method",
    "instance",
    "_Feature"
   ],
   "window_display": false
  }
 },
 "nbformat": 4,
 "nbformat_minor": 1
}
