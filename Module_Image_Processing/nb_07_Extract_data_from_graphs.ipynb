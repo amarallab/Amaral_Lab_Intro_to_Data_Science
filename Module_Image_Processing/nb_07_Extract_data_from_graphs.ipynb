{
 "cells": [
  {
   "cell_type": "markdown",
   "metadata": {},
   "source": [
    "# Synopsis\n",
    "\n",
    "Extracting information from scanned files.\n",
    "\n",
    "# Words to remember\n",
    "\n",
    "**warping**\n",
    "\n",
    "**OCR**\n",
    "\n",
    "**denoising**\n",
    "\n",
    "**blurring**"
   ]
  },
  {
   "cell_type": "markdown",
   "metadata": {},
   "source": [
    "# Read libraries"
   ]
  },
  {
   "cell_type": "code",
   "execution_count": null,
   "metadata": {
    "ExecuteTime": {
     "end_time": "2023-08-16T16:12:26.469627Z",
     "start_time": "2023-08-16T16:12:24.421991Z"
    }
   },
   "outputs": [],
   "source": [
    "%load_ext autoreload\n",
    "%autoreload 2\n",
    "%matplotlib inline\n",
    "\n",
    "from colorama import Back, Fore, Style\n",
    "from copy import copy, deepcopy\n",
    "from pathlib import Path\n"
   ]
  },
  {
   "cell_type": "code",
   "execution_count": null,
   "metadata": {
    "ExecuteTime": {
     "end_time": "2023-08-16T16:30:55.089104Z",
     "start_time": "2023-08-16T16:30:55.034649Z"
    }
   },
   "outputs": [],
   "source": [
    "import matplotlib as mpl\n",
    "import matplotlib.pyplot as plt\n",
    "import matplotlib.cm as cm\n",
    "import numpy as np\n",
    "import pytesseract\n",
    "\n",
    "from matplotlib.gridspec import GridSpec\n",
    "from matplotlib.patches import Circle\n",
    "from pylab import imread, imshow\n",
    "from scipy.stats import linregress, mode, pearsonr\n",
    "from skimage import img_as_float, img_as_ubyte\n",
    "from skimage.color import rgb2gray\n",
    "from skimage.feature import match_template\n",
    "from skimage.filters import rank, threshold_otsu, gaussian\n",
    "from skimage.measure import find_contours\n",
    "from skimage.morphology import ( disk, binary_dilation, binary_erosion, \n",
    "                                 binary_closing, binary_opening, dilation, \n",
    "                                 remove_small_holes, remove_small_objects,\n",
    "                                 flood_fill, )\n",
    "\n",
    "from skimage.transform import estimate_transform, warp\n",
    "\n",
    "from module_libraries.my_stats import half_frame\n",
    "from module_libraries.image_lib import ( grayscale_zoom, \n",
    "                                         visualize_tesseract_results,\n",
    "                                         rescaling_from_OCR_results, \n",
    "                                         threshold_for_data_extraction,\n",
    "                                         cluster_infered_lines,\n",
    "                                         correct_column_heights,\n",
    "                                         rescaling_from_scan_results,\n",
    "                                         infer_grid_lines,\n",
    "                                         display_all_channels,\n",
    "                                         )\n",
    "\n",
    "my_fontsize = 15\n",
    "data_folder = Path.cwd() / 'Results/'"
   ]
  },
  {
   "cell_type": "markdown",
   "metadata": {},
   "source": [
    "# Load images\n",
    "\n",
    "We load all images but select a single one for further analysis.\n"
   ]
  },
  {
   "cell_type": "code",
   "execution_count": null,
   "metadata": {
    "ExecuteTime": {
     "end_time": "2023-08-16T16:13:00.620420Z",
     "start_time": "2023-08-16T16:13:00.577099Z"
    }
   },
   "outputs": [],
   "source": [
    "loaded_images = list( data_folder.glob('*') )\n",
    "print(f\"There are {len(loaded_images)} images in the folder.\")\n",
    "print()\n",
    "for i in range(len(loaded_images)):\n",
    "    print(f\"{i} - {loaded_images[i].parts[-1]}\")\n"
   ]
  },
  {
   "cell_type": "markdown",
   "metadata": {},
   "source": [
    "We will start by considering the image from the Mueller 2012 paper. The reason is that this is a clean image that is well aligned and in which the fonts are common and clear."
   ]
  },
  {
   "cell_type": "code",
   "execution_count": null,
   "metadata": {
    "ExecuteTime": {
     "end_time": "2023-08-16T16:13:22.735104Z",
     "start_time": "2023-08-16T16:13:22.648537Z"
    }
   },
   "outputs": [],
   "source": [
    "mueller_plate = imread(loaded_images[3])\n",
    "\n",
    "print( f\"Mueller 2012 image has shape {mueller_plate.shape}, and \"\n",
    "       f\"has dtype {mueller_plate.dtype}.\\n\" )"
   ]
  },
  {
   "cell_type": "markdown",
   "metadata": {},
   "source": [
    "# Mueller 2012 \n",
    "\n",
    "## Selecting the channel\n",
    "\n",
    "We will also want to work with a grayscale version of the image. Since this is already a grayscale image, any channel will work. "
   ]
  },
  {
   "cell_type": "code",
   "execution_count": null,
   "metadata": {
    "ExecuteTime": {
     "end_time": "2023-08-16T16:13:32.611502Z",
     "start_time": "2023-08-16T16:13:32.394387Z"
    }
   },
   "outputs": [],
   "source": [
    "fig = plt.figure( figsize = (8, 8) )\n",
    "plate = mueller_plate[:,:,1]\n",
    "plt.imshow( plate, cmap = 'gray' )\n",
    "\n",
    "plt.show()\n"
   ]
  },
  {
   "cell_type": "markdown",
   "metadata": {},
   "source": [
    "And the image is already in a good format."
   ]
  },
  {
   "cell_type": "markdown",
   "metadata": {},
   "source": [
    "## Extracting the text\n",
    "\n",
    "We will use Tessaract to extract the text."
   ]
  },
  {
   "cell_type": "code",
   "execution_count": null,
   "metadata": {
    "ExecuteTime": {
     "end_time": "2023-08-16T16:13:46.082908Z",
     "start_time": "2023-08-16T16:13:45.265337Z"
    }
   },
   "outputs": [],
   "source": [
    "results = pytesseract.image_to_data( plate, \n",
    "                                     output_type = pytesseract.Output.DICT )\n",
    "\n",
    "fig = plt.figure( figsize = (15, 10))\n",
    "\n",
    "visualize_tesseract_results(plate, results, fig)\n",
    "\n",
    "plt.show()"
   ]
  },
  {
   "cell_type": "markdown",
   "metadata": {},
   "source": [
    "As expected, **most of the text is extracted perfectly!**\n",
    "\n",
    "Let's check how the elements are stored in results so that we can encode them adequately digitally."
   ]
  },
  {
   "cell_type": "code",
   "execution_count": null,
   "metadata": {
    "ExecuteTime": {
     "end_time": "2023-08-16T16:15:57.629502Z",
     "start_time": "2023-08-16T16:15:57.581051Z"
    }
   },
   "outputs": [],
   "source": [
    "print( f\"Index\\t X \\t Y \\t W \\t H \\t conf \\t Test\" )\n",
    "print('-'*50)      \n",
    "      \n",
    "for i in range(len(results['text'])):\n",
    "    x = results['left'][i]\n",
    "    y = results['top'][i]\n",
    "    w = results['width'][i]\n",
    "    h = results['height'][i]\n",
    "    conf = results['conf'][i]\n",
    "    text = results['text'][i]\n",
    "    \n",
    "    if len(text) > 1:\n",
    "        print(f\"{i:>3}  \\t{x:>3}\\t{y:>3}\\t{w:>3}\\t{h:>3}\\t{conf:>4}%\\t- {text} -\")"
   ]
  },
  {
   "cell_type": "markdown",
   "metadata": {},
   "source": [
    "## Identifying fixed points for value calculation\n",
    "\n",
    "Below, we will try to locate the `x` and `y` coordinates of the data points.  However, we are not really after those coordinates, what we want is the values of the data.\n",
    "\n",
    "To this end, we will locate the coordinates of a couple of `x` (or `y`) values for  which we can determine the actual value. Then is just a matter of linear re-scaling.\n",
    "\n",
    "For the **left `y` axis**, the good values are where the text equals **100** and **600**. "
   ]
  },
  {
   "cell_type": "code",
   "execution_count": null,
   "metadata": {
    "ExecuteTime": {
     "end_time": "2023-08-16T16:16:35.434050Z",
     "start_time": "2023-08-16T16:16:35.384366Z"
    }
   },
   "outputs": [],
   "source": [
    "i1 = results['text'].index('100')\n",
    "i2 = results['text'].index('600')\n",
    "\n",
    "y1 = int( results['top'][i1] + results['height'][i1] / 2 )\n",
    "y2 = int( results['top'][i2] + results['height'][i2] / 2 )\n",
    "\n",
    "print(i1, y1)\n",
    "print(i2, y2)"
   ]
  },
  {
   "cell_type": "markdown",
   "metadata": {},
   "source": [
    "Good! Those values seem correct.\n",
    "\n",
    "For the **`x` axis**, the good values are where the text equals **1880** and **1950**. "
   ]
  },
  {
   "cell_type": "code",
   "execution_count": null,
   "metadata": {
    "ExecuteTime": {
     "end_time": "2023-08-16T16:16:38.985000Z",
     "start_time": "2023-08-16T16:16:38.939540Z"
    }
   },
   "outputs": [],
   "source": [
    "i1 = results['text'].index('1880')\n",
    "i2 = results['text'].index('1950')\n",
    "\n",
    "x1 = int( results['left'][i1] + results['width'][i1] / 2 )\n",
    "x2 = int( results['left'][i2] + results['width'][i2] / 2 )\n",
    "\n",
    "print(i1, x1)\n",
    "print(i2, x2)"
   ]
  },
  {
   "cell_type": "markdown",
   "metadata": {},
   "source": [
    "Good, those seem correct again!\n",
    "\n",
    "We can integrate this code into a simple re-scaling function for getting data values given `x` and `y` coordinates."
   ]
  },
  {
   "cell_type": "code",
   "execution_count": null,
   "metadata": {
    "ExecuteTime": {
     "end_time": "2023-08-16T16:16:42.071999Z",
     "start_time": "2023-08-16T16:16:42.023029Z"
    },
    "code_folding": [
     0
    ]
   },
   "outputs": [],
   "source": [
    "def rescaling_from_OCR_results( x, y, x_values, y_values, results):\n",
    "    \"\"\"\n",
    "    Calculate data values corresponding to coordinates x (or y) using\n",
    "    the coordinates in image of a pair of x values (or y values) and the \n",
    "    OCR box results returned by Tesseract.\n",
    "    \n",
    "    inputs:\n",
    "        x - int or np.array for x coordinate in image of data point(s)\n",
    "        y - int or np.array for x coordinate in image of data point(s)\n",
    "        x_values - values of two x-axis positions ( must have been found by\n",
    "                                                    Tesseract )\n",
    "        y_values - values of two y-axis positions ( must have been found by\n",
    "                                                    Tesseract )\n",
    "        results - Tesseract image_to_data output results\n",
    "        \n",
    "    returns:\n",
    "       tuple of int or np.array for x value of data point(s) and \n",
    "                int or np.array for y value of data point(s)\n",
    "    \"\"\"\n",
    "    # Values need to be sorted for the transformation to work \n",
    "    # in this form\n",
    "    #\n",
    "    x_values.sort()\n",
    "    y_values.sort()\n",
    "    \n",
    "    # Get x and y fixed points\n",
    "    #\n",
    "    i1 = results['text'].index(x_values[0])\n",
    "    i2 = results['text'].index(x_values[1])\n",
    "\n",
    "    x1 = int( results['left'][i1] + results['width'][i1] / 2 )\n",
    "    x2 = int( results['left'][i2] + results['width'][i2] / 2 )\n",
    "    \n",
    "    i1 = results['text'].index(y_values[0])\n",
    "    i2 = results['text'].index(y_values[1])\n",
    "\n",
    "    y1 = int( results['top'][i1] + results['height'][i1] / 2 )\n",
    "    y2 = int( results['top'][i2] + results['height'][i2] / 2 )\n",
    "    \n",
    "    # Define transformation\n",
    "    #\n",
    "    x_scale = (int(x_values[1]) - int(x_values[0])) / (x2 - x1)\n",
    "    y_scale = (int(y_values[1]) - int(y_values[0])) / (y2 - y1)\n",
    "    \n",
    "    x_base = int( x_values[1] )\n",
    "    y_base = int( y_values[1] )\n",
    "        \n",
    "    return ( x_base + (x - x2) * x_scale, \n",
    "             y_base + (y - y2) * y_scale )\n",
    "\n",
    "\n",
    "x_values = ['1880', '1950']\n",
    "y_values = ['100', '600']\n",
    "\n",
    "# These are just test values\n",
    "#\n",
    "x, y = 200, 590\n",
    "\n",
    "print( rescaling_from_OCR_results( x, y, x_values, y_values, results ) )"
   ]
  },
  {
   "cell_type": "markdown",
   "metadata": {},
   "source": [
    "## Matching data points\n",
    "\n",
    "### Using templates\n",
    "\n",
    "A possible approach involves matching every point in the image to a template.\n",
    "\n",
    "We must first extract the template by finding a array slice that contains the desired symbol. As an example, we will address the data shown using the empty circles.\n"
   ]
  },
  {
   "cell_type": "code",
   "execution_count": null,
   "metadata": {
    "ExecuteTime": {
     "end_time": "2023-08-16T16:16:46.628666Z",
     "start_time": "2023-08-16T16:16:46.524252Z"
    }
   },
   "outputs": [],
   "source": [
    "template = copy( plate[590:608,113:130] )\n",
    "\n",
    "plt.imshow(template, cmap = 'gray')\n",
    "\n",
    "plt.show()\n"
   ]
  },
  {
   "cell_type": "markdown",
   "metadata": {},
   "source": [
    "<br>\n",
    "\n",
    "**You can change the slice coordinates above for obtaining a template for the other symbols.**"
   ]
  },
  {
   "cell_type": "code",
   "execution_count": null,
   "metadata": {
    "ExecuteTime": {
     "end_time": "2023-08-16T16:18:33.334842Z",
     "start_time": "2023-08-16T16:18:33.128770Z"
    }
   },
   "outputs": [],
   "source": [
    "match_result = match_template(plate, template)\n",
    "print(f\"The best match has a coefficient of {match_result.max():.3f} \"\n",
    "      f\"(the maximum possible value is 1).\" )\n",
    "print(f\"The worst match has a coefficient of {match_result.min():.3f}. \")\n",
    "\n",
    "match_threshold = 0.81\n",
    "result_mask = match_result < match_threshold \n",
    "print(f\"The max of result_mask is {result_mask.max():.3f}.\")\n",
    "print(f\"The min of result_mask is {result_mask.min():.3f}.\")\n",
    "\n",
    "fig = plt.figure( figsize = (8, 8))\n",
    "plt.imshow(binary_erosion(result_mask, disk(5)), cmap = 'gray')\n",
    "\n",
    "plt.show()\n"
   ]
  },
  {
   "cell_type": "code",
   "execution_count": null,
   "metadata": {
    "ExecuteTime": {
     "end_time": "2023-08-16T16:19:24.802104Z",
     "start_time": "2023-08-16T16:19:24.692881Z"
    }
   },
   "outputs": [],
   "source": [
    "print(f\"The array with the matching coefficients has shape \"\n",
    "      f\"{match_result.shape}.\\n\")\n",
    "circles_x = []\n",
    "circles_y = []\n",
    "circles_match = []\n",
    "for i in range(match_result.shape[1]):\n",
    "    for j in range(match_result.shape[0]):\n",
    "        if match_result[j,i] > match_threshold:\n",
    "            circles_x.append(i)\n",
    "            circles_y.append(j)\n",
    "            circles_match.append(match_result[j,i])\n",
    "\n",
    "print(\"The coordinates of the points with matching coefficients greater \"\n",
    "      f\"than {match_threshold} are:\\n\")\n",
    "print(circles_x)\n",
    "print(circles_y)\n",
    "\n",
    "print(\"\\nThe matching coefficients are:\\n\")\n",
    "print(circles_match)"
   ]
  },
  {
   "cell_type": "markdown",
   "metadata": {},
   "source": [
    "<br>\n",
    "\n",
    "**With these coordinates in hand, we can now calculate all their actual values.**"
   ]
  },
  {
   "cell_type": "code",
   "execution_count": null,
   "metadata": {
    "ExecuteTime": {
     "end_time": "2023-08-16T16:19:29.878891Z",
     "start_time": "2023-08-16T16:19:29.777773Z"
    }
   },
   "outputs": [],
   "source": [
    "x, y = rescaling_from_OCR_results( np.array(circles_x), np.array(circles_y), \n",
    "                                   x_values, y_values, results )\n",
    "\n",
    "plt.plot(x, y, 'ro')\n",
    "\n",
    "plt.show()"
   ]
  },
  {
   "cell_type": "markdown",
   "metadata": {},
   "source": [
    "When plotting the data this way, we can see that one of the data points was split into two.  This is something that can be corrected by merging points very close to one another."
   ]
  },
  {
   "cell_type": "markdown",
   "metadata": {},
   "source": [
    "### Using contours\n",
    "\n",
    "We will focus on the inside of the graph $-$ we will set appropriate conditions $-$ and look for contours that have the appropriate size. "
   ]
  },
  {
   "cell_type": "code",
   "execution_count": null,
   "metadata": {
    "ExecuteTime": {
     "end_time": "2023-08-16T16:21:34.491248Z",
     "start_time": "2023-08-16T16:21:34.249377Z"
    }
   },
   "outputs": [],
   "source": [
    "y_low, y_high = 10, 620\n",
    "x_low, x_high = 100, 720\n",
    "contour_min, contour_max = 25, 40\n",
    "\n",
    "contours = find_contours( plate )\n",
    "\n",
    "fig = plt.figure( figsize = (10, 10) )\n",
    "plt.imshow( plate, cmap = 'gray' )\n",
    "\n",
    "\n",
    "good_contours = []\n",
    "for n, contour in enumerate(contours):\n",
    "    if len(contour) > contour_min and len(contour) < contour_max:\n",
    "        if ( contour[0,1] > x_low and contour[0,1] < x_high and\n",
    "             contour[0,0] > y_low and contour[0,0] < y_high ):\n",
    "            plt.plot(contour[:, 1], contour[:, 0], linewidth = 2)\n",
    "            good_contours.append( contour )\n",
    "\n",
    "plt.show()"
   ]
  },
  {
   "cell_type": "markdown",
   "metadata": {},
   "source": [
    "<br>\n",
    "\n",
    "**The center of mass of a contour provides a good estimate of the location of a symbol in the graph.** \n",
    "\n",
    "Coupling it with a measure of similarity of the region of the image enclosed by the contour would then enable us to assign data points to data sets by template matching.\n"
   ]
  },
  {
   "cell_type": "code",
   "execution_count": null,
   "metadata": {
    "ExecuteTime": {
     "end_time": "2023-08-16T16:21:56.339929Z",
     "start_time": "2023-08-16T16:21:56.234021Z"
    }
   },
   "outputs": [],
   "source": [
    "k = 0 \n",
    "\n",
    "x_c = np.mean(good_contours[k][:,1])\n",
    "y_c = np.mean(good_contours[k][:,0])\n",
    "print(x_c, y_c)\n",
    "\n",
    "xr = int( max(good_contours[k][:,1]) ) + 2\n",
    "xl = int( min(good_contours[k][:,1]) ) - 1\n",
    "yt = int( max(good_contours[k][:,0]) ) + 2\n",
    "yb = int( min(good_contours[k][:,0]) ) - 1\n",
    "\n",
    "print(xr, xl, yt, yb)\n",
    "\n",
    "symbol_plate = plate[yb:yt, xl:xr]\n",
    "\n",
    "plt.imshow(symbol_plate, cmap = 'gray')\n",
    "\n",
    "plt.show()"
   ]
  },
  {
   "cell_type": "code",
   "execution_count": null,
   "metadata": {
    "ExecuteTime": {
     "end_time": "2023-08-16T16:22:05.333169Z",
     "start_time": "2023-08-16T16:22:05.202674Z"
    }
   },
   "outputs": [],
   "source": [
    "# Because of the x and y limits, this cell works only for k = 0 and k = 1\n",
    "\n",
    "fig = plt.figure( figsize = (10, 10) )\n",
    "plt.imshow(mueller_plate, cmap = 'gray')\n",
    "\n",
    "plt.plot(x_c, y_c, 'ro', markersize = 5, zorder = 10)\n",
    "plt.plot(good_contours[k][:, 1], good_contours[k][:, 0], 'r', linewidth = 2)\n",
    "\n",
    "plt.xlim(600,800)\n",
    "plt.ylim(100, 0)\n",
    "\n",
    "plt.show()"
   ]
  },
  {
   "cell_type": "markdown",
   "metadata": {},
   "source": [
    "# Scanned image\n",
    "\n",
    "Let's now address a rather more challenging case: the graph box considered in [this notebook](http://localhost:8888/notebooks/Module_Image_Processing/nb_04_Text_and_data_in_images.ipynb)).\n",
    "\n",
    "Each vertical grid line correspond to the middle point of a one minute block.  Each horizontal grid line correspond to an increment of 5 miles/h. \n",
    "\n",
    "We could, in principle, get this information from the OCR of the relevant text box.\n",
    "\n",
    "We can use that information later for calculating data values from the image coordinates."
   ]
  },
  {
   "cell_type": "code",
   "execution_count": null,
   "metadata": {
    "ExecuteTime": {
     "end_time": "2023-08-16T16:22:32.446301Z",
     "start_time": "2023-08-16T16:22:32.309906Z"
    }
   },
   "outputs": [],
   "source": [
    "screen_plate = imread(loaded_images[0])\n",
    "print(f\"Selected image has shape {screen_plate.shape}.\\n\")\n",
    "\n",
    "plt.imshow(screen_plate)\n",
    "\n",
    "plt.show()\n",
    "\n",
    "print(f\"That fourth channel is just ones:\\n{screen_plate[:10, :10, 3]}\")"
   ]
  },
  {
   "cell_type": "markdown",
   "metadata": {},
   "source": [
    "We do not need the fourth channel, so we will get rid of it.\n",
    "\n",
    "We will also want to work with a grayscale version of the image.  The question is: \n",
    "\n",
    "> **Which grayscale version should we use?**\n",
    "\n",
    "Let's look at each channel separately besides a conversion to grayscale of the color image..."
   ]
  },
  {
   "cell_type": "code",
   "execution_count": null,
   "metadata": {
    "ExecuteTime": {
     "end_time": "2023-08-16T16:22:42.500311Z",
     "start_time": "2023-08-16T16:22:42.205654Z"
    }
   },
   "outputs": [],
   "source": [
    "display_all_channels( screen_plate )\n"
   ]
  },
  {
   "cell_type": "markdown",
   "metadata": {},
   "source": [
    "Since the bars are green, the **green channel** is the one where the bars are more clearly visible.\n",
    "\n",
    "From now on, we will focus on this channel."
   ]
  },
  {
   "cell_type": "code",
   "execution_count": null,
   "metadata": {
    "ExecuteTime": {
     "end_time": "2023-08-16T16:22:47.426313Z",
     "start_time": "2023-08-16T16:22:47.380379Z"
    }
   },
   "outputs": [],
   "source": [
    "screen_plate[:,:,1]"
   ]
  },
  {
   "cell_type": "markdown",
   "metadata": {
    "ExecuteTime": {
     "end_time": "2023-01-18T19:12:16.487404Z",
     "start_time": "2023-01-18T19:12:16.428394Z"
    }
   },
   "source": [
    "As before, we will transform to ubytes in order to save resources."
   ]
  },
  {
   "cell_type": "code",
   "execution_count": null,
   "metadata": {
    "ExecuteTime": {
     "end_time": "2023-08-16T16:22:52.255147Z",
     "start_time": "2023-08-16T16:22:52.103233Z"
    }
   },
   "outputs": [],
   "source": [
    "print( f\"Maximum of green channel is {screen_plate[:,:,1].max():.3f}, \"\n",
    "       f\" minimum is {screen_plate[:,:,1].min():.3f}\\n\")\n",
    "\n",
    "plate_g = (256 * screen_plate[:,:,1]).astype( np.uint8 )\n",
    "\n",
    "fig = plt.figure( figsize = (12, 10) )\n",
    "plt.imshow( plate_g, cmap = 'gray')\n",
    "\n",
    "plt.show()"
   ]
  },
  {
   "cell_type": "markdown",
   "metadata": {},
   "source": [
    "## Find outline of bars and coordinates of grid lines\n",
    "\n",
    "For simplicity, we first binarize the image. "
   ]
  },
  {
   "cell_type": "code",
   "execution_count": null,
   "metadata": {
    "ExecuteTime": {
     "end_time": "2023-08-16T16:23:28.832321Z",
     "start_time": "2023-08-16T16:23:28.715245Z"
    }
   },
   "outputs": [],
   "source": [
    "x, y, zoom_factor = 200, 350, 2\n",
    "threshold_for_white = 0\n",
    "\n",
    "plate_for_data = plate_g > threshold_for_white\n",
    "\n",
    "fig = plt.figure( figsize = (6, 6) )\n",
    "ax = fig.add_subplot(111)\n",
    "zoomed_image, x0, y0 = grayscale_zoom(ax, plate_for_data, x, y, zoom_factor)\n",
    "\n",
    "ax.imshow( zoomed_image, cmap = 'gray')\n",
    "ax.plot([zoom_factor * (x-x0)], [zoom_factor * (y-y0)], 'ro')\n",
    "\n",
    "plt.show()\n"
   ]
  },
  {
   "cell_type": "markdown",
   "metadata": {},
   "source": [
    "We can place the relevant code in a function and automate the plotting."
   ]
  },
  {
   "cell_type": "code",
   "execution_count": null,
   "metadata": {
    "ExecuteTime": {
     "end_time": "2023-08-16T16:28:40.783976Z",
     "start_time": "2023-08-16T16:28:40.590508Z"
    }
   },
   "outputs": [],
   "source": [
    "x, y, zoom_factor = 200, 350, 2\n",
    "threshold_for_white = 0\n",
    "\n",
    "fig = plt.figure( figsize = (10, 8) )\n",
    "ax1 = fig.add_subplot(211)\n",
    "ax2 = fig.add_subplot(212)\n",
    "\n",
    "plate_for_data = threshold_for_data_extraction( screen_plate[:,:,1], ax1, ax2, \n",
    "                                                threshold_for_white, \n",
    "                                                (x, y), zoom_factor )\n",
    "\n",
    "plt.tight_layout()\n",
    "plt.show()\n",
    "    \n"
   ]
  },
  {
   "cell_type": "markdown",
   "metadata": {},
   "source": [
    "<br>\n",
    "\n",
    "The image above suggest a strategy for finding the coordinates of the data. For each column (i.e., `x` value), we can start from the bottom and keep moving up until we find a `0` (i.e., a black pixel). \n",
    "\n",
    "Note that **starting from the bottom** in a column means **starting from a `y` coordinate of `y_max`**, which can be extracted from the array's shape.\n",
    "\n",
    "We have, however, to remember that the grid lines will extend all the way to the top.\n"
   ]
  },
  {
   "cell_type": "code",
   "execution_count": null,
   "metadata": {
    "ExecuteTime": {
     "end_time": "2023-08-16T19:22:12.732552Z",
     "start_time": "2023-08-16T19:22:12.692382Z"
    }
   },
   "outputs": [],
   "source": [
    "y_max, x_max = plate_for_data.shape\n",
    "x_min = 0\n",
    "y_min = 0\n",
    "\n",
    "print(x_max, y_max)"
   ]
  },
  {
   "cell_type": "markdown",
   "metadata": {},
   "source": [
    "Get coordinates of horizontal grid lines."
   ]
  },
  {
   "cell_type": "code",
   "execution_count": null,
   "metadata": {
    "ExecuteTime": {
     "end_time": "2023-08-16T19:22:14.404999Z",
     "start_time": "2023-08-16T19:22:14.360315Z"
    }
   },
   "outputs": [],
   "source": [
    "level_lines = []\n",
    "levels = []\n",
    "level_line_threshold = 10\n",
    "\n",
    "print(y_min, y_max)\n",
    "for i in range(y_min, y_max):\n",
    "    j = 0\n",
    "    while plate_for_data[i,j] and j < x_max-1:\n",
    "        j += 1\n",
    "\n",
    "    # Check if this is grid line\n",
    "    #\n",
    "    if j > level_line_threshold:\n",
    "        level_lines.append(i)\n",
    "\n",
    "    levels.append(j)\n",
    "        \n",
    "print(level_lines)"
   ]
  },
  {
   "cell_type": "markdown",
   "metadata": {
    "ExecuteTime": {
     "end_time": "2023-01-27T18:51:51.664664Z",
     "start_time": "2023-01-27T18:51:51.615454Z"
    }
   },
   "source": [
    "<br>\n",
    "\n",
    "We can generalize the code to handle vertical and horizontal grid lines.  \n"
   ]
  },
  {
   "cell_type": "code",
   "execution_count": null,
   "metadata": {
    "ExecuteTime": {
     "end_time": "2023-08-16T19:22:16.186699Z",
     "start_time": "2023-08-16T19:22:16.087930Z"
    }
   },
   "outputs": [],
   "source": [
    "y_max, x_max = plate_for_data.shape\n",
    "x_min = 0\n",
    "y_min = 0\n",
    "\n",
    "# Use these two lines to adjust how much of the image you visualize\n",
    "#\n",
    "# y_max = 600\n",
    "# y_min = 2000\n",
    "\n",
    "level_lines, levels = infer_grid_lines( 0, y_min, y_max, x_max, 10, \n",
    "                                       plate_for_data )\n",
    "\n",
    "plt.plot(range(y_min, y_max), levels, 'b-')\n",
    "plt.plot(level_lines, [200]*len(level_lines), 'r.')\n",
    "\n",
    "plt.show()"
   ]
  },
  {
   "cell_type": "markdown",
   "metadata": {},
   "source": [
    "Get heights of bars and placement of vertical grid lines."
   ]
  },
  {
   "cell_type": "code",
   "execution_count": null,
   "metadata": {
    "ExecuteTime": {
     "end_time": "2023-08-16T19:22:17.825993Z",
     "start_time": "2023-08-16T19:22:17.712022Z"
    }
   },
   "outputs": [],
   "source": [
    "y_max, x_max = plate_for_data.shape\n",
    "x_min = 0\n",
    "y_min = 0\n",
    "\n",
    "# Use these two lines to adjust how much of the image you visualize\n",
    "#\n",
    "# x_max = 200\n",
    "# x_min = 2000\n",
    "\n",
    "time_lines, heights = infer_grid_lines( 1, x_min, x_max, y_max, 450, \n",
    "                                        plate_for_data )\n",
    "\n",
    "plt.plot(range(x_min, x_max), heights, 'b-')\n",
    "plt.plot(time_lines, [400]*len(time_lines), 'r.')\n",
    "\n",
    "plt.show()"
   ]
  },
  {
   "cell_type": "markdown",
   "metadata": {},
   "source": [
    "## Cluster coordinates for determining position of grid lines\n",
    "\n",
    "We cluster coordinates for level and time grid lines and estimate the factor for mapping `y` coordinate to actual values and `x` coordinate to time."
   ]
  },
  {
   "cell_type": "markdown",
   "metadata": {},
   "source": [
    "We first use the function for time grid lines."
   ]
  },
  {
   "cell_type": "code",
   "execution_count": null,
   "metadata": {
    "ExecuteTime": {
     "end_time": "2023-08-16T19:22:20.617873Z",
     "start_time": "2023-08-16T19:22:20.521395Z"
    }
   },
   "outputs": [],
   "source": [
    "block_delta_t, t_deltas, t_mapping = cluster_infered_lines( time_lines ) \n",
    "\n",
    "plt.plot(t_deltas, 'bo')\n",
    "plt.hlines(block_delta_t, 0, len(t_mapping), 'r')\n",
    "\n",
    "plt.show()"
   ]
  },
  {
   "cell_type": "markdown",
   "metadata": {},
   "source": [
    "Next, we use these function for speed grid lines."
   ]
  },
  {
   "cell_type": "code",
   "execution_count": null,
   "metadata": {
    "ExecuteTime": {
     "end_time": "2023-08-16T19:22:22.288793Z",
     "start_time": "2023-08-16T19:22:22.188094Z"
    }
   },
   "outputs": [],
   "source": [
    "block_delta_y, y_deltas, y_mapping = cluster_infered_lines( level_lines ) \n",
    "\n",
    "plt.plot(y_deltas, 'bo')\n",
    "plt.hlines(block_delta_y, 0, len(y_mapping), 'r')\n",
    "\n",
    "plt.show()"
   ]
  },
  {
   "cell_type": "code",
   "execution_count": null,
   "metadata": {
    "ExecuteTime": {
     "end_time": "2023-08-16T19:22:32.939299Z",
     "start_time": "2023-08-16T19:22:32.898159Z"
    }
   },
   "outputs": [],
   "source": [
    "print(f\"There are {len(y_mapping)} values for y scale.\")\n",
    "print(y_mapping)"
   ]
  },
  {
   "cell_type": "markdown",
   "metadata": {},
   "source": [
    "When you zoom in on the value bars, you will notice that at the edges of the bars there are intermediate values, even though the signal is supposed to be constant during the one minute block.  Additionally, the vertical grid lines prevent us from extracting the correct value at those positions.\n",
    "\n",
    "We next correct for that."
   ]
  },
  {
   "cell_type": "code",
   "execution_count": null,
   "metadata": {
    "ExecuteTime": {
     "end_time": "2023-08-16T19:22:37.650709Z",
     "start_time": "2023-08-16T19:22:37.534916Z"
    }
   },
   "outputs": [],
   "source": [
    "y_values, new_heights = correct_column_heights( heights, block_delta_t, \n",
    "                                                t_mapping, x_min )\n",
    "\n",
    "fig = plt.figure( figsize = (20, 4) )\n",
    "plt.plot(range(x_min, x_max), heights, 'b-')\n",
    "plt.plot(range(x_min, x_max), new_heights, 'r')\n",
    "plt.ylim(0, 550)\n",
    "\n",
    "plt.show()"
   ]
  },
  {
   "cell_type": "code",
   "execution_count": null,
   "metadata": {
    "ExecuteTime": {
     "end_time": "2023-08-16T19:22:42.682720Z",
     "start_time": "2023-08-16T19:22:42.638817Z"
    }
   },
   "outputs": [],
   "source": [
    "print(f\"There are {len(t_mapping)} values for time events.\")\n",
    "print(t_mapping)\n",
    "      \n",
    "print(f\"\\nThere are {len(y_values)} values for their values.\")\n",
    "print(y_values)"
   ]
  },
  {
   "cell_type": "markdown",
   "metadata": {},
   "source": [
    "The first value is a mistake. We will drop it."
   ]
  },
  {
   "cell_type": "code",
   "execution_count": null,
   "metadata": {
    "ExecuteTime": {
     "end_time": "2023-08-16T19:23:02.606233Z",
     "start_time": "2023-08-16T19:23:02.555467Z"
    }
   },
   "outputs": [],
   "source": [
    "t_mapping.pop(0)\n",
    "y_values.pop(0)"
   ]
  },
  {
   "cell_type": "markdown",
   "metadata": {},
   "source": [
    "## Rescale coordinates"
   ]
  },
  {
   "cell_type": "code",
   "execution_count": null,
   "metadata": {
    "ExecuteTime": {
     "end_time": "2023-08-16T19:23:08.340762Z",
     "start_time": "2023-08-16T19:23:08.293230Z"
    }
   },
   "outputs": [],
   "source": [
    "y_scale = [15, 10, 5, 0]\n",
    "t_scale = list(range(1, 21))\n",
    "\n",
    "data_values = rescaling_from_scan_results( 0, y_values, y_scale, y_mapping, \n",
    "                                           y_max )"
   ]
  },
  {
   "cell_type": "markdown",
   "metadata": {},
   "source": [
    "## Plot data and compare to image"
   ]
  },
  {
   "cell_type": "code",
   "execution_count": null,
   "metadata": {
    "ExecuteTime": {
     "end_time": "2023-08-16T19:23:12.795301Z",
     "start_time": "2023-08-16T19:23:12.611905Z"
    }
   },
   "outputs": [],
   "source": [
    "fig = plt.figure( figsize = (9, 5))\n",
    "fig.set_facecolor('0.8')\n",
    "ax = []\n",
    "\n",
    "\n",
    "ax.append( fig.add_subplot(211) )\n",
    "half_frame(ax[-1], 'Time [min]', 'Speed\\n[miles/h]', font_size = my_fontsize)\n",
    "ax[-1].set_facecolor('0')\n",
    "\n",
    "ax[-1].set_ylim(0, 15)\n",
    "ax[-1].set_yticks(range(0, 16, 5))\n",
    "ax[-1].set_xlim(0.5, 22)\n",
    "ax[-1].set_xticks(range(2, 22, 2))\n",
    "\n",
    "ax[-1].vlines(range(0, 21), 0, 15,  lw = 2, color = '0.6', )\n",
    "ax[-1].hlines([5, 10, 15], 0, 22,  lw = 2, color = '0.6', )\n",
    "\n",
    "ax[-1].bar(t_scale, data_values, color = 'g', zorder = 10)\n",
    "\n",
    "ax.append( fig.add_subplot(212) )\n",
    "ax[-1].imshow(screen_plate)\n",
    "\n",
    "plt.tight_layout()\n",
    "plt.show()"
   ]
  },
  {
   "cell_type": "markdown",
   "metadata": {},
   "source": [
    "## Check accuracy of extracted data"
   ]
  },
  {
   "cell_type": "code",
   "execution_count": null,
   "metadata": {
    "ExecuteTime": {
     "end_time": "2023-08-16T19:24:21.607157Z",
     "start_time": "2023-08-16T19:24:21.507076Z"
    }
   },
   "outputs": [],
   "source": [
    "actual_values = [3, 4, 5, 6, 7, 6, 5, 3, 5, 6, 7, 5,\n",
    "                 3, 5, 6, 7, 6, 5, 4, 3]\n",
    "\n",
    "fig = plt.figure( figsize = (6, 4))\n",
    "fig.set_facecolor('0.8')\n",
    "ax = fig.add_subplot(111)\n",
    "\n",
    "half_frame(ax, 'Actual values', 'Estimated values', font_size = my_fontsize)\n",
    "\n",
    "ax.plot(actual_values, data_values, 'ro')\n",
    "ax.plot([2, 8], [5, 5])\n",
    "ax.plot([2, 8], [2, 8])\n",
    "\n",
    "plt.show()\n",
    "\n",
    "result = pearsonr(actual_values, data_values)\n",
    "print(result)"
   ]
  },
  {
   "cell_type": "code",
   "execution_count": null,
   "metadata": {},
   "outputs": [],
   "source": []
  }
 ],
 "metadata": {
  "anaconda-cloud": {},
  "kernelspec": {
   "display_name": "Python [conda env:ocr_env]",
   "language": "python",
   "name": "conda-env-ocr_env-py"
  },
  "language_info": {
   "codemirror_mode": {
    "name": "ipython",
    "version": 3
   },
   "file_extension": ".py",
   "mimetype": "text/x-python",
   "name": "python",
   "nbconvert_exporter": "python",
   "pygments_lexer": "ipython3",
   "version": "3.12.5"
  },
  "toc": {
   "base_numbering": 1,
   "nav_menu": {},
   "number_sections": true,
   "sideBar": true,
   "skip_h1_title": false,
   "title_cell": "Table of Contents",
   "title_sidebar": "Contents",
   "toc_cell": false,
   "toc_position": {
    "height": "calc(100% - 180px)",
    "left": "10px",
    "top": "150px",
    "width": "204.567px"
   },
   "toc_section_display": true,
   "toc_window_display": true
  },
  "varInspector": {
   "cols": {
    "lenName": 16,
    "lenType": 16,
    "lenVar": 40
   },
   "kernels_config": {
    "python": {
     "delete_cmd_postfix": "",
     "delete_cmd_prefix": "del ",
     "library": "var_list.py",
     "varRefreshCmd": "print(var_dic_list())"
    },
    "r": {
     "delete_cmd_postfix": ") ",
     "delete_cmd_prefix": "rm(",
     "library": "var_list.r",
     "varRefreshCmd": "cat(var_dic_list()) "
    }
   },
   "types_to_exclude": [
    "module",
    "function",
    "builtin_function_or_method",
    "instance",
    "_Feature"
   ],
   "window_display": false
  }
 },
 "nbformat": 4,
 "nbformat_minor": 4
}
