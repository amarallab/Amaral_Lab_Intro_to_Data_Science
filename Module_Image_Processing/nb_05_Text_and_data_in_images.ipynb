{
 "cells": [
  {
   "cell_type": "markdown",
   "metadata": {},
   "source": [
    "# Synopsis\n",
    "\n",
    "Extracting information from scanned files.\n",
    "\n",
    "# Words to remember\n",
    "\n",
    "**OCR**\n",
    "\n",
    "**denoising**\n",
    "\n",
    "**blurring**"
   ]
  },
  {
   "cell_type": "markdown",
   "metadata": {},
   "source": [
    "# Read libraries"
   ]
  },
  {
   "cell_type": "code",
   "execution_count": null,
   "metadata": {
    "ExecuteTime": {
     "end_time": "2023-08-11T16:32:55.288837Z",
     "start_time": "2023-08-11T16:32:52.878182Z"
    }
   },
   "outputs": [],
   "source": [
    "%load_ext autoreload\n",
    "%autoreload 2\n",
    "%matplotlib inline\n",
    "\n",
    "from colorama import Back, Fore, Style\n",
    "from copy import copy, deepcopy\n",
    "from pathlib import Path\n"
   ]
  },
  {
   "cell_type": "code",
   "execution_count": null,
   "metadata": {
    "ExecuteTime": {
     "end_time": "2023-08-11T16:33:07.200483Z",
     "start_time": "2023-08-11T16:32:56.942824Z"
    }
   },
   "outputs": [],
   "source": [
    "import matplotlib as mpl\n",
    "import matplotlib.pyplot as plt\n",
    "import matplotlib.cm as cm\n",
    "import numpy as np\n",
    "\n",
    "from matplotlib.gridspec import GridSpec\n",
    "from matplotlib.patches import Circle\n",
    "from pylab import imread, imshow, imsave\n",
    "from scipy.stats import pearsonr\n",
    "from skimage import img_as_float, img_as_ubyte\n",
    "from skimage.color import rgb2gray\n",
    "from skimage.filters import rank, threshold_otsu, gaussian\n",
    "from skimage.measure import find_contours\n",
    "from skimage.morphology import ( disk, binary_dilation, binary_erosion, \n",
    "                                 binary_closing, binary_opening, \n",
    "                                 remove_small_holes, remove_small_objects,\n",
    "                                 flood_fill, )\n",
    "from skimage.util import random_noise\n",
    "\n",
    "from skimage.transform import estimate_transform, warp\n",
    "\n",
    "from module_libraries.my_stats import half_frame\n",
    "from module_libraries.image_lib import display_all_channels, grayscale_zoom\n",
    "\n",
    "my_fontsize = 15\n",
    "data_folder = Path.cwd() / 'Data' / 'Scanned_Images'\n",
    "results_folder = Path.cwd() / 'Results'\n"
   ]
  },
  {
   "cell_type": "markdown",
   "metadata": {},
   "source": [
    "## Special requirements\n",
    "\n",
    "This notebook requires a special environment in which `pytesseract` is installed"
   ]
  },
  {
   "cell_type": "code",
   "execution_count": null,
   "metadata": {
    "ExecuteTime": {
     "end_time": "2023-08-11T16:33:15.738297Z",
     "start_time": "2023-08-11T16:33:15.691598Z"
    }
   },
   "outputs": [],
   "source": [
    "import pytesseract\n"
   ]
  },
  {
   "cell_type": "markdown",
   "metadata": {},
   "source": [
    "# Load images\n",
    "\n",
    "We load the images we saved earlier.  Recall that `graph_box` was a full color image and that we were focusing on the green channel, whereas `text_box` was a grayscale image.  \n",
    "\n",
    "When they are saved as `PNG` files, they get layers added.  For simplicity, we just retrieve the green channel.\n"
   ]
  },
  {
   "cell_type": "code",
   "execution_count": null,
   "metadata": {},
   "outputs": [],
   "source": [
    "graph_box = imread( results_folder / 'graph_box_clean.png' )[:,:,1]\n",
    "graph_box = (255 * graph_box / graph_box.max()).astype( np.uint8 )\n",
    "print(graph_box.shape, graph_box.max(), graph_box.min())\n",
    "text_box = imread( results_folder / 'text_box_clean.png' )[:,:,1]\n",
    "text_box = (255 * text_box / text_box.max()).astype( np.uint8 )\n",
    "print(text_box.shape, text_box.max(), text_box.min())\n"
   ]
  },
  {
   "cell_type": "code",
   "execution_count": null,
   "metadata": {
    "ExecuteTime": {
     "end_time": "2023-08-11T17:08:24.979180Z",
     "start_time": "2023-08-11T17:08:24.784630Z"
    }
   },
   "outputs": [],
   "source": [
    "fig = plt.figure( figsize = (10, 10) )\n",
    "gs = fig.add_gridspec(1, 5)\n",
    "ax = []\n",
    "\n",
    "ax.append( fig.add_subplot( gs[0, 0] ) )\n",
    "ax[-1].imshow( text_box, cmap = 'gray', vmin = 0, vmax = 255 )\n",
    "    \n",
    "ax.append( fig.add_subplot( gs[0, 1:] ) )\n",
    "ax[-1].imshow( graph_box, cmap = 'gray', vmin = 0, vmax = 255  )\n",
    "\n",
    "plt.tight_layout()\n",
    "plt.show()\n"
   ]
  },
  {
   "cell_type": "markdown",
   "metadata": {},
   "source": [
    "# OCR\n",
    "\n",
    "`Tesseract` is  a great package for OCR. We will first use it on a sample image distributed with it.\n"
   ]
  },
  {
   "cell_type": "code",
   "execution_count": null,
   "metadata": {
    "ExecuteTime": {
     "end_time": "2023-08-11T17:15:57.282328Z",
     "start_time": "2023-08-11T17:15:57.150550Z"
    }
   },
   "outputs": [],
   "source": [
    "plate_for_ocr = imread( data_folder / '1_python-ocr.jpg')\n",
    "\n",
    "plt.imshow(plate_for_ocr)\n",
    "plt.show()"
   ]
  },
  {
   "cell_type": "code",
   "execution_count": null,
   "metadata": {
    "ExecuteTime": {
     "end_time": "2023-08-11T17:17:23.132514Z",
     "start_time": "2023-08-11T17:17:22.383300Z"
    }
   },
   "outputs": [],
   "source": [
    "plate_for_ocr = plate_for_ocr.astype( np.uint8 )\n",
    "\n",
    "results = pytesseract.image_to_data( plate_for_ocr, \n",
    "                                     output_type = pytesseract.Output.DICT )\n"
   ]
  },
  {
   "cell_type": "code",
   "execution_count": null,
   "metadata": {
    "ExecuteTime": {
     "end_time": "2023-08-11T17:19:16.938388Z",
     "start_time": "2023-08-11T17:19:16.702976Z"
    }
   },
   "outputs": [],
   "source": [
    "fig = plt.figure( figsize = (15, 10))\n",
    "ax = fig.add_subplot(111)\n",
    "\n",
    "ax.imshow(plate_for_ocr, cmap = 'gray')\n",
    "for i in range(len(results['text'])):\n",
    "    x = results['left'][i]\n",
    "    y = results['top'][i]\n",
    "\n",
    "    w = results['width'][i]\n",
    "    h = results['height'][i]\n",
    "\n",
    "    text = results['text'][i]\n",
    "    conf = int(results['conf'][i])\n",
    "    \n",
    "    if conf > 0: \n",
    "        ax.hlines([y, y+h], x, x+w, color = 'g')\n",
    "        ax.vlines([x, x+w], y, y+h, color = 'g')\n",
    "        ax.text(x, y-10, f\"text: {text} ({conf}%)\" )\n",
    "\n",
    "plt.show()"
   ]
  },
  {
   "cell_type": "markdown",
   "metadata": {},
   "source": [
    "**So cool!**\n",
    "\n",
    "Let is now check if it works as well for our image..."
   ]
  },
  {
   "cell_type": "code",
   "execution_count": null,
   "metadata": {
    "ExecuteTime": {
     "end_time": "2023-08-14T18:23:50.362754Z",
     "start_time": "2023-08-14T18:23:50.115118Z"
    }
   },
   "outputs": [],
   "source": [
    "results = pytesseract.image_to_data( text_box, \n",
    "                                     output_type = pytesseract.Output.DICT )\n",
    "\n",
    "\n",
    "# Confidence level <0 means that it is likely trash\n",
    "#\n",
    "print(results['conf'])\n",
    "print(results['left'])\n",
    "print(results['top'])\n",
    "print(results['text'])\n",
    "\n",
    "fig = plt.figure()\n",
    "ax = fig.add_subplot(111)\n",
    "\n",
    "ax.imshow(text_box[:,:], cmap = 'gray')\n",
    "for i in range(len(results['text'])):\n",
    "    x = results['left'][i]\n",
    "    y = results['top'][i]\n",
    "    \n",
    "    ax.plot(x, y, 'o', markersize = '10', alpha = 0.5)\n",
    "\n",
    "    w = results['width'][i]\n",
    "    h = results['height'][i]\n",
    "\n",
    "    text = results['text'][i]\n",
    "    conf = int(results['conf'][i])\n",
    "\n",
    "    ax.hlines([y, y+h], x, x+w, color = 'g')\n",
    "    ax.vlines([x, x+w], y, y+h, color = 'g')\n",
    "    if conf > 0: \n",
    "        ax.text(x, y-10, f\"text: {text} ({conf}%)\" )\n",
    "\n",
    "plt.show()"
   ]
  },
  {
   "cell_type": "markdown",
   "metadata": {
    "ExecuteTime": {
     "end_time": "2023-01-19T19:34:54.047473Z",
     "start_time": "2023-01-19T19:34:53.985396Z"
    },
    "code_folding": []
   },
   "source": [
    "So, we can only get one match, and even that one is not great because of being rotated.\n",
    "\n",
    "Perhaps because the text does not all have the same orientation, this *confuses* the choices of the algorithm...\n",
    "\n",
    "Perhaps if we remove that high confidence vertical text, the algorithm will be able to detect the smaller horizontal pieces of text...\n",
    "\n",
    "**To test this idea, we first remove high-confidence text and replace it with white pixels, and then repeat the prior  analysis.**"
   ]
  },
  {
   "cell_type": "code",
   "execution_count": null,
   "metadata": {
    "ExecuteTime": {
     "end_time": "2023-08-14T18:32:36.063455Z",
     "start_time": "2023-08-14T18:32:35.974604Z"
    }
   },
   "outputs": [],
   "source": [
    "# Remove high-confidence text \n",
    "#\n",
    "i = 4\n",
    "x = results['left'][i]\n",
    "y = results['top'][i]\n",
    "w = results['width'][i]\n",
    "h = results['height'][i]\n",
    "print(w, h)\n",
    "\n",
    "text_box_1 = copy(text_box)\n",
    "print(text_box.max())\n",
    "print(text_box_1.shape)\n",
    "print(text_box_1[y:y+h, x:x+w].shape)\n",
    "text_box_1[y:y+h, x:x+w] = 255*np.ones((h, w))\n",
    "\n",
    "plt.imshow(text_box_1, cmap = 'gray')\n",
    "plt.show()"
   ]
  },
  {
   "cell_type": "code",
   "execution_count": null,
   "metadata": {
    "ExecuteTime": {
     "end_time": "2023-08-14T18:33:24.039054Z",
     "start_time": "2023-08-14T18:33:23.591294Z"
    }
   },
   "outputs": [],
   "source": [
    "# Re-analyze image\n",
    "#\n",
    "results = pytesseract.image_to_data( text_box_1, \n",
    "                                     output_type = pytesseract.Output.DICT )\n",
    "\n",
    "\n",
    "# Confidence level <0 means that it is likely trash\n",
    "#\n",
    "print(results['conf'])\n",
    "print(results['left'])\n",
    "print(results['top'])\n",
    "print(results['text'])\n",
    "\n",
    "fig = plt.figure()\n",
    "ax = fig.add_subplot(111)\n",
    "\n",
    "ax.imshow(text_box, cmap = 'gray')\n",
    "for i in range(len(results['text'])):\n",
    "    x = results['left'][i]\n",
    "    y = results['top'][i]\n",
    "    \n",
    "    ax.plot(x, y, 'o', markersize = '10', alpha = 0.5)\n",
    "\n",
    "    w = results['width'][i]\n",
    "    h = results['height'][i]\n",
    "\n",
    "    text = results['text'][i]\n",
    "    conf = int(results['conf'][i])\n",
    "\n",
    "    ax.hlines([y, y+h], x, x+w, color = 'g')\n",
    "    ax.vlines([x, x+w], y, y+h, color = 'g')\n",
    "    if conf > 0: \n",
    "        ax.text(x, y-10, f\"text: {text} ({conf}%)\" )\n",
    "\n",
    "plt.show()"
   ]
  },
  {
   "cell_type": "markdown",
   "metadata": {},
   "source": [
    "## Refactoring code for extracting all text from 'noiseless' image \n",
    "\n",
    "You can imagine how we could go in turn, removing each highest confidence detected text one at a  time...\n",
    "\n",
    "**Time to implement this idea!**"
   ]
  },
  {
   "cell_type": "code",
   "execution_count": null,
   "metadata": {},
   "outputs": [],
   "source": []
  },
  {
   "cell_type": "code",
   "execution_count": null,
   "metadata": {},
   "outputs": [],
   "source": []
  },
  {
   "cell_type": "code",
   "execution_count": null,
   "metadata": {},
   "outputs": [],
   "source": []
  },
  {
   "cell_type": "code",
   "execution_count": null,
   "metadata": {},
   "outputs": [],
   "source": []
  },
  {
   "cell_type": "code",
   "execution_count": null,
   "metadata": {},
   "outputs": [],
   "source": []
  },
  {
   "cell_type": "code",
   "execution_count": null,
   "metadata": {},
   "outputs": [],
   "source": []
  },
  {
   "cell_type": "markdown",
   "metadata": {},
   "source": [
    "# What if there is noise in the image?\n",
    "\n",
    "If there is noise in the image, than `Tesseract` will not work as well.  \n",
    "\n",
    "To learn how to address this, we will load below a version of our image with some noise added. \n",
    "\n",
    "\n",
    "## Useful plotting function"
   ]
  },
  {
   "cell_type": "code",
   "execution_count": null,
   "metadata": {
    "ExecuteTime": {
     "end_time": "2023-08-15T20:57:41.512724Z",
     "start_time": "2023-08-15T20:57:41.470828Z"
    },
    "code_folding": [
     7
    ]
   },
   "outputs": [],
   "source": [
    "zoom_factor = 2\n",
    "x_c = 300\n",
    "y_c = 300\n",
    "\n",
    "y_lim = 600\n",
    "x_lim = 500\n",
    "\n",
    "def plot_sections(my_image, zoom_factor, x_c, y_c, x_lim, y_lim):\n",
    "    \n",
    "    fig = plt.figure( figsize = (10, 8) )\n",
    "    gs = fig.add_gridspec(1, 3)\n",
    "    ax = []\n",
    "\n",
    "    ax.append( fig.add_subplot( gs[0, 0]) )\n",
    "    ax[-1].imshow( my_image[:y_lim,:x_lim], cmap = 'gray');\n",
    "\n",
    "    ax.append( fig.add_subplot(gs[0, 1:]) )\n",
    "    zoomed_image, x0, y0 = grayscale_zoom( ax[-1], my_image, x_c, y_c, zoom_factor )\n",
    "    ax[-1].imshow( zoomed_image, cmap = 'gray')\n",
    "\n",
    "    plt.tight_layout()\n",
    "    plt.show()\n",
    "    \n",
    "    \n"
   ]
  },
  {
   "cell_type": "code",
   "execution_count": null,
   "metadata": {},
   "outputs": [],
   "source": [
    "graph_box = imread( results_folder / 'graph_box_noisy.png' )[:,:,1]\n",
    "graph_box = (255 * graph_box / graph_box.max()).astype( np.uint8 )\n",
    "print(graph_box.shape, graph_box.max(), graph_box.min())\n",
    "text_box = imread( results_folder / 'text_box_noisy.png' )[:,:,1]\n",
    "text_box = (255 * text_box / text_box.max()).astype( np.uint8 )\n",
    "print(text_box.shape, text_box.max(), text_box.min())"
   ]
  },
  {
   "cell_type": "code",
   "execution_count": null,
   "metadata": {},
   "outputs": [],
   "source": [
    "fig = plt.figure( figsize = (10, 10) )\n",
    "gs = fig.add_gridspec(1, 5)\n",
    "ax = []\n",
    "\n",
    "ax.append( fig.add_subplot( gs[0, 0] ) )\n",
    "ax[-1].imshow( text_box, cmap = 'gray', vmin = 0, vmax = 255 )\n",
    "    \n",
    "ax.append( fig.add_subplot( gs[0, 1:] ) )\n",
    "ax[-1].imshow( graph_box, cmap = 'gray', vmin = 0, vmax = 255  )\n",
    "\n",
    "plt.tight_layout()\n",
    "plt.show()\n"
   ]
  },
  {
   "cell_type": "markdown",
   "metadata": {},
   "source": [
    "## Try OCR on noisy image"
   ]
  },
  {
   "cell_type": "code",
   "execution_count": null,
   "metadata": {
    "ExecuteTime": {
     "end_time": "2023-08-15T20:54:46.848828Z",
     "start_time": "2023-08-15T20:54:46.286120Z"
    }
   },
   "outputs": [],
   "source": [
    "results = pytesseract.image_to_data( text_box, \n",
    "                                     output_type = pytesseract.Output.DICT )\n",
    "\n",
    "\n",
    "# Confidence level <0 means that it is likely trash\n",
    "#\n",
    "print(results['conf'])\n",
    "print(results['left'])\n",
    "print(results['top'])\n",
    "print(results['text'])\n",
    "\n",
    "fig = plt.figure()\n",
    "ax = fig.add_subplot(111)\n",
    "\n",
    "ax.imshow(text_box[:,:], cmap = 'gray')\n",
    "for i in range(len(results['text'])):\n",
    "    x = results['left'][i]\n",
    "    y = results['top'][i]\n",
    "    \n",
    "    ax.plot(x, y, 'o', markersize = '10', alpha = 0.5)\n",
    "\n",
    "    w = results['width'][i]\n",
    "    h = results['height'][i]\n",
    "\n",
    "    text = results['text'][i]\n",
    "    conf = int(results['conf'][i])\n",
    "\n",
    "    ax.hlines([y, y+h], x, x+w, color = 'g')\n",
    "    ax.vlines([x, x+w], y, y+h, color = 'g')\n",
    "    if conf > 0: \n",
    "        ax.text(x, y-10, f\"text: {text} ({conf}%)\" )\n",
    "\n",
    "plt.show()"
   ]
  },
  {
   "cell_type": "markdown",
   "metadata": {},
   "source": [
    "## Denoising\n"
   ]
  },
  {
   "cell_type": "code",
   "execution_count": null,
   "metadata": {
    "ExecuteTime": {
     "end_time": "2023-08-15T21:00:05.770777Z",
     "start_time": "2023-08-15T21:00:05.544574Z"
    }
   },
   "outputs": [],
   "source": [
    "plot_sections(text_box, zoom_factor, x_c, y_c, x_lim, y_lim)\n"
   ]
  },
  {
   "cell_type": "markdown",
   "metadata": {},
   "source": [
    "We first binarize the image with a high threshold so we don't loose any foreground..."
   ]
  },
  {
   "cell_type": "code",
   "execution_count": null,
   "metadata": {
    "ExecuteTime": {
     "end_time": "2023-08-15T21:04:09.628597Z",
     "start_time": "2023-08-15T21:04:09.407518Z"
    }
   },
   "outputs": [],
   "source": [
    "h, w = text_box.shape\n",
    "\n",
    "threshold = 250\n",
    "binary_mask = text_box > threshold\n",
    "\n",
    "plot_sections(binary_mask, zoom_factor, x_c, y_c, x_lim, y_lim)"
   ]
  },
  {
   "cell_type": "markdown",
   "metadata": {},
   "source": [
    "It seems that the way to go is to remove small dots (which because they have low pixel values are holes)...\n",
    "\n",
    "**We can use `remove_small_holes` and check what we get.**\n"
   ]
  },
  {
   "cell_type": "code",
   "execution_count": null,
   "metadata": {
    "ExecuteTime": {
     "end_time": "2023-08-15T21:10:57.317849Z",
     "start_time": "2023-08-15T21:10:57.115466Z"
    }
   },
   "outputs": [],
   "source": [
    "binary_wo_small_holes = remove_small_holes( binary_mask, 15 )\n",
    "\n",
    "plot_sections(binary_wo_small_holes, zoom_factor, x_c, y_c, x_lim, y_lim)"
   ]
  },
  {
   "cell_type": "markdown",
   "metadata": {},
   "source": [
    "Note bad.  Now we just need to plug those holes in the characters (which, because they have high pixel values are objects)...\n",
    "\n",
    "**We can use `remove_small_objects`**\n"
   ]
  },
  {
   "cell_type": "code",
   "execution_count": null,
   "metadata": {
    "ExecuteTime": {
     "end_time": "2023-08-15T21:14:21.755899Z",
     "start_time": "2023-08-15T21:14:21.551426Z"
    }
   },
   "outputs": [],
   "source": [
    "binary_clean = remove_small_objects( binary_wo_small_holes, 40 )\n",
    "\n",
    "plot_sections(binary_clean, zoom_factor, x_c, y_c, x_lim, y_lim)"
   ]
  },
  {
   "cell_type": "markdown",
   "metadata": {},
   "source": [
    "**Not bad!!!**\n",
    "\n",
    "We can now use `gaussian` filtering to smooth the characters."
   ]
  },
  {
   "cell_type": "code",
   "execution_count": null,
   "metadata": {
    "ExecuteTime": {
     "end_time": "2023-08-15T21:17:42.162302Z",
     "start_time": "2023-08-15T21:17:42.115929Z"
    }
   },
   "outputs": [],
   "source": [
    "help(gaussian)"
   ]
  },
  {
   "cell_type": "code",
   "execution_count": null,
   "metadata": {
    "ExecuteTime": {
     "end_time": "2023-08-15T21:19:27.183473Z",
     "start_time": "2023-08-15T21:19:26.971441Z"
    }
   },
   "outputs": [],
   "source": [
    "vicinity = disk(1)\n",
    "clean_box = gaussian( binary_clean, 1.53 )\n",
    "\n",
    "plot_sections( clean_box, zoom_factor, x_c, y_c, x_lim, y_lim)"
   ]
  },
  {
   "cell_type": "code",
   "execution_count": null,
   "metadata": {
    "ExecuteTime": {
     "end_time": "2023-08-15T21:22:33.456652Z",
     "start_time": "2023-08-15T21:22:33.407923Z"
    }
   },
   "outputs": [],
   "source": [
    "clean_text = (255 * clean_box).astype( np.uint8 )\n",
    "print(f\"The array in clean_text is of type {clean_text.dtype}.\\n\")\n"
   ]
  },
  {
   "cell_type": "code",
   "execution_count": null,
   "metadata": {
    "ExecuteTime": {
     "end_time": "2023-08-15T21:23:39.361758Z",
     "start_time": "2023-08-15T21:23:39.065987Z"
    }
   },
   "outputs": [],
   "source": [
    "results = pytesseract.image_to_data( clean_text, \n",
    "                                     output_type = pytesseract.Output.DICT )\n",
    "\n",
    "\n",
    "# Confidence level <0 means that it is likely trash\n",
    "#\n",
    "print(results['conf'])\n",
    "print(results['left'])\n",
    "print(results['top'])\n",
    "print(results['text'])\n",
    "\n",
    "fig = plt.figure()\n",
    "ax = fig.add_subplot(111)\n",
    "\n",
    "ax.imshow(clean_text[:,:], cmap = 'gray')\n",
    "for i in range(len(results['text'])):\n",
    "    x = results['left'][i]\n",
    "    y = results['top'][i]\n",
    "    \n",
    "    ax.plot(x, y, 'o', markersize = '10', alpha = 0.5)\n",
    "\n",
    "    w = results['width'][i]\n",
    "    h = results['height'][i]\n",
    "\n",
    "    text = results['text'][i]\n",
    "    conf = int(results['conf'][i])\n",
    "\n",
    "    ax.hlines([y, y+h], x, x+w, color = 'g')\n",
    "    ax.vlines([x, x+w], y, y+h, color = 'g')\n",
    "    if conf >= 0: \n",
    "        ax.text(x, y-10, f\"text: {text} ({conf}%)\" )\n",
    "\n",
    "plt.show()"
   ]
  },
  {
   "cell_type": "markdown",
   "metadata": {},
   "source": [
    "**Pretty cool, right?!?!?!**"
   ]
  },
  {
   "cell_type": "markdown",
   "metadata": {
    "ExecuteTime": {
     "end_time": "2023-01-19T22:19:33.864029Z",
     "start_time": "2023-01-19T22:19:33.788736Z"
    }
   },
   "source": [
    "# Re-factoring code for denoising text_boxes\n",
    "\n"
   ]
  },
  {
   "cell_type": "code",
   "execution_count": null,
   "metadata": {
    "ExecuteTime": {
     "end_time": "2023-08-04T21:55:09.525869Z",
     "start_time": "2023-08-04T21:55:09.488857Z"
    }
   },
   "outputs": [],
   "source": []
  },
  {
   "cell_type": "code",
   "execution_count": null,
   "metadata": {
    "ExecuteTime": {
     "end_time": "2023-08-04T21:55:10.575325Z",
     "start_time": "2023-08-04T21:55:10.311639Z"
    }
   },
   "outputs": [],
   "source": []
  },
  {
   "cell_type": "code",
   "execution_count": null,
   "metadata": {},
   "outputs": [],
   "source": []
  },
  {
   "cell_type": "code",
   "execution_count": null,
   "metadata": {},
   "outputs": [],
   "source": []
  },
  {
   "cell_type": "code",
   "execution_count": null,
   "metadata": {},
   "outputs": [],
   "source": []
  },
  {
   "cell_type": "markdown",
   "metadata": {},
   "source": [
    "# Next lesson\n",
    "\n",
    "[click here](nb_06_Extract_data_from_PDFs.ipynb)"
   ]
  },
  {
   "cell_type": "code",
   "execution_count": null,
   "metadata": {},
   "outputs": [],
   "source": []
  }
 ],
 "metadata": {
  "anaconda-cloud": {},
  "kernelspec": {
   "display_name": "Python [conda env:ocr_env]",
   "language": "python",
   "name": "conda-env-ocr_env-py"
  },
  "language_info": {
   "codemirror_mode": {
    "name": "ipython",
    "version": 3
   },
   "file_extension": ".py",
   "mimetype": "text/x-python",
   "name": "python",
   "nbconvert_exporter": "python",
   "pygments_lexer": "ipython3",
   "version": "3.12.5"
  },
  "toc": {
   "base_numbering": 1,
   "nav_menu": {},
   "number_sections": true,
   "sideBar": true,
   "skip_h1_title": false,
   "title_cell": "Table of Contents",
   "title_sidebar": "Contents",
   "toc_cell": false,
   "toc_position": {
    "height": "calc(100% - 180px)",
    "left": "10px",
    "top": "150px",
    "width": "204.567px"
   },
   "toc_section_display": true,
   "toc_window_display": true
  },
  "varInspector": {
   "cols": {
    "lenName": 16,
    "lenType": 16,
    "lenVar": 40
   },
   "kernels_config": {
    "python": {
     "delete_cmd_postfix": "",
     "delete_cmd_prefix": "del ",
     "library": "var_list.py",
     "varRefreshCmd": "print(var_dic_list())"
    },
    "r": {
     "delete_cmd_postfix": ") ",
     "delete_cmd_prefix": "rm(",
     "library": "var_list.r",
     "varRefreshCmd": "cat(var_dic_list()) "
    }
   },
   "types_to_exclude": [
    "module",
    "function",
    "builtin_function_or_method",
    "instance",
    "_Feature"
   ],
   "window_display": false
  }
 },
 "nbformat": 4,
 "nbformat_minor": 4
}
