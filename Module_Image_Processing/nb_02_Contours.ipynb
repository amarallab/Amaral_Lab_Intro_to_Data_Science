{
 "cells": [
  {
   "cell_type": "markdown",
   "metadata": {},
   "source": [
    "# Synopsis\n",
    "\n",
    "So far we've covered the basics of what constitutes an image, color is encoded, and how we can manipulate it. However, when you conduct research the tasks you need to perform are typically more complex (although they always seem easy to do before you start coding!). Some examples of common tasks are:\n",
    "\n",
    "* Automatically identify regions\n",
    "* Identify the borders of said regions\n",
    "* Find bright spots/blobs\n",
    "* Skeletonize shapes (i.e. find the backbone)\n",
    "\n",
    "We'll go over some basic methods to do some of these methods using [`scikit-image`](https://scikit-image.org/). The  package is a sister to the `scikit-learn` package, both of these packages are focused on implementing machine-learning methods in Python but `scikit-image`, as you probably guessed, is geared towards algorithms that can be applied to images. \n",
    "\n",
    "`scikit-image` functions are stored in the library `skimage`."
   ]
  },
  {
   "cell_type": "markdown",
   "metadata": {},
   "source": [
    "# Read libraries"
   ]
  },
  {
   "cell_type": "code",
   "execution_count": null,
   "metadata": {
    "ExecuteTime": {
     "end_time": "2023-01-05T20:11:39.864508Z",
     "start_time": "2023-01-05T20:11:39.366013Z"
    }
   },
   "outputs": [],
   "source": [
    "%load_ext autoreload\n",
    "%autoreload 2\n",
    "%matplotlib inline\n",
    "\n",
    "from colorama import Back, Fore, Style\n",
    "from pathlib import Path\n",
    "from sys import path\n",
    "\n",
    "path.append( str(Path.cwd().parent) )\n",
    "path"
   ]
  },
  {
   "cell_type": "code",
   "execution_count": null,
   "metadata": {
    "ExecuteTime": {
     "end_time": "2023-01-05T20:11:40.465798Z",
     "start_time": "2023-01-05T20:11:40.429655Z"
    }
   },
   "outputs": [],
   "source": [
    "my_fontsize = 15"
   ]
  },
  {
   "cell_type": "code",
   "execution_count": null,
   "metadata": {
    "ExecuteTime": {
     "end_time": "2023-01-05T20:11:46.764821Z",
     "start_time": "2023-01-05T20:11:46.329568Z"
    }
   },
   "outputs": [],
   "source": [
    "import os\n",
    "\n",
    "import matplotlib as mpl\n",
    "import matplotlib.pyplot as plt\n",
    "import matplotlib.cm as cm\n",
    "import numpy as np\n",
    "\n",
    "from pylab import imread, imshow\n",
    "from skimage import data, img_as_float, measure, transform\n",
    "\n",
    "from Amaral_libraries.my_stats import half_frame"
   ]
  },
  {
   "cell_type": "markdown",
   "metadata": {},
   "source": [
    "# Identifying image foreground features\n",
    "\n",
    "One common technique researchers will want to use is identifying the edge of certain regions. This is useful in a number of contexts, such as:\n",
    "\n",
    "* Identifying the borders of cells in a microscope image\n",
    "* Finding areas in geographic areas\n",
    "\n",
    "This procedure is typically called contour finding and we can use an algorithm that is implemented in `scikit-image`."
   ]
  },
  {
   "cell_type": "code",
   "execution_count": null,
   "metadata": {
    "ExecuteTime": {
     "end_time": "2022-09-23T21:52:51.614030Z",
     "start_time": "2022-09-23T21:52:51.482885Z"
    }
   },
   "outputs": [],
   "source": [
    "coins_original = img_as_float( data.coins() )\n",
    "\n",
    "print(Style.BRIGHT, 'Shape:', Style.RESET_ALL, coins_original.shape)\n",
    "print()\n",
    "\n",
    "print(f\" Maximum in image is {coins_original.max():.3f}, minimum is \"\n",
    "      f\"{coins_original.min():.3f}.\\n\")\n",
    "\n",
    "\n",
    "imshow(coins_original, cmap = 'gray', vmin = 0, vmax = 1);\n"
   ]
  },
  {
   "cell_type": "markdown",
   "metadata": {},
   "source": [
    "## Zooming in\n",
    "\n",
    "To help us with image processing it is often useful to be able to magnify parts of an image.  The function below does exactly that for grayscale images.\n",
    "\n",
    "As an exercise, create a similar function for magnifying portions of `RGB` images."
   ]
  },
  {
   "cell_type": "code",
   "execution_count": null,
   "metadata": {
    "ExecuteTime": {
     "end_time": "2022-09-24T19:16:15.256336Z",
     "start_time": "2022-09-24T19:16:15.221952Z"
    },
    "code_folding": []
   },
   "outputs": [],
   "source": [
    "def get_slice_coordinates(x, view_side, w):\n",
    "    \"\"\"\n",
    "    This function returns the viewing coordinates along an axis\n",
    "    given a viewing center, a view width, and an image length \n",
    "    along axis.\n",
    "    \n",
    "    inputs:\n",
    "        x -- int viewing center\n",
    "        view_side -- int view width\n",
    "        w -- int image length\n",
    "        \n",
    "    returns\n",
    "        x0 -- int\n",
    "        x1 -- int\n",
    "    \"\"\"\n",
    "    \n",
    "    if int(0.5*view_side) > x:\n",
    "        x0 = 0\n",
    "        x1 = view_side\n",
    "        \n",
    "    elif int(0.5*view_side + x) >= w :\n",
    "        x1 = w\n",
    "        x0 = w - view_side\n",
    "        \n",
    "    else:\n",
    "        x0 = x - (0.5 * view_side)\n",
    "        x1 = x0 + view_side\n",
    "\n",
    "    return int(x0), int(x1)\n",
    "\n",
    "\n",
    "def flat_zoom_at(image, x, y, linear_zoom):\n",
    "    \"\"\"\n",
    "    This function zooms in on position x, y of image at a \n",
    "    magnification of linear_zoom\n",
    "    \n",
    "    inputs:\n",
    "        image -- array\n",
    "        x -- int viewing center\n",
    "        y -- int viewing center\n",
    "        linear_zoom -- int\n",
    "        \n",
    "    returns:\n",
    "        new_image -- array\n",
    "        x0 -- int view start coordinates\n",
    "        y0 -- int view start coordinates\n",
    "    \n",
    "    \"\"\"\n",
    "    h, w = image.shape\n",
    "    view_side = int( min(w, h) / linear_zoom )\n",
    "    \n",
    "    x0, x1 = get_slice_coordinates(x, view_side, w)\n",
    "    y0, y1 = get_slice_coordinates(y, view_side, h)\n",
    "        \n",
    "    new_image = transform.rescale( image[ y0 : y1, x0 : x1], linear_zoom )\n",
    "\n",
    "    return new_image, x0, y0\n",
    "    "
   ]
  },
  {
   "cell_type": "code",
   "execution_count": null,
   "metadata": {
    "ExecuteTime": {
     "end_time": "2022-09-23T22:11:20.009367Z",
     "start_time": "2022-09-23T22:11:19.781051Z"
    }
   },
   "outputs": [],
   "source": [
    "linear_zoom = 4\n",
    "x = 43\n",
    "y = 51\n",
    "new_image, x0, y0 = flat_zoom_at(coins_original, x, y, linear_zoom)\n",
    "\n",
    "fig = plt.figure( figsize = (10, 6))\n",
    "ax = []\n",
    "\n",
    "ax.append(fig.add_subplot(121))\n",
    "ax[-1].imshow( coins_original[:150, :150], cmap = 'gray', \n",
    "               vmin = 0, vmax = 1 )\n",
    "ax[-1].plot([x], [y], 'ro');\n",
    "\n",
    "ax.append(fig.add_subplot(122))\n",
    "ax[-1].imshow( new_image, cmap = 'gray', vmin = 0, vmax = 1 )\n",
    "ax[-1].plot([linear_zoom*(x-x0)], [linear_zoom*(y-y0)], 'ro');\n",
    "\n",
    "plt.tight_layout()"
   ]
  },
  {
   "cell_type": "markdown",
   "metadata": {},
   "source": [
    "## Contours\n",
    "\n",
    "Next we can use a contour finding algorithm. In `scikit-image` there is the `find_contours` algorithm that is an implementation of the [marching squares algorithm](http://users.polytech.unice.fr/~lingrand/MarchingCubes/algo.html). This algorithm constructs the image as a grid and attempts to draw lines along the edges of the squares in the grid. "
   ]
  },
  {
   "cell_type": "code",
   "execution_count": null,
   "metadata": {
    "ExecuteTime": {
     "end_time": "2022-09-23T18:35:02.334845Z",
     "start_time": "2022-09-23T18:35:02.243557Z"
    }
   },
   "outputs": [],
   "source": [
    "contours = measure.find_contours(coins_original)\n",
    "print(f\"The method .find_contours returns a {type(contours)}.\\n\"\n",
    "      f\"Each contour is an array.\\n\")\n",
    "\n",
    "print(contours[0])\n",
    "\n",
    "\n",
    "print(f\"\\n\\n--> The algorithm found {len(contours)} contours even \"\n",
    "      f\"though there\\nare only 24 coins in the image.\\n\" )\n",
    "\n",
    "\n"
   ]
  },
  {
   "cell_type": "markdown",
   "metadata": {
    "ExecuteTime": {
     "end_time": "2022-07-25T15:43:23.666970Z",
     "start_time": "2022-07-25T15:43:23.631304Z"
    }
   },
   "source": [
    "That seems a bit much...  So let us see what this did... "
   ]
  },
  {
   "cell_type": "code",
   "execution_count": null,
   "metadata": {
    "ExecuteTime": {
     "end_time": "2022-09-23T21:53:27.579924Z",
     "start_time": "2022-09-23T21:53:26.982310Z"
    }
   },
   "outputs": [],
   "source": [
    "fig = plt.figure()\n",
    "ax = fig.add_subplot(111)\n",
    "\n",
    "ax.imshow(coins_original, cmap = 'gray', vmin = 0, vmax = 1)\n",
    "\n",
    "for n, contour in enumerate(contours):\n",
    "    ax.plot(contour[:, 1], contour[:, 0], linewidth=2)\n"
   ]
  },
  {
   "cell_type": "markdown",
   "metadata": {},
   "source": [
    "**Holy &%(^&!!!!**\n",
    "\n",
    "Yes, there are some good contours there but...\n",
    "\n",
    "If you look at the image attentively, it becomes clear that the background in the top left corner is brighter than in the bottom right corner.\n",
    "\n",
    "Moreover, no contours are found in the top left corner, whereas many absurd looking contours are found in the transition region between dark and light background. \n",
    "\n",
    "The `find_countours()` function took two arguments from us: image array and a `level` parameter value. \n",
    "\n",
    "> Parameters\n",
    ">\n",
    "> ----------\n",
    ">\n",
    "> image : 2D ndarray of double\n",
    ">\n",
    ">    Input image in which to find contours.\n",
    ">\n",
    "> level : float, optional\n",
    "> \n",
    "> Value along which to find contours in the array. By default, the level\n",
    ">    is set to (max(image) + min(image)) / 2\n",
    "\n",
    "\n",
    "The `level` controls the value around which the algorithm should attempt to find the contours - this is our free parameter.  We set it to 0.2, which is not really great. \n",
    "\n",
    "But, **is there a good value?**\n",
    "\n",
    "Let's play with it."
   ]
  },
  {
   "cell_type": "code",
   "execution_count": null,
   "metadata": {
    "ExecuteTime": {
     "end_time": "2022-09-23T21:53:37.342608Z",
     "start_time": "2022-09-23T21:53:37.176241Z"
    }
   },
   "outputs": [],
   "source": [
    "#Try level from 0.2 to 0.8\n",
    "#\n",
    "level = 0.2\n",
    "minimum_contour_len = 40 \n",
    "\n",
    "fig = plt.figure()\n",
    "ax = fig.add_subplot(111)\n",
    "\n",
    "ax.imshow(coins_original, cmap = 'gray', vmin = 0, vmax = 1)\n",
    "\n",
    "contours = measure.find_contours(coins_original, level)\n",
    "for n, contour in enumerate(contours):\n",
    "    \n",
    "    # We exclude very short contours, which likely just noise\n",
    "    #\n",
    "    if len(contour) > minimum_contour_len:\n",
    "        ax.plot(contour[:, 1], contour[:, 0], linewidth=2)"
   ]
  },
  {
   "cell_type": "markdown",
   "metadata": {},
   "source": [
    "## Identifying the background\n",
    "\n",
    "Clearly, there is no good single value. The problem is that the background has different properties in different regions of the image $-$ compare background inside and outside the **very long contour**. \n",
    "\n",
    "So maybe the solution is to try to make the background uniform...\n",
    "\n",
    "But first we need to find out what the background properties are...\n"
   ]
  },
  {
   "cell_type": "code",
   "execution_count": null,
   "metadata": {
    "ExecuteTime": {
     "end_time": "2022-09-23T21:54:51.390444Z",
     "start_time": "2022-09-23T21:54:51.219905Z"
    }
   },
   "outputs": [],
   "source": [
    "w, h = coins_original.shape\n",
    "intensities = coins_original.reshape((w*h, 1)) # Make it 1D for plotting\n",
    "\n",
    "print(f\"There are {len(intensities[:,0])} pixels in the image.\\n\")\n",
    "print(f\"Their average intensity is {np.median(intensities):.3f} \"\n",
    "      f\"(theoretical maximum is 1).\\n\")\n",
    "\n",
    "fig = plt.figure(figsize = (10, 4))\n",
    "ax = fig.add_subplot(111)\n",
    "\n",
    "half_frame(ax, 'Intensity', 'Frequency', font_size = my_fontsize)\n",
    "ax.hist(intensities, bins = np.arange(0, 1, 0.02), rwidth = 0.9)\n",
    "\n",
    "ax.vlines(np.median(intensities), 0, 6000, color = 'black', lw = 4)\n",
    "\n",
    "plt.tight_layout()"
   ]
  },
  {
   "cell_type": "markdown",
   "metadata": {},
   "source": [
    "**About 50% of image is background, so we could set all values below the median intensity to zero and see what that does to the image...**\n"
   ]
  },
  {
   "cell_type": "code",
   "execution_count": null,
   "metadata": {
    "ExecuteTime": {
     "end_time": "2022-09-23T21:48:27.131953Z",
     "start_time": "2022-09-23T21:48:26.819693Z"
    }
   },
   "outputs": [],
   "source": [
    "image_mask = coins_original > np.median(intensities)\n",
    "\n",
    "fig = plt.figure(figsize = (12, 4))\n",
    "ax = []\n",
    "\n",
    "ax.append( fig.add_subplot(121) )\n",
    "ax[-1].imshow(coins_original * image_mask, cmap = 'gray', \n",
    "              vmin = 0, vmax = 1)\n",
    "\n",
    "\n",
    "ax.append( fig.add_subplot(122) )\n",
    "ax[-1].imshow(coins_original, cmap = 'gray', vmin = 0, vmax = 1)\n",
    "\n",
    "plt.tight_layout()"
   ]
  },
  {
   "cell_type": "markdown",
   "metadata": {},
   "source": [
    "It is visually apparent that some of the background is brighter than the median intensity and that some pixels within the coins are darker."
   ]
  },
  {
   "cell_type": "code",
   "execution_count": null,
   "metadata": {
    "ExecuteTime": {
     "end_time": "2022-09-23T21:57:26.204047Z",
     "start_time": "2022-09-23T21:57:25.891883Z"
    }
   },
   "outputs": [],
   "source": [
    "print(Style.BRIGHT, f\"{'Original':>20} {'With mask':>35}\", Style.RESET_ALL)\n",
    "\n",
    "fig = plt.figure( figsize = (8, 8))\n",
    "ax = []\n",
    "\n",
    "ax.append(fig.add_subplot(221))\n",
    "new_image, x0, y0 = flat_zoom_at(coins_original, 50, 50, 4)\n",
    "ax[-1].imshow(new_image, cmap = 'gray', vmin = 0, vmax = 1)\n",
    "\n",
    "ax.append(fig.add_subplot(222))\n",
    "new_image, x0, y0 = flat_zoom_at(coins_original * image_mask, 50, 50, 4)\n",
    "ax[-1].imshow(new_image, cmap = 'gray', vmin = 0, vmax = 1)\n",
    "\n",
    "ax.append(fig.add_subplot(223))\n",
    "new_image, x0, y0 = flat_zoom_at(coins_original, 200, 275, 4)\n",
    "ax[-1].imshow(new_image, cmap = 'gray', vmin = 0, vmax = 1)\n",
    "\n",
    "ax.append(fig.add_subplot(224))\n",
    "new_image, x0, y0 = flat_zoom_at(coins_original * image_mask, 200, 275, 4)\n",
    "ax[-1].imshow(new_image, cmap = 'gray', vmin = 0, vmax = 1)\n",
    "\n",
    "plt.tight_layout()"
   ]
  },
  {
   "cell_type": "markdown",
   "metadata": {},
   "source": [
    "### Backgrounds with changing properties\n",
    "\n",
    "So, it is not great that some regions insider the foreground were set to zero or that the background in the top left corner remained unchanged.\n",
    "\n",
    "A solution to this issue is to set a threshold for the background that depends on the specific region of the image"
   ]
  },
  {
   "cell_type": "code",
   "execution_count": null,
   "metadata": {
    "ExecuteTime": {
     "end_time": "2022-09-23T21:58:29.787710Z",
     "start_time": "2022-09-23T21:58:28.616190Z"
    }
   },
   "outputs": [],
   "source": [
    "# divide figure into n^2 sections\n",
    "n = 4\n",
    "\n",
    "step_x = int( (w / n) + 0.5)\n",
    "step_y = int( (h / n) + 0.5)\n",
    "section = []\n",
    "\n",
    "for i in range(n):\n",
    "    section.append([])\n",
    "    for j in range(n):\n",
    "        section[-1].append(coins_original[i*step_x:(i+1)*step_x,\n",
    "                                          j*step_y:(j+1)*step_y])\n",
    "\n",
    "for i in range(n):\n",
    "    for j in range(n):\n",
    "        w_1, h_1 = section[i][j].shape\n",
    "        section_intensities = section[i][j].reshape((w_1*h_1,1))\n",
    "        section_quantile = np.quantile(section_intensities, 0.4)\n",
    "#         print(section_intensities.shape, section_quantile)\n",
    "        mask = section[i][j] > max(0.33, section_quantile)\n",
    "        section[i][j] = section[i][j] * mask\n",
    "        imshow(section[i][j], cmap = 'gray', vmin = 0, vmax = 1)\n",
    "        plt.show()"
   ]
  },
  {
   "cell_type": "code",
   "execution_count": null,
   "metadata": {
    "ExecuteTime": {
     "end_time": "2022-09-23T21:59:16.607338Z",
     "start_time": "2022-09-23T21:59:16.475944Z"
    }
   },
   "outputs": [],
   "source": [
    "coins_filtered = []\n",
    "for i in range(n):\n",
    "    coins_filtered.append( np.concatenate(section[i][:], axis = 1) )\n",
    "                          \n",
    "coins_filtered = np.concatenate(coins_filtered, axis = 0)\n",
    "\n",
    "imshow(coins_filtered, cmap = 'gray', vmin = 0, vmax = 1);\n"
   ]
  },
  {
   "cell_type": "markdown",
   "metadata": {},
   "source": [
    "## Contour length as a clue to relevance\n",
    "\n",
    "Considering the contours identified earlier, it is clearly that not all of them are similar. Some are very small and likely are identifying similar regions within the background or regions of the foreground. Others are very long and may be related to a background with changing properties."
   ]
  },
  {
   "cell_type": "code",
   "execution_count": null,
   "metadata": {
    "ExecuteTime": {
     "end_time": "2022-09-23T22:01:14.887951Z",
     "start_time": "2022-09-23T22:01:14.634475Z"
    }
   },
   "outputs": [],
   "source": [
    "level = 0.4\n",
    "\n",
    "fig = plt.figure( figsize = (12, 6))\n",
    "ax1 = fig.add_subplot(122)\n",
    "ax2 = fig.add_subplot(121)\n",
    "\n",
    "ax1.imshow(coins_original, cmap = 'gray', vmin = 0, vmax = 1)\n",
    "ax2.imshow(coins_filtered, cmap = 'gray', vmin = 0, vmax = 1)\n",
    "\n",
    "contours = measure.find_contours(coins_filtered, level)\n",
    "clean_contours = []\n",
    "for n, contour in enumerate(contours):\n",
    "    if len(contour) > 100 and len(contour) < 500:\n",
    "        clean_contours.append(contour)\n",
    "        ax1.plot(contour[:, 1], contour[:, 0], linewidth = 1)\n",
    "        ax2.plot(contour[:, 1], contour[:, 0], linewidth = 2)\n",
    "        \n",
    "print(f\"We got {len(clean_contours)} clean contours for our 24 coins.\")"
   ]
  },
  {
   "cell_type": "markdown",
   "metadata": {},
   "source": [
    "Pretty nice, ah?\n",
    "\n",
    "## Properties of foreground features\n",
    "\n",
    "Now that we have our contours, if we could retrieve the pixels inside each of the contours we could calculate some properties of the objects inside.\n",
    "\n",
    "Fortunately, there is a function that returns a mask array for points inside a polygon (or a contour):\n",
    "\n",
    "> `measure.grid_points_in_poly`( shape, contour )\n",
    "\n"
   ]
  },
  {
   "cell_type": "code",
   "execution_count": null,
   "metadata": {
    "ExecuteTime": {
     "end_time": "2022-09-24T19:17:03.972151Z",
     "start_time": "2022-09-24T19:17:03.692421Z"
    }
   },
   "outputs": [],
   "source": [
    "contour_mask = measure.grid_points_in_poly( coins_original.shape, \n",
    "                                            clean_contours[0] )\n",
    "\n",
    "masked_coin = coins_original * contour_mask\n",
    "new_image2, x0, y0 = flat_zoom_at(masked_coin, 330, 45, 4)\n",
    "\n",
    "fig = plt.figure( figsize = (12, 6))\n",
    "ax = []\n",
    "\n",
    "ax.append( fig.add_subplot(121) )\n",
    "ax[-1].imshow( masked_coin, cmap = 'gray', vmin = 0, vmax = 1 )\n",
    "\n",
    "ax.append( fig.add_subplot(122) )\n",
    "ax[-1].imshow( new_image2, cmap = 'gray', vmin = 0, vmax = 1 )\n",
    "\n",
    "plt.tight_layout()"
   ]
  },
  {
   "cell_type": "markdown",
   "metadata": {},
   "source": [
    "By counting the number of values that are `True` in the mask, we can determine the area of our object.\n",
    "\n",
    "We can also extract the intensities of the image inside the contour and find their distribution.\n"
   ]
  },
  {
   "cell_type": "code",
   "execution_count": null,
   "metadata": {
    "ExecuteTime": {
     "end_time": "2022-09-23T22:15:20.791725Z",
     "start_time": "2022-09-23T22:15:20.431475Z"
    }
   },
   "outputs": [],
   "source": [
    "area = sum( contour_mask.reshape((w*h, 1)) )\n",
    "print(f\"The area inside the contour is {area[0]} pixels.\\n\" )\n",
    "\n",
    "intensities = list( (masked_coin).reshape((w*h, 1)) )\n",
    "intensities = np.array( [x for x in intensities if x > 0] )\n",
    "\n",
    "fig = plt.figure(figsize = (12, 4))\n",
    "ax = fig.add_subplot(111)\n",
    "\n",
    "half_frame(ax, 'Intensity', 'Frequency', font_size = my_fontsize)\n",
    "ax.hist(intensities, bins = np.arange(0, 1, 0.02), rwidth = 0.9)\n",
    "ax.set_xlim(0, 1)\n",
    "\n",
    "ax.vlines(np.median(intensities), 0, 300, color = 'black', lw = 4)\n",
    "\n",
    "plt.tight_layout()"
   ]
  },
  {
   "cell_type": "markdown",
   "metadata": {},
   "source": [
    "# Identifying cells in microscopy images\n",
    "\n",
    "\n",
    "Microscopy offers incredible windows into biological systems at the cellular and molecular level.  To experience this wonderful world, we will look at images of cells on plates from Cell Image Library.\n",
    "\n",
    "We will write code to identify the contour of the cells, and then measure how well our code performs."
   ]
  },
  {
   "cell_type": "code",
   "execution_count": null,
   "metadata": {
    "ExecuteTime": {
     "end_time": "2022-09-23T22:19:10.191335Z",
     "start_time": "2022-09-23T22:19:10.161592Z"
    }
   },
   "outputs": [],
   "source": [
    "cells_folder = Path.cwd() / 'Data' / 'Cell_images' / 'BBBC022_v1_images_20585w1'\n",
    "os.listdir(cells_folder)"
   ]
  },
  {
   "cell_type": "code",
   "execution_count": null,
   "metadata": {
    "ExecuteTime": {
     "end_time": "2022-09-23T22:19:22.786595Z",
     "start_time": "2022-09-23T22:19:22.660763Z"
    }
   },
   "outputs": [],
   "source": [
    "cell_images = list( cells_folder.glob('*') )\n",
    "print(len(cell_images))\n",
    "print()\n",
    "\n",
    "plate_1 = imread(cell_images[1])\n",
    "print(f\"Image has shape {plate_1.shape}.\\n\")\n",
    "      \n",
    "imshow(plate_1, cmap = 'gray')\n",
    "plt.show()"
   ]
  },
  {
   "cell_type": "markdown",
   "metadata": {},
   "source": [
    "This image is actually nicer than the one with the coins.  The background appears to be much more uniform and more distinct from the foreground.\n",
    "\n",
    "## Function for calculating histogram of intensities\n",
    "\n",
    "Let's put the code that calculates the distribution of intensities in a picture into a function and use it to generate histograms for all cell plates.\n"
   ]
  },
  {
   "cell_type": "code",
   "execution_count": null,
   "metadata": {},
   "outputs": [],
   "source": []
  },
  {
   "cell_type": "markdown",
   "metadata": {},
   "source": [
    "## Functions for identifying relevant contours\n",
    "\n",
    "Re-write some of the code above in order to identify the contours of the cells in the plates.  Does the code need to be different based on whether the background is uniform or not?"
   ]
  },
  {
   "cell_type": "code",
   "execution_count": null,
   "metadata": {},
   "outputs": [],
   "source": []
  },
  {
   "cell_type": "markdown",
   "metadata": {},
   "source": [
    "## Functions for calculating properties of the cells\n",
    "\n",
    "Write functions that generate a mask for the pixels within a contour.\n",
    "\n",
    "Write a function that calculates the total number of pixels within a contour.\n",
    "\n",
    "Write a function that calculates and histogram of the intensities within a contour and descriptive statistics of those values. \n"
   ]
  },
  {
   "cell_type": "code",
   "execution_count": null,
   "metadata": {},
   "outputs": [],
   "source": []
  },
  {
   "cell_type": "code",
   "execution_count": null,
   "metadata": {},
   "outputs": [],
   "source": []
  },
  {
   "cell_type": "code",
   "execution_count": null,
   "metadata": {},
   "outputs": [],
   "source": []
  },
  {
   "cell_type": "code",
   "execution_count": null,
   "metadata": {},
   "outputs": [],
   "source": []
  }
 ],
 "metadata": {
  "anaconda-cloud": {},
  "kernelspec": {
   "display_name": "base",
   "language": "python",
   "name": "base"
  },
  "language_info": {
   "codemirror_mode": {
    "name": "ipython",
    "version": 3
   },
   "file_extension": ".py",
   "mimetype": "text/x-python",
   "name": "python",
   "nbconvert_exporter": "python",
   "pygments_lexer": "ipython3",
   "version": "3.9.12"
  },
  "toc": {
   "base_numbering": 1,
   "nav_menu": {},
   "number_sections": true,
   "sideBar": true,
   "skip_h1_title": false,
   "title_cell": "Table of Contents",
   "title_sidebar": "Contents",
   "toc_cell": false,
   "toc_position": {
    "height": "calc(100% - 180px)",
    "left": "10px",
    "top": "150px",
    "width": "204.567px"
   },
   "toc_section_display": true,
   "toc_window_display": true
  },
  "varInspector": {
   "cols": {
    "lenName": 16,
    "lenType": 16,
    "lenVar": 40
   },
   "kernels_config": {
    "python": {
     "delete_cmd_postfix": "",
     "delete_cmd_prefix": "del ",
     "library": "var_list.py",
     "varRefreshCmd": "print(var_dic_list())"
    },
    "r": {
     "delete_cmd_postfix": ") ",
     "delete_cmd_prefix": "rm(",
     "library": "var_list.r",
     "varRefreshCmd": "cat(var_dic_list()) "
    }
   },
   "types_to_exclude": [
    "module",
    "function",
    "builtin_function_or_method",
    "instance",
    "_Feature"
   ],
   "window_display": false
  }
 },
 "nbformat": 4,
 "nbformat_minor": 1
}
