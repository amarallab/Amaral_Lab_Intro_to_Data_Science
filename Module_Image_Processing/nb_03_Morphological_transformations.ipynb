{
 "cells": [
  {
   "cell_type": "markdown",
   "id": "5cbd28ad",
   "metadata": {},
   "source": [
    "# Synopsis\n",
    "\n",
    "In the previous notebooks, we learned how to take advantage of the fact that images are ingested as `numpy` arrays to perform some analysis and processing of images.\n",
    "\n",
    "Are you seeing why image processing requires `GPUs` and potentially heavy calculations? Yes, matrix operations.  \n",
    "In this notebook, we will continue to play with our coins, but towards the end we will do some science.\n",
    "\n",
    "\n",
    "## Authors\n",
    "\n",
    "> Helio Tejedor\n",
    ">\n",
    "> Luis Amaral\n",
    "\n",
    "## Words to remember\n",
    "\n",
    "**Memory usage**\n",
    "\n",
    "**Dilation**\n",
    "\n",
    "**Erosion**\n",
    "\n",
    "**Flood fill**\n",
    "\n",
    "**Skeletonization**\n",
    "\n"
   ]
  },
  {
   "cell_type": "markdown",
   "id": "c5759d7d",
   "metadata": {},
   "source": [
    "# Read libraries"
   ]
  },
  {
   "cell_type": "code",
   "execution_count": null,
   "id": "48d240a5",
   "metadata": {
    "ExecuteTime": {
     "end_time": "2023-01-16T23:11:40.519577Z",
     "start_time": "2023-01-16T23:11:40.455254Z"
    }
   },
   "outputs": [],
   "source": [
    "%load_ext autoreload\n",
    "%autoreload 2\n",
    "%matplotlib inline\n",
    "\n",
    "from colorama import Back, Fore, Style\n",
    "from pathlib import Path\n",
    "path.append( str(Path.cwd().parent) )\n",
    "path"
   ]
  },
  {
   "cell_type": "code",
   "execution_count": null,
   "id": "2c9e369c",
   "metadata": {
    "ExecuteTime": {
     "end_time": "2023-01-13T23:31:56.216614Z",
     "start_time": "2023-01-13T23:31:56.173245Z"
    }
   },
   "outputs": [],
   "source": [
    "my_fontsize = 15"
   ]
  },
  {
   "cell_type": "code",
   "execution_count": null,
   "id": "dc208220",
   "metadata": {
    "ExecuteTime": {
     "end_time": "2023-01-13T19:26:12.820585Z",
     "start_time": "2023-01-13T19:26:12.772348Z"
    }
   },
   "outputs": [],
   "source": [
    "import os\n",
    "\n",
    "import matplotlib as mpl\n",
    "import matplotlib.pyplot as plt\n",
    "import matplotlib.cm as cm\n",
    "import numpy as np\n",
    "\n",
    "from sys import path, getsizeof\n",
    "from pylab import imread, imshow\n",
    "from skimage import data, img_as_float, img_as_ubyte, measure\n",
    "from skimage.filters import rank, threshold_otsu\n",
    "from skimage.morphology import (\n",
    "    disk, \n",
    "    binary_dilation, binary_erosion, binary_closing, binary_opening,\n",
    "    remove_small_holes, remove_small_objects,\n",
    "    flood_fill,\n",
    "    skeletonize\n",
    ")\n",
    "\n",
    "from Amaral_libraries.my_stats import place_commas"
   ]
  },
  {
   "cell_type": "markdown",
   "id": "c3529657",
   "metadata": {},
   "source": [
    "# Awareness of memory needs \n",
    "\n",
    "In the previous notebook, we loaded our figures without worrying about the format in which we were getting it. Since we were dealing with only a single image, and not a very large one at that, we did not need to discuss memory needs. However, when doing heavy imaging processing, memory needs may become a concern.\n",
    "\n",
    "Let goes over a couple of steps described earlier and the implications for memory usage of our choices.\n"
   ]
  },
  {
   "cell_type": "code",
   "execution_count": null,
   "id": "6b6f7cae",
   "metadata": {
    "ExecuteTime": {
     "end_time": "2023-01-17T18:13:56.733116Z",
     "start_time": "2023-01-17T18:13:56.676485Z"
    }
   },
   "outputs": [],
   "source": [
    "coins = data.coins().astype( np.uint8 )\n",
    "coins_int = data.coins().astype( int )\n",
    "coins_float = data.coins().astype( float )\n"
   ]
  },
  {
   "cell_type": "code",
   "execution_count": null,
   "id": "c7c53c10",
   "metadata": {
    "ExecuteTime": {
     "end_time": "2023-01-17T18:13:57.967956Z",
     "start_time": "2023-01-17T18:13:57.682763Z"
    }
   },
   "outputs": [],
   "source": [
    "fig = plt.figure( figsize=(12, 10) )\n",
    "ax = []\n",
    "\n",
    "for i, im in enumerate([coins, coins_int, coins_float]):\n",
    "    ax.append(fig.add_subplot(1,3,i+1))\n",
    "    ax[-1].imshow(im, cmap = 'gray')\n",
    "    line = f\"Memory use: {place_commas(getsizeof(im))} B\"\n",
    "    ax[-1].text( 35, -10, line, fontsize = my_fontsize )\n",
    "    \n",
    "plt.tight_layout()\n"
   ]
  },
  {
   "cell_type": "markdown",
   "id": "a73a3a94",
   "metadata": {},
   "source": [
    "Applying the threshold filter (line 2 above) yields an array of Boolean values, but we can transform\n",
    "it easily to the integer values (either 0 or 1). Using the least memory expensive `int` type in `numpy`, we get:"
   ]
  },
  {
   "cell_type": "code",
   "execution_count": null,
   "id": "fa9045e8",
   "metadata": {
    "ExecuteTime": {
     "end_time": "2023-01-17T18:13:02.130529Z",
     "start_time": "2023-01-17T18:13:02.089474Z"
    }
   },
   "outputs": [],
   "source": [
    "coins"
   ]
  },
  {
   "cell_type": "code",
   "execution_count": null,
   "id": "cf3f260f",
   "metadata": {
    "ExecuteTime": {
     "end_time": "2023-01-17T18:13:26.067215Z",
     "start_time": "2023-01-17T18:13:26.016122Z"
    }
   },
   "outputs": [],
   "source": [
    "coins_int"
   ]
  },
  {
   "cell_type": "code",
   "execution_count": null,
   "id": "970c0bdf",
   "metadata": {
    "ExecuteTime": {
     "end_time": "2023-01-17T18:13:16.143020Z",
     "start_time": "2023-01-17T18:13:16.092464Z"
    }
   },
   "outputs": [],
   "source": [
    "coins_float"
   ]
  },
  {
   "cell_type": "markdown",
   "id": "b9600385",
   "metadata": {},
   "source": [
    "<br>\n",
    "\n",
    "When printing, the `int` and `uint8` formats look identical, and the `float` format looks different.  However, `uint8` uses a single byte to store each value, whereas the others use 4 bytes.\n",
    "\n",
    "**What is the implication of this transformation?**\n",
    "\n",
    "When considering the typical photos taken by smartphones, now around 4096 x 3072, it makes a difference:\n",
    "\n",
    "> Using single bytes, image requires is 12 MB\n",
    ">\n",
    "> Using ints, image requires 96 MB\n",
    "\n",
    "If you have a stack of images from a confocal microscope (let's say 32 images):\n",
    "\n",
    "> Using single bytes requires 384 MB\n",
    ">\n",
    "> Using ints requires 3 GB\n",
    "\n",
    "Now, imagine that you are analyzing a video that contains tens of thousands to millions of frames.\n",
    "\n",
    "> **TAKING MEMORY USAGE INTO CONSIDERATION IS CRITICAL!**\n"
   ]
  },
  {
   "cell_type": "markdown",
   "id": "8a13c0ee",
   "metadata": {},
   "source": [
    "# Dilation and erosion\n",
    "\n",
    "As you recall from the previous notebook, Otsu's algorithm works quite well..."
   ]
  },
  {
   "cell_type": "code",
   "execution_count": null,
   "id": "13f0453d",
   "metadata": {
    "ExecuteTime": {
     "end_time": "2023-01-17T21:10:39.652464Z",
     "start_time": "2023-01-17T21:10:39.362162Z"
    }
   },
   "outputs": [],
   "source": [
    "radius = 30\n",
    "vicinity = disk(radius)\n",
    "\n",
    "\n",
    "fig = plt.figure( figsize = (10, 8))\n",
    "\n",
    "plt.subplot(121)\n",
    "plt.imshow(coins, cmap=\"gray\")\n",
    "\n",
    "plt.subplot(122)\n",
    "local_threshold = rank.otsu(coins, vicinity)\n",
    "foregound_mask = coins > local_threshold\n",
    "plt.imshow(foregound_mask, cmap=\"gray\")\n",
    "\n",
    "plt.tight_layout()\n"
   ]
  },
  {
   "cell_type": "markdown",
   "id": "1810bfb4",
   "metadata": {},
   "source": [
    "<br>\n",
    "\n",
    "However, you can see that our foreground mask includes some some spots outside the true foreground, and excludes some spots within the foreground.\n",
    "\n",
    "This is more visible if we zoom on the bottom left corner of the image. The slicing recipe for this is:\n",
    "\n",
    "> [220:, :85] .\n",
    "\n",
    "For the 2 coin from the right in the top row, the slicing recipe is: \n",
    "\n",
    ">[25:85, 244:305] .\n",
    "\n",
    "Change the slicing recipe to check how these transformation would work for the other coin."
   ]
  },
  {
   "cell_type": "code",
   "execution_count": null,
   "id": "d4201315",
   "metadata": {
    "ExecuteTime": {
     "end_time": "2023-01-17T21:17:55.459384Z",
     "start_time": "2023-01-17T21:17:55.227986Z"
    }
   },
   "outputs": [],
   "source": [
    "im_selection = coins[220:, :85]\n",
    "mask_selection = foregound_mask[220:, :85]\n",
    "\n",
    "fig = plt.figure( figsize = (10, 10) )\n",
    "ax = []\n",
    "\n",
    "ax.append(fig.add_subplot(121))\n",
    "ax[-1].imshow(im_selection, cmap = 'gray')\n",
    "\n",
    "ax.append(fig.add_subplot(122))\n",
    "ax[-1].imshow(mask_selection, cmap = 'gray')\n",
    "\n",
    "plt.tight_layout()\n"
   ]
  },
  {
   "cell_type": "markdown",
   "id": "c638bc5c",
   "metadata": {},
   "source": [
    "We are going to make use of two important transformations that can help denoise an image. They are called  **dilation** and **erosion**.\n",
    "\n",
    "> **dilation** applies a structuring pattern $-$ a disk or a square $-$  to all pixels in the image that belong to the foreground. This action will *dilate* the foreground. \n",
    ">  \n",
    "> **erosion** also applies a structuring pattern but now to all pixels in the image that belong to the background. This action will *dilate* the background and thus *erode* the foreground. \n",
    "  \n",
    "Let's see how dilation and erosion alter the foreground mask."
   ]
  },
  {
   "cell_type": "code",
   "execution_count": null,
   "id": "dac21a33",
   "metadata": {
    "ExecuteTime": {
     "end_time": "2023-01-17T21:17:56.803977Z",
     "start_time": "2023-01-17T21:17:56.765973Z"
    }
   },
   "outputs": [],
   "source": [
    "contours = measure.find_contours(mask_selection)\n",
    "pattern = disk(3) "
   ]
  },
  {
   "cell_type": "code",
   "execution_count": null,
   "id": "ebf4a785",
   "metadata": {
    "ExecuteTime": {
     "end_time": "2023-01-17T21:17:57.590944Z",
     "start_time": "2023-01-17T21:17:57.327581Z"
    }
   },
   "outputs": [],
   "source": [
    "fig = plt.figure( figsize = (10, 10) )\n",
    "ax = []\n",
    "\n",
    "ax.append(fig.add_subplot(131))\n",
    "ax[-1].text(30, -5, 'Dilation', fontsize = my_fontsize)\n",
    "dilated_mask = binary_dilation(mask_selection, pattern)\n",
    "ax[-1].imshow(dilated_mask, cmap = 'gray')\n",
    "for n, contour in enumerate(contours):\n",
    "    if len(contour) > 100 :\n",
    "        ax[-1].plot( contour[:, 1], contour[:, 0], linewidth=2, \n",
    "                     color = 'orange' )\n",
    "\n",
    "\n",
    "ax.append(fig.add_subplot(132))\n",
    "ax[-1].text(30, -5, 'Original', fontsize = my_fontsize)\n",
    "ax[-1].imshow(mask_selection, cmap = 'gray')\n",
    "for n, contour in enumerate(contours):\n",
    "    if len(contour) > 100 :\n",
    "        ax[-1].plot( contour[:, 1], contour[:, 0], linewidth=2,\n",
    "                     color = 'orange' )\n",
    "\n",
    "\n",
    "ax.append(fig.add_subplot(133))\n",
    "ax[-1].text(30, -5, 'Erosion', fontsize = my_fontsize)\n",
    "eroded_mask = binary_erosion(mask_selection, pattern)\n",
    "ax[-1].imshow(eroded_mask, cmap = 'gray')\n",
    "for n, contour in enumerate(contours):\n",
    "    if len(contour) > 100 :\n",
    "        ax[-1].plot( contour[:, 1], contour[:, 0], linewidth=2, \n",
    "                     color = 'orange' )\n",
    "        \n",
    "plt.tight_layout()\n"
   ]
  },
  {
   "cell_type": "markdown",
   "id": "769e4d9c",
   "metadata": {},
   "source": [
    "Cool! \n",
    "\n",
    "With **dilation** (left panel), we see that the black spots inside the coin were obliterated but, conversely, the spots outside expanded.\n",
    "\n",
    "And the foreground now extends beyond the coin.\n",
    "\n",
    "With **erosion** (right panel), we see that the black spots inside the coin were obliterated but, conversely, the spots inside expanded.\n",
    "\n",
    "And the background now extends into the coin.\n",
    "\n",
    "As the phrasing we used above suggests, dilation and erosion are kind of complementary operations (a bit like multiplication and division).  It may be that using them one after the other will yield the best results...\n"
   ]
  },
  {
   "cell_type": "markdown",
   "id": "dfda3aa3",
   "metadata": {},
   "source": [
    "Ok, now we solved the top right corner pixel problem, but the others... got worst!\n",
    "\n",
    "Also, the coin reduced its area.\n",
    "\n",
    "Well, it seems that we solved one problem when one algorithm is applied... could\n",
    "the second problem be solved if we applying the other algorithm? It seems both are\n",
    "a kind of complementary, isn't it?\n",
    "\n",
    "## Chaining erosions and dilations"
   ]
  },
  {
   "cell_type": "code",
   "execution_count": null,
   "id": "fe72bfd6",
   "metadata": {
    "ExecuteTime": {
     "end_time": "2023-01-17T21:17:59.164115Z",
     "start_time": "2023-01-17T21:17:58.900263Z"
    }
   },
   "outputs": [],
   "source": [
    "fig = plt.figure( figsize = (10, 10) )\n",
    "ax = []\n",
    "\n",
    "ax.append(fig.add_subplot(131))\n",
    "ax[-1].text(10, -5, 'Dilation then Erosion', fontsize = my_fontsize)\n",
    "mask_1 = binary_erosion( binary_dilation(mask_selection, pattern), pattern )\n",
    "ax[-1].imshow(mask_1, cmap = 'gray')\n",
    "for n, contour in enumerate(contours):\n",
    "    if len(contour) > 100 :\n",
    "        ax[-1].plot( contour[:, 1], contour[:, 0], linewidth=2, \n",
    "                     color = 'orange' )\n",
    "\n",
    "\n",
    "ax.append(fig.add_subplot(132))\n",
    "ax[-1].text(30, -5, 'Original', fontsize = my_fontsize)\n",
    "ax[-1].imshow(mask_selection, cmap = 'gray')\n",
    "for n, contour in enumerate(contours):\n",
    "    if len(contour) > 100 :\n",
    "        ax[-1].plot( contour[:, 1], contour[:, 0], linewidth=2,\n",
    "                     color = 'orange' )\n",
    "\n",
    "\n",
    "ax.append(fig.add_subplot(133))\n",
    "ax[-1].text(10, -5, 'Erosion then Dilation', fontsize = my_fontsize)\n",
    "mask_2 = binary_dilation( binary_erosion(mask_selection, pattern), pattern )\n",
    "ax[-1].imshow(mask_2, cmap = 'gray')\n",
    "for n, contour in enumerate(contours):\n",
    "    if len(contour) > 100 :\n",
    "        ax[-1].plot( contour[:, 1], contour[:, 0], linewidth=2, \n",
    "                     color = 'orange' )\n",
    "        \n",
    "plt.tight_layout()"
   ]
  },
  {
   "cell_type": "markdown",
   "id": "f8464c2b",
   "metadata": {},
   "source": [
    "**We are getting close to a good solution!!!**\n",
    "\n",
    "Dilating then eroding really solves all the issues within the foreground.  The background spots inside the foreground are removed and the overall size of the foreground is left unchanged.\n",
    "\n",
    "Eroding then dilating really solves all the issues outside the foreground. The foreground spots inside the background are removed and the overall size of the foreground is left unchanged.\n",
    "\n",
    "**Isn't it interesting that the two operations do no commute?**  That is matrix operations for you.\n",
    "\n",
    "<br>\n",
    "\n",
    "\n",
    "## Opening and closing\n",
    "\n",
    "How to solve the remaining issues left over by the two approaches?\n",
    "\n",
    "The two approaches are so important that they were even named!\n",
    "\n",
    "> an erosion followed by a dilation is denoted an **opening**\n",
    ">\n",
    "> a dilation followed by erosion is denoted a **closing**\n",
    "\n",
    "What if we first **open** and then **close**?\n"
   ]
  },
  {
   "cell_type": "code",
   "execution_count": null,
   "id": "10fda826",
   "metadata": {
    "ExecuteTime": {
     "end_time": "2023-01-17T21:20:02.797786Z",
     "start_time": "2023-01-17T21:20:02.531844Z"
    }
   },
   "outputs": [],
   "source": [
    "fig = plt.figure( figsize = (10, 10) )\n",
    "ax = []\n",
    "\n",
    "ax.append(fig.add_subplot(131))\n",
    "ax[-1].text(5, -5, 'Closing after Opening', fontsize = my_fontsize)\n",
    "mask_1 = binary_closing( binary_opening(mask_selection, pattern), pattern )\n",
    "ax[-1].imshow(mask_1, cmap = 'gray')\n",
    "for n, contour in enumerate(contours):\n",
    "    if len(contour) > 100 :\n",
    "        ax[-1].plot( contour[:, 1], contour[:, 0], linewidth=2, \n",
    "                     color = 'orange' )\n",
    "\n",
    "\n",
    "ax.append(fig.add_subplot(132))\n",
    "ax[-1].text(30, -5, 'Original', fontsize = my_fontsize)\n",
    "ax[-1].imshow(mask_selection, cmap = 'gray')\n",
    "for n, contour in enumerate(contours):\n",
    "    if len(contour) > 100 :\n",
    "        ax[-1].plot( contour[:, 1], contour[:, 0], linewidth=2,\n",
    "                     color = 'orange' )\n",
    "\n",
    "\n",
    "ax.append(fig.add_subplot(133))\n",
    "ax[-1].text(5, -5, 'Opening after Closing', fontsize = my_fontsize)\n",
    "mask_2 = binary_opening( binary_closing(mask_selection, pattern), pattern )\n",
    "ax[-1].imshow(mask_2, cmap = 'gray')\n",
    "for n, contour in enumerate(contours):\n",
    "    if len(contour) > 100 :\n",
    "        ax[-1].plot( contour[:, 1], contour[:, 0], linewidth=2, \n",
    "                     color = 'orange' )\n",
    "        \n",
    "plt.tight_layout()"
   ]
  },
  {
   "cell_type": "markdown",
   "id": "72620a7d",
   "metadata": {},
   "source": [
    "Actually it seems that **opening after closing** is the way to go...\n",
    "\n",
    "\n",
    "> **Exploration:** \n",
    ">\n",
    "> > Subtract the eroded image from the original, \n",
    "> >\n",
    "> > Subtract the dilated image from the original, \n",
    "> >\n",
    "> > Subtract the dilated image from the eroded image. \n",
    ">\n",
    "> What do you expect to get in return?"
   ]
  },
  {
   "cell_type": "markdown",
   "id": "7fc0bfad",
   "metadata": {},
   "source": [
    "# Other morphology operations\n",
    "\n",
    "Erosion, dilations and their chaining are not the only morphology operations that we can apply to images.  In fact there are other operations that are better suited to closing 'holes' or removing 'specks'.\n",
    "\n",
    "Let's look at couple of them."
   ]
  },
  {
   "cell_type": "markdown",
   "id": "8a171466",
   "metadata": {},
   "source": [
    "## `.remove_small_holes` and `.remove_small_objects`"
   ]
  },
  {
   "cell_type": "code",
   "execution_count": null,
   "id": "870096d4",
   "metadata": {
    "ExecuteTime": {
     "end_time": "2023-01-17T21:32:04.455061Z",
     "start_time": "2023-01-17T21:32:04.406257Z"
    }
   },
   "outputs": [],
   "source": [
    "#help(remove_small_holes)\n",
    "help(remove_small_objects)"
   ]
  },
  {
   "cell_type": "code",
   "execution_count": null,
   "id": "a5d3499a",
   "metadata": {
    "ExecuteTime": {
     "end_time": "2023-01-17T21:34:06.851117Z",
     "start_time": "2023-01-17T21:34:06.596847Z"
    }
   },
   "outputs": [],
   "source": [
    "fig = plt.figure( figsize = (10, 10) )\n",
    "ax = []\n",
    "\n",
    "ax.append(fig.add_subplot(131))\n",
    "ax[-1].text(10, -5, 'remove_small_holes', fontsize = my_fontsize)\n",
    "mask_1 = remove_small_holes( mask_selection )\n",
    "ax[-1].imshow(mask_1, cmap = 'gray')\n",
    "for n, contour in enumerate(contours):\n",
    "    if len(contour) > 100 :\n",
    "        ax[-1].plot( contour[:, 1], contour[:, 0], linewidth=2, \n",
    "                     color = 'orange' )\n",
    "\n",
    "\n",
    "ax.append(fig.add_subplot(132))\n",
    "ax[-1].text(30, -5, 'Original', fontsize = my_fontsize)\n",
    "ax[-1].imshow(mask_selection, cmap = 'gray')\n",
    "for n, contour in enumerate(contours):\n",
    "    if len(contour) > 100 :\n",
    "        ax[-1].plot( contour[:, 1], contour[:, 0], linewidth=2,\n",
    "                     color = 'orange' )\n",
    "\n",
    "\n",
    "ax.append(fig.add_subplot(133))\n",
    "ax[-1].text(5, -5, 'remove_small_objects', fontsize = my_fontsize)\n",
    "mask_2 = remove_small_objects( mask_selection )\n",
    "ax[-1].imshow(mask_2, cmap = 'gray')\n",
    "for n, contour in enumerate(contours):\n",
    "    if len(contour) > 100 :\n",
    "        ax[-1].plot( contour[:, 1], contour[:, 0], linewidth=2, \n",
    "                     color = 'orange' )\n",
    "        \n",
    "plt.tight_layout()"
   ]
  },
  {
   "cell_type": "code",
   "execution_count": null,
   "id": "c9e7732d",
   "metadata": {
    "ExecuteTime": {
     "end_time": "2023-01-17T21:38:36.360892Z",
     "start_time": "2023-01-17T21:38:36.164941Z"
    }
   },
   "outputs": [],
   "source": [
    "fig = plt.figure( figsize = (10, 10) )\n",
    "ax = []\n",
    "\n",
    "ax.append(fig.add_subplot(121))\n",
    "ax[-1].text(15, -5, 'holes after objects', fontsize = my_fontsize)\n",
    "mask_1 = remove_small_holes( remove_small_objects( mask_selection ) )\n",
    "ax[-1].imshow(mask_1, cmap = 'gray')\n",
    "for n, contour in enumerate(contours):\n",
    "    if len(contour) > 100 :\n",
    "        ax[-1].plot( contour[:, 1], contour[:, 0], linewidth=2, \n",
    "                     color = 'orange' )\n",
    "        \n",
    "ax.append(fig.add_subplot(122))\n",
    "ax[-1].text(15, -5, 'objects after holes', fontsize = my_fontsize)   \n",
    "mask_2 = remove_small_objects( remove_small_holes( mask_selection ) )\n",
    "plt.imshow(mask_2, cmap = 'gray')\n",
    "for n, contour in enumerate(contours):\n",
    "    if len(contour) > 100 :\n",
    "        plt.plot( contour[:, 1], contour[:, 0], linewidth=2, \n",
    "                     color = 'orange' )"
   ]
  },
  {
   "cell_type": "markdown",
   "id": "6c232c84",
   "metadata": {},
   "source": [
    "## `.flood_fill`\n",
    "\n",
    "A operation that you likely are familiar from image processing software such as `Gimp` is the `bucket tool`.  When you click with it on some pixel, it will change the color of all other pixels with the same color connected to it. \n",
    "\n",
    "`flood_fill` is the name of the function that provides that functionality in `skimage`. It takes a `seed pixel` that it uses to define a connected cluster of pixels with identical properties. \n"
   ]
  },
  {
   "cell_type": "code",
   "execution_count": null,
   "id": "409f89c1",
   "metadata": {
    "ExecuteTime": {
     "end_time": "2023-01-17T21:54:30.055746Z",
     "start_time": "2023-01-17T21:54:29.821589Z"
    }
   },
   "outputs": [],
   "source": [
    "simple_im = np.zeros((20, 20), dtype=np.uint8)\n",
    "simple_im[:, 10] = 4\n",
    "simple_im[10, :] = 4\n",
    "simple_im[10, 15] = 0\n",
    "simple_im[15, 10] = 0\n",
    "simple_im[15:, 15:] = 1\n",
    "\n",
    "fig = plt.figure( figsize = (10, 10) )\n",
    "ax = []\n",
    "\n",
    "ax.append(fig.add_subplot(131))\n",
    "ax[-1].imshow( simple_im, cmap = \"gray\", vmin = 0, vmax = 4 )\n",
    "\n",
    "ax.append(fig.add_subplot(132))\n",
    "ax[-1].imshow( flood_fill(simple_im, (5, 5), 2), cmap = \"gray\", \n",
    "               vmin = 0, vmax = 4 )\n",
    "\n",
    "ax.append(fig.add_subplot(133))\n",
    "ax[-1].imshow( flood_fill(simple_im, (5, 15), 3), cmap = \"gray\", \n",
    "               vmin = 0, vmax = 4 )\n",
    "\n",
    "plt.tight_layout()\n"
   ]
  },
  {
   "cell_type": "markdown",
   "id": "4601228e",
   "metadata": {},
   "source": [
    "## `skeletonization`\n",
    "\n",
    "Another powerful algorithm is `skeletonization`.  It eats away at blobs until they are a single pixel wide. Since our coins are quite round, `skeletonization` would return a single point.  For this reason, it makes sense to consider some object that is less rotationally invariant.\n",
    "\n",
    "Fortunately, science comes to the rescue.  The little roundworm [*Caenorhabditis elegans*](https://en.wikipedia.org/wiki/Caenorhabditis_elegans).\n",
    "\n",
    "<img src = 'Images/caenorhabditis-elegans.png' width = '800'>\n",
    "\n",
    "[Source](https://www.researchgate.net/publication/273324033/figure/fig1/AS:601675555430449@1520462039878/The-free-living-nematode-Caenorhabditis-elegans-1-mm-long-grows-on-an-agar-plate.png)\n",
    "\n",
    "<img src = 'Images/crawling_c_elegans.gif' width = '300'>\n",
    "\n",
    "[Source](https://upload.wikimedia.org/wikipedia/commons/b/be/CrawlingCelegans.gif)\n"
   ]
  },
  {
   "cell_type": "code",
   "execution_count": null,
   "id": "8315544d",
   "metadata": {
    "ExecuteTime": {
     "end_time": "2023-01-17T22:24:26.061706Z",
     "start_time": "2023-01-17T22:24:25.977566Z"
    }
   },
   "outputs": [],
   "source": [
    "filename = Path.cwd() / 'Data' / 'celegans-frame.png'\n",
    "celegans_frame = imread(celegans_frame_filename)\n",
    "\n",
    "intens_max = celegans_frame.max()\n",
    "intens_min = celegans_frame.min()\n",
    "\n",
    "print(f\"Size of image is {place_commas(getsizeof(celegans_frame))} B.\")\n",
    "\n",
    "celegans_frame"
   ]
  },
  {
   "cell_type": "markdown",
   "id": "d559583b",
   "metadata": {},
   "source": [
    "We can reduce image size by casting as `np.float16`..."
   ]
  },
  {
   "cell_type": "code",
   "execution_count": null,
   "id": "e2dd0ab4",
   "metadata": {
    "ExecuteTime": {
     "end_time": "2023-01-17T22:24:45.999378Z",
     "start_time": "2023-01-17T22:24:45.613334Z"
    }
   },
   "outputs": [],
   "source": [
    "celegans_frame = np.float16( celegans_frame )\n",
    "\n",
    "print(f\"Size of image is now {place_commas(getsizeof(celegans_frame))} B.\")\n",
    "\n",
    "plt.figure( figsize = (10, 10) )\n",
    "plt.imshow( celegans_frame, cmap = \"gray\", \n",
    "            vmin = intens_min, vmax = intens_max );\n"
   ]
  },
  {
   "cell_type": "markdown",
   "id": "0a64c9ea",
   "metadata": {},
   "source": [
    "Clearly, there is a large section of the image that is of no importance to us.\n",
    "\n",
    "We can easily remove it just by providing the coordinates of the area of interest, but we could also use more automated approaches, right?\n"
   ]
  },
  {
   "cell_type": "code",
   "execution_count": null,
   "id": "32998de7",
   "metadata": {
    "ExecuteTime": {
     "end_time": "2023-01-17T22:20:55.403725Z",
     "start_time": "2023-01-17T22:20:55.154262Z"
    }
   },
   "outputs": [],
   "source": [
    "celegans_frame_cut = celegans_frame[150:1350, 200:1825]\n",
    "\n",
    "plt.figure( figsize = (10, 10) )\n",
    "plt.imshow( celegans_frame_cut, cmap = \"gray\", \n",
    "            vmin = intens_min, vmax = intens_max );\n"
   ]
  },
  {
   "cell_type": "markdown",
   "id": "b911a8fc",
   "metadata": {},
   "source": [
    "Also, we can inverse the image, since the worms are black and the background is white. We\n",
    "will transform it also to an array of bytes:"
   ]
  },
  {
   "cell_type": "code",
   "execution_count": null,
   "id": "3827c21b",
   "metadata": {
    "ExecuteTime": {
     "end_time": "2023-01-17T22:26:54.049623Z",
     "start_time": "2023-01-17T22:26:53.992961Z"
    }
   },
   "outputs": [],
   "source": [
    "celegans_frame_cut_inv = intens_max - celegans_frame_cut\n",
    "frame = img_as_ubyte(celegans_frame_cut_inv) \n",
    "\n",
    "print(f\"Size of image is now {place_commas(getsizeof(frame))} B.\")\n",
    "\n",
    "frame"
   ]
  },
  {
   "cell_type": "markdown",
   "id": "52ad926c",
   "metadata": {},
   "source": [
    "Now, let's binarize the image using a local thresholding algorithm. We saw earlier that we can use Otsu's algorithm locally to detect the foreground.\n",
    "\n",
    "The worms are about 50 to 100 pixels long, so we could set the radius of the region over which we find the local threshold to 50."
   ]
  },
  {
   "cell_type": "code",
   "execution_count": null,
   "id": "e688854b",
   "metadata": {
    "ExecuteTime": {
     "end_time": "2023-01-17T22:54:25.113551Z",
     "start_time": "2023-01-17T22:54:23.668774Z"
    }
   },
   "outputs": [],
   "source": [
    "vicinity = disk(50)\n",
    "\n",
    "fig = plt.figure( figsize = (18, 12) )\n",
    "ax = []\n",
    "\n",
    "# We do not set the values of vmin and vmax to their true values \n",
    "# because the region of interest is very dark\n",
    "#\n",
    "ax.append( fig.add_subplot(121) )\n",
    "ax[-1].imshow( frame, cmap = \"gray\")\n",
    "\n",
    "ax.append( fig.add_subplot(122) )\n",
    "local_threshold = rank.otsu(frame, vicinity)\n",
    "binarized_frame = frame > local_threshold\n",
    "ax[-1].imshow( binarized_frame, cmap = \"gray\" )\n",
    "\n",
    "plt.tight_layout()"
   ]
  },
  {
   "cell_type": "markdown",
   "id": "74225eca",
   "metadata": {},
   "source": [
    "**Not what we expected, right??**\n",
    "\n",
    "Because most of the image is background, we are seeing background noise as foreground in extensive areas of the image.\n",
    "\n",
    "Maybe, in this case, it is best to go with a global value. We can again use Otsu's algorithm for finding a global threshold value, but it turns out that this would cause us to lose some of the foreground.\n",
    "\n",
    "By trial and error, it turns out that subtracting 10 provides a good compromise between getting rid of the noise without loosing foreground.\n"
   ]
  },
  {
   "cell_type": "code",
   "execution_count": null,
   "id": "214423ca",
   "metadata": {
    "ExecuteTime": {
     "end_time": "2023-01-17T22:57:18.593570Z",
     "start_time": "2023-01-17T22:57:18.148589Z"
    }
   },
   "outputs": [],
   "source": [
    "vicinity = disk(50)\n",
    "\n",
    "fig = plt.figure( figsize = (18, 12) )\n",
    "ax = []\n",
    "\n",
    "# We do not set the values of vmin and vmax to their true values \n",
    "# because the region of interest is very dark\n",
    "#\n",
    "ax.append( fig.add_subplot(121) )\n",
    "ax[-1].imshow( frame, cmap = \"gray\")\n",
    "\n",
    "ax.append( fig.add_subplot(122) )\n",
    "local_threshold = threshold_otsu(frame)\n",
    "binarized_frame = frame > local_threshold - 10\n",
    "ax[-1].imshow( binarized_frame, cmap = \"gray\" )\n",
    "\n",
    "plt.tight_layout()"
   ]
  },
  {
   "cell_type": "markdown",
   "id": "70a77945",
   "metadata": {},
   "source": [
    "This looks pretty nice and was so much faster. \n",
    "\n",
    "We can remove the frame around the image using `floodfill` from any of the corners of the image.\n",
    "\n",
    "And, we can remove the small specks using `remove_small_objects`. \n"
   ]
  },
  {
   "cell_type": "code",
   "execution_count": null,
   "id": "a94fc84b",
   "metadata": {
    "ExecuteTime": {
     "end_time": "2023-01-17T23:01:41.119247Z",
     "start_time": "2023-01-17T23:01:40.677044Z"
    }
   },
   "outputs": [],
   "source": [
    "binarized_frame = flood_fill(binarized_frame, (0, 0), 0)\n",
    "\n",
    "binarized_clean = remove_small_objects(binarized_frame)\n",
    "\n",
    "fig = plt.figure( figsize = (18, 12) )\n",
    "ax = []\n",
    "\n",
    "ax.append( fig.add_subplot(121) )\n",
    "ax[-1].imshow( frame, cmap = \"gray\")\n",
    "\n",
    "ax.append( fig.add_subplot(122) )\n",
    "ax[-1].imshow( binarized_clean, cmap = \"gray\" )\n",
    "\n",
    "plt.tight_layout()\n"
   ]
  },
  {
   "cell_type": "markdown",
   "id": "d20ee3d6",
   "metadata": {},
   "source": [
    "We still have a few problems left over (two bright circles in the bottom left corner, a two small specks, one in the middel of the image and another toward the bottom on the mid-right).  \n",
    "\n",
    "Let's ignore them for now and do the `skeletonization`."
   ]
  },
  {
   "cell_type": "code",
   "execution_count": null,
   "id": "af7c3c5c",
   "metadata": {
    "ExecuteTime": {
     "end_time": "2023-01-17T23:05:41.442772Z",
     "start_time": "2023-01-17T23:05:41.396268Z"
    }
   },
   "outputs": [],
   "source": [
    "help(skeletonize)"
   ]
  },
  {
   "cell_type": "code",
   "execution_count": null,
   "id": "a35b6eff",
   "metadata": {
    "ExecuteTime": {
     "end_time": "2023-01-17T23:18:54.983642Z",
     "start_time": "2023-01-17T23:18:54.497258Z"
    }
   },
   "outputs": [],
   "source": [
    "skeleton_frame = skeletonize(binarized_clean)\n",
    "\n",
    "w, h = binarized_clean.shape\n",
    "final_image = np.zeros((w, h, 3), dtype = np.uint8)\n",
    "final_image[binarized_clean, :] = [128, 128, 128]\n",
    "final_image[skeleton_frame, :] = [255, 0, 0]\n",
    "\n",
    "fig = plt.figure( figsize = (18, 12) )\n",
    "ax = []\n",
    "\n",
    "ax.append( fig.add_subplot(121) )\n",
    "ax[-1].imshow( final_image )\n",
    "\n",
    "ax.append( fig.add_subplot(122) )\n",
    "ax[-1].imshow( final_image[900:1150, 50:400, :] )\n",
    "\n",
    "plt.tight_layout()\n"
   ]
  },
  {
   "cell_type": "markdown",
   "id": "f995efe3",
   "metadata": {},
   "source": [
    "Very nice!!!\n",
    "\n",
    "\n",
    "# Segmentation\n",
    "\n",
    "Finally, let's do the segmentation and label all the worms we find, like we did in the previous notebooks:"
   ]
  },
  {
   "cell_type": "code",
   "execution_count": null,
   "id": "fe3bc7e2",
   "metadata": {
    "ExecuteTime": {
     "end_time": "2023-01-17T23:24:04.861778Z",
     "start_time": "2023-01-17T23:24:04.617267Z"
    }
   },
   "outputs": [],
   "source": [
    "fig = plt.figure(figsize=(12, 9))\n",
    "ax = fig.add_subplot(111)\n",
    "ax.imshow(binarized_clean, cmap = \"gray\", vmin = 0, vmax = 1)\n",
    "\n",
    "contours = measure.find_contours(binarized_clean)\n",
    "k = 0\n",
    "for n, contour in enumerate(contours):\n",
    "    if len(contour) > 100:\n",
    "        ax.plot(contour[:, 1], contour[:, 0], linewidth = 1)\n",
    "        k += 1\n",
    "    \n",
    "print(f\"There are {len(contours)} contours in the image, \"\n",
    "      f\"{k} of which are good. \")"
   ]
  },
  {
   "cell_type": "markdown",
   "id": "15a286e8",
   "metadata": {},
   "source": [
    "You can now use some of the different functions in the module `skimage.measure` to obtain some interesting measurement about each worm $-$ area, perimeter, center of mass, ...\n"
   ]
  },
  {
   "cell_type": "code",
   "execution_count": null,
   "id": "cbf82483",
   "metadata": {},
   "outputs": [],
   "source": []
  }
 ],
 "metadata": {
  "kernelspec": {
   "display_name": "base",
   "language": "python",
   "name": "base"
  },
  "language_info": {
   "codemirror_mode": {
    "name": "ipython",
    "version": 3
   },
   "file_extension": ".py",
   "mimetype": "text/x-python",
   "name": "python",
   "nbconvert_exporter": "python",
   "pygments_lexer": "ipython3",
   "version": "3.9.12"
  },
  "toc": {
   "base_numbering": 1,
   "nav_menu": {},
   "number_sections": true,
   "sideBar": true,
   "skip_h1_title": false,
   "title_cell": "Table of Contents",
   "title_sidebar": "Contents",
   "toc_cell": false,
   "toc_position": {
    "height": "calc(100% - 180px)",
    "left": "10px",
    "top": "150px",
    "width": "211px"
   },
   "toc_section_display": true,
   "toc_window_display": true
  },
  "varInspector": {
   "cols": {
    "lenName": 16,
    "lenType": 16,
    "lenVar": 40
   },
   "kernels_config": {
    "python": {
     "delete_cmd_postfix": "",
     "delete_cmd_prefix": "del ",
     "library": "var_list.py",
     "varRefreshCmd": "print(var_dic_list())"
    },
    "r": {
     "delete_cmd_postfix": ") ",
     "delete_cmd_prefix": "rm(",
     "library": "var_list.r",
     "varRefreshCmd": "cat(var_dic_list()) "
    }
   },
   "types_to_exclude": [
    "module",
    "function",
    "builtin_function_or_method",
    "instance",
    "_Feature"
   ],
   "window_display": false
  }
 },
 "nbformat": 4,
 "nbformat_minor": 5
}
