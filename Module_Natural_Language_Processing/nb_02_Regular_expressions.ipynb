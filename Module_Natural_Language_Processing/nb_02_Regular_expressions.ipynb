{
 "cells": [
  {
   "cell_type": "markdown",
   "metadata": {},
   "source": [
    "# Synopsis\n",
    "\n",
    "Frequently we are simply looking for specific words or phrases in a block of text and do not care about the rest of the text. However, sometimes we are interested in a pattern of text (such as a phone number), where the format is consistent but the actual text itself changes. In this unit, we will learn:\n",
    "\n",
    "1. What a regular expression is\n",
    "2. Available functions in the `re` package\n",
    "3. How to identify and extract a text pattern in a large block of text.\n",
    "4. How to develop and test regular expressions"
   ]
  },
  {
   "cell_type": "markdown",
   "metadata": {},
   "source": [
    "# Read libraries"
   ]
  },
  {
   "cell_type": "code",
   "execution_count": 1,
   "metadata": {
    "ExecuteTime": {
     "end_time": "2023-09-13T20:58:21.745856Z",
     "start_time": "2023-09-13T20:58:19.259067Z"
    }
   },
   "outputs": [],
   "source": [
    "%load_ext autoreload\n",
    "%autoreload 2\n",
    "%matplotlib inline\n",
    "\n",
    "from colorama import Back, Fore, Style\n",
    "from copy import copy, deepcopy\n",
    "from pathlib import Path\n",
    "from sys import path\n",
    "\n",
    "path.append( str(Path.cwd().parent) )"
   ]
  },
  {
   "cell_type": "code",
   "execution_count": 7,
   "metadata": {
    "ExecuteTime": {
     "end_time": "2023-09-13T20:59:48.675168Z",
     "start_time": "2023-09-13T20:59:48.630600Z"
    }
   },
   "outputs": [],
   "source": [
    "import re\n",
    "\n",
    "import matplotlib.pyplot as plt\n",
    "import matplotlib.cm as cm\n",
    "import numpy as np\n",
    "import pandas as pd\n",
    "\n",
    "from collections import Counter\n",
    "from random import random\n",
    "from string import punctuation, whitespace\n",
    "\n",
    "from Amaral_libraries.my_nlp_library import read_complete_works\n",
    "from Amaral_libraries.my_stats import place_commas"
   ]
  },
  {
   "cell_type": "code",
   "execution_count": 3,
   "metadata": {
    "ExecuteTime": {
     "end_time": "2023-09-13T20:58:27.116924Z",
     "start_time": "2023-09-13T20:58:27.097569Z"
    }
   },
   "outputs": [],
   "source": [
    "my_fontsize = 15"
   ]
  },
  {
   "cell_type": "markdown",
   "metadata": {},
   "source": [
    "# Regular Expressions\n",
    "\n",
    "[Regular expressions](https://en.wikipedia.org/wiki/Regular_expression) (or **regexes** in shorthand) are essentially a standalone scripting language.\n",
    "\n",
    "This is good because it means you will be able to use what you learn in other contexts.\n",
    "\n",
    "\n",
    "Regexes allow for searches of patterns that are not fixed but instead follow a particular set of rules.\n",
    "\n",
    "Imagine that you are looking for Northwestern's Helpline in a document.  Then you would search for `847-491-4357` or `(847) 491-4357`, or maybe even for `1-4357`. Yes, it is getting complicated...\n",
    "\n",
    "But what if you actually wanted to find **any** phone number in a document?\n",
    "\n",
    "Let's say that we use `d` to represent any digit 0-9.  Then, we are looking for patterns of the form `ddd-ddd-dddd` or `(ddd) ddd-dddd`\n",
    "\n",
    "Amazingly, regexes allow us to construct a generic compact text pattern that will then be matched through the entire text.  \n"
   ]
  },
  {
   "cell_type": "markdown",
   "metadata": {},
   "source": [
    "## Regular expressions in Python\n",
    "\n",
    "Methods for regular expressions in Python are implemented in the [`re` package](https://docs.python.org/3/library/re.html). There are a many functions, flags, and conventions.\n",
    "\n",
    "A few basic functions that we will use are:\n",
    "\n",
    "> `re.match()` : Determine if the RE matches at the beginning of the string.\n",
    ">\n",
    ">  `re.search()` : Scan through a string, looking for any location where this RE matches.\n",
    ">\n",
    "> `re.findall()` : Find all substrings where the RE matches, and returns them as a list.\n",
    ">\n",
    "> `re.finditer()` : Find all substrings where the RE matches, and returns them as an iterator object.\n",
    "\n",
    "\n",
    "Some important conventions are:\n",
    "\n",
    "> `|` stands for `or`\n",
    ">\n",
    "> `&` stands for `and`\n",
    ">\n",
    "> `.` stands for any character except a new line\n",
    ">\n",
    "> `^` stands for beginning of the string being searched\n",
    ">\n",
    "> `$` stands for end of the string or just before new line\n",
    ">\n",
    "> `\\` allows for escaping special characters, i.e., search for character that are used in conventions \n",
    "\n",
    "\n",
    "This [site](https://www.rexegg.com/regex-quickstart.html#chars) is a great cheat sheet for when building regexes."
   ]
  },
  {
   "cell_type": "markdown",
   "metadata": {},
   "source": [
    "## Let's check back on Othello\n",
    "\n",
    "Now, let's go over an example so this is less abstract. "
   ]
  },
  {
   "cell_type": "code",
   "execution_count": 4,
   "metadata": {
    "ExecuteTime": {
     "end_time": "2023-09-13T20:58:33.362772Z",
     "start_time": "2023-09-13T20:58:33.253103Z"
    },
    "scrolled": false
   },
   "outputs": [
    {
     "name": "stdout",
     "output_type": "stream",
     "text": [
      "124787\n"
     ]
    },
    {
     "data": {
      "text/plain": [
       "{'THE SONNETS': {'year': 1609, 'first_line': 175, 'last_line': 2798},\n",
       " 'ALLS WELL THAT ENDS WELL': {'year': 1603,\n",
       "  'first_line': 2817,\n",
       "  'last_line': 6045},\n",
       " 'THE TRAGEDY OF ANTONY AND CLEOPATRA': {'year': 1607,\n",
       "  'first_line': 6064,\n",
       "  'last_line': 10236},\n",
       " 'AS YOU LIKE IT': {'year': 1601, 'first_line': 10255, 'last_line': 13226},\n",
       " 'THE TRAGEDY OF CORIOLANUS': {'year': 1608,\n",
       "  'first_line': 15370,\n",
       "  'last_line': 19644},\n",
       " 'CYMBELINE': {'year': 1609, 'first_line': 19663, 'last_line': 23824},\n",
       " 'THE TRAGEDY OF HAMLET, PRINCE OF DENMARK': {'year': 1604,\n",
       "  'first_line': 23844,\n",
       "  'last_line': 28393},\n",
       " 'THE FIRST PART OF KING HENRY THE FOURTH': {'year': 1598,\n",
       "  'first_line': 28412,\n",
       "  'last_line': 31764},\n",
       " 'SECOND PART OF KING HENRY IV': {'year': 1598,\n",
       "  'first_line': 31784,\n",
       "  'last_line': 35367},\n",
       " 'THE LIFE OF KING HENRY THE FIFTH': {'year': 1599,\n",
       "  'first_line': 35386,\n",
       "  'last_line': 39026},\n",
       " 'THE FIRST PART OF HENRY THE SIXTH': {'year': 1592,\n",
       "  'first_line': 39045,\n",
       "  'last_line': 42451},\n",
       " 'THE SECOND PART OF KING HENRY THE SIXTH': {'year': 1591,\n",
       "  'first_line': 42470,\n",
       "  'last_line': 46113},\n",
       " 'THE THIRD PART OF KING HENRY THE SIXTH': {'year': 1591,\n",
       "  'first_line': 46132,\n",
       "  'last_line': 49653},\n",
       " 'KING HENRY THE EIGHTH': {'year': 1611,\n",
       "  'first_line': 49672,\n",
       "  'last_line': 53434},\n",
       " 'KING JOHN': {'year': 1597, 'first_line': 53453, 'last_line': 56478},\n",
       " 'THE TRAGEDY OF JULIUS CAESAR': {'year': 1599,\n",
       "  'first_line': 56499,\n",
       "  'last_line': 59510},\n",
       " 'THE TRAGEDY OF KING LEAR': {'year': 1606,\n",
       "  'first_line': 59531,\n",
       "  'last_line': 63512},\n",
       " \"LOVE'S LABOUR'S LOST\": {'year': 1595,\n",
       "  'first_line': 63532,\n",
       "  'last_line': 66544},\n",
       " 'THE TRAGEDY OF MACBETH': {'year': 1606, 'first_line': 66564},\n",
       " 'MEASURE FOR MEASURE': {'year': 1605,\n",
       "  'first_line': 69481,\n",
       "  'last_line': 72596},\n",
       " 'THE MERCHANT OF VENICE': {'year': 1597,\n",
       "  'first_line': 72615,\n",
       "  'last_line': 75580},\n",
       " 'THE MERRY WIVES OF WINDSOR': {'year': 1601,\n",
       "  'first_line': 75599,\n",
       "  'last_line': 78748},\n",
       " \"A MIDSUMMER NIGHT'S DREAM\": {'year': 1596,\n",
       "  'first_line': 78767,\n",
       "  'last_line': 81220},\n",
       " 'MUCH ADO ABOUT NOTHING': {'year': 1599,\n",
       "  'first_line': 81240,\n",
       "  'last_line': 84025},\n",
       " 'THE TRAGEDY OF OTHELLO, MOOR OF VENICE': {'year': 1605,\n",
       "  'first_line': 84045,\n",
       "  'last_line': 87938},\n",
       " 'KING RICHARD THE SECOND': {'year': 1596,\n",
       "  'first_line': 87958,\n",
       "  'last_line': 91190},\n",
       " 'KING RICHARD III': {'year': 1593, 'first_line': 91209, 'last_line': 95747},\n",
       " 'THE TRAGEDY OF ROMEO AND JULIET': {'year': 1595,\n",
       "  'first_line': 95767,\n",
       "  'last_line': 99383},\n",
       " 'THE TAMING OF THE SHREW': {'year': 1594,\n",
       "  'first_line': 99402,\n",
       "  'last_line': 102428},\n",
       " 'THE TEMPEST': {'year': 1612, 'first_line': 102447, 'last_line': 105088},\n",
       " 'THE LIFE OF TIMON OF ATHENS': {'year': 1608,\n",
       "  'first_line': 105107,\n",
       "  'last_line': 107956},\n",
       " 'THE TRAGEDY OF TITUS ANDRONICUS': {'year': 1594,\n",
       "  'first_line': 107975,\n",
       "  'last_line': 110965},\n",
       " 'THE HISTORY OF TROILUS AND CRESSIDA': {'year': 1602,\n",
       "  'first_line': 110984,\n",
       "  'last_line': 114964},\n",
       " 'TWELFTH NIGHT; OR, WHAT YOU WILL': {'year': 1602,\n",
       "  'first_line': 114984,\n",
       "  'last_line': 117781},\n",
       " 'THE TWO GENTLEMEN OF VERONA': {'year': 1595,\n",
       "  'first_line': 117798,\n",
       "  'last_line': 120354},\n",
       " \"THE WINTER'S TALE\": {'year': 1611,\n",
       "  'first_line': 120373,\n",
       "  'last_line': 123965},\n",
       " \"A LOVER'S COMPLAINT\": {'year': 1609,\n",
       "  'first_line': 123984,\n",
       "  'last_line': 124366}}"
      ]
     },
     "execution_count": 4,
     "metadata": {},
     "output_type": "execute_result"
    }
   ],
   "source": [
    "# Copied from previous notebook\n",
    "\n",
    "complete_works, plays = read_complete_works()\n",
    "    \n",
    "print(len(complete_works))\n",
    "\n",
    "plays"
   ]
  },
  {
   "cell_type": "code",
   "execution_count": 9,
   "metadata": {
    "ExecuteTime": {
     "end_time": "2023-09-13T21:01:20.558647Z",
     "start_time": "2023-09-13T21:01:20.517824Z"
    }
   },
   "outputs": [
    {
     "name": "stdout",
     "output_type": "stream",
     "text": [
      "The play Othello has 3,893 lines.\n",
      "\n",
      "The play Othello has 179,024 characters.\n",
      "\n"
     ]
    }
   ],
   "source": [
    "title = 'THE TRAGEDY OF OTHELLO, MOOR OF VENICE'\n",
    "start_line = plays[title]['first_line']\n",
    "end_line = plays[title]['last_line']\n",
    "\n",
    "# Slice the play out of complete works\n",
    "#\n",
    "the_play = complete_works[start_line: end_line]\n",
    "\n",
    "print(f\"The play Othello has {place_commas(len(the_play))} lines.\\n\")\n",
    "\n",
    "# Put it all into a single string\n",
    "#\n",
    "the_play = ' '.join(the_play)\n",
    "\n",
    "print(f\"The play Othello has {place_commas(len(the_play))} characters.\\n\")"
   ]
  },
  {
   "cell_type": "code",
   "execution_count": 10,
   "metadata": {
    "ExecuteTime": {
     "end_time": "2023-09-13T21:01:24.660703Z",
     "start_time": "2023-09-13T21:01:24.614552Z"
    }
   },
   "outputs": [
    {
     "name": "stdout",
     "output_type": "stream",
     "text": [
      "THE TRAGEDY OF OTHELLO, MOOR OF VENICE\n",
      " \n",
      " by William Shakespeare\n",
      " \n",
      " \n",
      " \n",
      " Dramatis Personae\n",
      " \n",
      "   OTHELLO, the Moor, general of the Venetian forces\n",
      "   DESDEMONA, his wife\n",
      "   IAGO, ensign to Othello\n",
      "   EMILIA, his wife, lady-in-waiting to Desdemona\n",
      "   CASSIO, lieutenant to Othello\n",
      "   THE DUKE OF VENICE\n",
      "   BRABANTIO, Venetian Senator, father of Desdemona\n",
      "   GRATIANO, nobleman of Venice, brother of Brabantio\n",
      "   LODOVICO, nobleman of Venice, kinsman of Brabantio\n",
      "   RODERIGO, rejected suitor of Desdemon\n"
     ]
    }
   ],
   "source": [
    "print(the_play[:500])"
   ]
  },
  {
   "cell_type": "markdown",
   "metadata": {},
   "source": [
    "Ok, let's search for Othello"
   ]
  },
  {
   "cell_type": "code",
   "execution_count": 11,
   "metadata": {
    "ExecuteTime": {
     "end_time": "2023-09-13T21:01:33.499218Z",
     "start_time": "2023-09-13T21:01:33.454742Z"
    }
   },
   "outputs": [
    {
     "name": "stdout",
     "output_type": "stream",
     "text": [
      "None\n",
      "\n",
      "None\n",
      "\n"
     ]
    }
   ],
   "source": [
    "print(re.match('Othello', the_play))\n",
    "print()\n",
    "\n",
    "print(re.match('OTHELLO', the_play))\n",
    "print()\n"
   ]
  },
  {
   "cell_type": "markdown",
   "metadata": {},
   "source": [
    "`re.match` finds no matches.  This is not surprising if you recall that it only attempts to match at the start of the string.\n",
    "\n"
   ]
  },
  {
   "cell_type": "code",
   "execution_count": 21,
   "metadata": {
    "ExecuteTime": {
     "end_time": "2023-09-13T21:05:55.805493Z",
     "start_time": "2023-09-13T21:05:55.758274Z"
    }
   },
   "outputs": [
    {
     "name": "stdout",
     "output_type": "stream",
     "text": [
      "There are 59 occurrents of 'Othello'.\n",
      "\n",
      "['Othello', 'Othello', 'Othello', 'Othello', 'Othello', 'Othello', 'Othello', 'Othello', 'Othello', 'Othello', 'Othello', 'Othello', 'Othello', 'Othello', 'Othello', 'Othello', 'Othello', 'Othello', 'Othello', 'Othello', 'Othello', 'Othello', 'Othello', 'Othello', 'Othello', 'Othello', 'Othello', 'Othello', 'Othello', 'Othello', 'Othello', 'Othello', 'Othello', 'Othello', 'Othello', 'Othello', 'Othello', 'Othello', 'Othello', 'Othello', 'Othello', 'Othello', 'Othello', 'Othello', 'Othello', 'Othello', 'Othello', 'Othello', 'Othello', 'Othello', 'Othello', 'Othello', 'Othello', 'Othello', 'Othello', 'Othello', 'Othello', 'Othello', 'Othello']\n",
      "\n",
      "There are 335 occurrents of othello (any case).\n",
      "\n"
     ]
    }
   ],
   "source": [
    "matches = re.findall('Othello', the_play)\n",
    "print(f\"There are {len(matches)} occurrents of 'Othello'.\\n\")\n",
    "\n",
    "print(matches)\n",
    "\n",
    "matches = re.findall('othello', the_play.lower())\n",
    "print(f\"\\nThere are {len(matches)} occurrents of othello (any case).\\n\")\n"
   ]
  },
  {
   "cell_type": "markdown",
   "metadata": {},
   "source": [
    "`re.findall` finds numerous matches.  This is not surprising since we expect the string Othello to appear frequently in the play.\n"
   ]
  },
  {
   "cell_type": "code",
   "execution_count": 22,
   "metadata": {
    "ExecuteTime": {
     "end_time": "2023-09-13T21:05:59.971584Z",
     "start_time": "2023-09-13T21:05:59.923086Z"
    }
   },
   "outputs": [
    {
     "name": "stdout",
     "output_type": "stream",
     "text": [
      "<re.Match object; span=(187, 194), match='Othello'>\n",
      "\n",
      "<re.Match object; span=(15, 22), match='OTHELLO'>\n",
      "\n"
     ]
    }
   ],
   "source": [
    "print(re.search('Othello', the_play))\n",
    "print()\n",
    "\n",
    "print(re.search('OTHELLO', the_play))\n",
    "print()"
   ]
  },
  {
   "cell_type": "markdown",
   "metadata": {},
   "source": [
    "`re.search` finds matches and the capitalized version finds a different match from the non-capitalized.  \n",
    "\n",
    "Each returned a single match as a `re.Match` object.  This is actually quite cool because a match object has all sorts of attributes!\n",
    "\n",
    "Let's look at them in detail.\n"
   ]
  },
  {
   "cell_type": "code",
   "execution_count": 23,
   "metadata": {
    "ExecuteTime": {
     "end_time": "2023-09-13T21:06:58.957113Z",
     "start_time": "2023-09-13T21:06:58.917874Z"
    }
   },
   "outputs": [
    {
     "name": "stdout",
     "output_type": "stream",
     "text": [
      "Help on Match in module re object:\n",
      "\n",
      "class Match(builtins.object)\n",
      " |  The result of re.match() and re.search().\n",
      " |  Match objects always have a boolean value of True.\n",
      " |  \n",
      " |  Methods defined here:\n",
      " |  \n",
      " |  __copy__(self, /)\n",
      " |  \n",
      " |  __deepcopy__(self, memo, /)\n",
      " |  \n",
      " |  __getitem__(self, key, /)\n",
      " |      Return self[key].\n",
      " |  \n",
      " |  __repr__(self, /)\n",
      " |      Return repr(self).\n",
      " |  \n",
      " |  end(self, group=0, /)\n",
      " |      Return index of the end of the substring matched by group.\n",
      " |  \n",
      " |  expand(self, /, template)\n",
      " |      Return the string obtained by doing backslash substitution on the string template, as done by the sub() method.\n",
      " |  \n",
      " |  group(...)\n",
      " |      group([group1, ...]) -> str or tuple.\n",
      " |      Return subgroup(s) of the match by indices or names.\n",
      " |      For 0 returns the entire match.\n",
      " |  \n",
      " |  groupdict(self, /, default=None)\n",
      " |      Return a dictionary containing all the named subgroups of the match, keyed by the subgroup name.\n",
      " |      \n",
      " |      default\n",
      " |        Is used for groups that did not participate in the match.\n",
      " |  \n",
      " |  groups(self, /, default=None)\n",
      " |      Return a tuple containing all the subgroups of the match, from 1.\n",
      " |      \n",
      " |      default\n",
      " |        Is used for groups that did not participate in the match.\n",
      " |  \n",
      " |  span(self, group=0, /)\n",
      " |      For match object m, return the 2-tuple (m.start(group), m.end(group)).\n",
      " |  \n",
      " |  start(self, group=0, /)\n",
      " |      Return index of the start of the substring matched by group.\n",
      " |  \n",
      " |  ----------------------------------------------------------------------\n",
      " |  Class methods defined here:\n",
      " |  \n",
      " |  __class_getitem__(...) from builtins.type\n",
      " |      See PEP 585\n",
      " |  \n",
      " |  ----------------------------------------------------------------------\n",
      " |  Data descriptors defined here:\n",
      " |  \n",
      " |  endpos\n",
      " |      The index into the string beyond which the RE engine will not go.\n",
      " |  \n",
      " |  lastgroup\n",
      " |      The name of the last matched capturing group.\n",
      " |  \n",
      " |  lastindex\n",
      " |      The integer index of the last matched capturing group.\n",
      " |  \n",
      " |  pos\n",
      " |      The index into the string at which the RE engine started looking for a match.\n",
      " |  \n",
      " |  re\n",
      " |      The regular expression object.\n",
      " |  \n",
      " |  regs\n",
      " |  \n",
      " |  string\n",
      " |      The string passed to match() or search().\n",
      "\n"
     ]
    }
   ],
   "source": [
    "othello_match = re.search('Othello', the_play)\n",
    "help(othello_match)\n"
   ]
  },
  {
   "cell_type": "markdown",
   "metadata": {},
   "source": [
    "Great! `re.Match` objects always have a Boolean value of `True`.\n",
    "\n",
    "They also have methods such as `.start()`, `.end()`, or `.span()`. \n",
    "\n",
    "Let's see what they are"
   ]
  },
  {
   "cell_type": "code",
   "execution_count": 27,
   "metadata": {
    "ExecuteTime": {
     "end_time": "2023-09-13T21:10:10.834838Z",
     "start_time": "2023-09-13T21:10:10.793898Z"
    }
   },
   "outputs": [
    {
     "name": "stdout",
     "output_type": "stream",
     "text": [
      "Match object is: <re.Match object; span=(187, 194), match='Othello'>\n",
      "\n",
      "Span is: (187, 194)\n",
      "\n",
      "Match groups are: Othello\n",
      "\n"
     ]
    }
   ],
   "source": [
    "# Notice the print of a re.Match object already contains \n",
    "# important information\n",
    "print(f\"Match object is: {othello_match}\")\n",
    "print()\n",
    "\n",
    "print(f\"Span is: {othello_match.span()}\")\n",
    "print()\n",
    "\n",
    "print(f\"Match groups are: {othello_match.group()}\")\n",
    "print()\n"
   ]
  },
  {
   "cell_type": "markdown",
   "metadata": {},
   "source": [
    "The meaning of `.group()` will become clear later."
   ]
  },
  {
   "cell_type": "code",
   "execution_count": 28,
   "metadata": {
    "ExecuteTime": {
     "end_time": "2023-09-13T21:10:12.008975Z",
     "start_time": "2023-09-13T21:10:11.968987Z"
    }
   },
   "outputs": [
    {
     "name": "stdout",
     "output_type": "stream",
     "text": [
      "187\n",
      "\n",
      "194\n",
      "\n"
     ]
    }
   ],
   "source": [
    "print(othello_match.start())\n",
    "print()\n",
    "\n",
    "print(othello_match.end())\n",
    "print()"
   ]
  },
  {
   "cell_type": "markdown",
   "metadata": {},
   "source": [
    "Those numbers are locators in the string, which we can use to look at the surrounding text"
   ]
  },
  {
   "cell_type": "code",
   "execution_count": 29,
   "metadata": {
    "ExecuteTime": {
     "end_time": "2023-09-13T21:10:13.877601Z",
     "start_time": "2023-09-13T21:10:13.840613Z"
    }
   },
   "outputs": [
    {
     "data": {
      "text/plain": [
       "'Othello'"
      ]
     },
     "execution_count": 29,
     "metadata": {},
     "output_type": "execute_result"
    }
   ],
   "source": [
    "the_play[187: 194]"
   ]
  },
  {
   "cell_type": "code",
   "execution_count": 30,
   "metadata": {
    "ExecuteTime": {
     "end_time": "2023-09-13T21:10:18.374695Z",
     "start_time": "2023-09-13T21:10:18.333077Z"
    }
   },
   "outputs": [
    {
     "data": {
      "text/plain": [
       "'\\n   IAGO, ensign to Othello\\n   EMILIA, his wife'"
      ]
     },
     "execution_count": 30,
     "metadata": {},
     "output_type": "execute_result"
    }
   ],
   "source": [
    "the_play[othello_match.start()-20: othello_match.end()+20]"
   ]
  },
  {
   "cell_type": "markdown",
   "metadata": {},
   "source": [
    "<br>\n",
    "\n",
    "<br>\n",
    "\n",
    "\n",
    "\n",
    "\n",
    "\n",
    "What about `re.finditer()`?"
   ]
  },
  {
   "cell_type": "code",
   "execution_count": 31,
   "metadata": {
    "ExecuteTime": {
     "end_time": "2023-09-13T21:10:29.153860Z",
     "start_time": "2023-09-13T21:10:29.109736Z"
    }
   },
   "outputs": [
    {
     "name": "stdout",
     "output_type": "stream",
     "text": [
      "<callable_iterator object at 0x151495d80>\n",
      "\n"
     ]
    }
   ],
   "source": [
    "print(re.finditer('Othello', the_play))\n",
    "print()"
   ]
  },
  {
   "cell_type": "markdown",
   "metadata": {},
   "source": [
    "Interesting! Notice the word `iterator` in there.  This suggests that `Python` is offering us a way to iterate through the results.\n",
    "\n",
    "As you will recall, we can do this using a `for` loop.\n"
   ]
  },
  {
   "cell_type": "code",
   "execution_count": 32,
   "metadata": {
    "ExecuteTime": {
     "end_time": "2023-09-13T21:10:34.395586Z",
     "start_time": "2023-09-13T21:10:34.358214Z"
    }
   },
   "outputs": [
    {
     "name": "stdout",
     "output_type": "stream",
     "text": [
      "  0 -- <re.Match object; span=(187, 194), match='Othello'>\n",
      "  1 -- <re.Match object; span=(270, 277), match='Othello'>\n",
      "  2 -- <re.Match object; span=(588, 595), match='Othello'>\n",
      "  3 -- <re.Match object; span=(10949, 10956), match='Othello'>\n",
      "  4 -- <re.Match object; span=(13977, 13984), match='Othello'>\n",
      "  5 -- <re.Match object; span=(19484, 19491), match='Othello'>\n",
      "  6 -- <re.Match object; span=(19542, 19549), match='Othello'>\n",
      "  7 -- <re.Match object; span=(21028, 21035), match='Othello'>\n",
      "  8 -- <re.Match object; span=(22902, 22909), match='Othello'>\n",
      "  9 -- <re.Match object; span=(23805, 23812), match='Othello'>\n",
      " 10 -- <re.Match object; span=(28540, 28547), match='Othello'>\n",
      " 11 -- <re.Match object; span=(30025, 30032), match='Othello'>\n",
      " 12 -- <re.Match object; span=(31436, 31443), match='Othello'>\n",
      " 13 -- <re.Match object; span=(32613, 32620), match='Othello'>\n",
      " 14 -- <re.Match object; span=(37241, 37248), match='Othello'>\n",
      " 15 -- <re.Match object; span=(39715, 39722), match='Othello'>\n",
      " 16 -- <re.Match object; span=(40325, 40332), match='Othello'>\n",
      " 17 -- <re.Match object; span=(42626, 42633), match='Othello'>\n",
      " 18 -- <re.Match object; span=(48127, 48134), match='Othello'>\n",
      " 19 -- <re.Match object; span=(48223, 48230), match='Othello'>\n",
      " 20 -- <re.Match object; span=(55157, 55164), match='Othello'>\n",
      " 21 -- <re.Match object; span=(55773, 55780), match='Othello'>\n",
      " 22 -- <re.Match object; span=(55869, 55876), match='Othello'>\n",
      " 23 -- <re.Match object; span=(56468, 56475), match='Othello'>\n",
      " 24 -- <re.Match object; span=(57425, 57432), match='Othello'>\n",
      " 25 -- <re.Match object; span=(61840, 61847), match='Othello'>\n",
      " 26 -- <re.Match object; span=(64018, 64025), match='Othello'>\n",
      " 27 -- <re.Match object; span=(65784, 65791), match='Othello'>\n",
      " 28 -- <re.Match object; span=(79301, 79308), match='Othello'>\n",
      " 29 -- <re.Match object; span=(81213, 81220), match='Othello'>\n",
      " 30 -- <re.Match object; span=(83334, 83341), match='Othello'>\n",
      " 31 -- <re.Match object; span=(94542, 94549), match='Othello'>\n",
      " 32 -- <re.Match object; span=(95190, 95197), match='Othello'>\n",
      " 33 -- <re.Match object; span=(97286, 97293), match='Othello'>\n",
      " 34 -- <re.Match object; span=(98725, 98732), match='Othello'>\n",
      " 35 -- <re.Match object; span=(104377, 104384), match='Othello'>\n",
      " 36 -- <re.Match object; span=(106766, 106773), match='Othello'>\n",
      " 37 -- <re.Match object; span=(113421, 113428), match='Othello'>\n",
      " 38 -- <re.Match object; span=(116320, 116327), match='Othello'>\n",
      " 39 -- <re.Match object; span=(118939, 118946), match='Othello'>\n",
      " 40 -- <re.Match object; span=(121492, 121499), match='Othello'>\n",
      " 41 -- <re.Match object; span=(121921, 121928), match='Othello'>\n",
      " 42 -- <re.Match object; span=(128842, 128849), match='Othello'>\n",
      " 43 -- <re.Match object; span=(131408, 131415), match='Othello'>\n",
      " 44 -- <re.Match object; span=(136307, 136314), match='Othello'>\n",
      " 45 -- <re.Match object; span=(143389, 143396), match='Othello'>\n",
      " 46 -- <re.Match object; span=(143442, 143449), match='Othello'>\n",
      " 47 -- <re.Match object; span=(143795, 143802), match='Othello'>\n",
      " 48 -- <re.Match object; span=(144697, 144704), match='Othello'>\n",
      " 49 -- <re.Match object; span=(145271, 145278), match='Othello'>\n",
      " 50 -- <re.Match object; span=(152636, 152643), match='Othello'>\n",
      " 51 -- <re.Match object; span=(154056, 154063), match='Othello'>\n",
      " 52 -- <re.Match object; span=(158420, 158427), match='Othello'>\n",
      " 53 -- <re.Match object; span=(159581, 159588), match='Othello'>\n",
      " 54 -- <re.Match object; span=(172034, 172041), match='Othello'>\n",
      " 55 -- <re.Match object; span=(173565, 173572), match='Othello'>\n",
      " 56 -- <re.Match object; span=(173617, 173624), match='Othello'>\n",
      " 57 -- <re.Match object; span=(174335, 174342), match='Othello'>\n",
      " 58 -- <re.Match object; span=(174780, 174787), match='Othello'>\n"
     ]
    }
   ],
   "source": [
    "for i, match_item in enumerate(re.finditer('Othello', the_play)):\n",
    "    print(f\"{i:>3} -- {match_item}\")"
   ]
  },
  {
   "cell_type": "markdown",
   "metadata": {},
   "source": [
    "<br>\n",
    "\n",
    "<br>\n",
    "\n",
    "<br>\n",
    "\n",
    "<br>\n",
    "\n",
    "\n",
    "Nice! \n",
    "\n",
    "**We have a way to get the fullness of output of `re.search` but for all the matches**."
   ]
  },
  {
   "cell_type": "markdown",
   "metadata": {},
   "source": [
    "# Creating regular expressions\n",
    "\n",
    "Now that we know what some `re` functions do, we are ready to start exploring the real power of the package.\n",
    "\n",
    "Above, we where interested in finding **rigid patterns**. Let us know search for **flexible patterns**.\n",
    "\n"
   ]
  },
  {
   "cell_type": "markdown",
   "metadata": {},
   "source": [
    "## Testing, testing, testing\n",
    "\n",
    "Even though we have brought the matter up, in reality, we have not emphasized enough the need to create test for your code.\n",
    "\n",
    "We were trying to cover the basics of the language and did not want to add another moving part to the learning process.\n",
    "\n",
    "The analogy I may use is that it is much easier to learn to drive with an automatic transmission than with a manual.\n",
    "\n",
    "Now we are switching to *manual transmission* because it is so crucial for writing robust code.\n",
    "\n"
   ]
  },
  {
   "cell_type": "markdown",
   "metadata": {},
   "source": [
    "Above, we discussed phone numbers. However, those are too complicated as a starting point. Instead, we will start with searching for times.\n",
    "\n",
    "Imagine you are fed-up with G..gle and A..le and what to write code to search your emails for times of appointments to add to your calendar. What would you do?\n",
    "\n",
    "Times come in two major formats **good** (`hh:mm`, also called military) and **bad** (`+h:mm*`).\n",
    "\n",
    "Consider the good system: \n",
    "\n",
    "> * The first `h` can take the values 0, 1, or 2 \n",
    "> * The second `h` can take values 0-9\n",
    "> * The first `m` can take values 0-5\n",
    "> * The second `m` can take values 0-9\n",
    "\n",
    "However, not all combinations are possible. For example, 27 is not acceptable for `hh`.\n",
    "\n",
    "Consider the bad system:\n",
    "\n",
    "> * The first `+` can be absent or take the values 0 or 1 \n",
    "> * The second `h` can take values 0-9\n",
    "> * The first `m` can take values 0-5\n",
    "> * The second `m` can take values 0-9\n",
    "> * The * can take the values zero or more spaces followed by pm/PM or am/AM\n",
    "\n",
    "In order to insure the correctness of our code, we should start by creating a list of examples that even though they are not matches look superficially correct and another list of examples that are correct.\n",
    "\n",
    "Both lists should cover a broad range of possibilities.\n"
   ]
  },
  {
   "cell_type": "code",
   "execution_count": 34,
   "metadata": {
    "ExecuteTime": {
     "end_time": "2023-09-13T21:16:48.528963Z",
     "start_time": "2023-09-13T21:16:48.485299Z"
    }
   },
   "outputs": [],
   "source": [
    "positive_good_times = [' 03:43 ', ' 01:00 ', ' 12:59 ', \n",
    "                       ' 13:00 ', ' 21:35 ']\n",
    "negative_good_times = [' orange', ' 03:60 ', ' 26:14 ', ' 0155 ', \n",
    "                       ' 21:355 ']"
   ]
  },
  {
   "cell_type": "markdown",
   "metadata": {},
   "source": [
    "And it is helpful to have a testing function...\n",
    "\n",
    "**Please read the function, then write a `doc_string` and add any comments necessary to explain what is going on.**"
   ]
  },
  {
   "cell_type": "code",
   "execution_count": 38,
   "metadata": {
    "ExecuteTime": {
     "end_time": "2023-09-13T21:17:58.410905Z",
     "start_time": "2023-09-13T21:17:58.367026Z"
    }
   },
   "outputs": [],
   "source": [
    "def test_pattern(pattern, text, positive_matches = True):\n",
    "    \"\"\"\n",
    "    \n",
    "    \"\"\"\n",
    "    count = 0\n",
    "    for item in text:\n",
    "        match = re.search(pattern, item)\n",
    "        if match:\n",
    "            print(f\"{match} -- {item}\")\n",
    "            count += 1\n",
    "        else:\n",
    "            print(item)\n",
    "            \n",
    "    if positive_matches:\n",
    "        print( f\"\\n----Correctly matched {count} out of {len(text)}\"\n",
    "               f\" positives matches.\\n\" )\n",
    "    else:\n",
    "        print(f\"\\n----Correctly failed to match {len(text) - count} out of {len(text)}\"\n",
    "              f\" negative matches.\\n\")\n",
    "\n",
    "    return"
   ]
  },
  {
   "cell_type": "markdown",
   "metadata": {},
   "source": [
    "We will address this problem in a modular manner, so that we can clearly see what the granular operations are.\n",
    "\n",
    "First, I define `hours_re` and `minutes_re` to store the expressions for matching hours and minutes respectively.\n",
    "\n",
    "The simplest case for both is 00-09. Which means that the first digit is always 0 and then second digit is any number from 0 to 9. \n",
    "\n",
    "This is easily defined as `0[0-9]`\n"
   ]
  },
  {
   "cell_type": "code",
   "execution_count": 39,
   "metadata": {
    "ExecuteTime": {
     "end_time": "2023-09-13T21:18:00.067003Z",
     "start_time": "2023-09-13T21:18:00.020651Z"
    }
   },
   "outputs": [
    {
     "name": "stdout",
     "output_type": "stream",
     "text": [
      "Current re_string is:\n",
      "\t\t'0[0-9]:'\n",
      "\n",
      "<re.Match object; span=(1, 4), match='03:'> --  03:43 \n",
      "<re.Match object; span=(1, 4), match='01:'> --  01:00 \n",
      " 12:59 \n",
      " 13:00 \n",
      " 21:35 \n",
      "\n",
      "----Correctly matched 2 out of 5 positives matches.\n",
      "\n",
      " orange\n",
      "<re.Match object; span=(1, 4), match='03:'> --  03:60 \n",
      " 26:14 \n",
      " 0155 \n",
      " 21:355 \n",
      "\n",
      "----Correctly failed to match 4 out of 5 negative matches.\n",
      "\n"
     ]
    }
   ],
   "source": [
    "hours_re = '0[0-9]'\n",
    "\n",
    "re_times = hours_re + ':' \n",
    "print(f\"Current re_string is:\\n\\t\\t'{re_times}'\\n\")\n",
    "\n",
    "test_pattern(re_times, positive_good_times)            \n",
    "test_pattern(re_times, negative_good_times, False)"
   ]
  },
  {
   "cell_type": "markdown",
   "metadata": {},
   "source": [
    "Not impressive, ah!\n",
    "\n",
    "Let's include other possibilities such as 10 to 19\n"
   ]
  },
  {
   "cell_type": "code",
   "execution_count": 41,
   "metadata": {
    "ExecuteTime": {
     "end_time": "2023-09-13T21:18:57.698296Z",
     "start_time": "2023-09-13T21:18:57.657966Z"
    }
   },
   "outputs": [
    {
     "name": "stdout",
     "output_type": "stream",
     "text": [
      "Current re_string is:\n",
      "\t\t'(0[0-9]|1[0-9]):'\n",
      "\n",
      "<re.Match object; span=(1, 4), match='03:'> --  03:43 \n",
      "<re.Match object; span=(1, 4), match='01:'> --  01:00 \n",
      "<re.Match object; span=(1, 4), match='12:'> --  12:59 \n",
      "<re.Match object; span=(1, 4), match='13:'> --  13:00 \n",
      " 21:35 \n",
      "\n",
      "----Correctly matched 4 out of 5 positives matches.\n",
      "\n",
      " orange\n",
      "<re.Match object; span=(1, 4), match='03:'> --  03:60 \n",
      " 26:14 \n",
      " 0155 \n",
      " 21:355 \n",
      "\n",
      "----Correctly failed to match 4 out of 5 negative matches.\n",
      "\n"
     ]
    }
   ],
   "source": [
    "hours_re = '(0[0-9]|1[0-9])'\n",
    "\n",
    "re_times = hours_re + ':'\n",
    "print(f\"Current re_string is:\\n\\t\\t'{re_times}'\\n\")\n",
    "\n",
    "test_pattern(re_times, positive_good_times)            \n",
    "test_pattern(re_times, negative_good_times, False)"
   ]
  },
  {
   "cell_type": "markdown",
   "metadata": {},
   "source": [
    "Almost there for hours. Let's add 20 to 23..."
   ]
  },
  {
   "cell_type": "code",
   "execution_count": 42,
   "metadata": {
    "ExecuteTime": {
     "end_time": "2023-09-13T21:19:33.707942Z",
     "start_time": "2023-09-13T21:19:33.671597Z"
    }
   },
   "outputs": [
    {
     "name": "stdout",
     "output_type": "stream",
     "text": [
      "Current re_string is:\n",
      "\t\t'(0[0-9]|1[0-9]|2[0-3]):'\n",
      "\n",
      "<re.Match object; span=(1, 4), match='03:'> --  03:43 \n",
      "<re.Match object; span=(1, 4), match='01:'> --  01:00 \n",
      "<re.Match object; span=(1, 4), match='12:'> --  12:59 \n",
      "<re.Match object; span=(1, 4), match='13:'> --  13:00 \n",
      "<re.Match object; span=(1, 4), match='21:'> --  21:35 \n",
      "\n",
      "----Correctly matched 5 out of 5 positives matches.\n",
      "\n",
      " orange\n",
      "<re.Match object; span=(1, 4), match='03:'> --  03:60 \n",
      " 26:14 \n",
      " 0155 \n",
      "<re.Match object; span=(1, 4), match='21:'> --  21:355 \n",
      "\n",
      "----Correctly failed to match 3 out of 5 negative matches.\n",
      "\n"
     ]
    }
   ],
   "source": [
    "hours_re = '(0[0-9]|1[0-9]|2[0-3])'\n",
    "\n",
    "re_times = hours_re + ':'\n",
    "print(f\"Current re_string is:\\n\\t\\t'{re_times}'\\n\")\n",
    "\n",
    "test_pattern(re_times, positive_good_times)            \n",
    "test_pattern(re_times, negative_good_times, False)"
   ]
  },
  {
   "cell_type": "markdown",
   "metadata": {},
   "source": [
    "The hours are looking pretty good. \n",
    "\n",
    "Let's add the minutes term. Any value from 00 to 59 works so `[0-5][0-9]`"
   ]
  },
  {
   "cell_type": "code",
   "execution_count": 43,
   "metadata": {
    "ExecuteTime": {
     "end_time": "2023-09-13T21:20:04.229219Z",
     "start_time": "2023-09-13T21:20:04.191530Z"
    }
   },
   "outputs": [
    {
     "name": "stdout",
     "output_type": "stream",
     "text": [
      "Current re_string is:\n",
      "\t\t'(0[0-9]|1[0-9]|2[0-3]):[0-5][0-9]'\n",
      "\n",
      "<re.Match object; span=(1, 6), match='03:43'> --  03:43 \n",
      "<re.Match object; span=(1, 6), match='01:00'> --  01:00 \n",
      "<re.Match object; span=(1, 6), match='12:59'> --  12:59 \n",
      "<re.Match object; span=(1, 6), match='13:00'> --  13:00 \n",
      "<re.Match object; span=(1, 6), match='21:35'> --  21:35 \n",
      "\n",
      "----Correctly matched 5 out of 5 positives matches.\n",
      "\n",
      " orange\n",
      " 03:60 \n",
      " 26:14 \n",
      " 0155 \n",
      "<re.Match object; span=(1, 6), match='21:35'> --  21:355 \n",
      "\n",
      "----Correctly failed to match 4 out of 5 negative matches.\n",
      "\n"
     ]
    }
   ],
   "source": [
    "hours_re = '(0[0-9]|1[0-9]|2[0-3])'\n",
    "minutes_re = '[0-5][0-9]'\n",
    "\n",
    "re_times = hours_re + ':' + minutes_re\n",
    "print(f\"Current re_string is:\\n\\t\\t'{re_times}'\\n\")\n",
    "\n",
    "test_pattern(re_times, positive_good_times)            \n",
    "test_pattern(re_times, negative_good_times, False)"
   ]
  },
  {
   "cell_type": "markdown",
   "metadata": {},
   "source": [
    "We are almost there. The problem is that while **21:355** is not a time, it contains **21:35** which is a time.\n",
    "\n",
    "How to solve this? For it to be a time, it needs to have a something that is not a digit after the first **5**...\n",
    "\n",
    "**We will take this opportunity to make use of the useful codes (accessible with `\\`) that can be found at \n",
    "[site](https://www.rexegg.com/regex-quickstart.html#chars).**\n",
    "\n",
    "If you search the cases shown there, you find the `\\d` can be used to indicate any single digit -- thus equivalent to [0-9] -- and that `\\D` means any single character that is not a digit.\n",
    "\n",
    "Using these conventions, we can write"
   ]
  },
  {
   "cell_type": "code",
   "execution_count": 44,
   "metadata": {
    "ExecuteTime": {
     "end_time": "2023-09-13T21:23:39.392859Z",
     "start_time": "2023-09-13T21:23:39.352111Z"
    }
   },
   "outputs": [
    {
     "name": "stdout",
     "output_type": "stream",
     "text": [
      "Current re_string is:\n",
      "\t\t'(0\\d|1\\d|2[0-3]):[0-5]\\d\\D'\n",
      "\n",
      "<re.Match object; span=(1, 7), match='03:43 '> --  03:43 \n",
      "<re.Match object; span=(1, 7), match='01:00 '> --  01:00 \n",
      "<re.Match object; span=(1, 7), match='12:59 '> --  12:59 \n",
      "<re.Match object; span=(1, 7), match='13:00 '> --  13:00 \n",
      "<re.Match object; span=(1, 7), match='21:35 '> --  21:35 \n",
      "\n",
      "----Correctly matched 5 out of 5 positives matches.\n",
      "\n",
      " orange\n",
      " 03:60 \n",
      " 26:14 \n",
      " 0155 \n",
      " 21:355 \n",
      "\n",
      "----Correctly failed to match 5 out of 5 negative matches.\n",
      "\n"
     ]
    }
   ],
   "source": [
    "hours_re = '(0\\d|1\\d|2[0-3])'\n",
    "minutes_re = '[0-5]\\d\\D'\n",
    "\n",
    "re_times = hours_re + ':' + minutes_re\n",
    "print(f\"Current re_string is:\\n\\t\\t'{re_times}'\\n\")\n",
    "\n",
    "test_pattern(re_times, positive_good_times)            \n",
    "test_pattern(re_times, negative_good_times, False)"
   ]
  },
  {
   "cell_type": "markdown",
   "metadata": {},
   "source": [
    "This looks great. However, humans do not always follow rules precisely.  \n",
    "\n",
    "For example, **Yoweri Nseko** pointed out that `e3:37` would be incorrectly identified as a match... and one probably still consider a case without the initial 0 as correct.\n",
    "\n",
    "**Let's modify our test lists!**"
   ]
  },
  {
   "cell_type": "code",
   "execution_count": 45,
   "metadata": {
    "ExecuteTime": {
     "end_time": "2023-09-13T21:30:41.554259Z",
     "start_time": "2023-09-13T21:30:41.390264Z"
    }
   },
   "outputs": [],
   "source": [
    "negative_good_times.extend([' e3:26 ', ' f23:18 '])\n",
    "positive_good_times.extend([' 3:25 ', ' 13:45 '])"
   ]
  },
  {
   "cell_type": "markdown",
   "metadata": {},
   "source": [
    "When modifying the pattern string below, you might find it useful to know that `\\s` means any whitespace character."
   ]
  },
  {
   "cell_type": "code",
   "execution_count": 46,
   "metadata": {
    "ExecuteTime": {
     "end_time": "2023-09-13T21:30:46.956362Z",
     "start_time": "2023-09-13T21:30:46.906205Z"
    }
   },
   "outputs": [
    {
     "name": "stdout",
     "output_type": "stream",
     "text": [
      "Current re_string is:\n",
      "\t\t(0\\d|1\\d|2[0-3]):[0-5]\\d\\D\n",
      "\n",
      "<re.Match object; span=(1, 7), match='03:43 '> --  03:43 \n",
      "<re.Match object; span=(1, 7), match='01:00 '> --  01:00 \n",
      "<re.Match object; span=(1, 7), match='12:59 '> --  12:59 \n",
      "<re.Match object; span=(1, 7), match='13:00 '> --  13:00 \n",
      "<re.Match object; span=(1, 7), match='21:35 '> --  21:35 \n",
      " 3:25 \n",
      "<re.Match object; span=(1, 7), match='13:45 '> --  13:45 \n",
      "\n",
      "----Correctly matched 6 out of 7 positives matches.\n",
      "\n",
      " orange\n",
      " 03:60 \n",
      " 26:14 \n",
      " 0155 \n",
      " 21:355 \n",
      " e3:26 \n",
      "<re.Match object; span=(2, 8), match='23:18 '> --  f23:18 \n",
      "\n",
      "----Correctly failed to match 6 out of 7 negative matches.\n",
      "\n"
     ]
    }
   ],
   "source": [
    "hours_re = '(0\\d|1\\d|2[0-3])'\n",
    "minutes_re = '[0-5]\\d\\D'\n",
    "\n",
    "re_times = hours_re + ':' + minutes_re\n",
    "print(f\"Current re_string is:\\n\\t\\t{re_times}\\n\")\n",
    "\n",
    "test_pattern(re_times, positive_good_times)            \n",
    "test_pattern(re_times, negative_good_times, False)"
   ]
  },
  {
   "cell_type": "markdown",
   "metadata": {},
   "source": [
    "Awesome! You are now an expert and ready to move on to the case of bad_times.\n",
    "\n",
    "I will start your list of examples, but you do the rest."
   ]
  },
  {
   "cell_type": "code",
   "execution_count": 47,
   "metadata": {
    "ExecuteTime": {
     "end_time": "2023-09-13T21:35:35.661631Z",
     "start_time": "2023-09-13T21:35:35.622141Z"
    }
   },
   "outputs": [],
   "source": [
    "positive_bad_times = [' 03:43pm ', ' 1:00 AM ', ]\n",
    "negative_bad_times = ['orange', ' 03:50 XM ', ]\n"
   ]
  },
  {
   "cell_type": "markdown",
   "metadata": {},
   "source": [
    "And you build the `re_string`"
   ]
  },
  {
   "cell_type": "code",
   "execution_count": null,
   "metadata": {},
   "outputs": [],
   "source": []
  },
  {
   "cell_type": "markdown",
   "metadata": {},
   "source": [
    "## Getting help, but testing the help you get\n",
    "\n",
    "Times, dates and email addresses are common types of information that one wants to extract from documents.  Above we saw how to handle times.  You can look into dates as an exercise.\n",
    "\n",
    "Let us consider email addresses now.  **[Wikipedia](https://en.wikipedia.org/wiki/Email_address) has a detailed explanation of the rules governing the construction of valid emails addresses that we transcribe here.**\n",
    "\n",
    "### The `local-part`\n",
    "\n",
    "How are email addresses constructed? The standard formulation is `local-part@domain`.  The `local-part`, if unquoted, may use any of these ASCII characters:\n",
    "\n",
    "* uppercase and lowercase Latin letters A to Z and a to z\n",
    "* digits 0 to 9\n",
    "* printable characters !#$%&'*+-/=?^_`{|}~\n",
    "* dot ., provided that it is not the first or last character and provided also that it does not appear consecutively (e.g., John..Doe@example.com is not allowed)\n",
    "\n",
    "The maximum total length of the local-part of an email address is 64 octets, so in principle it can amount to 64 characters.\n"
   ]
  },
  {
   "cell_type": "markdown",
   "metadata": {},
   "source": [
    "### The `domain`\n",
    "\n",
    "The `domain` part of an email address has to conform to strict guidelines: it must match the requirements for a `hostname`, a list of dot-separated `DNS` labels, each label being limited to a length of 63 characters and consisting of:\n",
    "\n",
    "* uppercase and lowercase Latin letters A to Z and a to z\n",
    "* digits 0 to 9, provided that top-level domain names are not all-numeric\n",
    "* hyphen -, provided that it is not the first or last character\n",
    "\n",
    "Certain domains, for example those intended for documentation and testing, should not be resolvable and that as a result mail addressed to mailboxes in them and their sub-domains should be non-deliverable. Of note for e-mail are `example`, `invalid`, `example.com`, `example.net`, and `example.org`. \n"
   ]
  },
  {
   "cell_type": "markdown",
   "metadata": {},
   "source": [
    "Seems complicated. So, why don't we check whether someone already built a regex for email addresses.\n",
    "\n",
    "If you search online, you may be able to find the following solution\n",
    "\n",
    "> `^[a-zA-Z0-9.]+@[a-zA-Z0-9.]+.[a-zA-Z0-9]+$`\n",
    "\n",
    "It appears appropriately complicated!  But how do we know whether it works?\n",
    "\n",
    "Let's test it!"
   ]
  },
  {
   "cell_type": "code",
   "execution_count": 52,
   "metadata": {
    "ExecuteTime": {
     "end_time": "2023-09-13T21:45:03.381544Z",
     "start_time": "2023-09-13T21:45:03.345078Z"
    }
   },
   "outputs": [],
   "source": [
    "emails = ['a@b.co', \n",
    "          'something@somethingelse.org', \n",
    "          '89@42.info', \n",
    "          'something@something.else.com', ]\n",
    "not_emails = ['@b.c', \n",
    "              'a@b.', \n",
    "              'something@somethingelse.', ]"
   ]
  },
  {
   "cell_type": "code",
   "execution_count": 53,
   "metadata": {
    "ExecuteTime": {
     "end_time": "2023-09-13T21:45:03.882493Z",
     "start_time": "2023-09-13T21:45:03.838962Z"
    }
   },
   "outputs": [
    {
     "name": "stdout",
     "output_type": "stream",
     "text": [
      "Current re_string is:\n",
      "\t\t^[a-zA-Z0-9.]+@[a-zA-Z0-9.]+.[a-zA-Z0-9]+$\n",
      "\n",
      "<re.Match object; span=(0, 6), match='a@b.co'> -- a@b.co\n",
      "<re.Match object; span=(0, 27), match='something@somethingelse.org'> -- something@somethingelse.org\n",
      "<re.Match object; span=(0, 10), match='89@42.info'> -- 89@42.info\n",
      "<re.Match object; span=(0, 28), match='something@something.else.com'> -- something@something.else.com\n",
      "\n",
      "----Correctly matched 4 out of 4 positives matches.\n",
      "\n",
      "@b.c\n",
      "a@b.\n",
      "something@somethingelse.\n",
      "\n",
      "----Correctly failed to match 3 out of 3 negative matches.\n",
      "\n"
     ]
    }
   ],
   "source": [
    "re_emails = '^[a-zA-Z0-9.]+@[a-zA-Z0-9.]+.[a-zA-Z0-9]+$'\n",
    "print(f\"Current re_string is:\\n\\t\\t{re_emails}\\n\")\n",
    "\n",
    "test_pattern(re_emails, emails)            \n",
    "test_pattern(re_emails, not_emails, False)"
   ]
  },
  {
   "cell_type": "markdown",
   "metadata": {},
   "source": [
    "Well it appears to work! \n",
    "\n",
    "At least it fits all are test cases... Should we create more examples to be sure?\n",
    "\n",
    "\n",
    "<br>\n",
    "\n",
    "<br>\n",
    "\n",
    "<br>\n",
    "\n",
    "<br>\n",
    "\n",
    "<br>\n",
    "\n",
    "<br>\n",
    "\n",
    "\n",
    "\n",
    "Good decision.\n",
    "\n",
    "For now, let's see if we can make sense of `re_email` by breaking it down in pieces as we did with re_times\n",
    "\n"
   ]
  },
  {
   "cell_type": "code",
   "execution_count": 78,
   "metadata": {
    "ExecuteTime": {
     "end_time": "2023-09-13T21:58:25.216725Z",
     "start_time": "2023-09-13T21:58:25.173797Z"
    }
   },
   "outputs": [
    {
     "name": "stdout",
     "output_type": "stream",
     "text": [
      "Current re_string is:\n",
      "\t\t[a-zA-Z0-9.]+@[a-zA-Z0-9.]+.[a-zA-Z0-9]+\n",
      "\n"
     ]
    }
   ],
   "source": [
    "username_re = '[a-zA-Z0-9.]+'\n",
    "domain_re = '[a-zA-Z0-9.]+.[a-zA-Z0-9]+'\n",
    "\n",
    "re_emails = username_re + '@' + domain_re\n",
    "print(f\"Current re_string is:\\n\\t\\t{re_emails}\\n\")"
   ]
  },
  {
   "cell_type": "markdown",
   "metadata": {},
   "source": [
    "`username_re` has three parts:\n",
    "\n",
    "> * `^` means what comes next has to be a the start of the string symbol. It only makes sense to add this if the string contains only the email and nothing else.\n",
    "> * `[a-zA-Z0-9.]` means that the characters allowed include lower case letters, upper case letters, digits, and periods.\n",
    "> * `+` means that the previous element must appear at least once\n",
    "at the beginning means the string must start with the first expression. This is a very handy character when you care about words that are at the start of a line only. \n",
    "\n",
    "`domain_re` also has three parts:\n",
    "\n",
    "> * `[a-zA-Z0-9.]` means that the characters allowed include lower case letters, upper case letters, digits, and periods.\n",
    "> * `+` means that the previous element must appear at least once\n",
    "> * `.[a-zA-Z0-9]+` means that after some characters that may include periods, there must come a period followed by at least one character that is a lower case letter, an upper case letters, or a digits.\n",
    "> '$' means that the string ends here or at most has a new line. This also only makes sense if the string contains only the email and nothing else.\n",
    "\n",
    "Breaking it down like this makes some issues with `re_emails` apparent\n"
   ]
  },
  {
   "cell_type": "code",
   "execution_count": 80,
   "metadata": {
    "ExecuteTime": {
     "end_time": "2023-09-13T21:58:27.573678Z",
     "start_time": "2023-09-13T21:58:27.532371Z"
    }
   },
   "outputs": [
    {
     "name": "stdout",
     "output_type": "stream",
     "text": [
      "Current re_string is:\n",
      "\t\t'[a-zA-Z0-9.]+@[a-zA-Z0-9.]+.[a-zA-Z0-9]+'\n",
      "\n",
      "<re.Match object; span=(1, 7), match='a@b.co'> --  a@b.co \n",
      "<re.Match object; span=(1, 28), match='something@somethingelse.org'> --  something@somethingelse.org \n",
      "<re.Match object; span=(1, 11), match='89@42.info'> --  89@42.info \n",
      "<re.Match object; span=(1, 29), match='something@something.else.com'> --  something@something.else.com \n",
      "<re.Match object; span=(1, 14), match='g.o@gmail.com'> --  g.o@gmail.com \n",
      "<re.Match object; span=(1, 7), match='a@b.co'> -- <a@b.co>\n",
      "\n",
      "----Correctly matched 6 out of 6 positives matches.\n",
      "\n",
      " @b.c \n",
      " a@b. \n",
      "<re.Match object; span=(1, 24), match='something@somethingelse'> --  something@somethingelse. \n",
      "<re.Match object; span=(1, 75), match='aaaaaaaaaaaaaaaaaaaaaaaaaaaaaaaaaaaaaaaaaaaaaaaaa> --  aaaaaaaaaaaaaaaaaaaaaaaaaaaaaaaaaaaaaaaaaaaaaaaaaaaaaaaaaaaaaaaaaaaaaa@b.c \n",
      "<re.Match object; span=(1, 6), match='a@b.c'> --  a@b.c \n",
      "<re.Match object; span=(1, 40), match='a@b.ccccccccccccccccccccccccccccccccccc'> --  a@b.ccccccccccccccccccccccccccccccccccc \n",
      "<re.Match object; span=(1, 26), match='a@b.b.b.b.b.b.b.b.b.b.com'> --  a@b.b.b.b.b.b.b.b.b.b.com \n",
      "<re.Match object; span=(1, 13), match='.a@gmail.com'> --  .a@gmail.com \n",
      "<re.Match object; span=(1, 13), match='a.@gmail.com'> --  a.@gmail.com \n",
      " a @gmail.com \n",
      "\n",
      "----Correctly failed to match 3 out of 10 negative matches.\n",
      "\n"
     ]
    }
   ],
   "source": [
    "print(f\"Current re_string is:\\n\\t\\t'{re_emails}'\\n\")\n",
    "\n",
    "test_pattern(re_emails, emails)            \n",
    "test_pattern(re_emails, not_emails, False)"
   ]
  },
  {
   "cell_type": "markdown",
   "metadata": {},
   "source": [
    "Our string is likely to contain more than just an email address.\n",
    "\n",
    "The username cannot be of arbitrary length. \n",
    "\n",
    "There likely cannot be more than 4 or 5 intermediate levels before the final period.\n",
    "\n",
    "The final string of the server cannot be a single character and cannot be longer than a few characters."
   ]
  },
  {
   "cell_type": "code",
   "execution_count": 99,
   "metadata": {
    "ExecuteTime": {
     "end_time": "2023-09-13T22:14:37.523605Z",
     "start_time": "2023-09-13T22:14:37.488038Z"
    }
   },
   "outputs": [],
   "source": [
    "emails = [' a@b.co ', \n",
    "          ' something@somethingelse.org ', \n",
    "          ' 89@42.info ', \n",
    "          ' something@something.else.com ', \n",
    "          ' g.o@gmail.com ',\n",
    "          '<a@b.com>',\n",
    "         ]\n",
    "not_emails = [' @b.c ', \n",
    "              ' a@b. ', \n",
    "              ' something@somethingelse. ', \n",
    "              ' '+'a'*70+'@b.c ', ' a@b.c ', \n",
    "              ' a@b.ccccccccccccccccccccccccccccccccccc ',\n",
    "              ' a@' + 'b.'*10 + 'com ', \n",
    "              ' .a@gmail.com ',\n",
    "              ' aa.@gmail.com ',\n",
    "              ' a @gmail.com '\n",
    "             ]"
   ]
  },
  {
   "cell_type": "code",
   "execution_count": 103,
   "metadata": {
    "ExecuteTime": {
     "end_time": "2023-09-13T22:17:17.866564Z",
     "start_time": "2023-09-13T22:17:17.828865Z"
    }
   },
   "outputs": [
    {
     "name": "stdout",
     "output_type": "stream",
     "text": [
      "Current re_string is:\n",
      "\t\t'([<\\s][^. ]{1}[\\w.]{0,62}[^. ]{0,1})@((\\w{1,64}\\.){0,4})(\\w{1,64}\\.[a-zA-Z]{2,8}[>\\s])'\n",
      "\n",
      "<re.Match object; span=(0, 8), match=' a@b.co '> --  a@b.co \n",
      "<re.Match object; span=(0, 29), match=' something@somethingelse.org '> --  something@somethingelse.org \n",
      "<re.Match object; span=(0, 12), match=' 89@42.info '> --  89@42.info \n",
      "<re.Match object; span=(0, 30), match=' something@something.else.com '> --  something@something.else.com \n",
      "<re.Match object; span=(0, 15), match=' g.o@gmail.com '> --  g.o@gmail.com \n",
      "<re.Match object; span=(0, 9), match='<a@b.com>'> -- <a@b.com>\n",
      "\n",
      "----Correctly matched 6 out of 6 positives matches.\n",
      "\n",
      " @b.c \n",
      " a@b. \n",
      " something@somethingelse. \n",
      " aaaaaaaaaaaaaaaaaaaaaaaaaaaaaaaaaaaaaaaaaaaaaaaaaaaaaaaaaaaaaaaaaaaaaa@b.c \n",
      " a@b.c \n",
      " a@b.ccccccccccccccccccccccccccccccccccc \n",
      " a@b.b.b.b.b.b.b.b.b.b.com \n",
      " .a@gmail.com \n",
      "<re.Match object; span=(0, 15), match=' aa.@gmail.com '> --  aa.@gmail.com \n",
      " a @gmail.com \n",
      "\n",
      "----Correctly failed to match 9 out of 10 negative matches.\n",
      "\n"
     ]
    }
   ],
   "source": [
    "# username is no longer than 64 characters\n",
    "# \\w covers digits, upper and lower case letters and _\n",
    "# first and last character cannot be periods\n",
    "#\n",
    "username_re = '([<\\s][^. ]{1}[\\w.]{0,62}[^. ]{0,1})'\n",
    "# username_re = '([<\\s][^. ]{1}[\\w.]{0,62}[^. ]{1})'\n",
    "\n",
    "# domain server (xxx.xx) last portion must be 2-8 letters\n",
    "# after which there must be some space\n",
    "#\n",
    "domain_re = '(\\w{1,64}\\.[a-zA-Z]{2,8}[>\\s])'\n",
    "\n",
    "# inner domain pieces (up to 4), each must end with .\n",
    "inner_domain_re = '((\\w{1,64}\\.){0,4})'\n",
    "\n",
    "re_emails = ( username_re + '@' + inner_domain_re + domain_re )\n",
    "\n",
    "print(f\"Current re_string is:\\n\\t\\t'{re_emails}'\\n\")\n",
    "\n",
    "test_pattern(re_emails, emails)            \n",
    "test_pattern(re_emails, not_emails, False)"
   ]
  },
  {
   "cell_type": "markdown",
   "metadata": {},
   "source": [
    "Excellent! It works in **almost** all of our new test cases!\n",
    "\n",
    "We could continue to improve this `regex` (say by limiting the ending domain to only known domains).\n",
    "\n",
    "**In order to keep readability, it is important that you try to break the `re string` into pieces that are individually easier to validate**.\n"
   ]
  },
  {
   "cell_type": "markdown",
   "metadata": {},
   "source": [
    "# Playing with Jeb Bush's emails \n",
    "\n",
    "For those of you too young to know anything, this was a thing before the 2016 elections.\n",
    "\n",
    "In 2015, before his ill-fated primary run for the Republican Party Presidential Nomination, Jeb Bush released a number of his e-mails in a bid for transparency. \n",
    "\n",
    "As usually happens, the release wasn't vetted very well and some constituents Social Security numbers were exposed. \n",
    "\n",
    "But let's ignore that and instead focus on finding who then FL Governor Jed Bush corresponded with. The data is located in the folder `Data/Emails/`.\n",
    "\n",
    "Let's see what data we have there..."
   ]
  },
  {
   "cell_type": "code",
   "execution_count": 104,
   "metadata": {
    "ExecuteTime": {
     "end_time": "2023-09-13T22:19:11.589253Z",
     "start_time": "2023-09-13T22:19:11.552861Z"
    }
   },
   "outputs": [
    {
     "name": "stdout",
     "output_type": "stream",
     "text": [
      " 0 -- /Users/amaral/Dropbox/Code_Development/COURSES/Amaral_Lab_Intro_to_Data_Science/Module_Natural_Language_Processing/Data/Emails/2001-06Jun.txt\n",
      " 1 -- /Users/amaral/Dropbox/Code_Development/COURSES/Amaral_Lab_Intro_to_Data_Science/Module_Natural_Language_Processing/Data/Emails/2001-10Oct.txt\n",
      " 2 -- /Users/amaral/Dropbox/Code_Development/COURSES/Amaral_Lab_Intro_to_Data_Science/Module_Natural_Language_Processing/Data/Emails/2001-03Mar.txt\n",
      " 3 -- /Users/amaral/Dropbox/Code_Development/COURSES/Amaral_Lab_Intro_to_Data_Science/Module_Natural_Language_Processing/Data/Emails/2001-08Aug.txt\n",
      " 4 -- /Users/amaral/Dropbox/Code_Development/COURSES/Amaral_Lab_Intro_to_Data_Science/Module_Natural_Language_Processing/Data/Emails/2001-07Jul.txt\n",
      " 5 -- /Users/amaral/Dropbox/Code_Development/COURSES/Amaral_Lab_Intro_to_Data_Science/Module_Natural_Language_Processing/Data/Emails/2001-12Dec.txt\n",
      " 6 -- /Users/amaral/Dropbox/Code_Development/COURSES/Amaral_Lab_Intro_to_Data_Science/Module_Natural_Language_Processing/Data/Emails/2001-05May.txt\n",
      " 7 -- /Users/amaral/Dropbox/Code_Development/COURSES/Amaral_Lab_Intro_to_Data_Science/Module_Natural_Language_Processing/Data/Emails/2001-01Jan.txt\n",
      " 8 -- /Users/amaral/Dropbox/Code_Development/COURSES/Amaral_Lab_Intro_to_Data_Science/Module_Natural_Language_Processing/Data/Emails/2001-04Apr.txt\n",
      " 9 -- /Users/amaral/Dropbox/Code_Development/COURSES/Amaral_Lab_Intro_to_Data_Science/Module_Natural_Language_Processing/Data/Emails/2001-11Nov.txt\n",
      "10 -- /Users/amaral/Dropbox/Code_Development/COURSES/Amaral_Lab_Intro_to_Data_Science/Module_Natural_Language_Processing/Data/Emails/2001-02Feb.txt\n",
      "11 -- /Users/amaral/Dropbox/Code_Development/COURSES/Amaral_Lab_Intro_to_Data_Science/Module_Natural_Language_Processing/Data/Emails/2001-09Sep.txt\n"
     ]
    }
   ],
   "source": [
    "emails_folder = Path.cwd() / 'Data' / 'Emails'\n",
    "\n",
    "filenames = list( emails_folder.glob('*.txt') )\n",
    "for i, filename in enumerate( filenames ):\n",
    "    print(f\"{i:>2} -- {filename}\")\n"
   ]
  },
  {
   "cell_type": "markdown",
   "metadata": {},
   "source": [
    "Let's pick the 8th file, from `01 Jan`.\n",
    "\n",
    "Note that these files were encoded in the `ISO-8859-1` standard.\n"
   ]
  },
  {
   "cell_type": "code",
   "execution_count": 109,
   "metadata": {
    "ExecuteTime": {
     "end_time": "2023-09-13T22:20:44.712047Z",
     "start_time": "2023-09-13T22:20:44.665350Z"
    }
   },
   "outputs": [
    {
     "name": "stdout",
     "output_type": "stream",
     "text": [
      "This email file has 4,608,586 characters.\n",
      "\n",
      "-----------------------\n",
      "From:\tBill and Carol Steele <scl@uslink.net>\n",
      "Sent:\tWednesday, January 31, 2001 11:19 PM\n",
      "To:\tGovernor Bush\n",
      "Subject:\tHomestead AFB\n",
      "\n",
      "31 January 2000\n",
      "\n",
      "Dear Governor Bush:\n",
      "\n",
      "I am writing to urge you to support the Air Force in its decision to give \n",
      "Miami-Dade County 700 acres of surplus property at Homest\n"
     ]
    }
   ],
   "source": [
    "with open( filenames[7], 'r', encoding = 'ISO-8859-1') as file_in:\n",
    "    emails_string = file_in.read()\n",
    "    \n",
    "print(f\"This email file has {place_commas(len(emails_string))} \"\n",
    "      f\"characters.\\n\\n-----------------------\")\n",
    "\n",
    "print(emails_string[:300])\n"
   ]
  },
  {
   "cell_type": "markdown",
   "metadata": {},
   "source": [
    ".\n",
    "\n",
    "\n",
    ".\n",
    "\n",
    "\n",
    "Clearly there are some differences to what we were looking at.\n",
    "\n",
    "In particular, it seems that email may be enclosed by `<...>`.\n",
    "\n",
    "That is handy and easy enough to incorporate into our `re_string`\n"
   ]
  },
  {
   "cell_type": "code",
   "execution_count": 110,
   "metadata": {
    "ExecuteTime": {
     "end_time": "2023-09-13T22:22:06.741986Z",
     "start_time": "2023-09-13T22:22:06.700253Z"
    }
   },
   "outputs": [
    {
     "name": "stdout",
     "output_type": "stream",
     "text": [
      "Current re_string is:\n",
      "\t\t'([<\\s][^. ]{1}[\\w.]{0,62}[^. ]{0,1})@((\\w{1,64}\\.){0,4})(\\w{1,64}\\.[a-zA-Z]{2,8}[>\\s])'\n",
      "\n",
      "<re.Match object; span=(27, 44), match=' <scl@uslink.net>'>\n",
      "<re.Match object; span=(882, 899), match=' <scl@uslink.net>'>\n",
      "<re.Match object; span=(1715, 1732), match='\\tROMARC7@aol.com\\n'>\n",
      "<re.Match object; span=(1778, 1791), match='\\tjeb@jeb.org\\n'>\n",
      "<re.Match object; span=(1794, 1818), match='\\tungerk@eog.state.fl.us\\n'>\n",
      "<re.Match object; span=(3188, 3211), match=' <ellenwhitmer@msn.com>'>\n"
     ]
    }
   ],
   "source": [
    "username_re = '([<\\s][^. ]{1}[\\w.]{0,62}[^. ]{0,1})'\n",
    "domain_re = '(\\w{1,64}\\.[a-zA-Z]{2,8}[>\\s])'\n",
    "inner_domain_re = '((\\w{1,64}\\.){0,4})'\n",
    "\n",
    "re_emails = ( username_re + '@' + inner_domain_re + domain_re )\n",
    "\n",
    "print(f\"Current re_string is:\\n\\t\\t'{re_emails}'\\n\")\n",
    "\n",
    "for match in re.finditer(re_emails, emails_string[:5000]):\n",
    "    print(match)"
   ]
  },
  {
   "cell_type": "markdown",
   "metadata": {},
   "source": [
    "Note bad. All the matches are good email addresses.  \n",
    "\n",
    "Notice that some are enclosed inside **<...>** while others are not, but instead have whitespace around it.\n"
   ]
  },
  {
   "cell_type": "markdown",
   "metadata": {},
   "source": [
    "Do you need to buy an email list to sell your miracle COVID cure? I can offer you a very good deal!\n",
    "\n",
    "Let's check how many there are in the entire file.\n"
   ]
  },
  {
   "cell_type": "code",
   "execution_count": 114,
   "metadata": {
    "ExecuteTime": {
     "end_time": "2023-09-13T22:26:37.930518Z",
     "start_time": "2023-09-13T22:26:37.736238Z"
    },
    "scrolled": true
   },
   "outputs": [
    {
     "name": "stdout",
     "output_type": "stream",
     "text": [
      "Current re_string is:\n",
      "\t\t'([<\\s][^. ]{1}[\\w.]{0,62}[^. ]{0,1})@((\\w{1,64}\\.){0,4})(\\w{1,64}\\.[a-zA-Z]{2,8}[>\\s])'\n",
      "\n",
      "    0--                                    scl@uslink.net -- 27\n",
      "   50--                                       jeb@jeb.org -- 45946\n",
      "  100--                                       jeb@jeb.org -- 78716\n",
      "  150--                           yourvoice@myflorida.com -- 143564\n",
      "  200--                      jimmy.watson@fl.ngb.army.mil -- 197964\n",
      "  250--                     secretary@mail.dc.state.fl.us -- 234197\n",
      "  300--                                       jeb@jeb.org -- 273683\n",
      "  350--                                       jeb@jeb.org -- 317773\n",
      "  400--                                       jeb@jeb.org -- 359912\n",
      "  450--                                       jeb@jeb.org -- 400180\n",
      "  500--                            wgilbert@earthlink.net -- 454037\n",
      "  550--                       BBevis@mail.dos.state.fl.us -- 486109\n",
      "  600--                              holman@blankrome.com -- 514989\n",
      "  650--                                IQUITIQUIT@aol.com -- 547116\n",
      "  700--                        pegglegg@amputeeoncall.org -- 577021\n",
      "  750--                                       jeb@jeb.org -- 598455\n",
      "  800--                                lance.kyle@key.com -- 625569\n",
      "  850--                           Lowell001@email.msn.com -- 677239\n",
      "  900--                                       jeb@jeb.org -- 729149\n",
      "  950--                                       jeb@jeb.org -- 759546\n",
      " 1000--                                       jeb@jeb.org -- 788046\n",
      " 1050--                            jeb.bush@myflorida.com -- 832687\n",
      " 1100--                                       jeb@jeb.org -- 868607\n",
      " 1150--                             lcchamber@isgroup.net -- 911177\n",
      " 1200--                        Paul.Anderson@jmfamily.com -- 958303\n",
      " 1250--                               drkim@bellsouth.net -- 971510\n",
      " 1300--                         kingshar@fdhc.state.fl.us -- 995447\n",
      " 1350--                                       jeb@jeb.org -- 1049377\n",
      " 1400--                                       jeb@jeb.org -- 1074947\n",
      " 1450--                                       jeb@jeb.org -- 1271719\n",
      " 1500--                                 Dlhconnor@aol.com -- 1315257\n",
      " 1550--                     Mollie.Palmer@dep.state.fl.us -- 1354519\n",
      " 1600--                                       jeb@jeb.org -- 1387408\n",
      " 1650--                       scott@diabetesinterview.com -- 1416491\n",
      " 1700--                             mhunt8347@hotmail.com -- 1435655\n",
      " 1750--                             baurk@eog.state.fl.us -- 1468027\n",
      " 1800--                                       Jeb@jeb.org -- 1519813\n",
      " 1850--                                       jeb@jeb.org -- 1556425\n",
      " 1900--                                       jeb@jeb.org -- 1595654\n",
      " 1950--                          pjohann1@tampabay.rr.com -- 1625625\n",
      " 2000--                                       jeb@jeb.org -- 1660595\n",
      " 2050--                                       jeb@jeb.org -- 1692126\n",
      " 2100--                                       jeb@jeb.org -- 1737068\n",
      " 2150--                               drkim@bellsouth.net -- 1787133\n",
      " 2200--                               danap@itflorida.com -- 1816683\n",
      " 2250--                                       jeb@jeb.org -- 1854450\n",
      " 2300--                      hartley@webster.campbell.edu -- 1886938\n",
      " 2350--                                       jeb@jeb.org -- 1910051\n",
      " 2400--                           oxmanm@fdhc.state.fl.us -- 1956768\n",
      " 2450--                                       jeb@jeb.org -- 1996644\n",
      " 2500--                                  Eagle237@aol.com -- 2041595\n",
      " 2550--                              pdfamily@gateway.net -- 2092474\n",
      " 2600--                                       jeb@jeb.org -- 2135031\n",
      " 2650--                                     Kjaw1@aol.com -- 2169336\n",
      " 2700--                                       jeb@jeb.org -- 2214536\n",
      " 2750--                                heathshome@aol.com -- 2248884\n",
      " 2800--                                       jeb@jeb.org -- 2277067\n",
      " 2850--                            dttruitt@earthlink.net -- 2316705\n",
      " 2900--                               dealmakr@intnet.net -- 2343050\n",
      " 2950--                            jeffp1@frontiernet.net -- 2376427\n",
      " 3000--                                 Plymmie49@aol.com -- 2430399\n",
      " 3050--                    traver.gruenkennedy@citrix.com -- 2465952\n",
      " 3100--                                       jeb@jeb.org -- 2496661\n",
      " 3150--                         Brooks_RG@doh.state.fl.us -- 2548958\n",
      " 3200--                                       jeb@jeb.org -- 2581120\n",
      " 3250--                                       jeb@jeb.org -- 2622736\n",
      " 3300--                                       jeb@jeb.org -- 2656267\n",
      " 3350--                                       jeb@jeb.org -- 2704825\n",
      " 3400--                           jjohnson@milcomtech.com -- 2749328\n",
      " 3450--                                       jeb@jeb.org -- 2787018\n",
      " 3500--                               jjohnson@milcom.net -- 2835778\n",
      " 3550--                                       jeb@jeb.org -- 2896660\n",
      " 3600--                                 fgrant@cfl.rr.com -- 2936128\n",
      " 3650--                                       jeb@jeb.org -- 2971779\n",
      " 3700--                                       jeb@jeb.org -- 3016151\n",
      " 3750--                           hmcginley@homestead.com -- 3057940\n",
      " 3800--                             gschoen1@flashcom.net -- 3112805\n",
      " 3850--                                  Daletony@aol.com -- 3162189\n",
      " 3900--                                       jeb@jeb.org -- 3217697\n",
      " 3950--                                       jeb@jeb.org -- 3226356\n",
      " 4000--                                       jeb@jeb.org -- 3234240\n",
      " 4050--                                       jeb@jeb.org -- 3250709\n",
      " 4100--                                       jeb@jeb.org -- 3262357\n",
      " 4150--                                       jeb@jeb.org -- 3284611\n",
      " 4200--                                BarbaraFNA@aol.com -- 3341049\n",
      " 4250--                       woelfel@mirage.fmhi.usf.edu -- 3370808\n",
      " 4300--                                       jeb@jeb.org -- 3403092\n",
      " 4350--                                    jperez@att.com -- 3428487\n",
      " 4400--                                       jeb@jeb.org -- 3466515\n",
      " 4450--                       brewser.brown@myflorida.com -- 3503348\n",
      " 4500--                          jaywillingham@cfl.rr.com -- 3528142\n",
      " 4550--                        snavarrete@gaebemurphy.com -- 3556634\n",
      " 4600--                                       jeb@jeb.org -- 3580246\n",
      " 4650--                                    JLRttag@cs.com -- 3616993\n",
      " 4700--                            eclectek@earthlink.net -- 3646374\n",
      " 4750--                                KOOLKEEWEE@aol.com -- 3676507\n",
      " 4800--                                       jeb@jeb.org -- 3712323\n",
      " 4850--                                       JEB@JEB.ORG -- 3739442\n",
      " 4900--                                CinziasDad@aol.com -- 3776347\n",
      " 4950--                                       Jeb@jeb.org -- 3802735\n",
      " 5000--                                       jeb@jeb.org -- 3821713\n",
      " 5050--                                       jeb@jeb.org -- 3856419\n",
      " 5100--                     Cesar.Calvet@gcs.suntrust.com -- 3884796\n",
      " 5150--                                       jeb@jeb.org -- 3924885\n",
      " 5200--                                       jeb@jeb.org -- 3980144\n",
      " 5250--                  Kathleen_Kearney@dcf.state.fl.us -- 4027158\n",
      " 5300--                               dedwards@dkwlaw.com -- 4099023\n",
      " 5350--                               dedwards@dkwlaw.com -- 4146413\n",
      " 5400--                                       jeb@jeb.org -- 4189495\n",
      " 5450--                              kblevins@hsc.usf.edu -- 4226679\n",
      " 5500--                     www.dennisfreytes@hotmail.com -- 4260302\n",
      " 5550--                                       jeb@jeb.org -- 4304989\n",
      " 5600--                            joydoll1@bellsouth.net -- 4380895\n",
      " 5650--                                      flip@rmi.net -- 4410460\n",
      " 5700--                        *laurie.hammell@citrix.com -- 4451372\n",
      " 5750--                         kruegerj@fdhc.state.fl.us -- 4505826\n",
      " 5800--                                       jeb@jeb.org -- 4551244\n",
      " 5850--                                       jeb@jeb.org -- 4607995\n"
     ]
    }
   ],
   "source": [
    "username_re = '([<\\s][^. ]{1}[\\w.]{0,62}[^. ]{0,1})'\n",
    "domain_re = '(\\w{1,64}\\.[a-zA-Z]{2,8}[>\\s])'\n",
    "inner_domain_re = '((\\w{1,64}\\.){0,4})'\n",
    "\n",
    "re_emails = ( username_re + '@' + inner_domain_re + domain_re )\n",
    "\n",
    "print(f\"Current re_string is:\\n\\t\\t'{re_emails}'\\n\")\n",
    "\n",
    "for i, match in enumerate( re.finditer(re_emails, emails_string[:]) ):\n",
    "    if i % 50 == 0:\n",
    "        print(f\"{i:>5}--{match.group().strip(whitespace+'<>'):>50} -- {match.start()}\")"
   ]
  },
  {
   "cell_type": "markdown",
   "metadata": {},
   "source": [
    "That's really a lot of compromised e-mail addresses. \n",
    "\n",
    "There are so many that we actually can reproduce some of the analysis we did with text but using emails as tokens instead of words.\n",
    "\n",
    "Change the code so you store all the emails you found and repeat some of the analyses that you conducted earlier.\n",
    "\n"
   ]
  },
  {
   "cell_type": "code",
   "execution_count": null,
   "metadata": {},
   "outputs": [],
   "source": []
  },
  {
   "cell_type": "code",
   "execution_count": null,
   "metadata": {},
   "outputs": [],
   "source": []
  },
  {
   "cell_type": "code",
   "execution_count": null,
   "metadata": {},
   "outputs": [],
   "source": []
  },
  {
   "cell_type": "code",
   "execution_count": null,
   "metadata": {},
   "outputs": [],
   "source": []
  },
  {
   "cell_type": "code",
   "execution_count": null,
   "metadata": {},
   "outputs": [],
   "source": []
  },
  {
   "cell_type": "markdown",
   "metadata": {
    "collapsed": true
   },
   "source": [
    "# Additional Resources\n",
    "\n",
    "If you're interest in learning more about using and writing regular expression, you can continue with this documentation.\n",
    "\n",
    "* [More Python documentation](https://docs.python.org/3/howto/regex.html#regex-howto)\n",
    "* [A great little notebook](http://nbviewer.ipython.org/github/sampathweb/python_reference/blob/master/tutorials/useful_regex.ipynb)\n",
    "\n"
   ]
  },
  {
   "cell_type": "markdown",
   "metadata": {},
   "source": [
    "# Exercises\n"
   ]
  },
  {
   "cell_type": "markdown",
   "metadata": {},
   "source": [
    "If you look carefully, you will see that emails enclosed in `<...>` contain the name of the owner of the email account.\n",
    "\n",
    "Can you associate names to emails?\n",
    "\n",
    "How would you do it? One name to one email? One name to many emails (Jeb clearly used a bunch of different email addresses)?\n",
    "\n",
    "If you use a `dictionary` to store the data, what would be the key? "
   ]
  },
  {
   "cell_type": "code",
   "execution_count": null,
   "metadata": {},
   "outputs": [],
   "source": []
  },
  {
   "cell_type": "markdown",
   "metadata": {},
   "source": [
    "Besides names that appear close to the email address, you can also find names in the signature of the email. You can even find other information such as addresses and such.\n",
    "\n",
    "Can you scrape that information?"
   ]
  },
  {
   "cell_type": "code",
   "execution_count": null,
   "metadata": {},
   "outputs": [],
   "source": []
  },
  {
   "cell_type": "markdown",
   "metadata": {},
   "source": [
    "People are clearly an important type of entity in a corpus of emails.  However, the emails themselves are important entities.\n",
    "\n",
    "Can you isolate each email?\n",
    "\n",
    "What **metadata** can you extract concerning a given email?"
   ]
  },
  {
   "cell_type": "code",
   "execution_count": null,
   "metadata": {},
   "outputs": [],
   "source": []
  },
  {
   "cell_type": "markdown",
   "metadata": {},
   "source": [
    "## Searching filesystems\n",
    "\n",
    "Let's say that you want to find all `PDF` files in your home account in your computer.\n",
    "\n",
    "How do you obtain the path of every single file? Glob-glob\n",
    "\n",
    "How do you search each file path for whether the file is a `PDF` or not?\n",
    "\n",
    "How can you confirm that the file is indeed a `PDF` file?\n",
    "\n"
   ]
  },
  {
   "cell_type": "code",
   "execution_count": null,
   "metadata": {},
   "outputs": [],
   "source": []
  },
  {
   "cell_type": "markdown",
   "metadata": {},
   "source": [
    "## Regex Golf\n",
    "\n",
    "There are so many more complicated things you can do with regex, and there is even a game called [regex golf](http://regex.alf.nu) that the nerdiest of all nerds play from time to time where the object is to come up with the shortest way to match certain patterns while [avoiding others](http://nbviewer.ipython.org/url/norvig.com/ipython/xkcd1313.ipynb). This game can serve as good practice to improve your regular expression skills.\n",
    "\n",
    "As a test, let's play a game of regex golf. Let's try to match Star Wars movie titles, but not Star Trek movie titles."
   ]
  },
  {
   "cell_type": "code",
   "execution_count": null,
   "metadata": {
    "ExecuteTime": {
     "end_time": "2022-07-20T22:34:12.144035Z",
     "start_time": "2022-07-20T22:34:12.114981Z"
    }
   },
   "outputs": [],
   "source": [
    "# This was MUCH simpler then\n",
    "#\n",
    "starwars = [ 'The Phantom Menace', 'Attack of the Clones', \n",
    "             'Revenge of the Sith', 'A New Hope', \n",
    "             'The Empire Strikes Back', 'Return of the Jedi' ]\n",
    "\n",
    "startrek = [ 'The Wrath of Khan', 'The Search for Spock', \n",
    "             'The Voyage Home', 'The Final Frontier', \n",
    "             'The Undiscovered Country', 'Generations',\n",
    "             'First Contact', 'Insurrection', 'Nemesis']"
   ]
  },
  {
   "cell_type": "code",
   "execution_count": null,
   "metadata": {},
   "outputs": [],
   "source": []
  },
  {
   "cell_type": "code",
   "execution_count": null,
   "metadata": {},
   "outputs": [],
   "source": []
  }
 ],
 "metadata": {
  "anaconda-cloud": {},
  "kernelspec": {
   "display_name": "Python [conda env:new_base] *",
   "language": "python",
   "name": "conda-env-new_base-py"
  },
  "language_info": {
   "codemirror_mode": {
    "name": "ipython",
    "version": 3
   },
   "file_extension": ".py",
   "mimetype": "text/x-python",
   "name": "python",
   "nbconvert_exporter": "python",
   "pygments_lexer": "ipython3",
   "version": "3.11.4"
  },
  "toc": {
   "base_numbering": 1,
   "nav_menu": {},
   "number_sections": true,
   "sideBar": true,
   "skip_h1_title": false,
   "title_cell": "Table of Contents",
   "title_sidebar": "Contents",
   "toc_cell": false,
   "toc_position": {
    "height": "calc(100% - 180px)",
    "left": "10px",
    "top": "150px",
    "width": "165px"
   },
   "toc_section_display": true,
   "toc_window_display": true
  },
  "varInspector": {
   "cols": {
    "lenName": 16,
    "lenType": 16,
    "lenVar": 40
   },
   "kernels_config": {
    "python": {
     "delete_cmd_postfix": "",
     "delete_cmd_prefix": "del ",
     "library": "var_list.py",
     "varRefreshCmd": "print(var_dic_list())"
    },
    "r": {
     "delete_cmd_postfix": ") ",
     "delete_cmd_prefix": "rm(",
     "library": "var_list.r",
     "varRefreshCmd": "cat(var_dic_list()) "
    }
   },
   "types_to_exclude": [
    "module",
    "function",
    "builtin_function_or_method",
    "instance",
    "_Feature"
   ],
   "window_display": false
  }
 },
 "nbformat": 4,
 "nbformat_minor": 1
}
