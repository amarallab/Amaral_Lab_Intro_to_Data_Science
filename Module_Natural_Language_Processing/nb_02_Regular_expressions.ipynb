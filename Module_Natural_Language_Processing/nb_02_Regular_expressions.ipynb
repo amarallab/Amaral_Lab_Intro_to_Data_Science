{
 "cells": [
  {
   "cell_type": "markdown",
   "metadata": {},
   "source": [
    "# Synopsis\n",
    "\n",
    "Frequently we are simply looking for specific words or phrases in a block of text and do not care about the rest of the text. However, sometimes we are interested in a pattern of text (such as a phone number), where the format is consistent but the actual text itself changes. In this unit, we will learn:\n",
    "\n",
    "1. What a regular expression is\n",
    "2. Available functions in the `re` package\n",
    "3. How to identify and extract a text pattern in a large block of text.\n",
    "4. How to develop and test regular expressions"
   ]
  },
  {
   "cell_type": "markdown",
   "metadata": {},
   "source": [
    "# Read libraries"
   ]
  },
  {
   "cell_type": "code",
   "execution_count": null,
   "metadata": {
    "ExecuteTime": {
     "end_time": "2023-02-12T21:48:19.844023Z",
     "start_time": "2023-02-12T21:48:19.020274Z"
    }
   },
   "outputs": [],
   "source": [
    "%load_ext autoreload\n",
    "%autoreload 2\n",
    "%matplotlib inline\n",
    "\n",
    "from colorama import Back, Fore, Style\n",
    "from copy import copy, deepcopy\n",
    "from pathlib import Path\n",
    "from sys import path\n",
    "\n",
    "path.append( str(Path.cwd().parent) )"
   ]
  },
  {
   "cell_type": "code",
   "execution_count": null,
   "metadata": {
    "ExecuteTime": {
     "end_time": "2023-02-12T21:49:34.901175Z",
     "start_time": "2023-02-12T21:49:34.160122Z"
    }
   },
   "outputs": [],
   "source": [
    "import re\n",
    "\n",
    "import matplotlib.pyplot as plt\n",
    "import matplotlib.cm as cm\n",
    "import numpy as np\n",
    "import pandas as pd\n",
    "\n",
    "from collections import Counter\n",
    "from random import random\n",
    "from string import punctuation, whitespace\n",
    "\n",
    "from Amaral_libraries.my_nlp_library import read_complete_works"
   ]
  },
  {
   "cell_type": "code",
   "execution_count": null,
   "metadata": {
    "ExecuteTime": {
     "end_time": "2023-02-12T21:49:35.748104Z",
     "start_time": "2023-02-12T21:49:35.694959Z"
    }
   },
   "outputs": [],
   "source": [
    "my_fontsize = 15"
   ]
  },
  {
   "cell_type": "markdown",
   "metadata": {},
   "source": [
    "# Regular Expressions\n",
    "\n",
    "[Regular expressions](https://en.wikipedia.org/wiki/Regular_expression) (or **regexes** in shorthand) are essentially a standalone scripting language.\n",
    "\n",
    "This is good because it means you will be able to use what you learn in other contexts.\n",
    "\n",
    "\n",
    "Regexes allow for searches of patterns that are not fixed but instead follow a particular set of rules.\n",
    "\n",
    "Imagine that you are looking for Northwestern's Helpline in a document.  Then you would search for `847-491-4357` or `(847) 491-4357`, or maybe even for `1-4357`. Yes, it is getting complicated...\n",
    "\n",
    "But what if you actually wanted to find **any** phone number in a document?\n",
    "\n",
    "Let's say that we use `d` to represent any digit 0-9.  Then, we are looking for patterns of the form `ddd-ddd-dddd` or `(ddd) ddd-dddd`\n",
    "\n",
    "Amazingly, regexes allow us to construct a generic compact text pattern that will then be matched through the entire text.  \n"
   ]
  },
  {
   "cell_type": "markdown",
   "metadata": {},
   "source": [
    "## Regular expressions in Python\n",
    "\n",
    "Methods for regular expressions in Python are implemented in the [`re` package](https://docs.python.org/3/library/re.html). There are a many functions, flags, and conventions.\n",
    "\n",
    "A few basic functions that we will use are:\n",
    "\n",
    "> `re.match()` : Determine if the RE matches at the beginning of the string.\n",
    ">\n",
    ">  `re.search()` : Scan through a string, looking for any location where this RE matches.\n",
    ">\n",
    "> `re.findall()` : Find all substrings where the RE matches, and returns them as a list.\n",
    ">\n",
    "> `re.finditer()` : Find all substrings where the RE matches, and returns them as an iterator object.\n",
    "\n",
    "\n",
    "Some important conventions are:\n",
    "\n",
    "> `|` stands for `or`\n",
    ">\n",
    "> `&` stands for `and`\n",
    ">\n",
    "> `.` stands for any character except a new line\n",
    ">\n",
    "> `^` stands for beginning of the string being searched\n",
    ">\n",
    "> `$` stands for end of the string or just before new line\n",
    ">\n",
    "> `\\` allows for escaping special characters, i.e., search for character that are used in conventions \n"
   ]
  },
  {
   "cell_type": "markdown",
   "metadata": {},
   "source": [
    "## Let's check back on Othello\n",
    "\n",
    "Now, let's go over an example so this is less abstract. "
   ]
  },
  {
   "cell_type": "code",
   "execution_count": null,
   "metadata": {
    "ExecuteTime": {
     "end_time": "2023-02-12T21:49:47.623422Z",
     "start_time": "2023-02-12T21:49:47.512903Z"
    },
    "scrolled": false
   },
   "outputs": [],
   "source": [
    "# Copied from previous notebook\n",
    "\n",
    "complete_works, plays = read_complete_works()\n",
    "    \n",
    "print(len(complete_works))\n",
    "\n",
    "plays"
   ]
  },
  {
   "cell_type": "code",
   "execution_count": null,
   "metadata": {
    "ExecuteTime": {
     "end_time": "2023-02-12T21:49:58.028661Z",
     "start_time": "2023-02-12T21:49:57.976754Z"
    }
   },
   "outputs": [],
   "source": [
    "title = 'THE TRAGEDY OF OTHELLO, MOOR OF VENICE'\n",
    "start_line = plays[title][1]\n",
    "end_line = plays[title][2]\n",
    "\n",
    "the_play = complete_works[start_line: end_line]\n",
    "\n",
    "print(f\"\\nThe play Othello has {len(the_play)} lines.\\n\")\n",
    "\n",
    "# Put it all into a single string\n",
    "\n",
    "the_play = ' '.join(the_play)\n",
    "\n",
    "print(f\"\\nThe play Othello has {len(the_play)} characters.\\n\")"
   ]
  },
  {
   "cell_type": "code",
   "execution_count": null,
   "metadata": {
    "ExecuteTime": {
     "end_time": "2023-02-12T21:50:02.419086Z",
     "start_time": "2023-02-12T21:50:02.376410Z"
    }
   },
   "outputs": [],
   "source": [
    "print(the_play[:500])"
   ]
  },
  {
   "cell_type": "markdown",
   "metadata": {},
   "source": [
    "Ok, let's search for Othello"
   ]
  },
  {
   "cell_type": "code",
   "execution_count": null,
   "metadata": {
    "ExecuteTime": {
     "end_time": "2023-02-12T21:50:06.754986Z",
     "start_time": "2023-02-12T21:50:06.716579Z"
    }
   },
   "outputs": [],
   "source": [
    "print(re.match('Othello', the_play))\n",
    "print()\n",
    "\n",
    "print(re.match('OTHELLO', the_play))\n",
    "print()\n"
   ]
  },
  {
   "cell_type": "markdown",
   "metadata": {},
   "source": [
    "`re.match` finds no matches.  This is not surprising if you recall that it only attempts to match at the start of the string.\n",
    "\n"
   ]
  },
  {
   "cell_type": "code",
   "execution_count": null,
   "metadata": {
    "ExecuteTime": {
     "end_time": "2023-02-12T21:50:10.228239Z",
     "start_time": "2023-02-12T21:50:10.183092Z"
    }
   },
   "outputs": [],
   "source": [
    "print(re.findall('Othello', the_play))\n",
    "print()\n"
   ]
  },
  {
   "cell_type": "markdown",
   "metadata": {},
   "source": [
    "`re.findall` finds numerous matches.  This is not surprising since we expect the string Othello to appear frequently in the play.\n"
   ]
  },
  {
   "cell_type": "code",
   "execution_count": null,
   "metadata": {
    "ExecuteTime": {
     "end_time": "2023-02-12T21:50:15.865636Z",
     "start_time": "2023-02-12T21:50:15.818276Z"
    }
   },
   "outputs": [],
   "source": [
    "print(re.search('Othello', the_play))\n",
    "print()\n",
    "\n",
    "print(re.search('OTHELLO', the_play))\n",
    "print()"
   ]
  },
  {
   "cell_type": "markdown",
   "metadata": {},
   "source": [
    "`re.search` finds matches and the capitalized version finds a different match from the non-capitalized.  \n",
    "\n",
    "Each returned a single match as a `re.Match` object.  This is actually quite cool because a match object has all sorts of attributes!\n",
    "\n",
    "Let's look at them in detail.\n"
   ]
  },
  {
   "cell_type": "code",
   "execution_count": null,
   "metadata": {
    "ExecuteTime": {
     "end_time": "2023-02-12T21:50:20.923631Z",
     "start_time": "2023-02-12T21:50:20.873759Z"
    }
   },
   "outputs": [],
   "source": [
    "othello_match = re.search('Othello', the_play)\n",
    "help(othello_match)\n"
   ]
  },
  {
   "cell_type": "markdown",
   "metadata": {},
   "source": [
    "Great! `re.Match` objects always have a Boolean value of `True`.\n",
    "\n",
    "They also have methods such as `.start()`, `.end()`, or `.span()`. \n",
    "\n",
    "Let's see what they are"
   ]
  },
  {
   "cell_type": "code",
   "execution_count": null,
   "metadata": {
    "ExecuteTime": {
     "end_time": "2023-02-12T21:50:27.200375Z",
     "start_time": "2023-02-12T21:50:27.151422Z"
    }
   },
   "outputs": [],
   "source": [
    "# Notice the print of a re.Match object already contains \n",
    "# important information\n",
    "print(othello_match)\n",
    "print()\n",
    "\n",
    "print(othello_match.span())\n",
    "print()\n",
    "\n",
    "print(othello_match.group())\n",
    "print()\n",
    "\n",
    "print(othello_match.start())\n",
    "print()\n",
    "\n",
    "print(othello_match.end())\n",
    "print()"
   ]
  },
  {
   "cell_type": "markdown",
   "metadata": {},
   "source": [
    "Those numbers are locators in the string, which we can use to look at the surrounding text"
   ]
  },
  {
   "cell_type": "code",
   "execution_count": null,
   "metadata": {
    "ExecuteTime": {
     "end_time": "2023-02-12T21:50:37.630689Z",
     "start_time": "2023-02-12T21:50:37.582895Z"
    }
   },
   "outputs": [],
   "source": [
    "the_play[187: 194]"
   ]
  },
  {
   "cell_type": "code",
   "execution_count": null,
   "metadata": {
    "ExecuteTime": {
     "end_time": "2023-02-12T21:50:41.984229Z",
     "start_time": "2023-02-12T21:50:41.935785Z"
    }
   },
   "outputs": [],
   "source": [
    "the_play[othello_match.start()-20: othello_match.end()+20]"
   ]
  },
  {
   "cell_type": "markdown",
   "metadata": {},
   "source": [
    "<br>\n",
    "\n",
    "<br>\n",
    "\n",
    "\n",
    "\n",
    "\n",
    "\n",
    "What about `re.finditer()`?"
   ]
  },
  {
   "cell_type": "code",
   "execution_count": null,
   "metadata": {
    "ExecuteTime": {
     "end_time": "2023-02-12T21:50:45.557226Z",
     "start_time": "2023-02-12T21:50:45.521711Z"
    }
   },
   "outputs": [],
   "source": [
    "print(re.finditer('Othello', the_play))\n",
    "print()"
   ]
  },
  {
   "cell_type": "markdown",
   "metadata": {},
   "source": [
    "Interesting! Notice the word `iterator` in there.  This suggests that `Python` is offering us a way to iterate through the results.\n",
    "\n",
    "As you will recall, we can do this using a `for` loop.\n"
   ]
  },
  {
   "cell_type": "code",
   "execution_count": null,
   "metadata": {
    "ExecuteTime": {
     "end_time": "2023-02-12T21:50:51.698778Z",
     "start_time": "2023-02-12T21:50:51.654238Z"
    }
   },
   "outputs": [],
   "source": [
    "for i, match_item in enumerate(re.finditer('Othello', the_play)):\n",
    "    print(f\"{i:>3} -- {match_item}\")"
   ]
  },
  {
   "cell_type": "markdown",
   "metadata": {},
   "source": [
    "<br>\n",
    "\n",
    "<br>\n",
    "\n",
    "<br>\n",
    "\n",
    "<br>\n",
    "\n",
    "\n",
    "Nice! \n",
    "\n",
    "**We have a way to get the fullness of output of `re.search` but for all the matches**."
   ]
  },
  {
   "cell_type": "markdown",
   "metadata": {},
   "source": [
    "# Creating regular expressions\n",
    "\n",
    "Now that we know what some `re` functions do, we are ready to start exploring the real power of the package.\n",
    "\n",
    "Above, we where interested in finding **rigid patterns**. Let us know search for **flexible patterns**.\n",
    "\n"
   ]
  },
  {
   "cell_type": "markdown",
   "metadata": {},
   "source": [
    "## Testing, testing, testing\n",
    "\n",
    "Even though we have brought the matter up, in reality, we have not emphasized enough the need to create test for your code.\n",
    "\n",
    "We were trying to cover the basics of the language and did not want to add another moving part to the learning process.\n",
    "\n",
    "The analogy I may use is that it is much easier to learn to drive with an automatic transmission than with a manual.\n",
    "\n",
    "Now we are switching to *manual transmission* because it is so crucial for writing robust code.\n",
    "\n"
   ]
  },
  {
   "cell_type": "markdown",
   "metadata": {},
   "source": [
    "Above, we discussed phone numbers. However, those are too complicated as a starting point. Instead, we will start with searching for times.\n",
    "\n",
    "Imagine you are fed-up with G..gle and A..le and what to write code to search your emails for times of appointments to add to your calendar. What would you do?\n",
    "\n",
    "Times come in two major formats good (`hh:mm`, also called military) and bad (`+h:mm *`).\n",
    "\n",
    "Consider the good system: \n",
    "\n",
    "> * The first `h` can take the values 0, 1, or 2 \n",
    "> * The second `h` can take values 0-9\n",
    "> * The first `m` can take values 0-5\n",
    "> * The second `m` can take values 0-9\n",
    "\n",
    "However, not all combinations are possible. For example, 27 is not acceptable for `hh`.\n",
    "\n",
    "Consider the bad system:\n",
    "\n",
    "> * The first `+` can be absent ot take the values 0 or 1 \n",
    "> * The second `h` can take values 0-9\n",
    "> * The first `m` can take values 0-5\n",
    "> * The second `m` can take values 0-9\n",
    "> * The * can take the values pm or am and there may be a space between m and * or maybe not \n",
    "\n",
    "In order to insure the correctness of our code, we should start by creating a list of examples that even though they are not matches look superficially correct and another list of examples that are correct.\n",
    "\n",
    "Both lists should cover a broad range of possibilities.\n"
   ]
  },
  {
   "cell_type": "code",
   "execution_count": null,
   "metadata": {
    "ExecuteTime": {
     "end_time": "2023-02-12T21:51:07.001059Z",
     "start_time": "2023-02-12T21:51:06.953060Z"
    }
   },
   "outputs": [],
   "source": [
    "good_times = [' 03:43 ', ' 01:00 ', ' 12:59 ', \n",
    "              ' 13:00 ', ' 21:35 ']\n",
    "not_good_times = ['orange', ' 03:60 ', ' 26:14 ', ' 0155 ', \n",
    "                  ' 21:355 ']"
   ]
  },
  {
   "cell_type": "markdown",
   "metadata": {},
   "source": [
    "And it is helpful to have a testing function..."
   ]
  },
  {
   "cell_type": "code",
   "execution_count": null,
   "metadata": {
    "ExecuteTime": {
     "end_time": "2023-02-12T21:51:09.459565Z",
     "start_time": "2023-02-12T21:51:09.413188Z"
    }
   },
   "outputs": [],
   "source": [
    "def test_pattern(pattern, text, to_match = True):\n",
    "    count = 0\n",
    "    for item in text:\n",
    "        match = re.search(pattern, item)\n",
    "        if match:\n",
    "            print(match)\n",
    "            count += 1\n",
    "        else:\n",
    "            print(item)\n",
    "            \n",
    "    if to_match:\n",
    "        print( f\"\\n----Matched {count} out of {len(text)}\"\n",
    "               f\" possible matches.\\n\" )\n",
    "    else:\n",
    "        print(f\"\\n----Failed to match {len(text) - count} out of {len(text)}\"\n",
    "              f\" non matches.\\n\")\n",
    "\n",
    "    return"
   ]
  },
  {
   "cell_type": "markdown",
   "metadata": {},
   "source": [
    "We will address this problem in a modular manner, so that we can clearly see what the granular operations are.\n",
    "\n",
    "First, I define `hours_re` and `minutes_re` to store the expressions for matching hours and minutes respectively.\n",
    "\n",
    "The simplest case for both is 00-09. Which means that the first digit is always 0 and then second digit is any number from 0 to 9. \n",
    "\n",
    "This is easily defined as `0[0-9]`\n"
   ]
  },
  {
   "cell_type": "code",
   "execution_count": null,
   "metadata": {
    "ExecuteTime": {
     "end_time": "2023-02-12T21:51:12.977400Z",
     "start_time": "2023-02-12T21:51:12.922551Z"
    }
   },
   "outputs": [],
   "source": [
    "hours_re = '(0[0-9])'\n",
    "\n",
    "re_times = hours_re + ':' \n",
    "print(f\"Current re_string is:\\n\\t\\t{re_times}\\n\")\n",
    "\n",
    "test_pattern(re_times, good_times)            \n",
    "test_pattern(re_times, not_good_times, False)"
   ]
  },
  {
   "cell_type": "markdown",
   "metadata": {},
   "source": [
    "Not impressive, ah!\n",
    "\n",
    "Let's include other possibilities such as 10 to 19\n"
   ]
  },
  {
   "cell_type": "code",
   "execution_count": null,
   "metadata": {
    "ExecuteTime": {
     "end_time": "2023-02-12T21:51:20.103012Z",
     "start_time": "2023-02-12T21:51:20.048517Z"
    }
   },
   "outputs": [],
   "source": [
    "hours_re = '(0[0-9]|1[0-9])'\n",
    "\n",
    "re_times = hours_re + ':'\n",
    "print(f\"Current re_string is:\\n\\t\\t{re_times}\\n\")\n",
    "\n",
    "test_pattern(re_times, good_times)            \n",
    "test_pattern(re_times, not_good_times, False)"
   ]
  },
  {
   "cell_type": "markdown",
   "metadata": {},
   "source": [
    "Almost there for hours. Let's add 20 to 23..."
   ]
  },
  {
   "cell_type": "code",
   "execution_count": null,
   "metadata": {
    "ExecuteTime": {
     "end_time": "2023-02-12T21:51:21.993081Z",
     "start_time": "2023-02-12T21:51:21.933930Z"
    }
   },
   "outputs": [],
   "source": [
    "hours_re = '(0[0-9]|1[0-9]|2[0-3])'\n",
    "\n",
    "re_times = hours_re + ':'\n",
    "print(f\"Current re_string is:\\n\\t\\t{re_times}\\n\")\n",
    "\n",
    "test_pattern(re_times, good_times)            \n",
    "test_pattern(re_times, not_good_times, False)"
   ]
  },
  {
   "cell_type": "markdown",
   "metadata": {},
   "source": [
    "The hours are looking pretty good. \n",
    "\n",
    "Let's add the minutes term. Any value from 00 to 59 works so `[0-5][0-9]`"
   ]
  },
  {
   "cell_type": "code",
   "execution_count": null,
   "metadata": {
    "ExecuteTime": {
     "end_time": "2023-02-12T21:51:24.375488Z",
     "start_time": "2023-02-12T21:51:24.322501Z"
    }
   },
   "outputs": [],
   "source": [
    "hours_re = '(0[0-9]|1[0-9]|2[0-3])'\n",
    "minutes_re = '[0-5][0-9]'\n",
    "\n",
    "re_times = hours_re + ':' + minutes_re\n",
    "print(f\"Current re_string is:\\n\\t\\t{re_times}\\n\")\n",
    "\n",
    "test_pattern(re_times, good_times)            \n",
    "test_pattern(re_times, not_good_times, False)"
   ]
  },
  {
   "cell_type": "markdown",
   "metadata": {},
   "source": [
    "We are almost there. The problem is that while **21:355** is not a time, it contains **21:35** which is a time.\n",
    "\n",
    "How to solve this? For it to be a time, it needs to have a something that is not a digit after the first **5**...\n",
    "\n",
    "This [site](https://www.rexegg.com/regex-quickstart.html#chars) has a lot of good information to build regexes. If you look in there, you find the `\\d` means any single digit -- which is equivalent to [0-9] -- and that `\\D` means any single character that is not a digit.\n",
    "\n",
    "Using these conventions, we can write"
   ]
  },
  {
   "cell_type": "code",
   "execution_count": null,
   "metadata": {
    "ExecuteTime": {
     "end_time": "2023-02-12T21:51:26.076803Z",
     "start_time": "2023-02-12T21:51:26.034416Z"
    }
   },
   "outputs": [],
   "source": [
    "hours_re = '(0\\d|1\\d|2[0-3])'\n",
    "minutes_re = '[0-5]\\d\\D'\n",
    "\n",
    "re_times = hours_re + ':' + minutes_re\n",
    "print(f\"Current re_string is:\\n\\t\\t{re_times}\\n\")\n",
    "\n",
    "test_pattern(re_times, good_times)            \n",
    "test_pattern(re_times, not_good_times, False)"
   ]
  },
  {
   "cell_type": "markdown",
   "metadata": {},
   "source": [
    "This looks great. However, humans do not always follow rules precisely.  So one may find `3:27` instead if the correct `03:27`.  How to account for this?\n",
    "\n",
    "**Yes, you do it!**"
   ]
  },
  {
   "cell_type": "code",
   "execution_count": null,
   "metadata": {
    "ExecuteTime": {
     "end_time": "2023-02-12T21:51:27.550977Z",
     "start_time": "2023-02-12T21:51:27.505613Z"
    }
   },
   "outputs": [],
   "source": [
    "hours_re = '(0\\d|1\\d|2[0-3])'\n",
    "minutes_re = '[0-5]\\d\\D'\n",
    "\n",
    "re_times = hours_re + ':' + minutes_re\n",
    "print(f\"Current re_string is:\\n\\t\\t{re_times}\\n\")\n",
    "\n",
    "test_pattern(re_times, good_times)            \n",
    "test_pattern(re_times, not_good_times, False)"
   ]
  },
  {
   "cell_type": "markdown",
   "metadata": {},
   "source": [
    "Awesome! You are now an expert and ready to move on to the case of bad_times.\n",
    "\n",
    "I will start your list of examples, but you do the rest."
   ]
  },
  {
   "cell_type": "code",
   "execution_count": null,
   "metadata": {
    "ExecuteTime": {
     "end_time": "2023-02-12T21:51:28.913429Z",
     "start_time": "2023-02-12T21:51:28.873803Z"
    }
   },
   "outputs": [],
   "source": [
    "bad_times = [' 03:43pm ', ' 01:00 AM ', ]\n",
    "not_bad_times = ['orange', ' 03:50 XM ', ]"
   ]
  },
  {
   "cell_type": "markdown",
   "metadata": {},
   "source": [
    "And you build the `re_string`"
   ]
  },
  {
   "cell_type": "code",
   "execution_count": null,
   "metadata": {},
   "outputs": [],
   "source": []
  },
  {
   "cell_type": "markdown",
   "metadata": {},
   "source": [
    "## Getting help, but testing the help you get\n",
    "\n",
    "Times, dates and email addresses are common types of information that one wants to extract from documents.  Above we saw how to handle times.  You can look into dates as an exercise.\n",
    "\n",
    "Let us consider email addresses now.  **[Wikipedia](https://en.wikipedia.org/wiki/Email_address) has a detailed explanation of the rules governing the construction of valid emails addresses that we transcribe here.**\n",
    "\n",
    "### The `local-part`\n",
    "\n",
    "How are email addresses constructed? The standard formulation is `local-part@domain`.  The `local-part`, if unquoted, may use any of these ASCII characters:\n",
    "\n",
    "* uppercase and lowercase Latin letters A to Z and a to z\n",
    "* digits 0 to 9\n",
    "* printable characters !#$%&'*+-/=?^_`{|}~\n",
    "* dot ., provided that it is not the first or last character and provided also that it does not appear consecutively (e.g., John..Doe@example.com is not allowed)\n",
    "\n",
    "The maximum total length of the local-part of an email address is 64 octets, so in principle it can amount to 64 characters.\n"
   ]
  },
  {
   "cell_type": "markdown",
   "metadata": {},
   "source": [
    "### The `domain`\n",
    "\n",
    "The `domain` part of an email address has to conform to strict guidelines: it must match the requirements for a `hostname`, a list of dot-separated `DNS` labels, each label being limited to a length of 63 characters and consisting of:\n",
    "\n",
    "* uppercase and lowercase Latin letters A to Z and a to z\n",
    "* digits 0 to 9, provided that top-level domain names are not all-numeric\n",
    "* hyphen -, provided that it is not the first or last character\n",
    "\n",
    "Certain domains, for example those intended for documentation and testing, should not be resolvable and that as a result mail addressed to mailboxes in them and their sub-domains should be non-deliverable. Of note for e-mail are `example`, `invalid`, `example.com`, `example.net`, and `example.org`. \n"
   ]
  },
  {
   "cell_type": "markdown",
   "metadata": {},
   "source": [
    "Seems complicated. So, why don't we check whether someone already built a regex for email addresses.\n",
    "\n",
    "If you search online, you may be able to find the following solution\n",
    "\n",
    "> `^[a-zA-Z0-9.]+@[a-zA-Z0-9.]+.[a-zA-Z0-9]+$`\n",
    "\n",
    "It appears appropriately complicated!  But how do we know whether it works?\n",
    "\n",
    "Let's test it!"
   ]
  },
  {
   "cell_type": "code",
   "execution_count": null,
   "metadata": {
    "ExecuteTime": {
     "end_time": "2023-02-12T21:51:47.644522Z",
     "start_time": "2023-02-12T21:51:47.588818Z"
    }
   },
   "outputs": [],
   "source": [
    "emails = ['a@b.co', 'something@somethingelse.org', '89@42.info', \n",
    "          'something@something.else.com', ]\n",
    "not_emails = ['@b.c', 'a@b.', 'something@somethingelse.', ]"
   ]
  },
  {
   "cell_type": "code",
   "execution_count": null,
   "metadata": {
    "ExecuteTime": {
     "end_time": "2023-02-12T21:51:48.433065Z",
     "start_time": "2023-02-12T21:51:48.400939Z"
    }
   },
   "outputs": [],
   "source": [
    "re_emails = '^[a-zA-Z0-9.]+@[a-zA-Z0-9.]+.[a-zA-Z0-9]+$'\n",
    "print(f\"Current re_string is:\\n\\t\\t{re_emails}\\n\")\n",
    "\n",
    "test_pattern(re_emails, emails)            \n",
    "test_pattern(re_emails, not_emails, False)"
   ]
  },
  {
   "cell_type": "markdown",
   "metadata": {},
   "source": [
    "Well it appears to work! \n",
    "\n",
    "At least it fits all are test cases... Should we create more examples to be sure?\n",
    "\n",
    "\n",
    "<br>\n",
    "\n",
    "<br>\n",
    "\n",
    "<br>\n",
    "\n",
    "<br>\n",
    "\n",
    "<br>\n",
    "\n",
    "<br>\n",
    "\n",
    "\n",
    "\n",
    "Good decision.\n",
    "\n",
    "For now, let's see if we can make sense of `re_email` by breaking it down in pieces as we did with re_times\n",
    "\n"
   ]
  },
  {
   "cell_type": "code",
   "execution_count": null,
   "metadata": {
    "ExecuteTime": {
     "end_time": "2023-02-12T21:52:00.404395Z",
     "start_time": "2023-02-12T21:52:00.353659Z"
    }
   },
   "outputs": [],
   "source": [
    "username_re = '^[a-zA-Z0-9.]+'\n",
    "domain_re = '[a-zA-Z0-9.]+.[a-zA-Z0-9]+$'\n",
    "\n",
    "re_emails = username_re + '@' + domain_re\n",
    "print(f\"Current re_string is:\\n\\t\\t{re_emails}\\n\")"
   ]
  },
  {
   "cell_type": "markdown",
   "metadata": {},
   "source": [
    "`username_re` has three parts:\n",
    "\n",
    "> * `^` means what comes next has to be a the start of the string symbol. It only makes sense to add this if the string contains only the email and nothing else.\n",
    "> * `[a-zA-Z0-9.]` means that the characters allowed include lower case letters, upper case letters, digits, and periods.\n",
    "> * `+` means that the previous element must appear at least once\n",
    "at the beginning means the string must start with the first expression. This is a very handy character when you care about words that are at the start of a line only. \n",
    "\n",
    "`domain_re` also has three parts:\n",
    "\n",
    "> * `[a-zA-Z0-9.]` means that the characters allowed include lower case letters, upper case letters, digits, and periods.\n",
    "> * `+` means that the previous element must appear at least once\n",
    "> * `.[a-zA-Z0-9]+` means that after some characters that may include periods, there must come a period followed by at least one character that is a lower case letter, an upper case letters, or a digits.\n",
    "> '$' means that the string ends here or at most has a new line. This also only makes sense if the string contains only the email and nothing else.\n",
    "\n",
    "Breaking it down like this makes some issues with `re_emails` apparent\n"
   ]
  },
  {
   "cell_type": "code",
   "execution_count": null,
   "metadata": {
    "ExecuteTime": {
     "end_time": "2023-02-12T21:52:05.214220Z",
     "start_time": "2023-02-12T21:52:05.161816Z"
    }
   },
   "outputs": [],
   "source": [
    "emails = [' a@b.co ', ' something@somethingelse.org ', ' 89@42.info ', \n",
    "          ' something@something.else.com ', ]\n",
    "not_emails = [' @b.c ', ' a@b. ', ' something@somethingelse. ', \n",
    "              ' '+'a'*1000+'@b.c ', ' a@b.c ', \n",
    "              ' a@b.ccccccccccccccccccccccccccccccccccc ',\n",
    "              ' a@b.b.b.b.b.b.b.b.b.b.b.b.b.b.com ', ]"
   ]
  },
  {
   "cell_type": "markdown",
   "metadata": {},
   "source": [
    "Our string is likely to contain more than just an email address.\n",
    "\n",
    "The username cannot be of arbitrary length. \n",
    "\n",
    "There likely cannot be more than 4 or 5 intermediate levels before the final period.\n",
    "\n",
    "The final string of the server cannot be a single character and cannot be longer than a few characters."
   ]
  },
  {
   "cell_type": "code",
   "execution_count": null,
   "metadata": {
    "ExecuteTime": {
     "end_time": "2023-02-12T21:52:09.037257Z",
     "start_time": "2023-02-12T21:52:08.993165Z"
    }
   },
   "outputs": [],
   "source": [
    "# username is no longer than 256 characters\n",
    "# \\w covers digits, upper and lower case letters and _\n",
    "#\n",
    "username_re = '([\\w.]{1,64})'\n",
    "\n",
    "# domain server (xxx.xx) last portion must be 2-8 letters\n",
    "# after which there must be some space\n",
    "#\n",
    "domain_re = '(\\w{1,64}\\.[a-zA-Z]{2,8}\\s)'\n",
    "\n",
    "# inner domain pieces (up to 4), each must end with .\n",
    "inner_domain_re = '((\\w{1,64}\\.){0,4})'\n",
    "\n",
    "re_emails = ( username_re + '@' + inner_domain_re + domain_re )\n",
    "\n",
    "print(f\"Current re_string is:\\n\\t\\t{re_emails}\\n\")\n",
    "\n",
    "test_pattern(re_emails, emails)            \n",
    "test_pattern(re_emails, not_emails, False)"
   ]
  },
  {
   "cell_type": "markdown",
   "metadata": {},
   "source": [
    "Excellent! It works in all of our new test cases!\n",
    "\n",
    "We could continue to improve this regex (say by limiting the ending domain to only known domains).\n",
    "\n",
    "**In order to keep readability, it is important that you try to break the `re string` into pieces that are individually easier to validate**.\n"
   ]
  },
  {
   "cell_type": "markdown",
   "metadata": {},
   "source": [
    "# Playing with Jeb Bush's emails \n",
    "\n",
    "For those of you too young to know anything, this was a thing before the 2016 elections.\n",
    "\n",
    "In 2015, before his ill-fated primary run for the Republican Party Presidential Nomination, Jeb Bush released a number of his e-mails in a bid for transparency. \n",
    "\n",
    "As usually happens, the release wasn't vetted very well and some constituents Social Security numbers were exposed. \n",
    "\n",
    "But let's ignore that and instead focus on finding who then FL Governor Jed Bush corresponded with. The data is located in the folder `Data/Emails/`.\n",
    "\n",
    "Let's see what data we have there..."
   ]
  },
  {
   "cell_type": "code",
   "execution_count": null,
   "metadata": {
    "ExecuteTime": {
     "end_time": "2023-02-12T21:52:24.291657Z",
     "start_time": "2023-02-12T21:52:24.238824Z"
    }
   },
   "outputs": [],
   "source": [
    "emails_folder = Path.cwd() / 'Data' / 'Emails'\n",
    "\n",
    "filenames = list( emails_folder.glob('*.txt') )\n",
    "for i, filename in enumerate( filenames ):\n",
    "    print(f\"{i:>2} -- {filename}\")\n"
   ]
  },
  {
   "cell_type": "markdown",
   "metadata": {},
   "source": [
    "Let's pick the 8th file, from `01 Jan`.\n",
    "\n",
    "Note that these files were encoded in the `ISO-8859-1` standard.\n"
   ]
  },
  {
   "cell_type": "code",
   "execution_count": null,
   "metadata": {
    "ExecuteTime": {
     "end_time": "2023-02-12T21:52:28.957830Z",
     "start_time": "2023-02-12T21:52:28.906952Z"
    }
   },
   "outputs": [],
   "source": [
    "with open( filenames[7], 'r', encoding = 'ISO-8859-1') as file_in:\n",
    "    emails_string = file_in.read()\n",
    "    \n",
    "print(len(emails_string))\n",
    "print()\n",
    "\n",
    "print(emails_string[:300])\n"
   ]
  },
  {
   "cell_type": "markdown",
   "metadata": {},
   "source": [
    ".\n",
    "\n",
    "\n",
    ".\n",
    "\n",
    "\n",
    "Clearly there are some differences to what we were looking at.\n",
    "\n",
    "In particular, it seems that email may be enclosed by `<...>`.\n",
    "\n",
    "That is handy and easy enough to incorporate into our `re_string`\n"
   ]
  },
  {
   "cell_type": "code",
   "execution_count": null,
   "metadata": {
    "ExecuteTime": {
     "end_time": "2023-02-12T21:52:39.726696Z",
     "start_time": "2023-02-12T21:52:39.676009Z"
    }
   },
   "outputs": [],
   "source": [
    "username_re = '([\\w.]{1,64})'\n",
    "domain_re = '(\\w{1,64}\\.[a-zA-Z]{2,8})'  # got rid of \\s\n",
    "inner_domain_re = '((\\w{1,64}\\.){0,4})'\n",
    "\n",
    "re_emails = ( '<' + username_re + '@' + inner_domain_re + domain_re + '>' )\n",
    "\n",
    "print(f\"Current re_string is:\\n\\t\\t{re_emails}\\n\")\n",
    "\n",
    "for match in re.finditer(re_emails, emails_string[:5000]):\n",
    "    print(match)"
   ]
  },
  {
   "cell_type": "markdown",
   "metadata": {},
   "source": [
    "Note bad. All the matches are good email addresses.  \n",
    "\n",
    "But could it be that we are missing something?\n",
    "\n",
    "**Let's print the string to check!**"
   ]
  },
  {
   "cell_type": "code",
   "execution_count": null,
   "metadata": {
    "ExecuteTime": {
     "end_time": "2023-02-12T21:52:45.176437Z",
     "start_time": "2023-02-12T21:52:45.121870Z"
    },
    "scrolled": false
   },
   "outputs": [],
   "source": [
    "print(emails_string[:5000])\n"
   ]
  },
  {
   "cell_type": "markdown",
   "metadata": {},
   "source": [
    "Did you notice `jeb@jeb.org`? \n",
    "\n",
    "Clearly, not all emails are enclosed within `<...>`.\n",
    "\n",
    "Let's correct that then\n"
   ]
  },
  {
   "cell_type": "code",
   "execution_count": null,
   "metadata": {
    "ExecuteTime": {
     "end_time": "2023-02-12T21:52:59.535496Z",
     "start_time": "2023-02-12T21:52:59.473387Z"
    }
   },
   "outputs": [],
   "source": [
    "username_re = '([\\w.]{1,64})'\n",
    "domain_re = '(\\w{1,64}\\.[a-zA-Z]{2,8})'  # got rid of \\s\n",
    "inner_domain_re = '((\\w{1,64}\\.){0,4})'\n",
    "\n",
    "re_emails = ( username_re + '@' + inner_domain_re + domain_re )\n",
    "\n",
    "print(f\"Current re_string is:\\n\\t\\t{re_emails}\\n\")\n",
    "\n",
    "for match in re.finditer(re_emails, emails_string[:5000]):\n",
    "    print(match)"
   ]
  },
  {
   "cell_type": "markdown",
   "metadata": {},
   "source": [
    "Nice.\n",
    "\n",
    "Do you need to buy an email list to sell your miracle COVID cure? I can offer you a very good deal!\n",
    "\n",
    "Let's check how many there are in the entire file.\n"
   ]
  },
  {
   "cell_type": "code",
   "execution_count": null,
   "metadata": {
    "ExecuteTime": {
     "end_time": "2023-02-12T21:53:11.651262Z",
     "start_time": "2023-02-12T21:53:10.390245Z"
    },
    "scrolled": true
   },
   "outputs": [],
   "source": [
    "username_re = '([\\w.]{1,64})'\n",
    "domain_re = '(\\w{1,64}\\.[a-zA-Z]{2,8})'  # got rid of \\s\n",
    "inner_domain_re = '((\\w{1,64}\\.){0,4})'\n",
    "\n",
    "re_emails = ( username_re + '@' + inner_domain_re + domain_re )\n",
    "\n",
    "print(f\"Current re_string is:\\n\\n{re_emails}\\n\")\n",
    "\n",
    "for i, match in enumerate( re.finditer(re_emails, emails_string[:]) ):\n",
    "    print(f\"{i:>5}--{match.group():>50} -- {match.start()}\")"
   ]
  },
  {
   "cell_type": "markdown",
   "metadata": {},
   "source": [
    "That's really a lot of compromised e-mail addresses. \n",
    "\n",
    "There are so many that we actually can reproduce some of the analysis we did with text but using emails as tokens instead of words.\n",
    "\n",
    "Change the code so you store all the emails you found and repeat some of the analyses that you conducted earlier.\n",
    "\n"
   ]
  },
  {
   "cell_type": "code",
   "execution_count": null,
   "metadata": {},
   "outputs": [],
   "source": []
  },
  {
   "cell_type": "code",
   "execution_count": null,
   "metadata": {},
   "outputs": [],
   "source": []
  },
  {
   "cell_type": "code",
   "execution_count": null,
   "metadata": {},
   "outputs": [],
   "source": []
  },
  {
   "cell_type": "code",
   "execution_count": null,
   "metadata": {},
   "outputs": [],
   "source": []
  },
  {
   "cell_type": "code",
   "execution_count": null,
   "metadata": {},
   "outputs": [],
   "source": []
  },
  {
   "cell_type": "markdown",
   "metadata": {
    "collapsed": true
   },
   "source": [
    "# Additional Resources\n",
    "\n",
    "If you're interest in learning more about using and writing regular expression, you can continue with this documentation.\n",
    "\n",
    "* [More Python documentation](https://docs.python.org/3/howto/regex.html#regex-howto)\n",
    "* [A great little notebook](http://nbviewer.ipython.org/github/sampathweb/python_reference/blob/master/tutorials/useful_regex.ipynb)\n",
    "\n"
   ]
  },
  {
   "cell_type": "markdown",
   "metadata": {},
   "source": [
    "# Exercises\n"
   ]
  },
  {
   "cell_type": "markdown",
   "metadata": {},
   "source": [
    "If you look carefully, you will see that emails enclosed in `<...>` contain the name of the owner of the email account.\n",
    "\n",
    "Can you associate names to emails?\n",
    "\n",
    "How would you do it? One name to one email? One name to many emails (Jeb clearly used a bunch of different email addresses)?\n",
    "\n",
    "If you use a `dictionary` to store the data, what would be the key? "
   ]
  },
  {
   "cell_type": "code",
   "execution_count": null,
   "metadata": {},
   "outputs": [],
   "source": []
  },
  {
   "cell_type": "markdown",
   "metadata": {},
   "source": [
    "Besides names that appear close to the email address, you can also find names in the signature of the email. You can even find other information such as addresses and such.\n",
    "\n",
    "Can you scrape that information?"
   ]
  },
  {
   "cell_type": "code",
   "execution_count": null,
   "metadata": {},
   "outputs": [],
   "source": []
  },
  {
   "cell_type": "markdown",
   "metadata": {},
   "source": [
    "People are clearly an important type of entity in a corpus of emails.  However, the emails themselves are important entities.\n",
    "\n",
    "Can you isolate each email?\n",
    "\n",
    "What **metadata** can you extract concerning a given email?"
   ]
  },
  {
   "cell_type": "code",
   "execution_count": null,
   "metadata": {},
   "outputs": [],
   "source": []
  },
  {
   "cell_type": "markdown",
   "metadata": {},
   "source": [
    "## Searching filesystems\n",
    "\n",
    "Let's say that you want to find all `PDF` files in your home account in your computer.\n",
    "\n",
    "How do you obtain the path of every single file? Glob-glob\n",
    "\n",
    "How do you search each file path for whether the file is a `PDF` or not?\n",
    "\n",
    "How can you confirm that the file is indeed a `PDF` file?\n",
    "\n"
   ]
  },
  {
   "cell_type": "code",
   "execution_count": null,
   "metadata": {},
   "outputs": [],
   "source": []
  },
  {
   "cell_type": "markdown",
   "metadata": {},
   "source": [
    "## Regex Golf\n",
    "\n",
    "There are so many more complicated things you can do with regex, and there is even a game called [regex golf](http://regex.alf.nu) that the nerdiest of all nerds play from time to time where the object is to come up with the shortest way to match certain patterns while [avoiding others](http://nbviewer.ipython.org/url/norvig.com/ipython/xkcd1313.ipynb). This game can serve as good practice to improve your regular expression skills.\n",
    "\n",
    "As a test, let's play a game of regex golf. Let's try to match Star Wars movie titles, but not Star Trek movie titles."
   ]
  },
  {
   "cell_type": "code",
   "execution_count": null,
   "metadata": {
    "ExecuteTime": {
     "end_time": "2022-07-20T22:34:12.144035Z",
     "start_time": "2022-07-20T22:34:12.114981Z"
    }
   },
   "outputs": [],
   "source": [
    "# This was MUCH simpler then\n",
    "#\n",
    "starwars = [ 'The Phantom Menace', 'Attack of the Clones', \n",
    "             'Revenge of the Sith', 'A New Hope', \n",
    "             'The Empire Strikes Back', 'Return of the Jedi' ]\n",
    "\n",
    "startrek = [ 'The Wrath of Khan', 'The Search for Spock', \n",
    "             'The Voyage Home', 'The Final Frontier', \n",
    "             'The Undiscovered Country', 'Generations',\n",
    "             'First Contact', 'Insurrection', 'Nemesis']"
   ]
  },
  {
   "cell_type": "code",
   "execution_count": null,
   "metadata": {},
   "outputs": [],
   "source": []
  },
  {
   "cell_type": "code",
   "execution_count": null,
   "metadata": {},
   "outputs": [],
   "source": []
  }
 ],
 "metadata": {
  "anaconda-cloud": {},
  "kernelspec": {
   "display_name": "base",
   "language": "python",
   "name": "base"
  },
  "language_info": {
   "codemirror_mode": {
    "name": "ipython",
    "version": 3
   },
   "file_extension": ".py",
   "mimetype": "text/x-python",
   "name": "python",
   "nbconvert_exporter": "python",
   "pygments_lexer": "ipython3",
   "version": "3.9.12"
  },
  "toc": {
   "base_numbering": 1,
   "nav_menu": {},
   "number_sections": true,
   "sideBar": true,
   "skip_h1_title": false,
   "title_cell": "Table of Contents",
   "title_sidebar": "Contents",
   "toc_cell": false,
   "toc_position": {
    "height": "calc(100% - 180px)",
    "left": "10px",
    "top": "150px",
    "width": "165px"
   },
   "toc_section_display": true,
   "toc_window_display": true
  },
  "varInspector": {
   "cols": {
    "lenName": 16,
    "lenType": 16,
    "lenVar": 40
   },
   "kernels_config": {
    "python": {
     "delete_cmd_postfix": "",
     "delete_cmd_prefix": "del ",
     "library": "var_list.py",
     "varRefreshCmd": "print(var_dic_list())"
    },
    "r": {
     "delete_cmd_postfix": ") ",
     "delete_cmd_prefix": "rm(",
     "library": "var_list.r",
     "varRefreshCmd": "cat(var_dic_list()) "
    }
   },
   "types_to_exclude": [
    "module",
    "function",
    "builtin_function_or_method",
    "instance",
    "_Feature"
   ],
   "window_display": false
  }
 },
 "nbformat": 4,
 "nbformat_minor": 1
}
