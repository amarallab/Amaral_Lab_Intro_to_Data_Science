{
 "cells": [
  {
   "cell_type": "markdown",
   "metadata": {},
   "source": [
    "# Synopsis\n",
    "\n",
    "In this unit we will discuss:\n",
    "\n",
    "\n",
    "- **Nonetype**\n",
    "\n",
    "This is the Python version of `null`.  It cannot be operated upon.\n",
    "    \n",
    "- **Numbers** \n",
    "\n",
    "Numbers come in three main flavors in Python:  \n",
    "\n",
    "> `integers` (`1`, `2`, ...)\n",
    "\n",
    "> `floats` (`1.2`, `0.333333`, ...)\n",
    "\n",
    "> `complex` (`1.2 + 3.5 i`, ...) \n",
    "\n",
    "Number can be acted upon with mathematical operators: \n",
    "\n",
    "> `+`, `-`, `*`, `/`, `%%`, ...\n",
    "    \n",
    "- **Boolean**\n",
    "\n",
    "Boolean variables can take two values: \n",
    "\n",
    "> `True` and `False`.\n",
    "\n",
    "They can be acted upon with logical operators: \n",
    "\n",
    "> `and`, `not`, `or`  \n",
    "    \n",
    "\n",
    "- **Built-in functions**\n",
    "\n",
    "Python data types can also be acted upon with `functions`. We will cover the following functions\n",
    "\n",
    "> `print()`, `help()`, `type()`, `int()`, `float()`, `str()`\n",
    "    \n",
    "And also several functions that act upon string variables: \n",
    "\n",
    "> `reverse()`, `sort()`, `strip()`, ...\n"
   ]
  },
  {
   "cell_type": "markdown",
   "metadata": {},
   "source": [
    "# Read libraries"
   ]
  },
  {
   "cell_type": "code",
   "execution_count": null,
   "metadata": {
    "ExecuteTime": {
     "end_time": "2023-08-04T15:07:24.779194Z",
     "start_time": "2023-08-04T15:07:24.773635Z"
    }
   },
   "outputs": [],
   "source": [
    "from IPython.core.display import HTML\n",
    "from IPython.lib.display import YouTubeVideo\n",
    "\n",
    "import math"
   ]
  },
  {
   "cell_type": "markdown",
   "metadata": {},
   "source": [
    "# Videos"
   ]
  },
  {
   "cell_type": "code",
   "execution_count": null,
   "metadata": {
    "ExecuteTime": {
     "end_time": "2023-08-04T15:07:29.449881Z",
     "start_time": "2023-08-04T15:07:29.232105Z"
    }
   },
   "outputs": [],
   "source": [
    "vid = YouTubeVideo('_87ASgggEg0', width = 600)\n",
    "display(vid)"
   ]
  },
  {
   "cell_type": "code",
   "execution_count": null,
   "metadata": {
    "ExecuteTime": {
     "end_time": "2023-01-09T20:01:59.596789Z",
     "start_time": "2023-01-09T20:01:59.498794Z"
    }
   },
   "outputs": [],
   "source": [
    "vid = YouTubeVideo('Aj8FQRIHJSc', width = 600)\n",
    "display(vid)"
   ]
  },
  {
   "cell_type": "code",
   "execution_count": null,
   "metadata": {
    "ExecuteTime": {
     "end_time": "2023-01-09T20:02:07.519561Z",
     "start_time": "2023-01-09T20:02:07.412351Z"
    }
   },
   "outputs": [],
   "source": [
    "vid = YouTubeVideo('9OK32jb_TdI', width = 600)\n",
    "display(vid)"
   ]
  },
  {
   "cell_type": "markdown",
   "metadata": {},
   "source": [
    "# Computer programs operate on data \n",
    "\n",
    "A computer program is a set of statements (i.e., instructions) to accomplish one or more of the following: read, create, calculate, transform, organize, and store data.\n",
    "\n",
    "In order to operate on data, a computer program must have a way to store and retrieve it. This goal is achieved through the use of variables. If you think of data as pieces of paper where you wrote something, then a variable is a folder to which you affix a sticker with a name and where you may store one or more pieces of paper.\n",
    "\n"
   ]
  },
  {
   "cell_type": "markdown",
   "metadata": {},
   "source": [
    "## Rules for naming variables\n",
    "\n",
    "Python has basically only three rules about naming variables:\n",
    "\n",
    "* names you define must start with a letter (a-z,A-Z) or underscore (_) and can be followed by any number of letters, digits (0-9), or underscores\n",
    "\n",
    "\n",
    "* names you define cannot be the same as any of Python's reserved words (see handout)\n",
    "\n",
    "\n",
    "* names are case-sensitive: `YOU`, `you`, `You`, and `yOu` are all different names in Python\n",
    "\n",
    "\n",
    "**Note that `-`, `+`, `*`, and `/` are used by Python for defining operations on data and cannot be used in names.**\n",
    "\n",
    "**Note that that the characters `@`, `$` and `?` are not used in Python syntax.**\n"
   ]
  },
  {
   "cell_type": "markdown",
   "metadata": {
    "editable": true,
    "slideshow": {
     "slide_type": ""
    },
    "tags": []
   },
   "source": [
    "## Different types of data, different data types\n",
    "\n",
    "Data come in many formats. It can be a number, a piece of text, an image.  In order to write readable, efficient code it is important to **create variables with names that match the nature of the data**.\n",
    "\n",
    "For simple data types, Python figures out what data type is best when you create a new variable. An important thing to keep in mind when naming variables is that it's up to you to name them well. There are a number of different data types in Python, but there's no distinction as to how you must name them. This means that it is up to you to give good, descriptive names to your variables.\n",
    "\n",
    "## Why is this important?\n",
    "\n",
    "The point of descriptive variable names is to improve readability and understanding of code for both yourself and others. While you may believe that you will never re-use a piece of code, or that if you do you will remember what you were doing, the truth is that you won't. \n",
    "\n",
    "**Good naming practice makes all the difference.**\n",
    "\n",
    "Correctly naming variables becomes a comment within the code. \n",
    "\n",
    "For example, look at this code:\n",
    "\n",
    "  ```\n",
    "  if c - yy < 16:\n",
    "      print('You cannot drive yet!')\n",
    "  else:\n",
    "      print('Yay!, you can drive!')\n",
    "  ```\n",
    "\n",
    "\n",
    "It becomes more understandable in this way:\n",
    "\n",
    "  ```\n",
    "  if current_year - your_birthyear < 16:\n",
    "      print('You cannot drive yet!')\n",
    "  else:\n",
    "      print('Yay!, you can drive!')\n",
    "  ```\n",
    "\n",
    "Or, even better:\n",
    "\n",
    "  ```\n",
    "  your_age = current_year - your_birthyear\n",
    "  if your_age < 16:\n",
    "      print('You cannot drive yet!')\n",
    "  else:\n",
    "      print('Yay!, you can drive!')\n",
    "  ```"
   ]
  },
  {
   "cell_type": "markdown",
   "metadata": {
    "editable": true,
    "slideshow": {
     "slide_type": ""
    },
    "tags": []
   },
   "source": [
    "## Variable life cycle\n",
    "\n",
    "Like everything else, variables also have a life cycle:\n",
    "\n",
    "> <code><span style='color:green'>declare -> initialize -> use -> remove</span></code>\n",
    "\n",
    "In some languages, but not `Python`, variables must first be declared before they can be initialized, that is, assigned a value.\n",
    "\n",
    "**In `Python` initialization serves as a declaration!**\n"
   ]
  },
  {
   "cell_type": "code",
   "execution_count": null,
   "metadata": {
    "ExecuteTime": {
     "end_time": "2023-01-09T20:14:15.071462Z",
     "start_time": "2023-01-09T20:14:15.060453Z"
    }
   },
   "outputs": [],
   "source": [
    "a_number = 2\n",
    "a_word = 'dog'"
   ]
  },
  {
   "cell_type": "markdown",
   "metadata": {},
   "source": [
    "Now we have created `a_number` as the **variable** and assigned `2` as its **value**. The construction\n",
    "\n",
    "> `variable = value`\n",
    "\n",
    "holds across most programming languages. We can now use our variable `a_number` again, or just look up  its value. \n"
   ]
  },
  {
   "cell_type": "code",
   "execution_count": null,
   "metadata": {
    "ExecuteTime": {
     "end_time": "2023-01-09T20:14:49.411754Z",
     "start_time": "2023-01-09T20:14:49.399429Z"
    }
   },
   "outputs": [],
   "source": [
    "# Notice that the outcome of the last statement in a cell in sent out to the output cell!\n",
    "\n",
    "a_number * 3\n"
   ]
  },
  {
   "cell_type": "markdown",
   "metadata": {},
   "source": [
    "We can look at the content of a variable using the `print()` function."
   ]
  },
  {
   "cell_type": "code",
   "execution_count": null,
   "metadata": {
    "ExecuteTime": {
     "end_time": "2023-01-09T20:14:56.057102Z",
     "start_time": "2023-01-09T20:14:56.049921Z"
    }
   },
   "outputs": [],
   "source": [
    "print( a_number )"
   ]
  },
  {
   "cell_type": "code",
   "execution_count": null,
   "metadata": {
    "ExecuteTime": {
     "end_time": "2023-01-09T20:14:59.937268Z",
     "start_time": "2023-01-09T20:14:59.927479Z"
    }
   },
   "outputs": [],
   "source": [
    "print( a_word )"
   ]
  },
  {
   "cell_type": "code",
   "execution_count": null,
   "metadata": {
    "ExecuteTime": {
     "end_time": "2023-01-09T20:15:03.542384Z",
     "start_time": "2023-01-09T20:15:03.207625Z"
    }
   },
   "outputs": [],
   "source": [
    "print( my_car )"
   ]
  },
  {
   "cell_type": "markdown",
   "metadata": {},
   "source": [
    "\n",
    "## Getting information about things\n",
    "\n",
    "Knowing how to get help is half the battle!\n",
    "\n",
    "**What if we want to find out what names have been initialized?**"
   ]
  },
  {
   "cell_type": "code",
   "execution_count": null,
   "metadata": {
    "ExecuteTime": {
     "end_time": "2023-08-04T15:07:40.984700Z",
     "start_time": "2023-08-04T15:07:40.973262Z"
    }
   },
   "outputs": [],
   "source": [
    "who"
   ]
  },
  {
   "cell_type": "code",
   "execution_count": null,
   "metadata": {
    "ExecuteTime": {
     "end_time": "2023-01-09T20:15:23.879183Z",
     "start_time": "2023-01-09T20:15:23.873457Z"
    }
   },
   "outputs": [],
   "source": [
    "print( print.__doc__ )"
   ]
  },
  {
   "cell_type": "code",
   "execution_count": null,
   "metadata": {
    "ExecuteTime": {
     "end_time": "2023-01-09T20:15:55.635275Z",
     "start_time": "2023-01-09T20:15:55.623648Z"
    }
   },
   "outputs": [],
   "source": [
    "help(print)"
   ]
  },
  {
   "cell_type": "code",
   "execution_count": null,
   "metadata": {
    "ExecuteTime": {
     "end_time": "2023-01-09T20:16:00.716285Z",
     "start_time": "2023-01-09T20:16:00.690314Z"
    },
    "scrolled": true
   },
   "outputs": [],
   "source": [
    "help(a_number)"
   ]
  },
  {
   "cell_type": "markdown",
   "metadata": {},
   "source": [
    "**What if we want to determine the data type that `Python` assigned a variable?**\n",
    "\n",
    "That is where the function `type` comes in:"
   ]
  },
  {
   "cell_type": "code",
   "execution_count": null,
   "metadata": {
    "ExecuteTime": {
     "end_time": "2023-01-09T20:17:06.806265Z",
     "start_time": "2023-01-09T20:17:06.791803Z"
    }
   },
   "outputs": [],
   "source": [
    "print(type( a_number ))\n",
    "print(type( a_word ))"
   ]
  },
  {
   "cell_type": "markdown",
   "metadata": {},
   "source": [
    "Once a variable is created, we can perform operations on it:"
   ]
  },
  {
   "cell_type": "code",
   "execution_count": null,
   "metadata": {
    "ExecuteTime": {
     "end_time": "2023-01-09T20:17:29.136418Z",
     "start_time": "2023-01-09T20:17:29.122575Z"
    }
   },
   "outputs": [],
   "source": [
    "a_number * 2"
   ]
  },
  {
   "cell_type": "markdown",
   "metadata": {},
   "source": [
    "But only those operations which are appropriate to the data type"
   ]
  },
  {
   "cell_type": "code",
   "execution_count": null,
   "metadata": {
    "ExecuteTime": {
     "end_time": "2023-01-09T20:18:28.110146Z",
     "start_time": "2023-01-09T20:18:28.087304Z"
    }
   },
   "outputs": [],
   "source": [
    "a_word / 2"
   ]
  },
  {
   "cell_type": "markdown",
   "metadata": {},
   "source": [
    "## Variables versus constants\n",
    "\n",
    "Some programming languages have the ability to define **constants**. These are places in memory whose value can only be assigned once and can never be changed after that.\n",
    "\n",
    "`Python` does not uses `constants`. Instead, everything is a **variable** the data stored in that particular memory location can be **changed** at will.\n",
    "\n",
    "While `Python` does not use `constants`, it makes use of a property called **mutability**.  `Mutable` variables can be changed in place. `Immutable` variables cannot be changed in place.\n",
    "\n",
    "You should be aware, however, that code many times is written giving the impression that an immutable variable was changed.  What actually happened is that a new variable was created with the same name as a different variable to store a change to an `immutable` variable.\n",
    "\n",
    "To change the value (and possibly the type) of a variable, you just have to initialize it."
   ]
  },
  {
   "cell_type": "code",
   "execution_count": null,
   "metadata": {
    "ExecuteTime": {
     "end_time": "2023-01-09T20:19:20.401700Z",
     "start_time": "2023-01-09T20:19:20.387900Z"
    }
   },
   "outputs": [],
   "source": [
    "print(a_number)\n",
    "print()\n",
    "a_number = 5\n",
    "\n",
    "print(a_number)"
   ]
  },
  {
   "cell_type": "markdown",
   "metadata": {},
   "source": [
    "# Basic data types\n",
    "\n",
    "Python has eight built-in data types. Four of those are quite simple, in the sense that they **store a single value**:\n",
    "\n",
    "* NoneType\n",
    "* Integers\n",
    "* Floats\n",
    "* Complex\n",
    "* Booleans\n",
    "\n",
    "* Strings\n",
    "\n",
    "\n",
    "The other four are denoted **collections** because they can **store arbitrary numbers of values**. Python's four default collection data types are:\n",
    "\n",
    "* Lists\n",
    "* Tuples\n",
    "* Sets\n",
    "* Dictionaries\n",
    "\n",
    "In this lecture, we will go over the simple data types, except for `complex numbers`, which we will completely ignore."
   ]
  },
  {
   "cell_type": "markdown",
   "metadata": {},
   "source": [
    "## Nonetype\n",
    "\n",
    "`None` is used to acknowledge that we do not have a value for a variable.  For example, when running a function, the function may not return anything to the main program. In that case, returning nothing is encoded as returning the value `None`.\n",
    "\n",
    "Some other function can return values in many cases but not in others.  For example, if you search a piece of text for some pattern, but do not find a match, you would, in that case, return `None`. \n",
    "\n",
    "Notice that in a context where `Python` is expecting a Boolean value, it will understand `None` as `False`.\n"
   ]
  },
  {
   "cell_type": "code",
   "execution_count": null,
   "metadata": {
    "ExecuteTime": {
     "end_time": "2023-01-09T20:21:52.585612Z",
     "start_time": "2023-01-09T20:21:52.571333Z"
    }
   },
   "outputs": [],
   "source": [
    "a_variable = None\n",
    "\n",
    "print( '1', a_variable )\n",
    "\n",
    "print( '2', type(a_variable) )\n",
    "\n",
    "print( '3', a_variable is None )\n",
    "\n",
    "print( '4', a_variable == None )\n",
    "\n",
    "if None:\n",
    "    print( '5', a_variable == None )"
   ]
  },
  {
   "cell_type": "markdown",
   "metadata": {},
   "source": [
    "## Integers\n",
    "\n",
    "A Python integer coincides with the mathematical concept of **integer number**. \n",
    "\n",
    "Python allows you to do basic arithmetic with integers whether you define variables or not. The operations are represented using the same operators you use in a calculator."
   ]
  },
  {
   "cell_type": "code",
   "execution_count": null,
   "metadata": {
    "ExecuteTime": {
     "end_time": "2023-01-09T20:22:41.252886Z",
     "start_time": "2023-01-09T20:22:41.244312Z"
    }
   },
   "outputs": [],
   "source": [
    "2 + 2"
   ]
  },
  {
   "cell_type": "code",
   "execution_count": null,
   "metadata": {
    "ExecuteTime": {
     "end_time": "2023-01-09T20:22:41.616292Z",
     "start_time": "2023-01-09T20:22:41.600360Z"
    }
   },
   "outputs": [],
   "source": [
    "4 - 2"
   ]
  },
  {
   "cell_type": "code",
   "execution_count": null,
   "metadata": {
    "ExecuteTime": {
     "end_time": "2023-01-09T20:22:41.952852Z",
     "start_time": "2023-01-09T20:22:41.942655Z"
    }
   },
   "outputs": [],
   "source": [
    "2 * 2"
   ]
  },
  {
   "cell_type": "code",
   "execution_count": null,
   "metadata": {
    "ExecuteTime": {
     "end_time": "2023-01-09T20:22:42.303581Z",
     "start_time": "2023-01-09T20:22:42.290588Z"
    }
   },
   "outputs": [],
   "source": [
    "2 / 2"
   ]
  },
  {
   "cell_type": "code",
   "execution_count": null,
   "metadata": {
    "ExecuteTime": {
     "end_time": "2023-01-09T20:22:42.691601Z",
     "start_time": "2023-01-09T20:22:42.684399Z"
    }
   },
   "outputs": [],
   "source": [
    "2**5"
   ]
  },
  {
   "cell_type": "code",
   "execution_count": null,
   "metadata": {
    "ExecuteTime": {
     "end_time": "2023-01-09T20:22:54.202254Z",
     "start_time": "2023-01-09T20:22:54.189427Z"
    }
   },
   "outputs": [],
   "source": [
    "2**1.3"
   ]
  },
  {
   "cell_type": "markdown",
   "metadata": {},
   "source": [
    "We can also store the result of an operation into a variable. The variable will store the evaluated answer, not the arithmetic expression."
   ]
  },
  {
   "cell_type": "code",
   "execution_count": null,
   "metadata": {
    "ExecuteTime": {
     "end_time": "2023-01-09T20:23:00.894469Z",
     "start_time": "2023-01-09T20:23:00.887474Z"
    }
   },
   "outputs": [],
   "source": [
    "division = 8 / 3\n",
    "division"
   ]
  },
  {
   "cell_type": "markdown",
   "metadata": {},
   "source": [
    "We see that the division operator stores the answer that we are used to, which is $2.\\bar{6}$ -- the little bar over the 6 should be read as an infinite number of 6s.  \n",
    "\n",
    "## Integer division and its remainder\n",
    "\n",
    "There is also another form of division -- truncating division -- that  truncates all the numbers after the decimal). It uses the `//` operator:"
   ]
  },
  {
   "cell_type": "code",
   "execution_count": null,
   "metadata": {
    "ExecuteTime": {
     "end_time": "2023-01-09T20:23:22.836519Z",
     "start_time": "2023-01-09T20:23:22.830763Z"
    }
   },
   "outputs": [],
   "source": [
    "integer_division = 8.9 // 3\n",
    "integer_division"
   ]
  },
  {
   "cell_type": "markdown",
   "metadata": {},
   "source": [
    "What if we want to get the remainder of a truncating division? Then, we use the `%` operator."
   ]
  },
  {
   "cell_type": "code",
   "execution_count": null,
   "metadata": {
    "ExecuteTime": {
     "end_time": "2023-01-09T20:23:35.000355Z",
     "start_time": "2023-01-09T20:23:34.985974Z"
    }
   },
   "outputs": [],
   "source": [
    "7 % 2"
   ]
  },
  {
   "cell_type": "markdown",
   "metadata": {},
   "source": [
    "It even works with a decimal remainder:"
   ]
  },
  {
   "cell_type": "code",
   "execution_count": null,
   "metadata": {
    "ExecuteTime": {
     "end_time": "2023-01-09T20:23:45.920087Z",
     "start_time": "2023-01-09T20:23:45.906534Z"
    }
   },
   "outputs": [],
   "source": [
    "4.2 % 2"
   ]
  },
  {
   "cell_type": "markdown",
   "metadata": {},
   "source": [
    "**What is that stuff after all the zeros?**\n",
    "\n",
    "This is important!  Computers deal with binary values, `0` and `1`.  Number are thus stored using base 2.  Instead of storing `3`, the computer stores it as `11B`, where the B referes to binary.\n",
    "\n",
    "**What about decimal fractions?**\n",
    "\n",
    "0.1 is 1/10. What if we want to convert this to base 2? \n",
    "\n",
    "Let's consider first the value of `0.1B`.  It is equivalent to 1/2 = 0.5; `0.01B` is equivalent to 1/4 = 0.25; `0.001B` is equivalent to 1/8 = 0.125.\n",
    "\n",
    "Hoefully, at this point you will not be surprised to find out that 0.1 = `0.0001100110011...B`.  \n",
    "\n",
    "Because the computer cannot store an infinite number of those `0011B`, there will be a truncation that will introduce a small error when converting back to base 10. \n",
    "\n"
   ]
  },
  {
   "cell_type": "markdown",
   "metadata": {},
   "source": [
    "## Floats\n",
    "\n",
    "A Python float is what in mathematics is called a **rational number**. While floats are meant to replicate on the computer **real numbers** the fact is that one can only use a limited amount of storage to keep a number so it is impossible to fully store **irrational numbers** such as $\\pi$. "
   ]
  },
  {
   "cell_type": "code",
   "execution_count": null,
   "metadata": {
    "ExecuteTime": {
     "end_time": "2023-08-04T15:08:02.063749Z",
     "start_time": "2023-08-04T15:08:02.058218Z"
    }
   },
   "outputs": [],
   "source": [
    "new_float = 2/3\n",
    "print(new_float)\n",
    "print(math.pi)"
   ]
  },
  {
   "cell_type": "markdown",
   "metadata": {},
   "source": [
    "So what if we want to change an integer to a float or vice versa???\n",
    "\n",
    "All we have to do is **cast** the number using the data type name that we want to transform it to. We can see this below:"
   ]
  },
  {
   "cell_type": "code",
   "execution_count": null,
   "metadata": {
    "ExecuteTime": {
     "end_time": "2023-01-09T20:24:41.731788Z",
     "start_time": "2023-01-09T20:24:41.715804Z"
    }
   },
   "outputs": [],
   "source": [
    "int(4.8E3)"
   ]
  },
  {
   "cell_type": "code",
   "execution_count": null,
   "metadata": {
    "ExecuteTime": {
     "end_time": "2023-01-09T20:24:52.298079Z",
     "start_time": "2023-01-09T20:24:52.288891Z"
    }
   },
   "outputs": [],
   "source": [
    "float(2)"
   ]
  },
  {
   "cell_type": "markdown",
   "metadata": {},
   "source": [
    "<br>\n",
    "But an important thing to know is that if we cast a variable, it won't actually stay that way unless we assign it to a new a variable!"
   ]
  },
  {
   "cell_type": "code",
   "execution_count": null,
   "metadata": {
    "ExecuteTime": {
     "end_time": "2023-01-09T20:26:05.652574Z",
     "start_time": "2023-01-09T20:26:05.636973Z"
    }
   },
   "outputs": [],
   "source": [
    "type(2) == type(2.0)"
   ]
  },
  {
   "cell_type": "code",
   "execution_count": null,
   "metadata": {
    "ExecuteTime": {
     "end_time": "2023-01-09T20:25:46.415106Z",
     "start_time": "2023-01-09T20:25:46.409575Z"
    }
   },
   "outputs": [],
   "source": [
    "my_int = 2\n",
    "print( float(my_int) )\n",
    "print( type(my_int) )"
   ]
  },
  {
   "cell_type": "code",
   "execution_count": null,
   "metadata": {
    "ExecuteTime": {
     "end_time": "2023-01-09T20:26:42.633678Z",
     "start_time": "2023-01-09T20:26:42.623322Z"
    }
   },
   "outputs": [],
   "source": [
    "int(3.2)"
   ]
  },
  {
   "cell_type": "code",
   "execution_count": null,
   "metadata": {
    "ExecuteTime": {
     "end_time": "2022-06-15T18:53:30.766702Z",
     "start_time": "2022-06-15T18:53:30.755606Z"
    }
   },
   "outputs": [],
   "source": [
    "my_float = float(my_int)\n",
    "print( type(my_float) )\n",
    "print( my_float )\n",
    "print( my_int )"
   ]
  },
  {
   "cell_type": "markdown",
   "metadata": {},
   "source": [
    "<br>\n",
    "If you're ever confused or interested about what the type of a variable is you can always just check it with the function `type`"
   ]
  },
  {
   "cell_type": "code",
   "execution_count": null,
   "metadata": {
    "ExecuteTime": {
     "end_time": "2023-01-09T20:28:32.946739Z",
     "start_time": "2023-01-09T20:28:32.931660Z"
    }
   },
   "outputs": [],
   "source": [
    "type(new_float)"
   ]
  },
  {
   "cell_type": "code",
   "execution_count": null,
   "metadata": {
    "ExecuteTime": {
     "end_time": "2023-01-09T20:28:33.684264Z",
     "start_time": "2023-01-09T20:28:33.677003Z"
    }
   },
   "outputs": [],
   "source": [
    "type(2)"
   ]
  },
  {
   "cell_type": "markdown",
   "metadata": {},
   "source": [
    "***THIS IS JUST SO YOU KNOW ABOUT IT! DON'T DO IT!***\n",
    "\n",
    "Now something that you should notice here is that `float` and `int` are colored green (as are `print` and `type`). That's because these are words in Python that are already defined by the language. \n",
    "\n",
    "**Python will let you overwrite them**. However, you should wait until you are a programming god to do it (or just **Don't. Do it. Ever.** either way). \n",
    "\n",
    "If you ever accidentally do it, like so:"
   ]
  },
  {
   "cell_type": "code",
   "execution_count": null,
   "metadata": {
    "ExecuteTime": {
     "end_time": "2023-01-09T20:29:19.884375Z",
     "start_time": "2023-01-09T20:29:19.858178Z"
    }
   },
   "outputs": [],
   "source": [
    "int = 4\n",
    "print(\"What have we done to int?\", int)\n",
    "int(5.0)"
   ]
  },
  {
   "cell_type": "markdown",
   "metadata": {},
   "source": [
    "you'll lose the `int` function. However, you can get it back if you just delete the undesired assignment."
   ]
  },
  {
   "cell_type": "code",
   "execution_count": null,
   "metadata": {
    "ExecuteTime": {
     "end_time": "2023-01-09T20:30:26.167719Z",
     "start_time": "2023-01-09T20:30:26.157047Z"
    }
   },
   "outputs": [],
   "source": [
    "del int\n",
    "int(5.0)"
   ]
  },
  {
   "cell_type": "markdown",
   "metadata": {},
   "source": [
    "## Booleans\n",
    "\n",
    "A Python Boolean is what is math is called a **logical variable**. The name Boolean refers to **George Boole** who first defined an algebraic system of logic in the mid 19th century. The Boolean data type is primarily associated with conditional statements, which allow different actions and change control flow depending on whether a programmer-specified Boolean condition evaluates to `True` or `False`.\n",
    "\n",
    "### Comparing numbers\n",
    "\n",
    "As important as being able to calculate something, is to be able to compare the result of several computations.  \n",
    "\n",
    "Most of the symbols used for comparison are quite standard and just what you would expect.  \n",
    "\n",
    "\n",
    "```\n",
    "   '<='\n",
    "\n",
    "   '>='\n",
    " \n",
    "   '<'\n",
    "\n",
    "   '>'\n",
    "```\n",
    "\n",
    "The exceptions are the operators for `different from` and `equal to`.\n",
    "\n",
    "```\n",
    "   '!='\n",
    "\n",
    "   '=='\n",
    "```"
   ]
  },
  {
   "cell_type": "code",
   "execution_count": null,
   "metadata": {
    "ExecuteTime": {
     "end_time": "2023-01-09T20:35:11.640270Z",
     "start_time": "2023-01-09T20:35:11.632086Z"
    }
   },
   "outputs": [],
   "source": [
    "print(my_int)\n",
    "print()\n",
    "my_comparison = (my_int == 3)\n",
    "\n",
    "print(my_comparison)"
   ]
  },
  {
   "cell_type": "code",
   "execution_count": null,
   "metadata": {
    "ExecuteTime": {
     "end_time": "2023-01-09T20:35:19.874682Z",
     "start_time": "2023-01-09T20:35:19.857886Z"
    }
   },
   "outputs": [],
   "source": [
    "3 != 4"
   ]
  },
  {
   "cell_type": "code",
   "execution_count": null,
   "metadata": {
    "ExecuteTime": {
     "end_time": "2023-01-09T20:35:24.010492Z",
     "start_time": "2023-01-09T20:35:23.992891Z"
    }
   },
   "outputs": [],
   "source": [
    "print(a_number, a_word)\n",
    "print()\n",
    "\n",
    "a_number != a_word"
   ]
  },
  {
   "cell_type": "code",
   "execution_count": null,
   "metadata": {
    "ExecuteTime": {
     "end_time": "2023-01-09T20:35:34.327331Z",
     "start_time": "2023-01-09T20:35:34.321107Z"
    }
   },
   "outputs": [],
   "source": [
    "print(type(3 == 4))"
   ]
  },
  {
   "cell_type": "markdown",
   "metadata": {},
   "source": [
    "Python evaluates the expression and tells us that it is `True` if it is correct or `False` if it is incorrect.\n"
   ]
  },
  {
   "cell_type": "code",
   "execution_count": null,
   "metadata": {
    "ExecuteTime": {
     "end_time": "2022-09-06T16:41:27.156163Z",
     "start_time": "2022-09-06T16:41:27.149244Z"
    }
   },
   "outputs": [],
   "source": [
    "\n",
    "3 != 4"
   ]
  },
  {
   "cell_type": "markdown",
   "metadata": {},
   "source": [
    "The greater than, less than, greater than or equal to, and less than or equal to operators all work as we would expect."
   ]
  },
  {
   "cell_type": "code",
   "execution_count": null,
   "metadata": {
    "ExecuteTime": {
     "end_time": "2022-09-06T16:41:32.395292Z",
     "start_time": "2022-09-06T16:41:32.384115Z"
    }
   },
   "outputs": [],
   "source": [
    "3 > 4"
   ]
  },
  {
   "cell_type": "code",
   "execution_count": null,
   "metadata": {
    "ExecuteTime": {
     "end_time": "2022-09-06T16:41:33.079053Z",
     "start_time": "2022-09-06T16:41:33.065334Z"
    }
   },
   "outputs": [],
   "source": [
    "3 < 4"
   ]
  },
  {
   "cell_type": "code",
   "execution_count": null,
   "metadata": {
    "ExecuteTime": {
     "end_time": "2022-09-06T16:41:33.582186Z",
     "start_time": "2022-09-06T16:41:33.564974Z"
    }
   },
   "outputs": [],
   "source": [
    "3 <= 4"
   ]
  },
  {
   "cell_type": "markdown",
   "metadata": {},
   "source": [
    "### Logic operations\n",
    "\n",
    "We manipulate Boolean variables using logic statements.  Using variables that can take the values `True` and `False`, we can easily implement basic logical operations. \n",
    "\n",
    "Let's go through an example..."
   ]
  },
  {
   "cell_type": "code",
   "execution_count": null,
   "metadata": {
    "ExecuteTime": {
     "end_time": "2023-01-09T20:36:13.134976Z",
     "start_time": "2023-01-09T20:36:13.130294Z"
    }
   },
   "outputs": [],
   "source": [
    "love_python = True\n",
    "love_perl = False\n",
    "hate_perl = True\n"
   ]
  },
  {
   "cell_type": "code",
   "execution_count": null,
   "metadata": {
    "ExecuteTime": {
     "end_time": "2023-01-09T20:36:15.360063Z",
     "start_time": "2023-01-09T20:36:15.354252Z"
    }
   },
   "outputs": [],
   "source": [
    "print(love_python)"
   ]
  },
  {
   "cell_type": "code",
   "execution_count": null,
   "metadata": {
    "ExecuteTime": {
     "end_time": "2023-01-09T20:36:24.871948Z",
     "start_time": "2023-01-09T20:36:24.862708Z"
    }
   },
   "outputs": [],
   "source": [
    "type(love_python)"
   ]
  },
  {
   "cell_type": "markdown",
   "metadata": {},
   "source": [
    "We can see that when we print `love_python` it says `True` and its type is `bool`. \n"
   ]
  },
  {
   "cell_type": "code",
   "execution_count": null,
   "metadata": {
    "ExecuteTime": {
     "end_time": "2023-01-09T20:36:39.644717Z",
     "start_time": "2023-01-09T20:36:39.631154Z"
    }
   },
   "outputs": [],
   "source": [
    "love_perl"
   ]
  },
  {
   "cell_type": "markdown",
   "metadata": {},
   "source": [
    "We'll see here that each of those variables has its own value."
   ]
  },
  {
   "cell_type": "markdown",
   "metadata": {},
   "source": [
    "### Truth tables\n",
    "\n",
    "To implement logic we have three basic operations: `and`, `or`, `not`.  The figure shows the truth tables for these three operations.\n",
    "\n",
    "<img style=\"float:center\" src='Images/truth_tables.png' width='80%' ></img>\n",
    "\n",
    "\n",
    "Fo example, using the truth table for `and`, we see that `True and True` is `True`."
   ]
  },
  {
   "cell_type": "code",
   "execution_count": null,
   "metadata": {
    "ExecuteTime": {
     "end_time": "2023-01-09T20:37:10.755358Z",
     "start_time": "2023-01-09T20:37:10.741864Z"
    }
   },
   "outputs": [],
   "source": [
    "True and True"
   ]
  },
  {
   "cell_type": "markdown",
   "metadata": {},
   "source": [
    "As you would expect, we can perform these expressions with variables (remember that I only have one puppy)."
   ]
  },
  {
   "cell_type": "code",
   "execution_count": null,
   "metadata": {
    "ExecuteTime": {
     "end_time": "2023-01-09T20:37:16.858154Z",
     "start_time": "2023-01-09T20:37:16.846929Z"
    }
   },
   "outputs": [],
   "source": [
    "love_python and love_perl"
   ]
  },
  {
   "cell_type": "code",
   "execution_count": null,
   "metadata": {
    "ExecuteTime": {
     "end_time": "2022-09-06T16:44:19.177441Z",
     "start_time": "2022-09-06T16:44:19.166418Z"
    }
   },
   "outputs": [],
   "source": [
    "love_python and hate_perl"
   ]
  },
  {
   "cell_type": "code",
   "execution_count": null,
   "metadata": {
    "ExecuteTime": {
     "end_time": "2022-09-06T16:44:42.985572Z",
     "start_time": "2022-09-06T16:44:42.977358Z"
    }
   },
   "outputs": [],
   "source": [
    "print(a_number)\n",
    "a_number < 5 and a_number > 1"
   ]
  },
  {
   "cell_type": "markdown",
   "metadata": {},
   "source": [
    "# Order of operations\n",
    "\n",
    "Python respects the typical order of operations when it evaluates expressions:\n",
    "\n",
    "    Parentheses > Exponents > Multiplication > Division > Addition > Subtraction\n",
    "\n",
    "Remember that to access the exponentiation operation, you use the `**` operator.\n",
    "\n",
    "Logical operations also have a priority order. But, who cares!\n",
    "\n",
    "**My advice:** always use parentheses."
   ]
  },
  {
   "cell_type": "code",
   "execution_count": null,
   "metadata": {
    "ExecuteTime": {
     "end_time": "2022-06-15T18:56:56.152888Z",
     "start_time": "2022-06-15T18:56:56.142008Z"
    }
   },
   "outputs": [],
   "source": [
    "2**3"
   ]
  },
  {
   "cell_type": "code",
   "execution_count": null,
   "metadata": {
    "ExecuteTime": {
     "end_time": "2022-06-15T18:56:59.464610Z",
     "start_time": "2022-06-15T18:56:59.455526Z"
    }
   },
   "outputs": [],
   "source": [
    "eqn1 = 2 * 3 - 2\n",
    "print( eqn1 )"
   ]
  },
  {
   "cell_type": "code",
   "execution_count": null,
   "metadata": {
    "ExecuteTime": {
     "end_time": "2022-06-15T18:57:02.634849Z",
     "start_time": "2022-06-15T18:57:02.627019Z"
    }
   },
   "outputs": [],
   "source": [
    "eqn2 = -2 + 2 * 3\n",
    "print( eqn2 )"
   ]
  },
  {
   "cell_type": "code",
   "execution_count": null,
   "metadata": {
    "ExecuteTime": {
     "end_time": "2022-01-07T20:51:47.183400Z",
     "start_time": "2022-01-07T20:51:47.170338Z"
    }
   },
   "outputs": [],
   "source": [
    "eqn3 = -2 + (2 % 3)\n",
    "print( eqn3 )"
   ]
  },
  {
   "cell_type": "code",
   "execution_count": null,
   "metadata": {
    "ExecuteTime": {
     "end_time": "2022-01-07T20:51:50.045241Z",
     "start_time": "2022-01-07T20:51:50.002015Z"
    }
   },
   "outputs": [],
   "source": [
    "eqn4 = (.3 + 5) // 2\n",
    "print(eqn4)"
   ]
  },
  {
   "cell_type": "markdown",
   "metadata": {},
   "source": [
    "# Practice"
   ]
  },
  {
   "cell_type": "markdown",
   "metadata": {},
   "source": [
    "Write some statements that use the logical operators"
   ]
  },
  {
   "cell_type": "code",
   "execution_count": null,
   "metadata": {},
   "outputs": [],
   "source": []
  },
  {
   "cell_type": "code",
   "execution_count": null,
   "metadata": {},
   "outputs": [],
   "source": []
  },
  {
   "cell_type": "code",
   "execution_count": null,
   "metadata": {},
   "outputs": [],
   "source": []
  },
  {
   "cell_type": "code",
   "execution_count": null,
   "metadata": {},
   "outputs": [],
   "source": []
  },
  {
   "cell_type": "markdown",
   "metadata": {},
   "source": [
    "Write some statements that implement mathematical operations"
   ]
  },
  {
   "cell_type": "code",
   "execution_count": null,
   "metadata": {},
   "outputs": [],
   "source": []
  },
  {
   "cell_type": "code",
   "execution_count": null,
   "metadata": {},
   "outputs": [],
   "source": []
  },
  {
   "cell_type": "code",
   "execution_count": null,
   "metadata": {},
   "outputs": [],
   "source": []
  },
  {
   "cell_type": "code",
   "execution_count": null,
   "metadata": {},
   "outputs": [],
   "source": []
  },
  {
   "cell_type": "code",
   "execution_count": null,
   "metadata": {},
   "outputs": [],
   "source": []
  }
 ],
 "metadata": {
  "anaconda-cloud": {},
  "kernelspec": {
   "display_name": "Python [conda env:amarallab] *",
   "language": "python",
   "name": "conda-env-amarallab-py"
  },
  "language_info": {
   "codemirror_mode": {
    "name": "ipython",
    "version": 3
   },
   "file_extension": ".py",
   "mimetype": "text/x-python",
   "name": "python",
   "nbconvert_exporter": "python",
   "pygments_lexer": "ipython3",
   "version": "3.11.9"
  },
  "latex_envs": {
   "LaTeX_envs_menu_present": true,
   "autoclose": false,
   "autocomplete": true,
   "bibliofile": "biblio.bib",
   "cite_by": "apalike",
   "current_citInitial": 1,
   "eqLabelWithNumbers": true,
   "eqNumInitial": 1,
   "hotkeys": {
    "equation": "Ctrl-E",
    "itemize": "Ctrl-I"
   },
   "labels_anchors": false,
   "latex_user_defs": false,
   "report_style_numbering": false,
   "user_envs_cfg": false
  },
  "toc": {
   "base_numbering": 1,
   "nav_menu": {},
   "number_sections": true,
   "sideBar": true,
   "skip_h1_title": false,
   "title_cell": "Table of Contents",
   "title_sidebar": "Contents",
   "toc_cell": false,
   "toc_position": {
    "height": "calc(100% - 180px)",
    "left": "10px",
    "top": "150px",
    "width": "165px"
   },
   "toc_section_display": true,
   "toc_window_display": true
  },
  "varInspector": {
   "cols": {
    "lenName": 16,
    "lenType": 16,
    "lenVar": 40
   },
   "kernels_config": {
    "python": {
     "delete_cmd_postfix": "",
     "delete_cmd_prefix": "del ",
     "library": "var_list.py",
     "varRefreshCmd": "print(var_dic_list())"
    },
    "r": {
     "delete_cmd_postfix": ") ",
     "delete_cmd_prefix": "rm(",
     "library": "var_list.r",
     "varRefreshCmd": "cat(var_dic_list()) "
    }
   },
   "types_to_exclude": [
    "module",
    "function",
    "builtin_function_or_method",
    "instance",
    "_Feature"
   ],
   "window_display": false
  }
 },
 "nbformat": 4,
 "nbformat_minor": 4
}
