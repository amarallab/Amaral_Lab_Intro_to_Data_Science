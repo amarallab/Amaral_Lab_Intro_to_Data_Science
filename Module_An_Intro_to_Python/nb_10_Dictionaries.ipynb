{
 "cells": [
  {
   "cell_type": "markdown",
   "metadata": {},
   "source": [
    "# Synopsis\n",
    "\n",
    "In this unit we will learn that:\n",
    "\n",
    "1. **Dictionaries** are **mutable unordered** collections whose elements are accessed using **keys**.\n",
    "\n",
    "    1. Dictionaries are created using the `{}` syntax.\n",
    "    \n",
    "    2. Dictionaries are composed of `key, value` pairs.\n",
    "\n",
    "    3. Each `key, value` pair is called an *item*.\n",
    "    \n",
    "    4. `Items` can be added to a dictionary using the built-in method `update()`.\n",
    "    \n",
    "    5. `Items` can be changed using instanciation.\n",
    "    \n",
    "    6. `Items` can be removed usind the functions `del` and the method `pop()`.\n",
    "    \n",
    "2. Dictionaries allow nesting with all data types.\n",
    "\n",
    "3. We can access all `items`, `keys`, and `values` in a dictionary."
   ]
  },
  {
   "cell_type": "markdown",
   "metadata": {},
   "source": [
    "# Read libraries"
   ]
  },
  {
   "cell_type": "code",
   "execution_count": null,
   "metadata": {
    "ExecuteTime": {
     "end_time": "2023-09-07T21:57:13.506651Z",
     "start_time": "2023-09-07T21:57:11.132777Z"
    }
   },
   "outputs": [],
   "source": [
    "%load_ext autoreload\n",
    "%autoreload 2\n",
    "\n",
    "from IPython.core.display import HTML\n",
    "from IPython.lib.display import YouTubeVideo"
   ]
  },
  {
   "cell_type": "code",
   "execution_count": null,
   "metadata": {
    "ExecuteTime": {
     "end_time": "2023-09-07T21:56:13.477585Z",
     "start_time": "2023-09-07T21:56:13.469109Z"
    }
   },
   "outputs": [],
   "source": [
    "from pathlib import Path\n",
    "\n",
    "import datetime\n",
    "import sys\n",
    "\n",
    "from records_lib import ( get_path_to_records, parse_record, \n",
    "                          extract_birthdate, calculate_age )\n"
   ]
  },
  {
   "cell_type": "markdown",
   "metadata": {
    "collapsed": true,
    "jupyter": {
     "outputs_hidden": true
    }
   },
   "source": [
    "# Videos"
   ]
  },
  {
   "cell_type": "code",
   "execution_count": null,
   "metadata": {
    "ExecuteTime": {
     "end_time": "2023-02-03T23:32:27.173590Z",
     "start_time": "2023-02-03T23:32:27.086935Z"
    }
   },
   "outputs": [],
   "source": [
    "vid = YouTubeVideo('XCcpzWs-CI4', width = 600)\n",
    "display(vid)"
   ]
  },
  {
   "cell_type": "markdown",
   "metadata": {
    "collapsed": true,
    "jupyter": {
     "outputs_hidden": true
    }
   },
   "source": [
    "# Dictionaries\n",
    "\n",
    "A `Python` dictionary is an extraordinarily useful data type that expands on the possibilities offered by lists.  In a list one keeps track of the elements by an index that must be an integer.  **Dictionaries keep track of elements by `key`!**\n",
    "\n",
    "Each **item** in a dictionary has both a **key** and a **value**. You use the `key` to \"look up\" the `value`. \n",
    "\n",
    "This approach is just like if we wanted to look up the meaning of a word in a real dictionary. Also, just like in a real dictionary, it means that all of the `keys` **must** be unique. If we had a `key` multiple times, then we wouldn't know where to go look up its `value`. \n",
    "\n",
    "Do you remember `sets`?  **The `keys` in a dictionary form a set!**\n",
    "\n",
    "The syntax to create a dictionary also uses the syntax`{}`. If we are initializing a dictionary, we enter `key-value` pairs separated by commas.  Each `item` has the `key` separated from the `value` by a colon `:`:\n",
    "\n",
    "> `a_dict = {key : value, another_key : another_value}`\n"
   ]
  },
  {
   "cell_type": "markdown",
   "metadata": {},
   "source": [
    "## What are dictionaries good for?\n",
    "\n",
    "Great that you would ask! Recall the project involving all the personnel records?  Dictionaries are **the** data type to deal with records.  What are `Date of Birth` and `Age` if not keys? \n",
    "\n",
    "Let's retrieve our code so that we can start seeing how great dictionaries are."
   ]
  },
  {
   "cell_type": "code",
   "execution_count": null,
   "metadata": {
    "ExecuteTime": {
     "end_time": "2023-09-07T22:00:30.049279Z",
     "start_time": "2023-09-07T22:00:30.014990Z"
    }
   },
   "outputs": [],
   "source": [
    "folder_path = Path.cwd() / 'Data' / 'Roster'\n",
    "relevant_date = datetime.date( 2024, 9, 1 )"
   ]
  },
  {
   "cell_type": "code",
   "execution_count": null,
   "metadata": {},
   "outputs": [],
   "source": [
    "my_paths = get_path_to_records( folder_path )\n",
    "print(my_paths[:2])\n",
    "\n",
    "records = []\n",
    "for filename in my_paths[:2]:\n",
    "    record = parse_record(filename)\n",
    "    records.append(record)\n",
    "    \n",
    "    date_string = record.get(['Date of Birth'])\n",
    "    birthdate = extract_birthdate( date_string )\n",
    "    age = calculate_age(birthdate, relevant_date)\n",
    "        \n",
    "records[:2]"
   ]
  },
  {
   "cell_type": "markdown",
   "metadata": {},
   "source": [
    "And this is what we will be working on next."
   ]
  },
  {
   "cell_type": "code",
   "execution_count": null,
   "metadata": {},
   "outputs": [],
   "source": [
    "def parse_record( filename ):\n",
    "    \"\"\"\n",
    "    \n",
    "    \"\"\"\n",
    "    record = {}\n",
    "    \n",
    "    return record\n"
   ]
  },
  {
   "cell_type": "markdown",
   "metadata": {},
   "source": [
    "First, we add the `doc string`."
   ]
  },
  {
   "cell_type": "code",
   "execution_count": null,
   "metadata": {
    "ExecuteTime": {
     "end_time": "2022-09-08T16:01:09.101511Z",
     "start_time": "2022-09-08T16:01:09.092822Z"
    }
   },
   "outputs": [],
   "source": [
    "def parse_record( filename ):\n",
    "    \"\"\"\n",
    "    Read the file located at filename, extract information and organize\n",
    "    it in a dictionary.\n",
    "    \n",
    "    input:\n",
    "        filename -- Path object with location of data \n",
    "    \n",
    "    output:\n",
    "        record -- dict with keys being types of information in file\n",
    "    \"\"\"\n",
    "    record = {}\n",
    "    \n",
    "    return record"
   ]
  },
  {
   "cell_type": "code",
   "execution_count": null,
   "metadata": {
    "ExecuteTime": {
     "end_time": "2023-09-07T21:57:31.552824Z",
     "start_time": "2023-09-07T21:57:31.522262Z"
    }
   },
   "outputs": [],
   "source": [
    "# For simplicity, we will start by considering a single record\n",
    "#\n",
    "filename = Path.cwd() / 'Data' / 'Roster' / 'Agatha_Young_172.txt'\n",
    "\n",
    "# We first open file for reading and read the contents into a list of strings\n",
    "#\n",
    "with open(filename, 'r') as f_read:\n",
    "    lines = f_read.readlines()\n",
    "\n",
    "print(lines)\n",
    "\n",
    "# You go on..."
   ]
  },
  {
   "cell_type": "code",
   "execution_count": null,
   "metadata": {
    "ExecuteTime": {
     "end_time": "2022-09-08T16:44:12.466378Z",
     "start_time": "2022-09-08T16:44:12.462140Z"
    }
   },
   "outputs": [],
   "source": []
  },
  {
   "cell_type": "markdown",
   "metadata": {},
   "source": [
    "## We have a dictionary"
   ]
  },
  {
   "cell_type": "code",
   "execution_count": null,
   "metadata": {
    "ExecuteTime": {
     "end_time": "2022-09-08T16:02:21.903924Z",
     "start_time": "2022-09-08T16:02:21.893465Z"
    }
   },
   "outputs": [],
   "source": [
    "record = parse_record(filename)\n",
    "record"
   ]
  },
  {
   "cell_type": "code",
   "execution_count": null,
   "metadata": {
    "ExecuteTime": {
     "end_time": "2022-09-08T16:02:27.264883Z",
     "start_time": "2022-09-08T16:02:27.257715Z"
    }
   },
   "outputs": [],
   "source": [
    "record['Department']"
   ]
  },
  {
   "cell_type": "code",
   "execution_count": null,
   "metadata": {
    "ExecuteTime": {
     "end_time": "2022-09-08T16:02:31.305759Z",
     "start_time": "2022-09-08T16:02:31.299005Z"
    }
   },
   "outputs": [],
   "source": [
    "record['Favorite Color']"
   ]
  },
  {
   "cell_type": "code",
   "execution_count": null,
   "metadata": {
    "ExecuteTime": {
     "end_time": "2022-09-08T16:02:34.145498Z",
     "start_time": "2022-09-08T16:02:34.137415Z"
    }
   },
   "outputs": [],
   "source": [
    "record['Email Address']"
   ]
  },
  {
   "cell_type": "markdown",
   "metadata": {},
   "source": [
    "Let's look into the properties of dictionaries.  Dictionaries are **mutable**. You can change the `value` of an `item` by assigning something to the corresponding `key`.\n",
    "\n",
    "Dictionaries are **unordered**. If you print the same dictionary twice, the order in which `items` will be printed does not need to remain the same. \n",
    "\n",
    "If you ask for a `key` that does not exist, then you will get an error.  Guess what type of error...\n",
    "\n",
    "To avoid crashing your code, `Python` dictionaries provide a method `.get()` that provides a fail-safe to missing `keys`."
   ]
  },
  {
   "cell_type": "code",
   "execution_count": null,
   "metadata": {
    "ExecuteTime": {
     "end_time": "2022-09-08T16:02:56.530928Z",
     "start_time": "2022-09-08T16:02:56.507411Z"
    }
   },
   "outputs": [],
   "source": [
    "record['Favorite Sport']"
   ]
  },
  {
   "cell_type": "code",
   "execution_count": null,
   "metadata": {
    "ExecuteTime": {
     "end_time": "2022-09-08T16:03:35.988574Z",
     "start_time": "2022-09-08T16:03:35.982972Z"
    }
   },
   "outputs": [],
   "source": [
    "print( record.get('Department') )\n",
    "print( record.get('Favorite Sport') )"
   ]
  },
  {
   "cell_type": "code",
   "execution_count": null,
   "metadata": {
    "ExecuteTime": {
     "end_time": "2022-09-08T16:04:46.079453Z",
     "start_time": "2022-09-08T16:04:46.073676Z"
    }
   },
   "outputs": [],
   "source": [
    "print( record.get('Department', 'Unknown' ) )\n",
    "print( record.get('Favorite Sport', 'Unknown') )"
   ]
  },
  {
   "cell_type": "markdown",
   "metadata": {},
   "source": [
    "If you want to add a new `key-value` pair to the dictionary, you access a new `key` and assign it a `value`. \n",
    "\n",
    "If you want to add multiple `items` to a dictionary, you can put them into a dictionary and the use the built-in method `update()`."
   ]
  },
  {
   "cell_type": "code",
   "execution_count": null,
   "metadata": {
    "ExecuteTime": {
     "end_time": "2022-09-08T16:06:08.578774Z",
     "start_time": "2022-09-08T16:06:08.571134Z"
    }
   },
   "outputs": [],
   "source": [
    "record['Favorite Sport'] = 'Soccer'\n",
    "print(record)\n",
    "\n",
    "\n",
    "record.update( {'Favorite Sports Team': 'S. L. Benfica', \n",
    "                'Favorite Sports Team Mascot': 'Eagle'} )\n",
    "print()\n",
    "print(record)"
   ]
  },
  {
   "cell_type": "markdown",
   "metadata": {},
   "source": [
    "To remove a `key-value` pair from a `dict` variable, we can use `del` and provide the `key`. Guess what happens if you provide a `key` that does not exist? \n",
    "\n",
    "**Notice that if you fail to provide a `key`, `del` will delete the entire dictionary**. You are unlikely to truly want to do that. \n",
    "\n",
    "Alternatively, you can use the built-in method `pop()` and provide a `key`. This method deletes the `item` with `key` and returns the `value`.\n"
   ]
  },
  {
   "cell_type": "code",
   "execution_count": null,
   "metadata": {
    "ExecuteTime": {
     "end_time": "2022-09-08T16:08:02.101890Z",
     "start_time": "2022-09-08T16:08:02.073849Z"
    }
   },
   "outputs": [],
   "source": [
    "del record['Favorite Sports Team Mascot']\n",
    "print('--')\n",
    "print( record.pop('Favorite Sports Team') )\n",
    "print('--')\n",
    "print( record.pop('Favorite Sport') )\n",
    "print('--')\n",
    "del record['Favorite Sports Team Mascot']"
   ]
  },
  {
   "cell_type": "code",
   "execution_count": null,
   "metadata": {
    "ExecuteTime": {
     "end_time": "2022-09-08T16:08:21.316418Z",
     "start_time": "2022-09-08T16:08:21.306894Z"
    }
   },
   "outputs": [],
   "source": [
    "record"
   ]
  },
  {
   "cell_type": "markdown",
   "metadata": {},
   "source": [
    "`Dictionary` objects encode additional types of information. \n",
    "\n",
    "You can access all `items`, or all `keys`, or all `values`."
   ]
  },
  {
   "cell_type": "code",
   "execution_count": null,
   "metadata": {
    "ExecuteTime": {
     "end_time": "2022-09-19T22:17:18.169396Z",
     "start_time": "2022-09-19T22:17:17.817055Z"
    }
   },
   "outputs": [],
   "source": [
    "print('Items look like a list of tuples')\n",
    "print(record.items())  \n",
    "print()\n",
    "\n",
    "print('Keys look like a list of strings')\n",
    "print(record.keys())   \n",
    "print()\n",
    "\n",
    "print('Values look like a list')\n",
    "print(record.values()) # It looks like a list"
   ]
  },
  {
   "cell_type": "markdown",
   "metadata": {},
   "source": [
    "Even though all these objects look like lists they are not lists. They are **iterators**.  This means that you can go in order and access each one in turn, but they are not accessible by index."
   ]
  },
  {
   "cell_type": "code",
   "execution_count": null,
   "metadata": {
    "ExecuteTime": {
     "end_time": "2022-09-08T16:16:22.713263Z",
     "start_time": "2022-09-08T16:16:22.686777Z"
    }
   },
   "outputs": [],
   "source": [
    "for value in record.values():\n",
    "    print(value)\n",
    "\n",
    "print('--')\n",
    "print( type( record.values() ) )\n",
    "print('--')\n",
    "print( list(record.values())[1] )\n",
    "print('--')\n",
    "print( record.values()[1] )"
   ]
  },
  {
   "cell_type": "markdown",
   "metadata": {},
   "source": [
    "Working with dictionaries can be challenging when you are starting.  \n",
    "\n",
    "Accessing information by `key` is less natural for some.  Moreover, things can quickly become rather complex when nesting is involved. Keeping track of the elements in a list of dictionaries that contains lists of list is not easy task.  \n",
    "\n",
    "As in many other situations, being organized and working out specific cases with pencil and paper can make all the difference.\n",
    "\n",
    "In order to gain experience with these challenges, let's create a list of dictionaries using the code for processing the roster files. "
   ]
  },
  {
   "cell_type": "markdown",
   "metadata": {},
   "source": [
    "# Finalizing our functions"
   ]
  },
  {
   "cell_type": "code",
   "execution_count": null,
   "metadata": {
    "ExecuteTime": {
     "end_time": "2023-09-07T22:02:04.721134Z",
     "start_time": "2023-09-07T22:02:04.674582Z"
    }
   },
   "outputs": [],
   "source": [
    "my_paths = get_path_to_records( folder_path )\n",
    "print(my_paths[:2])\n",
    "\n",
    "records = []\n",
    "for filename in my_paths[:2]:\n",
    "    record = parse_record(filename)\n",
    "    records.append(record)\n",
    "    \n",
    "    # date_string = record.get(['Date of Birth'])\n",
    "    # birthdate = extract_birthdate( date_string )\n",
    "    # age = calculate_age(birthdate, relevant_date)\n",
    "        \n",
    "records[:2]"
   ]
  },
  {
   "cell_type": "markdown",
   "metadata": {},
   "source": [
    "`my_paths` is a list and in the `for` loop we will iterate over paths to `filenames`.\n",
    "\n",
    "`records` is a list of dictionaries. Thus, each element in the list is going to be enclosed inside `{}` and separated by commas. Look for `}, {`. Those mark where a dictionary ends and the next begins.\n",
    "\n",
    "Inside each dictionary, we have `key: value` pairs separated by commas. \n",
    "\n",
    "If you can read them, you can write a command that accesses them!"
   ]
  },
  {
   "cell_type": "code",
   "execution_count": null,
   "metadata": {},
   "outputs": [],
   "source": []
  },
  {
   "cell_type": "markdown",
   "metadata": {},
   "source": [
    "<br>\n",
    "\n",
    "**Nice!!!**\n",
    "\n",
    "We can now work on the code stub for the final two functions."
   ]
  },
  {
   "cell_type": "code",
   "execution_count": null,
   "metadata": {},
   "outputs": [],
   "source": []
  },
  {
   "cell_type": "code",
   "execution_count": null,
   "metadata": {},
   "outputs": [],
   "source": []
  },
  {
   "cell_type": "code",
   "execution_count": null,
   "metadata": {},
   "outputs": [],
   "source": []
  },
  {
   "cell_type": "code",
   "execution_count": null,
   "metadata": {},
   "outputs": [],
   "source": []
  },
  {
   "cell_type": "code",
   "execution_count": null,
   "metadata": {},
   "outputs": [],
   "source": []
  },
  {
   "cell_type": "markdown",
   "metadata": {},
   "source": [
    "# Exercises\n",
    "\n",
    "If all went well, then the next cell should read all files and store the data in a list of dictionaries..."
   ]
  },
  {
   "cell_type": "code",
   "execution_count": null,
   "metadata": {},
   "outputs": [],
   "source": [
    "my_paths = get_path_to_records( folder_path )\n",
    "# print(my_paths[:2])\n",
    "\n",
    "records = []\n",
    "for filename in my_paths:\n",
    "    record = parse_record(filename)\n",
    "    records.append(record)\n",
    "    \n",
    "    date_string = record.get(['Date of Birth'])\n",
    "    birthdate = extract_birthdate( date_string )\n",
    "    age = calculate_age(birthdate, relevant_date)\n",
    "        \n",
    "records[:2]\n",
    "\n",
    "my_paths = get_path_to_records( folder_path )\n",
    "print(my_paths[:2])\n"
   ]
  },
  {
   "cell_type": "markdown",
   "metadata": {},
   "source": [
    "## Ex. 1\n",
    "\n",
    "And so you are ready the answer the questions below!"
   ]
  },
  {
   "cell_type": "code",
   "execution_count": null,
   "metadata": {},
   "outputs": [],
   "source": [
    "# Print the Department of the 5th student record\n",
    "#\n"
   ]
  },
  {
   "cell_type": "code",
   "execution_count": null,
   "metadata": {},
   "outputs": [],
   "source": [
    "# Print the Height of the 15th student record\n",
    "#\n"
   ]
  },
  {
   "cell_type": "code",
   "execution_count": null,
   "metadata": {},
   "outputs": [],
   "source": [
    "# Print the string \"My name is ______ and I was born in _month___ of ___year.\" \n",
    "# for the 15th student record\n",
    "#\n"
   ]
  },
  {
   "cell_type": "markdown",
   "metadata": {},
   "source": [
    "## Ex. 2\n",
    "\n",
    "What if you want to actually print the name of the month instead of a number?..."
   ]
  },
  {
   "cell_type": "code",
   "execution_count": null,
   "metadata": {},
   "outputs": [],
   "source": []
  },
  {
   "cell_type": "code",
   "execution_count": null,
   "metadata": {},
   "outputs": [],
   "source": [
    "# Print the string \"My name is ______ and I was born in _month___ of ___year.\" \n",
    "# for the 15th student record\n"
   ]
  },
  {
   "cell_type": "code",
   "execution_count": null,
   "metadata": {},
   "outputs": [],
   "source": [
    "# Print the string \"My name is ______ and I love _color_.\" \n",
    "# for the 25th student record\n"
   ]
  },
  {
   "cell_type": "code",
   "execution_count": null,
   "metadata": {},
   "outputs": [],
   "source": [
    "# Print the string \"My name is ______ and I love _color_.\" \n",
    "# for the first 10 student records \n"
   ]
  },
  {
   "cell_type": "markdown",
   "metadata": {
    "collapsed": true,
    "jupyter": {
     "outputs_hidden": true
    }
   },
   "source": [
    "## Ex. 3\n",
    "\n",
    "Find all students that are within 5 years of age of Agatha Young."
   ]
  },
  {
   "cell_type": "code",
   "execution_count": null,
   "metadata": {},
   "outputs": [],
   "source": []
  },
  {
   "cell_type": "markdown",
   "metadata": {},
   "source": [
    "## Ex. 4\n",
    "\n",
    "Save all the processed records into a JSON file and check that it is all correct."
   ]
  },
  {
   "cell_type": "code",
   "execution_count": null,
   "metadata": {},
   "outputs": [],
   "source": []
  }
 ],
 "metadata": {
  "anaconda-cloud": {},
  "kernelspec": {
   "display_name": "Python [conda env:base]",
   "language": "python",
   "name": "conda-base-py"
  },
  "language_info": {
   "codemirror_mode": {
    "name": "ipython",
    "version": 3
   },
   "file_extension": ".py",
   "mimetype": "text/x-python",
   "name": "python",
   "nbconvert_exporter": "python",
   "pygments_lexer": "ipython3",
   "version": "3.12.4"
  },
  "latex_envs": {
   "LaTeX_envs_menu_present": true,
   "autoclose": false,
   "autocomplete": true,
   "bibliofile": "biblio.bib",
   "cite_by": "apalike",
   "current_citInitial": 1,
   "eqLabelWithNumbers": true,
   "eqNumInitial": 1,
   "hotkeys": {
    "equation": "Ctrl-E",
    "itemize": "Ctrl-I"
   },
   "labels_anchors": false,
   "latex_user_defs": false,
   "report_style_numbering": false,
   "user_envs_cfg": false
  },
  "toc": {
   "base_numbering": 1,
   "nav_menu": {},
   "number_sections": true,
   "sideBar": true,
   "skip_h1_title": false,
   "title_cell": "Table of Contents",
   "title_sidebar": "Contents",
   "toc_cell": false,
   "toc_position": {
    "height": "calc(100% - 180px)",
    "left": "10px",
    "top": "150px",
    "width": "165px"
   },
   "toc_section_display": true,
   "toc_window_display": true
  },
  "varInspector": {
   "cols": {
    "lenName": 16,
    "lenType": 16,
    "lenVar": 40
   },
   "kernels_config": {
    "python": {
     "delete_cmd_postfix": "",
     "delete_cmd_prefix": "del ",
     "library": "var_list.py",
     "varRefreshCmd": "print(var_dic_list())"
    },
    "r": {
     "delete_cmd_postfix": ") ",
     "delete_cmd_prefix": "rm(",
     "library": "var_list.r",
     "varRefreshCmd": "cat(var_dic_list()) "
    }
   },
   "types_to_exclude": [
    "module",
    "function",
    "builtin_function_or_method",
    "instance",
    "_Feature"
   ],
   "window_display": false
  }
 },
 "nbformat": 4,
 "nbformat_minor": 4
}
