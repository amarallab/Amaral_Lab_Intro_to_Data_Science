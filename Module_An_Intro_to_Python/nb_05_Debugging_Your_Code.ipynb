{
 "cells": [
  {
   "cell_type": "markdown",
   "metadata": {},
   "source": [
    "# Synopsis\n",
    "\n",
    "In this unit we will learn that:\n",
    "\n",
    "**Programming errors**\n",
    "\n",
    "Programming errors are inevitable as you develop code.\n",
    "\n",
    "> `Syntax` errors are easy to detect (the code doesn't even run) \n",
    ">    \n",
    "> `Type`, `Name`, `Index`, `Value`, and `Attribute` can be easy to detect because they can make the code crashes (when it encounters the error)\n",
    ">    \n",
    "> **Logical** and **Algorithmic** errors can be extremely hard to identify because the code may very well run to completion and the results may even appear plausible.\n",
    "    \n",
    "**Errors**    \n",
    "    \n",
    "*Errors messages* can be extremely helpful in finding and correcting simple errors.\n",
    "\n",
    "*Error handling* commands enable code to exit graciously when an exception occurs.\n",
    "\n",
    "**Unit testing**\n",
    "\n",
    "Unit testing is essential in order to avoid logical errors. \n"
   ]
  },
  {
   "cell_type": "markdown",
   "metadata": {},
   "source": [
    "# Read libraries"
   ]
  },
  {
   "cell_type": "code",
   "execution_count": null,
   "metadata": {
    "ExecuteTime": {
     "end_time": "2022-09-07T14:30:41.849406Z",
     "start_time": "2022-09-07T14:30:41.841729Z"
    }
   },
   "outputs": [],
   "source": [
    "from IPython.core.display import HTML\n",
    "from IPython.lib.display import YouTubeVideo\n"
   ]
  },
  {
   "cell_type": "markdown",
   "metadata": {},
   "source": [
    "# Videos"
   ]
  },
  {
   "cell_type": "code",
   "execution_count": null,
   "metadata": {
    "ExecuteTime": {
     "end_time": "2022-09-07T14:41:27.413095Z",
     "start_time": "2022-09-07T14:41:27.161049Z"
    }
   },
   "outputs": [],
   "source": [
    "vid = YouTubeVideo('nlCKrKGHSSk', width = 600)\n",
    "display(vid)"
   ]
  },
  {
   "cell_type": "code",
   "execution_count": null,
   "metadata": {
    "ExecuteTime": {
     "end_time": "2022-09-07T14:41:31.331167Z",
     "start_time": "2022-09-07T14:41:31.233016Z"
    }
   },
   "outputs": [],
   "source": [
    "vid = YouTubeVideo('1Lfv5tUGsn8', width = 600)\n",
    "display(vid)"
   ]
  },
  {
   "cell_type": "code",
   "execution_count": null,
   "metadata": {
    "ExecuteTime": {
     "end_time": "2022-09-07T14:41:35.299241Z",
     "start_time": "2022-09-07T14:41:35.228541Z"
    }
   },
   "outputs": [],
   "source": [
    "vid = YouTubeVideo('g8nQ90Hk328', width = 600)\n",
    "display(vid)"
   ]
  },
  {
   "cell_type": "markdown",
   "metadata": {},
   "source": [
    "\n",
    "\n",
    "# Programming and Errors\n",
    "\n",
    "It is literally impossible to write code without mistakes. Check it out! It is there in all the sacred texts. \n",
    "\n",
    "Already you've seen some errors as we've learned what can and can't be done, but now it's time look at errors in a more systematic manner. \n",
    "\n",
    "Just like there are different data types, there are also different error types. Having different error types helps us to more easily identify what has gone wrong in our code. \n",
    "\n",
    "## SyntaxError\n",
    "\n",
    "Like all programming languages, Python needs you to write code in a **syntactically correct manner** so that it can understand your commands and translate them to the machine. If you don't follow the correct syntax in your code, such as not having matched parentheses, brackets, or quotations marks, your code will generate a `SyntaxError`.\n",
    "\n"
   ]
  },
  {
   "cell_type": "code",
   "execution_count": null,
   "metadata": {
    "ExecuteTime": {
     "end_time": "2023-02-01T22:05:04.293972Z",
     "start_time": "2023-02-01T22:05:04.266635Z"
    }
   },
   "outputs": [],
   "source": [
    "# Forgot to finish string\n",
    "\n",
    "a_number = 3\n",
    "sentence = 'I am a sentence\n",
    "print(a_number)"
   ]
  },
  {
   "cell_type": "markdown",
   "metadata": {},
   "source": [
    "What you're seeing above is the **traceback** and the **exception**. The first part is the **traceback**.  It has several parts, all providing more granular information about the location of the error.\n",
    "\n",
    "`Input In[6]`\n",
    "\n",
    "It tells the location of the error in the notebook.  If the error involves a function defined somewhere else, it would tell us where those are located. \n",
    "\n",
    "In some cases, we learn the line in which the error occurred\n",
    "\n",
    "`line 4`\n",
    "\n",
    "and that the parsing problem occurred at \n",
    "\n",
    "`sentence = 'I am a sentence`\n",
    "\n",
    "**Be aware that this information isn't always accurate**. Depending upon the type of error and the complexity of the line of code, the actual error could be above or below where it points out that the error is occurring.\n",
    "\n",
    "The second part is the **exception**. \n",
    "\n",
    "`SyntaxError: EOL while scanning string literal`\n",
    "\n",
    "It tells us what issue generated the error. In this case, we have a `SyntaxError` because Python reached the end of the line (`EOL`) while it was scanning the string we started with `'` and it couldn't find the closing `'`.\n",
    "\n",
    "Another type of syntax error that can occur in Python is an `Indentation Error`.   Consider the following code snippet:"
   ]
  },
  {
   "cell_type": "code",
   "execution_count": null,
   "metadata": {
    "ExecuteTime": {
     "end_time": "2023-02-01T22:05:21.500742Z",
     "start_time": "2023-02-01T22:05:21.485265Z"
    }
   },
   "outputs": [],
   "source": [
    "# Lines are not aligned properly\n",
    "\n",
    "for i in range(3):\n",
    "     j = i * 2\n",
    "    print(i, j)\n",
    "    "
   ]
  },
  {
   "cell_type": "markdown",
   "metadata": {},
   "source": [
    "The third line in the code snippet\n",
    "\n",
    "> `print(i, j)` \n",
    "\n",
    "should be aligned vertically with the beginning of the second line \n",
    "\n",
    "> `j = i * 2`\n",
    "\n",
    "but it is not. "
   ]
  },
  {
   "cell_type": "markdown",
   "metadata": {},
   "source": [
    "## TypeError\n",
    "\n",
    "A very common Python error is the `TypeError`. This happens when we try to use a method that is for one data type on another data type that does not support it. Remember how strings cannot be subtracted or divided? "
   ]
  },
  {
   "cell_type": "code",
   "execution_count": null,
   "metadata": {
    "ExecuteTime": {
     "end_time": "2023-02-01T22:06:39.108883Z",
     "start_time": "2023-02-01T22:06:39.095937Z"
    }
   },
   "outputs": [],
   "source": [
    "new_string = 'cat' + 'dog'\n",
    "print(f\"{new_string}\\n\")\n",
    "\n",
    "new_string = 'cat' * 3\n",
    "print(f\"{new_string}\\n\")\n"
   ]
  },
  {
   "cell_type": "markdown",
   "metadata": {},
   "source": [
    "So far so good... \n"
   ]
  },
  {
   "cell_type": "code",
   "execution_count": null,
   "metadata": {
    "ExecuteTime": {
     "end_time": "2023-02-01T22:11:12.570521Z",
     "start_time": "2023-02-01T22:11:12.541331Z"
    }
   },
   "outputs": [],
   "source": [
    "new_string = 'cat' + 3\n",
    "print(f\"{new_string}\\n\")\n",
    "\n",
    "new_string = 'cat' / 3\n",
    "print(f\"{new_string}\\n\")\n",
    "\n"
   ]
  },
  {
   "cell_type": "markdown",
   "metadata": {},
   "source": [
    "The Python interpreter is not able to execute these lines.  However, there is then a `TypeError` on line 1.  \n",
    "\n",
    "Why don't you correct it and see what happens next?\n",
    "\n",
    "<br>\n",
    "\n",
    "<br>\n",
    "\n",
    "<br>\n",
    "\n",
    "<br>\n",
    "\n",
    "<br>\n",
    "\n",
    "\n",
    "Now there is a  `TypeError` on line 4.  Can you correct it?\n",
    "\n",
    "<br>\n",
    "\n",
    "<br>\n",
    "\n",
    "<br>\n",
    "\n",
    "<br>\n",
    "\n",
    "<br>\n",
    "\n",
    "\n",
    "**Remember:** The type of data you're working with really matters, and that's what `TypeError`'s are all about. A valid operation for a `list` might not work for a `tuple` and Python will try to remind you of that fact.\n",
    "\n",
    "\n",
    "<br>\n",
    "\n",
    "<br>\n",
    "\n",
    "\n",
    "## NameError\n",
    "\n",
    "Variables in Python must be initialized before they can be used.  If we try to use a variable prior to initialization, we will get a `NameError`. For example, imagine we try to use the new variable `party`"
   ]
  },
  {
   "cell_type": "code",
   "execution_count": null,
   "metadata": {
    "ExecuteTime": {
     "end_time": "2023-01-18T21:13:34.304733Z",
     "start_time": "2023-01-18T21:13:34.300359Z"
    }
   },
   "outputs": [],
   "source": [
    "who"
   ]
  },
  {
   "cell_type": "code",
   "execution_count": null,
   "metadata": {
    "ExecuteTime": {
     "end_time": "2023-01-18T21:13:49.071255Z",
     "start_time": "2023-01-18T21:13:49.067464Z"
    }
   },
   "outputs": [],
   "source": [
    "del party_day"
   ]
  },
  {
   "cell_type": "code",
   "execution_count": null,
   "metadata": {
    "ExecuteTime": {
     "end_time": "2023-01-18T21:13:43.469824Z",
     "start_time": "2023-01-18T21:13:43.463921Z"
    }
   },
   "outputs": [],
   "source": [
    "party_day = 'Friday'\n",
    "print( party_day )"
   ]
  },
  {
   "cell_type": "markdown",
   "metadata": {},
   "source": [
    "## IndexError\n",
    "\n",
    "\n",
    "As you will remember, specific characters in a string can be accessed using an `index`. The index ranges from 0 to the length of the string minus one.  If we try to access a character in a string by index, and that index doesn't exist in the variable, the Python interpreter returns an `IndexError`."
   ]
  },
  {
   "cell_type": "code",
   "execution_count": null,
   "metadata": {
    "ExecuteTime": {
     "end_time": "2023-02-01T22:15:36.669129Z",
     "start_time": "2023-02-01T22:15:36.639074Z"
    }
   },
   "outputs": [],
   "source": [
    "example_string = 'abcdefg'\n",
    "\n",
    "print( example_string[2] ) \n",
    "print( example_string[-12] ) "
   ]
  },
  {
   "cell_type": "markdown",
   "metadata": {},
   "source": [
    "A similar type of error is a `KeyError` which can occur when dealing with a very powerful data type we will describe later;   dictionaries. \n",
    "\n",
    "## ValueError\n",
    "\n",
    "Functions (or methods) in Python are written to only work with arguments of specific types. If we call a function with a non-compliant argument, we get a `ValueError`. "
   ]
  },
  {
   "cell_type": "code",
   "execution_count": null,
   "metadata": {
    "ExecuteTime": {
     "end_time": "2023-02-01T22:15:46.461543Z",
     "start_time": "2023-02-01T22:15:46.442427Z"
    }
   },
   "outputs": [],
   "source": [
    "print( example_string )\n",
    "print( type(example_string) )\n",
    "print( len(example_string) )\n"
   ]
  },
  {
   "cell_type": "code",
   "execution_count": null,
   "metadata": {
    "ExecuteTime": {
     "end_time": "2023-02-01T22:15:50.440267Z",
     "start_time": "2023-02-01T22:15:50.402191Z"
    }
   },
   "outputs": [],
   "source": [
    "example_string - int(example_string) \n"
   ]
  },
  {
   "cell_type": "markdown",
   "metadata": {},
   "source": [
    "## AttributeError\n",
    "\n",
    "Many Python objects have attributes that can be easily retrieved using the name of the attribute. For example, an attribute of a string is its capitalized form or its upper case form. However, while one can obtain the length of a string using the default function `len()`, strings do not have a `len()` attribute."
   ]
  },
  {
   "cell_type": "code",
   "execution_count": null,
   "metadata": {
    "ExecuteTime": {
     "end_time": "2023-02-01T22:16:24.030966Z",
     "start_time": "2023-02-01T22:16:24.018896Z"
    }
   },
   "outputs": [],
   "source": [
    "print( example_string.capitalize() )\n",
    "print('--')\n",
    "print( example_string.upper() )\n"
   ]
  },
  {
   "cell_type": "code",
   "execution_count": null,
   "metadata": {
    "ExecuteTime": {
     "end_time": "2023-02-01T22:16:27.925798Z",
     "start_time": "2023-02-01T22:16:27.901415Z"
    }
   },
   "outputs": [],
   "source": [
    "print( len(example_string) )\n",
    "print('--')\n",
    "print( example_string.len() )"
   ]
  },
  {
   "cell_type": "markdown",
   "metadata": {},
   "source": [
    "The examples above illustrate some of the errors that you are most likely to encounter when programming. For the full list of exceptions and errors you can refer to the official Python documentation.\n",
    "\n",
    "Python Built-in Exceptions docs:\n",
    "https://docs.python.org/library/exceptions.html\n",
    "\n",
    "Python Error Handling docs:\n",
    "https://docs.python.org/tutorial/errors.html\n",
    "\n",
    "The important thing to remember is to look at the error message. It takes a little bit of practice but pretty soon you'll be able to see that the Python interpreter is trying its hardest to tell you exactly where and why you made a mistake."
   ]
  },
  {
   "cell_type": "markdown",
   "metadata": {},
   "source": [
    "# Thwarting careless input \n",
    "\n",
    "Code with **syntax errors** will not run. However, code with other types of errors will still run until in finds one of the other types of errors discussed above and it crashes.  This is not nice. As much as possible, you will want to prevent your code from crashing so that you can save whatever information has been generated up to that point and also that you can tell the user of the program WHY the code crashed.\n",
    "\n",
    "`Python` provides us with a way to handle such **exceptions**. This is done by providing a block of code that runs, as the name suggests, under exceptional conditions. In other words, a block of code that you, as a programmer, cannot predict when it will be run (or *raised*). \n",
    "\n",
    "For this reason, you specify possible exceptions to the smooth running of your code so that you can catch them and handle them graciously.\n",
    "\n",
    "\n",
    "For concreteness, consider the following situation: We want to use the `input()` function to ask for a number and then return the square of that number."
   ]
  },
  {
   "cell_type": "code",
   "execution_count": null,
   "metadata": {
    "ExecuteTime": {
     "end_time": "2023-01-18T21:18:45.668872Z",
     "start_time": "2023-01-18T21:18:43.098663Z"
    }
   },
   "outputs": [],
   "source": [
    "number_to_square = input(\"What number do you want to know the square of? \")\n",
    "print( type(number_to_square) )\n",
    "\n",
    "# Note that number_to_square is a string, in order to perform calculations \n",
    "# with it, we have to transform it to an integer\n",
    "\n",
    "number = int(number_to_square)\n",
    "\n",
    "print(\"Your number squared is \", number**2)"
   ]
  },
  {
   "cell_type": "markdown",
   "metadata": {},
   "source": [
    "But what would happen if you entered 'a' instead of 3? Try it!\n",
    "\n",
    "<br><br><br><br>\n",
    "\n",
    "<br><br><br><br>\n",
    "\n",
    "<br><br><br><br>\n",
    "\n",
    "You got a `ValueError` because you can't convert `a` to an integer. \n",
    "\n",
    "In order to avoid having the program crash, we can use the `try ... except ...` construction so that we test for possible errors and avoid the crash."
   ]
  },
  {
   "cell_type": "code",
   "execution_count": null,
   "metadata": {
    "ExecuteTime": {
     "end_time": "2023-01-18T21:19:47.426435Z",
     "start_time": "2023-01-18T21:19:43.933096Z"
    }
   },
   "outputs": [],
   "source": [
    "number_to_square = input(\"What number do you want to know the square of? \")\n",
    "print( type(number_to_square) )\n",
    "\n",
    "# Note that number_to_square is a string, in order to perform calculations \n",
    "# with it, we have to transform it to an integer\n",
    "\n",
    "try: \n",
    "    number = int(number_to_square)\n",
    "    print(\"Your number squared is \", number**2)\n",
    "except ValueError:\n",
    "    print(\"You didn't enter an integer!\")\n"
   ]
  },
  {
   "cell_type": "markdown",
   "metadata": {},
   "source": [
    "When you are writing code that takes as inputs information provided by a user or from a source over which you have no control, **it is crucial that you test your code for all possible types of inputs**. \n",
    "\n",
    "> **That way you will prevent the user from having the pleasure of making your code crash.**\n",
    "\n",
    "However, if the functions in your code are taking as input only information that is generated internally by your code, you will not need to make those checks.  **This does not mean that your code will not generate exceptions**. Your code might very well generate exceptions because of logical errors in your code: \n",
    "\n",
    "> **That is your code might not be doing what you expect it to be doing!**\n",
    "\n"
   ]
  },
  {
   "cell_type": "markdown",
   "metadata": {},
   "source": [
    "# Testing the validity of your code\n",
    "\n",
    "In order to make sure that your code has no logical errors, you must check its validity. That is, you must check that it returns the right answer for cases in which you know what the right answer is. **You will need to test the correctness of the output of your code for a diverse set of possibilities in order to have confidence in its validity**.\n",
    "\n",
    "This is where **unit testing** comes in.  See the video about them for more information!"
   ]
  },
  {
   "cell_type": "code",
   "execution_count": null,
   "metadata": {
    "ExecuteTime": {
     "end_time": "2022-09-07T15:10:19.121526Z",
     "start_time": "2022-09-07T15:10:19.113007Z"
    }
   },
   "outputs": [],
   "source": [
    "def square( number ):\n",
    "    \"\"\"\n",
    "    This functions takes an integer and returns its square\n",
    "    \n",
    "    Parameters:\n",
    "    -----------\n",
    "        number : (int)\n",
    "        \n",
    "    Output:\n",
    "    -------\n",
    "        square_of_number: (int)\n",
    "    \"\"\"\n",
    "    \n",
    "    square_of_number = number*number\n",
    "    \n",
    "    return square_of_number\n"
   ]
  },
  {
   "cell_type": "code",
   "execution_count": null,
   "metadata": {
    "ExecuteTime": {
     "end_time": "2022-09-07T15:07:16.174144Z",
     "start_time": "2022-09-07T15:07:14.754292Z"
    }
   },
   "outputs": [],
   "source": [
    "number_string = input('Please, enter the integer you would like to have squared:  ')\n",
    "\n",
    "try:\n",
    "    number = int(number_string)\n",
    "    print(f\"\\nThe square of {number} is {square(number)}.\")\n",
    "except:\n",
    "    print('\\nYou did not provide an integer!')\n"
   ]
  },
  {
   "cell_type": "markdown",
   "metadata": {},
   "source": [
    "Testing like this is better than nothing. But it is unsystematic and hard to replicate in case we make changes to our code.  **A better way to test code is using assertions**. \n",
    "\n",
    "Those can be kept with our code and easily run in case we make changes to the code.\n",
    "\n",
    "\n",
    "**An even better way is to use unit testing (see video).** "
   ]
  },
  {
   "cell_type": "code",
   "execution_count": null,
   "metadata": {
    "ExecuteTime": {
     "end_time": "2022-09-07T15:10:22.904601Z",
     "start_time": "2022-09-07T15:10:22.897398Z"
    }
   },
   "outputs": [],
   "source": [
    "assert(square(3) == 9)\n",
    "assert(square(5) == 25)\n",
    "assert(square(2) == 4)"
   ]
  },
  {
   "cell_type": "code",
   "execution_count": null,
   "metadata": {},
   "outputs": [],
   "source": []
  },
  {
   "cell_type": "code",
   "execution_count": null,
   "metadata": {},
   "outputs": [],
   "source": []
  },
  {
   "cell_type": "code",
   "execution_count": null,
   "metadata": {},
   "outputs": [],
   "source": []
  },
  {
   "cell_type": "code",
   "execution_count": null,
   "metadata": {},
   "outputs": [],
   "source": []
  }
 ],
 "metadata": {
  "anaconda-cloud": {},
  "kernelspec": {
   "display_name": "Python [conda env:new_base] *",
   "language": "python",
   "name": "conda-env-new_base-py"
  },
  "language_info": {
   "codemirror_mode": {
    "name": "ipython",
    "version": 3
   },
   "file_extension": ".py",
   "mimetype": "text/x-python",
   "name": "python",
   "nbconvert_exporter": "python",
   "pygments_lexer": "ipython3",
   "version": "3.11.4"
  },
  "latex_envs": {
   "LaTeX_envs_menu_present": true,
   "autoclose": false,
   "autocomplete": true,
   "bibliofile": "biblio.bib",
   "cite_by": "apalike",
   "current_citInitial": 1,
   "eqLabelWithNumbers": true,
   "eqNumInitial": 1,
   "hotkeys": {
    "equation": "Ctrl-E",
    "itemize": "Ctrl-I"
   },
   "labels_anchors": false,
   "latex_user_defs": false,
   "report_style_numbering": false,
   "user_envs_cfg": false
  },
  "toc": {
   "base_numbering": 1,
   "nav_menu": {},
   "number_sections": true,
   "sideBar": true,
   "skip_h1_title": false,
   "title_cell": "Table of Contents",
   "title_sidebar": "Contents",
   "toc_cell": false,
   "toc_position": {
    "height": "calc(100% - 180px)",
    "left": "10px",
    "top": "150px",
    "width": "165px"
   },
   "toc_section_display": true,
   "toc_window_display": true
  },
  "varInspector": {
   "cols": {
    "lenName": 16,
    "lenType": 16,
    "lenVar": 40
   },
   "kernels_config": {
    "python": {
     "delete_cmd_postfix": "",
     "delete_cmd_prefix": "del ",
     "library": "var_list.py",
     "varRefreshCmd": "print(var_dic_list())"
    },
    "r": {
     "delete_cmd_postfix": ") ",
     "delete_cmd_prefix": "rm(",
     "library": "var_list.r",
     "varRefreshCmd": "cat(var_dic_list()) "
    }
   },
   "types_to_exclude": [
    "module",
    "function",
    "builtin_function_or_method",
    "instance",
    "_Feature"
   ],
   "window_display": false
  }
 },
 "nbformat": 4,
 "nbformat_minor": 1
}
