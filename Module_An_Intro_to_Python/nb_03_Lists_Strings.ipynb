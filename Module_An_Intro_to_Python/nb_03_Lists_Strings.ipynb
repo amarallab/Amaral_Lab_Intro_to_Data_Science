{
 "cells": [
  {
   "cell_type": "markdown",
   "metadata": {},
   "source": [
    "# Synopsis\n",
    "\n",
    "In this unit we will study `Strings` and `List`.\n",
    "\n",
    "**Strings**\n",
    "\n",
    "*Strings* are created using the quotation mark characters: `''` or `\"\"` .\n",
    "\n",
    "*Strings* are sequences of characters such as \n",
    "\n",
    "> `'a'`, `'aaa'`, `'no'`, `'my space'`, ... \n",
    "\n",
    "*Strings* can be acted by string operators: \n",
    "\n",
    "> `+`, `*`, `.split()`, ...   \n",
    "    \n",
    "    \n",
    "**Lists**\n",
    "\n",
    "Lists are **ordered** sequences of elements, with that order being specified by the order in which the elements are in when the list is created or as elements are added to it.  \n",
    "\n",
    "*Lists* are created using the `[]` syntax.\n",
    "    \n",
    "*Lists* can include a mix of data types.\n",
    "    \n",
    "*List* elements are accessed by **index**.\n",
    "    \n",
    "*Lists* are **mutable**. \n",
    "\n",
    "You can add, remove, and replace values using functions such as\n",
    "\n",
    "> `.append()`, `.extend()`, `.insert()`, `.pop()`, `.remove()`, or `del` \n",
    "    \n",
    "\n"
   ]
  },
  {
   "cell_type": "markdown",
   "metadata": {},
   "source": [
    "# Read libraries"
   ]
  },
  {
   "cell_type": "code",
   "execution_count": null,
   "metadata": {
    "ExecuteTime": {
     "end_time": "2022-09-15T21:20:09.898245Z",
     "start_time": "2022-09-15T21:20:09.892307Z"
    }
   },
   "outputs": [],
   "source": [
    "from IPython.core.display import HTML\n",
    "from IPython.lib.display import YouTubeVideo\n",
    "\n",
    "import string"
   ]
  },
  {
   "cell_type": "markdown",
   "metadata": {},
   "source": [
    "# Videos"
   ]
  },
  {
   "cell_type": "code",
   "execution_count": null,
   "metadata": {
    "ExecuteTime": {
     "end_time": "2022-09-15T21:20:12.102365Z",
     "start_time": "2022-09-15T21:20:12.027110Z"
    }
   },
   "outputs": [],
   "source": [
    "vid = YouTubeVideo('iAzShkKzpJo', width = 600)\n",
    "display(vid)"
   ]
  },
  {
   "cell_type": "code",
   "execution_count": null,
   "metadata": {
    "ExecuteTime": {
     "end_time": "2022-09-15T21:20:16.124863Z",
     "start_time": "2022-09-15T21:20:16.063561Z"
    }
   },
   "outputs": [],
   "source": [
    "vid = YouTubeVideo('ohCDWZgNIU0', width = 600)\n",
    "display(vid)"
   ]
  },
  {
   "cell_type": "markdown",
   "metadata": {},
   "source": [
    "# Strings\n",
    "\n",
    "A Python string is an **ordered sequence of characters**. Python strings are very powerful and enable us to deal with text even if there is a lot of it and even if we don't know its structure.\n",
    "\n",
    "We initialize a string by putting some characters in between `'`s or `\"`s.\n"
   ]
  },
  {
   "cell_type": "code",
   "execution_count": null,
   "metadata": {
    "ExecuteTime": {
     "end_time": "2022-09-15T22:05:10.834869Z",
     "start_time": "2022-09-15T22:05:10.824448Z"
    }
   },
   "outputs": [],
   "source": [
    "hello = 'hel\"lo'\n",
    "hello_again = \"hello\"\n",
    "\n",
    "print( hello )\n",
    "print( hello_again )\n",
    "\n",
    "empty_string = str()\n",
    "empty_string"
   ]
  },
  {
   "cell_type": "markdown",
   "metadata": {},
   "source": [
    "**Remember**, though, **that a variable's name is not meant to tell us its value**.  The idea is to give the variable a name that it tells us what it is about!"
   ]
  },
  {
   "cell_type": "code",
   "execution_count": null,
   "metadata": {
    "ExecuteTime": {
     "end_time": "2022-09-15T21:56:02.210284Z",
     "start_time": "2022-09-15T21:56:02.203682Z"
    }
   },
   "outputs": [],
   "source": [
    "# Bad naming\n",
    "#\n",
    "falafel = 'gyro'\n",
    "\n",
    "# Good naming\n",
    "#\n",
    "food_item = 'gyro'\n",
    "\n",
    "another_food_item = 'falafel'\n",
    "\n",
    "salutation = 'hello'"
   ]
  },
  {
   "cell_type": "markdown",
   "metadata": {},
   "source": [
    "## Simple string operations\n",
    "\n",
    "It may appear strange, but you can actually sum strings"
   ]
  },
  {
   "cell_type": "code",
   "execution_count": null,
   "metadata": {
    "ExecuteTime": {
     "end_time": "2022-06-15T22:19:56.620377Z",
     "start_time": "2022-06-15T22:19:56.613300Z"
    }
   },
   "outputs": [],
   "source": [
    "a_messy_string = food_item + ' ' + another_food_item\n",
    "print(a_messy_string)"
   ]
  },
  {
   "cell_type": "markdown",
   "metadata": {},
   "source": [
    "In reality, what we did was **concatenate the strings**.\n",
    "\n",
    "You can use basic math operators to add strings together and make a longer string."
   ]
  },
  {
   "cell_type": "code",
   "execution_count": null,
   "metadata": {
    "ExecuteTime": {
     "end_time": "2022-06-15T22:20:49.113656Z",
     "start_time": "2022-06-15T22:20:49.107612Z"
    }
   },
   "outputs": [],
   "source": [
    "print(f\"1 food_item and 7 {another_food_item}\\n\")\n",
    "print(f\"1 {food_item} and 7 {another_food_item:>30}\")\n",
    "print(f\"1 {food_item} and 7 {another_food_item}\")"
   ]
  },
  {
   "cell_type": "markdown",
   "metadata": {},
   "source": [
    "Since you can sum, you can also **multiply a string by an integer**:"
   ]
  },
  {
   "cell_type": "code",
   "execution_count": null,
   "metadata": {
    "ExecuteTime": {
     "end_time": "2022-06-15T22:21:03.030496Z",
     "start_time": "2022-06-15T22:21:03.017691Z"
    }
   },
   "outputs": [],
   "source": [
    "food_item * 7"
   ]
  },
  {
   "cell_type": "code",
   "execution_count": null,
   "metadata": {
    "ExecuteTime": {
     "end_time": "2022-08-05T18:55:22.861681Z",
     "start_time": "2022-08-05T18:55:22.830866Z"
    }
   },
   "outputs": [],
   "source": [
    "food_item * 7.0"
   ]
  },
  {
   "cell_type": "markdown",
   "metadata": {},
   "source": [
    "This is particularly helpful when creating a string with a specified number of identical character such as spaces, which are hard to count: "
   ]
  },
  {
   "cell_type": "code",
   "execution_count": null,
   "metadata": {
    "ExecuteTime": {
     "end_time": "2022-09-15T21:40:51.676582Z",
     "start_time": "2022-09-15T21:40:51.671627Z"
    }
   },
   "outputs": [],
   "source": [
    "print(f\"--{'c'*15}--\")\n",
    "print(f\"--{' '*15}--\")"
   ]
  },
  {
   "cell_type": "markdown",
   "metadata": {},
   "source": [
    "While summing strings or multiplying them by a number is straightforward.  The same is not true of subtracting strings.  \n",
    "\n",
    "**How would you subtract 'falafel' from 'gyro'?**\n"
   ]
  },
  {
   "cell_type": "code",
   "execution_count": null,
   "metadata": {
    "ExecuteTime": {
     "end_time": "2022-01-07T21:10:35.287088Z",
     "start_time": "2022-01-07T21:10:35.262611Z"
    }
   },
   "outputs": [],
   "source": [
    "\"gyro\" - \"falafel\""
   ]
  },
  {
   "cell_type": "markdown",
   "metadata": {},
   "source": [
    "Since division is essentially repeated subtraction, **you cannot divide strings by numbers**."
   ]
  },
  {
   "cell_type": "code",
   "execution_count": null,
   "metadata": {
    "ExecuteTime": {
     "end_time": "2022-01-07T21:10:51.648702Z",
     "start_time": "2022-01-07T21:10:51.617247Z"
    }
   },
   "outputs": [],
   "source": [
    "\"gyro\" / 7"
   ]
  },
  {
   "cell_type": "markdown",
   "metadata": {},
   "source": [
    "Using addition to concatenate strings work 'well-enough' in many situations. However, it is a cumbersome, inefficient approach. Most of the time, what we actually want to do is to write a nicely formatted output where some specific value gets inserted.\n",
    "\n",
    "`Python` provides a general formatting framework to accomplish this -- `f-strings`. \n",
    "scenarios, but most of\n",
    "the time, we are using this operation to write something in the output. Python \n",
    "  provides another operation, called string formatting. \n",
    "  \n",
    "This is a **fill in the gap** string template, where we say which value we want for each gap. For example:\n"
   ]
  },
  {
   "cell_type": "code",
   "execution_count": null,
   "metadata": {
    "ExecuteTime": {
     "end_time": "2022-08-05T18:54:53.447453Z",
     "start_time": "2022-08-05T18:54:53.440850Z"
    }
   },
   "outputs": [],
   "source": [
    "f\"Fill the gap here with the _{food_item}_ food item\""
   ]
  },
  {
   "cell_type": "markdown",
   "metadata": {},
   "source": [
    "## `Built-in methods` for strings\n",
    "\n",
    "There are **lots and lots** of pre-built functions that can perform operations on string.\n",
    "\n",
    "One important point to keep in mind, however, is that strings are **immutable variables**. They cannot be changed after they are created.\n",
    "\n",
    "**Any operation that appears to change a the value of a string variable is actually creating a new string variable with the same name.**\n"
   ]
  },
  {
   "cell_type": "code",
   "execution_count": null,
   "metadata": {
    "ExecuteTime": {
     "end_time": "2022-09-15T21:46:54.673140Z",
     "start_time": "2022-09-15T21:46:54.665715Z"
    }
   },
   "outputs": [],
   "source": [
    "color = 'red'\n",
    "print(f\"The memory address of the variable color is \\t {hex(id(color))}.\" )\n",
    "\n",
    "color = color + 's'\n",
    "print(f\"The memory address of the variable color is now  {hex(id(color))}.\" )\n"
   ]
  },
  {
   "cell_type": "markdown",
   "metadata": {},
   "source": [
    "If you run the cell above several times, you will see that sometimes the address is the same and sometimes it is not."
   ]
  },
  {
   "cell_type": "markdown",
   "metadata": {},
   "source": [
    "### String constants\n",
    "\n",
    "One of the very nice features of the `string` library is that is includes a number of very useful constants"
   ]
  },
  {
   "cell_type": "code",
   "execution_count": null,
   "metadata": {
    "ExecuteTime": {
     "end_time": "2022-09-15T21:52:33.638008Z",
     "start_time": "2022-09-15T21:52:33.631685Z"
    }
   },
   "outputs": [],
   "source": [
    "print(f\"Punctuation: {string.punctuation}\\n\" )\n",
    "print(f\"White spaces: {'-'.join(string.whitespace)}\\n\" )\n",
    "\n",
    "print(f\"Digits: {string.digits}\\n\" )\n",
    "\n",
    "print(f\"Letters: {string.ascii_letters}\\n\" )\n",
    "print(f\"Lower case letters: {string.ascii_lowercase}\\n\" )\n",
    "\n"
   ]
  },
  {
   "cell_type": "markdown",
   "metadata": {},
   "source": [
    "### Changing capitalization\n",
    "\n",
    "Typically, when we start a new sentence we capitalize the first word. Yes, there is a Python built-in function for that!\n"
   ]
  },
  {
   "cell_type": "code",
   "execution_count": null,
   "metadata": {
    "ExecuteTime": {
     "end_time": "2022-09-15T21:56:08.748924Z",
     "start_time": "2022-09-15T21:56:08.742952Z"
    }
   },
   "outputs": [],
   "source": [
    "order = f\"{salutation}, I would like a {another_food_item}\"\n",
    "\n",
    "print(order)"
   ]
  },
  {
   "cell_type": "code",
   "execution_count": null,
   "metadata": {
    "ExecuteTime": {
     "end_time": "2022-09-15T21:56:14.657306Z",
     "start_time": "2022-09-15T21:56:14.650856Z"
    }
   },
   "outputs": [],
   "source": [
    "# Yes, Python recognizes the difference between 'T' and 't'\n",
    "\n",
    "word1 = 'The'\n",
    "word2 = 'the'\n",
    "print( word1 == word2 )\n"
   ]
  },
  {
   "cell_type": "code",
   "execution_count": null,
   "metadata": {
    "ExecuteTime": {
     "end_time": "2022-09-15T21:58:34.936760Z",
     "start_time": "2022-09-15T21:58:34.930814Z"
    }
   },
   "outputs": [],
   "source": [
    "print( order )\n",
    "print()\n",
    "print( f\"If I capitalize the string 'order', I get:\"\n",
    "       f\"\\n\\n\\t{order.capitalize()}\\n\" )\n",
    "\n",
    "print( f\"But my string was not changed:\\n\\n\\t{order}\" )\n"
   ]
  },
  {
   "cell_type": "markdown",
   "metadata": {},
   "source": [
    ".\n",
    "\n",
    "\n",
    "\n",
    "Two things to note here.\n",
    "\n",
    "1. The built-in method (i.e., function) `.capitalize()` made `I` lower case.\n",
    "\n",
    "2. The variable `order` was not modified!\n",
    "\n",
    "Thus, we learn that the **output** of `.capitalize()` **was passed** to the `print()` function but not stored. \n",
    "\n",
    "**The output of a function is not stored anywhere unless we do it explicitly.** "
   ]
  },
  {
   "cell_type": "code",
   "execution_count": null,
   "metadata": {
    "ExecuteTime": {
     "end_time": "2022-09-15T21:59:18.657058Z",
     "start_time": "2022-09-15T21:59:18.650829Z"
    }
   },
   "outputs": [],
   "source": [
    "new_order = order.capitalize()\n",
    "print(new_order)"
   ]
  },
  {
   "cell_type": "markdown",
   "metadata": {},
   "source": [
    "We could also have stored the new value in the same variable name:\n"
   ]
  },
  {
   "cell_type": "code",
   "execution_count": null,
   "metadata": {
    "ExecuteTime": {
     "end_time": "2022-06-15T22:33:49.871571Z",
     "start_time": "2022-06-15T22:33:49.864930Z"
    }
   },
   "outputs": [],
   "source": [
    "order = order.capitalize()\n",
    "print(order)"
   ]
  },
  {
   "cell_type": "markdown",
   "metadata": {},
   "source": [
    "There are other built-in methods that perform actions similar to `capitalize()`. For example:\n",
    "\n",
    "* `lower()` makes the entire string lowercase\n",
    "* `upper()` makes the entire string uppercase\n",
    "* `title()` capitalizes every word in a string"
   ]
  },
  {
   "cell_type": "code",
   "execution_count": null,
   "metadata": {
    "ExecuteTime": {
     "end_time": "2022-06-15T22:34:53.499986Z",
     "start_time": "2022-06-15T22:34:53.493551Z"
    }
   },
   "outputs": [],
   "source": [
    "print(order.title())\n",
    "print(order)"
   ]
  },
  {
   "cell_type": "markdown",
   "metadata": {},
   "source": [
    "### Changing at the edges\n",
    "\n",
    "Many many times, we want to 'clean-up' a string by removing unwanted characters at the start or end of a string. Typical cases are spaces and punctuation. \n",
    "\n",
    "The built-in methods for doing these things are:\n",
    "\n",
    "* `lstrip()` removes characters on the left side of the string\n",
    "* `rstrip()` removes characters on the right side of the string\n",
    "* `strip()` removes away characters from both sides of the string\n",
    "\n"
   ]
  },
  {
   "cell_type": "code",
   "execution_count": null,
   "metadata": {
    "ExecuteTime": {
     "end_time": "2022-09-15T22:00:45.580682Z",
     "start_time": "2022-09-15T22:00:45.575839Z"
    }
   },
   "outputs": [],
   "source": [
    "dirty_word = '??^%#Hello,.,,?'"
   ]
  },
  {
   "cell_type": "code",
   "execution_count": null,
   "metadata": {
    "ExecuteTime": {
     "end_time": "2022-09-15T22:00:47.868633Z",
     "start_time": "2022-09-15T22:00:47.861860Z"
    }
   },
   "outputs": [],
   "source": [
    "print(dirty_word.lstrip('?'))\n",
    "print(dirty_word.rstrip('?'))\n",
    "print(dirty_word.strip('?'))"
   ]
  },
  {
   "cell_type": "code",
   "execution_count": null,
   "metadata": {
    "ExecuteTime": {
     "end_time": "2022-09-15T22:00:48.694700Z",
     "start_time": "2022-09-15T22:00:48.689535Z"
    }
   },
   "outputs": [],
   "source": [
    "print(dirty_word.lstrip('^'))\n",
    "print(dirty_word.rstrip('^'))\n",
    "print(dirty_word.strip('^'))"
   ]
  },
  {
   "cell_type": "code",
   "execution_count": null,
   "metadata": {
    "ExecuteTime": {
     "end_time": "2022-09-15T22:00:49.289558Z",
     "start_time": "2022-09-15T22:00:49.283439Z"
    }
   },
   "outputs": [],
   "source": [
    "print(dirty_word.lstrip('?^'))\n",
    "print(dirty_word.rstrip('?^'))\n",
    "print(dirty_word.strip('?^'))"
   ]
  },
  {
   "cell_type": "markdown",
   "metadata": {},
   "source": [
    "Keep going to see how to make this dirty word clean... **or you could just use `string.punctuation`**\n"
   ]
  },
  {
   "cell_type": "code",
   "execution_count": null,
   "metadata": {
    "ExecuteTime": {
     "end_time": "2022-09-15T22:02:02.173153Z",
     "start_time": "2022-09-15T22:02:02.166821Z"
    }
   },
   "outputs": [],
   "source": [
    "print(dirty_word.strip(string.punctuation))\n"
   ]
  },
  {
   "cell_type": "markdown",
   "metadata": {},
   "source": [
    "What about spaces?  An important point to realize is that there are several types of spaces: `tabs`, `newlines`, ` `.\n",
    "\n",
    "Let's check how they are produced and how they print.\n",
    "\n"
   ]
  },
  {
   "cell_type": "code",
   "execution_count": null,
   "metadata": {
    "ExecuteTime": {
     "end_time": "2022-09-15T22:00:09.841898Z",
     "start_time": "2022-09-15T22:00:09.834195Z"
    }
   },
   "outputs": [],
   "source": [
    "spacy_word = f\" \\t Hello   \\n  \"\n",
    "print(spacy_word)\n"
   ]
  },
  {
   "cell_type": "markdown",
   "metadata": {},
   "source": [
    "Let's make it more clear"
   ]
  },
  {
   "cell_type": "code",
   "execution_count": null,
   "metadata": {
    "ExecuteTime": {
     "end_time": "2022-09-15T22:00:11.244199Z",
     "start_time": "2022-09-15T22:00:11.239993Z"
    }
   },
   "outputs": [],
   "source": [
    "spacy_word2 = f\" '\\t' Hello' ' ' \\n' ' \"\n",
    "print(f\"---{spacy_word2}---\")"
   ]
  },
  {
   "cell_type": "code",
   "execution_count": null,
   "metadata": {
    "ExecuteTime": {
     "end_time": "2022-09-15T22:00:11.878386Z",
     "start_time": "2022-09-15T22:00:11.872594Z"
    }
   },
   "outputs": [],
   "source": [
    "print(f\"---{spacy_word.strip(' ')}---\")"
   ]
  },
  {
   "cell_type": "markdown",
   "metadata": {},
   "source": [
    "Dealing with spaces is so important that the **default** use of the methods remove all types of spaces:"
   ]
  },
  {
   "cell_type": "code",
   "execution_count": null,
   "metadata": {
    "ExecuteTime": {
     "end_time": "2022-09-15T22:00:14.238093Z",
     "start_time": "2022-09-15T22:00:14.232360Z"
    }
   },
   "outputs": [],
   "source": [
    "print(f\"---{spacy_word.lstrip()}---\")\n",
    "print(f\"---{spacy_word.rstrip()}---\")\n",
    "print(f\"---{spacy_word.strip()}---\")"
   ]
  },
  {
   "cell_type": "markdown",
   "metadata": {},
   "source": [
    "### Separating the alpha from the numeric\n",
    "\n",
    "We can also check the contents of a string using built-in methods. For example, we can make sure that all of the characters are **alphabetical**."
   ]
  },
  {
   "cell_type": "code",
   "execution_count": null,
   "metadata": {
    "ExecuteTime": {
     "end_time": "2022-09-15T22:02:12.374901Z",
     "start_time": "2022-09-15T22:02:12.368766Z"
    }
   },
   "outputs": [],
   "source": [
    "print(spacy_word.isalpha())\n",
    "print(dirty_word.isalpha())"
   ]
  },
  {
   "cell_type": "code",
   "execution_count": null,
   "metadata": {
    "ExecuteTime": {
     "end_time": "2022-09-15T22:02:17.363273Z",
     "start_time": "2022-09-15T22:02:17.355538Z"
    }
   },
   "outputs": [],
   "source": [
    "print(f\"--Is '{spacy_word}' alphabetic? {spacy_word.isalpha()}\\n\")\n",
    "print(f\"--Is '{spacy_word.strip()}' alphabetic? \"\n",
    "      f\"{spacy_word.strip().isalpha()}\\n\")"
   ]
  },
  {
   "cell_type": "code",
   "execution_count": null,
   "metadata": {
    "ExecuteTime": {
     "end_time": "2022-09-15T22:02:27.043613Z",
     "start_time": "2022-09-15T22:02:27.037325Z"
    }
   },
   "outputs": [],
   "source": [
    "print(f\"--Is '{dirty_word}' alphabetic? {dirty_word.isalpha()}\\n\")\n",
    "print(f\"--Is '{dirty_word.strip()}' alphabetic? \"\n",
    "      f\"{dirty_word.strip().isalpha()}\\n\")"
   ]
  },
  {
   "cell_type": "markdown",
   "metadata": {},
   "source": [
    "Frequently, code that we write will be reading data from a file.  Typically, everything we read will be stored internally as a `string`.  However, some of the data may actually be numbers that we will want to cast into that form so that we can perform calculations with them.  \n",
    "\n",
    "To make such a transformation, we cast the string as a number.  \n"
   ]
  },
  {
   "cell_type": "code",
   "execution_count": null,
   "metadata": {
    "ExecuteTime": {
     "end_time": "2022-09-15T22:02:44.456258Z",
     "start_time": "2022-09-15T22:02:44.448589Z"
    }
   },
   "outputs": [],
   "source": [
    "print('4'.isnumeric())\n",
    "int('4')"
   ]
  },
  {
   "cell_type": "code",
   "execution_count": null,
   "metadata": {
    "ExecuteTime": {
     "end_time": "2022-09-15T22:02:45.056190Z",
     "start_time": "2022-09-15T22:02:45.029794Z"
    }
   },
   "outputs": [],
   "source": [
    "print('4.0'.isnumeric())\n",
    "float('4.0')\n",
    "int('4.0')"
   ]
  },
  {
   "cell_type": "markdown",
   "metadata": {},
   "source": [
    "Sadly, `.isnumeric()` is a not particularly flexible tool...\n"
   ]
  },
  {
   "cell_type": "code",
   "execution_count": null,
   "metadata": {
    "ExecuteTime": {
     "end_time": "2022-09-15T22:02:54.783915Z",
     "start_time": "2022-09-15T22:02:54.779030Z"
    }
   },
   "outputs": [],
   "source": [
    "stringy_number = '4'\n",
    "another_stringy_number = '4.5'\n",
    "yet_another_stringy_number = \"4E-3\"\n"
   ]
  },
  {
   "cell_type": "code",
   "execution_count": null,
   "metadata": {
    "ExecuteTime": {
     "end_time": "2022-09-15T22:02:57.543419Z",
     "start_time": "2022-09-15T22:02:57.536454Z"
    }
   },
   "outputs": [],
   "source": [
    "print(f\"Is '{stringy_number}' numeric? {stringy_number.isnumeric()}\")\n",
    "print(int(stringy_number))\n",
    "print(float(stringy_number))\n"
   ]
  },
  {
   "cell_type": "code",
   "execution_count": null,
   "metadata": {
    "ExecuteTime": {
     "end_time": "2022-09-15T22:03:10.578632Z",
     "start_time": "2022-09-15T22:03:10.573115Z"
    }
   },
   "outputs": [],
   "source": [
    "print(f\"Is '{another_stringy_number}' numeric? \"\n",
    "      f\"{another_stringy_number.isnumeric()}\")\n",
    "print(float(another_stringy_number))\n"
   ]
  },
  {
   "cell_type": "code",
   "execution_count": null,
   "metadata": {
    "ExecuteTime": {
     "end_time": "2022-09-15T22:03:48.466131Z",
     "start_time": "2022-09-15T22:03:48.459127Z"
    }
   },
   "outputs": [],
   "source": [
    "print(f\"Is '{yet_another_stringy_number}' numeric? \"\n",
    "      f\"{yet_another_stringy_number.isnumeric()}\")\n",
    "print(float(yet_another_stringy_number))"
   ]
  },
  {
   "cell_type": "markdown",
   "metadata": {},
   "source": [
    "# Strings are actually collections!\n",
    "\n",
    "Strings are collections of characters.  Because they are collections, you are able to access its elements individually or in groups. \n",
    "\n",
    "Accessing a single element of the string is called **indexing**. \n",
    "\n"
   ]
  },
  {
   "cell_type": "markdown",
   "metadata": {},
   "source": [
    "## Indexing\n",
    "\n",
    "**To index a single element, you add `[ ]` after the variable name** and tell it the numerical index of the element you want to access."
   ]
  },
  {
   "cell_type": "code",
   "execution_count": null,
   "metadata": {
    "ExecuteTime": {
     "end_time": "2022-09-15T22:05:39.153998Z",
     "start_time": "2022-09-15T22:05:39.146952Z"
    }
   },
   "outputs": [],
   "source": [
    "food_item"
   ]
  },
  {
   "cell_type": "markdown",
   "metadata": {},
   "source": [
    "Now, get me the first character"
   ]
  },
  {
   "cell_type": "code",
   "execution_count": null,
   "metadata": {
    "ExecuteTime": {
     "end_time": "2022-09-15T22:05:35.643774Z",
     "start_time": "2022-09-15T22:05:35.635719Z"
    }
   },
   "outputs": [],
   "source": [
    "food_item[1]"
   ]
  },
  {
   "cell_type": "markdown",
   "metadata": {},
   "source": [
    "Huh? I said that I wanted the first element but Python returned `y` which is the second character in the `falafel` variable. \n",
    "\n",
    "Why is that???\n",
    "\n",
    "In Python, like in many other programming languages, all sequences are **zero-indexed**. That means the numerical index for the first element is actually `0`"
   ]
  },
  {
   "cell_type": "code",
   "execution_count": null,
   "metadata": {
    "ExecuteTime": {
     "end_time": "2022-09-15T22:05:44.568941Z",
     "start_time": "2022-09-15T22:05:44.561892Z"
    }
   },
   "outputs": [],
   "source": [
    "food_item[0]"
   ]
  },
  {
   "cell_type": "markdown",
   "metadata": {},
   "source": [
    "The counting after that position is normal. So if want the letter `r` which is the **third** letter in the word `gyro`, then the index will be **`2`**"
   ]
  },
  {
   "cell_type": "code",
   "execution_count": null,
   "metadata": {
    "ExecuteTime": {
     "end_time": "2022-06-16T19:06:40.119723Z",
     "start_time": "2022-06-16T19:06:40.112560Z"
    }
   },
   "outputs": [],
   "source": [
    "food_item[2]"
   ]
  },
  {
   "cell_type": "markdown",
   "metadata": {},
   "source": [
    "For longer strings it may annoying to figure out the index of the final elements. To circumvent this, **Python allows you to access elements by counting back from the end of the string too**.\n",
    "\n",
    "When counting from the end, you use negative indicies. A way to figure this out is to see a string a written on a ring where the last element comes just before the first element.  So, if the first element has index 0, the one before must have index **`-1`**. "
   ]
  },
  {
   "cell_type": "code",
   "execution_count": null,
   "metadata": {
    "ExecuteTime": {
     "end_time": "2022-06-16T19:06:44.802714Z",
     "start_time": "2022-06-16T19:06:44.796201Z"
    }
   },
   "outputs": [],
   "source": [
    "food_item[-2]"
   ]
  },
  {
   "cell_type": "markdown",
   "metadata": {},
   "source": [
    "From the end, the counting works just the same as from the start"
   ]
  },
  {
   "cell_type": "code",
   "execution_count": null,
   "metadata": {
    "ExecuteTime": {
     "end_time": "2020-01-08T21:15:07.502367Z",
     "start_time": "2020-01-08T21:15:07.494287Z"
    }
   },
   "outputs": [],
   "source": [
    "food_item[-2]"
   ]
  },
  {
   "cell_type": "markdown",
   "metadata": {},
   "source": [
    "\n",
    "Something to be aware of, though, is that if you try to access an element **it must exist**. That means that since `gyro` is four characters long, you cannot try to access the element with index `4`."
   ]
  },
  {
   "cell_type": "code",
   "execution_count": null,
   "metadata": {
    "ExecuteTime": {
     "end_time": "2022-06-16T19:07:57.529307Z",
     "start_time": "2022-06-16T19:07:57.503760Z"
    }
   },
   "outputs": [],
   "source": [
    "food_item[4]"
   ]
  },
  {
   "cell_type": "code",
   "execution_count": null,
   "metadata": {
    "ExecuteTime": {
     "end_time": "2022-06-16T19:07:58.461135Z",
     "start_time": "2022-06-16T19:07:58.436795Z"
    }
   },
   "outputs": [],
   "source": [
    "food_item[-5]"
   ]
  },
  {
   "cell_type": "code",
   "execution_count": null,
   "metadata": {
    "ExecuteTime": {
     "end_time": "2022-09-15T22:06:04.207648Z",
     "start_time": "2022-09-15T22:06:04.199642Z"
    }
   },
   "outputs": [],
   "source": [
    "# The length of a string\n",
    "#\n",
    "length_string = len(food_item)\n",
    "\n",
    "print(f\"Our string has {length_string} characters.\\n\")\n",
    "\n",
    "print(f\"The first character, '{food_item[-length_string]}', is \"\n",
    "      f\"reached by counting backwards\\n'the length of the string'.\\n\" )\n",
    "\n",
    "print(f\"The last character, '{food_item[length_string - 1]}', is \"\n",
    "      f\"reached by using 'index\\n length of the string minus 1'.\\n\" )"
   ]
  },
  {
   "cell_type": "markdown",
   "metadata": {},
   "source": [
    "## Slicing a string\n",
    "\n",
    "What if we wanted to get out more than one element from a string? We can do that too, it's called slicing.\n",
    "\n",
    "The syntax for slicing is deceptively simple, the full syntax is:\n",
    "\n",
    "    variable[start_index : stop_index : step]\n",
    "\n",
    "You'll see that all of the inputs go within the `[]` and the `:` separates each input. \n",
    "\n",
    "The `start_index` tells Python which index we want to start getting elements from.\n",
    "\n",
    "The `stop_index` tells Python which index we want elements **up to but not including**\n",
    "\n",
    "The `step` tells Python how many elements to slip between selected elements within the range. This means that you don't need to retrieve every element. You could take **every other** element. To do that you just specify a `step` of `2`.\n",
    "\n",
    "**Importantly, `step` can take negative values!** \n"
   ]
  },
  {
   "cell_type": "code",
   "execution_count": null,
   "metadata": {
    "ExecuteTime": {
     "end_time": "2022-08-05T18:57:41.247872Z",
     "start_time": "2022-08-05T18:57:41.239700Z"
    }
   },
   "outputs": [],
   "source": [
    "answer = 'gr'\n",
    "food_item[0:3:2]"
   ]
  },
  {
   "cell_type": "markdown",
   "metadata": {},
   "source": [
    "If we wanted to access the `gy` part from `gyros`, you write:"
   ]
  },
  {
   "cell_type": "code",
   "execution_count": null,
   "metadata": {
    "ExecuteTime": {
     "end_time": "2022-08-05T18:57:53.231868Z",
     "start_time": "2022-08-05T18:57:53.224794Z"
    }
   },
   "outputs": [],
   "source": [
    "food_item[0 : 2 : 1]"
   ]
  },
  {
   "cell_type": "markdown",
   "metadata": {},
   "source": [
    "Remember that the index of `2` means the third element, so we specified that we wanted every letter from the first index **up until** the third index, and we want every letter.\n",
    "\n",
    "We could get every other letter from the first four letters like so:"
   ]
  },
  {
   "cell_type": "code",
   "execution_count": null,
   "metadata": {
    "ExecuteTime": {
     "end_time": "2022-08-05T18:58:16.825428Z",
     "start_time": "2022-08-05T18:58:16.798089Z"
    }
   },
   "outputs": [],
   "source": [
    "food_item[ 0: length_string : 1] ### default values of indices\n"
   ]
  },
  {
   "cell_type": "markdown",
   "metadata": {},
   "source": [
    "Because some types of slicing are used more frequently than others, Python assumes that if you leave an option empty that you are making the default selection. The defaults for slicing are:\n",
    "\n",
    "* `start_index` is set to `0`\n",
    "* `stop_index` is set to `length_string` \n",
    "* `step` is set to  `1`"
   ]
  },
  {
   "cell_type": "code",
   "execution_count": null,
   "metadata": {
    "ExecuteTime": {
     "end_time": "2022-08-05T19:00:04.024272Z",
     "start_time": "2022-08-05T19:00:03.999283Z"
    }
   },
   "outputs": [],
   "source": [
    "food_item[ 0:  : 1]"
   ]
  },
  {
   "cell_type": "code",
   "execution_count": null,
   "metadata": {
    "ExecuteTime": {
     "end_time": "2022-01-10T20:37:51.135484Z",
     "start_time": "2022-01-10T20:37:51.128644Z"
    }
   },
   "outputs": [],
   "source": [
    "food_item[0 : 2]"
   ]
  },
  {
   "cell_type": "code",
   "execution_count": null,
   "metadata": {
    "ExecuteTime": {
     "end_time": "2022-01-10T20:37:53.895064Z",
     "start_time": "2022-01-10T20:37:53.825714Z"
    }
   },
   "outputs": [],
   "source": [
    "food_item[: 2]"
   ]
  },
  {
   "cell_type": "code",
   "execution_count": null,
   "metadata": {
    "ExecuteTime": {
     "end_time": "2022-01-10T20:37:56.909640Z",
     "start_time": "2022-01-10T20:37:56.856514Z"
    }
   },
   "outputs": [],
   "source": [
    "food_item[: : 2]"
   ]
  },
  {
   "cell_type": "markdown",
   "metadata": {},
   "source": [
    "We can mix and match positive and negative indices like so:"
   ]
  },
  {
   "cell_type": "code",
   "execution_count": null,
   "metadata": {
    "ExecuteTime": {
     "end_time": "2022-08-05T19:00:19.362462Z",
     "start_time": "2022-08-05T19:00:19.353315Z"
    }
   },
   "outputs": [],
   "source": [
    "food_item[ : -1 : 2]"
   ]
  },
  {
   "cell_type": "markdown",
   "metadata": {},
   "source": [
    "**One difference from accessing a single element is that we can specify a `stop_index` that is greater than the length of the string**. Python will just give us all of the possible characters that exist within the constraint."
   ]
  },
  {
   "cell_type": "code",
   "execution_count": null,
   "metadata": {
    "ExecuteTime": {
     "end_time": "2022-08-05T19:00:25.144137Z",
     "start_time": "2022-08-05T19:00:25.135385Z"
    }
   },
   "outputs": [],
   "source": [
    "food_item[: 10]"
   ]
  },
  {
   "cell_type": "markdown",
   "metadata": {},
   "source": [
    "In most situations this is poor practice and you should just omit the `stop_index` if you want to extend the slice to the end of the string."
   ]
  },
  {
   "cell_type": "code",
   "execution_count": null,
   "metadata": {
    "ExecuteTime": {
     "end_time": "2022-08-05T19:00:27.750149Z",
     "start_time": "2022-08-05T19:00:27.742371Z"
    }
   },
   "outputs": [],
   "source": [
    "food_item[:]"
   ]
  },
  {
   "cell_type": "markdown",
   "metadata": {},
   "source": [
    "**If `step` is positive, then the `start_index` must have a larger value than the `stop_index`, otherwise we will get an empty string.**"
   ]
  },
  {
   "cell_type": "code",
   "execution_count": null,
   "metadata": {
    "ExecuteTime": {
     "end_time": "2020-01-08T21:18:23.549054Z",
     "start_time": "2020-01-08T21:18:23.541202Z"
    }
   },
   "outputs": [],
   "source": [
    "food_item[3 : 1]"
   ]
  },
  {
   "cell_type": "markdown",
   "metadata": {},
   "source": [
    "That's because there is no valid sequence moving from left to right that exists within those limits.\n",
    "\n",
    "**If we want it to retrieve elements in reverse order, then we can use negative value of `step`.**"
   ]
  },
  {
   "cell_type": "code",
   "execution_count": null,
   "metadata": {
    "ExecuteTime": {
     "end_time": "2022-06-16T19:23:00.798257Z",
     "start_time": "2022-06-16T19:23:00.791902Z"
    }
   },
   "outputs": [],
   "source": [
    "print(food_item)\n",
    "\n",
    "# Notice that this form does not work!!!\n",
    "# It skips the last element\n",
    "#\n",
    "print(food_item[3 : 0 : -1]) \n",
    "\n",
    "# Leaving input empty is the correct approach\n",
    "#\n",
    "print(food_item[3 :  : -1])"
   ]
  },
  {
   "cell_type": "markdown",
   "metadata": {},
   "source": [
    "# Lists\n",
    "\n",
    "A `list` is an **ordered sequence of items**, with that order being specified by the order that the items are placed when the `list` is created or as items are added to the `list`. \n",
    "\n",
    "You can use the following ways to create a `list`:\n",
    "\n",
    "> a_list = []\n",
    ">\n",
    "> a_list = list()\n",
    "\n"
   ]
  },
  {
   "cell_type": "code",
   "execution_count": null,
   "metadata": {
    "ExecuteTime": {
     "end_time": "2022-09-15T22:07:50.976082Z",
     "start_time": "2022-09-15T22:07:50.970412Z"
    }
   },
   "outputs": [],
   "source": [
    "my_empty_list = list()\n",
    "another_empty_list = []\n",
    "\n",
    "print(my_empty_list, another_empty_list)"
   ]
  },
  {
   "cell_type": "markdown",
   "metadata": {},
   "source": [
    "Let's imagine we own a pet store that carries a number of different types of pets.\n",
    "\n",
    "We can write a string with all the items we desire to include and then separate them on some character, such as `,`.  This is the actual meaning of `comma separated values (CSV)`. We can them split the string into a list."
   ]
  },
  {
   "cell_type": "code",
   "execution_count": null,
   "metadata": {
    "ExecuteTime": {
     "end_time": "2022-09-15T22:08:07.823358Z",
     "start_time": "2022-09-15T22:08:07.817257Z"
    }
   },
   "outputs": [],
   "source": [
    "pets_for_sale = 'dogs,cats,fishes'\n",
    "\n",
    "pets = pets_for_sale.split(',')\n",
    "\n",
    "print(pets)"
   ]
  },
  {
   "cell_type": "markdown",
   "metadata": {},
   "source": [
    "What is going on?"
   ]
  },
  {
   "cell_type": "code",
   "execution_count": null,
   "metadata": {
    "ExecuteTime": {
     "end_time": "2022-09-15T22:08:12.507362Z",
     "start_time": "2022-09-15T22:08:12.500853Z"
    }
   },
   "outputs": [],
   "source": [
    "print( type( pets ) )"
   ]
  },
  {
   "cell_type": "code",
   "execution_count": null,
   "metadata": {
    "ExecuteTime": {
     "end_time": "2022-09-15T22:08:13.192014Z",
     "start_time": "2022-09-15T22:08:13.187105Z"
    }
   },
   "outputs": [],
   "source": [
    "print( pets[0] )\n",
    "print( pets[1] )"
   ]
  },
  {
   "cell_type": "code",
   "execution_count": null,
   "metadata": {
    "ExecuteTime": {
     "end_time": "2022-09-15T22:08:36.166214Z",
     "start_time": "2022-09-15T22:08:36.160231Z"
    }
   },
   "outputs": [],
   "source": [
    "print(pets[0])\n",
    "first_pet = pets[0]\n",
    "print(type(first_pet))\n"
   ]
  },
  {
   "cell_type": "code",
   "execution_count": null,
   "metadata": {
    "ExecuteTime": {
     "end_time": "2022-09-15T22:08:40.128212Z",
     "start_time": "2022-09-15T22:08:40.122107Z"
    }
   },
   "outputs": [],
   "source": [
    "print(first_pet[1])\n",
    "print(len(first_pet))\n",
    "\n",
    "print(pets[2][1])\n"
   ]
  },
  {
   "cell_type": "markdown",
   "metadata": {},
   "source": [
    "Notice that the `list` printed the items in the order in which they were created. Unlike `strings`, **`lists` are mutable**. Thus, we can change them. \n",
    "\n",
    "If we want to add an item to the `list`, we `.append()` the new item to the `list`."
   ]
  },
  {
   "cell_type": "code",
   "execution_count": null,
   "metadata": {
    "ExecuteTime": {
     "end_time": "2022-09-15T22:10:16.675228Z",
     "start_time": "2022-09-15T22:10:16.668193Z"
    }
   },
   "outputs": [],
   "source": [
    "print(pets)\n",
    "print(f\"The memory address of the variable pets is {hex(id(pets))}\")\n",
    "pets.append('hedgehog')\n",
    "print(f\"The memory address of the variable pets is {hex(id(pets))}\")\n"
   ]
  },
  {
   "cell_type": "code",
   "execution_count": null,
   "metadata": {
    "ExecuteTime": {
     "end_time": "2022-09-15T22:10:22.286746Z",
     "start_time": "2022-09-15T22:10:22.281558Z"
    }
   },
   "outputs": [],
   "source": [
    "print(pets)\n",
    "print(len(pets))"
   ]
  },
  {
   "cell_type": "markdown",
   "metadata": {},
   "source": [
    "What if we want to add several new items?"
   ]
  },
  {
   "cell_type": "code",
   "execution_count": null,
   "metadata": {
    "ExecuteTime": {
     "end_time": "2022-09-15T22:11:10.076832Z",
     "start_time": "2022-09-15T22:11:10.069511Z"
    }
   },
   "outputs": [],
   "source": [
    "pets.append(['parrot', 'iguana'])\n",
    "print(pets)\n",
    "print(len(pets))\n",
    "print(pets[5])"
   ]
  },
  {
   "cell_type": "markdown",
   "metadata": {},
   "source": [
    "This is not what I had in mind!\n",
    "\n",
    "I wanted to add 'parrot' and 'iguana', not the `list` \n",
    "\n",
    "> `['parrot', 'iguana']`. \n",
    "\n",
    "If we want to add multiple additional items, we can either append them one by one, or we can `.extend()` our `list` `pets` with the `list` of additional pets that our pet shop carries."
   ]
  },
  {
   "cell_type": "code",
   "execution_count": null,
   "metadata": {
    "ExecuteTime": {
     "end_time": "2022-09-15T22:11:16.441048Z",
     "start_time": "2022-09-15T22:11:16.433435Z"
    }
   },
   "outputs": [],
   "source": [
    "pets.remove(['parrot', 'iguana'])\n",
    "pets.remove('hedgehog')\n",
    "pets"
   ]
  },
  {
   "cell_type": "code",
   "execution_count": null,
   "metadata": {
    "ExecuteTime": {
     "end_time": "2022-09-15T22:11:22.954483Z",
     "start_time": "2022-09-15T22:11:22.948372Z"
    }
   },
   "outputs": [],
   "source": [
    "pets.extend(['parrot', 'iguana'])\n",
    "print(pets)\n",
    "print(len(pets))"
   ]
  },
  {
   "cell_type": "code",
   "execution_count": null,
   "metadata": {
    "ExecuteTime": {
     "end_time": "2022-09-15T22:11:48.895034Z",
     "start_time": "2022-09-15T22:11:48.888602Z"
    }
   },
   "outputs": [],
   "source": [
    "# pets[0] is a string\n",
    "#\n",
    "print(pets[0].upper())\n",
    "print(pets[0])\n",
    "\n",
    "# pets is a list\n",
    "#\n",
    "print(pets.append('tiger'))\n",
    "print(pets)"
   ]
  },
  {
   "cell_type": "markdown",
   "metadata": {},
   "source": [
    "**Noticed something?**\n",
    "\n",
    "The methods `.upper()` and `.append()` operate in very different manners!\n",
    "\n",
    "Because `strings` are immutable, the operation `.upper()` does not modify the variable and it returns the outcome of the operation.\n",
    "\n",
    "In contrast, because `lists` are mutable, the operation `.append()` modifies the variable and returns `None`.\n",
    "\n",
    "As `lists` are mutable, we can also remove elements from them.\n",
    "\n",
    "And, despite what you saw in 'Tiger King', tigers cannot be pets, so we should remove it from our `list`."
   ]
  },
  {
   "cell_type": "code",
   "execution_count": null,
   "metadata": {
    "ExecuteTime": {
     "end_time": "2022-09-15T22:12:09.616546Z",
     "start_time": "2022-09-15T22:12:09.612618Z"
    }
   },
   "outputs": [],
   "source": [
    "pets.remove('tiger')"
   ]
  },
  {
   "cell_type": "code",
   "execution_count": null,
   "metadata": {
    "ExecuteTime": {
     "end_time": "2022-09-15T22:12:10.410189Z",
     "start_time": "2022-09-15T22:12:10.388989Z"
    }
   },
   "outputs": [],
   "source": [
    "# However, if the item does not exist in the list, \n",
    "# we get an error\n",
    "\n",
    "pets.remove('tiger')"
   ]
  },
  {
   "cell_type": "code",
   "execution_count": null,
   "metadata": {
    "ExecuteTime": {
     "end_time": "2022-09-15T22:12:26.512203Z",
     "start_time": "2022-09-15T22:12:26.502766Z"
    }
   },
   "outputs": [],
   "source": [
    "# The trick is to check first if the item exists\n",
    "# in the list\n",
    "\n",
    "print(pets.append('hyena'))\n",
    "print(f\"My current pets are:\\n   {pets}\\n\")\n",
    "if 'hyena' in pets:\n",
    "    pets.remove('hyena')\n",
    "\n",
    "print(f\"After that removal, I have {len(pets)} pets. They are\\n\"\n",
    "      f\"   {pets}\")\n",
    "print()"
   ]
  },
  {
   "cell_type": "markdown",
   "metadata": {},
   "source": [
    "Lists can be added:"
   ]
  },
  {
   "cell_type": "code",
   "execution_count": null,
   "metadata": {
    "ExecuteTime": {
     "end_time": "2022-09-15T22:12:38.977355Z",
     "start_time": "2022-09-15T22:12:38.967912Z"
    }
   },
   "outputs": [],
   "source": [
    "print( pets + ['chameleon', 'hamster'])\n",
    "\n",
    "pets"
   ]
  },
  {
   "cell_type": "markdown",
   "metadata": {},
   "source": [
    "And just like with `strings`, we can use both of the additive math operators on `lists`. I'll use a small number here so as not to flood the screen, but we can multiply `lists` too."
   ]
  },
  {
   "cell_type": "code",
   "execution_count": null,
   "metadata": {
    "ExecuteTime": {
     "end_time": "2022-09-15T22:13:37.760614Z",
     "start_time": "2022-09-15T22:13:37.753583Z"
    }
   },
   "outputs": [],
   "source": [
    "print(pets + pets)\n",
    "print()\n",
    "print( pets * 3 )\n",
    "print()\n",
    "print(pets)"
   ]
  },
  {
   "cell_type": "markdown",
   "metadata": {},
   "source": [
    "**Notice that none of these operations changed the list!**\n",
    "\n",
    "As for `strings`, subtraction and division are not implemented for `lists`.  The reason is that it is not clear what subtracting two `lists` should produce."
   ]
  },
  {
   "cell_type": "code",
   "execution_count": null,
   "metadata": {},
   "outputs": [],
   "source": [
    "pets - ['hamster']"
   ]
  },
  {
   "cell_type": "code",
   "execution_count": null,
   "metadata": {
    "ExecuteTime": {
     "end_time": "2022-09-15T22:14:01.930885Z",
     "start_time": "2022-09-15T22:14:01.903563Z"
    }
   },
   "outputs": [],
   "source": [
    "pets - 'hamster'"
   ]
  },
  {
   "cell_type": "markdown",
   "metadata": {},
   "source": [
    "## Indexing and Slicing\n",
    "\n",
    "Since a `list` comprises multiple items, just as a `string` comprises multiple characters, it is helpful to be able to access a single item by its `index` or to access a portion of the `list` using **slicing**. \n",
    "\n",
    "To access an item by its `index` we use the syntax: \n",
    "\n",
    "> `variable[index]`.\n",
    "\n",
    "As for `strings`, you cannot attempt to access an `index` that has not been defined.  In order to avoid that kind of mistake it is useful to keep track of the number of items in a `list`.  \n",
    "\n",
    "You can obtain this number using the built-in function:\n",
    "\n",
    "> `len()`"
   ]
  },
  {
   "cell_type": "code",
   "execution_count": null,
   "metadata": {
    "ExecuteTime": {
     "end_time": "2022-09-15T22:14:08.973246Z",
     "start_time": "2022-09-15T22:14:08.945174Z"
    }
   },
   "outputs": [],
   "source": [
    "print(pets)\n",
    "print( pets[1] )\n",
    "print( len(pets) )\n",
    "print( pets[len(pets)-1] )\n",
    "print( pets[7] )"
   ]
  },
  {
   "cell_type": "markdown",
   "metadata": {},
   "source": [
    "In order to obtain a access a section of a `list`, we use the **slicing syntax**\n",
    "\n",
    "> `variable[start_index : stop_index : step]`"
   ]
  },
  {
   "cell_type": "code",
   "execution_count": null,
   "metadata": {
    "ExecuteTime": {
     "end_time": "2022-06-16T21:22:52.159638Z",
     "start_time": "2022-06-16T21:22:52.150504Z"
    }
   },
   "outputs": [],
   "source": [
    "pets[1 : 3]"
   ]
  },
  {
   "cell_type": "markdown",
   "metadata": {},
   "source": [
    "Because `lists` are mutable, we can not only add and remove items, we can also change the value of any item. \n",
    "\n",
    "Let's say that we stopped selling cats because everyone just looks at them on the Internet and now we carry sea monkeys. \n",
    "\n",
    "We could delete 'cats' and append 'sea monkeys' or we could just replace 'cats in the list with 'sea monkeys'."
   ]
  },
  {
   "cell_type": "code",
   "execution_count": null,
   "metadata": {
    "ExecuteTime": {
     "end_time": "2022-06-16T21:24:10.668222Z",
     "start_time": "2022-06-16T21:24:10.661110Z"
    }
   },
   "outputs": [],
   "source": [
    "pets[1] = 'sea monkeys'\n",
    "pets"
   ]
  },
  {
   "cell_type": "markdown",
   "metadata": {},
   "source": [
    "Sometimes, we know that a certain value is included in a `list` but do not know its `index`. \n",
    "\n",
    "If we want to find out the `index` of a given value, we use the built-in function\n",
    "\n",
    "> `.index()`. "
   ]
  },
  {
   "cell_type": "code",
   "execution_count": null,
   "metadata": {
    "ExecuteTime": {
     "end_time": "2022-06-16T21:25:17.442683Z",
     "start_time": "2022-06-16T21:25:17.430456Z"
    }
   },
   "outputs": [],
   "source": [
    "print(pets)\n",
    "\n",
    "list_index = []\n",
    "for i, my_pet in enumerate(pets):\n",
    "    print(i, my_pet)\n",
    "    if my_pet == 'fish':\n",
    "        list_index.append(i)\n",
    "                          \n",
    "print(list_index)"
   ]
  },
  {
   "cell_type": "markdown",
   "metadata": {},
   "source": [
    "## Adding and removing elements from a list\n",
    "\n",
    "Python provides several methods for changing the contents of a `list`.  We will first look at \n",
    "\n",
    "> `insert()` \n",
    "\n",
    "and \n",
    "\n",
    "> `pop()`\n"
   ]
  },
  {
   "cell_type": "code",
   "execution_count": null,
   "metadata": {
    "ExecuteTime": {
     "end_time": "2022-06-16T21:26:06.174685Z",
     "start_time": "2022-06-16T21:26:06.161230Z"
    }
   },
   "outputs": [],
   "source": [
    "pets.insert(5, 'leopard')\n",
    "pets"
   ]
  },
  {
   "cell_type": "markdown",
   "metadata": {},
   "source": [
    "**Damn you 'Tiger King'!**  It is illegal to have leopards as pets. \n",
    "\n",
    "Better to take it out from our `list`."
   ]
  },
  {
   "cell_type": "code",
   "execution_count": null,
   "metadata": {
    "ExecuteTime": {
     "end_time": "2022-09-15T22:15:15.447177Z",
     "start_time": "2022-09-15T22:15:15.440515Z"
    }
   },
   "outputs": [],
   "source": [
    "illegal_pet = pets.pop(5)\n",
    "print( illegal_pet )\n",
    "print( pets )"
   ]
  },
  {
   "cell_type": "markdown",
   "metadata": {},
   "source": [
    "Notice how popping the item at a certain index, returns the value of the item.  \n",
    "\n",
    "A limitation of `.pop()` is that we must know the index of the value we want to remove. \n",
    "\n",
    "If we do not have that knowledge, then we can use the function `.remove()`"
   ]
  },
  {
   "cell_type": "code",
   "execution_count": null,
   "metadata": {
    "ExecuteTime": {
     "end_time": "2022-09-15T22:15:17.494710Z",
     "start_time": "2022-09-15T22:15:17.487497Z"
    }
   },
   "outputs": [],
   "source": [
    "pets.insert(2, 'hamster')\n",
    "print( pets )\n",
    "\n",
    "removed_pet = pets.remove('hamster')\n",
    "print( removed_pet ) \n",
    "print( pets )"
   ]
  },
  {
   "cell_type": "markdown",
   "metadata": {},
   "source": [
    "Notice how the function `.remove()` returns `None`. This makes sense since we already know the value we are removing.\n",
    "\n",
    "Notice also that `.remove()` will only remove the **first** instance of the value in a `list`. If there is more than one identical item that you want to remove, then you need to use remove multiple times.\n",
    "\n",
    "But remember that if you try to remove an item that does not exist, there will be an error."
   ]
  },
  {
   "cell_type": "code",
   "execution_count": null,
   "metadata": {
    "ExecuteTime": {
     "end_time": "2022-09-15T22:15:19.161599Z",
     "start_time": "2022-09-15T22:15:19.135330Z"
    }
   },
   "outputs": [],
   "source": [
    "pets.remove('hamster')\n",
    "pets"
   ]
  },
  {
   "cell_type": "markdown",
   "metadata": {},
   "source": [
    ".\n",
    "\n",
    "\n",
    "Another way to remove elements from a list is with the command `del`. \n",
    "\n",
    "`del` is a sort of nuclear option. If you do not provide an `index`,  it will delete the **entire** `list` from memory! \n",
    "\n",
    "**Be careful when using `del`**."
   ]
  },
  {
   "cell_type": "code",
   "execution_count": null,
   "metadata": {
    "ExecuteTime": {
     "end_time": "2022-09-15T22:15:24.221271Z",
     "start_time": "2022-09-15T22:15:24.213300Z"
    }
   },
   "outputs": [],
   "source": [
    "del pets[-1]\n",
    "pets"
   ]
  },
  {
   "cell_type": "markdown",
   "metadata": {},
   "source": [
    "## Ordering lists\n",
    "\n",
    "`Lists` have other built-in methods too besides the maintenance functions of adding and deleting elements. \n",
    "\n",
    "For example, you can reverse a `list` in place..."
   ]
  },
  {
   "cell_type": "code",
   "execution_count": null,
   "metadata": {
    "ExecuteTime": {
     "end_time": "2022-09-15T22:15:34.672991Z",
     "start_time": "2022-09-15T22:15:34.665403Z"
    }
   },
   "outputs": [],
   "source": [
    "print(f\"My initial pets are:\\n  {pets}\\n\")\n",
    "\n",
    "print(pets.reverse(), '\\n')\n",
    "\n",
    "print(f\"My reversely ordered pets are:\\n  {pets}\\n\")"
   ]
  },
  {
   "cell_type": "markdown",
   "metadata": {},
   "source": [
    "The items in a `list` can also be sorted.  \n",
    "\n",
    "If the items are `numbers`, then the standard ordering of numbers is used. \n",
    "\n",
    "If the items are `strings`, then alphanumeric ordering is used."
   ]
  },
  {
   "cell_type": "code",
   "execution_count": null,
   "metadata": {
    "ExecuteTime": {
     "end_time": "2022-09-15T22:15:42.040558Z",
     "start_time": "2022-09-15T22:15:42.034522Z"
    }
   },
   "outputs": [],
   "source": [
    "print(f\"My pets are:\\n  {pets}\\n\")\n",
    "\n",
    "print(pets.sort(), '\\n')\n",
    "\n",
    "print(f\"My sorted pets are:\\n  {pets}\\n\")\n",
    "\n"
   ]
  },
  {
   "cell_type": "markdown",
   "metadata": {},
   "source": [
    "Notice that the methods `.sort()` and `.reverse()` act on the variable directly.  \n",
    "\n",
    "If you want to keep the original variable unchanged, you must use the built-in functions  \n",
    "\n",
    "> `sorted()`, `reversed()`. "
   ]
  },
  {
   "cell_type": "code",
   "execution_count": null,
   "metadata": {
    "ExecuteTime": {
     "end_time": "2022-09-15T22:15:48.188106Z",
     "start_time": "2022-09-15T22:15:48.177779Z"
    }
   },
   "outputs": [],
   "source": [
    "print( type(reversed(pets)) )"
   ]
  },
  {
   "cell_type": "markdown",
   "metadata": {},
   "source": [
    "The **output** of the function `reversed()` is not a `list`. \n",
    "\n",
    "It is what Python calls an `iterator`, this is just a rule for generating values from some input. If your list is small, you will not notice any difference in performance.  However, if you were to perform the operation on a list storing many MBs of the data, then creating a copy of a reversed list would require a lot more computing time and memory.\n",
    "\n",
    "For small list, and in order to obtain a human readable printout, we can cast the `iterator` as a `list`. "
   ]
  },
  {
   "cell_type": "code",
   "execution_count": null,
   "metadata": {
    "ExecuteTime": {
     "end_time": "2022-09-15T22:15:52.978356Z",
     "start_time": "2022-09-15T22:15:52.972187Z"
    }
   },
   "outputs": [],
   "source": [
    "print(f\"Reversed list {list( reversed(pets) )}\\n\" )\n",
    "\n",
    "print(f\"The original list {pets}\\n\" )"
   ]
  },
  {
   "cell_type": "markdown",
   "metadata": {},
   "source": [
    "You can avoid the cost creating the list when casting by using a `for` loop to print each item."
   ]
  },
  {
   "cell_type": "markdown",
   "metadata": {},
   "source": [
    "# Nesting\n",
    "\n",
    "So far, most of the items that we have added to our collections have been `string`, `float`, or `integer` data types. \n",
    "\n",
    "**However, the items in a collection can be collections themselves.**\n",
    "\n",
    "Indeed, we can include any data type inside a `tuple`, a `list`, or a `set`.  This process is called **nesting** and it is a bit like Russian dolls.\n",
    "\n",
    "<img style=\"float:center\" src='Images/nesting_dolls.jpg' width='400' ></img>\n",
    "\n",
    "Let's see nesting at play.  Going back to our pet store, assume that our costumers are picky and care about the breed of the dog they want to buy.\n"
   ]
  },
  {
   "cell_type": "code",
   "execution_count": null,
   "metadata": {
    "ExecuteTime": {
     "end_time": "2022-06-16T21:41:23.631867Z",
     "start_time": "2022-06-16T21:41:23.620677Z"
    }
   },
   "outputs": [],
   "source": [
    "print( pets )\n",
    "\n",
    "# Get rid of dogs\n",
    "#\n",
    "pets.remove('dogs') \n",
    "\n",
    "# Define dog breeds\n",
    "#\n",
    "dog_breeds = ['bulldog', 'terrier', 'greyhound']\n",
    "\n",
    "pets.append(dog_breeds)  \n",
    "pets\n"
   ]
  },
  {
   "cell_type": "markdown",
   "metadata": {},
   "source": [
    "We see that the last position of the list `pets` is now occupied by the list of dog breeds. That means that we can access the usual way."
   ]
  },
  {
   "cell_type": "code",
   "execution_count": null,
   "metadata": {
    "ExecuteTime": {
     "end_time": "2022-06-16T21:41:35.141001Z",
     "start_time": "2022-06-16T21:41:35.135070Z"
    }
   },
   "outputs": [],
   "source": [
    "pets[-1]"
   ]
  },
  {
   "cell_type": "markdown",
   "metadata": {},
   "source": [
    "How can we now access a specific dog breed? \n",
    "\n",
    "The dog breeds are in a list, so we are able to access any element in that list using an index. We just need to know the name of the list. The name is, of course, `pets[-1]`."
   ]
  },
  {
   "cell_type": "code",
   "execution_count": null,
   "metadata": {
    "ExecuteTime": {
     "end_time": "2022-06-16T21:41:44.209660Z",
     "start_time": "2022-06-16T21:41:44.201368Z"
    }
   },
   "outputs": [],
   "source": [
    "(pets[-1])[0]\n"
   ]
  },
  {
   "cell_type": "markdown",
   "metadata": {},
   "source": [
    "**The parentheses in the command above are not really necessary**. They are there just to help visualize what is going on.\n",
    "\n",
    "To access elements in nested `lists`, we just need to keep adding `[]` in order to navigated deeper and deeper into the nested collection of lists. When Python navigates through your list variable it will always read the indices from left to right, with the leftmost `[]` corresponding to the topmost level.\n",
    "\n",
    "<img style=\"float:center\" src='Images/nesting.png' width='400'></img>\n",
    "\n",
    "Also, we can change the values inside our nested lists just like at our topmost `list` and use all of our normal `list` functions that we used before.\n",
    "\n"
   ]
  },
  {
   "cell_type": "code",
   "execution_count": null,
   "metadata": {},
   "outputs": [],
   "source": [
    "pets[-1][0] = 'golden retriever'\n",
    "pets\n",
    "\n",
    "pets[-1].append('pug')\n",
    "pets"
   ]
  },
  {
   "cell_type": "markdown",
   "metadata": {},
   "source": [
    "## The subtleties of copying nested structures\n",
    "\n",
    "Imagine that we open a second pet store, and that initially we will be having the same inventory as in the first store.  As all programmers worth their name, we want to minimize the amount of work we do. Thus, we would never add the names to the list one by one.  We just want to copy the list with the inventory from the first store.\n"
   ]
  },
  {
   "cell_type": "code",
   "execution_count": null,
   "metadata": {
    "ExecuteTime": {
     "end_time": "2022-06-16T21:46:45.689674Z",
     "start_time": "2022-06-16T21:46:45.683431Z"
    }
   },
   "outputs": [],
   "source": [
    "store_one = pets\n",
    "store_two = store_one\n",
    "print( store_one )\n",
    "print()\n",
    "print( store_two )\n"
   ]
  },
  {
   "cell_type": "markdown",
   "metadata": {},
   "source": [
    "Business is going well at store one. We sold the `pug`, and acquired a `cat` and a `gerbil`:"
   ]
  },
  {
   "cell_type": "code",
   "execution_count": null,
   "metadata": {
    "ExecuteTime": {
     "end_time": "2022-06-16T21:47:07.282034Z",
     "start_time": "2022-06-16T21:47:07.273653Z"
    }
   },
   "outputs": [],
   "source": [
    "store_one[-1].remove('terrier')\n",
    "store_one.extend(['cat', 'gerbil'])"
   ]
  },
  {
   "cell_type": "code",
   "execution_count": null,
   "metadata": {
    "ExecuteTime": {
     "end_time": "2022-06-16T21:47:11.519871Z",
     "start_time": "2022-06-16T21:47:11.513737Z"
    }
   },
   "outputs": [],
   "source": [
    "print( store_one )\n",
    "print( store_two )"
   ]
  },
  {
   "cell_type": "markdown",
   "metadata": {},
   "source": [
    "**Both inventories were changed!** \n",
    "\n",
    "The reason is that the statement\n",
    "\n",
    "> `store_two = store_one`\n",
    "\n",
    "did not copy the values in the collection labeled by `store_one` to a new place in memory labeled by `store_two`. \n",
    "\n",
    "It just created a new name, `store_two`, pointing to the same position in memory as `store_one`. \n",
    "\n",
    "If you actually want to copy the values in the collection labeled by `store_one` to a new place in memory, then you have to use one of the built-in functions \n",
    "\n",
    "> `copy()` or  `deepcopy()`. \n",
    "\n",
    "That there are important differences between the two functions. `copy()` does not make copies of nested structures. That is, if you use `copy()` on a collection that contains other collections, the other collections are not being copied to a different location in memory.\n",
    "\n",
    "**Every distribution of Python includes these two functions, but unlike some other built-in functions, we have to import them before we can use them!**"
   ]
  },
  {
   "cell_type": "code",
   "execution_count": null,
   "metadata": {
    "ExecuteTime": {
     "end_time": "2022-06-16T21:47:28.660708Z",
     "start_time": "2022-06-16T21:47:28.652743Z"
    }
   },
   "outputs": [],
   "source": [
    "from copy import copy, deepcopy\n",
    "\n",
    "store_one = ['beagle', 'terrier', 'bulldog', 'fish']\n",
    "store_two = copy(store_one)\n",
    "store_one.remove('beagle')\n",
    "store_one.extend(['parrot', 'gerbil'])\n",
    "\n",
    "print('Store One', store_one)\n",
    "print('Store Two', store_two)"
   ]
  },
  {
   "cell_type": "markdown",
   "metadata": {},
   "source": [
    "For now, do not worry about the meaning of the `from ... import ...` command. \n",
    "\n",
    "*Did you notice that you already used it? Check the first cell of this notebook and you will find `import string`. The command `import` loads functions and attributes from a library.  We used it so that we could gain access to, for example, `string.punctuation`!  If we just want to gain access to one `punctuation`, we could have executed `from string import punctuation`.*\n",
    "\n",
    "\n",
    "Be aware of the subtleties when copying collections, especially nested collections since you may not be really doing what you intend to. \n",
    "\n",
    "Accidentally setting one variable name equal to another without noticing it is a way for logical errors to creep into your programs. \n",
    "\n",
    "**Always be careful! Always test your code!**"
   ]
  },
  {
   "cell_type": "markdown",
   "metadata": {},
   "source": [
    "# Exercises"
   ]
  },
  {
   "cell_type": "markdown",
   "metadata": {},
   "source": [
    "## I have a string called pet_shop that has all of the different pet varieties in a store."
   ]
  },
  {
   "cell_type": "code",
   "execution_count": null,
   "metadata": {
    "ExecuteTime": {
     "end_time": "2022-01-10T21:00:41.069690Z",
     "start_time": "2022-01-10T21:00:41.049887Z"
    }
   },
   "outputs": [],
   "source": [
    "pet_shop = 'dog cat hedgehog fish bird'"
   ]
  },
  {
   "cell_type": "markdown",
   "metadata": {},
   "source": [
    "Capitalize all of the different pet types in a single line"
   ]
  },
  {
   "cell_type": "code",
   "execution_count": null,
   "metadata": {
    "ExecuteTime": {
     "end_time": "2022-01-10T21:01:10.116366Z",
     "start_time": "2022-01-10T21:01:10.103682Z"
    }
   },
   "outputs": [],
   "source": []
  },
  {
   "cell_type": "markdown",
   "metadata": {},
   "source": [
    "Print out a single `g` from `pet_shop`"
   ]
  },
  {
   "cell_type": "code",
   "execution_count": null,
   "metadata": {
    "ExecuteTime": {
     "end_time": "2022-01-10T21:01:43.927087Z",
     "start_time": "2022-01-10T21:01:43.905372Z"
    }
   },
   "outputs": [],
   "source": []
  },
  {
   "cell_type": "markdown",
   "metadata": {},
   "source": [
    "Print out just `hedgehog`"
   ]
  },
  {
   "cell_type": "code",
   "execution_count": null,
   "metadata": {
    "ExecuteTime": {
     "end_time": "2022-01-10T21:02:03.749040Z",
     "start_time": "2022-01-10T21:02:03.715308Z"
    }
   },
   "outputs": [],
   "source": []
  },
  {
   "cell_type": "markdown",
   "metadata": {},
   "source": [
    "Print out `gohegdeh`"
   ]
  },
  {
   "cell_type": "code",
   "execution_count": null,
   "metadata": {
    "ExecuteTime": {
     "end_time": "2022-01-10T21:02:28.149964Z",
     "start_time": "2022-01-10T21:02:28.134019Z"
    }
   },
   "outputs": [],
   "source": []
  },
  {
   "cell_type": "markdown",
   "metadata": {},
   "source": [
    "Just by counting characters, can you extract the number of dogs and cats from a string? \n"
   ]
  },
  {
   "cell_type": "code",
   "execution_count": null,
   "metadata": {
    "ExecuteTime": {
     "end_time": "2022-09-15T22:17:06.183794Z",
     "start_time": "2022-09-15T22:17:06.175696Z"
    }
   },
   "outputs": [],
   "source": [
    "shop_description = \"\"\"Our pet shop is wonderful!\n",
    "We currently have 8 dogs and 4 cats for sale.\"\"\"\n",
    "\n",
    "cat_counter = \n",
    "dog_counter = "
   ]
  },
  {
   "cell_type": "markdown",
   "metadata": {},
   "source": [
    "How many more cats do I have than cats?"
   ]
  },
  {
   "cell_type": "code",
   "execution_count": null,
   "metadata": {},
   "outputs": [],
   "source": []
  },
  {
   "cell_type": "markdown",
   "metadata": {},
   "source": [
    "Damn. Is that negative?"
   ]
  },
  {
   "cell_type": "markdown",
   "metadata": {
    "ExecuteTime": {
     "end_time": "2022-03-30T20:46:59.460395Z",
     "start_time": "2022-03-30T20:46:59.435393Z"
    }
   },
   "source": [
    "## You are now the manager of the pet store! \n",
    "\n",
    "I'm going to need you to manage the inventory of pets that we have at the store.\n",
    "\n"
   ]
  },
  {
   "cell_type": "code",
   "execution_count": null,
   "metadata": {},
   "outputs": [],
   "source": [
    "pet_store = ['beagle', 'parrot', 'iguana', 'gerbil', 'chameleon', 'fish']"
   ]
  },
  {
   "cell_type": "markdown",
   "metadata": {},
   "source": [
    "We've sold out of `chameleon` and `iguana`, you need to remove them from the inventory. Use both `remove()` and `del` to do so.\n",
    "\n"
   ]
  },
  {
   "cell_type": "code",
   "execution_count": null,
   "metadata": {},
   "outputs": [],
   "source": []
  },
  {
   "cell_type": "markdown",
   "metadata": {},
   "source": [
    "We just got in a `terrier`, `chameleon`, `bulldog`, and another `terrier`. Please add all of those animals to the `pet_store`.\n"
   ]
  },
  {
   "cell_type": "code",
   "execution_count": null,
   "metadata": {},
   "outputs": [],
   "source": []
  },
  {
   "cell_type": "markdown",
   "metadata": {},
   "source": [
    "How many `terrier` dogs do we have in the store? (Hint: the `list` data type has a built-in function called `count()`)"
   ]
  },
  {
   "cell_type": "code",
   "execution_count": null,
   "metadata": {},
   "outputs": [],
   "source": []
  },
  {
   "cell_type": "markdown",
   "metadata": {},
   "source": [
    "As an owner, I actually have a very bad obsessive-compulsive disorder. Could you please reverse-alphabetically sort the pet types at the store? Thanks so much! Also going to need you to work this entire weekend. For free.\n"
   ]
  },
  {
   "cell_type": "code",
   "execution_count": null,
   "metadata": {},
   "outputs": [],
   "source": []
  },
  {
   "cell_type": "markdown",
   "metadata": {},
   "source": [
    "Could you print from `beagle` to `fish` but display it in alphabetical order?\n"
   ]
  },
  {
   "cell_type": "code",
   "execution_count": null,
   "metadata": {},
   "outputs": [],
   "source": []
  },
  {
   "cell_type": "markdown",
   "metadata": {},
   "source": [
    "What is the index of `parrot`?"
   ]
  },
  {
   "cell_type": "code",
   "execution_count": null,
   "metadata": {},
   "outputs": [],
   "source": []
  }
 ],
 "metadata": {
  "anaconda-cloud": {},
  "kernelspec": {
   "display_name": "base",
   "language": "python",
   "name": "base"
  },
  "language_info": {
   "codemirror_mode": {
    "name": "ipython",
    "version": 3
   },
   "file_extension": ".py",
   "mimetype": "text/x-python",
   "name": "python",
   "nbconvert_exporter": "python",
   "pygments_lexer": "ipython3",
   "version": "3.9.12"
  },
  "latex_envs": {
   "LaTeX_envs_menu_present": true,
   "autoclose": false,
   "autocomplete": true,
   "bibliofile": "biblio.bib",
   "cite_by": "apalike",
   "current_citInitial": 1,
   "eqLabelWithNumbers": true,
   "eqNumInitial": 1,
   "hotkeys": {
    "equation": "Ctrl-E",
    "itemize": "Ctrl-I"
   },
   "labels_anchors": false,
   "latex_user_defs": false,
   "report_style_numbering": false,
   "user_envs_cfg": false
  },
  "toc": {
   "base_numbering": 1,
   "nav_menu": {},
   "number_sections": true,
   "sideBar": true,
   "skip_h1_title": false,
   "title_cell": "Table of Contents",
   "title_sidebar": "Contents",
   "toc_cell": false,
   "toc_position": {
    "height": "calc(100% - 180px)",
    "left": "10px",
    "top": "150px",
    "width": "196.667px"
   },
   "toc_section_display": true,
   "toc_window_display": true
  },
  "varInspector": {
   "cols": {
    "lenName": 16,
    "lenType": 16,
    "lenVar": 40
   },
   "kernels_config": {
    "python": {
     "delete_cmd_postfix": "",
     "delete_cmd_prefix": "del ",
     "library": "var_list.py",
     "varRefreshCmd": "print(var_dic_list())"
    },
    "r": {
     "delete_cmd_postfix": ") ",
     "delete_cmd_prefix": "rm(",
     "library": "var_list.r",
     "varRefreshCmd": "cat(var_dic_list()) "
    }
   },
   "types_to_exclude": [
    "module",
    "function",
    "builtin_function_or_method",
    "instance",
    "_Feature"
   ],
   "window_display": false
  }
 },
 "nbformat": 4,
 "nbformat_minor": 1
}
