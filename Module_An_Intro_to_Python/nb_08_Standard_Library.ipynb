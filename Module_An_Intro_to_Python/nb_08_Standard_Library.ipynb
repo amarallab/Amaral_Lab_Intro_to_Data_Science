{
 "cells": [
  {
   "cell_type": "markdown",
   "metadata": {},
   "source": [
    "# Synopsis\n",
    "\n",
    "One of the strengths of `Python` is the sheer amount of code that has been included by default in its distribution. In this unit, we will learn:\n",
    "\n",
    "1. What libraries are\n",
    "2. How to handle importing a library\n",
    "3. Usage of several important, basic Python libraries (`math`, `glob`, `random`, `Collections`, `os`, `time`, `datetime`, `operator`)\n",
    "\n",
    "This notebook draws heavily from the following references: \n",
    "\n",
    "* [Brief Tour of the Standard Library](https://docs.python.org/3/tutorial/stdlib.html)\n",
    "* [The Python Standard Library - Index](https://docs.python.org/3/library/index.html)\n",
    "* [Think Python](http://www.greenteapress.com/thinkpython/)\n",
    "\n",
    "If you're looking for more after this lecture or after this course, they are good starting points."
   ]
  },
  {
   "cell_type": "markdown",
   "metadata": {},
   "source": [
    "# Read libraries"
   ]
  },
  {
   "cell_type": "code",
   "execution_count": null,
   "metadata": {
    "ExecuteTime": {
     "end_time": "2022-09-07T20:06:14.835418Z",
     "start_time": "2022-09-07T20:06:14.828297Z"
    },
    "scrolled": true
   },
   "outputs": [],
   "source": [
    "from IPython.core.display import HTML\n",
    "from IPython.lib.display import YouTubeVideo"
   ]
  },
  {
   "cell_type": "markdown",
   "metadata": {},
   "source": [
    "# Videos"
   ]
  },
  {
   "cell_type": "code",
   "execution_count": null,
   "metadata": {
    "ExecuteTime": {
     "end_time": "2022-09-07T20:06:19.510692Z",
     "start_time": "2022-09-07T20:06:19.387426Z"
    }
   },
   "outputs": [],
   "source": [
    "vid = YouTubeVideo('BVXv0-1Rcc8', width = 600)\n",
    "display(vid)"
   ]
  },
  {
   "cell_type": "code",
   "execution_count": null,
   "metadata": {
    "ExecuteTime": {
     "end_time": "2022-09-07T20:06:24.616040Z",
     "start_time": "2022-09-07T20:06:24.549147Z"
    }
   },
   "outputs": [],
   "source": [
    "vid = YouTubeVideo('RjMbCUpvIgw', width = 600)\n",
    "display(vid)"
   ]
  },
  {
   "cell_type": "markdown",
   "metadata": {},
   "source": [
    "# Libraries\n",
    "\n",
    "Of all the reasons to use `Python`, number one  (by a landslide) is that the community of `Python` programmers provides a ton of support. Most challenges that you will encounter have already been solved by someone else, it's just a matter of knowing how to find and interpret the posted solutions.\n",
    "\n",
    "Prepare to become intricately familiar with [stackoverflow](https://stackoverflow.com), a message board where people post a dizzying array of problems and solutions that are ranked by the community in terms of their helpfulness. And if you're not already proficient at articulating the precise nature of your problem when searching with [Google](https://www.google.com), prepare to learn. \n",
    "\n",
    "Even better, for some tasks,  `Python` programmers released their source code in the forms of a `library` that you can install in your computer. As you would expect, not all libraries that have been written by someone out there will be included in a  `Python` release. You will likely write your own libraries as you work on projects.\n",
    "\n"
   ]
  },
  {
   "cell_type": "markdown",
   "metadata": {
    "execution": {
     "iopub.execute_input": "2024-07-26T11:09:48.582947Z",
     "iopub.status.busy": "2024-07-26T11:09:48.582173Z",
     "iopub.status.idle": "2024-07-26T11:09:48.600194Z",
     "shell.execute_reply": "2024-07-26T11:09:48.599321Z",
     "shell.execute_reply.started": "2024-07-26T11:09:48.582895Z"
    }
   },
   "source": [
    "## Responsibility and maintenance\n",
    "\n",
    "When thinking about libraries or even code you see somewhere, it is important to think about **responsibility** and **maintenance**. Responsibility refers to the individuals or organizations releasing the code.  Is this a beginner or an established organizations such as the **Python Software Foundation**? The Python Software Foundation is much more likely to release tested, validated, well-written code, to have a system for users to reports **bugs**, and to resolve reported bugs.\n",
    "\n",
    "Maintenance refers to the process by which code is made compatible with new releases of other code that it depends upon.  Think of any piece of software as a building made of bricks. Each brick is another piece of code that the building depends upon for stability.  What makes the situation truly complex is that bricks are always being remade. If the building does not respond to changes in the bricks, it will just collapse.\n",
    "\n",
    "Any release of `Python` will include the so-called `Standard Library`. A key principle with the functions included in the `Standard Library` is **trust** -- they will work and will work well. However, `Standard Library` is quite limited in scope. That is the reason why we have asked you to downloaded the pun-ly named `Anaconda` is because it includes many libraries that have been vetted and that are known to work well together and to be well maintained. \n",
    "\n",
    "**When you find an answer to a question on stackoverflow, your confidence in that answer should be tempered and the results tested. If it's in the `Python Standard Library`, thousands of people have already tested it and it works. The same goes for some other very common packages, such as those included in `Anaconda`**\n",
    "\n",
    "Importantly, the source code of all those libraries is distributed widely.  You can read it, check it, learn from it. You should avoid random libraries from unknown users whose source code is not distributed. **When you run them, you are giving that code your permissions to change things in the computer.  They could encrypt or delete your data, steal your personal information, take control of your camera and microphone, attack sites in the Internet under your name, damage your hardware.** \n"
   ]
  },
  {
   "cell_type": "markdown",
   "metadata": {},
   "source": [
    "# Using the `Python Standard Library`\n",
    "\n",
    "I've said the words \"library\" and \"libraries\" quite a few times now, but what are they? Think of a library as a collection of useful functions all relating to a generally similar set of tasks. You might have seen code like this:\n",
    "\n",
    "```\n",
    "import math\n",
    "from math import log\n",
    "import math as m\n",
    "from math import *\n",
    "```\n",
    "We'll look at each of these in turn to see what is going on here. \n",
    "\n",
    "Suppose that I was interested in knowing the logarithm of the number 348. I might type:"
   ]
  },
  {
   "cell_type": "code",
   "execution_count": null,
   "metadata": {
    "ExecuteTime": {
     "end_time": "2022-07-06T19:30:01.259749Z",
     "start_time": "2022-07-06T19:30:00.919755Z"
    }
   },
   "outputs": [],
   "source": [
    "log(348)"
   ]
  },
  {
   "cell_type": "markdown",
   "metadata": {},
   "source": [
    "And you should see a `NameError`, because 'normal' `Python` doesn't know what `log` means. We never defined it or told it that when I type `log(number)` what I really mean is that I want the exponent to which another fixed value, the base, must be raised to produce that number (phew). \n",
    "\n",
    "We could labor and think about _how_ to write that code but logarithms are pretty common right? Surely someone else has figured this out already. Enter `math` [Package documentation](https://docs.python.org/3/library/math.html)\n",
    "\n",
    "Our old friend `math` is as good of a starting point as any. We'll learn a lot more about complex mathematics and statistics libraries later. But for now, you'll need some basic math aside from +-*/ (which should all work as expected!)."
   ]
  },
  {
   "cell_type": "code",
   "execution_count": null,
   "metadata": {
    "ExecuteTime": {
     "end_time": "2022-07-06T19:30:29.022218Z",
     "start_time": "2022-07-06T19:30:29.012402Z"
    }
   },
   "outputs": [],
   "source": [
    "import math"
   ]
  },
  {
   "cell_type": "code",
   "execution_count": null,
   "metadata": {
    "ExecuteTime": {
     "end_time": "2022-07-06T19:30:29.543775Z",
     "start_time": "2022-07-06T19:30:29.513953Z"
    },
    "scrolled": true
   },
   "outputs": [],
   "source": [
    "log(348)"
   ]
  },
  {
   "cell_type": "markdown",
   "metadata": {},
   "source": [
    "But still we have a `NameError`. \n",
    "\n",
    "**What's going on here?** \n",
    "\n",
    "Well to access all the cool functions in `math` we need to first tell python what we really mean when we say `log` is a specific function written in the math library:"
   ]
  },
  {
   "cell_type": "code",
   "execution_count": null,
   "metadata": {
    "ExecuteTime": {
     "end_time": "2022-07-06T19:30:31.037129Z",
     "start_time": "2022-07-06T19:30:31.024258Z"
    },
    "scrolled": true
   },
   "outputs": [],
   "source": [
    "math.log(348)"
   ]
  },
  {
   "cell_type": "markdown",
   "metadata": {},
   "source": [
    "Voila! 5.8522024... \n",
    "\n",
    "Suppose, however, that we thought that was a little tedious to type over and over again. And all we really need the `math` library for is `log`, we don't care about all the other cool stuff that it has. Well, we could just type:"
   ]
  },
  {
   "cell_type": "code",
   "execution_count": null,
   "metadata": {
    "ExecuteTime": {
     "end_time": "2022-07-06T19:31:43.467511Z",
     "start_time": "2022-07-06T19:31:43.458156Z"
    }
   },
   "outputs": [],
   "source": [
    "from math import log"
   ]
  },
  {
   "cell_type": "markdown",
   "metadata": {},
   "source": [
    "And now `log()` should work out just fine:"
   ]
  },
  {
   "cell_type": "code",
   "execution_count": null,
   "metadata": {
    "ExecuteTime": {
     "end_time": "2022-07-06T19:31:46.481521Z",
     "start_time": "2022-07-06T19:31:46.470631Z"
    }
   },
   "outputs": [],
   "source": [
    "log"
   ]
  },
  {
   "cell_type": "code",
   "execution_count": null,
   "metadata": {
    "ExecuteTime": {
     "end_time": "2022-07-06T19:31:47.628134Z",
     "start_time": "2022-07-06T19:31:47.621319Z"
    },
    "scrolled": true
   },
   "outputs": [],
   "source": [
    "log(348)"
   ]
  },
  {
   "cell_type": "markdown",
   "metadata": {},
   "source": [
    "To assure ourselves that these two things are entirely equivalent:"
   ]
  },
  {
   "cell_type": "code",
   "execution_count": null,
   "metadata": {
    "ExecuteTime": {
     "end_time": "2022-07-06T19:31:59.296184Z",
     "start_time": "2022-07-06T19:31:59.283474Z"
    },
    "scrolled": true
   },
   "outputs": [],
   "source": [
    "math.log(348) == log(348)"
   ]
  },
  {
   "cell_type": "markdown",
   "metadata": {},
   "source": [
    "<br>\n",
    "\n",
    "<br>\n",
    "\n",
    "**Indeed** "
   ]
  },
  {
   "cell_type": "code",
   "execution_count": null,
   "metadata": {
    "ExecuteTime": {
     "end_time": "2022-07-06T19:32:15.598397Z",
     "start_time": "2022-07-06T19:32:15.589294Z"
    }
   },
   "outputs": [],
   "source": [
    "math.log == log"
   ]
  },
  {
   "cell_type": "markdown",
   "metadata": {},
   "source": [
    "How you choose to import functions from a library might depend a lot on your project. You'll also frequently see something like this:"
   ]
  },
  {
   "cell_type": "code",
   "execution_count": null,
   "metadata": {
    "ExecuteTime": {
     "end_time": "2023-08-04T18:02:10.853762Z",
     "start_time": "2023-08-04T18:02:10.842246Z"
    }
   },
   "outputs": [],
   "source": [
    "import numpy as np"
   ]
  },
  {
   "cell_type": "markdown",
   "metadata": {},
   "source": [
    "All we did was rename `numpy`. This is an area where following the almost universal convention is, for all purposes, mandatory.  If you deviate from the convention, it will make your code harder to read. Image reading a book in which the word `the` had been replace with `143`...\n",
    "\n",
    "> It was 143 best of times, it was 143 worst of times, it was 143 age of wisdom, it was 143 age of foolishness, it was 143 epoch of belief, it was 143 epoch of incredulity, it was 143 season of Light, it was 143 season of Darkness, it was 143 spring of hope, it was 143 winter of despair, we had everything before us, we had nothing before us, we were all going direct to Heaven, we were all going direct 143 o143r way - in short, 143 period was so far like 143 present period, that some of its noisiest authorities insisted on its being received, for good or for evil, in 143 superlative degree of comparison only."
   ]
  },
  {
   "cell_type": "code",
   "execution_count": null,
   "metadata": {
    "ExecuteTime": {
     "end_time": "2022-07-06T19:33:38.424746Z",
     "start_time": "2022-07-06T19:33:38.418388Z"
    },
    "scrolled": true
   },
   "outputs": [],
   "source": [
    "np.log(348)"
   ]
  },
  {
   "cell_type": "code",
   "execution_count": null,
   "metadata": {
    "ExecuteTime": {
     "end_time": "2022-07-06T19:33:41.192481Z",
     "start_time": "2022-07-06T19:33:41.179601Z"
    },
    "scrolled": true
   },
   "outputs": [],
   "source": [
    "np.log(348) == math.log(348)"
   ]
  },
  {
   "cell_type": "markdown",
   "metadata": {},
   "source": [
    "<br>\n",
    "\n",
    "<br>\n",
    "\n",
    "\n",
    "**However**"
   ]
  },
  {
   "cell_type": "code",
   "execution_count": null,
   "metadata": {
    "ExecuteTime": {
     "end_time": "2022-07-06T19:33:53.882009Z",
     "start_time": "2022-07-06T19:33:53.869619Z"
    }
   },
   "outputs": [],
   "source": [
    "np.log == math.log"
   ]
  },
  {
   "cell_type": "markdown",
   "metadata": {},
   "source": [
    "**THIS IS HERE JUST FOR INFORMATION. DON'T DO IT!** \n",
    "\n",
    "There is a final way of importing libraries that you might see, but we're not going to actually run the code because it's the worst.\n",
    "```\n",
    "from math import *\n",
    "```\n",
    "You might be able to guess what this is doing and some of you might see why it's a terrible idea. Instead of having to type `math.log()`, importing in this manner will let us access every function in math directly by name `log()`, `exp()`, etc. This might seem nice and easy, but do you know everything that is in the `math` library? It might be huge. And what if my code is analyzing the revenues of a timber company and I happen to have a variable called `log` that refers to the price of a fallen tree. Depending on the order of when I run my code and my imports, `log` might either refer to a function or my variable. If I always use \n",
    "```\n",
    "from math import log\n",
    "```\n",
    "I have the same problem in that I've defined `log` but I'm explicitly reminded of the name of the function that I'm importing. And if I was a timber company I might see the err in my ways. But by using the first syntax:\n",
    "```\n",
    "from math import *\n",
    "```\n",
    "I'm importing perhaps hundreds or thousands of functions whose name I don't even know.\n",
    "\n",
    "> you'll see `from math import *` in your googling. Don't do it. "
   ]
  },
  {
   "cell_type": "markdown",
   "metadata": {},
   "source": [
    "## Documentation\n",
    "So we found the logarithm of 348 a number of ways. But the astute among you may ask, logarithm of base what? Well, Jupyter (Ipython Notebook) can be really helpful here. Try typing:"
   ]
  },
  {
   "cell_type": "code",
   "execution_count": null,
   "metadata": {
    "ExecuteTime": {
     "end_time": "2022-07-06T19:35:33.572964Z",
     "start_time": "2022-07-06T19:35:33.562293Z"
    }
   },
   "outputs": [],
   "source": [
    "math.log?"
   ]
  },
  {
   "cell_type": "markdown",
   "metadata": {},
   "source": [
    "<br>\n",
    "\n",
    "<br>\n",
    "\n",
    "A helpful little box should have popped up explaining a bit about math.log (which you can close by clicking the x in the upper right corner).\n",
    "\n",
    "We could also type `math.log` then Shift+Tab. Try that below:"
   ]
  },
  {
   "cell_type": "code",
   "execution_count": null,
   "metadata": {
    "ExecuteTime": {
     "end_time": "2021-01-22T20:29:47.469849Z",
     "start_time": "2021-01-22T20:29:47.452756Z"
    },
    "scrolled": true
   },
   "outputs": [],
   "source": [
    "math.log()"
   ]
  },
  {
   "cell_type": "markdown",
   "metadata": {},
   "source": [
    "or"
   ]
  },
  {
   "cell_type": "code",
   "execution_count": null,
   "metadata": {
    "ExecuteTime": {
     "end_time": "2022-07-06T19:35:51.037628Z",
     "start_time": "2022-07-06T19:35:51.030786Z"
    },
    "scrolled": true
   },
   "outputs": [],
   "source": [
    "help(math.log)"
   ]
  },
  {
   "cell_type": "markdown",
   "metadata": {},
   "source": [
    "<br>\n",
    "\n",
    "<br>\n",
    "\n",
    "From either of these options we learned that `math.log` needs a number `x`. We could also give it a second number separated by a comma to specify the base. If we don't give that second argument, then it will default to `e`, the natural logarithm."
   ]
  },
  {
   "cell_type": "code",
   "execution_count": null,
   "metadata": {
    "ExecuteTime": {
     "end_time": "2022-07-06T19:36:01.328341Z",
     "start_time": "2022-07-06T19:36:01.314360Z"
    },
    "scrolled": true
   },
   "outputs": [],
   "source": [
    "print(math.log(348))\n",
    "print(math.log(348, 2))\n",
    "print(math.log(348, 10))"
   ]
  },
  {
   "cell_type": "markdown",
   "metadata": {},
   "source": [
    "But is it really the natural logarithm? Let's double check:"
   ]
  },
  {
   "cell_type": "code",
   "execution_count": null,
   "metadata": {
    "ExecuteTime": {
     "end_time": "2022-07-06T19:36:06.839735Z",
     "start_time": "2022-07-06T19:36:06.814559Z"
    },
    "scrolled": true
   },
   "outputs": [],
   "source": [
    "print(math.log(348, e))"
   ]
  },
  {
   "cell_type": "markdown",
   "metadata": {},
   "source": [
    "<br>\n",
    "\n",
    "<br>\n",
    "\n",
    "Ack! Python doesn't know what e is! How do I know whether `math.log` is really using the base `e`?\n",
    "\n",
    "Well `e` is pretty mathy, maybe the math library can help us but how do I know?"
   ]
  },
  {
   "cell_type": "code",
   "execution_count": null,
   "metadata": {
    "ExecuteTime": {
     "end_time": "2022-07-06T19:36:19.672835Z",
     "start_time": "2022-07-06T19:36:19.648707Z"
    },
    "scrolled": true
   },
   "outputs": [],
   "source": [
    "help(math)"
   ]
  },
  {
   "cell_type": "markdown",
   "metadata": {},
   "source": [
    "<br>\n",
    "\n",
    "Remember we could also just have typed `math` and then held down Shift+Tab to get a drop down of some available options. But it looks like `e` is in there somewhere which is just what we want (as is `pi`, `tau`, `inf` and `nan`)."
   ]
  },
  {
   "cell_type": "code",
   "execution_count": null,
   "metadata": {
    "ExecuteTime": {
     "end_time": "2022-07-06T19:36:27.067208Z",
     "start_time": "2022-07-06T19:36:27.052807Z"
    },
    "scrolled": true
   },
   "outputs": [],
   "source": [
    "math.e"
   ]
  },
  {
   "cell_type": "markdown",
   "metadata": {},
   "source": [
    "Success! Now is math.log really defaulting to base `e`?"
   ]
  },
  {
   "cell_type": "code",
   "execution_count": null,
   "metadata": {
    "ExecuteTime": {
     "end_time": "2022-07-06T19:36:38.136196Z",
     "start_time": "2022-07-06T19:36:38.126805Z"
    },
    "scrolled": true
   },
   "outputs": [],
   "source": [
    "math.log(348) == math.log(348, math.e)"
   ]
  },
  {
   "cell_type": "markdown",
   "metadata": {},
   "source": [
    "This is a fun little exercise. But really, I trusted that `math` library all along because I know it's part of the Python Standard Library. Trust is key when using built-in libraries and functions otherwise you might never get anything done. Just don't spread that trust too broadly. \n",
    "\n",
    "You really **really** should  get in the habit of looking at documentation when you use a library or a function that you've never used before. Thankfully `Jupyter` gives us a lot of options on how to do so. \n"
   ]
  },
  {
   "cell_type": "markdown",
   "metadata": {},
   "source": [
    "# `time` - Time access and conversions\n",
    "\n",
    "[Package documentation](https://docs.python.org/3/library/time.html)\n",
    "\n",
    "Greatest Hits:\n",
    "* `time.sleep(x)`: pauses for x seconds\n",
    "* `time.time()`: gets current time in seconds"
   ]
  },
  {
   "cell_type": "code",
   "execution_count": null,
   "metadata": {
    "ExecuteTime": {
     "end_time": "2023-08-04T18:02:21.394229Z",
     "start_time": "2023-08-04T18:02:21.390648Z"
    },
    "scrolled": true
   },
   "outputs": [],
   "source": [
    "import time"
   ]
  },
  {
   "cell_type": "code",
   "execution_count": null,
   "metadata": {
    "ExecuteTime": {
     "end_time": "2022-08-10T15:36:37.211189Z",
     "start_time": "2022-08-10T15:36:37.200272Z"
    }
   },
   "outputs": [],
   "source": [
    "time.time()"
   ]
  },
  {
   "cell_type": "markdown",
   "metadata": {},
   "source": [
    "If you are wondering what that number means, it is counting seconds from January 1st, 1970, midnight UTC (the *epoch* time). For other systems, **time zero** is January 1, 1601, or 1858. \n",
    "\n",
    "Don't ask me why...\n",
    "\n",
    "This function provides a way to see how long your code takes to run!"
   ]
  },
  {
   "cell_type": "code",
   "execution_count": null,
   "metadata": {
    "ExecuteTime": {
     "end_time": "2022-08-10T15:41:13.121197Z",
     "start_time": "2022-08-10T15:41:13.098288Z"
    }
   },
   "outputs": [],
   "source": [
    "start_time = time.time()\n",
    "for i in range(10000):\n",
    "    trash = i**2\n",
    "end_time = time.time()\n",
    "print(end_time - start_time)"
   ]
  },
  {
   "cell_type": "markdown",
   "metadata": {},
   "source": [
    "As you might have guessed, someone already tackle this problem and created a library called `timeit` that provides functions to help you do this."
   ]
  },
  {
   "cell_type": "code",
   "execution_count": null,
   "metadata": {
    "ExecuteTime": {
     "end_time": "2022-08-10T15:41:09.167351Z",
     "start_time": "2022-08-10T15:41:09.128679Z"
    }
   },
   "outputs": [],
   "source": [
    "###Place your code here\n",
    "import timeit\n",
    "timeit.timeit('for i in range(10000): trash = i**2', number=10)"
   ]
  },
  {
   "cell_type": "markdown",
   "metadata": {},
   "source": [
    "On rare occasions, you might actually want your code to run _slower_ (perhaps when scraping a website). You might want to take a little break between each time you run a line of code:"
   ]
  },
  {
   "cell_type": "code",
   "execution_count": null,
   "metadata": {
    "ExecuteTime": {
     "end_time": "2022-07-06T19:39:40.121968Z",
     "start_time": "2022-07-06T19:39:35.094594Z"
    }
   },
   "outputs": [],
   "source": [
    "for i in range(5):\n",
    "    print(i)\n",
    "    time.sleep(1)"
   ]
  },
  {
   "cell_type": "markdown",
   "metadata": {},
   "source": [
    "Compare that to:"
   ]
  },
  {
   "cell_type": "code",
   "execution_count": null,
   "metadata": {
    "ExecuteTime": {
     "end_time": "2022-07-06T19:39:51.057809Z",
     "start_time": "2022-07-06T19:39:51.048219Z"
    }
   },
   "outputs": [],
   "source": [
    "for i in range(5):\n",
    "    print(i)"
   ]
  },
  {
   "cell_type": "markdown",
   "metadata": {},
   "source": [
    "# `copy` - Shallow and deep copy operations\n",
    "\n",
    "[Package documentation](https://docs.python.org/3/library/copy.html)\n",
    "\n",
    "Greatest Hits:\n",
    "* `copy.copy(x)`\n",
    "* `copy.deepcopy(x)`\n",
    "\n",
    "This is a really subtle but important point that you need to be aware of."
   ]
  },
  {
   "cell_type": "code",
   "execution_count": null,
   "metadata": {
    "ExecuteTime": {
     "end_time": "2022-09-07T20:45:25.992723Z",
     "start_time": "2022-09-07T20:45:25.987734Z"
    },
    "scrolled": true
   },
   "outputs": [],
   "source": [
    "import copy"
   ]
  },
  {
   "cell_type": "markdown",
   "metadata": {},
   "source": [
    "Suppose I defined variable `x` and for the time being I want to have `y` equal the same thing:"
   ]
  },
  {
   "cell_type": "code",
   "execution_count": null,
   "metadata": {
    "ExecuteTime": {
     "end_time": "2022-07-06T19:40:04.047839Z",
     "start_time": "2022-07-06T19:40:04.042755Z"
    },
    "scrolled": true
   },
   "outputs": [],
   "source": [
    "x = [5, 6]\n",
    "y = x"
   ]
  },
  {
   "cell_type": "markdown",
   "metadata": {},
   "source": [
    "But now something came up, I need to change `y`:"
   ]
  },
  {
   "cell_type": "code",
   "execution_count": null,
   "metadata": {
    "ExecuteTime": {
     "end_time": "2022-07-06T19:40:07.562961Z",
     "start_time": "2022-07-06T19:40:07.554744Z"
    }
   },
   "outputs": [],
   "source": [
    "y[0] = 2"
   ]
  },
  {
   "cell_type": "markdown",
   "metadata": {},
   "source": [
    "So now what are the values of x and y?"
   ]
  },
  {
   "cell_type": "code",
   "execution_count": null,
   "metadata": {
    "ExecuteTime": {
     "end_time": "2022-07-06T19:40:09.033989Z",
     "start_time": "2022-07-06T19:40:09.028212Z"
    }
   },
   "outputs": [],
   "source": [
    "print(x)\n",
    "print(y)"
   ]
  },
  {
   "cell_type": "markdown",
   "metadata": {},
   "source": [
    "Clearly that's not what we wanted at all. \n",
    "\n",
    "This is an important point in `Python`. Every time you are trying to copy a variable that is a collection (list, tuple, set, or dictionary) python actually copies just the `reference` to that variable (that is, it creates another `pointer` to the same place in memory.\n",
    "\n",
    "So how would we get what we wanted? Enter `copy`"
   ]
  },
  {
   "cell_type": "code",
   "execution_count": null,
   "metadata": {},
   "outputs": [],
   "source": [
    "x = [5, 6]\n",
    "y = copy.copy(x)\n",
    "y[0] = 2\n",
    "print(x)\n",
    "print(y)"
   ]
  },
  {
   "cell_type": "markdown",
   "metadata": {},
   "source": [
    "<br>\n",
    "\n",
    "<br>\n",
    "\n",
    "Much better. However `copy.copy()` is _shallow_. If I have nested lists for instance it would only 'copy' the top-level list and not the underlying lists. It's a subtle point but for almost all applications what you really want is copy.deepcopy(). I.e. it will create an exact replica all the way down to the variable you give it. And it functions the exact same way as copy:"
   ]
  },
  {
   "cell_type": "code",
   "execution_count": null,
   "metadata": {
    "ExecuteTime": {
     "end_time": "2022-09-07T20:45:31.422699Z",
     "start_time": "2022-09-07T20:45:31.410541Z"
    }
   },
   "outputs": [],
   "source": [
    "# Standard copy.copy doesn't work\n",
    "\n",
    "x = ['a', [5, 6]]\n",
    "y = copy.copy(x)\n",
    "y[0] = 'b'\n",
    "y[1][0] = 2\n",
    "print(x)\n",
    "print(y)"
   ]
  },
  {
   "cell_type": "code",
   "execution_count": null,
   "metadata": {
    "ExecuteTime": {
     "end_time": "2022-09-07T20:45:41.064383Z",
     "start_time": "2022-09-07T20:45:41.057716Z"
    }
   },
   "outputs": [],
   "source": [
    "# But copy.deepcopy works!\n",
    "\n",
    "x = ['a', [5, 6]]\n",
    "y = copy.deepcopy(x)\n",
    "y[1][0] = 2\n",
    "print(x)\n",
    "print(y)"
   ]
  },
  {
   "cell_type": "markdown",
   "metadata": {},
   "source": [
    "# `operator` - Standard operators as functions\n",
    "\n",
    "[Package documentation](https://docs.python.org/3/library/operator.html)\n",
    "\n",
    "This will be easiest to describe with an example:"
   ]
  },
  {
   "cell_type": "code",
   "execution_count": null,
   "metadata": {
    "ExecuteTime": {
     "end_time": "2023-08-04T18:02:29.314772Z",
     "start_time": "2023-08-04T18:02:29.309483Z"
    },
    "scrolled": true
   },
   "outputs": [],
   "source": [
    "import operator"
   ]
  },
  {
   "cell_type": "code",
   "execution_count": null,
   "metadata": {
    "ExecuteTime": {
     "end_time": "2022-09-07T20:38:27.972010Z",
     "start_time": "2022-09-07T20:38:27.958457Z"
    }
   },
   "outputs": [],
   "source": [
    "x = [[5,4,3], [2, 4, 5], [9,2,1]]\n",
    "sorted(x)\n"
   ]
  },
  {
   "cell_type": "markdown",
   "metadata": {},
   "source": [
    "What actually happened here? \n",
    "\n",
    "The list of lists was sorted based off of the first value of the lists. \n",
    "\n",
    "**But suppose I wanted to sort based off the second? or the last?**"
   ]
  },
  {
   "cell_type": "code",
   "execution_count": null,
   "metadata": {
    "ExecuteTime": {
     "end_time": "2022-09-07T20:38:11.435400Z",
     "start_time": "2022-09-07T20:38:11.428145Z"
    }
   },
   "outputs": [],
   "source": [
    "help(sorted)"
   ]
  },
  {
   "cell_type": "code",
   "execution_count": null,
   "metadata": {
    "ExecuteTime": {
     "end_time": "2022-09-07T20:38:17.204223Z",
     "start_time": "2022-09-07T20:38:17.178524Z"
    }
   },
   "outputs": [],
   "source": [
    "sorted(x, key = operator.itemgetter(2))\n"
   ]
  },
  {
   "cell_type": "markdown",
   "metadata": {},
   "source": [
    "<br>\n",
    "\n",
    "<br>\n",
    "\n",
    "If you are trying to sort a list of dictionaries, you have to provide a `key` to `.itemgetter()` instead of an `index`.  "
   ]
  },
  {
   "cell_type": "code",
   "execution_count": null,
   "metadata": {
    "ExecuteTime": {
     "end_time": "2022-09-07T20:38:03.065705Z",
     "start_time": "2022-09-07T20:38:03.055184Z"
    }
   },
   "outputs": [],
   "source": [
    "list_dict = [{'a': 1, 'b': 30}, {'a': 5, 'b': 3}, {'a': 10, 'b': 0}]\n",
    "\n",
    "sorted(list_dict, key = operator.itemgetter('b'))"
   ]
  },
  {
   "cell_type": "markdown",
   "metadata": {},
   "source": [
    "<br>\n",
    "\n",
    "Notice that all dictionaries in the list must include the corresponding `key`."
   ]
  },
  {
   "cell_type": "code",
   "execution_count": null,
   "metadata": {
    "ExecuteTime": {
     "end_time": "2022-09-07T20:37:57.678579Z",
     "start_time": "2022-09-07T20:37:57.657639Z"
    }
   },
   "outputs": [],
   "source": [
    "list_dict = [{'a': 1, 'b': 30}, {'a': 5, 'b': 3}, {'a': 10, 'b': 0}, \n",
    "             {'a': 30}]\n",
    "\n",
    "sorted(list_dict, key = operator.itemgetter('b'))"
   ]
  },
  {
   "cell_type": "markdown",
   "metadata": {},
   "source": [
    "# `collections` - Container datatypes\n",
    "\n",
    "[Package documentation](https://docs.python.org/3/library/collections.html)\n",
    "\n",
    "Greatest Hits:\n",
    ">  `collections.Counter`: counts repeated instances from an iterable\n",
    "\n",
    "A pretty common problem that you may encounter is: given a list, how many times does each unique element appear inside of that list? \n",
    "\n",
    "An easy way to solve this is with Counter"
   ]
  },
  {
   "cell_type": "code",
   "execution_count": null,
   "metadata": {
    "ExecuteTime": {
     "end_time": "2022-09-07T20:52:53.795002Z",
     "start_time": "2022-09-07T20:52:53.789836Z"
    },
    "scrolled": true
   },
   "outputs": [],
   "source": [
    "# Write code to count the occurrences of all the names in the list\n",
    "#\n",
    "# If you loop over the items in the list, two things can happen:\n",
    "#   you already found that value before\n",
    "#   you have not yet found that value\n",
    "#\n",
    "# That, as they say, leads to a bifurcation on the road.\n",
    "#\n",
    "dwarfs = [ 'Doc', 'Grumpy', 'Happy', 'Sleepy', 'Bashful', 'Sneezy', \n",
    "           'Doc', 'Dopey', 'Sleepy', 'Sleepy', 'Sleepy', 'Happy' ]\n",
    "\n",
    "###Place your code here\n",
    "\n",
    "\n",
    "\n",
    "# print(dwarfs_count)"
   ]
  },
  {
   "cell_type": "markdown",
   "metadata": {},
   "source": [
    "While that's a good exercise, it's obviously a little bit tedious. Since I mentioned that this is a common problem, as you might expect, the work has already been done for you. "
   ]
  },
  {
   "cell_type": "code",
   "execution_count": null,
   "metadata": {
    "ExecuteTime": {
     "end_time": "2023-08-04T18:02:37.038153Z",
     "start_time": "2023-08-04T18:02:37.033978Z"
    }
   },
   "outputs": [],
   "source": [
    "import collections"
   ]
  },
  {
   "cell_type": "code",
   "execution_count": null,
   "metadata": {
    "ExecuteTime": {
     "end_time": "2022-09-07T20:53:37.456750Z",
     "start_time": "2022-09-07T20:53:37.451107Z"
    }
   },
   "outputs": [],
   "source": [
    "dwarfs_count = collections.Counter(dwarfs)\n",
    "print(dwarfs_count)\n",
    "\n",
    "print()\n",
    "print(dwarfs_count.most_common(1))"
   ]
  },
  {
   "cell_type": "markdown",
   "metadata": {},
   "source": [
    "# `random` - Generate pseudo-random numbers\n",
    "\n",
    "[Package documentation](https://docs.python.org/3/library/random.html)\n",
    "\n",
    "Greatest Hits:\n",
    "> `random.random()`: returns a number in the range [0.0, 1.0)\n",
    ">\n",
    "> `random.randint(a, b)`: returns an integer in the range [a, b]\n",
    ">\n",
    "> `random.choice(x)`: randomly returns a value from the sequence x\n",
    ">\n",
    "> `random.sample(x, y)`: randomly returns a sample of length y from the sequence x without replacement"
   ]
  },
  {
   "cell_type": "code",
   "execution_count": null,
   "metadata": {
    "ExecuteTime": {
     "end_time": "2023-08-04T18:02:41.602225Z",
     "start_time": "2023-08-04T18:02:41.596792Z"
    },
    "scrolled": true
   },
   "outputs": [],
   "source": [
    "import random"
   ]
  },
  {
   "cell_type": "markdown",
   "metadata": {},
   "source": [
    "What if I just want a random number between 0 and 1, because who knows, it might be useful (it will be at some point):"
   ]
  },
  {
   "cell_type": "code",
   "execution_count": null,
   "metadata": {
    "ExecuteTime": {
     "end_time": "2022-07-06T19:46:32.201469Z",
     "start_time": "2022-07-06T19:46:32.186888Z"
    }
   },
   "outputs": [],
   "source": [
    "random.random()"
   ]
  },
  {
   "cell_type": "markdown",
   "metadata": {},
   "source": [
    "Make sure that you run that cell a few times, you should get a different answer every time.\n",
    "\n",
    "Sometimes integers are just easier to deal with. "
   ]
  },
  {
   "cell_type": "code",
   "execution_count": null,
   "metadata": {
    "ExecuteTime": {
     "end_time": "2022-07-06T19:46:36.205428Z",
     "start_time": "2022-07-06T19:46:36.196871Z"
    }
   },
   "outputs": [],
   "source": [
    "random.randint(0, 100)"
   ]
  },
  {
   "cell_type": "markdown",
   "metadata": {},
   "source": [
    "__Exercise:__ Are the numbers 7 and 261 included or excluded from this random number generator:"
   ]
  },
  {
   "cell_type": "code",
   "execution_count": null,
   "metadata": {},
   "outputs": [],
   "source": [
    "#Place your code here\n",
    "\n"
   ]
  },
  {
   "cell_type": "markdown",
   "metadata": {},
   "source": [
    "For a lot of statistical tests you'll want to be able to randomly select items from a list so here are two easy ways to do it. As always, if this is random it better give you different results when you run it multiple times!"
   ]
  },
  {
   "cell_type": "code",
   "execution_count": null,
   "metadata": {
    "ExecuteTime": {
     "end_time": "2022-07-06T19:46:59.737002Z",
     "start_time": "2022-07-06T19:46:59.726581Z"
    }
   },
   "outputs": [],
   "source": [
    "dwarfs = list(set(dwarfs))"
   ]
  },
  {
   "cell_type": "code",
   "execution_count": null,
   "metadata": {
    "ExecuteTime": {
     "end_time": "2022-07-06T19:47:17.535758Z",
     "start_time": "2022-07-06T19:47:17.527080Z"
    }
   },
   "outputs": [],
   "source": [
    "help(random.sample)"
   ]
  },
  {
   "cell_type": "code",
   "execution_count": null,
   "metadata": {
    "ExecuteTime": {
     "end_time": "2022-07-06T19:47:00.135241Z",
     "start_time": "2022-07-06T19:47:00.124900Z"
    }
   },
   "outputs": [],
   "source": [
    "random.sample(dwarfs, 3)"
   ]
  },
  {
   "cell_type": "code",
   "execution_count": null,
   "metadata": {
    "ExecuteTime": {
     "end_time": "2022-07-06T19:47:25.543425Z",
     "start_time": "2022-07-06T19:47:25.535663Z"
    }
   },
   "outputs": [],
   "source": [
    "random.choice(dwarfs)"
   ]
  },
  {
   "cell_type": "markdown",
   "metadata": {},
   "source": [
    "# `datetime` - Basic date and time types\n",
    "\n",
    "[Package documentation](https://docs.python.org/3/library/datetime.html)\n",
    "\n",
    "We'll talk about this package a bit more later, but for now let's just give you some basics:"
   ]
  },
  {
   "cell_type": "code",
   "execution_count": null,
   "metadata": {
    "ExecuteTime": {
     "end_time": "2023-08-04T18:02:47.900906Z",
     "start_time": "2023-08-04T18:02:47.893832Z"
    },
    "scrolled": true
   },
   "outputs": [],
   "source": [
    "import datetime"
   ]
  },
  {
   "cell_type": "markdown",
   "metadata": {},
   "source": [
    "The `date` library in `datetime` provides functions and data to work with dates."
   ]
  },
  {
   "cell_type": "code",
   "execution_count": null,
   "metadata": {
    "ExecuteTime": {
     "end_time": "2022-07-06T19:48:10.751341Z",
     "start_time": "2022-07-06T19:48:10.739898Z"
    }
   },
   "outputs": [],
   "source": [
    "today = datetime.date.today()\n",
    "\n",
    "print(today)\n",
    "print()\n",
    "print(today.day)\n",
    "print(today.year)\n"
   ]
  },
  {
   "cell_type": "code",
   "execution_count": null,
   "metadata": {
    "ExecuteTime": {
     "end_time": "2022-07-06T19:48:00.570490Z",
     "start_time": "2022-07-06T19:48:00.562602Z"
    }
   },
   "outputs": [],
   "source": [
    "birthday = datetime.date(1984, 2, 25)\n",
    "\n",
    "print(birthday)\n",
    "print()\n",
    "print(birthday.day)\n",
    "print(birthday.month)\n",
    "print(birthday.year)"
   ]
  },
  {
   "cell_type": "markdown",
   "metadata": {},
   "source": [
    "In _one_ variable called `birthday` we now have lots of information. This is much easier to work with than having separate variables for each of these:\n",
    "```\n",
    "birth_day = 25\n",
    "birth_month = 2\n",
    "birth_year = 1984\n",
    "```\n",
    "or one variable that we have to split apart everytime we only care about a particular piece of it:\n",
    "\n",
    "```\n",
    "birthday = '02-25-1984'\n",
    "```"
   ]
  },
  {
   "cell_type": "markdown",
   "metadata": {},
   "source": [
    "If you want to work with time, you need to use the library `datetime` in `datetime`"
   ]
  },
  {
   "cell_type": "code",
   "execution_count": null,
   "metadata": {
    "ExecuteTime": {
     "end_time": "2022-08-10T18:05:23.298835Z",
     "start_time": "2022-08-10T18:05:23.290758Z"
    }
   },
   "outputs": [],
   "source": [
    "now = datetime.datetime.today()\n",
    "print(now)"
   ]
  },
  {
   "cell_type": "markdown",
   "metadata": {},
   "source": [
    "<br>\n",
    "\n",
    "<br>\n",
    "\n",
    "This should print the time and date according to your system. If you were in a different timezone, the output would be different.\n",
    "\n",
    "`datetime` provides tools to convert between time zones. If you want to convert dates to HaLuah  or to Hijiri calendars, then you have to use other libraries."
   ]
  },
  {
   "cell_type": "markdown",
   "metadata": {},
   "source": [
    "# Final remarks"
   ]
  },
  {
   "cell_type": "markdown",
   "metadata": {},
   "source": [
    "\n",
    "That's all for the `Python Standard Library`, but you haven't seen the last of any of these packages. \n",
    "\n",
    "I highly recommend reading through some of the links I provided at the top of this notebook. **But the best way to learn about packages also happens to be the best way to learn programming. Practice. Practice. Practice.**\n",
    "\n",
    "Just know that while you're practicing, if you encounter a problem that seems like it might already have been done before, turn to `Google`. \n",
    "\n",
    "**Trust the standard library.**\n",
    "\n",
    "**Trust other packages and `stackoverflow` less so.** \n",
    "\n",
    "\n",
    "Test functions that you use, make sure they give you results that you expect, and delight in how much time you'll have saved. "
   ]
  },
  {
   "cell_type": "markdown",
   "metadata": {
    "execution": {
     "iopub.execute_input": "2024-09-13T20:02:45.002619Z",
     "iopub.status.busy": "2024-09-13T20:02:44.998431Z",
     "iopub.status.idle": "2024-09-13T20:02:45.020200Z",
     "shell.execute_reply": "2024-09-13T20:02:45.019305Z",
     "shell.execute_reply.started": "2024-09-13T20:02:45.002556Z"
    }
   },
   "source": [
    "# Let's keep going\n",
    "\n",
    "[Next lesson](nb_09_Functions_n_Refactoring.ipynb)"
   ]
  },
  {
   "cell_type": "code",
   "execution_count": null,
   "metadata": {},
   "outputs": [],
   "source": []
  }
 ],
 "metadata": {
  "anaconda-cloud": {},
  "kernelspec": {
   "display_name": "Python [conda env:base]",
   "language": "python",
   "name": "conda-base-py"
  },
  "language_info": {
   "codemirror_mode": {
    "name": "ipython",
    "version": 3
   },
   "file_extension": ".py",
   "mimetype": "text/x-python",
   "name": "python",
   "nbconvert_exporter": "python",
   "pygments_lexer": "ipython3",
   "version": "3.12.4"
  },
  "latex_envs": {
   "LaTeX_envs_menu_present": true,
   "autoclose": false,
   "autocomplete": true,
   "bibliofile": "biblio.bib",
   "cite_by": "apalike",
   "current_citInitial": 1,
   "eqLabelWithNumbers": true,
   "eqNumInitial": 1,
   "hotkeys": {
    "equation": "Ctrl-E",
    "itemize": "Ctrl-I"
   },
   "labels_anchors": false,
   "latex_user_defs": false,
   "report_style_numbering": false,
   "user_envs_cfg": false
  },
  "toc": {
   "base_numbering": 1,
   "nav_menu": {},
   "number_sections": true,
   "sideBar": true,
   "skip_h1_title": false,
   "title_cell": "Table of Contents",
   "title_sidebar": "Contents",
   "toc_cell": false,
   "toc_position": {
    "height": "calc(100% - 180px)",
    "left": "10px",
    "top": "150px",
    "width": "165px"
   },
   "toc_section_display": true,
   "toc_window_display": true
  },
  "varInspector": {
   "cols": {
    "lenName": 16,
    "lenType": 16,
    "lenVar": 40
   },
   "kernels_config": {
    "python": {
     "delete_cmd_postfix": "",
     "delete_cmd_prefix": "del ",
     "library": "var_list.py",
     "varRefreshCmd": "print(var_dic_list())"
    },
    "r": {
     "delete_cmd_postfix": ") ",
     "delete_cmd_prefix": "rm(",
     "library": "var_list.r",
     "varRefreshCmd": "cat(var_dic_list()) "
    }
   },
   "types_to_exclude": [
    "module",
    "function",
    "builtin_function_or_method",
    "instance",
    "_Feature"
   ],
   "window_display": false
  }
 },
 "nbformat": 4,
 "nbformat_minor": 4
}
