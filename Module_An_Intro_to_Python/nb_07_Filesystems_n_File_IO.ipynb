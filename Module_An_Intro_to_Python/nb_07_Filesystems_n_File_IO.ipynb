{
 "cells": [
  {
   "cell_type": "markdown",
   "metadata": {},
   "source": [
    "# Synopsis\n",
    "\n",
    "In this unit we will earn an important skill, how to read and write files. In order to do that, we will cover:\n",
    "\n",
    "1. How files are organized on a computer and how to view/find file locations with terminal commands from the notebook\n",
    "2. How to open a file and read it\n",
    "3. How to open a file and write text to it. "
   ]
  },
  {
   "cell_type": "markdown",
   "metadata": {},
   "source": [
    "# Load libraries"
   ]
  },
  {
   "cell_type": "code",
   "execution_count": null,
   "metadata": {
    "ExecuteTime": {
     "end_time": "2022-09-12T17:41:09.182498Z",
     "start_time": "2022-09-12T17:41:09.171017Z"
    }
   },
   "outputs": [],
   "source": [
    "from IPython.core.display import HTML\n",
    "from IPython.lib.display import YouTubeVideo\n",
    "\n",
    "import datetime"
   ]
  },
  {
   "cell_type": "markdown",
   "metadata": {},
   "source": [
    "# Videos"
   ]
  },
  {
   "cell_type": "code",
   "execution_count": null,
   "metadata": {
    "ExecuteTime": {
     "end_time": "2022-09-09T22:09:03.156342Z",
     "start_time": "2022-09-09T22:09:03.044985Z"
    }
   },
   "outputs": [],
   "source": [
    "vid = YouTubeVideo('pTT7HMqDnJw', width = 600)\n",
    "display(vid)\n"
   ]
  },
  {
   "cell_type": "markdown",
   "metadata": {},
   "source": [
    "# Filesystems\n",
    "\n",
    "Typing strings and numbers into a `Jupyter` Notebook is a great way to learn the basics.\n",
    "\n",
    "However, sooner or later you will have to learn how to read data from a file, perform some analyses on that data, and (ideally) save results of the analyses. \n",
    "\n",
    "In order to do this effectively, we first must go over the basics of `filesystems` so you understand how data is organized in your storage drive.\n",
    "\n",
    "**Mac OS** `filesystems` are organized in similar manner to **Unix** `filesystems`. \n",
    "\n",
    "> It all starts at `/` -- the root!  \n",
    "\n",
    "The root location holds several folders, as shown below by the names in blue\n",
    "\n",
    "<img src = 'Images/dir_list.png' width = '700px'></img>\n",
    "\n",
    "These folders can be seen as branches of a bush with root at `/`.  Of particular interest is the `Users` branch which stores the home accounts.  \n",
    "\n",
    "My home account is named `amaral` and it is located 2 levels above the root `/`.\n",
    "\n",
    "<img src = 'Images/more_dir_lists.png' width = '700px'></img>\n",
    "\n",
    "The location of a file or folder can be specified in an absolute or relative manner using a string that reports the intermediate branches between the file and the root or some relative location, respectively. The intermediate branches are separated by `/`.\n",
    "\n",
    "The absolute path for the file `update.zip` is\n",
    "\n",
    "> /Users/amaral/update.zip\n",
    "\n",
    "The relative path with regards to the folder `Users` is\n",
    "\n",
    "> amaral/update.zip\n",
    "\n",
    "\n",
    "On **Windows**, things are not that different. There is still a root which is located at `C:\\` instead of `/` and the separators are `\\` instead of `/`.\n",
    "\n"
   ]
  },
  {
   "cell_type": "markdown",
   "metadata": {},
   "source": [
    "In the image above, you can see that a lot of information is provided for each item in a folder. For example,\n",
    "\n",
    "<img src = 'Images/file_info.png' width = '700px'></img>\n",
    "\n",
    "> The first column of codes contains information of the **privileges/permissions** of different types of accounts. \n",
    ">\n",
    "> The second column indicates the number of real items inside the folder `share` (don't worry about it)\n",
    ">\n",
    "> The third column shows the **owner** of the file or folder. \n",
    ">\n",
    "> The fourth column shows the name of the **group** with special permissions for the file or folder, \n",
    ">\n",
    "> The fifth column shows the **size** of the file or folder.\n",
    ">\n",
    "> The sixth column shows **the last date and time** (if in the same calendar year) the file was modified. \n",
    ">\n",
    "> The seventh column shows the **name** of the file or folder.\n"
   ]
  },
  {
   "cell_type": "markdown",
   "metadata": {},
   "source": [
    "## `os`, `pwd`, and `grp` $-$ libraries for interacting with the filesystem\n",
    "\n",
    "We can read more in the manual pages for:\n",
    "\n",
    "* [`os`](https://docs.python.org/3/library/os.html)\n",
    "\n",
    "* [`pwd`](https://docs.python.org/3/library/pwd.html)\n",
    "\n",
    "* [`grp`](https://docs.python.org/3/library/grp.html)"
   ]
  },
  {
   "cell_type": "code",
   "execution_count": null,
   "metadata": {
    "ExecuteTime": {
     "end_time": "2022-09-12T16:01:46.109798Z",
     "start_time": "2022-09-12T16:01:46.090665Z"
    }
   },
   "outputs": [],
   "source": [
    "import os\n",
    "import pwd\n",
    "import grp\n",
    "\n",
    "help(pwd)"
   ]
  },
  {
   "cell_type": "code",
   "execution_count": null,
   "metadata": {
    "ExecuteTime": {
     "end_time": "2022-09-09T22:12:41.798480Z",
     "start_time": "2022-09-09T22:12:41.791496Z"
    }
   },
   "outputs": [],
   "source": [
    "print( os.name )\n",
    "\n",
    "print()\n",
    "\n",
    "print( os.uname() )"
   ]
  },
  {
   "cell_type": "markdown",
   "metadata": {},
   "source": [
    "In all likelihood, you are getting different outputs from me when you run that cell.  That is because we have different computers that are running different operating systems.\n",
    "\n",
    "An important thing to know when writing code is to know what is the current working directory (or folder). That is, from where is the computer looking for files stored in your disk."
   ]
  },
  {
   "cell_type": "code",
   "execution_count": null,
   "metadata": {
    "ExecuteTime": {
     "end_time": "2022-09-15T20:46:52.364835Z",
     "start_time": "2022-09-15T20:46:52.348213Z"
    }
   },
   "outputs": [],
   "source": [
    "help(os.getcwd)\n",
    "print()\n",
    "\n",
    "our_working_directory = os.getcwd()\n",
    "print(our_working_directory)"
   ]
  },
  {
   "cell_type": "markdown",
   "metadata": {},
   "source": [
    "As before, you are likely getting something quite different from me.  \n",
    "\n",
    "ASIDE: *Many many years ago, when Windows did not yet exist and Microsoft's OS was named DOS, Microsoft used `/` to indicate flag values. For this reason, they were 'forced' to use `\\` for separating folders.*\n",
    "\n",
    "The cool thing is that because you downloaded the course files into their correct places, everything below the parent directory to the working directory will be located in the same relative places.\n",
    "\n"
   ]
  },
  {
   "cell_type": "code",
   "execution_count": null,
   "metadata": {
    "ExecuteTime": {
     "end_time": "2022-09-14T18:06:02.180220Z",
     "start_time": "2022-09-14T18:06:02.170593Z"
    }
   },
   "outputs": [],
   "source": [
    "help(os.listdir)\n",
    "print()\n",
    "\n",
    "sorted(os.listdir('/Users/'))"
   ]
  },
  {
   "cell_type": "markdown",
   "metadata": {},
   "source": [
    "The output of `os.listdir` is a list, so we can access its elements: "
   ]
  },
  {
   "cell_type": "code",
   "execution_count": null,
   "metadata": {
    "ExecuteTime": {
     "end_time": "2022-09-14T18:06:29.453516Z",
     "start_time": "2022-09-14T18:06:28.544885Z"
    }
   },
   "outputs": [],
   "source": [
    "ls -lht /Users/"
   ]
  },
  {
   "cell_type": "code",
   "execution_count": null,
   "metadata": {
    "ExecuteTime": {
     "end_time": "2022-09-14T18:07:54.536102Z",
     "start_time": "2022-09-14T18:07:54.525871Z"
    }
   },
   "outputs": [],
   "source": [
    "files = sorted( os.listdir() )\n",
    "files"
   ]
  },
  {
   "cell_type": "code",
   "execution_count": null,
   "metadata": {
    "ExecuteTime": {
     "end_time": "2022-09-14T18:11:14.581755Z",
     "start_time": "2022-09-14T18:11:13.779056Z"
    }
   },
   "outputs": [],
   "source": [
    "ls -lht "
   ]
  },
  {
   "cell_type": "code",
   "execution_count": null,
   "metadata": {
    "ExecuteTime": {
     "end_time": "2022-09-14T22:31:37.083037Z",
     "start_time": "2022-09-14T22:31:37.070813Z"
    }
   },
   "outputs": [],
   "source": [
    "print(files[-1])\n",
    "print()\n",
    "\n",
    "properties = os.stat(files[-1])\n",
    "print('---', properties)\n",
    "print()\n",
    "\n",
    "print(f\"The size of my file is {properties.st_size}B\\n\")\n",
    "\n",
    "print(f\"The user id of the file's owner is {properties.st_uid}.  \"\n",
    "      f\"Their username is {pwd.getpwuid(properties.st_uid).pw_name}.\\n\")\n",
    "\n",
    "print(f\"The group id of the file is {properties.st_gid}.  \"\n",
    "      f\"The group name is {grp.getgrgid(properties.st_gid).gr_name}.\\n\")\n",
    "\n",
    "print(f\"There are {properties.st_nlink} hard links connected to this file.\"\n",
    "      f\"  Unless, this is a folder, the number should be 1.\\n\")\n",
    "\n",
    "create_time = ( datetime.datetime(1970, 1, 1, 0, 0)\n",
    "                + datetime.timedelta(seconds = properties.st_ctime) )\n",
    "print(f\"The file was created {properties.st_ctime:.1f} seconds after \"\n",
    "      f\"Jan 1st, 1970. \\nIn human readable format that translates to \"\n",
    "      f\"{create_time.strftime('%b %d, %Y, %H:%M')}.\\n\")\n"
   ]
  },
  {
   "cell_type": "markdown",
   "metadata": {},
   "source": [
    "We can read all the groups that exist in the system by accessing the groups database:"
   ]
  },
  {
   "cell_type": "code",
   "execution_count": null,
   "metadata": {
    "ExecuteTime": {
     "end_time": "2022-09-14T22:52:47.956597Z",
     "start_time": "2022-09-14T22:52:47.923873Z"
    }
   },
   "outputs": [],
   "source": [
    "for name in grp.getgrall():\n",
    "    if 'amaral' in name.gr_mem:\n",
    "        print(name)\n",
    "        \n",
    "grp.getgrnam('staff')"
   ]
  },
  {
   "cell_type": "markdown",
   "metadata": {},
   "source": [
    "## Ownership and permissions\n",
    "\n",
    "You can use so-called **shell** commands in a terminal to navigate the filesystem, to create files and folders, to delete, copy, and move files and folders and to run programs.  The things that you can do depend on your privileges which are related to the account and group ownership of the file or folder.\n",
    "\n",
    "The privilege information is organized according ownership level.  The three ownership levels are **user**, **group**, and **all**. User refers to the privileges of the account that owns the file. In the example above, all files are owned by the `amaral` account.\n",
    "\n",
    "Users of a filesystem can be organized into groups.  A user account can belong to several groups, but a file or folder can only be assigned to a single group.  Groups enable different users -- for example, collaborators on a project -- to share greater privileges in accessing a file or folder.\n",
    "\n",
    "All accounts -- including those that run services for the computer, such as communicating with the printer, or the mouse -- fall into the last ownership level: all.\n",
    "\n",
    "The first code in the set of 10 characters of the first column indicates whether the name at the end refers to a directory (will display a `d`), a symbolic link (`l`), or a regular file (`-`).\n",
    "\n",
    "The following 3 characters concern reading (`r`), writing (`w`), and execution (`x`) permissions for the owner of the file or folder.  Files storing data can typically be read and written. If you want to make sure a file is not overwritten, you can remove writing privileges from everyone including the file's owner.  \n",
    "\n",
    "The following 3 characters concern reading (`r`), writing (`w`), and execution (`x`) permissions for all the users belong to the relevant group.\n",
    "\n",
    "The final 3 characters concern reading (`r`), writing (`w`), and execution (`x`) permissions for everyone else."
   ]
  },
  {
   "cell_type": "code",
   "execution_count": null,
   "metadata": {
    "ExecuteTime": {
     "end_time": "2022-09-15T20:34:25.023414Z",
     "start_time": "2022-09-15T20:34:25.011013Z"
    }
   },
   "outputs": [],
   "source": [
    "# Note that you have to use octogonal representation in order to \n",
    "# properly read the permissions\n",
    "\n",
    "print(f\"The permissions for the file are {oct(os.stat('./roster_lib.py').st_mode)}.\\n\")\n"
   ]
  },
  {
   "cell_type": "markdown",
   "metadata": {},
   "source": [
    "This is actually somewhat tricky to translate.  The last 3 digits above $-$ `644` $-$ are codes for the permissions. In order to understand their meaning, you must realize that `rwx` can be seen as bit values in which the presence of the letter means `1` and `-` means `0`.\n",
    "\n",
    "For example, `r--` translates to the binary number `100`, which in the decimal system corresponds to 4 + 0 + 0 = 4.\n",
    "\n",
    "`rwx` translates to the binary number `111`, which in the decimal system corresponds to 4 + 2 + 1 = 7.\n",
    "\n",
    "You can use `os.chmod()` to change the permissions of a file. **You can use the system above as long as you specify that the value you are passing to the function is in octagonal notation.**"
   ]
  },
  {
   "cell_type": "code",
   "execution_count": null,
   "metadata": {
    "ExecuteTime": {
     "end_time": "2022-09-15T20:52:16.915368Z",
     "start_time": "2022-09-15T20:52:16.905322Z"
    }
   },
   "outputs": [],
   "source": [
    "help(os.chmod)"
   ]
  },
  {
   "cell_type": "code",
   "execution_count": null,
   "metadata": {
    "ExecuteTime": {
     "end_time": "2022-09-15T20:33:38.039943Z",
     "start_time": "2022-09-15T20:33:38.034268Z"
    }
   },
   "outputs": [],
   "source": [
    "os.chmod('./roster_lib.py', 0o644)"
   ]
  },
  {
   "cell_type": "code",
   "execution_count": null,
   "metadata": {
    "ExecuteTime": {
     "end_time": "2022-09-15T20:33:42.870127Z",
     "start_time": "2022-09-15T20:33:41.855735Z"
    }
   },
   "outputs": [],
   "source": [
    "ls -lht roster_lib.py"
   ]
  },
  {
   "cell_type": "markdown",
   "metadata": {},
   "source": [
    "## Traveling the filesystem tree\n",
    "\n",
    "As was mentioned earlier, there are two ways to report a path: \n",
    "\n",
    "> absolute \n",
    ">\n",
    "> relative.\n",
    "\n",
    "**Absolute paths** start from the *root* of the tree that we showed. On OS X or Windows that means the path will start with `/` or `C:\\`. We just string together the folder names with the path separator to get to our current path.\n",
    "\n",
    "**Note: I have this written for OS X, if you are using Windows change the `/` to `\\`**\n",
    "\n",
    "In order to change working folder we use the method `os.chdir`:"
   ]
  },
  {
   "cell_type": "code",
   "execution_count": null,
   "metadata": {
    "ExecuteTime": {
     "end_time": "2022-09-15T20:37:56.533679Z",
     "start_time": "2022-09-15T20:37:56.527561Z"
    }
   },
   "outputs": [],
   "source": [
    "os.chdir('/')"
   ]
  },
  {
   "cell_type": "code",
   "execution_count": null,
   "metadata": {
    "ExecuteTime": {
     "end_time": "2022-09-15T20:38:54.170674Z",
     "start_time": "2022-09-15T20:38:54.162780Z"
    }
   },
   "outputs": [],
   "source": [
    "os.getcwd()"
   ]
  },
  {
   "cell_type": "code",
   "execution_count": null,
   "metadata": {
    "ExecuteTime": {
     "end_time": "2022-09-15T20:40:06.447521Z",
     "start_time": "2022-09-15T20:40:06.438558Z"
    }
   },
   "outputs": [],
   "source": [
    "os.listdir()"
   ]
  },
  {
   "cell_type": "markdown",
   "metadata": {},
   "source": [
    "Or we can travel to the home directory"
   ]
  },
  {
   "cell_type": "code",
   "execution_count": null,
   "metadata": {
    "ExecuteTime": {
     "end_time": "2022-09-15T20:42:14.067695Z",
     "start_time": "2022-09-15T20:42:14.061417Z"
    }
   },
   "outputs": [],
   "source": [
    "os.chdir('/Users/amaral')"
   ]
  },
  {
   "cell_type": "code",
   "execution_count": null,
   "metadata": {
    "ExecuteTime": {
     "end_time": "2022-09-15T20:42:32.859049Z",
     "start_time": "2022-09-15T20:42:32.850967Z"
    }
   },
   "outputs": [],
   "source": [
    "os.getcwd()"
   ]
  },
  {
   "cell_type": "code",
   "execution_count": null,
   "metadata": {
    "ExecuteTime": {
     "end_time": "2022-09-15T20:42:44.582576Z",
     "start_time": "2022-09-15T20:42:44.572384Z"
    }
   },
   "outputs": [],
   "source": [
    "os.listdir()"
   ]
  },
  {
   "cell_type": "markdown",
   "metadata": {},
   "source": [
    "**Relative paths** start from where you **currently** are.  The symbol for your **current** directory is `.` The symbol for the **parent** directory (the folder above you) is `..`\n",
    "\n",
    "Annoyingly, `...` is not used, so we cannot easily get to the grandparent directory."
   ]
  },
  {
   "cell_type": "code",
   "execution_count": null,
   "metadata": {
    "ExecuteTime": {
     "end_time": "2022-09-15T20:43:38.258019Z",
     "start_time": "2022-09-15T20:43:38.246487Z"
    }
   },
   "outputs": [],
   "source": [
    "os.listdir('.')"
   ]
  },
  {
   "cell_type": "code",
   "execution_count": null,
   "metadata": {
    "ExecuteTime": {
     "end_time": "2022-09-15T20:43:15.913616Z",
     "start_time": "2022-09-15T20:43:15.906753Z"
    }
   },
   "outputs": [],
   "source": [
    "os.listdir('..')"
   ]
  },
  {
   "cell_type": "code",
   "execution_count": null,
   "metadata": {
    "ExecuteTime": {
     "end_time": "2022-09-15T20:47:26.663366Z",
     "start_time": "2022-09-15T20:47:26.654473Z"
    }
   },
   "outputs": [],
   "source": [
    "os.listdir('../..')"
   ]
  },
  {
   "cell_type": "markdown",
   "metadata": {},
   "source": [
    "Let's get back to where we started"
   ]
  },
  {
   "cell_type": "code",
   "execution_count": null,
   "metadata": {
    "ExecuteTime": {
     "end_time": "2022-09-15T20:47:50.179090Z",
     "start_time": "2022-09-15T20:47:50.172490Z"
    }
   },
   "outputs": [],
   "source": [
    "os.chdir(our_working_directory)\n"
   ]
  },
  {
   "cell_type": "code",
   "execution_count": null,
   "metadata": {
    "ExecuteTime": {
     "end_time": "2022-09-15T20:48:05.569030Z",
     "start_time": "2022-09-15T20:48:05.560836Z"
    }
   },
   "outputs": [],
   "source": [
    "os.getcwd()"
   ]
  },
  {
   "cell_type": "code",
   "execution_count": null,
   "metadata": {
    "ExecuteTime": {
     "end_time": "2022-09-15T20:48:27.205684Z",
     "start_time": "2022-09-15T20:48:27.197972Z"
    }
   },
   "outputs": [],
   "source": [
    "os.listdir()"
   ]
  },
  {
   "cell_type": "markdown",
   "metadata": {},
   "source": [
    "# `pathlib.Path` -- Constructing OS independent path strings\n",
    "\n",
    "For details on this library read the [package documentation](https://docs.python.org/3/library/pathlib.html).\n",
    "\n",
    "For why `pathlib ` is great, read [this](https://treyhunner.com/2018/12/why-you-should-be-using-pathlib/)."
   ]
  },
  {
   "cell_type": "code",
   "execution_count": null,
   "metadata": {
    "ExecuteTime": {
     "end_time": "2022-09-15T20:49:24.486354Z",
     "start_time": "2022-09-15T20:49:24.475309Z"
    }
   },
   "outputs": [],
   "source": [
    "from pathlib import Path\n",
    "\n",
    "dir(Path)"
   ]
  },
  {
   "cell_type": "code",
   "execution_count": null,
   "metadata": {
    "ExecuteTime": {
     "end_time": "2022-09-15T20:49:25.682006Z",
     "start_time": "2022-09-15T20:49:25.676027Z"
    },
    "scrolled": true
   },
   "outputs": [],
   "source": [
    "help( Path.cwd )"
   ]
  },
  {
   "cell_type": "code",
   "execution_count": null,
   "metadata": {
    "ExecuteTime": {
     "end_time": "2022-09-15T20:49:26.377319Z",
     "start_time": "2022-09-15T20:49:26.371647Z"
    }
   },
   "outputs": [],
   "source": [
    "print(Path.cwd())"
   ]
  },
  {
   "cell_type": "code",
   "execution_count": null,
   "metadata": {
    "ExecuteTime": {
     "end_time": "2022-09-15T20:49:26.985729Z",
     "start_time": "2022-09-15T20:49:26.980181Z"
    }
   },
   "outputs": [],
   "source": [
    "help( Path.glob )"
   ]
  },
  {
   "cell_type": "markdown",
   "metadata": {},
   "source": [
    "### `glob` - Unix-style pathname pattern expansion\n",
    "\n",
    "For details on this library read the [package documentation](https://docs.python.org/3/library/glob.html).\n"
   ]
  },
  {
   "cell_type": "code",
   "execution_count": null,
   "metadata": {
    "ExecuteTime": {
     "end_time": "2022-09-15T20:49:52.794640Z",
     "start_time": "2022-09-15T20:49:52.785679Z"
    }
   },
   "outputs": [],
   "source": [
    "current_folder = Path.cwd()\n",
    "print(current_folder)\n",
    "print()\n",
    "\n",
    "pattern = '*e*'\n",
    "print( current_folder.glob(pattern) )\n",
    "print()\n",
    "\n",
    "for file in current_folder.glob(pattern):\n",
    "    print(str(file)[70:])"
   ]
  },
  {
   "cell_type": "code",
   "execution_count": null,
   "metadata": {
    "ExecuteTime": {
     "end_time": "2022-09-15T20:50:08.013330Z",
     "start_time": "2022-09-15T20:50:07.995685Z"
    },
    "scrolled": true
   },
   "outputs": [],
   "source": [
    "parent_folder = current_folder.parent\n",
    "print(parent_folder)\n",
    "print()\n",
    "\n",
    "\n",
    "grandparent_folder = parent_folder.parent\n",
    "print(grandparent_folder)\n",
    "print()"
   ]
  },
  {
   "cell_type": "markdown",
   "metadata": {},
   "source": [
    "The cool thing about `pathlib` is that it enables you to build paths simply by adding folder and file names in the correct sequence."
   ]
  },
  {
   "cell_type": "code",
   "execution_count": null,
   "metadata": {
    "ExecuteTime": {
     "end_time": "2022-09-15T20:50:53.177569Z",
     "start_time": "2022-09-15T20:50:53.169803Z"
    }
   },
   "outputs": [],
   "source": [
    "data_folder = current_folder / 'Data'\n",
    "print(data_folder)\n",
    "print()\n",
    "\n",
    "for file in data_folder.glob('*'):\n",
    "    print(str(file)[106:])"
   ]
  },
  {
   "cell_type": "markdown",
   "metadata": {},
   "source": [
    "This package also allows you access to glob in an easy manner:  `.rglob` goes recursively, whereas `.glob` does not."
   ]
  },
  {
   "cell_type": "code",
   "execution_count": null,
   "metadata": {
    "ExecuteTime": {
     "end_time": "2022-09-15T20:51:07.447763Z",
     "start_time": "2022-09-15T20:51:07.392054Z"
    }
   },
   "outputs": [],
   "source": [
    "for file in data_folder.rglob('*'):\n",
    "    print(str(file)[106:])"
   ]
  },
  {
   "cell_type": "markdown",
   "metadata": {},
   "source": [
    ".\n",
    "\n",
    "\n",
    "\n",
    "`Path` enables us to get the parts of a path."
   ]
  },
  {
   "cell_type": "code",
   "execution_count": null,
   "metadata": {
    "ExecuteTime": {
     "end_time": "2022-09-15T20:51:20.932948Z",
     "start_time": "2022-09-15T20:51:20.926899Z"
    }
   },
   "outputs": [],
   "source": [
    "current_folder.parts"
   ]
  },
  {
   "cell_type": "markdown",
   "metadata": {},
   "source": [
    "\n",
    "    "
   ]
  },
  {
   "cell_type": "markdown",
   "metadata": {},
   "source": [
    "## `os` paths versus `pathlib` paths"
   ]
  },
  {
   "cell_type": "code",
   "execution_count": null,
   "metadata": {
    "ExecuteTime": {
     "end_time": "2022-09-07T16:50:52.574783Z",
     "start_time": "2022-09-07T16:50:52.563511Z"
    }
   },
   "outputs": [],
   "source": [
    "# pathlib.Path operates on Posix Paths\n",
    "#\n",
    "print(type(parent_folder))\n",
    "print()\n",
    "\n",
    "\n",
    "# os paths are just strings\n",
    "#\n",
    "current_folder = os.getcwd()\n",
    "print(current_folder)\n",
    "\n",
    "print()\n",
    "print(type(current_folder))\n"
   ]
  },
  {
   "cell_type": "markdown",
   "metadata": {},
   "source": [
    "We can enter both path strings and Posix Path objects to `os` modules"
   ]
  },
  {
   "cell_type": "code",
   "execution_count": null,
   "metadata": {
    "ExecuteTime": {
     "end_time": "2022-09-07T16:51:51.113454Z",
     "start_time": "2022-09-07T16:51:51.107377Z"
    }
   },
   "outputs": [],
   "source": [
    "# Folder contents\n",
    "\n",
    "print( os.listdir(parent_folder) )\n",
    "print()\n",
    "print( os.listdir(current_folder) )"
   ]
  },
  {
   "cell_type": "markdown",
   "metadata": {},
   "source": [
    "# Reading files\n",
    "\n",
    "Inside the `../Data/` folder we have another folder labelled `Roster/`. \n",
    "\n",
    "The `Roster` file is full of lots of small `.txt` files (just raw ASCII text). Each file looks something like this:\n",
    "\n",
    "---\n",
    "```\n",
    "#This is a file that holds important personal information that should not be shared. You are being watched.\n",
    "\n",
    "\n",
    "\n",
    "\n",
    "Name:\tAgatha A. Bailey\n",
    "Date of Birth:\t1/10/75\n",
    "Email Address:\tagatha.bailey@northwestern.edu\n",
    "Department:\tEngineering\n",
    "Height:\t6ft,0in\n",
    "Weight:\t220lbs\n",
    "Favorite Color:\tLime\n",
    "Favorite Animal:\tTurtle\n",
    "Zodiac Sign:\tJanuary\n",
    "```   \n",
    "---"
   ]
  },
  {
   "cell_type": "markdown",
   "metadata": {},
   "source": [
    "You just got hired as IT specialist at Northwestern University. Congratulations!\n",
    "\n",
    "It is now your responsibility to deal with the security of all these files containing private individual information (PII).\n",
    "\n",
    "Your boss asked you to do an analysis of the demographics of the university staff.  You know, age, gender, favorite color.\n"
   ]
  },
  {
   "cell_type": "markdown",
   "metadata": {},
   "source": [
    ".\n",
    "\n",
    "\n",
    ".\n",
    "\n",
    "\n",
    ".\n",
    "\n",
    "\n",
    "When we work with **any** new data the first step is to **look** at it. Print parts of it. Make sure that you're familiar with all the data types before thinking about doing any real calculations with it.\n",
    "\n",
    "So, let's start with an example file."
   ]
  },
  {
   "cell_type": "code",
   "execution_count": null,
   "metadata": {
    "ExecuteTime": {
     "end_time": "2022-09-15T20:55:00.530364Z",
     "start_time": "2022-09-15T20:55:00.520164Z"
    }
   },
   "outputs": [],
   "source": [
    "# Where our data sits\n",
    "roster_path = Path.cwd() / 'Data' / 'Roster'\n",
    "print(roster_path)\n",
    "print()\n",
    "\n",
    "# Pick one file\n",
    "agatha_path = roster_path / 'Agatha_Bailey_798.txt'\n",
    "print(agatha_path)\n",
    "print()\n"
   ]
  },
  {
   "cell_type": "code",
   "execution_count": null,
   "metadata": {
    "ExecuteTime": {
     "end_time": "2022-09-15T20:55:03.960259Z",
     "start_time": "2022-09-15T20:55:03.951732Z"
    }
   },
   "outputs": [],
   "source": [
    "# Read the file \n",
    "with open(agatha_path, 'r') as my_file:\n",
    "    print(my_file)\n",
    "    print()"
   ]
  },
  {
   "cell_type": "code",
   "execution_count": null,
   "metadata": {
    "ExecuteTime": {
     "end_time": "2022-09-15T20:55:06.739981Z",
     "start_time": "2022-09-15T20:55:06.728333Z"
    }
   },
   "outputs": [],
   "source": [
    "# Read the file and and print its content\n",
    "with open(agatha_path, 'r') as my_file:\n",
    "    agatha_data = my_file.read()\n",
    "\n",
    "\n",
    "print(type(agatha_data))\n",
    "print('------')\n",
    "print(agatha_data)\n",
    "print('------')"
   ]
  },
  {
   "cell_type": "code",
   "execution_count": null,
   "metadata": {
    "ExecuteTime": {
     "end_time": "2022-09-15T20:55:10.204016Z",
     "start_time": "2022-09-15T20:55:10.195584Z"
    }
   },
   "outputs": [],
   "source": [
    "# Read file inot a list of strings, one for each line\n",
    "with open(agatha_path, 'r') as my_file:\n",
    "    agatha_data = my_file.readlines()\n",
    "    \n",
    "print(type(agatha_data))\n",
    "print('------')\n",
    "print(len(agatha_data))\n",
    "print('------')\n",
    "print(agatha_data)\n",
    "print('------')"
   ]
  },
  {
   "cell_type": "code",
   "execution_count": null,
   "metadata": {
    "ExecuteTime": {
     "end_time": "2022-09-15T20:55:27.523050Z",
     "start_time": "2022-09-15T20:55:27.516344Z"
    }
   },
   "outputs": [],
   "source": [
    "for i, line in enumerate(agatha_data):\n",
    "    print(f\"{i:>2} >>{line}<<\")"
   ]
  },
  {
   "cell_type": "code",
   "execution_count": null,
   "metadata": {
    "ExecuteTime": {
     "end_time": "2022-09-15T20:55:41.499525Z",
     "start_time": "2022-09-15T20:55:41.493672Z"
    }
   },
   "outputs": [],
   "source": [
    "print( type(agatha_data) )  \n",
    "print()\n",
    "print( len(agatha_data) )\n"
   ]
  },
  {
   "cell_type": "code",
   "execution_count": null,
   "metadata": {
    "ExecuteTime": {
     "end_time": "2022-09-15T20:55:54.703873Z",
     "start_time": "2022-09-15T20:55:54.697304Z"
    }
   },
   "outputs": [],
   "source": [
    "print( type(agatha_data[0]) )\n",
    "print()\n",
    "print( len(agatha_data[0]) )\n",
    "print()\n",
    "print( agatha_data[0] )"
   ]
  },
  {
   "cell_type": "markdown",
   "metadata": {},
   "source": [
    "## Reading many many files\n",
    "\n",
    "The power of computer is that, unlike humans, they can easily 'read' vast numbers of files.  How do we intruct the computer to do it, though?\n",
    "\n",
    "That is where the package `glob` comes in!"
   ]
  },
  {
   "cell_type": "code",
   "execution_count": null,
   "metadata": {
    "ExecuteTime": {
     "end_time": "2022-09-15T20:56:28.708803Z",
     "start_time": "2022-09-15T20:56:28.693605Z"
    }
   },
   "outputs": [],
   "source": [
    "my_files = roster_path.glob('*.txt')\n",
    "roster_files = list( my_files )\n",
    "\n",
    "print(f\"my_files is a {type(my_files)}\")\n",
    "print()\n",
    "print(f\"roster_files is a {type(roster_files)}\")\n",
    "print('------')\n",
    "print(f\"There are {len(roster_files)} roster_files\")\n"
   ]
  },
  {
   "cell_type": "code",
   "execution_count": null,
   "metadata": {
    "ExecuteTime": {
     "end_time": "2022-09-15T20:56:36.725278Z",
     "start_time": "2022-09-15T20:56:36.719163Z"
    }
   },
   "outputs": [],
   "source": [
    "print(roster_files[:5])"
   ]
  },
  {
   "cell_type": "markdown",
   "metadata": {},
   "source": [
    "# Writing files\n",
    "\n",
    "If you perform some calculation, there are a number of reasons why you should store these values somewhere. \n",
    "\n",
    "There are three primary ways to store data: raw text, comma separated values (`csv`), and `json`.\n",
    "\n",
    "## The dumb way\n",
    "\n",
    "You can simple dump your data as string into a file, just as if you were printing to the screen.\n",
    "\n",
    "**But you should not do this.**\n",
    "\n",
    "**Why would you force yourself to redo all that processing of files that contain unstructured text?** \n",
    "\n"
   ]
  },
  {
   "cell_type": "code",
   "execution_count": null,
   "metadata": {
    "ExecuteTime": {
     "end_time": "2022-09-15T21:00:52.861285Z",
     "start_time": "2022-09-15T21:00:52.853633Z"
    }
   },
   "outputs": [],
   "source": [
    "file_path = current_folder / 'roster.txt'\n",
    "\n",
    "with open(file_path, 'w') as file_out:\n",
    "    file_out.write( \"\".join(agatha_data) )\n",
    "    "
   ]
  },
  {
   "cell_type": "code",
   "execution_count": null,
   "metadata": {
    "ExecuteTime": {
     "end_time": "2022-09-15T21:00:53.750557Z",
     "start_time": "2022-09-15T21:00:53.743951Z"
    }
   },
   "outputs": [],
   "source": [
    "os.listdir()"
   ]
  },
  {
   "cell_type": "code",
   "execution_count": null,
   "metadata": {
    "ExecuteTime": {
     "end_time": "2022-09-15T21:00:55.169100Z",
     "start_time": "2022-09-15T21:00:54.354099Z"
    }
   },
   "outputs": [],
   "source": [
    "!cat roster.txt"
   ]
  },
  {
   "cell_type": "markdown",
   "metadata": {},
   "source": [
    "## The OK way\n",
    "\n",
    "You can save your data as a table as if it was a spreadsheet.  This format is called `CSV` (comma separated values) and you can store data that has a list of lists structure.  \n",
    "\n",
    "This is a bit better than unstructured text.  **If you use `pandas` you can even recover the information concerning data types.**\n"
   ]
  },
  {
   "cell_type": "code",
   "execution_count": null,
   "metadata": {
    "ExecuteTime": {
     "end_time": "2022-09-15T21:02:30.921201Z",
     "start_time": "2022-09-15T21:02:30.916007Z"
    }
   },
   "outputs": [],
   "source": [
    "file_path = current_folder / 'roster.csv'\n",
    "\n",
    "with open(file_path, 'w') as file_out:\n",
    "    file_out.write( \",\".join(agatha_data) )\n",
    "    "
   ]
  },
  {
   "cell_type": "code",
   "execution_count": null,
   "metadata": {
    "ExecuteTime": {
     "end_time": "2022-09-15T21:02:45.881352Z",
     "start_time": "2022-09-15T21:02:45.872734Z"
    }
   },
   "outputs": [],
   "source": [
    "os.listdir()"
   ]
  },
  {
   "cell_type": "code",
   "execution_count": null,
   "metadata": {
    "ExecuteTime": {
     "end_time": "2022-09-15T21:02:59.971478Z",
     "start_time": "2022-09-15T21:02:59.181415Z"
    }
   },
   "outputs": [],
   "source": [
    "!cat roster.csv"
   ]
  },
  {
   "cell_type": "markdown",
   "metadata": {},
   "source": [
    "## A better way\n",
    "\n",
    "You should save your data using the [`JSON` format](http://json.org/). With `JSON`, we can store Python lists and dictionaries using structured text files.\n",
    "\n",
    "When we read/write files it goes instantly from the raw text to a python data object.\n",
    "\n",
    "Next, we will use `JSON` to store and retrieve structured data.\n",
    "\n",
    "First, we have to import the package."
   ]
  },
  {
   "cell_type": "code",
   "execution_count": null,
   "metadata": {
    "ExecuteTime": {
     "end_time": "2022-07-06T19:21:34.442997Z",
     "start_time": "2022-07-06T19:21:34.434202Z"
    }
   },
   "outputs": [],
   "source": [
    "import json"
   ]
  },
  {
   "cell_type": "code",
   "execution_count": null,
   "metadata": {
    "ExecuteTime": {
     "end_time": "2022-09-15T21:03:53.809468Z",
     "start_time": "2022-09-15T21:03:53.798762Z"
    }
   },
   "outputs": [],
   "source": [
    "# Use the items in roster_files to create a list of \n",
    "# tuples with First and Last Names of everyone.\n",
    "\n",
    "roster_names = []\n",
    "for filename in roster_files[:10]:  # to start limit the number of files you load\n",
    "    # Your code here\n",
    "\n",
    "print(roster_names)"
   ]
  },
  {
   "cell_type": "code",
   "execution_count": null,
   "metadata": {
    "ExecuteTime": {
     "end_time": "2022-09-07T19:13:52.863645Z",
     "start_time": "2022-09-07T19:13:52.854056Z"
    }
   },
   "outputs": [],
   "source": [
    "os.listdir()"
   ]
  },
  {
   "cell_type": "code",
   "execution_count": null,
   "metadata": {
    "ExecuteTime": {
     "end_time": "2022-09-15T21:04:37.486928Z",
     "start_time": "2022-09-15T21:04:36.623904Z"
    }
   },
   "outputs": [],
   "source": [
    "!cat roster_names.json"
   ]
  },
  {
   "cell_type": "markdown",
   "metadata": {},
   "source": [
    "You can now load the data from the `json` file..."
   ]
  },
  {
   "cell_type": "code",
   "execution_count": null,
   "metadata": {
    "ExecuteTime": {
     "end_time": "2020-12-15T23:49:26.121250Z",
     "start_time": "2020-12-15T23:49:26.113537Z"
    }
   },
   "outputs": [],
   "source": [
    "with open(cwdir / 'roster_names.json', 'r') as json_file:\n",
    "    loaded_names = json.load(json_file)\n",
    "\n",
    "print(loaded_names)"
   ]
  },
  {
   "cell_type": "code",
   "execution_count": null,
   "metadata": {},
   "outputs": [],
   "source": []
  },
  {
   "cell_type": "markdown",
   "metadata": {},
   "source": [
    "# Exercises"
   ]
  },
  {
   "cell_type": "markdown",
   "metadata": {},
   "source": [
    "Use a `for` loop to create a list of lists with the names (first and last) of five of your friends.\n",
    "\n",
    "Write your list to files using each of the three methods described above."
   ]
  },
  {
   "cell_type": "code",
   "execution_count": null,
   "metadata": {},
   "outputs": [],
   "source": []
  },
  {
   "cell_type": "markdown",
   "metadata": {},
   "source": [
    "Use the `os` package to make sure the files exist and to get their permissions in octogonal representation."
   ]
  },
  {
   "cell_type": "code",
   "execution_count": null,
   "metadata": {},
   "outputs": [],
   "source": []
  },
  {
   "cell_type": "markdown",
   "metadata": {},
   "source": [
    "Change the permissions of the `.txt` file so that no user (including you) can write or execute it and that you are the only user that can read it."
   ]
  },
  {
   "cell_type": "code",
   "execution_count": null,
   "metadata": {},
   "outputs": [],
   "source": []
  }
 ],
 "metadata": {
  "anaconda-cloud": {},
  "kernelspec": {
   "display_name": "base",
   "language": "python",
   "name": "base"
  },
  "language_info": {
   "codemirror_mode": {
    "name": "ipython",
    "version": 3
   },
   "file_extension": ".py",
   "mimetype": "text/x-python",
   "name": "python",
   "nbconvert_exporter": "python",
   "pygments_lexer": "ipython3",
   "version": "3.9.12"
  },
  "latex_envs": {
   "LaTeX_envs_menu_present": true,
   "autoclose": false,
   "autocomplete": true,
   "bibliofile": "biblio.bib",
   "cite_by": "apalike",
   "current_citInitial": 1,
   "eqLabelWithNumbers": true,
   "eqNumInitial": 1,
   "hotkeys": {
    "equation": "Ctrl-E",
    "itemize": "Ctrl-I"
   },
   "labels_anchors": false,
   "latex_user_defs": false,
   "report_style_numbering": false,
   "user_envs_cfg": false
  },
  "toc": {
   "base_numbering": 1,
   "nav_menu": {},
   "number_sections": true,
   "sideBar": true,
   "skip_h1_title": false,
   "title_cell": "Table of Contents",
   "title_sidebar": "Contents",
   "toc_cell": false,
   "toc_position": {
    "height": "calc(100% - 180px)",
    "left": "10px",
    "top": "150px",
    "width": "165px"
   },
   "toc_section_display": true,
   "toc_window_display": true
  },
  "varInspector": {
   "cols": {
    "lenName": 16,
    "lenType": 16,
    "lenVar": 40
   },
   "kernels_config": {
    "python": {
     "delete_cmd_postfix": "",
     "delete_cmd_prefix": "del ",
     "library": "var_list.py",
     "varRefreshCmd": "print(var_dic_list())"
    },
    "r": {
     "delete_cmd_postfix": ") ",
     "delete_cmd_prefix": "rm(",
     "library": "var_list.r",
     "varRefreshCmd": "cat(var_dic_list()) "
    }
   },
   "types_to_exclude": [
    "module",
    "function",
    "builtin_function_or_method",
    "instance",
    "_Feature"
   ],
   "window_display": false
  }
 },
 "nbformat": 4,
 "nbformat_minor": 1
}
