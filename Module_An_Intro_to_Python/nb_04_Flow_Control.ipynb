{
 "cells": [
  {
   "cell_type": "markdown",
   "metadata": {},
   "source": [
    "# Synopsis\n",
    "\n",
    "In this unit we will learn how to perform successive operations (\"looping\") without explicitly coding the commands. This is largely understood to be controlling the 'flow' of a program.  \n",
    "\n",
    "We will control the flow of our code by:\n",
    "\n",
    "> *Creating*, *documenting*, and *calling* functions\n",
    ">\n",
    "> Using *logical statements* to check for conditions (performing operations only `if` a condition is met)\n",
    ">\n",
    "> *Repeating* execution of some statements while a condition is met\n",
    ">\n",
    "> *Iterating* through the elements in a sequence \n",
    "\n",
    "In order to do all of this,  we will learn the commands: \n",
    "\n",
    "> `def`, `return`, `if`, `elif`, `else`, `while`, and `for`\n"
   ]
  },
  {
   "cell_type": "markdown",
   "metadata": {},
   "source": [
    "# Read libraries"
   ]
  },
  {
   "cell_type": "code",
   "execution_count": null,
   "metadata": {
    "ExecuteTime": {
     "end_time": "2022-09-15T22:20:46.674579Z",
     "start_time": "2022-09-15T22:20:46.670379Z"
    }
   },
   "outputs": [],
   "source": [
    "from IPython.core.display import HTML\n",
    "from IPython.lib.display import YouTubeVideo\n"
   ]
  },
  {
   "cell_type": "markdown",
   "metadata": {},
   "source": [
    "# Videos"
   ]
  },
  {
   "cell_type": "code",
   "execution_count": null,
   "metadata": {
    "ExecuteTime": {
     "end_time": "2022-09-15T22:20:48.567354Z",
     "start_time": "2022-09-15T22:20:48.477268Z"
    }
   },
   "outputs": [],
   "source": [
    "vid = YouTubeVideo('NE97ylAnrz4', width = 600)\n",
    "display(vid)"
   ]
  },
  {
   "cell_type": "code",
   "execution_count": null,
   "metadata": {
    "ExecuteTime": {
     "end_time": "2022-09-15T22:20:49.172445Z",
     "start_time": "2022-09-15T22:20:49.107868Z"
    }
   },
   "outputs": [],
   "source": [
    "vid = YouTubeVideo('f4KOjWS_KZs', width = 600)\n",
    "display(vid)"
   ]
  },
  {
   "cell_type": "code",
   "execution_count": null,
   "metadata": {
    "ExecuteTime": {
     "end_time": "2022-09-15T22:20:50.269559Z",
     "start_time": "2022-09-15T22:20:50.198212Z"
    }
   },
   "outputs": [],
   "source": [
    "vid = YouTubeVideo('2p3kwF04xcA', width = 600)\n",
    "display(vid)"
   ]
  },
  {
   "cell_type": "code",
   "execution_count": null,
   "metadata": {
    "ExecuteTime": {
     "end_time": "2022-09-15T22:20:51.369013Z",
     "start_time": "2022-09-15T22:20:51.307369Z"
    }
   },
   "outputs": [],
   "source": [
    "vid = YouTubeVideo('BfS2H1y6tzQ', width = 600)\n",
    "display(vid)"
   ]
  },
  {
   "cell_type": "markdown",
   "metadata": {
    "ExecuteTime": {
     "end_time": "2020-01-03T18:02:23.752688Z",
     "start_time": "2020-01-03T18:02:23.745510Z"
    }
   },
   "source": [
    "# Functions\n",
    "\n",
    "**Functions enable us to make code more readable and modular**. Readable and modular code is easier to debug, to maintain and to generalize.\n",
    "\n",
    "Most of the coding to be done in this course will require you to write functions.  In particular, the homeworks will be based on you writing functions.\n",
    "\n",
    "For a function, it all starts with the `def` command and ends with `return`.\n",
    "\n",
    ">    def function_name(inputs):\n",
    ">\n",
    ">        \"\"\"\n",
    ">        Description of what the function does\n",
    ">        \n",
    ">        input:\n",
    ">            list and describe the function inputs/parameters\n",
    ">            \n",
    ">        output:\n",
    ">            list and describe what is returned by the function\n",
    ">        \"\"\"\n",
    ">        \n",
    ">        Your code and comments go here\n",
    ">        \n",
    ">        return output1, output2, ...\n",
    "            \n",
    "In the code above, the lines between the triple quotations are the **documentation string** of the function.  Writing good documentation strings is crucial in order to make your code **readable**.  It is also particularly important to **precisely** define what your *inputs* and *outputs* are going to be.  That will enable your code to interact gracefully with other code whether written by you or by others.\n",
    "\n",
    "Let us now write a function that adds two numbers: \n"
   ]
  },
  {
   "cell_type": "code",
   "execution_count": null,
   "metadata": {
    "ExecuteTime": {
     "end_time": "2022-09-15T22:22:39.368791Z",
     "start_time": "2022-09-15T22:22:39.361499Z"
    }
   },
   "outputs": [],
   "source": [
    "who"
   ]
  },
  {
   "cell_type": "code",
   "execution_count": null,
   "metadata": {
    "ExecuteTime": {
     "end_time": "2022-09-15T22:22:45.136325Z",
     "start_time": "2022-09-15T22:22:45.130526Z"
    }
   },
   "outputs": [],
   "source": [
    "def sum_two_numbers(a, b):\n",
    "    \"\"\"\n",
    "    This function sums two numbers. It requires two inputs \n",
    "    that are int or float.\n",
    "    \n",
    "    inputs:\n",
    "        a -- int or float\n",
    "        b -- int or float\n",
    "        \n",
    "    outputs:\n",
    "        s -- int or float\n",
    "    \"\"\"\n",
    "    s = a + b\n",
    "    \n",
    "    return s\n"
   ]
  },
  {
   "cell_type": "code",
   "execution_count": null,
   "metadata": {
    "ExecuteTime": {
     "end_time": "2022-09-15T22:22:45.660186Z",
     "start_time": "2022-09-15T22:22:45.655206Z"
    }
   },
   "outputs": [],
   "source": [
    "who"
   ]
  },
  {
   "cell_type": "code",
   "execution_count": null,
   "metadata": {
    "ExecuteTime": {
     "end_time": "2022-09-15T22:22:53.495342Z",
     "start_time": "2022-09-15T22:22:53.149129Z"
    }
   },
   "outputs": [],
   "source": [
    "print(sum_two_numbers(3, 4.5))\n",
    "print('\\n--')\n",
    "print(sum_two_numbers(4, 3))\n",
    "print('\\n--')\n",
    "print(sum_two_numbers.__doc__)\n",
    "print('\\n--')\n",
    "help(sum_two_numbers)\n",
    "print('\\n--')\n",
    "help(print)\n",
    "print('\\n--')\n",
    "print(sum_two_numbers(4))\n"
   ]
  },
  {
   "cell_type": "markdown",
   "metadata": {},
   "source": [
    "When writing functions, or pretty much any code, it is important to first sketch out what the code will do.  The first step pretty much involves writing regular language descriptions of the tasks to be accomplished.\n",
    "\n",
    "In fact, just as when writing an essay it is important to define its hierarchical organization $-$ Summary, Introduction, Background, Arguments, Discussion and Conclusions $-$ with code it is also important to think at first in terms of broad goals that latter on will be partitioned into smaller tasks."
   ]
  },
  {
   "cell_type": "markdown",
   "metadata": {},
   "source": [
    "# Logical statements\n",
    "\n",
    "Imagine you are writing code for controlling a self-driving car.  Clearly, driving conditions are an important consideration is determining how fast the car can go.  These conditions could include things such as \n",
    "\n",
    "> \"is it raining?\", \n",
    ">\n",
    "> \"is the road winding?\", \n",
    ">\n",
    "> \"is the road narrow?\", \n",
    ">\n",
    "> \"is there ice on the road?\", \n",
    "\n",
    "and so on. \n",
    "\n",
    "Potentially, a positive answer to each of those questions would result in a decrease in the car's speed.\n",
    "\n",
    "When considering a problem like this, it is important to be methodical in how we go about writing the code.\n",
    "\n",
    "An important first step is **defining the variables that we will be needing to solve our problem.** Equally important, is making sure that **all our variable have name that clearly identify the purpose of the variable!**\n",
    "\n"
   ]
  },
  {
   "cell_type": "code",
   "execution_count": null,
   "metadata": {
    "ExecuteTime": {
     "end_time": "2022-01-12T20:17:45.793275Z",
     "start_time": "2022-01-12T20:17:45.789136Z"
    }
   },
   "outputs": [],
   "source": [
    "# Define needed variables\n",
    "\n",
    "default_speed = 75\n",
    "\n",
    "is_raining = True\n",
    "is_road_winding = True\n",
    "is_road_icy = False\n"
   ]
  },
  {
   "cell_type": "markdown",
   "metadata": {},
   "source": [
    "The next step is to sketch the logic of our code.  The basic idea in this particular case is that if any of the answers to the questions is true, we want to decrease the car's speed.\n",
    "\n",
    "Go ahead and write that down step by step.\n"
   ]
  },
  {
   "cell_type": "code",
   "execution_count": null,
   "metadata": {
    "ExecuteTime": {
     "end_time": "2022-01-12T20:18:38.155709Z",
     "start_time": "2022-01-12T20:18:38.140501Z"
    }
   },
   "outputs": [],
   "source": [
    "speed = default_speed\n",
    "\n",
    "if is_raining:\n",
    "    # You do it\n",
    "\n",
    "print(speed)\n",
    "\n"
   ]
  },
  {
   "cell_type": "markdown",
   "metadata": {},
   "source": [
    "It is also important that the function the rules we think it is. Imagine that you have many potential conditions that, if true, would all decrease the speed of the car.  **If all of them are in fact true, we could end up specifying a large negative speed.** \n",
    "\n",
    "In some cases, we may want to implement binary conditions, something is either true or false.  However, there could be cases in which we want to be able to differentiate between more than two possibilities.  Road windiness can vary quite a bit...\n",
    "\n",
    "<table>\n",
    "    <tr>\n",
    "        <td> <img src = \"Images/straight_road.jpg\" width = 250> </td>\n",
    "        <td> <img src = \"Images/somewhat-winding-road.webp\" width = 500> </td>\n",
    "        <td> <img src = \"Images/hunan-road.jpg\" width = 500> </td>\n",
    "    </tr>\n",
    "</table>\n",
    "\n"
   ]
  },
  {
   "cell_type": "code",
   "execution_count": null,
   "metadata": {
    "ExecuteTime": {
     "end_time": "2022-01-12T20:23:06.538459Z",
     "start_time": "2022-01-12T20:23:06.514241Z"
    },
    "code_folding": []
   },
   "outputs": [],
   "source": [
    "# road_windiness can be none, minimal, intermediate, or extreme\n",
    "\n",
    "road_windiness = 'extreme'\n",
    "\n",
    "speed = default_speed\n",
    "if road_windiness == 'extreme':\n",
    "    speed = speed - 50\n",
    "    \n",
    "elif road_windiness == 'intermediate':\n",
    "    speed -= 30\n",
    "    \n",
    "elif road_windiness == 'minimal':\n",
    "    speed -= 10\n",
    "    \n",
    "else:\n",
    "    pass  # Since the conditions are normal, no need to change speed\n",
    "    \n",
    "\n",
    "# We do not want to move backwards\n",
    "#\n",
    "if speed < 10:\n",
    "    speed = 10\n",
    "    \n",
    "print(speed)"
   ]
  },
  {
   "cell_type": "markdown",
   "metadata": {},
   "source": [
    "\n",
    "# Looping\n",
    "\n",
    "A loop is used to repeat a block of commands multiple times. There are two ways to write a loop, one is a `for` loop and the other is a `while` loop. \n",
    "\n",
    "Typically, you use a `for` loop when you know how many times you want to loop, whereas you use a `while` loop when looping is based on the value of a logical expression that must be modified inside the loop (otherwise, you get an endless loop).\n"
   ]
  },
  {
   "cell_type": "markdown",
   "metadata": {},
   "source": [
    "## `While` loops\n",
    "\n",
    "\n",
    "\n",
    "A `while` loop looks like this:\n",
    "\n",
    ">    while a_condition:\n",
    ">\n",
    ">        # do something\n",
    ">        ...\n",
    ">        \n",
    ">        # update value of a_condition\n",
    ">        ...\n",
    "        \n",
    "and it continues until `a_condition` is false.\n",
    "\n",
    "\n",
    "As an example, let's think about trying to write code to find the **greatest common denominator**. \n",
    "\n",
    "In such a question, you are given two integers and asked what is the largest integer that you can divide the two numbers by and get no remainder. \n",
    "\n"
   ]
  },
  {
   "cell_type": "code",
   "execution_count": null,
   "metadata": {
    "ExecuteTime": {
     "end_time": "2022-09-19T16:22:26.674090Z",
     "start_time": "2022-09-19T16:22:26.669570Z"
    }
   },
   "outputs": [],
   "source": [
    "first_number = 30\n",
    "second_number = 12"
   ]
  },
  {
   "cell_type": "code",
   "execution_count": null,
   "metadata": {
    "ExecuteTime": {
     "end_time": "2022-09-19T16:22:27.655695Z",
     "start_time": "2022-09-19T16:22:27.648237Z"
    }
   },
   "outputs": [],
   "source": [
    "# Easy to understand approach\n",
    "#\n",
    "# We start at 1 and keep going until min of the two numbers.\n",
    "# If some number is a common denominator, we update gcd\n",
    "#\n",
    "k = 1\n",
    "gcd = 1\n",
    "\n",
    "while k <= min(first_number, second_number):\n",
    "    k += 1\n",
    "    if first_number % k == 0 and second_number % k == 0:\n",
    "        gcd = k\n",
    "        \n",
    "print(f\"{gcd} is the greatest common denominator of \"\n",
    "      f\"{first_number} and {second_number}.\")\n",
    "\n"
   ]
  },
  {
   "cell_type": "code",
   "execution_count": null,
   "metadata": {
    "ExecuteTime": {
     "end_time": "2022-09-19T16:23:08.787775Z",
     "start_time": "2022-09-19T16:23:08.779913Z"
    }
   },
   "outputs": [],
   "source": [
    "# Very efficient approach\n",
    "#\n",
    "guess_denominator = min(first_number, second_number)\n",
    "gcd = max(first_number, second_number)\n",
    "\n",
    "while guess_denominator != 0:\n",
    "    temp = guess_denominator\n",
    "    \n",
    "    # Remainder of division of two number suggests what could be \n",
    "    # greatest common denominator\n",
    "    #\n",
    "    guess_denominator = gcd % guess_denominator\n",
    "    gcd = temp\n",
    "\n",
    "print(f\"{gcd} is the greatest common denominator of \"\n",
    "      f\"{first_number} and {second_number}.\")\n"
   ]
  },
  {
   "cell_type": "markdown",
   "metadata": {},
   "source": [
    "It is critical that within the loop block you update the value of the condition used in the `while` statement. **Otherwise, it'll just keep going on forever!**\n"
   ]
  },
  {
   "cell_type": "markdown",
   "metadata": {},
   "source": [
    "## `for` loops\n",
    "\n",
    "A `while` loop is an excellent choice when you need to perform a set of commands and do not know how many times they *should* be executed but do know when the execution *should finish*. \n",
    "\n",
    "Our next option helps us solve another type of looping, when we know *how many times* a set of commands should be executed.\n",
    "\n",
    "A `for` loop lets us repeat a set of commands a defined number of times. The syntax of a `for` loop is:\n",
    "\n",
    ">    for *item* in *sequence*:\n",
    ">\n",
    ">       # do something (potentially involving item)\n",
    ">        ...\n",
    "\n",
    "But what is a sequence?  An example is a string: the string \n",
    "\n",
    "> `hello` \n",
    "\n",
    "is made up of \n",
    "\n",
    "> `h`, `e`, `l`, `l`, and `o`.\n",
    "\n"
   ]
  },
  {
   "cell_type": "code",
   "execution_count": null,
   "metadata": {
    "ExecuteTime": {
     "end_time": "2022-07-06T16:12:31.644899Z",
     "start_time": "2022-07-06T16:12:31.636022Z"
    }
   },
   "outputs": [],
   "source": [
    "a_word = 'hello'"
   ]
  },
  {
   "cell_type": "code",
   "execution_count": null,
   "metadata": {
    "ExecuteTime": {
     "end_time": "2022-07-06T16:12:32.731692Z",
     "start_time": "2022-07-06T16:12:32.719019Z"
    }
   },
   "outputs": [],
   "source": [
    "for character in a_word:\n",
    "    print(character)"
   ]
  },
  {
   "cell_type": "code",
   "execution_count": null,
   "metadata": {
    "ExecuteTime": {
     "end_time": "2022-07-06T16:12:41.069764Z",
     "start_time": "2022-07-06T16:12:41.060053Z"
    }
   },
   "outputs": [],
   "source": [
    "for i in range( len(a_word) ):\n",
    "    print(i, a_word[i])"
   ]
  },
  {
   "cell_type": "code",
   "execution_count": null,
   "metadata": {
    "ExecuteTime": {
     "end_time": "2022-07-06T16:13:14.149486Z",
     "start_time": "2022-07-06T16:13:14.140414Z"
    }
   },
   "outputs": [],
   "source": [
    "for i, character in enumerate(a_word):\n",
    "    print(i, character)"
   ]
  },
  {
   "cell_type": "markdown",
   "metadata": {},
   "source": [
    "Because loops are so important, there are **lots** of functions in Python that return sequences. In Python 3, they are what is called an **iterator**. In practice, an iterator is a strategy to save memory by creating an algorithm that provides the next element in the sequence when it is needed.\n",
    "\n",
    "A very commonly used iterator is \n",
    "\n",
    "> `range(begin, end, step)`. \n",
    "\n",
    "It returns a sequence of numbers that starts with `begin`, then goes on with `begin + step`, `begin + 2*step`, and so on, and it stops when it equals or exceeds `end`."
   ]
  },
  {
   "cell_type": "code",
   "execution_count": null,
   "metadata": {
    "ExecuteTime": {
     "end_time": "2022-07-06T16:13:28.281378Z",
     "start_time": "2022-07-06T16:13:28.267523Z"
    }
   },
   "outputs": [],
   "source": [
    "for i in range(0, 5, 1):\n",
    "    print(i)"
   ]
  },
  {
   "cell_type": "code",
   "execution_count": null,
   "metadata": {
    "ExecuteTime": {
     "end_time": "2022-07-06T16:13:31.352759Z",
     "start_time": "2022-07-06T16:13:31.344814Z"
    }
   },
   "outputs": [],
   "source": [
    "for i in range(5):\n",
    "    print(i)"
   ]
  },
  {
   "cell_type": "code",
   "execution_count": null,
   "metadata": {
    "ExecuteTime": {
     "end_time": "2022-07-06T16:13:35.966715Z",
     "start_time": "2022-07-06T16:13:35.958954Z"
    }
   },
   "outputs": [],
   "source": [
    "for i in range(0, 5, 2):\n",
    "    print(i)"
   ]
  },
  {
   "cell_type": "code",
   "execution_count": null,
   "metadata": {
    "ExecuteTime": {
     "end_time": "2022-07-06T16:13:42.011146Z",
     "start_time": "2022-07-06T16:13:41.993032Z"
    }
   },
   "outputs": [],
   "source": [
    "for i in range(5, 0, -1):\n",
    "    print(i)"
   ]
  },
  {
   "cell_type": "code",
   "execution_count": null,
   "metadata": {
    "ExecuteTime": {
     "end_time": "2022-07-06T16:13:45.105191Z",
     "start_time": "2022-07-06T16:13:45.091268Z"
    }
   },
   "outputs": [],
   "source": [
    "for i in range(5, 0):\n",
    "    print(i)"
   ]
  },
  {
   "cell_type": "markdown",
   "metadata": {},
   "source": [
    "As I mentioned earlier, strings are also sequences and as such can be iterated through.  Moreover, we can use slicing in order to interact through different parts of the string."
   ]
  },
  {
   "cell_type": "code",
   "execution_count": null,
   "metadata": {
    "ExecuteTime": {
     "end_time": "2022-07-06T16:14:31.410660Z",
     "start_time": "2022-07-06T16:14:31.403212Z"
    }
   },
   "outputs": [],
   "source": [
    "my_string = 'aardvarks'\n",
    "\n",
    "for character in my_string[2: : 2]:\n",
    "    print( character )\n",
    "    \n",
    "print( my_string[2: : 2] )"
   ]
  },
  {
   "cell_type": "markdown",
   "metadata": {},
   "source": [
    "# Exercises\n",
    "\n",
    "Write code that given a string, makes all letters lower case and puts a space in between every letter.  For example, 'Northwestern' would become ' n o r t h w e s t e r n'.\n"
   ]
  },
  {
   "cell_type": "code",
   "execution_count": null,
   "metadata": {
    "ExecuteTime": {
     "end_time": "2022-01-12T21:00:59.553353Z",
     "start_time": "2022-01-12T21:00:59.538363Z"
    }
   },
   "outputs": [],
   "source": [
    "my_string = 'Northwestern'\n"
   ]
  },
  {
   "cell_type": "markdown",
   "metadata": {},
   "source": [
    "So this would allow us to actually manipulate the individual characters of a string and create a new string that has the manipulated characters.\n",
    "\n",
    "Like, let's say we wanted to capitalize every letter `A` in any string we are given.\n",
    "\n",
    "Write code to do just that using a `for` loop and the string \"aardvarks\"."
   ]
  },
  {
   "cell_type": "code",
   "execution_count": null,
   "metadata": {
    "ExecuteTime": {
     "end_time": "2022-09-19T16:30:14.618558Z",
     "start_time": "2022-09-19T16:30:14.614590Z"
    }
   },
   "outputs": [],
   "source": [
    "my_string = 'aardvarks'\n"
   ]
  },
  {
   "cell_type": "code",
   "execution_count": null,
   "metadata": {},
   "outputs": [],
   "source": []
  },
  {
   "cell_type": "markdown",
   "metadata": {},
   "source": [
    "Generate all permutations of three lowercase letters that start with a vowel."
   ]
  },
  {
   "cell_type": "code",
   "execution_count": null,
   "metadata": {},
   "outputs": [],
   "source": []
  },
  {
   "cell_type": "code",
   "execution_count": null,
   "metadata": {},
   "outputs": [],
   "source": []
  }
 ],
 "metadata": {
  "anaconda-cloud": {},
  "kernelspec": {
   "display_name": "base",
   "language": "python",
   "name": "base"
  },
  "language_info": {
   "codemirror_mode": {
    "name": "ipython",
    "version": 3
   },
   "file_extension": ".py",
   "mimetype": "text/x-python",
   "name": "python",
   "nbconvert_exporter": "python",
   "pygments_lexer": "ipython3",
   "version": "3.9.12"
  },
  "latex_envs": {
   "LaTeX_envs_menu_present": true,
   "autoclose": false,
   "autocomplete": true,
   "bibliofile": "biblio.bib",
   "cite_by": "apalike",
   "current_citInitial": 1,
   "eqLabelWithNumbers": true,
   "eqNumInitial": 1,
   "hotkeys": {
    "equation": "Ctrl-E",
    "itemize": "Ctrl-I"
   },
   "labels_anchors": false,
   "latex_user_defs": false,
   "report_style_numbering": false,
   "user_envs_cfg": false
  },
  "toc": {
   "base_numbering": 1,
   "nav_menu": {},
   "number_sections": true,
   "sideBar": true,
   "skip_h1_title": false,
   "title_cell": "Table of Contents",
   "title_sidebar": "Contents",
   "toc_cell": false,
   "toc_position": {
    "height": "calc(100% - 180px)",
    "left": "10px",
    "top": "150px",
    "width": "165px"
   },
   "toc_section_display": true,
   "toc_window_display": true
  },
  "varInspector": {
   "cols": {
    "lenName": 16,
    "lenType": 16,
    "lenVar": 40
   },
   "kernels_config": {
    "python": {
     "delete_cmd_postfix": "",
     "delete_cmd_prefix": "del ",
     "library": "var_list.py",
     "varRefreshCmd": "print(var_dic_list())"
    },
    "r": {
     "delete_cmd_postfix": ") ",
     "delete_cmd_prefix": "rm(",
     "library": "var_list.r",
     "varRefreshCmd": "cat(var_dic_list()) "
    }
   },
   "types_to_exclude": [
    "module",
    "function",
    "builtin_function_or_method",
    "instance",
    "_Feature"
   ],
   "window_display": false
  }
 },
 "nbformat": 4,
 "nbformat_minor": 1
}
