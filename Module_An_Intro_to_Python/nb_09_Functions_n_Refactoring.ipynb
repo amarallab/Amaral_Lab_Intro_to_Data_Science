{
 "cells": [
  {
   "cell_type": "markdown",
   "metadata": {},
   "source": [
    "# Synopsis\n",
    "\n",
    "In this unit we will learn that:\n",
    "\n",
    "> **Modular** code is more readable, easier to maintain, and less prone to the creeping in of bugs.\n",
    ">\n",
    "> **Re-factoring** of code, that is, the re-writing and re-organizing of code, is a critical part of developing modular code.\n",
    "\n",
    "Functions are the underpins of modular code. They enable a programmer to avoid repeating lines of code across a project.\n",
    "\n",
    ">    1. Descriptive function names increase code readability.\n",
    ">    \n",
    ">    2. Appropriate documentation of a function makes it easier to avoid logical errors.\n"
   ]
  },
  {
   "cell_type": "markdown",
   "metadata": {},
   "source": [
    "# Read libraries"
   ]
  },
  {
   "cell_type": "code",
   "execution_count": null,
   "metadata": {
    "ExecuteTime": {
     "end_time": "2023-09-07T21:38:55.737316Z",
     "start_time": "2023-09-07T21:38:55.728121Z"
    }
   },
   "outputs": [],
   "source": [
    "import datetime\n",
    "import json\n",
    "\n",
    "from colorama import Fore, Style\n",
    "from pathlib import Path"
   ]
  },
  {
   "cell_type": "markdown",
   "metadata": {},
   "source": [
    "# Functions\n",
    "\n",
    "**Writing modular code is good!**\n",
    "\n",
    "**Functions** are the workhorses of modular programming in Python! So, what's a function?\n",
    "\n",
    "You were actually exposed to functions when you filled in your answers to the homework questions **inside** of a function structure. So whenever you see this syntax:\n",
    "\n",
    "```\n",
    "def function_name():\n",
    "     \n",
    "     #Your statements\n",
    "     \n",
    "     return something\n",
    "```\n",
    "\n",
    "that block of code is a function. \n",
    "\n",
    "Functions help us avoid repeating the same set of statements everytime we want to repeat a task. Functions increase code readability. Functions make code revision and updating easier (you do not have to re-do revisions in all the places of your code where the task is needed. Functions make testing of your code easier and more reliable.\n",
    "\n",
    "In order to execute the code in a function, you use the syntax `function_name()`. \n",
    "\n",
    "**If you do not \"call\" your function in your code, then it is never executed.**  However, the Python interpreter will still check its code for syntax errors.\n"
   ]
  },
  {
   "cell_type": "markdown",
   "metadata": {},
   "source": [
    "<br>\n",
    "\n",
    "<br>\n",
    "\n",
    "Let's write a really simple function -- a function that \"prints hello\".\n"
   ]
  },
  {
   "cell_type": "code",
   "execution_count": null,
   "metadata": {
    "ExecuteTime": {
     "end_time": "2023-09-07T21:39:13.172430Z",
     "start_time": "2023-09-07T21:39:13.167456Z"
    }
   },
   "outputs": [],
   "source": [
    "def print_hello():\n",
    "    '''\n",
    "    Prints the word \"Hello\"\n",
    "    \n",
    "    input:\n",
    "        - None\n",
    "    output:\n",
    "        - None\n",
    "    '''\n",
    "    print('Hello!\\n')\n",
    "    \n"
   ]
  },
  {
   "cell_type": "code",
   "execution_count": null,
   "metadata": {
    "ExecuteTime": {
     "end_time": "2023-09-07T21:39:52.252667Z",
     "start_time": "2023-09-07T21:39:52.247238Z"
    }
   },
   "outputs": [],
   "source": [
    "print(Fore.RED, print_hello(), Style.RESET_ALL)"
   ]
  },
  {
   "cell_type": "markdown",
   "metadata": {},
   "source": [
    "You just wrote a simple function! \n",
    "\n",
    "Notice that after writing it nothing was printed. That is because you didn't *call* the function, You only defined it so `Python` will know what on earth you're talking if you write `print_hello()` anywhere.\n",
    "\n",
    "You *call* a function just by writing its name along with the parentheses:"
   ]
  },
  {
   "cell_type": "code",
   "execution_count": null,
   "metadata": {
    "ExecuteTime": {
     "end_time": "2023-09-07T21:40:07.634937Z",
     "start_time": "2023-09-07T21:40:07.631314Z"
    }
   },
   "outputs": [],
   "source": [
    "print_hello()\n",
    "print('----')\n",
    "help(print_hello)"
   ]
  },
  {
   "cell_type": "markdown",
   "metadata": {},
   "source": [
    "<br>\n",
    "\n",
    "<br>\n",
    "\n",
    "\n",
    "Let's now write a more exciting function that allows for inputs. "
   ]
  },
  {
   "cell_type": "code",
   "execution_count": null,
   "metadata": {
    "ExecuteTime": {
     "end_time": "2023-09-07T21:40:25.397022Z",
     "start_time": "2023-09-07T21:40:25.391606Z"
    }
   },
   "outputs": [],
   "source": [
    "def greeting(name = '!'):\n",
    "    '''\n",
    "    Prints  \"Hello name\"\n",
    "    \n",
    "    input:\n",
    "        name - str, default value is '!'\n",
    "    output:\n",
    "        - None\n",
    "    '''\n",
    "    my_string = f\"Hello {name}!\"        \n",
    "    print(my_string)     \n",
    "    \n",
    "    return    "
   ]
  },
  {
   "cell_type": "code",
   "execution_count": null,
   "metadata": {
    "ExecuteTime": {
     "end_time": "2023-09-07T21:40:26.183093Z",
     "start_time": "2023-09-07T21:40:26.176122Z"
    }
   },
   "outputs": [],
   "source": [
    "greeting('Mary')\n",
    "\n",
    "greeting()\n",
    "\n",
    "greeting(3)\n",
    "\n",
    "a_name = 'Joe'\n",
    "greeting(a_name)"
   ]
  },
  {
   "cell_type": "markdown",
   "metadata": {},
   "source": [
    "<br>\n",
    "\n",
    "Functions can take in inputs. The variable names in the code calling the function do not carry to inside of the function. The local variable names used inside the function definition are only valid in the scope of the definition. \n",
    "\n",
    "This scope is called a **namespace**.  \n",
    "\n",
    "This compartmentalization of variable names makes it much easier to avoid errors due to using the name of variables defined in other parts of the code about which we may not be aware.\n"
   ]
  },
  {
   "cell_type": "code",
   "execution_count": null,
   "metadata": {
    "ExecuteTime": {
     "end_time": "2023-02-03T23:24:43.189557Z",
     "start_time": "2023-02-03T23:24:43.178187Z"
    }
   },
   "outputs": [],
   "source": [
    "who"
   ]
  },
  {
   "cell_type": "code",
   "execution_count": null,
   "metadata": {
    "ExecuteTime": {
     "end_time": "2023-09-07T21:40:39.550038Z",
     "start_time": "2023-09-07T21:40:39.384019Z"
    }
   },
   "outputs": [],
   "source": [
    "print(my_string)"
   ]
  },
  {
   "cell_type": "markdown",
   "metadata": {},
   "source": [
    "<br>\n",
    "\n",
    "<br>\n",
    "\n",
    "This is an amazingly useful properties of **namespaces**. We do not need to keep track of what variables are defined within the  functions we call in our code because as soon as the execution of those functions is concluded all variable defined internally to the function will be deleted.  Thus, we do not need to keep inventing new variable names.  \n",
    "\n",
    "# Namespaces\n",
    "\n",
    "Generally speaking, a **namespace** (sometimes also called a context) is a naming system for making names unique to avoid ambiguity. A (not very good) namespace system used in daily life is the naming of people with a firstname and a surname. A much better namespace system is the  directory structure of file systems. The same file name can be used in different directories, the files can be uniquely accessed via the pathnames. \n",
    "\n",
    "Many programming languages use **namespaces** or contexts for identifiers. An identifier defined in a **namespace** is associated with that **namespace**. This way, the same identifier can be independently defined in multiple **namespaces**. (Like the same file names in different directories) \n",
    "\n",
    "**Note that in Python we can define variables that are not limited to a given `namespace`.  We can define `global` variables, and those variables will be accessible and known across all `namespaces` created during the execution of your code.**\n",
    "\n",
    "\n"
   ]
  },
  {
   "cell_type": "code",
   "execution_count": null,
   "metadata": {
    "ExecuteTime": {
     "end_time": "2023-09-07T21:40:51.655449Z",
     "start_time": "2023-09-07T21:40:51.647857Z"
    }
   },
   "outputs": [],
   "source": [
    "special_text = 'Saying it back at you:'\n",
    "\n",
    "def nothing_strange(input_string):\n",
    "    '''\n",
    "    Adds a special_text to a string\n",
    "\n",
    "    input:\n",
    "        input_string - str\n",
    "        \n",
    "    output:\n",
    "        output - str\n",
    "    '''    \n",
    "#     print(f\"--The internal value of special_text is\\n'{special_text}'\\n\")\n",
    "    \n",
    "    output = f\"{special_text} {input_string.upper()}.\\n\\n\"\n",
    "\n",
    "    return output"
   ]
  },
  {
   "cell_type": "code",
   "execution_count": null,
   "metadata": {
    "ExecuteTime": {
     "end_time": "2023-09-07T21:41:25.630715Z",
     "start_time": "2023-09-07T21:41:25.625516Z"
    }
   },
   "outputs": [],
   "source": [
    "print( nothing_strange('hello') )\n",
    "\n",
    "print(f\"--The external value of special_text is\\n\\t'{special_text}'\\n\")"
   ]
  },
  {
   "cell_type": "code",
   "execution_count": null,
   "metadata": {
    "ExecuteTime": {
     "end_time": "2023-09-07T21:31:58.360895Z",
     "start_time": "2023-09-07T21:31:58.350971Z"
    }
   },
   "outputs": [],
   "source": [
    "who"
   ]
  },
  {
   "cell_type": "markdown",
   "metadata": {},
   "source": [
    "In the above code, we defined a global variable `special_text`, which was accessed inside the function `nothing_strange()`. \n",
    "\n",
    "**This is very dangerous!** Most of the time, one does not check the code inside a function or the entirety of the code in a large project.\n",
    "\n",
    "> What if somewhere else in the code someone changes the value of `special_text`? \n",
    "\n",
    "In general, **it is not a good practice to make general use of global variables**.\n",
    "\n",
    "Notice that if you change the value of `special_text` inside the function, Python will assume that the name is **not** referring to a global variable. This will result in an `UnboundLocalError`.\n"
   ]
  },
  {
   "cell_type": "code",
   "execution_count": null,
   "metadata": {
    "ExecuteTime": {
     "end_time": "2023-09-07T21:42:33.484363Z",
     "start_time": "2023-09-07T21:42:33.479406Z"
    },
    "code_folding": [
     2
    ]
   },
   "outputs": [],
   "source": [
    "special_text = 'Saying it back to you:'\n",
    "\n",
    "def nothing_strange(input_string):\n",
    "    '''\n",
    "    Adds a special_text to a string\n",
    "\n",
    "    input:\n",
    "        input_string - str\n",
    "        \n",
    "    output:\n",
    "        output - str\n",
    "    '''    \n",
    "    special_text = Fore.RED + 'Bet you were not expecting this, were you?'\n",
    "                     \n",
    "#     print(f\"--The internal value of special_text is\\n'{special_text}'\\n\")    \n",
    "    \n",
    "    output = f\"{special_text} {input_string.upper()}\\n\\n\"\n",
    "\n",
    "    return output"
   ]
  },
  {
   "cell_type": "code",
   "execution_count": null,
   "metadata": {
    "ExecuteTime": {
     "end_time": "2023-09-07T21:42:35.048024Z",
     "start_time": "2023-09-07T21:42:35.043781Z"
    }
   },
   "outputs": [],
   "source": [
    "print( nothing_strange('hello') )\n",
    "\n",
    "print(f\"--The external value of special_text is\\n\\t'{special_text}'\\n\")"
   ]
  },
  {
   "cell_type": "markdown",
   "metadata": {},
   "source": [
    "# Computational thinking \n",
    "\n",
    "A simple example is one thing, but it can be hard to figure out how to use functions in **real** code. \n",
    "\n",
    "In general, **it is good practice to write functions that do only one task**. If a function you write turns out to do two or more tasks, it may be worthwhile to determine whether it would not make more sense to split your function in smaller ones. \n",
    "\n",
    "**If your functions do a single task, it will be easier to name them in a more specific manner by  referring to the actions it will perform**: find, print, calculate, connect, extract...\n",
    "\n",
    "Function names can also be used as a device to sketch out what our program intends to do. To make this clear, let's go back to your administrative job from **notebook 7** and work with the `Roster` data.\n",
    "\n",
    "Imagine that we want to *calculate the ages of all the people in the Roster folder*. **How would we accomplish this?**\n"
   ]
  },
  {
   "cell_type": "markdown",
   "metadata": {},
   "source": [
    "## Sketching out a function\n"
   ]
  },
  {
   "cell_type": "markdown",
   "metadata": {},
   "source": [
    "In order to write code, you have to think how to break down complex goals into smaller, simpler, well-defined tasks.  Let's break the goal of finding out the age of all persons, into smaller tasks.\n",
    "There are 800 data files in the `Data/Roster`. \n",
    "\n",
    "**Pseudo-code**\n",
    "\n",
    ">    set path to folder with data\n",
    ">\n",
    ">    set date at which age is calculated\n",
    ">    \n",
    ">    get list of paths to record files\n",
    ">    \n",
    ">    iterate over paths to record files:\n",
    "> >  read file\n",
    "> >\n",
    "> >  parse record\n",
    "> >\n",
    "> >  extract birthday\n",
    "> >\n",
    "> >  calculate age\n",
    "\n",
    "\n",
    "Each task in this `pseudo-code` suggests a the coding of a function that implements the desired task. Our pseudo-code also makes it clear how we could add additional calculations to our program or to take actions based on the values we calculate.\n",
    "\n",
    "Let's consider the first task in our pseudo-code: *get list of paths to files with records*.  \n"
   ]
  },
  {
   "cell_type": "code",
   "execution_count": null,
   "metadata": {
    "ExecuteTime": {
     "end_time": "2023-09-07T21:44:51.530929Z",
     "start_time": "2023-09-07T21:44:51.522449Z"
    }
   },
   "outputs": [],
   "source": [
    "# set path to folder with data\n",
    "\n",
    "folder_path = Path.cwd() / 'Data' / 'Roster'\n",
    "folder_path"
   ]
  },
  {
   "cell_type": "code",
   "execution_count": null,
   "metadata": {
    "ExecuteTime": {
     "end_time": "2023-09-07T21:44:52.773018Z",
     "start_time": "2023-09-07T21:44:52.760341Z"
    }
   },
   "outputs": [],
   "source": [
    "# set date at which age is calculated\n",
    "\n",
    "relevant_date = datetime.date.today()\n",
    "relevant_date"
   ]
  },
  {
   "cell_type": "markdown",
   "metadata": {},
   "source": [
    "Since we want our code to be readable, we will call the function `get_path_to_records()`.\n",
    "\n",
    "There are three basic questions that help you sketch a function:\n",
    "\n",
    "> What does this function do?\n",
    ">\n",
    "> What inputs does this function need to do that?\n",
    ">\n",
    "> What does the function return?\n",
    "\n",
    "The answers to these questions need to be answered before you start writing any code.  This is called **stubbing**, i.e., creating a code **stub**.\n",
    "\n",
    "They are also the question that someone planning to use your code later will want answered.  For this reason, This is the information you **must** provide in the function's `docstring`. \n",
    "\n",
    "**What task is the function accomplishing?**\n",
    "\n",
    "The student files in our project are all in a single directory and all end with the `txt` extension.  Thus, we should write a  function that returns all of the filenames with the `txt` extension in a given directory.\n",
    "\n",
    "**What inputs does the function require?**\n",
    "\n",
    "The function needs to be given as input a directory and, if we want to be more general, an extension type.\n",
    "\n",
    "**How should the information returned be formatted?**\n",
    "\n",
    "Our function is collecting the file names of the student records. Our pseudo-code also tells us that we will be iterating through the elements in our collection.  Putting these facts together, it seems pretty clear that a good option for the output of our function is a list of file names in string form .\n",
    "\n",
    "Let's implement these decisions!"
   ]
  },
  {
   "cell_type": "code",
   "execution_count": null,
   "metadata": {
    "ExecuteTime": {
     "end_time": "2023-09-07T21:47:28.525900Z",
     "start_time": "2023-09-07T21:47:28.510984Z"
    }
   },
   "outputs": [],
   "source": [
    "def get_path_to_records( folder_path, pattern = '*.txt' ):\n",
    "    \"\"\"\n",
    "    Return all roster filenames in directory\n",
    "    \n",
    "    input:\n",
    "        folder_path - Path object to the directory that contains the roster \n",
    "                      files\n",
    "        pattern - str for filtering file names\n",
    "        \n",
    "    output:\n",
    "        my_paths - list of Paths to roster files in directory\n",
    "    \"\"\"\n",
    "    my_paths = []\n",
    "    \n",
    "    # Statements here!\n",
    "    \n",
    "    return my_paths"
   ]
  },
  {
   "cell_type": "markdown",
   "metadata": {},
   "source": [
    "<br>\n",
    "\n",
    "<br>\n",
    "\n",
    "and we can do the stubbing for the other functions we will need to write."
   ]
  },
  {
   "cell_type": "code",
   "execution_count": null,
   "metadata": {
    "ExecuteTime": {
     "end_time": "2023-09-07T21:47:28.940035Z",
     "start_time": "2023-09-07T21:47:28.933425Z"
    }
   },
   "outputs": [],
   "source": [
    "def parse_record( filename ):\n",
    "    \"\"\"\n",
    "    \n",
    "    \"\"\"\n",
    "    record = []\n",
    "    \n",
    "    # Statements here!\n",
    "    \n",
    "    return record\n"
   ]
  },
  {
   "cell_type": "code",
   "execution_count": null,
   "metadata": {
    "ExecuteTime": {
     "end_time": "2023-09-07T21:47:29.415525Z",
     "start_time": "2023-09-07T21:47:29.409359Z"
    }
   },
   "outputs": [],
   "source": [
    "def extract_birthdate( date_string ):\n",
    "    \"\"\"\n",
    "    \n",
    "    \"\"\"\n",
    "    birthday = ''\n",
    "    \n",
    "    # Statements here!\n",
    "    \n",
    "    return birthdate"
   ]
  },
  {
   "cell_type": "code",
   "execution_count": null,
   "metadata": {
    "ExecuteTime": {
     "end_time": "2023-09-07T21:47:30.383608Z",
     "start_time": "2023-09-07T21:47:30.375533Z"
    }
   },
   "outputs": [],
   "source": [
    "def calculate_age( birthdate, relevant_date ):\n",
    "    \"\"\"\n",
    "    \n",
    "    \"\"\"\n",
    "    age = 0\n",
    "    \n",
    "    # Statements here!\n",
    "    \n",
    "    return age"
   ]
  },
  {
   "cell_type": "markdown",
   "metadata": {},
   "source": [
    "A very cool thing is that these sketched functions enable us to write our pseudo-code for real and to run it! Of course the code returns nothing useful but it enables us to test it as we go along. "
   ]
  },
  {
   "cell_type": "code",
   "execution_count": null,
   "metadata": {
    "ExecuteTime": {
     "end_time": "2023-09-07T21:49:27.336872Z",
     "start_time": "2023-09-07T21:49:27.330074Z"
    }
   },
   "outputs": [],
   "source": [
    "my_paths = get_path_to_records( folder_path )\n",
    "print(my_paths[:2])\n",
    "\n",
    "for filename in my_paths:\n",
    "    record = parse_record(filename)\n",
    "    date_string = 'a'\n",
    "    birthdate = extract_birthdate( date_string )\n",
    "    age = calculate_age(birthdate, relevant_date)\n",
    "        \n"
   ]
  },
  {
   "cell_type": "markdown",
   "metadata": {},
   "source": [
    "## Adding details to a stubbed function\n",
    "\n",
    "With separate functions, it can be easy to develop and test each one without having to process the entire data set every time. Lets start by finding all the records.\n",
    "\n",
    "A powerful capability of the notebook is that it enables us to write and test a piece of code in a single cell until we are confident that it does what we want. We can then copy that code into the cell where we want to define the function.\n",
    "\n",
    "**Get going!**\n"
   ]
  },
  {
   "cell_type": "code",
   "execution_count": null,
   "metadata": {
    "ExecuteTime": {
     "end_time": "2023-01-23T20:40:44.398779Z",
     "start_time": "2023-01-23T20:40:44.384952Z"
    }
   },
   "outputs": [],
   "source": [
    "def get_path_to_records( folder_path, pattern = '*.txt' ):\n",
    "    \"\"\"\n",
    "    Return all roster filenames in directory\n",
    "    \n",
    "    input:\n",
    "        folder_path - Path object to the directory that contains the roster \n",
    "                      files\n",
    "        pattern - str for filtering file names\n",
    "        \n",
    "    output:\n",
    "        my_paths - list of Paths to roster files in directory\n",
    "    \"\"\"\n",
    "    my_paths = []\n",
    "    \n",
    "    # Statements here!\n",
    "    \n",
    "    return my_paths"
   ]
  },
  {
   "cell_type": "code",
   "execution_count": null,
   "metadata": {
    "ExecuteTime": {
     "end_time": "2023-01-23T20:41:51.873810Z",
     "start_time": "2023-01-23T20:41:51.867926Z"
    }
   },
   "outputs": [],
   "source": [
    "def calculate_age( birthdate, relevant_date ):\n",
    "    \"\"\"\n",
    "    \n",
    "    \"\"\"\n",
    "    age = 0\n",
    "    \n",
    "    # Statements here!\n",
    "    \n",
    "    return age"
   ]
  },
  {
   "cell_type": "markdown",
   "metadata": {},
   "source": [
    "When it is time to write the code for the function `parse_record` work in the **[dictionaries notebook](nb_10_Dictionaries.ipynb)**"
   ]
  },
  {
   "cell_type": "code",
   "execution_count": null,
   "metadata": {},
   "outputs": [],
   "source": []
  }
 ],
 "metadata": {
  "anaconda-cloud": {},
  "kernelspec": {
   "display_name": "Python [conda env:new_base]",
   "language": "python",
   "name": "conda-env-new_base-py"
  },
  "language_info": {
   "codemirror_mode": {
    "name": "ipython",
    "version": 3
   },
   "file_extension": ".py",
   "mimetype": "text/x-python",
   "name": "python",
   "nbconvert_exporter": "python",
   "pygments_lexer": "ipython3",
   "version": "3.11.4"
  },
  "latex_envs": {
   "LaTeX_envs_menu_present": true,
   "autoclose": false,
   "autocomplete": true,
   "bibliofile": "biblio.bib",
   "cite_by": "apalike",
   "current_citInitial": 1,
   "eqLabelWithNumbers": true,
   "eqNumInitial": 1,
   "hotkeys": {
    "equation": "Ctrl-E",
    "itemize": "Ctrl-I"
   },
   "labels_anchors": false,
   "latex_user_defs": false,
   "report_style_numbering": false,
   "user_envs_cfg": false
  },
  "toc": {
   "base_numbering": 1,
   "nav_menu": {},
   "number_sections": true,
   "sideBar": true,
   "skip_h1_title": false,
   "title_cell": "Table of Contents",
   "title_sidebar": "Contents",
   "toc_cell": false,
   "toc_position": {
    "height": "calc(100% - 180px)",
    "left": "10px",
    "top": "150px",
    "width": "225px"
   },
   "toc_section_display": true,
   "toc_window_display": true
  },
  "varInspector": {
   "cols": {
    "lenName": 16,
    "lenType": 16,
    "lenVar": 40
   },
   "kernels_config": {
    "python": {
     "delete_cmd_postfix": "",
     "delete_cmd_prefix": "del ",
     "library": "var_list.py",
     "varRefreshCmd": "print(var_dic_list())"
    },
    "r": {
     "delete_cmd_postfix": ") ",
     "delete_cmd_prefix": "rm(",
     "library": "var_list.r",
     "varRefreshCmd": "cat(var_dic_list()) "
    }
   },
   "types_to_exclude": [
    "module",
    "function",
    "builtin_function_or_method",
    "instance",
    "_Feature"
   ],
   "window_display": false
  }
 },
 "nbformat": 4,
 "nbformat_minor": 4
}
