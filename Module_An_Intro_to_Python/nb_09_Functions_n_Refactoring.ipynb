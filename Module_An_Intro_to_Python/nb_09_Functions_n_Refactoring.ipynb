{
 "cells": [
  {
   "cell_type": "markdown",
   "metadata": {},
   "source": [
    "# Synopsis\n",
    "\n",
    "In this unit we will learn that:\n",
    "\n",
    "> **Modular** code is more readable, easier to maintain, and less prone to the creeping in of bugs.\n",
    ">\n",
    "> **Re-factoring** of code, that is, the re-writing and re-organizing of code, is a critical part of developing modular code.\n",
    "\n",
    "Functions are the underpins of modular code. They enable a programmer to avoid repeating lines of code across a project.\n",
    "\n",
    ">    1. Descriptive function names increase code readability.\n",
    ">    \n",
    ">    2. Appropriate documentation of a function makes it easier to avoid logical errors.\n"
   ]
  },
  {
   "cell_type": "markdown",
   "metadata": {},
   "source": [
    "# Read libraries"
   ]
  },
  {
   "cell_type": "code",
   "execution_count": 2,
   "metadata": {
    "ExecuteTime": {
     "end_time": "2023-09-07T21:38:55.737316Z",
     "start_time": "2023-09-07T21:38:55.728121Z"
    },
    "execution": {
     "iopub.execute_input": "2024-09-13T20:05:12.127385Z",
     "iopub.status.busy": "2024-09-13T20:05:12.126419Z",
     "iopub.status.idle": "2024-09-13T20:05:12.170445Z",
     "shell.execute_reply": "2024-09-13T20:05:12.170090Z",
     "shell.execute_reply.started": "2024-09-13T20:05:12.127346Z"
    }
   },
   "outputs": [],
   "source": [
    "%load_ext autoreload\n",
    "%autoreload 2\n",
    "\n",
    "import datetime\n",
    "import json\n",
    "\n",
    "from colorama import Fore, Style\n",
    "from pathlib import Path"
   ]
  },
  {
   "cell_type": "markdown",
   "metadata": {},
   "source": [
    "# Functions\n",
    "\n",
    "**Writing modular code is good!**\n",
    "\n",
    "**Functions** are the workhorses of modular programming in Python! So, what's a function?\n",
    "\n",
    "You were actually exposed to functions when you filled in your answers to the homework questions **inside** of a function structure. So whenever you see this syntax:\n",
    "\n",
    "```\n",
    "def function_name():\n",
    "     \n",
    "     #Your statements\n",
    "     \n",
    "     return something\n",
    "```\n",
    "\n",
    "that block of code is a function. \n",
    "\n",
    "Functions help us avoid repeating the same set of statements everytime we want to repeat a task. Functions increase code readability. Functions make code revision and updating easier (you do not have to re-do revisions in all the places of your code where the task is needed. Functions make testing of your code easier and more reliable.\n",
    "\n",
    "In order to execute the code in a function, you use the syntax `function_name()`. \n",
    "\n",
    "**If you do not \"call\" your function in your code, then it is never executed.**  However, the Python interpreter will still check its code for syntax errors.\n"
   ]
  },
  {
   "cell_type": "markdown",
   "metadata": {},
   "source": [
    "<br>\n",
    "\n",
    "<br>\n",
    "\n",
    "## No inputs\n",
    "\n",
    "Let's write a really simple function -- a function that \"prints hello\".\n"
   ]
  },
  {
   "cell_type": "code",
   "execution_count": null,
   "metadata": {
    "ExecuteTime": {
     "end_time": "2023-09-07T21:39:13.172430Z",
     "start_time": "2023-09-07T21:39:13.167456Z"
    }
   },
   "outputs": [],
   "source": [
    "def print_hello():\n",
    "    '''\n",
    "    Prints the word \"Hello\"\n",
    "    \n",
    "    input:\n",
    "        - None\n",
    "    output:\n",
    "        - None\n",
    "    '''\n",
    "    print('Hello!\\n')\n",
    "    \n"
   ]
  },
  {
   "cell_type": "code",
   "execution_count": null,
   "metadata": {
    "ExecuteTime": {
     "end_time": "2023-09-07T21:39:52.252667Z",
     "start_time": "2023-09-07T21:39:52.247238Z"
    }
   },
   "outputs": [],
   "source": [
    "print(Fore.RED, print_hello(), Style.RESET_ALL)"
   ]
  },
  {
   "cell_type": "markdown",
   "metadata": {},
   "source": [
    "You just wrote a simple function! \n",
    "\n",
    "Notice that after writing it nothing was printed. That is because you didn't *call* the function, You only defined it so `Python` will know what on earth you're talking if you write `print_hello()` anywhere.\n",
    "\n",
    "You *call* a function just by writing its name along with the parentheses:"
   ]
  },
  {
   "cell_type": "code",
   "execution_count": null,
   "metadata": {
    "ExecuteTime": {
     "end_time": "2023-09-07T21:40:07.634937Z",
     "start_time": "2023-09-07T21:40:07.631314Z"
    }
   },
   "outputs": [],
   "source": [
    "print_hello()\n",
    "print('----')\n",
    "help(print_hello)"
   ]
  },
  {
   "cell_type": "markdown",
   "metadata": {},
   "source": [
    "<br>\n",
    "\n",
    "## With inputs\n",
    "\n",
    "Let's now write a more exciting function that allows for inputs. "
   ]
  },
  {
   "cell_type": "code",
   "execution_count": null,
   "metadata": {
    "ExecuteTime": {
     "end_time": "2023-09-07T21:40:25.397022Z",
     "start_time": "2023-09-07T21:40:25.391606Z"
    }
   },
   "outputs": [],
   "source": [
    "def greeting(name = '!'):\n",
    "    '''\n",
    "    Prints  \"Hello name\"\n",
    "    \n",
    "    input:\n",
    "        name - str, default value is '!'\n",
    "    output:\n",
    "        - None\n",
    "    '''\n",
    "    my_string = f\"Hello {name}!\"        \n",
    "    print(my_string)     \n",
    "    \n",
    "    return    "
   ]
  },
  {
   "cell_type": "code",
   "execution_count": null,
   "metadata": {
    "ExecuteTime": {
     "end_time": "2023-09-07T21:40:26.183093Z",
     "start_time": "2023-09-07T21:40:26.176122Z"
    }
   },
   "outputs": [],
   "source": [
    "greeting('Mary')\n",
    "\n",
    "greeting()\n",
    "\n",
    "greeting(3)\n",
    "\n",
    "a_name = 'Joe'\n",
    "greeting(a_name)"
   ]
  },
  {
   "cell_type": "markdown",
   "metadata": {},
   "source": [
    "<br>\n",
    "\n",
    "Functions can take in inputs. The variable names in the code calling the function do not carry to inside of the function. The local variable names used inside the function definition are only valid in the scope of the definition. \n",
    "\n",
    "This scope is called a **namespace**.  \n",
    "\n",
    "This compartmentalization of variable names makes it much easier to avoid errors due to using the name of variables defined in other parts of the code about which we may not be aware.\n"
   ]
  },
  {
   "cell_type": "code",
   "execution_count": null,
   "metadata": {
    "ExecuteTime": {
     "end_time": "2023-02-03T23:24:43.189557Z",
     "start_time": "2023-02-03T23:24:43.178187Z"
    }
   },
   "outputs": [],
   "source": [
    "who"
   ]
  },
  {
   "cell_type": "code",
   "execution_count": null,
   "metadata": {
    "ExecuteTime": {
     "end_time": "2023-09-07T21:40:39.550038Z",
     "start_time": "2023-09-07T21:40:39.384019Z"
    }
   },
   "outputs": [],
   "source": [
    "print(my_string)"
   ]
  },
  {
   "cell_type": "markdown",
   "metadata": {},
   "source": [
    "<br>\n",
    "\n",
    "<br>\n",
    "\n",
    "This is an amazingly useful properties of **namespaces**. We do not need to keep track of what variables are defined within the  functions we call in our code because as soon as the execution of those functions is concluded all variable defined internally to the function will be deleted.  Thus, we do not need to keep inventing new variable names.  \n",
    "\n",
    "# Namespaces\n",
    "\n",
    "Generally speaking, a **namespace** (sometimes also called a context) is a naming system for making names unique to avoid ambiguity. A (not very good) namespace system used in daily life is the naming of people with a firstname and a surname. A much better namespace system is the  directory structure of file systems. The same file name can be used in different directories, the files can be uniquely accessed via the pathnames. \n",
    "\n",
    "Many programming languages use **namespaces** or contexts for identifiers. An identifier defined in a **namespace** is associated with that **namespace**. This way, the same identifier can be independently defined in multiple **namespaces**. (Like the same file names in different directories) \n",
    "\n",
    "**Note that in Python we can define variables that are not limited to a given `namespace`.  We can define `global` variables, and those variables will be accessible and known across all `namespaces` created during the execution of your code.**\n",
    "\n",
    "\n"
   ]
  },
  {
   "cell_type": "code",
   "execution_count": 5,
   "metadata": {
    "ExecuteTime": {
     "end_time": "2023-09-07T21:40:51.655449Z",
     "start_time": "2023-09-07T21:40:51.647857Z"
    },
    "execution": {
     "iopub.execute_input": "2024-09-13T20:07:10.496281Z",
     "iopub.status.busy": "2024-09-13T20:07:10.495776Z",
     "iopub.status.idle": "2024-09-13T20:07:10.529654Z",
     "shell.execute_reply": "2024-09-13T20:07:10.529075Z",
     "shell.execute_reply.started": "2024-09-13T20:07:10.496251Z"
    }
   },
   "outputs": [],
   "source": [
    "special_text = 'Saying it back at you:'\n",
    "\n",
    "def nothing_strange(input_string):\n",
    "    '''\n",
    "    Adds a special_text to a string\n",
    "\n",
    "    input:\n",
    "        input_string - str\n",
    "        \n",
    "    output:\n",
    "        output - str\n",
    "    '''    \n",
    "    print(f\"--The internal value of special_text is\\n'{special_text}'\\n\")\n",
    "    \n",
    "    output = f\"{special_text} {input_string.upper()}.\\n\\n\"\n",
    "\n",
    "    return output"
   ]
  },
  {
   "cell_type": "code",
   "execution_count": 6,
   "metadata": {
    "ExecuteTime": {
     "end_time": "2023-09-07T21:41:25.630715Z",
     "start_time": "2023-09-07T21:41:25.625516Z"
    },
    "execution": {
     "iopub.execute_input": "2024-09-13T20:07:13.688751Z",
     "iopub.status.busy": "2024-09-13T20:07:13.687880Z",
     "iopub.status.idle": "2024-09-13T20:07:13.718975Z",
     "shell.execute_reply": "2024-09-13T20:07:13.718383Z",
     "shell.execute_reply.started": "2024-09-13T20:07:13.688699Z"
    }
   },
   "outputs": [
    {
     "name": "stdout",
     "output_type": "stream",
     "text": [
      "--The internal value of special_text is\n",
      "'Saying it back at you:'\n",
      "\n",
      "Saying it back at you: HELLO.\n",
      "\n",
      "\n",
      "--The external value of special_text is\n",
      "\t'Saying it back at you:'\n",
      "\n"
     ]
    }
   ],
   "source": [
    "print( nothing_strange('hello') )\n",
    "\n",
    "print(f\"--The external value of special_text is\\n\\t'{special_text}'\\n\")"
   ]
  },
  {
   "cell_type": "code",
   "execution_count": 7,
   "metadata": {
    "ExecuteTime": {
     "end_time": "2023-09-07T21:31:58.360895Z",
     "start_time": "2023-09-07T21:31:58.350971Z"
    },
    "execution": {
     "iopub.execute_input": "2024-09-13T20:07:32.546650Z",
     "iopub.status.busy": "2024-09-13T20:07:32.545809Z",
     "iopub.status.idle": "2024-09-13T20:07:32.578124Z",
     "shell.execute_reply": "2024-09-13T20:07:32.577675Z",
     "shell.execute_reply.started": "2024-09-13T20:07:32.546610Z"
    }
   },
   "outputs": [
    {
     "name": "stdout",
     "output_type": "stream",
     "text": [
      "Fore\t NamespaceMagics\t Path\t Style\t datetime\t get_ipython\t json\t nothing_strange\t special_text\t \n",
      "sys\t \n"
     ]
    }
   ],
   "source": [
    "who"
   ]
  },
  {
   "cell_type": "markdown",
   "metadata": {},
   "source": [
    "In the above code, we defined a global variable `special_text`, which was accessed inside the function `nothing_strange()`. \n",
    "\n",
    "**This is very dangerous!** Most of the time, one does not check the code inside a function or the entirety of the code in a large project.\n",
    "\n",
    "> What if somewhere else in the code someone changes the value of `special_text`? \n",
    "\n",
    "In general, **it is not a good practice to make general use of global variables**.\n",
    "\n",
    "Notice that if you change the value of `special_text` inside the function, Python will assume that the name is **not** referring to a global variable. This will result in an `UnboundLocalError`.\n"
   ]
  },
  {
   "cell_type": "code",
   "execution_count": 8,
   "metadata": {
    "ExecuteTime": {
     "end_time": "2023-09-07T21:42:33.484363Z",
     "start_time": "2023-09-07T21:42:33.479406Z"
    },
    "code_folding": [
     2
    ],
    "execution": {
     "iopub.execute_input": "2024-09-13T20:08:13.408671Z",
     "iopub.status.busy": "2024-09-13T20:08:13.407844Z",
     "iopub.status.idle": "2024-09-13T20:08:13.439794Z",
     "shell.execute_reply": "2024-09-13T20:08:13.439194Z",
     "shell.execute_reply.started": "2024-09-13T20:08:13.408621Z"
    }
   },
   "outputs": [],
   "source": [
    "special_text = 'Saying it back to you:'\n",
    "\n",
    "def nothing_strange(input_string):\n",
    "    '''\n",
    "    Adds a special_text to a string\n",
    "\n",
    "    input:\n",
    "        input_string - str\n",
    "        \n",
    "    output:\n",
    "        output - str\n",
    "    '''    \n",
    "    special_text = Fore.RED + 'Bet you were not expecting this, were you?'\n",
    "                     \n",
    "    # print(f\"--The internal value of special_text is\\n'{special_text}'\\n\")    \n",
    "    \n",
    "    output = f\"{special_text} {input_string.upper()}\\n\\n\"\n",
    "\n",
    "    return output"
   ]
  },
  {
   "cell_type": "code",
   "execution_count": 9,
   "metadata": {
    "ExecuteTime": {
     "end_time": "2023-09-07T21:42:35.048024Z",
     "start_time": "2023-09-07T21:42:35.043781Z"
    },
    "execution": {
     "iopub.execute_input": "2024-09-13T20:08:16.174622Z",
     "iopub.status.busy": "2024-09-13T20:08:16.173918Z",
     "iopub.status.idle": "2024-09-13T20:08:16.203073Z",
     "shell.execute_reply": "2024-09-13T20:08:16.202561Z",
     "shell.execute_reply.started": "2024-09-13T20:08:16.174587Z"
    }
   },
   "outputs": [
    {
     "name": "stdout",
     "output_type": "stream",
     "text": [
      "\u001b[31mBet you were not expecting this, were you? HELLO\n",
      "\n",
      "\n",
      "--The external value of special_text is\n",
      "\t'Saying it back to you:'\n",
      "\n"
     ]
    }
   ],
   "source": [
    "print( nothing_strange('hello') )\n",
    "\n",
    "print(f\"--The external value of special_text is\\n\\t'{special_text}'\\n\")"
   ]
  },
  {
   "cell_type": "markdown",
   "metadata": {},
   "source": [
    "# Computational thinking \n",
    "\n",
    "A simple example is one thing, but it can be hard to figure out how to use functions in **real** code. \n",
    "\n",
    "In general, **it is good practice to write functions that do only one task**. If a function you write turns out to do two or more tasks, it may be worthwhile to determine whether it would not make more sense to split your function in smaller ones. \n",
    "\n",
    "**If your functions do a single task, it will be easier to name them in a more specific manner by  referring to the actions it will perform**: find, print, calculate, connect, extract...\n",
    "\n",
    "Function names can also be used as a device to sketch out what our program intends to do. To make this clear, let's go back to your administrative job from **notebook 7** and work with the `Roster` data.\n",
    "\n",
    "Imagine that we want to *calculate the ages of all the people in the Roster folder*. **How would we accomplish this?**\n"
   ]
  },
  {
   "cell_type": "markdown",
   "metadata": {},
   "source": [
    "## Sketching out a function\n"
   ]
  },
  {
   "cell_type": "markdown",
   "metadata": {},
   "source": [
    "In order to write code, you have to think how to break down complex goals into smaller, simpler, well-defined tasks.  Let's break the goal of finding out the age of all persons, into smaller tasks.\n",
    "There are 800 data files in the `Data/Roster`. \n",
    "\n",
    "**Pseudo-code**\n",
    "\n",
    ">    set relevant inputs: path to folder with data and date at which age is calculated\n",
    ">    \n",
    ">    get list of paths to record files\n",
    ">    \n",
    ">    iterate over paths to record files:\n",
    "> >\n",
    "> >  read file and parse record\n",
    "> >\n",
    "> >  extract birthday from record\n",
    "> >\n",
    "> >  calculate age at desired date\n",
    "\n",
    "\n",
    "Each task in this `pseudo-code` suggests a the coding of a function that implements the desired task. Our pseudo-code also makes it clear how we could add additional calculations to our program or to take actions based on the values we calculate.\n",
    "\n",
    "Let's consider the first task in our pseudo-code: *get list of paths to files with records*.  \n"
   ]
  },
  {
   "cell_type": "code",
   "execution_count": 11,
   "metadata": {
    "ExecuteTime": {
     "end_time": "2023-09-07T21:44:51.530929Z",
     "start_time": "2023-09-07T21:44:51.522449Z"
    },
    "execution": {
     "iopub.execute_input": "2024-09-13T20:10:47.534012Z",
     "iopub.status.busy": "2024-09-13T20:10:47.533110Z",
     "iopub.status.idle": "2024-09-13T20:10:47.565779Z",
     "shell.execute_reply": "2024-09-13T20:10:47.565055Z",
     "shell.execute_reply.started": "2024-09-13T20:10:47.533968Z"
    }
   },
   "outputs": [
    {
     "name": "stdout",
     "output_type": "stream",
     "text": [
      "/Users/amaral/Dropbox/Code_Development/COURSES/Amaral_Lab_Intro_to_Data_Science/Module_An_Intro_to_Python/Data/Roster\n",
      "\n"
     ]
    },
    {
     "data": {
      "text/plain": [
       "datetime.date(2024, 9, 1)"
      ]
     },
     "execution_count": 11,
     "metadata": {},
     "output_type": "execute_result"
    }
   ],
   "source": [
    "# Set relevant inputs\n",
    "#\n",
    "folder_path = Path.cwd() / 'Data' / 'Roster'\n",
    "print(folder_path)\n",
    "print()\n",
    "\n",
    "relevant_date = datetime.date(2024, 9, 1)\n",
    "relevant_date"
   ]
  },
  {
   "cell_type": "markdown",
   "metadata": {},
   "source": [
    "Since we want our code to be readable, we will call the function `get_path_to_records()`.\n",
    "\n",
    "There are three basic questions that help you sketch a function:\n",
    "\n",
    "> What does this function do?\n",
    ">\n",
    "> What inputs does this function need to do that?\n",
    ">\n",
    "> What does the function return?\n",
    "\n",
    "The answers to these questions need to be answered before you start writing any code.  This is called **stubbing**, i.e., creating a code **stub**.\n",
    "\n",
    "They are also the question that someone planning to use your code later will want answered.  For this reason, This is the information you **must** provide in the function's `docstring`. \n",
    "\n",
    "**What task is the function accomplishing?**\n",
    "\n",
    "The student files in our project are all in a single directory and all end with the `txt` extension.  Thus, we should write a  function that returns all of the filenames with the `txt` extension in a given directory.\n",
    "\n",
    "**What inputs does the function require?**\n",
    "\n",
    "The function needs to be given as input a directory and, if we want to be more general, an extension type.\n",
    "\n",
    "**How should the information returned be formatted?**\n",
    "\n",
    "Our function is collecting the file names of the student records. Our pseudo-code also tells us that we will be iterating through the elements in our collection.  Putting these facts together, it seems pretty clear that a good option for the output of our function is a list of file names in string form.\n",
    "\n",
    "Let's implement these decisions!"
   ]
  },
  {
   "cell_type": "code",
   "execution_count": 14,
   "metadata": {
    "ExecuteTime": {
     "end_time": "2023-09-07T21:47:28.525900Z",
     "start_time": "2023-09-07T21:47:28.510984Z"
    },
    "execution": {
     "iopub.execute_input": "2024-09-13T20:16:18.602201Z",
     "iopub.status.busy": "2024-09-13T20:16:18.601160Z",
     "iopub.status.idle": "2024-09-13T20:16:18.635729Z",
     "shell.execute_reply": "2024-09-13T20:16:18.635034Z",
     "shell.execute_reply.started": "2024-09-13T20:16:18.602141Z"
    }
   },
   "outputs": [],
   "source": [
    "def get_path_to_records( folder_path, pattern = '*.txt' ):\n",
    "    \"\"\"\n",
    "    Return all roster filenames in directory\n",
    "    \n",
    "    input:\n",
    "        folder_path - Path object to the directory that contains the roster \n",
    "                      files\n",
    "        pattern - str for filtering file names (default is *.txt)\n",
    "        \n",
    "    output:\n",
    "        my_paths - list of Paths to record files in folder\n",
    "    \"\"\"\n",
    "    my_paths = []\n",
    "    \n",
    "    # Statements here!\n",
    "    \n",
    "    return my_paths"
   ]
  },
  {
   "cell_type": "markdown",
   "metadata": {},
   "source": [
    "<br>\n",
    "\n",
    "<br>\n",
    "\n",
    "and we can also go ahead and do the stubbing for the other functions we will need to write."
   ]
  },
  {
   "cell_type": "code",
   "execution_count": 15,
   "metadata": {
    "ExecuteTime": {
     "end_time": "2023-09-07T21:47:28.940035Z",
     "start_time": "2023-09-07T21:47:28.933425Z"
    },
    "execution": {
     "iopub.execute_input": "2024-09-13T20:16:20.165797Z",
     "iopub.status.busy": "2024-09-13T20:16:20.165467Z",
     "iopub.status.idle": "2024-09-13T20:16:20.193689Z",
     "shell.execute_reply": "2024-09-13T20:16:20.193170Z",
     "shell.execute_reply.started": "2024-09-13T20:16:20.165774Z"
    }
   },
   "outputs": [],
   "source": [
    "def parse_record( filename ):\n",
    "    \"\"\"\n",
    "    \n",
    "    \"\"\"\n",
    "    record = {}\n",
    "    \n",
    "    # Statements here!\n",
    "    \n",
    "    return record\n"
   ]
  },
  {
   "cell_type": "code",
   "execution_count": 16,
   "metadata": {
    "ExecuteTime": {
     "end_time": "2023-09-07T21:47:29.415525Z",
     "start_time": "2023-09-07T21:47:29.409359Z"
    },
    "execution": {
     "iopub.execute_input": "2024-09-13T20:16:20.739217Z",
     "iopub.status.busy": "2024-09-13T20:16:20.738564Z",
     "iopub.status.idle": "2024-09-13T20:16:20.773967Z",
     "shell.execute_reply": "2024-09-13T20:16:20.773624Z",
     "shell.execute_reply.started": "2024-09-13T20:16:20.739186Z"
    }
   },
   "outputs": [],
   "source": [
    "def extract_birthdate( date_string ):\n",
    "    \"\"\"\n",
    "    \n",
    "    \"\"\"\n",
    "    birthdate = datetime.date( 1970, 1, 1 )\n",
    "    # Statements here!\n",
    "    \n",
    "    return birthdate"
   ]
  },
  {
   "cell_type": "code",
   "execution_count": 17,
   "metadata": {
    "ExecuteTime": {
     "end_time": "2023-09-07T21:47:30.383608Z",
     "start_time": "2023-09-07T21:47:30.375533Z"
    },
    "execution": {
     "iopub.execute_input": "2024-09-13T20:16:21.295111Z",
     "iopub.status.busy": "2024-09-13T20:16:21.294498Z",
     "iopub.status.idle": "2024-09-13T20:16:21.324427Z",
     "shell.execute_reply": "2024-09-13T20:16:21.324019Z",
     "shell.execute_reply.started": "2024-09-13T20:16:21.295064Z"
    }
   },
   "outputs": [],
   "source": [
    "def calculate_age( birthdate, relevant_date ):\n",
    "    \"\"\"\n",
    "    \n",
    "    \"\"\"\n",
    "    age = 0\n",
    "    \n",
    "    # Statements here!\n",
    "    \n",
    "    return age"
   ]
  },
  {
   "cell_type": "markdown",
   "metadata": {},
   "source": [
    "## Putting all the stubs together...\n",
    "\n",
    "A very cool thing is that these sketched functions enable us to write our pseudo-code for real and to run it! Of course the code returns nothing useful but it enables us to test it as we go along. "
   ]
  },
  {
   "cell_type": "code",
   "execution_count": 20,
   "metadata": {
    "ExecuteTime": {
     "end_time": "2023-09-07T21:49:27.336872Z",
     "start_time": "2023-09-07T21:49:27.330074Z"
    },
    "execution": {
     "iopub.execute_input": "2024-09-13T20:17:12.219941Z",
     "iopub.status.busy": "2024-09-13T20:17:12.218314Z",
     "iopub.status.idle": "2024-09-13T20:17:12.242336Z",
     "shell.execute_reply": "2024-09-13T20:17:12.241806Z",
     "shell.execute_reply.started": "2024-09-13T20:17:12.219887Z"
    }
   },
   "outputs": [
    {
     "name": "stdout",
     "output_type": "stream",
     "text": [
      "[]\n"
     ]
    },
    {
     "data": {
      "text/plain": [
       "[]"
      ]
     },
     "execution_count": 20,
     "metadata": {},
     "output_type": "execute_result"
    }
   ],
   "source": [
    "my_paths = get_path_to_records( folder_path )\n",
    "print(my_paths[:2])\n",
    "\n",
    "records = []\n",
    "for filename in my_paths[:2]:\n",
    "    record = parse_record(filename)\n",
    "    records.append(record)\n",
    "    \n",
    "    date_string = record.get(['Date of Birth'])\n",
    "    birthdate = extract_birthdate( date_string )\n",
    "    age = calculate_age(birthdate, relevant_date)\n",
    "        \n",
    "records[:2]"
   ]
  },
  {
   "cell_type": "markdown",
   "metadata": {},
   "source": [
    "## Adding details to a stubbed function\n",
    "\n",
    "With separate functions, it can be easy to develop and test each one without having to process the entire data set every time. Lets start by finding all the records.\n",
    "\n",
    "A powerful capability of the notebook is that it enables us to write and test a piece of code in a single cell until we are confident that it does what we want. We can then copy that code into the cell where we want to define the function.\n",
    "\n",
    "**Get going!**\n"
   ]
  },
  {
   "cell_type": "code",
   "execution_count": null,
   "metadata": {
    "ExecuteTime": {
     "end_time": "2023-01-23T20:40:44.398779Z",
     "start_time": "2023-01-23T20:40:44.384952Z"
    }
   },
   "outputs": [],
   "source": [
    "def get_path_to_records( folder_path, pattern = '*.txt' ):\n",
    "    \"\"\"\n",
    "    Return all roster filenames in directory\n",
    "    \n",
    "    input:\n",
    "        folder_path - Path object to the directory that contains the roster \n",
    "                      files\n",
    "        pattern - str for filtering file names\n",
    "        \n",
    "    output:\n",
    "        my_paths - list of Paths to roster files in directory\n",
    "    \"\"\"\n",
    "    my_paths = []\n",
    "    \n",
    "    # Statements here!\n",
    "    \n",
    "    return my_paths"
   ]
  },
  {
   "cell_type": "code",
   "execution_count": null,
   "metadata": {},
   "outputs": [],
   "source": []
  },
  {
   "cell_type": "code",
   "execution_count": null,
   "metadata": {},
   "outputs": [],
   "source": []
  },
  {
   "cell_type": "code",
   "execution_count": null,
   "metadata": {},
   "outputs": [],
   "source": []
  },
  {
   "cell_type": "markdown",
   "metadata": {
    "execution": {
     "iopub.execute_input": "2024-09-13T20:19:10.044219Z",
     "iopub.status.busy": "2024-09-13T20:19:10.043610Z",
     "iopub.status.idle": "2024-09-13T20:19:10.068258Z",
     "shell.execute_reply": "2024-09-13T20:19:10.067945Z",
     "shell.execute_reply.started": "2024-09-13T20:19:10.044176Z"
    }
   },
   "source": [
    "# Creating a library\n",
    "\n",
    "Since we will be developing all these functions, it makes sense to organize them in such as manner that we can have easy access to them anywhere.\n",
    "\n",
    "To this end, we will create a file named `records_lib.py` in the current working folder.\n",
    "\n",
    "For now, we will place all the stubs in that file and as we develop our code, we will add them there..."
   ]
  },
  {
   "cell_type": "code",
   "execution_count": 22,
   "metadata": {
    "execution": {
     "iopub.execute_input": "2024-09-13T20:24:14.377713Z",
     "iopub.status.busy": "2024-09-13T20:24:14.377198Z",
     "iopub.status.idle": "2024-09-13T20:24:14.902379Z",
     "shell.execute_reply": "2024-09-13T20:24:14.902021Z",
     "shell.execute_reply.started": "2024-09-13T20:24:14.377674Z"
    }
   },
   "outputs": [
    {
     "name": "stdout",
     "output_type": "stream",
     "text": [
      "from pathlib import Path\n",
      "\n",
      "\n",
      "#############################################################################################\n",
      "def get_path_to_records( folder_path, pattern = '*.txt' ):\n",
      "    \"\"\"\n",
      "    Return all roster filenames in directory\n",
      "    \n",
      "    input:\n",
      "        folder_path - Path object to the directory that contains the roster \n",
      "                      files\n",
      "        pattern - str for filtering file names\n",
      "        \n",
      "    output:\n",
      "        my_paths - list of Paths to roster files in directory\n",
      "    \"\"\"\n",
      "    my_paths = []\n",
      "    \n",
      "    # Statements here!\n",
      "    \n",
      "    return my_paths\n",
      "\n",
      "\n",
      "#############################################################################################\n",
      "def parse_record( filename ):\n",
      "    \"\"\"\n",
      "    \n",
      "    \"\"\"\n",
      "    record = {}\n",
      "    \n",
      "    # Statements here!\n",
      "    \n",
      "    return record\n",
      "\n",
      "\n",
      "#############################################################################################\n",
      "def extract_birthdate( date_string ):\n",
      "    \"\"\"\n",
      "    \n",
      "    \"\"\"\n",
      "    birthdate = datetime.date( 1970, 1, 1 )\n",
      "    # Statements here!\n",
      "    \n",
      "    return birthdate\n",
      "\n",
      "\n",
      "#############################################################################################\n",
      "def calculate_age( birthdate, relevant_date ):\n",
      "    \"\"\"\n",
      "    \n",
      "    \"\"\"\n",
      "    age = 0\n",
      "    \n",
      "    # Statements here!\n",
      "    \n",
      "    return age"
     ]
    }
   ],
   "source": [
    "!cat records_lib.py"
   ]
  },
  {
   "cell_type": "markdown",
   "metadata": {},
   "source": [
    "<br>\n",
    "<br>\n",
    "\n",
    "If we want to import those functions, then we just need to use the `import` command..."
   ]
  },
  {
   "cell_type": "code",
   "execution_count": 23,
   "metadata": {
    "execution": {
     "iopub.execute_input": "2024-09-13T20:25:19.413215Z",
     "iopub.status.busy": "2024-09-13T20:25:19.412435Z",
     "iopub.status.idle": "2024-09-13T20:25:19.436195Z",
     "shell.execute_reply": "2024-09-13T20:25:19.435848Z",
     "shell.execute_reply.started": "2024-09-13T20:25:19.413171Z"
    }
   },
   "outputs": [],
   "source": [
    "from records_lib import get_path_to_records"
   ]
  },
  {
   "cell_type": "markdown",
   "metadata": {},
   "source": [
    "<br>\n",
    "\n",
    "Instead of continuing to work in this notebook, we will know switch to the **dictionaries notebook** because the variable `record` is going to be a `dictionary`.\n",
    "\n",
    "[Next lesson](nb_10_Dictionaries.ipynb)"
   ]
  },
  {
   "cell_type": "code",
   "execution_count": null,
   "metadata": {},
   "outputs": [],
   "source": []
  }
 ],
 "metadata": {
  "anaconda-cloud": {},
  "kernelspec": {
   "display_name": "Python [conda env:base]",
   "language": "python",
   "name": "conda-base-py"
  },
  "language_info": {
   "codemirror_mode": {
    "name": "ipython",
    "version": 3
   },
   "file_extension": ".py",
   "mimetype": "text/x-python",
   "name": "python",
   "nbconvert_exporter": "python",
   "pygments_lexer": "ipython3",
   "version": "3.12.4"
  },
  "latex_envs": {
   "LaTeX_envs_menu_present": true,
   "autoclose": false,
   "autocomplete": true,
   "bibliofile": "biblio.bib",
   "cite_by": "apalike",
   "current_citInitial": 1,
   "eqLabelWithNumbers": true,
   "eqNumInitial": 1,
   "hotkeys": {
    "equation": "Ctrl-E",
    "itemize": "Ctrl-I"
   },
   "labels_anchors": false,
   "latex_user_defs": false,
   "report_style_numbering": false,
   "user_envs_cfg": false
  },
  "toc": {
   "base_numbering": 1,
   "nav_menu": {},
   "number_sections": true,
   "sideBar": true,
   "skip_h1_title": false,
   "title_cell": "Table of Contents",
   "title_sidebar": "Contents",
   "toc_cell": false,
   "toc_position": {
    "height": "calc(100% - 180px)",
    "left": "10px",
    "top": "150px",
    "width": "225px"
   },
   "toc_section_display": true,
   "toc_window_display": true
  },
  "varInspector": {
   "cols": {
    "lenName": 16,
    "lenType": 16,
    "lenVar": 40
   },
   "kernels_config": {
    "python": {
     "delete_cmd_postfix": "",
     "delete_cmd_prefix": "del ",
     "library": "var_list.py",
     "varRefreshCmd": "print(var_dic_list())"
    },
    "r": {
     "delete_cmd_postfix": ") ",
     "delete_cmd_prefix": "rm(",
     "library": "var_list.r",
     "varRefreshCmd": "cat(var_dic_list()) "
    }
   },
   "types_to_exclude": [
    "module",
    "function",
    "builtin_function_or_method",
    "instance",
    "_Feature"
   ],
   "window_display": false
  }
 },
 "nbformat": 4,
 "nbformat_minor": 4
}
