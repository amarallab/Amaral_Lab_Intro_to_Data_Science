{
 "cells": [
  {
   "cell_type": "markdown",
   "metadata": {},
   "source": [
    "# Synopsis\n",
    "\n",
    "Python has four collection data types:\n",
    "\n",
    "* `Lists`\n",
    "* `Tuples`\n",
    "* `Sets`\n",
    "* `Dictionaries`\n",
    "\n",
    "These data types allow for a greater number of operations because they can hold multiple elements.  In order to ease into dealing with collections, we will first recall some properties of another collection data type: strings.\n",
    "\n",
    "In this unit we will learn about two of the four collection data types in Python.\n",
    "\n",
    "\n",
    "**Tuples**\n",
    "\n",
    "Tuples are similar to lists except for the very important fact that they are **immutable**.\n",
    "\n",
    "Using tuples can make your code more efficient in how it uses resources.\n",
    "\n",
    "**Sets**\n",
    "\n",
    "Sets are unordered collections of elements.\n",
    "\n",
    "*Sets* are created using the `{}` syntax or the `set()` constructor.\n",
    "    \n",
    "*Sets* can included mixed data types.\n",
    "    \n",
    "*Set* elements are accessed by `item`.\n",
    "    \n",
    "Items in a *set* cannot be repeated.\n",
    "    \n",
    "*Sets* are **mutable**. \n",
    "\n",
    "\n",
    "You can add and remove values using functions such as \n",
    "\n",
    "> `add()` and `discard()`.\n"
   ]
  },
  {
   "cell_type": "markdown",
   "metadata": {},
   "source": [
    "# Read libraries"
   ]
  },
  {
   "cell_type": "code",
   "execution_count": null,
   "metadata": {
    "ExecuteTime": {
     "end_time": "2023-01-20T20:04:58.315293Z",
     "start_time": "2023-01-20T20:04:58.305893Z"
    },
    "scrolled": true
   },
   "outputs": [],
   "source": [
    "from IPython.core.display import HTML\n",
    "from IPython.lib.display import YouTubeVideo"
   ]
  },
  {
   "cell_type": "markdown",
   "metadata": {},
   "source": [
    "# Videos"
   ]
  },
  {
   "cell_type": "code",
   "execution_count": null,
   "metadata": {
    "ExecuteTime": {
     "end_time": "2023-01-20T20:05:01.060543Z",
     "start_time": "2023-01-20T20:05:00.883263Z"
    }
   },
   "outputs": [],
   "source": [
    "vid = YouTubeVideo('NI26dqhs2Rk', width = 600)\n",
    "display(vid)"
   ]
  },
  {
   "cell_type": "code",
   "execution_count": null,
   "metadata": {
    "ExecuteTime": {
     "end_time": "2022-09-07T15:33:25.167037Z",
     "start_time": "2022-09-07T15:33:24.931489Z"
    }
   },
   "outputs": [],
   "source": [
    "vid = YouTubeVideo('sBvaPopWOmQ', width = 600)\n",
    "display(vid)"
   ]
  },
  {
   "cell_type": "markdown",
   "metadata": {},
   "source": [
    "# Tuples\n",
    "\n",
    "On the surface, tuples appear similar to `list`:\n",
    "\n",
    "* Both Tuples and Lists contain a sequence of individual elements\n",
    "* Both Tuples and Lists are stored in the order that they were added\n",
    "* Both Tuples and Lists can store mixed data types\n",
    "* Both provide access to individual elements through the syntax `variable[index]`\n",
    "\n",
    "So what is the difference? \n",
    "\n",
    "The big difference is that tuples are an **immutable** data type (like strings). This means that none of the functions that are built-in to modify variables can be applied to tuples.\n",
    "\n",
    "In order to indicate this **crucial** difference between lists and tuples, Python uses a different syntax to create a tuple.\n",
    "\n",
    "> The syntax for creating a `list` uses `[]`. \n",
    ">\n",
    "> The syntax to create a `tuple` uses `()`. \n"
   ]
  },
  {
   "cell_type": "code",
   "execution_count": null,
   "metadata": {
    "ExecuteTime": {
     "end_time": "2023-01-20T20:06:56.775779Z",
     "start_time": "2023-01-20T20:06:56.768403Z"
    },
    "scrolled": true
   },
   "outputs": [],
   "source": [
    "# Create a tuple that stores the attributes of our golden retriever, `penny`.\n",
    "\n",
    "penny = (60, 75, 'yellow') #Length (in), Weight (lbs), Color \n",
    "print( type(penny) )\n",
    "penny"
   ]
  },
  {
   "cell_type": "markdown",
   "metadata": {},
   "source": [
    "Notice that since it isn't necessarily clear what each of the individual items stood for in the tuple, I added a comment listing the meaning of each field. \n",
    "\n",
    "As we discussed earlier, comments are signaled in Python by the symbol `#`. \n",
    "\n",
    "Whatever you type in a line after `#` will be ignored by the Python interpreter.\n",
    "\n",
    "**A tricky point with the tuple syntax and the use of parentheses arises when trying to create a tuple with single element**. Writing\n",
    "\n",
    "> new_tuple = (3) \n",
    "\n",
    "is ambiguous, the compiler does not actually read the names of the variables, so it does not know you are trying to create a tuple. Instead, it will just interpret the parentheses as being part of an assignment of priority in evaluation.\n",
    "\n",
    "In order to create a tuple with a single element, you must provide disambiguating information to the compiler. Specifically, you must use the syntax `(value, )`.\n"
   ]
  },
  {
   "cell_type": "code",
   "execution_count": null,
   "metadata": {
    "ExecuteTime": {
     "end_time": "2023-01-20T20:08:50.031169Z",
     "start_time": "2023-01-20T20:08:50.024355Z"
    }
   },
   "outputs": [],
   "source": [
    "new_tuple = (3, )\n",
    "print(type(new_tuple))\n",
    "new_tuple"
   ]
  },
  {
   "cell_type": "markdown",
   "metadata": {},
   "source": [
    "**Because tuples are immutable item assignment and removal do not work.**"
   ]
  },
  {
   "cell_type": "code",
   "execution_count": null,
   "metadata": {
    "ExecuteTime": {
     "end_time": "2023-01-20T20:09:01.650398Z",
     "start_time": "2023-01-20T20:09:01.349669Z"
    },
    "scrolled": true
   },
   "outputs": [],
   "source": [
    "penny[3] = 'amber'"
   ]
  },
  {
   "cell_type": "code",
   "execution_count": null,
   "metadata": {
    "ExecuteTime": {
     "end_time": "2023-01-20T20:09:16.823426Z",
     "start_time": "2023-01-20T20:09:16.812199Z"
    },
    "scrolled": true
   },
   "outputs": [],
   "source": [
    "del penny[1]"
   ]
  },
  {
   "cell_type": "markdown",
   "metadata": {},
   "source": [
    "However, We can still perform the additive operators with tuples though"
   ]
  },
  {
   "cell_type": "code",
   "execution_count": null,
   "metadata": {
    "ExecuteTime": {
     "end_time": "2023-01-20T20:09:32.110587Z",
     "start_time": "2023-01-20T20:09:32.101802Z"
    },
    "scrolled": true
   },
   "outputs": [],
   "source": [
    "print( penny + ('amber', 'stinky') )    #Eye color, breath smell\n",
    "print( penny )\n",
    "print()\n",
    "\n",
    "penny2 = penny + ('amber', 'stinky')\n",
    "print( penny2 )"
   ]
  },
  {
   "cell_type": "markdown",
   "metadata": {},
   "source": [
    "The reason is that when we add something to a tuple we are not changing the tuple, we are creating a new tuple. \n",
    "\n",
    "**Notice that if we do not copy the new tuple into a new variable, then it is lost to us.**\n"
   ]
  },
  {
   "cell_type": "code",
   "execution_count": null,
   "metadata": {
    "ExecuteTime": {
     "end_time": "2023-01-20T20:10:36.073590Z",
     "start_time": "2023-01-20T20:10:36.067164Z"
    },
    "scrolled": true
   },
   "outputs": [],
   "source": [
    "penny + ('amber', )"
   ]
  },
  {
   "cell_type": "code",
   "execution_count": null,
   "metadata": {
    "ExecuteTime": {
     "end_time": "2023-01-20T20:10:40.725042Z",
     "start_time": "2023-01-20T20:10:40.709526Z"
    }
   },
   "outputs": [],
   "source": [
    "penny + ('amber' )"
   ]
  },
  {
   "cell_type": "markdown",
   "metadata": {},
   "source": [
    "## So wait, why are there both lists and tuples? \n",
    "\n",
    "I know, right now it's pretty hard to see why you would use one data type over the other.\n",
    "\n",
    "As you can see in the video below, **tuples require less storage space, and can be operated upon more quickly**. Both of these characteristics arise from the fact that tuples are immutable, and thus code for operating on them can be more optimized.\n",
    "\n",
    "**Tuples** also **enable unpacking of values**, something especially useful for data returned from a function.\n",
    "\n",
    "Finally, remember that **Python was developed with the ideal of being easily readable and understandable**. That means that when you are writing code, you want to make choices that make it easy for others to understand what is going on. For example, if you have a some variable that stores values that are never going to change, then why would you use a mutable data type such as a list to store them?  \n",
    "\n",
    "Think of the days of the week or the months of the year: Does it make more sense to define\n",
    "\n",
    "`days_of_the_week = (\"Sunday\", \"Monday\", \"Tuesday\", \"Wednesday\", \"Thursday\", \"Friday\", \"Saturday\")`\n",
    "\n",
    "or \n",
    "\n",
    "`days_of_the_week = [\"Sunday\", \"Monday\", \"Tuesday\", \"Wednesday\", \"Thursday\", \"Friday\", \"Saturday\"]`?\n",
    "\n",
    "By using a tuple to store some data, you are signaling to a reader of your code, that the values you stored are not going to change during the execution of your code."
   ]
  },
  {
   "cell_type": "markdown",
   "metadata": {},
   "source": [
    "# Sets\n",
    "\n",
    "A Python set is a **mutable unordered collection** that does not allow for the repetition of values.  \n",
    "\n",
    "> To create a `set` we use the syntax `{}`. \n",
    "\n",
    "Why do we need sets? Imagine, for example, that you want to store the names of your friends; you will want to use a list since you might have several friends named Mary.  \n",
    "\n",
    "However, if you are storing the cities in which have friends, you do not want the same city repeated several times. If you want to find out cities to visit where you have friends you only need the city name in there once.\n",
    "\n",
    "Let us see this in play with our pet store.  We want to keep track of what pet species we have."
   ]
  },
  {
   "cell_type": "code",
   "execution_count": null,
   "metadata": {
    "ExecuteTime": {
     "end_time": "2023-01-20T20:17:54.666359Z",
     "start_time": "2023-01-20T20:17:54.659518Z"
    },
    "scrolled": true
   },
   "outputs": [],
   "source": [
    "# Either of these two ways works\n",
    "#\n",
    "# pet_species = set(['bulldog', 'hamster', 'parrot'])\n",
    "pet_species = {'bulldog', 'hamster', 'parrot'}\n",
    "\n",
    "print(pet_species)\n",
    "print()\n",
    "print(list(pet_species))\n"
   ]
  },
  {
   "cell_type": "markdown",
   "metadata": {},
   "source": [
    "The way to add an element to a set is using the function `add()`. \n",
    "\n",
    "If we try to add an element that already exists in the set, that element will just be ignored."
   ]
  },
  {
   "cell_type": "code",
   "execution_count": null,
   "metadata": {
    "ExecuteTime": {
     "end_time": "2023-01-20T20:19:46.802487Z",
     "start_time": "2023-01-20T20:19:46.796636Z"
    },
    "scrolled": true
   },
   "outputs": [],
   "source": [
    "print(pet_species.add('crocodile'))\n",
    "print( pet_species )\n",
    "\n",
    "print()\n",
    "pet_species.add('crocodile')\n",
    "print( pet_species )"
   ]
  },
  {
   "cell_type": "markdown",
   "metadata": {},
   "source": [
    "Sets are also **mutable**, like a `list`. However, they don't use the same built-in functions. As we just demonstrated, to add an item, you use the built-in function `add()`. \n",
    "\n",
    "To remove an element, you use the built-in function `discard()`.  \n"
   ]
  },
  {
   "cell_type": "code",
   "execution_count": null,
   "metadata": {
    "ExecuteTime": {
     "end_time": "2023-01-20T20:20:44.629982Z",
     "start_time": "2023-01-20T20:20:44.624276Z"
    },
    "scrolled": true
   },
   "outputs": [],
   "source": [
    "pet_species.add('gerbil')\n",
    "print( pet_species )\n",
    "\n",
    "print()\n",
    "pet_species.discard('crocodile')\n",
    "print( pet_species )"
   ]
  },
  {
   "cell_type": "markdown",
   "metadata": {},
   "source": [
    "Notice, however, that **sets cannot be added or multiplied**."
   ]
  },
  {
   "cell_type": "code",
   "execution_count": null,
   "metadata": {
    "ExecuteTime": {
     "end_time": "2023-01-20T20:20:52.548990Z",
     "start_time": "2023-01-20T20:20:52.499758Z"
    }
   },
   "outputs": [],
   "source": [
    "pet_species * 2"
   ]
  },
  {
   "cell_type": "markdown",
   "metadata": {},
   "source": [
    "## Other set operations\n",
    "\n",
    "Another class of operations that can be performed on sets are \n",
    "\n",
    "> `intersection` - items included must be in set A and set B\n",
    ">\n",
    "> `union` - items included are in set A or set B\n",
    ">\n",
    "> `difference` - items included are in set A but not set B\n",
    "\n",
    "These operations are identical to their homonymous functions in the mathematics of sets."
   ]
  },
  {
   "cell_type": "code",
   "execution_count": null,
   "metadata": {
    "ExecuteTime": {
     "end_time": "2023-01-20T20:22:11.696797Z",
     "start_time": "2023-01-20T20:22:11.691362Z"
    }
   },
   "outputs": [],
   "source": [
    "store_one = {'bulldog', 'parrot', 'hamster', 'fish'}\n",
    "store_two = {'fish', 'parrot', 'terrier', 'cat'}\n"
   ]
  },
  {
   "cell_type": "code",
   "execution_count": null,
   "metadata": {
    "ExecuteTime": {
     "end_time": "2023-01-20T20:22:23.641287Z",
     "start_time": "2023-01-20T20:22:23.635165Z"
    },
    "scrolled": true
   },
   "outputs": [],
   "source": [
    "print(f\"A: {store_one}\\nB: {store_two}\")\n",
    "\n",
    "print('\\nIntersection')\n",
    "print( store_one.intersection(store_two) )\n",
    "\n",
    "print('\\nUnion')\n",
    "print( store_one.union(store_two) )\n",
    "\n",
    "print('\\nDifference A-B')\n",
    "print( store_one.difference(store_two) )  # A - B = A - (A intersection B)\n",
    "\n",
    "print('\\nDifference B-A')\n",
    "print( store_two.difference(store_one) )"
   ]
  },
  {
   "cell_type": "markdown",
   "metadata": {},
   "source": [
    "<br>\n",
    "\n",
    "<br>\n",
    "\n",
    "\n",
    "**Note that  `intersection` and `union` are symmetrical, i.e.,**\n",
    "\n",
    "> `A.union(B) = B.union(A)` \n",
    "\n",
    "but the same is not true for `difference`."
   ]
  },
  {
   "cell_type": "markdown",
   "metadata": {},
   "source": [
    "# Changing types across sets, lists, and tuples\n",
    "\n",
    "`sets`, `lists`, and `tuples` are all collections of items.  \n",
    "\n",
    "So, Python allows us to easily convert variables from one type to another as needed. \n",
    "\n",
    "This is called **casting** the variable.\n",
    "\n",
    "**Notice that when converting to lists or tuples you don't loose any information. However, casting to set, you result not only in the loss of repeated items, but\n",
    "also in the loss of the order of the items**."
   ]
  },
  {
   "cell_type": "code",
   "execution_count": null,
   "metadata": {
    "ExecuteTime": {
     "end_time": "2022-09-07T15:51:58.149675Z",
     "start_time": "2022-09-07T15:51:58.139442Z"
    },
    "scrolled": true
   },
   "outputs": [],
   "source": [
    "list_store_one = list( store_one )\n",
    "\n",
    "print( list_store_one )\n",
    "print()\n",
    "print( type(list_store_one) )"
   ]
  },
  {
   "cell_type": "code",
   "execution_count": null,
   "metadata": {
    "ExecuteTime": {
     "end_time": "2022-09-07T15:52:04.415143Z",
     "start_time": "2022-09-07T15:52:04.406350Z"
    },
    "scrolled": true
   },
   "outputs": [],
   "source": [
    "tuple_store_one = tuple( store_one )\n",
    "\n",
    "print( tuple_store_one )\n",
    "print()\n",
    "print( type(tuple_store_one) )"
   ]
  },
  {
   "cell_type": "code",
   "execution_count": null,
   "metadata": {
    "ExecuteTime": {
     "end_time": "2022-09-07T15:52:23.365201Z",
     "start_time": "2022-09-07T15:52:23.356395Z"
    },
    "scrolled": true
   },
   "outputs": [],
   "source": [
    "reset_store_one = set(tuple_store_one)\n",
    "\n",
    "print( reset_store_one )\n",
    "print()\n",
    "print( type(reset_store_one) )"
   ]
  },
  {
   "cell_type": "code",
   "execution_count": null,
   "metadata": {
    "scrolled": true
   },
   "outputs": [],
   "source": []
  },
  {
   "cell_type": "code",
   "execution_count": null,
   "metadata": {},
   "outputs": [],
   "source": []
  },
  {
   "cell_type": "code",
   "execution_count": null,
   "metadata": {},
   "outputs": [],
   "source": []
  },
  {
   "cell_type": "code",
   "execution_count": null,
   "metadata": {},
   "outputs": [],
   "source": []
  }
 ],
 "metadata": {
  "anaconda-cloud": {},
  "kernelspec": {
   "display_name": "Python [conda env:new_base] *",
   "language": "python",
   "name": "conda-env-new_base-py"
  },
  "language_info": {
   "codemirror_mode": {
    "name": "ipython",
    "version": 3
   },
   "file_extension": ".py",
   "mimetype": "text/x-python",
   "name": "python",
   "nbconvert_exporter": "python",
   "pygments_lexer": "ipython3",
   "version": "3.11.4"
  },
  "latex_envs": {
   "LaTeX_envs_menu_present": true,
   "autoclose": false,
   "autocomplete": true,
   "bibliofile": "biblio.bib",
   "cite_by": "apalike",
   "current_citInitial": 1,
   "eqLabelWithNumbers": true,
   "eqNumInitial": 1,
   "hotkeys": {
    "equation": "Ctrl-E",
    "itemize": "Ctrl-I"
   },
   "labels_anchors": false,
   "latex_user_defs": false,
   "report_style_numbering": false,
   "user_envs_cfg": false
  },
  "toc": {
   "base_numbering": 1,
   "nav_menu": {},
   "number_sections": true,
   "sideBar": true,
   "skip_h1_title": false,
   "title_cell": "Table of Contents",
   "title_sidebar": "Contents",
   "toc_cell": false,
   "toc_position": {
    "height": "calc(100% - 180px)",
    "left": "10px",
    "top": "150px",
    "width": "237.8px"
   },
   "toc_section_display": true,
   "toc_window_display": true
  },
  "varInspector": {
   "cols": {
    "lenName": 16,
    "lenType": 16,
    "lenVar": 40
   },
   "kernels_config": {
    "python": {
     "delete_cmd_postfix": "",
     "delete_cmd_prefix": "del ",
     "library": "var_list.py",
     "varRefreshCmd": "print(var_dic_list())"
    },
    "r": {
     "delete_cmd_postfix": ") ",
     "delete_cmd_prefix": "rm(",
     "library": "var_list.r",
     "varRefreshCmd": "cat(var_dic_list()) "
    }
   },
   "types_to_exclude": [
    "module",
    "function",
    "builtin_function_or_method",
    "instance",
    "_Feature"
   ],
   "window_display": false
  }
 },
 "nbformat": 4,
 "nbformat_minor": 1
}
