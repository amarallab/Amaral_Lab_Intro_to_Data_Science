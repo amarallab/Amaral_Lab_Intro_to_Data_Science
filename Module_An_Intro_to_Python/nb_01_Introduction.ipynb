{
 "cells": [
  {
   "cell_type": "markdown",
   "metadata": {},
   "source": [
    "# Python"
   ]
  },
  {
   "cell_type": "markdown",
   "metadata": {},
   "source": [
    "<img src = 'Images/python_guido.png' style = 'width:80%'>\n"
   ]
  },
  {
   "cell_type": "code",
   "execution_count": null,
   "metadata": {},
   "outputs": [],
   "source": []
  },
  {
   "cell_type": "markdown",
   "metadata": {},
   "source": [
    "<img src = 'Images/code_is_more_often.png' style = 'width:80%'>\n"
   ]
  },
  {
   "cell_type": "code",
   "execution_count": null,
   "metadata": {},
   "outputs": [],
   "source": []
  },
  {
   "cell_type": "markdown",
   "metadata": {},
   "source": [
    "<img src = 'Images/xkcd_style.png' style = 'width:80%'>"
   ]
  },
  {
   "cell_type": "code",
   "execution_count": null,
   "metadata": {},
   "outputs": [],
   "source": []
  },
  {
   "cell_type": "markdown",
   "metadata": {},
   "source": [
    "<img src = 'Images/readability.png' style = 'width:80%'>"
   ]
  },
  {
   "cell_type": "code",
   "execution_count": null,
   "metadata": {},
   "outputs": [],
   "source": []
  },
  {
   "cell_type": "markdown",
   "metadata": {},
   "source": [
    "<img src = 'Images/code_style.png' style = 'width:80%'>"
   ]
  },
  {
   "cell_type": "code",
   "execution_count": null,
   "metadata": {},
   "outputs": [],
   "source": []
  },
  {
   "cell_type": "markdown",
   "metadata": {},
   "source": [
    "<img src = 'Images/zen.png' style = 'width:80%'>"
   ]
  },
  {
   "cell_type": "code",
   "execution_count": null,
   "metadata": {},
   "outputs": [],
   "source": []
  },
  {
   "cell_type": "markdown",
   "metadata": {},
   "source": [
    "<img src = 'Images/useful_skills.png' style = 'width:80%'>"
   ]
  },
  {
   "cell_type": "code",
   "execution_count": null,
   "metadata": {},
   "outputs": [],
   "source": []
  },
  {
   "cell_type": "markdown",
   "metadata": {},
   "source": [
    "<img src = 'Images/useless_skills.png' style = 'width:80%'>"
   ]
  },
  {
   "cell_type": "code",
   "execution_count": null,
   "metadata": {},
   "outputs": [],
   "source": []
  },
  {
   "cell_type": "markdown",
   "metadata": {},
   "source": [
    "# Welcome to the Jupyter Notebook\n",
    "\n",
    "What we have just opened (and where we came from) is a `Jupyter` notebook. \n",
    "\n",
    "## Python is an interpreted language\n",
    "\n",
    "When you have a *compiled* language, typically what you have to do is write all of the code first. Then you have to run some commands to turn that code into a program that can be executed by the machine. At that point, you can run your program.\n",
    "\n",
    "*Interpreted* languages compile code as you run it. That means that it is much more straightforward to develop code line by line and get a better grasp of what is going on. \n",
    "\n",
    "`Jupyter` notebook is an advanced interpreter for Python!\n",
    "\n"
   ]
  },
  {
   "cell_type": "markdown",
   "metadata": {},
   "source": [
    "## Notebook is the best interpreter!\n",
    "\n",
    "`Jupyter` notebooks can run the interpreter. In fact, whenever you create a new cell it is set, by default, to be a Python interpreter!\n",
    "\n",
    "Let me show you:"
   ]
  },
  {
   "cell_type": "code",
   "execution_count": null,
   "metadata": {
    "ExecuteTime": {
     "end_time": "2022-09-06T15:11:46.065448Z",
     "start_time": "2022-09-06T15:11:46.045376Z"
    }
   },
   "outputs": [],
   "source": [
    "'word' * 7"
   ]
  },
  {
   "cell_type": "code",
   "execution_count": null,
   "metadata": {
    "ExecuteTime": {
     "end_time": "2022-09-06T15:11:58.374548Z",
     "start_time": "2022-09-06T15:11:58.364746Z"
    }
   },
   "outputs": [],
   "source": [
    "'word' * 170"
   ]
  },
  {
   "cell_type": "markdown",
   "metadata": {
    "collapsed": true
   },
   "source": [
    "## Some advantages\n",
    "\n",
    "There are a lot of nice features that come along with having the interpreter in a web page:\n",
    "\n",
    "* It's really easy to copy/write/edit long Python code\n",
    "* It's very simple to plot/polish images\n",
    "* It's easy to work on separate parts of your code independently\n",
    "\n",
    "Now the Notebook isn't perfect for everything and there are some drawbacks/points to be aware of. But for learning, initial development, and preliminary data analysis it is an amazing tool."
   ]
  },
  {
   "cell_type": "code",
   "execution_count": null,
   "metadata": {
    "ExecuteTime": {
     "end_time": "2022-09-06T15:17:02.191637Z",
     "start_time": "2022-09-06T15:17:02.173505Z"
    }
   },
   "outputs": [],
   "source": [
    "7**10"
   ]
  },
  {
   "cell_type": "markdown",
   "metadata": {
    "collapsed": true
   },
   "source": [
    "# Anatomy and physiology of a notebook\n",
    "\n",
    "## The cell\n",
    "\n",
    "The **boxes** surrounded by a gray line are called **cells**.\n",
    "\n",
    "A **cell** can have its type changed. By default its type is `Code`, which means Python code. To produce a text such as what you are reading now, you should use the `Markdown` type.\n",
    "\n",
    "**`Code` cell always have a prompt on their left side.**\n",
    "\n",
    "In my notebook, the prompts appear in blue. \n",
    "\n",
    "When the code in a cell is `executed`, a number appears inside the square brackets and the output of the code appears below.\n"
   ]
  },
  {
   "cell_type": "markdown",
   "metadata": {},
   "source": [
    "## Active cells\n",
    "\n",
    "Most actions that you can take in the notebook will act on the cell (or cells) you have selected.  \n",
    "\n",
    "A selected cell can have a blue or a green boundary around it.\n",
    "\n",
    "If the boundary is green, then you are in **cell editing mode.** Anything you type will appear inside the cell.\n",
    "\n",
    "If the boundary is blue, then you are not editing and **the keys you type will be understood as notebook commands.**\n",
    "\n",
    "You can exit cell editing mode by executing the cell or by pressing `Esc`. "
   ]
  },
  {
   "cell_type": "markdown",
   "metadata": {},
   "source": [
    "## Adding notebooks and cells\n",
    "\n",
    "If you start a new notebook... Well let's see how we start a new notebook.\n",
    "\n",
    "Got to the browser tab with `Module_An_Intro_to_Python`.\n",
    "\n",
    "Use the mouse to click the `New` button on the top right.\n",
    "\n",
    "There you have it, a new notebook with a single cell and the title of `Untitled`.\n",
    "\n",
    "If you click the word `Untitled` at the top left you can edit its name.\n",
    "\n",
    ".\n",
    "\n",
    "Anyway, creating cells is very helpful and needed.  Below you will see that one way to create new cells is by executing a cell.  There are two other methods.\n",
    "\n",
    "The first is by clicking the `+` button on the top left.  That is easy but slow and always creates a cell below the cell currently active.\n",
    "\n",
    "The second is by exiting cell editing mode (press `Esc`) and then pressing either `a` or `b` for adding a new cell above or below, respectively, the current one.\n"
   ]
  },
  {
   "cell_type": "code",
   "execution_count": null,
   "metadata": {},
   "outputs": [],
   "source": []
  },
  {
   "cell_type": "markdown",
   "metadata": {},
   "source": [
    "## Writing code inside a cell\n",
    "\n",
    "Each line of code inside a cell is called a **statement**.\n",
    "\n",
    "Statements involved operations with **data**.  You should understand data in a very general manner. Numbers, text, images, and webpages are all examples of data. \n",
    "\n",
    "Because code aims to be general, it is more efficient to give a **name to the place in memory where the data is stored** instead of dealing with the actual data.\n",
    "\n",
    "This is done by initializing a so-called **variable**.  It is good practice to name variables in a manner that makes clear what type of data they are referring to.\n",
    "\n",
    "For example, to store the value of the answer to THE question, one would write:\n"
   ]
  },
  {
   "cell_type": "code",
   "execution_count": null,
   "metadata": {
    "ExecuteTime": {
     "end_time": "2022-09-06T15:33:27.016763Z",
     "start_time": "2022-09-06T15:33:26.996067Z"
    }
   },
   "outputs": [],
   "source": [
    "THE_answer = 42"
   ]
  },
  {
   "cell_type": "markdown",
   "metadata": {},
   "source": [
    "To use its value, we would write:"
   ]
  },
  {
   "cell_type": "code",
   "execution_count": null,
   "metadata": {
    "ExecuteTime": {
     "end_time": "2022-09-06T15:25:46.451352Z",
     "start_time": "2022-09-06T15:25:46.433026Z"
    }
   },
   "outputs": [],
   "source": [
    "THE_answer * 2"
   ]
  },
  {
   "cell_type": "markdown",
   "metadata": {},
   "source": [
    "Statements are executed in the order in which they appear inside the cell unless you use **flow control** commands.  \n",
    "\n",
    "Flow control enables you to \n",
    "\n",
    "* avoid executing some statements, \n",
    "* repeat the execution of some statements,\n",
    "* call for the execution of code stored somewhere else.\n",
    "\n",
    "Sets of statements whose execution is controlled by flow control commands are called **blocks**. \n",
    "\n",
    "Python uses **indentation** (i.e., spaces on the left of your code) to highlight block structures in the code.\n",
    "\n",
    "For example, we can check whether you know THE answer."
   ]
  },
  {
   "cell_type": "code",
   "execution_count": null,
   "metadata": {
    "ExecuteTime": {
     "end_time": "2022-09-06T15:30:29.606648Z",
     "start_time": "2022-09-06T15:30:29.602627Z"
    }
   },
   "outputs": [],
   "source": [
    "your_answer = 12\n",
    "if your_answer == THE_answer:\n",
    "    print('Extraordinary! You know the answer to Life, the Universe, and Everything!')\n",
    "else:\n",
    "    print('Sad! You do not know the answer to Life, the Universe, and Everything!')"
   ]
  },
  {
   "cell_type": "markdown",
   "metadata": {},
   "source": [
    "## Executing code inside of a  cell\n",
    "\n",
    "After we have finished writing whatever we want inside a cell, we need to `execute` it in order for something to happen.  \n",
    "\n",
    "There are three ways to execute -- or run -- a notebook cell:\n",
    "\n",
    "1. Click the `> Run` button at the top (easy to remember but slow)\n",
    "\n",
    "2. Press `Shift + Enter` (this executes the code and jumps to the next cell)\n",
    "\n",
    "\n",
    "3. Press `Ctr + Enter` (this executes the code and adds an empty cell below the cell you just executed)\n",
    "\n",
    "\n",
    "\n",
    "We can determine that a cell has not been executed because there will be no number inside the square brackets on the left side.\n",
    "\n",
    "When a cell has a number to the side that means that the cell has been **executed**.\n",
    "\n",
    "That number also tells you the order that the cell was executed in.\n",
    "\n",
    "As you will see, **cells can and are executed out of the linear order in which they appear in the notebook!**\n",
    "\n",
    ".\n",
    "\n",
    "Try it with the two cells below!"
   ]
  },
  {
   "cell_type": "code",
   "execution_count": null,
   "metadata": {
    "ExecuteTime": {
     "end_time": "2022-09-06T15:35:31.565724Z",
     "start_time": "2022-09-06T15:35:31.553765Z"
    }
   },
   "outputs": [],
   "source": [
    "#Execute me second\n",
    "\n",
    "print(a_number * 2)\n",
    "a_number"
   ]
  },
  {
   "cell_type": "code",
   "execution_count": null,
   "metadata": {
    "ExecuteTime": {
     "end_time": "2022-09-06T15:31:53.313461Z",
     "start_time": "2022-09-06T15:31:53.301752Z"
    }
   },
   "outputs": [],
   "source": [
    "#Execute me first \n",
    "\n",
    "a_number = 5\n",
    "a_number"
   ]
  },
  {
   "cell_type": "markdown",
   "metadata": {},
   "source": [
    "Be aware that once you use a variable name, \n",
    "**it persists across all cells going forward in execution order**."
   ]
  },
  {
   "cell_type": "code",
   "execution_count": null,
   "metadata": {
    "ExecuteTime": {
     "end_time": "2022-09-06T15:32:11.312987Z",
     "start_time": "2022-09-06T15:32:11.298120Z"
    }
   },
   "outputs": [],
   "source": [
    "a = 5\n",
    "a_number * 5"
   ]
  },
  {
   "cell_type": "markdown",
   "metadata": {},
   "source": [
    "When you get deep into writing code and executing cells, at some point it becomes difficult to remember all the variables that you have already used, especially if you delete a cell where the variable was used or defined.\n",
    "\n",
    "At those times it may be useful to execute the command `who`.\n",
    "\n",
    "**This is not a Python command.** It is just one of many commands available in the notebook environment to make a coder's life easier."
   ]
  },
  {
   "cell_type": "code",
   "execution_count": null,
   "metadata": {
    "ExecuteTime": {
     "end_time": "2022-09-06T15:36:20.174098Z",
     "start_time": "2022-09-06T15:36:20.167703Z"
    }
   },
   "outputs": [],
   "source": [
    "who"
   ]
  },
  {
   "cell_type": "code",
   "execution_count": null,
   "metadata": {
    "ExecuteTime": {
     "end_time": "2022-09-06T15:37:01.305454Z",
     "start_time": "2022-09-06T15:37:01.296622Z"
    }
   },
   "outputs": [],
   "source": [
    "a"
   ]
  },
  {
   "cell_type": "code",
   "execution_count": null,
   "metadata": {
    "ExecuteTime": {
     "end_time": "2022-09-06T15:37:15.655084Z",
     "start_time": "2022-09-06T15:37:15.650716Z"
    }
   },
   "outputs": [],
   "source": [
    "del a"
   ]
  },
  {
   "cell_type": "code",
   "execution_count": null,
   "metadata": {
    "ExecuteTime": {
     "end_time": "2022-09-06T15:43:43.814887Z",
     "start_time": "2022-09-06T15:43:43.803279Z"
    }
   },
   "outputs": [],
   "source": [
    "who"
   ]
  },
  {
   "cell_type": "code",
   "execution_count": null,
   "metadata": {
    "ExecuteTime": {
     "end_time": "2022-09-06T15:38:03.138418Z",
     "start_time": "2022-09-06T15:38:03.125697Z"
    }
   },
   "outputs": [],
   "source": [
    "my_number = 3\n",
    "my_number * 5"
   ]
  },
  {
   "cell_type": "markdown",
   "metadata": {
    "collapsed": true
   },
   "source": [
    "# Notebook features\n",
    "\n",
    "## Tab Completion\n",
    "\n",
    "Tab-completion does what it says: when you press \n",
    "\n",
    "> `Tab` \n",
    "\n",
    "it completes what you're typing as if it knows what it is.\n",
    "\n",
    "**Always make use of tab-completion.**  It avoids spelling mistakes and makes it easy to use long, descriptive names for variables and functions. "
   ]
  },
  {
   "cell_type": "code",
   "execution_count": null,
   "metadata": {
    "ExecuteTime": {
     "end_time": "2022-09-06T15:41:13.191443Z",
     "start_time": "2022-09-06T15:41:13.182777Z"
    }
   },
   "outputs": [],
   "source": [
    "n = 3\n",
    "my_number = 3\n",
    "my_number_not = 'hell'"
   ]
  },
  {
   "cell_type": "code",
   "execution_count": null,
   "metadata": {
    "ExecuteTime": {
     "end_time": "2022-09-06T15:41:53.238056Z",
     "start_time": "2022-09-06T15:41:53.226047Z"
    }
   },
   "outputs": [],
   "source": [
    "my_number"
   ]
  },
  {
   "cell_type": "markdown",
   "metadata": {},
   "source": [
    "## FIRST IMPORTANT LESSON\n",
    "\n",
    "Naming variables and functions well will make your life and that of anyone reading your code so so much easier.\n",
    "\n",
    "**Always give descriptive names!** "
   ]
  },
  {
   "cell_type": "code",
   "execution_count": null,
   "metadata": {
    "ExecuteTime": {
     "end_time": "2022-09-06T15:44:27.318725Z",
     "start_time": "2022-09-06T15:44:27.309433Z"
    }
   },
   "outputs": [],
   "source": [
    "my_number"
   ]
  },
  {
   "cell_type": "markdown",
   "metadata": {},
   "source": [
    "**Practice:** \n",
    "\n",
    "Place your cursor at the `__` and press `Tab`"
   ]
  },
  {
   "cell_type": "code",
   "execution_count": null,
   "metadata": {
    "ExecuteTime": {
     "end_time": "2019-01-07T21:13:42.496606Z",
     "start_time": "2019-01-07T21:13:42.489783Z"
    }
   },
   "outputs": [],
   "source": [
    "# Place your cursor after the `_` and press tab\n",
    "\n",
    "a_number\n",
    "\n",
    "# Place your cursor after the `Y` and press tab\n",
    "\n",
    "YouTubeVideo"
   ]
  },
  {
   "cell_type": "markdown",
   "metadata": {},
   "source": [
    "## Helpful documentation\n",
    "\n",
    "You hopefully noticed the lines starting with '#' which are colored green -- I know! Not if you are color blind!  \n",
    "\n",
    "Those lines are **comments**. Their purpose is to provide information to the person reading the code.  \n",
    "\n",
    "Their intent is to help a reader of the code to better understand what is going on.\n",
    "\n",
    "**Commenting should be only used to provide insight into choices made by you or to explain an algorithm.** If should not just repeat what is obvious from reading the code itself. That is, you should not typically provide information on things that are part of standard Python or that were developed by others (unless they are 'words of caution'). For those things, help is always a click away. \n",
    "\n",
    "**Whenever you have a function whose working you are unsure about, you can have the Notebook look it up for you by pressing**\n",
    "\n",
    "> `Shift+Tab` \n",
    "\n",
    "**inside the parentheses.**"
   ]
  },
  {
   "cell_type": "code",
   "execution_count": null,
   "metadata": {
    "ExecuteTime": {
     "end_time": "2022-09-06T15:49:16.721603Z",
     "start_time": "2022-09-06T15:49:16.717343Z"
    }
   },
   "outputs": [],
   "source": [
    "# Place the cursor inside the parentheses and press Shift+Tab\n",
    "\n",
    "print('hello world')"
   ]
  },
  {
   "cell_type": "code",
   "execution_count": null,
   "metadata": {
    "ExecuteTime": {
     "end_time": "2020-01-06T21:20:43.775743Z",
     "start_time": "2020-01-06T21:20:43.767805Z"
    }
   },
   "outputs": [],
   "source": [
    "#Place your cursor after the each of the `(` and press Shift+Tab\n",
    "\n",
    "list(range())"
   ]
  },
  {
   "cell_type": "markdown",
   "metadata": {},
   "source": [
    "## Commenting lines of code \n",
    "\n",
    "When you are writing code, it is sometimes helpful to make some code statements invisible to Python, but not to you.\n"
   ]
  },
  {
   "cell_type": "code",
   "execution_count": null,
   "metadata": {
    "ExecuteTime": {
     "end_time": "2022-09-06T15:51:27.774216Z",
     "start_time": "2022-09-06T15:51:27.765433Z"
    }
   },
   "outputs": [],
   "source": [
    "# Comment each of the first two lines in turn and execute the cell\n",
    "\n",
    "# a_number = 5\n",
    "a_number = 3\n",
    "a_number * 10"
   ]
  },
  {
   "cell_type": "markdown",
   "metadata": {},
   "source": [
    "Doing these things 'by hand' can be cumbersome, especially if you are commenting a lot of lines.  Fortunately, it is quite easy to comment multiple lines. You can just use the mouse to select the lines of interest and then press\n",
    "\n",
    "> `Cmd and /`  (Mac)\n",
    "\n",
    "or \n",
    "\n",
    "> `Ctrl and /` (Windows and Linux)\n",
    "\n",
    "Note that the same key combination can be used to **uncomment** multiple lines."
   ]
  },
  {
   "cell_type": "code",
   "execution_count": null,
   "metadata": {},
   "outputs": [],
   "source": [
    "# Select the two lines below and then press Cmd+/ repeateadly\n",
    "\n",
    "one_variable = 1\n",
    "two_variable = 2"
   ]
  },
  {
   "cell_type": "markdown",
   "metadata": {},
   "source": [
    "## Indenting multiple lines\n",
    "\n",
    "As code gets complex, blocks of code (see above) can occur inside other blocks. As you write your code, **you may change the structure of your program and may need to change the indentation level of multiple lines of code.**\n",
    "\n",
    "You can increase the indentation level of  multiple lines by selecting them and then pressing \n",
    "\n",
    "> `Tab` or `Cmd + ]`.\n",
    "\n",
    "To decrease the indentation level, you press \n",
    "\n",
    "> `Shift+Tab` or `Cmd + [`\n",
    "\n",
    "instead.\n"
   ]
  },
  {
   "cell_type": "code",
   "execution_count": null,
   "metadata": {
    "ExecuteTime": {
     "end_time": "2021-01-11T21:13:29.597559Z",
     "start_time": "2021-01-11T21:13:29.588227Z"
    }
   },
   "outputs": [],
   "source": [
    "# Highlight the two lines below and then press Cmd+] or Cmd+[ repeateadly\n",
    "\n",
    "one_variable = 1\n",
    "one_variable = 2"
   ]
  },
  {
   "cell_type": "markdown",
   "metadata": {},
   "source": [
    "# Finding additional help\n",
    "\n",
    "The notebook has many more commands and key combinations that can be used to do things more efficiently.  \n",
    "\n",
    "I strongly recommend that you learn (and memorize) the ones highlighted above.  There may be, however, other commands and key combinations that you might find useful. \n",
    "\n",
    "To see the list of key combinations just press \n",
    "\n",
    "> `Esc` and then `h`, \n",
    "\n",
    "that will bring up the entire list of keyboard commands.\n",
    "\n",
    "But for now, that's more than enough to get you going. \n",
    "\n",
    "# Let's learn Python!\n",
    "\n",
    "[Next Lesson](nb_02_Simple_Data_Types.ipynb)\n",
    "\n",
    "\n",
    "\n",
    "\n",
    "\n"
   ]
  },
  {
   "cell_type": "code",
   "execution_count": null,
   "metadata": {},
   "outputs": [],
   "source": []
  }
 ],
 "metadata": {
  "anaconda-cloud": {},
  "kernelspec": {
   "display_name": "base",
   "language": "python",
   "name": "base"
  },
  "language_info": {
   "codemirror_mode": {
    "name": "ipython",
    "version": 3
   },
   "file_extension": ".py",
   "mimetype": "text/x-python",
   "name": "python",
   "nbconvert_exporter": "python",
   "pygments_lexer": "ipython3",
   "version": "3.9.12"
  },
  "latex_envs": {
   "LaTeX_envs_menu_present": true,
   "autoclose": false,
   "autocomplete": true,
   "bibliofile": "biblio.bib",
   "cite_by": "apalike",
   "current_citInitial": 1,
   "eqLabelWithNumbers": true,
   "eqNumInitial": 1,
   "hotkeys": {
    "equation": "Ctrl-E",
    "itemize": "Ctrl-I"
   },
   "labels_anchors": false,
   "latex_user_defs": false,
   "report_style_numbering": false,
   "user_envs_cfg": false
  },
  "toc": {
   "base_numbering": 1,
   "nav_menu": {},
   "number_sections": true,
   "sideBar": true,
   "skip_h1_title": false,
   "title_cell": "Table of Contents",
   "title_sidebar": "Contents",
   "toc_cell": false,
   "toc_position": {
    "height": "calc(100% - 180px)",
    "left": "10px",
    "top": "150px",
    "width": "177px"
   },
   "toc_section_display": true,
   "toc_window_display": true
  },
  "varInspector": {
   "cols": {
    "lenName": 16,
    "lenType": 16,
    "lenVar": 40
   },
   "kernels_config": {
    "python": {
     "delete_cmd_postfix": "",
     "delete_cmd_prefix": "del ",
     "library": "var_list.py",
     "varRefreshCmd": "print(var_dic_list())"
    },
    "r": {
     "delete_cmd_postfix": ") ",
     "delete_cmd_prefix": "rm(",
     "library": "var_list.r",
     "varRefreshCmd": "cat(var_dic_list()) "
    }
   },
   "types_to_exclude": [
    "module",
    "function",
    "builtin_function_or_method",
    "instance",
    "_Feature"
   ],
   "window_display": false
  }
 },
 "nbformat": 4,
 "nbformat_minor": 1
}
